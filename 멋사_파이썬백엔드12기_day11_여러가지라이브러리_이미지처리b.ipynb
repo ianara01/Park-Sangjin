{
  "nbformat": 4,
  "nbformat_minor": 0,
  "metadata": {
    "colab": {
      "provenance": [],
      "include_colab_link": true
    },
    "kernelspec": {
      "name": "python3",
      "display_name": "Python 3"
    },
    "language_info": {
      "name": "python"
    }
  },
  "cells": [
    {
      "cell_type": "markdown",
      "metadata": {
        "id": "view-in-github",
        "colab_type": "text"
      },
      "source": [
        "<a href=\"https://colab.research.google.com/github/ianara01/Park-Sangjin/blob/master/%EB%A9%8B%EC%82%AC_%ED%8C%8C%EC%9D%B4%EC%8D%AC%EB%B0%B1%EC%97%94%EB%93%9C12%EA%B8%B0_day11_%EC%97%AC%EB%9F%AC%EA%B0%80%EC%A7%80%EB%9D%BC%EC%9D%B4%EB%B8%8C%EB%9F%AC%EB%A6%AC_%EC%9D%B4%EB%AF%B8%EC%A7%80%EC%B2%98%EB%A6%ACb.ipynb\" target=\"_parent\"><img src=\"https://colab.research.google.com/assets/colab-badge.svg\" alt=\"Open In Colab\"/></a>"
      ]
    },
    {
      "cell_type": "code",
      "execution_count": null,
      "metadata": {
        "id": "tkVKEVJUzyUd"
      },
      "outputs": [],
      "source": [
        "# 리스트, 튜플, 딕셔너리, 셋"
      ]
    },
    {
      "cell_type": "code",
      "source": [
        "a = [2,4,3,1,5]\n",
        "a"
      ],
      "metadata": {
        "colab": {
          "base_uri": "https://localhost:8080/"
        },
        "id": "k14rULT73vK8",
        "outputId": "1588c40c-5bbe-4650-e357-84dc523a413e"
      },
      "execution_count": null,
      "outputs": [
        {
          "output_type": "execute_result",
          "data": {
            "text/plain": [
              "[2, 4, 3, 1, 5]"
            ]
          },
          "metadata": {},
          "execution_count": 1
        }
      ]
    },
    {
      "cell_type": "code",
      "source": [
        "a.append(100)\n",
        "a"
      ],
      "metadata": {
        "colab": {
          "base_uri": "https://localhost:8080/"
        },
        "id": "sC0UJwVT3zQe",
        "outputId": "ea3020c8-28ca-4a46-c22e-b9012860814f"
      },
      "execution_count": null,
      "outputs": [
        {
          "output_type": "execute_result",
          "data": {
            "text/plain": [
              "[2, 4, 3, 1, 5, 100]"
            ]
          },
          "metadata": {},
          "execution_count": 4
        }
      ]
    },
    {
      "cell_type": "code",
      "source": [
        "s = {2,4,3,1,5}\n",
        "s"
      ],
      "metadata": {
        "colab": {
          "base_uri": "https://localhost:8080/"
        },
        "id": "4lcAqPBt3-aj",
        "outputId": "3c0ce7ba-5160-4080-a3e2-655b2b7d6180"
      },
      "execution_count": null,
      "outputs": [
        {
          "output_type": "execute_result",
          "data": {
            "text/plain": [
              "{1, 2, 3, 4, 5}"
            ]
          },
          "metadata": {},
          "execution_count": 5
        }
      ]
    },
    {
      "cell_type": "code",
      "source": [
        "s[0]"
      ],
      "metadata": {
        "colab": {
          "base_uri": "https://localhost:8080/",
          "height": 145
        },
        "id": "2H1bNasz4Bra",
        "outputId": "bcfa9d3c-000f-48d4-e17f-95fe7d050517"
      },
      "execution_count": null,
      "outputs": [
        {
          "output_type": "error",
          "ename": "TypeError",
          "evalue": "'set' object is not subscriptable",
          "traceback": [
            "\u001b[0;31m---------------------------------------------------------------------------\u001b[0m",
            "\u001b[0;31mTypeError\u001b[0m                                 Traceback (most recent call last)",
            "\u001b[0;32m<ipython-input-6-c9c96910e542>\u001b[0m in \u001b[0;36m<cell line: 1>\u001b[0;34m()\u001b[0m\n\u001b[0;32m----> 1\u001b[0;31m \u001b[0ms\u001b[0m\u001b[0;34m[\u001b[0m\u001b[0;36m0\u001b[0m\u001b[0;34m]\u001b[0m\u001b[0;34m\u001b[0m\u001b[0;34m\u001b[0m\u001b[0m\n\u001b[0m",
            "\u001b[0;31mTypeError\u001b[0m: 'set' object is not subscriptable"
          ]
        }
      ]
    },
    {
      "cell_type": "code",
      "source": [
        "d = {2:4, 3:9, 1:1}\n",
        "d"
      ],
      "metadata": {
        "colab": {
          "base_uri": "https://localhost:8080/"
        },
        "id": "AzXYIpsu4NSd",
        "outputId": "9d7e17be-5f20-45d4-fe75-166813562d21"
      },
      "execution_count": null,
      "outputs": [
        {
          "output_type": "execute_result",
          "data": {
            "text/plain": [
              "{2: 4, 3: 9, 1: 1}"
            ]
          },
          "metadata": {},
          "execution_count": 7
        }
      ]
    },
    {
      "cell_type": "code",
      "source": [
        "d[4]=16\n",
        "d"
      ],
      "metadata": {
        "colab": {
          "base_uri": "https://localhost:8080/"
        },
        "id": "JqEiHJLV4TTS",
        "outputId": "d1b343d9-507e-4467-f356-6f62c0afe6a4"
      },
      "execution_count": null,
      "outputs": [
        {
          "output_type": "execute_result",
          "data": {
            "text/plain": [
              "{2: 4, 3: 9, 1: 1, 4: 16}"
            ]
          },
          "metadata": {},
          "execution_count": 8
        }
      ]
    },
    {
      "cell_type": "code",
      "source": [
        "t = (1,2,3,4)\n",
        "t"
      ],
      "metadata": {
        "colab": {
          "base_uri": "https://localhost:8080/"
        },
        "id": "R7NUBqmt4WiV",
        "outputId": "c7c9c094-84dd-4643-d984-e834c481092c"
      },
      "execution_count": null,
      "outputs": [
        {
          "output_type": "execute_result",
          "data": {
            "text/plain": [
              "(1, 2, 3, 4)"
            ]
          },
          "metadata": {},
          "execution_count": 9
        }
      ]
    },
    {
      "cell_type": "code",
      "source": [
        "def somefunc():\n",
        "  return 1, 2, 3\n",
        "\n",
        "somefunc()"
      ],
      "metadata": {
        "colab": {
          "base_uri": "https://localhost:8080/"
        },
        "id": "wj6l62oL5C8S",
        "outputId": "deb9b26a-e70d-4858-f354-b07737375d36"
      },
      "execution_count": null,
      "outputs": [
        {
          "output_type": "execute_result",
          "data": {
            "text/plain": [
              "(1, 2, 3)"
            ]
          },
          "metadata": {},
          "execution_count": 12
        }
      ]
    },
    {
      "cell_type": "code",
      "source": [
        "tt = 1,2,3,4\n",
        "tt"
      ],
      "metadata": {
        "colab": {
          "base_uri": "https://localhost:8080/"
        },
        "id": "hDybv9oc5Tpx",
        "outputId": "a7242d59-a160-4003-e15d-675af4b098a6"
      },
      "execution_count": null,
      "outputs": [
        {
          "output_type": "execute_result",
          "data": {
            "text/plain": [
              "(1, 2, 3, 4)"
            ]
          },
          "metadata": {},
          "execution_count": 13
        }
      ]
    },
    {
      "cell_type": "code",
      "source": [
        "n1 = 1\n",
        "n2 = 2"
      ],
      "metadata": {
        "id": "0DnrHTBe5V5d"
      },
      "execution_count": null,
      "outputs": []
    },
    {
      "cell_type": "code",
      "source": [
        "nn1, nn2 = 1, 2"
      ],
      "metadata": {
        "id": "x_SbJeUE5aa1"
      },
      "execution_count": null,
      "outputs": []
    },
    {
      "cell_type": "code",
      "source": [
        "a = [1, 2, 3, 5]\n",
        "x, *y = a"
      ],
      "metadata": {
        "id": "LSWrl-yX5cQf"
      },
      "execution_count": null,
      "outputs": []
    },
    {
      "cell_type": "code",
      "source": [
        "from collections import namedtuple\n",
        "Point = namedtuple('Point', ['x', 'y'])\n",
        "p = Point(11, 22)\n",
        "print(p.x, p.y)"
      ],
      "metadata": {
        "colab": {
          "base_uri": "https://localhost:8080/"
        },
        "id": "fMT6sRqh51UR",
        "outputId": "a93a95b0-2c1c-48ec-d968-7f40877640e8"
      },
      "execution_count": null,
      "outputs": [
        {
          "output_type": "stream",
          "name": "stdout",
          "text": [
            "11 22\n"
          ]
        }
      ]
    },
    {
      "cell_type": "code",
      "source": [
        "from collections import namedtuple\n",
        "\n",
        "# Employee namedtuple 생성\n",
        "Employee = namedtuple('Employee', ['name', 'age', 'department'])\n",
        "\n",
        "# Employee 객체 생성\n",
        "employee = Employee('John Doe', 30, 'Sales')\n",
        "\n",
        "# 속성 접근\n",
        "print(employee.name)  # John Doe 출력\n",
        "print(employee.age)  # 30 출력\n",
        "print(employee.department)  # Sales 출력\n",
        "\n",
        "# 딕셔너리처럼 사용\n",
        "print(employee._asdict())  # {'name': 'John Doe', 'age': 30, 'department': 'Sales'} 출력\n"
      ],
      "metadata": {
        "colab": {
          "base_uri": "https://localhost:8080/"
        },
        "id": "9dvDpeqD52Q-",
        "outputId": "63c188b9-15f4-44db-fb06-acb2720919e0"
      },
      "execution_count": null,
      "outputs": [
        {
          "output_type": "stream",
          "name": "stdout",
          "text": [
            "John Doe\n",
            "30\n",
            "Sales\n",
            "{'name': 'John Doe', 'age': 30, 'department': 'Sales'}\n"
          ]
        }
      ]
    },
    {
      "cell_type": "code",
      "source": [
        "from collections import deque\n",
        "d = deque([\"task1\", \"task2\", \"task3\"])\n",
        "d.append(\"task4\")\n",
        "print(\"Handling\", d.popleft())"
      ],
      "metadata": {
        "colab": {
          "base_uri": "https://localhost:8080/"
        },
        "id": "JjKU1Cm858tQ",
        "outputId": "90e5dca4-81b5-4423-9147-30400451093e"
      },
      "execution_count": null,
      "outputs": [
        {
          "output_type": "stream",
          "name": "stdout",
          "text": [
            "Handling task1\n"
          ]
        }
      ]
    },
    {
      "cell_type": "code",
      "source": [
        "d"
      ],
      "metadata": {
        "colab": {
          "base_uri": "https://localhost:8080/"
        },
        "id": "atVXKbii6ddN",
        "outputId": "8e4930de-1347-44ba-d5b2-44363f3487d8"
      },
      "execution_count": null,
      "outputs": [
        {
          "output_type": "execute_result",
          "data": {
            "text/plain": [
              "deque(['task2', 'task3', 'task4'])"
            ]
          },
          "metadata": {},
          "execution_count": 22
        }
      ]
    },
    {
      "cell_type": "code",
      "source": [
        "from collections import deque\n",
        "\n",
        "# deque 생성\n",
        "queue = deque()\n",
        "\n",
        "# 데이터 추가\n",
        "queue.append('a')\n",
        "queue.append('b')\n",
        "queue.append('c')\n",
        "\n",
        "# 데이터 추출\n",
        "print(queue.popleft())  # a 출력\n",
        "print(queue.popleft())  # b 출력\n",
        "print(queue.popleft())  # c 출력\n",
        "\n",
        "# 덱 확인\n",
        "print(queue)  # deque([]) 출력"
      ],
      "metadata": {
        "colab": {
          "base_uri": "https://localhost:8080/"
        },
        "id": "pIe_2Ibr6k6u",
        "outputId": "d9bab7a9-949a-42b6-e0c8-d7fd75021319"
      },
      "execution_count": null,
      "outputs": [
        {
          "output_type": "stream",
          "name": "stdout",
          "text": [
            "a\n",
            "b\n",
            "c\n",
            "deque([])\n"
          ]
        }
      ]
    },
    {
      "cell_type": "code",
      "source": [
        "from collections import deque\n",
        "\n",
        "# deque 생성\n",
        "queue = deque([1, 2, 3])\n",
        "\n",
        "# 데이터 추가\n",
        "queue.appendleft(0)\n",
        "queue.append(4)\n",
        "\n",
        "# 데이터 추출\n",
        "print(queue.popleft())  # 0 출력\n",
        "print(queue.pop())  # 4 출력\n",
        "\n",
        "# 덱 확인\n",
        "print(queue)  # deque([1, 2, 3]) 출력"
      ],
      "metadata": {
        "colab": {
          "base_uri": "https://localhost:8080/"
        },
        "id": "2OZSCzxI6mtk",
        "outputId": "1d75c8dc-2ea8-41a0-a94b-fb153d227ce2"
      },
      "execution_count": null,
      "outputs": [
        {
          "output_type": "stream",
          "name": "stdout",
          "text": [
            "0\n",
            "4\n",
            "deque([1, 2, 3])\n"
          ]
        }
      ]
    },
    {
      "cell_type": "code",
      "source": [
        "!lscpu"
      ],
      "metadata": {
        "colab": {
          "base_uri": "https://localhost:8080/"
        },
        "id": "lQcY5ZEx6rg7",
        "outputId": "b64802b5-0246-4edc-ec4f-e537b657fcaf"
      },
      "execution_count": null,
      "outputs": [
        {
          "output_type": "stream",
          "name": "stdout",
          "text": [
            "Architecture:             x86_64\n",
            "  CPU op-mode(s):         32-bit, 64-bit\n",
            "  Address sizes:          46 bits physical, 48 bits virtual\n",
            "  Byte Order:             Little Endian\n",
            "CPU(s):                   2\n",
            "  On-line CPU(s) list:    0,1\n",
            "Vendor ID:                GenuineIntel\n",
            "  Model name:             Intel(R) Xeon(R) CPU @ 2.20GHz\n",
            "    CPU family:           6\n",
            "    Model:                79\n",
            "    Thread(s) per core:   2\n",
            "    Core(s) per socket:   1\n",
            "    Socket(s):            1\n",
            "    Stepping:             0\n",
            "    BogoMIPS:             4399.99\n",
            "    Flags:                fpu vme de pse tsc msr pae mce cx8 apic sep mtrr pge mca cmov pat pse36 cl\n",
            "                          flush mmx fxsr sse sse2 ss ht syscall nx pdpe1gb rdtscp lm constant_tsc re\n",
            "                          p_good nopl xtopology nonstop_tsc cpuid tsc_known_freq pni pclmulqdq ssse3\n",
            "                           fma cx16 pcid sse4_1 sse4_2 x2apic movbe popcnt aes xsave avx f16c rdrand\n",
            "                           hypervisor lahf_lm abm 3dnowprefetch invpcid_single ssbd ibrs ibpb stibp \n",
            "                          fsgsbase tsc_adjust bmi1 hle avx2 smep bmi2 erms invpcid rtm rdseed adx sm\n",
            "                          ap xsaveopt arat md_clear arch_capabilities\n",
            "Virtualization features:  \n",
            "  Hypervisor vendor:      KVM\n",
            "  Virtualization type:    full\n",
            "Caches (sum of all):      \n",
            "  L1d:                    32 KiB (1 instance)\n",
            "  L1i:                    32 KiB (1 instance)\n",
            "  L2:                     256 KiB (1 instance)\n",
            "  L3:                     55 MiB (1 instance)\n",
            "NUMA:                     \n",
            "  NUMA node(s):           1\n",
            "  NUMA node0 CPU(s):      0,1\n",
            "Vulnerabilities:          \n",
            "  Gather data sampling:   Not affected\n",
            "  Itlb multihit:          Not affected\n",
            "  L1tf:                   Mitigation; PTE Inversion\n",
            "  Mds:                    Vulnerable; SMT Host state unknown\n",
            "  Meltdown:               Vulnerable\n",
            "  Mmio stale data:        Vulnerable\n",
            "  Reg file data sampling: Not affected\n",
            "  Retbleed:               Vulnerable\n",
            "  Spec rstack overflow:   Not affected\n",
            "  Spec store bypass:      Vulnerable\n",
            "  Spectre v1:             Vulnerable: __user pointer sanitization and usercopy barriers only; no swa\n",
            "                          pgs barriers\n",
            "  Spectre v2:             Vulnerable; IBPB: disabled; STIBP: disabled; PBRSB-eIBRS: Not affected; BH\n",
            "                          I: Vulnerable (Syscall hardening enabled)\n",
            "  Srbds:                  Not affected\n",
            "  Tsx async abort:        Vulnerable\n"
          ]
        }
      ]
    },
    {
      "cell_type": "code",
      "source": [
        "from multiprocessing import Process\n",
        "\n",
        "def process_function():\n",
        "    print(\"프로세스 실행 중\")\n",
        "\n",
        "if __name__ == '__main__':\n",
        "    process = Process(target=process_function)\n",
        "    process.start()\n",
        "    process.join()  # 프로세스가 종료될 때까지 기다림\n",
        "    print(\"main process\")"
      ],
      "metadata": {
        "colab": {
          "base_uri": "https://localhost:8080/"
        },
        "id": "8q77XDYT7a10",
        "outputId": "337e42b2-417b-4ace-acef-67b8da0a0c4d"
      },
      "execution_count": null,
      "outputs": [
        {
          "output_type": "stream",
          "name": "stdout",
          "text": [
            "프로세스 실행 중\n",
            "main process\n"
          ]
        }
      ]
    },
    {
      "cell_type": "code",
      "source": [
        "from multiprocessing import Process\n",
        "\n",
        "def work(id):\n",
        "    print(f\"Process {id} working...\")\n",
        "\n",
        "if __name__ == '__main__':\n",
        "    processes = [Process(target=work, args=(i,)) for i in range(2)]\n",
        "\n",
        "    for p in processes:\n",
        "        p.start()\n",
        "\n",
        "    for p in processes:\n",
        "        p.join()"
      ],
      "metadata": {
        "colab": {
          "base_uri": "https://localhost:8080/"
        },
        "id": "FSzGmPnn9ECw",
        "outputId": "793d60a3-ce99-42b2-827f-861d387ba34f"
      },
      "execution_count": null,
      "outputs": [
        {
          "output_type": "stream",
          "name": "stdout",
          "text": [
            "Process 0 working...\n",
            "Process 1 working...\n"
          ]
        }
      ]
    },
    {
      "cell_type": "code",
      "source": [
        "[Process(target=work, args=(i,)) for i in range(2)]"
      ],
      "metadata": {
        "colab": {
          "base_uri": "https://localhost:8080/"
        },
        "id": "WWROPcps9Ppn",
        "outputId": "2a5b4912-0360-4236-cf97-2496e647cc12"
      },
      "execution_count": null,
      "outputs": [
        {
          "output_type": "execute_result",
          "data": {
            "text/plain": [
              "[0, 1]"
            ]
          },
          "metadata": {},
          "execution_count": 29
        }
      ]
    },
    {
      "cell_type": "code",
      "source": [
        "t = (1, 2)\n",
        "t"
      ],
      "metadata": {
        "colab": {
          "base_uri": "https://localhost:8080/"
        },
        "id": "3IeMHDwG9c2m",
        "outputId": "ca097fa8-1996-4581-9fd7-2535672943c8"
      },
      "execution_count": null,
      "outputs": [
        {
          "output_type": "execute_result",
          "data": {
            "text/plain": [
              "(1, 2)"
            ]
          },
          "metadata": {},
          "execution_count": 33
        }
      ]
    },
    {
      "cell_type": "code",
      "source": [
        "tt = (1,)"
      ],
      "metadata": {
        "id": "uvJuoGwA9eTV"
      },
      "execution_count": null,
      "outputs": []
    },
    {
      "cell_type": "code",
      "source": [
        "tt"
      ],
      "metadata": {
        "colab": {
          "base_uri": "https://localhost:8080/"
        },
        "id": "PVCfI4mn9urp",
        "outputId": "efcdb746-e508-44bc-9bb0-f3f5a8595384"
      },
      "execution_count": null,
      "outputs": [
        {
          "output_type": "execute_result",
          "data": {
            "text/plain": [
              "(1,)"
            ]
          },
          "metadata": {},
          "execution_count": 38
        }
      ]
    },
    {
      "cell_type": "code",
      "source": [
        "type(tt)"
      ],
      "metadata": {
        "colab": {
          "base_uri": "https://localhost:8080/"
        },
        "id": "BObgY-MI9gqe",
        "outputId": "c323501f-61ec-4500-bfaa-429efc4a3511"
      },
      "execution_count": null,
      "outputs": [
        {
          "output_type": "execute_result",
          "data": {
            "text/plain": [
              "tuple"
            ]
          },
          "metadata": {},
          "execution_count": 39
        }
      ]
    },
    {
      "cell_type": "code",
      "source": [
        "from multiprocessing import Process, Value, Array\n",
        "\n",
        "def add_one(number, array):\n",
        "    number.value += 1\n",
        "    for i in range(len(array)):\n",
        "        array[i] += 1\n",
        "\n",
        "if __name__ == '__main__':\n",
        "    number = Value('i', 0)\n",
        "    array = Array('i', range(5))\n",
        "\n",
        "    processes = [Process(target=add_one, args=(number, array)) for _ in range(10)]\n",
        "\n",
        "    for p in processes:\n",
        "        p.start()\n",
        "\n",
        "    for p in processes:\n",
        "        p.join()\n",
        "\n",
        "    print(f\"Number: {number.value}\")\n",
        "    print(f\"Array: {list(array)}\")"
      ],
      "metadata": {
        "colab": {
          "base_uri": "https://localhost:8080/"
        },
        "id": "EWJDC3DN-fc6",
        "outputId": "581c2444-a147-4300-c4af-428d91ee32a4"
      },
      "execution_count": null,
      "outputs": [
        {
          "output_type": "stream",
          "name": "stdout",
          "text": [
            "Number: 10\n",
            "Array: [10, 11, 12, 13, 14]\n"
          ]
        }
      ]
    },
    {
      "cell_type": "code",
      "source": [
        "from multiprocessing import Pool\n",
        "\n",
        "def square(n):\n",
        "    return n * n\n",
        "\n",
        "if __name__ == '__main__':\n",
        "    with Pool(4) as p:\n",
        "        results = p.map(square, range(10))\n",
        "    print(results)"
      ],
      "metadata": {
        "colab": {
          "base_uri": "https://localhost:8080/"
        },
        "id": "JOqBYWXo-rSE",
        "outputId": "42dc6c6e-2b78-40b0-f343-0d1e6528a3a8"
      },
      "execution_count": null,
      "outputs": [
        {
          "output_type": "stream",
          "name": "stdout",
          "text": [
            "[0, 1, 4, 9, 16, 25, 36, 49, 64, 81]\n"
          ]
        }
      ]
    },
    {
      "cell_type": "markdown",
      "source": [
        "pickle"
      ],
      "metadata": {
        "id": "KOLtVAPNEO1M"
      }
    },
    {
      "cell_type": "code",
      "source": [
        "import pickle\n",
        "\n",
        "data = {'a': [1, 2.0, 3, 4+6j],\n",
        "        'b': (\"character string\", b\"byte string\"),\n",
        "        'c': {None, True, False}}\n",
        "\n",
        "with open('data.pickle', 'wb') as f:\n",
        "    pickle.dump(data, f)"
      ],
      "metadata": {
        "id": "TDp8Mz_oEN90"
      },
      "execution_count": null,
      "outputs": []
    },
    {
      "cell_type": "code",
      "source": [
        "with open('data.pickle', 'rb') as f:\n",
        "    loaded_data = pickle.load(f)"
      ],
      "metadata": {
        "id": "1PQNAbADEsiG"
      },
      "execution_count": null,
      "outputs": []
    },
    {
      "cell_type": "code",
      "source": [
        "loaded_data"
      ],
      "metadata": {
        "colab": {
          "base_uri": "https://localhost:8080/"
        },
        "id": "qmiLew_rEzZE",
        "outputId": "438b2bae-c3e6-4b9a-f2ac-250d5ab8202d"
      },
      "execution_count": null,
      "outputs": [
        {
          "output_type": "execute_result",
          "data": {
            "text/plain": [
              "{'a': [1, 2.0, 3, (4+6j)],\n",
              " 'b': ('character string', b'byte string'),\n",
              " 'c': {False, None, True}}"
            ]
          },
          "metadata": {},
          "execution_count": 48
        }
      ]
    },
    {
      "cell_type": "code",
      "source": [
        "# txt\n",
        "with open(\"new.txt\", 'w') as f:\n",
        "  f.write(\"hello\")\n",
        "with open(\"new.txt\", 'r') as f:\n",
        "  content = f.read()\n",
        "content"
      ],
      "metadata": {
        "colab": {
          "base_uri": "https://localhost:8080/",
          "height": 35
        },
        "id": "b5JBMAvYFBca",
        "outputId": "7f5148e8-e408-483c-9e7d-7e12487917a4"
      },
      "execution_count": null,
      "outputs": [
        {
          "output_type": "execute_result",
          "data": {
            "text/plain": [
              "'hello'"
            ],
            "application/vnd.google.colaboratory.intrinsic+json": {
              "type": "string"
            }
          },
          "metadata": {},
          "execution_count": 49
        }
      ]
    },
    {
      "cell_type": "code",
      "source": [
        "# json\n",
        "import json\n",
        "data = {1:1, 2:2}\n",
        "with open(\"new.json\", \"w\") as f:\n",
        "  json.dump(data, f)"
      ],
      "metadata": {
        "id": "2UvXrZQAFPt5"
      },
      "execution_count": null,
      "outputs": []
    },
    {
      "cell_type": "code",
      "source": [
        "with open(\"new.json\", \"r\") as f:\n",
        "  json_content = json.load(f)\n",
        "json_content"
      ],
      "metadata": {
        "colab": {
          "base_uri": "https://localhost:8080/"
        },
        "id": "8bYtJnynFsHP",
        "outputId": "6233e2a6-b6d1-4124-d97f-d5c534e09375"
      },
      "execution_count": null,
      "outputs": [
        {
          "output_type": "execute_result",
          "data": {
            "text/plain": [
              "{'1': 1, '2': 2}"
            ]
          },
          "metadata": {},
          "execution_count": 55
        }
      ]
    },
    {
      "cell_type": "markdown",
      "source": [
        "# pickle 실습\n",
        "- 10:40까지\n",
        "- 디스코드에 체크해 주세요\n",
        "1. 사용자의 프로필 정보(이름, 나이, 이메일)를 담은 딕셔너리를 **`pickle`**을 사용하여 파일에 저장하고, 다시 로드하는 프로그램을 작성하세요.\n",
        "2. 여러 개의 사용자 정보를 담은 리스트를 **`pickle`**로 파일에 저장하고, 파일에서 로드한 후, 특정 조건(예: 나이가 30 이상인 사용자)에 맞는 사용자만 필터링하는 프로그램을 작성하세요."
      ],
      "metadata": {
        "id": "FI_B4y_BGa8J"
      }
    },
    {
      "cell_type": "code",
      "source": [
        "# 1. 사용자의 프로필 정보(이름, 나이, 이메일)를 담은 딕셔너리를 pickle을 사용하여 파일에 저장하고, 다시 로드하는 프로그램을 작성하세요.\n",
        "profile = {\"name\":\"일론머스크\", \"age\":25, \"email\":\"a@a.net\"}"
      ],
      "metadata": {
        "id": "SEZzDaA-F3GD"
      },
      "execution_count": null,
      "outputs": []
    },
    {
      "cell_type": "code",
      "source": [
        "with open(\"profile.pickle\", \"wb\") as f:\n",
        "  pickle.dump(profile, f)"
      ],
      "metadata": {
        "id": "FSDQ-s8fL3Te"
      },
      "execution_count": null,
      "outputs": []
    },
    {
      "cell_type": "code",
      "source": [
        "with open(\"profile.pickle\", \"rb\") as f:\n",
        "  loaded_profile = pickle.load(f)"
      ],
      "metadata": {
        "id": "8_L92tpnMI0e"
      },
      "execution_count": null,
      "outputs": []
    },
    {
      "cell_type": "code",
      "source": [
        "loaded_profile"
      ],
      "metadata": {
        "colab": {
          "base_uri": "https://localhost:8080/"
        },
        "id": "kcc2sgNkMNHl",
        "outputId": "598b3909-2f9d-4239-d745-778db750e6e8"
      },
      "execution_count": null,
      "outputs": [
        {
          "output_type": "execute_result",
          "data": {
            "text/plain": [
              "{'name': '일론머스크', 'age': 25, 'email': 'a@a.net'}"
            ]
          },
          "metadata": {},
          "execution_count": 60
        }
      ]
    },
    {
      "cell_type": "code",
      "source": [
        "# 2. 여러 개의 사용자 정보를 담은 리스트를\n",
        "# pickle로 파일에 저장하고,\n",
        "# 파일에서 로드한 후,\n",
        "# 특정 조건(예: 나이가 30 이상인 사용자)에 맞는 사용자만 필터링하는 프로그램을 작성하세요."
      ],
      "metadata": {
        "id": "GdyY1K1eMQXf"
      },
      "execution_count": null,
      "outputs": []
    },
    {
      "cell_type": "code",
      "source": [
        "profiles = people = [\n",
        "    {'name': '일론머스크', 'age': 25, 'email': 'a@a.net'},\n",
        "    {'name': '김민준', 'age': 28, 'email': 'minjun@gmail.com'},\n",
        "    {'name': '이서연', 'age': 23, 'email': 'seoyeon@naver.com'},\n",
        "    {'name': '박지훈', 'age': 31, 'email': 'jihoon@daum.net'},\n",
        "    {'name': '최유진', 'age': 27, 'email': 'yujin@gmail.com'},\n",
        "    {'name': '정현우', 'age': 29, 'email': 'hyunwoo@naver.com'},\n",
        "    {'name': '강수빈', 'age': 24, 'email': 'subin@gmail.com'},\n",
        "    {'name': '윤도현', 'age': 33, 'email': 'dohyun@daum.net'},\n",
        "    {'name': '임지안', 'age': 26, 'email': 'jian@naver.com'},\n",
        "    {'name': '한소민', 'age': 30, 'email': 'somin@gmail.com'},\n",
        "    {'name': '송태양', 'age': 22, 'email': 'taeyang@daum.net'},\n",
        "    {'name': '오하늘', 'age': 28, 'email': 'hanuel@gmail.com'},\n",
        "    {'name': '서준호', 'age': 32, 'email': 'junho@naver.com'},\n",
        "    {'name': '권민서', 'age': 25, 'email': 'minseo@gmail.com'},\n",
        "    {'name': '황지민', 'age': 29, 'email': 'jimin@daum.net'},\n",
        "    {'name': '신예은', 'age': 27, 'email': 'yeeun@naver.com'},\n",
        "    {'name': '류동훈', 'age': 34, 'email': 'donghun@gmail.com'},\n",
        "    {'name': '남혜원', 'age': 24, 'email': 'hyewon@daum.net'},\n",
        "    {'name': '문승현', 'age': 31, 'email': 'seunghyun@naver.com'},\n",
        "    {'name': '배지우', 'age': 26, 'email': 'jiwoo@gmail.com'},\n",
        "    {'name': '조하린', 'age': 28, 'email': 'harin@daum.net'},\n",
        "    {'name': '구민재', 'age': 33, 'email': 'minjae@naver.com'},\n",
        "    {'name': '안서진', 'age': 25, 'email': 'seojin@gmail.com'},\n",
        "    {'name': '홍유찬', 'age': 30, 'email': 'yuchan@daum.net'},\n",
        "    {'name': '양지성', 'age': 27, 'email': 'jisung@naver.com'},\n",
        "    {'name': '백서아', 'age': 29, 'email': 'seoa@gmail.com'},\n",
        "    {'name': '천민규', 'age': 32, 'email': 'mingyu@daum.net'},\n",
        "    {'name': '노하진', 'age': 24, 'email': 'hajin@naver.com'},\n",
        "    {'name': '곽승윤', 'age': 28, 'email': 'seungyun@gmail.com'},\n",
        "    {'name': '유시우', 'age': 26, 'email': 'siwoo@daum.net'}\n",
        "]"
      ],
      "metadata": {
        "id": "6iguTo1iMZlz"
      },
      "execution_count": null,
      "outputs": []
    },
    {
      "cell_type": "code",
      "source": [
        "with open(\"profiles.pickle\", \"wb\") as f:\n",
        "  pickle.dump(profiles, f)"
      ],
      "metadata": {
        "id": "6lOH0xprM1F2"
      },
      "execution_count": null,
      "outputs": []
    },
    {
      "cell_type": "code",
      "source": [
        "with open(\"profiles.pickle\", \"rb\") as f:\n",
        "  loaded_profiles = pickle.load(f)\n"
      ],
      "metadata": {
        "id": "zOm4xMPeNApp"
      },
      "execution_count": null,
      "outputs": []
    },
    {
      "cell_type": "code",
      "source": [
        "# 특정 조건(예: 나이가 30 이상인 사용자)에 맞는 사용자만 필터링하는 프로그램을 작성하세요.\n",
        "output = list(filter(lambda x : x['age']>=30,loaded_profiles ))"
      ],
      "metadata": {
        "id": "uEnl5V62NOFU"
      },
      "execution_count": null,
      "outputs": []
    },
    {
      "cell_type": "code",
      "source": [
        "output"
      ],
      "metadata": {
        "colab": {
          "base_uri": "https://localhost:8080/"
        },
        "id": "xDPbsubJOb3p",
        "outputId": "55c689b9-3bf7-4005-8429-cafac0879a75"
      },
      "execution_count": null,
      "outputs": [
        {
          "output_type": "execute_result",
          "data": {
            "text/plain": [
              "[{'name': '박지훈', 'age': 31, 'email': 'jihoon@daum.net'},\n",
              " {'name': '윤도현', 'age': 33, 'email': 'dohyun@daum.net'},\n",
              " {'name': '한소민', 'age': 30, 'email': 'somin@gmail.com'},\n",
              " {'name': '서준호', 'age': 32, 'email': 'junho@naver.com'},\n",
              " {'name': '류동훈', 'age': 34, 'email': 'donghun@gmail.com'},\n",
              " {'name': '문승현', 'age': 31, 'email': 'seunghyun@naver.com'},\n",
              " {'name': '구민재', 'age': 33, 'email': 'minjae@naver.com'},\n",
              " {'name': '홍유찬', 'age': 30, 'email': 'yuchan@daum.net'},\n",
              " {'name': '천민규', 'age': 32, 'email': 'mingyu@daum.net'}]"
            ]
          },
          "metadata": {},
          "execution_count": 73
        }
      ]
    },
    {
      "cell_type": "code",
      "source": [
        "# map\n",
        "list(map(lambda x : x['age'], loaded_profiles ))"
      ],
      "metadata": {
        "colab": {
          "base_uri": "https://localhost:8080/"
        },
        "collapsed": true,
        "id": "JnFAYngCNPHp",
        "outputId": "b96b0882-dbe6-49d5-e2a0-9b5159bc9614"
      },
      "execution_count": null,
      "outputs": [
        {
          "output_type": "execute_result",
          "data": {
            "text/plain": [
              "[25,\n",
              " 28,\n",
              " 23,\n",
              " 31,\n",
              " 27,\n",
              " 29,\n",
              " 24,\n",
              " 33,\n",
              " 26,\n",
              " 30,\n",
              " 22,\n",
              " 28,\n",
              " 32,\n",
              " 25,\n",
              " 29,\n",
              " 27,\n",
              " 34,\n",
              " 24,\n",
              " 31,\n",
              " 26,\n",
              " 28,\n",
              " 33,\n",
              " 25,\n",
              " 30,\n",
              " 27,\n",
              " 29,\n",
              " 32,\n",
              " 24,\n",
              " 28,\n",
              " 26]"
            ]
          },
          "metadata": {},
          "execution_count": 69
        }
      ]
    },
    {
      "cell_type": "code",
      "source": [
        "# filter\n",
        "list(filter(lambda x : x['age']>=30,loaded_profiles ))"
      ],
      "metadata": {
        "colab": {
          "base_uri": "https://localhost:8080/"
        },
        "id": "Zk8061fsNVTN",
        "outputId": "96e34618-9529-4fb0-9469-c378fe4c43fc"
      },
      "execution_count": null,
      "outputs": [
        {
          "output_type": "execute_result",
          "data": {
            "text/plain": [
              "[{'name': '박지훈', 'age': 31, 'email': 'jihoon@daum.net'},\n",
              " {'name': '윤도현', 'age': 33, 'email': 'dohyun@daum.net'},\n",
              " {'name': '한소민', 'age': 30, 'email': 'somin@gmail.com'},\n",
              " {'name': '서준호', 'age': 32, 'email': 'junho@naver.com'},\n",
              " {'name': '류동훈', 'age': 34, 'email': 'donghun@gmail.com'},\n",
              " {'name': '문승현', 'age': 31, 'email': 'seunghyun@naver.com'},\n",
              " {'name': '구민재', 'age': 33, 'email': 'minjae@naver.com'},\n",
              " {'name': '홍유찬', 'age': 30, 'email': 'yuchan@daum.net'},\n",
              " {'name': '천민규', 'age': 32, 'email': 'mingyu@daum.net'}]"
            ]
          },
          "metadata": {},
          "execution_count": 71
        }
      ]
    },
    {
      "cell_type": "markdown",
      "source": [
        "# 고객관리 클래스"
      ],
      "metadata": {
        "id": "fUkJmWHgOoSQ"
      }
    },
    {
      "cell_type": "code",
      "source": [
        "class Customer:\n",
        "  def __init__(self):\n",
        "    self.profiles = []\n",
        "\n",
        "  def add_profile(self, data):\n",
        "    self.profiles.append(data)\n",
        "    self.save_profile()\n",
        "\n",
        "  def save_profile(self):\n",
        "    with open(\"customer_profile.pickle\", \"wb\") as f:\n",
        "      pickle.dump(self.profiles,f)\n",
        "\n",
        "  def load_profile(self):\n",
        "    with open(\"customer_profile.pickle\", \"rb\") as f:\n",
        "      self.profiles = pickle.load(f)\n",
        "\n",
        "  def age_filter_profile(self, age ):\n",
        "    return list(filter(lambda x : x['age']>=age,self.profiles ))"
      ],
      "metadata": {
        "id": "368ahkPoOsxA"
      },
      "execution_count": null,
      "outputs": []
    },
    {
      "cell_type": "code",
      "source": [
        "c = Customer()"
      ],
      "metadata": {
        "id": "7qbZJ5tlSIzt"
      },
      "execution_count": null,
      "outputs": []
    },
    {
      "cell_type": "code",
      "source": [
        "c.load_profile()"
      ],
      "metadata": {
        "id": "FzG4Tx9pSLEo"
      },
      "execution_count": null,
      "outputs": []
    },
    {
      "cell_type": "code",
      "source": [
        "c.profiles"
      ],
      "metadata": {
        "colab": {
          "base_uri": "https://localhost:8080/"
        },
        "id": "DtCkjm_fTYK4",
        "outputId": "e896ab75-f4f7-4557-b250-e6986d60b718"
      },
      "execution_count": null,
      "outputs": [
        {
          "output_type": "execute_result",
          "data": {
            "text/plain": [
              "[{'name': '천민규', 'age': 32, 'email': 'mingyu@daum.net'},\n",
              " {'name': '일론머스크', 'age': 25, 'email': 'a@a.net'},\n",
              " {'name': '김민준', 'age': 28, 'email': 'minjun@gmail.com'},\n",
              " {'name': '이서연', 'age': 23, 'email': 'seoyeon@naver.com'},\n",
              " {'name': '박지훈', 'age': 31, 'email': 'jihoon@daum.net'},\n",
              " {'name': '최유진', 'age': 27, 'email': 'yujin@gmail.com'},\n",
              " {'name': '정현우', 'age': 29, 'email': 'hyunwoo@naver.com'},\n",
              " {'name': '강수빈', 'age': 24, 'email': 'subin@gmail.com'},\n",
              " {'name': '윤도현', 'age': 33, 'email': 'dohyun@daum.net'},\n",
              " {'name': '임지안', 'age': 26, 'email': 'jian@naver.com'},\n",
              " {'name': '한소민', 'age': 30, 'email': 'somin@gmail.com'},\n",
              " {'name': '송태양', 'age': 22, 'email': 'taeyang@daum.net'},\n",
              " {'name': '오하늘', 'age': 28, 'email': 'hanuel@gmail.com'},\n",
              " {'name': '서준호', 'age': 32, 'email': 'junho@naver.com'},\n",
              " {'name': '권민서', 'age': 25, 'email': 'minseo@gmail.com'},\n",
              " {'name': '황지민', 'age': 29, 'email': 'jimin@daum.net'},\n",
              " {'name': '신예은', 'age': 27, 'email': 'yeeun@naver.com'},\n",
              " {'name': '류동훈', 'age': 34, 'email': 'donghun@gmail.com'},\n",
              " {'name': '남혜원', 'age': 24, 'email': 'hyewon@daum.net'},\n",
              " {'name': '문승현', 'age': 31, 'email': 'seunghyun@naver.com'},\n",
              " {'name': '배지우', 'age': 26, 'email': 'jiwoo@gmail.com'},\n",
              " {'name': '조하린', 'age': 28, 'email': 'harin@daum.net'},\n",
              " {'name': '구민재', 'age': 33, 'email': 'minjae@naver.com'},\n",
              " {'name': '안서진', 'age': 25, 'email': 'seojin@gmail.com'},\n",
              " {'name': '홍유찬', 'age': 30, 'email': 'yuchan@daum.net'},\n",
              " {'name': '양지성', 'age': 27, 'email': 'jisung@naver.com'},\n",
              " {'name': '백서아', 'age': 29, 'email': 'seoa@gmail.com'},\n",
              " {'name': '천민규', 'age': 32, 'email': 'mingyu@daum.net'},\n",
              " {'name': '노하진', 'age': 24, 'email': 'hajin@naver.com'},\n",
              " {'name': '곽승윤', 'age': 28, 'email': 'seungyun@gmail.com'},\n",
              " {'name': '유시우', 'age': 26, 'email': 'siwoo@daum.net'}]"
            ]
          },
          "metadata": {},
          "execution_count": 30
        }
      ]
    },
    {
      "cell_type": "code",
      "source": [
        "c.age_filter_profile(33)"
      ],
      "metadata": {
        "colab": {
          "base_uri": "https://localhost:8080/"
        },
        "id": "pThkpzoDUFh7",
        "outputId": "b9dcab05-9ffd-4b0d-c503-24844c0c3139"
      },
      "execution_count": null,
      "outputs": [
        {
          "output_type": "execute_result",
          "data": {
            "text/plain": [
              "[]"
            ]
          },
          "metadata": {},
          "execution_count": 13
        }
      ]
    },
    {
      "cell_type": "code",
      "source": [
        "for p in profiles:\n",
        "  c.add_profile(p)"
      ],
      "metadata": {
        "id": "k6U_fwtMUPFx"
      },
      "execution_count": null,
      "outputs": []
    },
    {
      "cell_type": "code",
      "source": [
        "c.age_filter_profile(32)"
      ],
      "metadata": {
        "colab": {
          "base_uri": "https://localhost:8080/"
        },
        "id": "zlHRnN3BUdPg",
        "outputId": "206690ef-727a-4035-c4b4-7c6eb8e4d532"
      },
      "execution_count": null,
      "outputs": [
        {
          "output_type": "execute_result",
          "data": {
            "text/plain": [
              "[{'name': '천민규', 'age': 32, 'email': 'mingyu@daum.net'},\n",
              " {'name': '윤도현', 'age': 33, 'email': 'dohyun@daum.net'},\n",
              " {'name': '서준호', 'age': 32, 'email': 'junho@naver.com'},\n",
              " {'name': '류동훈', 'age': 34, 'email': 'donghun@gmail.com'},\n",
              " {'name': '구민재', 'age': 33, 'email': 'minjae@naver.com'},\n",
              " {'name': '천민규', 'age': 32, 'email': 'mingyu@daum.net'}]"
            ]
          },
          "metadata": {},
          "execution_count": 21
        }
      ]
    }
  ]
}