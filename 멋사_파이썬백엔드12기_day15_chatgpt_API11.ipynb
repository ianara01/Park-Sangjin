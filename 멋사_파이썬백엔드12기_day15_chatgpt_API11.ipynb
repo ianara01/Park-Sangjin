{
  "nbformat": 4,
  "nbformat_minor": 0,
  "metadata": {
    "colab": {
      "provenance": [],
      "include_colab_link": true
    },
    "kernelspec": {
      "name": "python3",
      "display_name": "Python 3"
    },
    "language_info": {
      "name": "python"
    }
  },
  "cells": [
    {
      "cell_type": "markdown",
      "metadata": {
        "id": "view-in-github",
        "colab_type": "text"
      },
      "source": [
        "<a href=\"https://colab.research.google.com/github/ianara01/Park-Sangjin/blob/master/%EB%A9%8B%EC%82%AC_%ED%8C%8C%EC%9D%B4%EC%8D%AC%EB%B0%B1%EC%97%94%EB%93%9C12%EA%B8%B0_day15_chatgpt_API11.ipynb\" target=\"_parent\"><img src=\"https://colab.research.google.com/assets/colab-badge.svg\" alt=\"Open In Colab\"/></a>"
      ]
    },
    {
      "cell_type": "code",
      "source": [
        "from google.colab import userdata\n",
        "openai_api_key=userdata.get('OPENAI_API_KEY')"
      ],
      "metadata": {
        "id": "OAaIh-paHjSD"
      },
      "execution_count": null,
      "outputs": []
    },
    {
      "cell_type": "markdown",
      "source": [
        "# 1:20까지 미니프로젝트 올려주세요\n",
        "- streamlit site 주소와 github 레포 주소를 공유해 주세요!"
      ],
      "metadata": {
        "id": "7oGMCv1zvXYq"
      }
    },
    {
      "cell_type": "code",
      "source": [],
      "metadata": {
        "id": "gGsicXsuvexo"
      },
      "execution_count": null,
      "outputs": []
    }
  ]
}