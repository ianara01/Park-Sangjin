{
  "nbformat": 4,
  "nbformat_minor": 0,
  "metadata": {
    "colab": {
      "provenance": [],
      "include_colab_link": true
    },
    "kernelspec": {
      "name": "python3",
      "display_name": "Python 3"
    },
    "language_info": {
      "name": "python"
    },
    "widgets": {
      "application/vnd.jupyter.widget-state+json": {
        "fbb70e7bcffa44228cbc839cb9a485e7": {
          "model_module": "@jupyter-widgets/controls",
          "model_name": "HBoxModel",
          "model_module_version": "1.5.0",
          "state": {
            "_dom_classes": [],
            "_model_module": "@jupyter-widgets/controls",
            "_model_module_version": "1.5.0",
            "_model_name": "HBoxModel",
            "_view_count": null,
            "_view_module": "@jupyter-widgets/controls",
            "_view_module_version": "1.5.0",
            "_view_name": "HBoxView",
            "box_style": "",
            "children": [
              "IPY_MODEL_972096d2ac84439f9964ea2ed65a0d58",
              "IPY_MODEL_155a963dbe43428580dd4171a5f0f5ce",
              "IPY_MODEL_f7a3f53b86e547ecaf8730c8826cb039"
            ],
            "layout": "IPY_MODEL_f84028ed336c4cf6b5868b01804255b2"
          }
        },
        "972096d2ac84439f9964ea2ed65a0d58": {
          "model_module": "@jupyter-widgets/controls",
          "model_name": "HTMLModel",
          "model_module_version": "1.5.0",
          "state": {
            "_dom_classes": [],
            "_model_module": "@jupyter-widgets/controls",
            "_model_module_version": "1.5.0",
            "_model_name": "HTMLModel",
            "_view_count": null,
            "_view_module": "@jupyter-widgets/controls",
            "_view_module_version": "1.5.0",
            "_view_name": "HTMLView",
            "description": "",
            "description_tooltip": null,
            "layout": "IPY_MODEL_3f31c1fe30824e139fb2223310f4bf22",
            "placeholder": "​",
            "style": "IPY_MODEL_8db56b5dc4a24aa0ba032a6bac94ed8c",
            "value": "100%"
          }
        },
        "155a963dbe43428580dd4171a5f0f5ce": {
          "model_module": "@jupyter-widgets/controls",
          "model_name": "FloatProgressModel",
          "model_module_version": "1.5.0",
          "state": {
            "_dom_classes": [],
            "_model_module": "@jupyter-widgets/controls",
            "_model_module_version": "1.5.0",
            "_model_name": "FloatProgressModel",
            "_view_count": null,
            "_view_module": "@jupyter-widgets/controls",
            "_view_module_version": "1.5.0",
            "_view_name": "ProgressView",
            "bar_style": "success",
            "description": "",
            "description_tooltip": null,
            "layout": "IPY_MODEL_23d92fbf63f84bac9b5253d1e20159b4",
            "max": 170498071,
            "min": 0,
            "orientation": "horizontal",
            "style": "IPY_MODEL_c18dbcf226014e0ab07ac75df37f31ab",
            "value": 170498071
          }
        },
        "f7a3f53b86e547ecaf8730c8826cb039": {
          "model_module": "@jupyter-widgets/controls",
          "model_name": "HTMLModel",
          "model_module_version": "1.5.0",
          "state": {
            "_dom_classes": [],
            "_model_module": "@jupyter-widgets/controls",
            "_model_module_version": "1.5.0",
            "_model_name": "HTMLModel",
            "_view_count": null,
            "_view_module": "@jupyter-widgets/controls",
            "_view_module_version": "1.5.0",
            "_view_name": "HTMLView",
            "description": "",
            "description_tooltip": null,
            "layout": "IPY_MODEL_11b3d437ed7749e8be562491eeffc318",
            "placeholder": "​",
            "style": "IPY_MODEL_9f8138bbe15540e5939735260cb62024",
            "value": " 170498071/170498071 [00:02&lt;00:00, 83625604.03it/s]"
          }
        },
        "f84028ed336c4cf6b5868b01804255b2": {
          "model_module": "@jupyter-widgets/base",
          "model_name": "LayoutModel",
          "model_module_version": "1.2.0",
          "state": {
            "_model_module": "@jupyter-widgets/base",
            "_model_module_version": "1.2.0",
            "_model_name": "LayoutModel",
            "_view_count": null,
            "_view_module": "@jupyter-widgets/base",
            "_view_module_version": "1.2.0",
            "_view_name": "LayoutView",
            "align_content": null,
            "align_items": null,
            "align_self": null,
            "border": null,
            "bottom": null,
            "display": null,
            "flex": null,
            "flex_flow": null,
            "grid_area": null,
            "grid_auto_columns": null,
            "grid_auto_flow": null,
            "grid_auto_rows": null,
            "grid_column": null,
            "grid_gap": null,
            "grid_row": null,
            "grid_template_areas": null,
            "grid_template_columns": null,
            "grid_template_rows": null,
            "height": null,
            "justify_content": null,
            "justify_items": null,
            "left": null,
            "margin": null,
            "max_height": null,
            "max_width": null,
            "min_height": null,
            "min_width": null,
            "object_fit": null,
            "object_position": null,
            "order": null,
            "overflow": null,
            "overflow_x": null,
            "overflow_y": null,
            "padding": null,
            "right": null,
            "top": null,
            "visibility": null,
            "width": null
          }
        },
        "3f31c1fe30824e139fb2223310f4bf22": {
          "model_module": "@jupyter-widgets/base",
          "model_name": "LayoutModel",
          "model_module_version": "1.2.0",
          "state": {
            "_model_module": "@jupyter-widgets/base",
            "_model_module_version": "1.2.0",
            "_model_name": "LayoutModel",
            "_view_count": null,
            "_view_module": "@jupyter-widgets/base",
            "_view_module_version": "1.2.0",
            "_view_name": "LayoutView",
            "align_content": null,
            "align_items": null,
            "align_self": null,
            "border": null,
            "bottom": null,
            "display": null,
            "flex": null,
            "flex_flow": null,
            "grid_area": null,
            "grid_auto_columns": null,
            "grid_auto_flow": null,
            "grid_auto_rows": null,
            "grid_column": null,
            "grid_gap": null,
            "grid_row": null,
            "grid_template_areas": null,
            "grid_template_columns": null,
            "grid_template_rows": null,
            "height": null,
            "justify_content": null,
            "justify_items": null,
            "left": null,
            "margin": null,
            "max_height": null,
            "max_width": null,
            "min_height": null,
            "min_width": null,
            "object_fit": null,
            "object_position": null,
            "order": null,
            "overflow": null,
            "overflow_x": null,
            "overflow_y": null,
            "padding": null,
            "right": null,
            "top": null,
            "visibility": null,
            "width": null
          }
        },
        "8db56b5dc4a24aa0ba032a6bac94ed8c": {
          "model_module": "@jupyter-widgets/controls",
          "model_name": "DescriptionStyleModel",
          "model_module_version": "1.5.0",
          "state": {
            "_model_module": "@jupyter-widgets/controls",
            "_model_module_version": "1.5.0",
            "_model_name": "DescriptionStyleModel",
            "_view_count": null,
            "_view_module": "@jupyter-widgets/base",
            "_view_module_version": "1.2.0",
            "_view_name": "StyleView",
            "description_width": ""
          }
        },
        "23d92fbf63f84bac9b5253d1e20159b4": {
          "model_module": "@jupyter-widgets/base",
          "model_name": "LayoutModel",
          "model_module_version": "1.2.0",
          "state": {
            "_model_module": "@jupyter-widgets/base",
            "_model_module_version": "1.2.0",
            "_model_name": "LayoutModel",
            "_view_count": null,
            "_view_module": "@jupyter-widgets/base",
            "_view_module_version": "1.2.0",
            "_view_name": "LayoutView",
            "align_content": null,
            "align_items": null,
            "align_self": null,
            "border": null,
            "bottom": null,
            "display": null,
            "flex": null,
            "flex_flow": null,
            "grid_area": null,
            "grid_auto_columns": null,
            "grid_auto_flow": null,
            "grid_auto_rows": null,
            "grid_column": null,
            "grid_gap": null,
            "grid_row": null,
            "grid_template_areas": null,
            "grid_template_columns": null,
            "grid_template_rows": null,
            "height": null,
            "justify_content": null,
            "justify_items": null,
            "left": null,
            "margin": null,
            "max_height": null,
            "max_width": null,
            "min_height": null,
            "min_width": null,
            "object_fit": null,
            "object_position": null,
            "order": null,
            "overflow": null,
            "overflow_x": null,
            "overflow_y": null,
            "padding": null,
            "right": null,
            "top": null,
            "visibility": null,
            "width": null
          }
        },
        "c18dbcf226014e0ab07ac75df37f31ab": {
          "model_module": "@jupyter-widgets/controls",
          "model_name": "ProgressStyleModel",
          "model_module_version": "1.5.0",
          "state": {
            "_model_module": "@jupyter-widgets/controls",
            "_model_module_version": "1.5.0",
            "_model_name": "ProgressStyleModel",
            "_view_count": null,
            "_view_module": "@jupyter-widgets/base",
            "_view_module_version": "1.2.0",
            "_view_name": "StyleView",
            "bar_color": null,
            "description_width": ""
          }
        },
        "11b3d437ed7749e8be562491eeffc318": {
          "model_module": "@jupyter-widgets/base",
          "model_name": "LayoutModel",
          "model_module_version": "1.2.0",
          "state": {
            "_model_module": "@jupyter-widgets/base",
            "_model_module_version": "1.2.0",
            "_model_name": "LayoutModel",
            "_view_count": null,
            "_view_module": "@jupyter-widgets/base",
            "_view_module_version": "1.2.0",
            "_view_name": "LayoutView",
            "align_content": null,
            "align_items": null,
            "align_self": null,
            "border": null,
            "bottom": null,
            "display": null,
            "flex": null,
            "flex_flow": null,
            "grid_area": null,
            "grid_auto_columns": null,
            "grid_auto_flow": null,
            "grid_auto_rows": null,
            "grid_column": null,
            "grid_gap": null,
            "grid_row": null,
            "grid_template_areas": null,
            "grid_template_columns": null,
            "grid_template_rows": null,
            "height": null,
            "justify_content": null,
            "justify_items": null,
            "left": null,
            "margin": null,
            "max_height": null,
            "max_width": null,
            "min_height": null,
            "min_width": null,
            "object_fit": null,
            "object_position": null,
            "order": null,
            "overflow": null,
            "overflow_x": null,
            "overflow_y": null,
            "padding": null,
            "right": null,
            "top": null,
            "visibility": null,
            "width": null
          }
        },
        "9f8138bbe15540e5939735260cb62024": {
          "model_module": "@jupyter-widgets/controls",
          "model_name": "DescriptionStyleModel",
          "model_module_version": "1.5.0",
          "state": {
            "_model_module": "@jupyter-widgets/controls",
            "_model_module_version": "1.5.0",
            "_model_name": "DescriptionStyleModel",
            "_view_count": null,
            "_view_module": "@jupyter-widgets/base",
            "_view_module_version": "1.2.0",
            "_view_name": "StyleView",
            "description_width": ""
          }
        }
      }
    }
  },
  "cells": [
    {
      "cell_type": "markdown",
      "metadata": {
        "id": "view-in-github",
        "colab_type": "text"
      },
      "source": [
        "<a href=\"https://colab.research.google.com/github/ianara01/Park-Sangjin/blob/master/%5B%EC%8B%A4%EC%8A%B5%5DPyTorch_CNN(ResNet).ipynb\" target=\"_parent\"><img src=\"https://colab.research.google.com/assets/colab-badge.svg\" alt=\"Open In Colab\"/></a>"
      ]
    },
    {
      "cell_type": "markdown",
      "metadata": {
        "id": "uu-7Cxz7EcVs"
      },
      "source": [
        "# ResNet"
      ]
    },
    {
      "cell_type": "markdown",
      "metadata": {
        "id": "qdEeC_AlEdxm"
      },
      "source": [
        "## 모델 블록"
      ]
    },
    {
      "cell_type": "code",
      "metadata": {
        "id": "3aMHoFjPEXTr"
      },
      "source": [
        "# ---------------------------------------------------------------------------- #\n",
        "# An implementation of https://arxiv.org/pdf/1512.03385.pdf                    #\n",
        "# See section 4.2 for the model architecture on CIFAR-10                       #\n",
        "# Some part of the code was referenced from below                              #\n",
        "# https://github.com/pytorch/vision/blob/master/torchvision/models/resnet.py   #\n",
        "# ---------------------------------------------------------------------------- #\n",
        "\n",
        "import torch\n",
        "import torch.nn as nn\n",
        "import torch.optim as optim\n",
        "from torch.optim import lr_scheduler\n",
        "import torchvision\n",
        "from torchvision import datasets, models, transforms\n",
        "import matplotlib.pyplot as plt\n",
        "import time\n",
        "import os\n",
        "import copy"
      ],
      "execution_count": null,
      "outputs": []
    },
    {
      "cell_type": "markdown",
      "metadata": {
        "id": "7DOwPwmrErDo"
      },
      "source": [
        "### Conv2d"
      ]
    },
    {
      "cell_type": "code",
      "metadata": {
        "id": "xYkaHJYOEjpz"
      },
      "source": [
        "def conv3x3(in_channels, out_channels, stride=1):\n",
        "    return nn.Conv2d(in_channels, out_channels, kernel_size=3, \n",
        "                     stride=stride, padding=1, bias=False)"
      ],
      "execution_count": null,
      "outputs": []
    },
    {
      "cell_type": "markdown",
      "metadata": {
        "id": "r5EC31-zEuv5"
      },
      "source": [
        "### Residual block"
      ]
    },
    {
      "cell_type": "code",
      "metadata": {
        "id": "3hWcs5WUEuM6"
      },
      "source": [
        "# Residual block\n",
        "class ResidualBlock(nn.Module):\n",
        "    def __init__(self, in_channels, out_channels, stride=1, downsample=None):\n",
        "        super(ResidualBlock, self).__init__()\n",
        "        self.conv1 = conv3x3(in_channels, out_channels, stride)\n",
        "        self.bn1 = nn.BatchNorm2d(out_channels)\n",
        "        self.relu = nn.ReLU(inplace=True)\n",
        "        self.conv2 = conv3x3(out_channels, out_channels)\n",
        "        self.bn2 = nn.BatchNorm2d(out_channels)\n",
        "        self.downsample = downsample\n",
        "\n",
        "    def forward(self, x):\n",
        "        residual = x\n",
        "        out = self.conv1(x)\n",
        "        out = self.bn1(out)\n",
        "        out = self.relu(out)\n",
        "        out = self.conv2(out)\n",
        "        out = self.bn2(out)\n",
        "        if self.downsample:\n",
        "            residual = self.downsample(x)\n",
        "        out += residual\n",
        "        out = self.relu(out)\n",
        "        return out"
      ],
      "execution_count": null,
      "outputs": []
    },
    {
      "cell_type": "markdown",
      "metadata": {
        "id": "ILg7cAyeEyk7"
      },
      "source": [
        "### ResNet"
      ]
    },
    {
      "cell_type": "code",
      "metadata": {
        "id": "U5Oo-kQHEyAM"
      },
      "source": [
        "# ResNet\n",
        "class ResNet(nn.Module):\n",
        "    def __init__(self, block, layers, num_classes=10):\n",
        "        super(ResNet, self).__init__()\n",
        "        self.in_channels = 16\n",
        "        self.conv = conv3x3(3, 16)\n",
        "        self.bn = nn.BatchNorm2d(16)\n",
        "        self.relu = nn.ReLU(inplace=True)\n",
        "        self.layer1 = self.make_layer(block, 16, layers[0]) # 2번째 블록부터 residual 블록 들어감 !\n",
        "        self.layer2 = self.make_layer(block, 32, layers[1], 2)\n",
        "        self.layer3 = self.make_layer(block, 64, layers[2], 2)\n",
        "        self.avg_pool = nn.AvgPool2d(8)\n",
        "        self.fc = nn.Linear(64, num_classes)\n",
        "\n",
        "    def make_layer(self, block, out_channels, blocks, stride=1):\n",
        "        downsample = None\n",
        "        if (stride != 1) or (self.in_channels != out_channels):\n",
        "            downsample = nn.Sequential(\n",
        "                conv3x3(self.in_channels, out_channels, stride=stride),\n",
        "                nn.BatchNorm2d(out_channels))\n",
        "        layers = []\n",
        "        layers.append(block(self.in_channels, out_channels, stride, downsample))\n",
        "        self.in_channels = out_channels\n",
        "        for i in range(1, blocks):\n",
        "            layers.append(block(out_channels, out_channels))\n",
        "        return nn.Sequential(*layers)\n",
        "\n",
        "    def forward(self, x):\n",
        "        out = self.conv(x)\n",
        "        out = self.bn(out)\n",
        "        out = self.relu(out)\n",
        "        out = self.layer1(out)\n",
        "        out = self.layer2(out)\n",
        "        out = self.layer3(out)\n",
        "        out = self.avg_pool(out)\n",
        "        out = out.view(out.size(0), -1)\n",
        "        out = self.fc(out)\n",
        "        return out"
      ],
      "execution_count": null,
      "outputs": []
    },
    {
      "cell_type": "markdown",
      "metadata": {
        "id": "isk-uVnOE33e"
      },
      "source": [
        "## 모델 학습"
      ]
    },
    {
      "cell_type": "code",
      "metadata": {
        "colab": {
          "base_uri": "https://localhost:8080/"
        },
        "id": "TU-C68mDE1Y2",
        "outputId": "27f595c8-1ebc-4067-8379-03059a73a6ed"
      },
      "source": [
        "# Device configuration\n",
        "device = torch.device('cuda' if torch.cuda.is_available() else 'cpu')\n",
        "print(device)\n",
        "# Hyper-parameters\n",
        "num_epochs = 80\n",
        "learning_rate = 0.001\n",
        "\n",
        "# Image preprocessing modules\n",
        "transform = transforms.Compose([\n",
        "    transforms.Pad(4),\n",
        "    transforms.RandomHorizontalFlip(),\n",
        "    transforms.RandomCrop(32),\n",
        "    transforms.ToTensor()])"
      ],
      "execution_count": null,
      "outputs": [
        {
          "output_type": "stream",
          "name": "stdout",
          "text": [
            "cpu\n"
          ]
        }
      ]
    },
    {
      "cell_type": "code",
      "metadata": {
        "colab": {
          "base_uri": "https://localhost:8080/",
          "height": 85,
          "referenced_widgets": [
            "fbb70e7bcffa44228cbc839cb9a485e7",
            "972096d2ac84439f9964ea2ed65a0d58",
            "155a963dbe43428580dd4171a5f0f5ce",
            "f7a3f53b86e547ecaf8730c8826cb039",
            "f84028ed336c4cf6b5868b01804255b2",
            "3f31c1fe30824e139fb2223310f4bf22",
            "8db56b5dc4a24aa0ba032a6bac94ed8c",
            "23d92fbf63f84bac9b5253d1e20159b4",
            "c18dbcf226014e0ab07ac75df37f31ab",
            "11b3d437ed7749e8be562491eeffc318",
            "9f8138bbe15540e5939735260cb62024"
          ]
        },
        "id": "9JYUqvLkE6Yb",
        "outputId": "84c220e2-36fd-4ade-cd03-6f4e49c6506a"
      },
      "source": [
        "train_dataset = torchvision.datasets.CIFAR10(root='../../data/',\n",
        "                                             train=True, \n",
        "                                             transform=transform,\n",
        "                                             download=True)\n",
        "\n",
        "test_dataset = torchvision.datasets.CIFAR10(root='../../data/',\n",
        "                                            train=False, \n",
        "                                            transform=transforms.ToTensor())\n",
        "\n",
        "# Data loader\n",
        "train_loader = torch.utils.data.DataLoader(dataset=train_dataset,\n",
        "                                           batch_size=100, \n",
        "                                           shuffle=True)\n",
        "\n",
        "test_loader = torch.utils.data.DataLoader(dataset=test_dataset,\n",
        "                                          batch_size=100, \n",
        "                                          shuffle=False)"
      ],
      "execution_count": null,
      "outputs": [
        {
          "output_type": "stream",
          "name": "stdout",
          "text": [
            "Downloading https://www.cs.toronto.edu/~kriz/cifar-10-python.tar.gz to ../../data/cifar-10-python.tar.gz\n"
          ]
        },
        {
          "output_type": "display_data",
          "data": {
            "text/plain": [
              "  0%|          | 0/170498071 [00:00<?, ?it/s]"
            ],
            "application/vnd.jupyter.widget-view+json": {
              "version_major": 2,
              "version_minor": 0,
              "model_id": "fbb70e7bcffa44228cbc839cb9a485e7"
            }
          },
          "metadata": {}
        },
        {
          "output_type": "stream",
          "name": "stdout",
          "text": [
            "Extracting ../../data/cifar-10-python.tar.gz to ../../data/\n"
          ]
        }
      ]
    },
    {
      "cell_type": "code",
      "source": [
        "print(train_dataset.classes)"
      ],
      "metadata": {
        "colab": {
          "base_uri": "https://localhost:8080/"
        },
        "id": "tXnM2453qkrR",
        "outputId": "1c015b04-006d-4e8a-deb1-2706798f87a1"
      },
      "execution_count": null,
      "outputs": [
        {
          "output_type": "stream",
          "name": "stdout",
          "text": [
            "['airplane', 'automobile', 'bird', 'cat', 'deer', 'dog', 'frog', 'horse', 'ship', 'truck']\n"
          ]
        }
      ]
    },
    {
      "cell_type": "code",
      "source": [
        "print(\"Train set 개수 : \", len(train_loader.dataset))\n",
        "print(\"Test set 개수 : \", len(test_loader.dataset))"
      ],
      "metadata": {
        "colab": {
          "base_uri": "https://localhost:8080/"
        },
        "id": "KR-4JHJFp6HB",
        "outputId": "0bb6b452-6753-4fa5-db69-4fd7e7f47d9d"
      },
      "execution_count": null,
      "outputs": [
        {
          "output_type": "stream",
          "name": "stdout",
          "text": [
            "Train set 개수 :  50000\n",
            "Test set 개수 :  10000\n"
          ]
        }
      ]
    },
    {
      "cell_type": "code",
      "metadata": {
        "id": "Arlz4gtJE_uU"
      },
      "source": [
        "model = ResNet(ResidualBlock, [2, 2, 2]).to(device)\n",
        "\n",
        "# Loss and optimizer\n",
        "criterion = nn.CrossEntropyLoss()\n",
        "optimizer = optim.SGD(model.parameters(), lr=0.001, momentum=0.9)\n",
        "\n",
        "# Scheduler\n",
        "exp_lr_scheduler = lr_scheduler.StepLR(optimizer, step_size=7, gamma=0.1)"
      ],
      "execution_count": null,
      "outputs": []
    },
    {
      "cell_type": "code",
      "metadata": {
        "id": "z2p3oa7hFBk9"
      },
      "source": [
        "def train_model(model, criterion, dataloaders, optimizer, scheduler, num_epochs=25):\n",
        "    since = time.time()\n",
        "\n",
        "    best_model_wts = copy.deepcopy(model.state_dict())\n",
        "    best_acc = 0.0\n",
        "\n",
        "    for epoch in range(num_epochs):\n",
        "        print('Epoch {}/{}'.format(epoch, num_epochs - 1))\n",
        "        print('-' * 10)\n",
        "\n",
        "        # 각 에폭(epoch)은 학습 단계와 검증 단계를 갖습니다.\n",
        "        for phase in ['train', 'val']:\n",
        "            if phase == 'train':\n",
        "                model.train()  # 모델을 학습 모드로 설정\n",
        "            else:\n",
        "                model.eval()   # 모델을 평가 모드로 설정\n",
        "\n",
        "            running_loss = 0.0\n",
        "            running_corrects = 0\n",
        "\n",
        "            # 데이터를 반복\n",
        "            for inputs, labels in dataloaders:\n",
        "                inputs = inputs.to(device)\n",
        "                labels = labels.to(device)\n",
        "\n",
        "                # 매개변수 경사도를 0으로 설정\n",
        "                optimizer.zero_grad()\n",
        "\n",
        "                # 순전파\n",
        "                # 학습 시에만 연산 기록을 추적\n",
        "                with torch.set_grad_enabled(phase == 'train'):\n",
        "                    outputs = model(inputs)\n",
        "                    _, preds = torch.max(outputs, 1)\n",
        "                    loss = criterion(outputs, labels)\n",
        "\n",
        "                    # 학습 단계인 경우 역전파 + 최적화\n",
        "                    if phase == 'train':\n",
        "                        loss.backward()\n",
        "                        optimizer.step()\n",
        "\n",
        "                # 통계\n",
        "                running_loss += loss.item() * inputs.size(0)\n",
        "                running_corrects += torch.sum(preds == labels.data)\n",
        "            if phase == 'train':\n",
        "                scheduler.step()\n",
        "\n",
        "            epoch_loss = running_loss / len(dataloaders)\n",
        "            epoch_acc = running_corrects.double() / len(dataloaders)\n",
        "\n",
        "            print('{} Loss: {:.4f} Acc: {:.4f}'.format(\n",
        "                phase, epoch_loss, epoch_acc))\n",
        "\n",
        "            # 모델을 깊은 복사(deep copy)함\n",
        "            if phase == 'val' and epoch_acc > best_acc:\n",
        "                best_acc = epoch_acc\n",
        "                best_model_wts = copy.deepcopy(model.state_dict())\n",
        "\n",
        "        print()\n",
        "\n",
        "    time_elapsed = time.time() - since\n",
        "    print('Training complete in {:.0f}m {:.0f}s'.format(\n",
        "        time_elapsed // 60, time_elapsed % 60))\n",
        "    print('Best val Acc: {:4f}'.format(best_acc))\n",
        "\n",
        "    # 가장 나은 모델 가중치를 불러옴\n",
        "    model.load_state_dict(best_model_wts)\n",
        "    return model"
      ],
      "execution_count": null,
      "outputs": []
    },
    {
      "cell_type": "code",
      "metadata": {
        "colab": {
          "base_uri": "https://localhost:8080/"
        },
        "outputId": "21e6de68-0d26-4a96-a44b-c3df69090435",
        "id": "JqzRlJT-pW6L"
      },
      "source": [
        "model_ft = train_model(model, criterion, train_loader, optimizer, exp_lr_scheduler,\n",
        "                       num_epochs=25)"
      ],
      "execution_count": null,
      "outputs": [
        {
          "output_type": "stream",
          "text": [
            "Epoch 0/24\n",
            "----------\n",
            "train Loss: 184.8816 Acc: 31.5980\n",
            "val Loss: 164.1515 Acc: 39.0580\n",
            "\n",
            "Epoch 1/24\n",
            "----------\n",
            "train Loss: 151.0351 Acc: 44.1740\n",
            "val Loss: 143.6815 Acc: 47.6040\n",
            "\n",
            "Epoch 2/24\n",
            "----------\n",
            "train Loss: 131.6622 Acc: 52.3900\n",
            "val Loss: 127.8486 Acc: 53.5080\n",
            "\n",
            "Epoch 3/24\n",
            "----------\n",
            "train Loss: 118.3469 Acc: 57.4040\n",
            "val Loss: 118.2037 Acc: 57.3120\n",
            "\n",
            "Epoch 4/24\n",
            "----------\n",
            "train Loss: 109.2467 Acc: 60.8460\n",
            "val Loss: 107.1576 Acc: 60.7760\n",
            "\n",
            "Epoch 5/24\n",
            "----------\n",
            "train Loss: 102.5248 Acc: 63.1560\n",
            "val Loss: 98.3401 Acc: 64.7740\n",
            "\n",
            "Epoch 6/24\n",
            "----------\n",
            "train Loss: 96.3510 Acc: 65.4360\n",
            "val Loss: 101.4396 Acc: 63.3540\n",
            "\n",
            "Epoch 7/24\n",
            "----------\n",
            "train Loss: 88.3543 Acc: 68.3860\n",
            "val Loss: 85.6249 Acc: 69.4560\n",
            "\n",
            "Epoch 8/24\n",
            "----------\n",
            "train Loss: 87.0821 Acc: 68.9820\n",
            "val Loss: 85.0344 Acc: 69.6120\n",
            "\n",
            "Epoch 9/24\n",
            "----------\n",
            "train Loss: 86.3865 Acc: 69.2340\n",
            "val Loss: 84.6332 Acc: 69.7660\n",
            "\n",
            "Epoch 10/24\n",
            "----------\n",
            "train Loss: 85.5370 Acc: 69.5440\n",
            "val Loss: 84.1757 Acc: 69.9680\n",
            "\n",
            "Epoch 11/24\n",
            "----------\n",
            "train Loss: 85.2306 Acc: 69.6540\n",
            "val Loss: 83.0579 Acc: 70.6080\n",
            "\n",
            "Epoch 12/24\n",
            "----------\n",
            "train Loss: 84.3785 Acc: 69.9420\n",
            "val Loss: 82.6805 Acc: 70.6280\n",
            "\n",
            "Epoch 13/24\n",
            "----------\n",
            "train Loss: 83.7717 Acc: 70.2740\n",
            "val Loss: 81.7194 Acc: 70.9960\n",
            "\n",
            "Epoch 14/24\n",
            "----------\n",
            "train Loss: 82.8980 Acc: 70.5820\n",
            "val Loss: 80.7994 Acc: 71.2480\n",
            "\n",
            "Epoch 15/24\n",
            "----------\n",
            "train Loss: 82.9257 Acc: 70.5820\n",
            "val Loss: 80.6517 Acc: 71.3180\n",
            "\n",
            "Epoch 16/24\n",
            "----------\n",
            "train Loss: 82.4959 Acc: 70.7420\n",
            "val Loss: 80.7847 Acc: 71.4640\n",
            "\n",
            "Epoch 17/24\n",
            "----------\n",
            "train Loss: 82.6630 Acc: 70.7900\n",
            "val Loss: 80.4173 Acc: 71.4260\n",
            "\n",
            "Epoch 18/24\n",
            "----------\n",
            "train Loss: 82.6880 Acc: 70.6380\n",
            "val Loss: 80.4909 Acc: 71.5600\n",
            "\n",
            "Epoch 19/24\n",
            "----------\n",
            "train Loss: 82.4709 Acc: 70.7120\n",
            "val Loss: 80.4509 Acc: 71.5540\n",
            "\n",
            "Epoch 20/24\n",
            "----------\n",
            "train Loss: 82.4129 Acc: 70.6200\n",
            "val Loss: 80.4712 Acc: 71.6040\n",
            "\n",
            "Epoch 21/24\n",
            "----------\n",
            "train Loss: 82.3677 Acc: 70.7400\n",
            "val Loss: 80.1745 Acc: 71.5980\n",
            "\n",
            "Epoch 22/24\n",
            "----------\n",
            "train Loss: 82.1587 Acc: 70.9000\n",
            "val Loss: 80.6495 Acc: 71.2860\n",
            "\n",
            "Epoch 23/24\n",
            "----------\n",
            "train Loss: 82.3155 Acc: 70.8300\n",
            "val Loss: 80.4664 Acc: 71.4180\n",
            "\n",
            "Epoch 24/24\n",
            "----------\n",
            "train Loss: 82.3157 Acc: 70.8860\n",
            "val Loss: 80.2452 Acc: 71.5660\n",
            "\n",
            "Training complete in 16m 7s\n",
            "Best val Acc: 71.604000\n"
          ],
          "name": "stdout"
        }
      ]
    },
    {
      "cell_type": "markdown",
      "metadata": {
        "id": "zwDEykTMpW6M"
      },
      "source": [
        "## 모델 검증"
      ]
    },
    {
      "cell_type": "code",
      "metadata": {
        "colab": {
          "base_uri": "https://localhost:8080/"
        },
        "outputId": "27377adc-b6fd-4c57-f75b-52dd6acc33a0",
        "id": "PvTDoCNXpW6M"
      },
      "source": [
        "# Test the model\n",
        "with torch.no_grad():\n",
        "    correct = 0\n",
        "    total = 0\n",
        "    for images, labels in test_loader:\n",
        "        images = images.to(device)\n",
        "        labels = labels.to(device)\n",
        "        outputs = model_ft(images)\n",
        "        _, predicted = torch.max(outputs.data, 1)\n",
        "        total += labels.size(0)\n",
        "        correct += (predicted == labels).sum().item()\n",
        "\n",
        "    print('Accuracy of the model on the test images: {} %'.format(100 * correct / total))"
      ],
      "execution_count": null,
      "outputs": [
        {
          "output_type": "stream",
          "text": [
            "Accuracy of the model on the test images: 70.4 %\n"
          ],
          "name": "stdout"
        }
      ]
    }
  ]
}