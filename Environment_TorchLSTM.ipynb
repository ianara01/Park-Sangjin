{
  "cells": [
    {
      "cell_type": "markdown",
      "metadata": {
        "id": "view-in-github",
        "colab_type": "text"
      },
      "source": [
        "<a href=\"https://colab.research.google.com/github/ianara01/Park-Sangjin/blob/master/Environment_TorchLSTM.ipynb\" target=\"_parent\"><img src=\"https://colab.research.google.com/assets/colab-badge.svg\" alt=\"Open In Colab\"/></a>"
      ]
    },
    {
      "cell_type": "markdown",
      "metadata": {
        "id": "iOyOci4Ki_xk"
      },
      "source": [
        "# 환경 요소 데이터를 읽고 전처리 (결측치처리)후 데이터 정규화\n",
        "윈도우 분할\n",
        "LSTM model 정의\n",
        "Model 인스턴스 생성\n",
        "\n",
        "손실함수와 최적화 알고리즘 생성"
      ]
    },
    {
      "cell_type": "code",
      "source": [
        "import os\n",
        "import numpy as np\n",
        "import pandas as pd\n",
        "import matplotlib.pyplot as plt\n",
        "import torch\n",
        "import torch.nn as nn\n",
        "from sklearn.preprocessing import MinMaxScaler"
      ],
      "metadata": {
        "id": "FM8VsFs6FbN_"
      },
      "execution_count": 7,
      "outputs": []
    },
    {
      "cell_type": "code",
      "source": [
        "# 특정 CSV 파일 경로\n",
        "csv_file_path = '/content/sample_data/2021_Env_Int.csv'\n",
        "\n",
        "# CSV 파일 읽기\n",
        "df = pd.read_csv(csv_file_path, encoding='cp949')\n",
        "\n",
        "\n",
        "# 결측치 처리 함수 정의 (전처리)\n",
        "def fill_missing_values(df, columns):\n",
        "    for col in columns:\n",
        "        accumulated_sum = 0\n",
        "        count = 0\n",
        "        for i in range(len(df)):\n",
        "            if pd.isnull(df.loc[i, col]):\n",
        "                if i == 0:\n",
        "                    df.loc[i, col] = 0\n",
        "                else:\n",
        "                    df.loc[i, col] = accumulated_sum / count\n",
        "            else:\n",
        "                accumulated_sum += df.loc[i, col]\n",
        "                count += 1\n",
        "    return df\n",
        "df = df.apply(pd.to_numeric, errors='coerce')\n",
        "columns_to_fill = ['Temp_Ext', 'WindSpe_Ext', 'Insolation_Ext', 'CumInsolation_Ext', 'Temp_Int', 'Humidity_Int', 'Res_CO2']\n",
        "filled_df = fill_missing_values(df, columns_to_fill)"
      ],
      "metadata": {
        "id": "EruZbeToFoAq"
      },
      "execution_count": 8,
      "outputs": []
    },
    {
      "cell_type": "code",
      "source": [
        "# 데이터프레임을 NumPy 배열로 변환\n",
        "numpy_array = filled_df.to_numpy()\n",
        "\n",
        "print(\"Pandas DataFrame:\")\n",
        "print(filled_df)\n",
        "print(\"\\nNumPy Array:\")\n",
        "print(numpy_array)"
      ],
      "metadata": {
        "id": "m717K_wNH6I8",
        "outputId": "898b564d-ab39-4765-c788-1a5fa9e882a5",
        "colab": {
          "base_uri": "https://localhost:8080/"
        }
      },
      "execution_count": 9,
      "outputs": [
        {
          "output_type": "stream",
          "name": "stdout",
          "text": [
            "Pandas DataFrame:\n",
            "        State  County  Item  Cultivation  Farmer  Time   Temp_Ext  \\\n",
            "0         NaN     NaN   NaN            1       3   NaN   3.200000   \n",
            "1         NaN     NaN   NaN            1       3   NaN   4.400000   \n",
            "2         NaN     NaN   NaN            1       3   NaN   4.000000   \n",
            "3         NaN     NaN   NaN            1       3   NaN   3.700000   \n",
            "4         NaN     NaN   NaN            1       3   NaN   3.800000   \n",
            "...       ...     ...   ...          ...     ...   ...        ...   \n",
            "827075    NaN     NaN   NaN            1      18   NaN  12.234304   \n",
            "827076    NaN     NaN   NaN            1      18   NaN  12.234304   \n",
            "827077    NaN     NaN   NaN            1      18   NaN  12.234304   \n",
            "827078    NaN     NaN   NaN            1      18   NaN  12.234304   \n",
            "827079    NaN     NaN   NaN            1      18   NaN  12.234304   \n",
            "\n",
            "        WindDir_Ext  WindSpe_Ext  Insolation_Ext  CumInsolation_Ext  RainDet  \\\n",
            "0               NaN     2.000000        1.000000         997.000000        0   \n",
            "1               NaN     3.700000        1.000000         998.000000        0   \n",
            "2               NaN     4.200000        0.000000         998.000000        0   \n",
            "3               NaN     0.900000        0.000000         998.000000        0   \n",
            "4               NaN     2.800000        1.000000         998.000000        0   \n",
            "...             ...          ...             ...                ...      ...   \n",
            "827075          NaN     1.023431      154.219096         897.970166        0   \n",
            "827076          NaN     1.023431      154.219096         897.970166        0   \n",
            "827077          NaN     1.023431      154.219096         897.970166        0   \n",
            "827078          NaN     1.023431      154.219096         897.970166        0   \n",
            "827079          NaN     1.023431      154.219096         897.970166        0   \n",
            "\n",
            "        Temp_Int  Humidity_Int     Res_CO2  Soil_Temp  \n",
            "0           21.0          49.8  494.000000        NaN  \n",
            "1           21.0          49.6  491.000000        NaN  \n",
            "2           20.9          47.9  486.000000        NaN  \n",
            "3           21.0          47.7  478.000000        NaN  \n",
            "4           21.0          48.7  480.000000        NaN  \n",
            "...          ...           ...         ...        ...  \n",
            "827075      27.6          50.7  222.000000        NaN  \n",
            "827076      19.6          86.6  519.485192        NaN  \n",
            "827077      17.6          86.2  519.485192        NaN  \n",
            "827078      27.8          47.8  519.485192        NaN  \n",
            "827079      28.7          48.0  519.485192        NaN  \n",
            "\n",
            "[827080 rows x 16 columns]\n",
            "\n",
            "NumPy Array:\n",
            "[[         nan          nan          nan ...  49.8        494.\n",
            "           nan]\n",
            " [         nan          nan          nan ...  49.6        491.\n",
            "           nan]\n",
            " [         nan          nan          nan ...  47.9        486.\n",
            "           nan]\n",
            " ...\n",
            " [         nan          nan          nan ...  86.2        519.48519224\n",
            "           nan]\n",
            " [         nan          nan          nan ...  47.8        519.48519224\n",
            "           nan]\n",
            " [         nan          nan          nan ...  48.         519.48519224\n",
            "           nan]]\n"
          ]
        }
      ]
    },
    {
      "cell_type": "code",
      "execution_count": null,
      "metadata": {
        "id": "dI7EufU8rH-7"
      },
      "outputs": [],
      "source": [
        "# 데이터 정규화\n",
        "scaler = MinMaxScaler()\n",
        "data_normalized = scaler.fit_transform(numpy_array.reshape(-1, 1))\n",
        "data_normalized = torch.FloatTensor(data_normalized).view(-1)\n",
        "\n",
        "# 시계열 데이터를 윈도우로 분할\n",
        "window_size = 10\n",
        "input_data = []\n",
        "target_data = []\n",
        "for i in range(len(data_normalized) - window_size):\n",
        "    input_data.append(data_normalized[i:i+window_size])\n",
        "    target_data.append(data_normalized[i+window_size])\n",
        "\n",
        "input_data = torch.stack(input_data)\n",
        "target_data = torch.stack(target_data)\n",
        "\n",
        "# LSTM 모델 정의\n",
        "class LSTMModel(nn.Module):\n",
        "    def __init__(self, input_size, hidden_size, num_layers):\n",
        "        super(LSTMModel, self).__init__()\n",
        "        self.lstm = nn.LSTM(input_size, hidden_size, num_layers, batch_first=True)\n",
        "        self.fc = nn.Linear(hidden_size, 1)\n",
        "\n",
        "    def forward(self, x):\n",
        "        out, _ = self.lstm(x)\n",
        "        out = self.fc(out[:, -1, :])\n",
        "        return out\n",
        "\n",
        "# 모델 인스턴스 생성\n",
        "input_size = 1\n",
        "hidden_size = 64\n",
        "num_layers = 2\n",
        "model = LSTMModel(input_size, hidden_size, num_layers)\n",
        "\n",
        "# 손실 함수와 최적화 알고리즘 설정\n",
        "criterion = nn.MSELoss()\n",
        "optimizer = torch.optim.Adam(model.parameters(), lr=0.001)"
      ]
    },
    {
      "cell_type": "code",
      "source": [
        "num_epochs = 100\n",
        "for epoch in range(num_epochs):\n",
        "    outputs = model(input_data)\n",
        "    optimizer.zero_grad()\n",
        "    loss = criterion(outputs, target_data)\n",
        "    loss.backward()\n",
        "    optimizer.step()\n",
        "\n",
        "    if (epoch+1) % 10 == 0:\n",
        "        print(f'Epoch [{epoch+1}/{num_epochs}], Loss: {loss.item():.4f}')\n",
        "\n",
        "# 예측 결과 확인\n",
        "with torch.no_grad():\n",
        "    future = 50\n",
        "    pred = data_normalized[-window_size:].tolist()\n",
        "    for i in range(future):\n",
        "        seq = torch.FloatTensor(pred[-window_size:])\n",
        "        with torch.no_grad():\n",
        "            pred.append(model(seq).item())\n",
        "\n",
        "# 예측 결과 시각화\n",
        "import matplotlib.pyplot as plt\n",
        "plt.plot(data_normalized, label='Original Data')\n",
        "plt.plot(np.arange(len(data_normalized), len(data_normalized) + future), pred[window_size:], label='Predicted Data')\n",
        "plt.legend()\n",
        "plt.show()"
      ],
      "metadata": {
        "id": "u5r3lvp6SOKQ"
      },
      "execution_count": null,
      "outputs": []
    }
  ],
  "metadata": {
    "accelerator": "GPU",
    "colab": {
      "provenance": [],
      "gpuType": "T4",
      "include_colab_link": true
    },
    "kernelspec": {
      "display_name": "Python 3",
      "name": "python3"
    },
    "language_info": {
      "codemirror_mode": {
        "name": "ipython",
        "version": 3
      },
      "file_extension": ".py",
      "mimetype": "text/x-python",
      "name": "python",
      "nbconvert_exporter": "python",
      "pygments_lexer": "ipython3",
      "version": "3.6.8"
    }
  },
  "nbformat": 4,
  "nbformat_minor": 0
}