{
  "nbformat": 4,
  "nbformat_minor": 0,
  "metadata": {
    "colab": {
      "name": "workshop_colab.ipynb",
      "provenance": [],
      "toc_visible": true,
      "include_colab_link": true
    },
    "kernelspec": {
      "name": "python3",
      "display_name": "Python 3"
    },
    "language_info": {
      "name": "python"
    },
    "widgets": {
      "application/vnd.jupyter.widget-state+json": {
        "5076441e44da4671ba1ba0fc65457f98": {
          "model_module": "@jupyter-widgets/controls",
          "model_name": "VBoxModel",
          "model_module_version": "1.5.0",
          "state": {
            "_dom_classes": [
              "widget-interact"
            ],
            "_model_module": "@jupyter-widgets/controls",
            "_model_module_version": "1.5.0",
            "_model_name": "VBoxModel",
            "_view_count": null,
            "_view_module": "@jupyter-widgets/controls",
            "_view_module_version": "1.5.0",
            "_view_name": "VBoxView",
            "box_style": "",
            "children": [
              "IPY_MODEL_20dcbf937ab9465f852158c3ce380321",
              "IPY_MODEL_2bbae0a77d3e4841922b5e7a0bec0b89"
            ],
            "layout": "IPY_MODEL_16c5354d71e54fee8ec4ae908867dd4c"
          }
        },
        "20dcbf937ab9465f852158c3ce380321": {
          "model_module": "@jupyter-widgets/controls",
          "model_name": "DropdownModel",
          "model_module_version": "1.5.0",
          "state": {
            "_dom_classes": [],
            "_model_module": "@jupyter-widgets/controls",
            "_model_module_version": "1.5.0",
            "_model_name": "DropdownModel",
            "_options_labels": [
              "0",
              "1",
              "2",
              "3",
              "4",
              "5",
              "6",
              "7",
              "8"
            ],
            "_view_count": null,
            "_view_module": "@jupyter-widgets/controls",
            "_view_module_version": "1.5.0",
            "_view_name": "DropdownView",
            "description": "ms",
            "description_tooltip": null,
            "disabled": false,
            "index": 1,
            "layout": "IPY_MODEL_99b8ed2630004b04b3e4d3a718d1a337",
            "style": "IPY_MODEL_8a23918f3e2243b8b590e6bad20a24c0"
          }
        },
        "2bbae0a77d3e4841922b5e7a0bec0b89": {
          "model_module": "@jupyter-widgets/output",
          "model_name": "OutputModel",
          "model_module_version": "1.0.0",
          "state": {
            "_dom_classes": [],
            "_model_module": "@jupyter-widgets/output",
            "_model_module_version": "1.0.0",
            "_model_name": "OutputModel",
            "_view_count": null,
            "_view_module": "@jupyter-widgets/output",
            "_view_module_version": "1.0.0",
            "_view_name": "OutputView",
            "layout": "IPY_MODEL_7370c035206442abb031cf624de69205",
            "msg_id": "",
            "outputs": [
              {
                "output_type": "display_data",
                "data": {
                  "application/3dmoljs_load.v0": "<div id=\"3dmolviewer_16558109962189202\"  style=\"position: relative; width: 400px; height: 400px\">\n        <p id=\"3dmolwarning_16558109962189202\" style=\"background-color:#ffcccc;color:black\">You appear to be running in JupyterLab (or JavaScript failed to load for some other reason).  You need to install the 3dmol extension: <br>\n        <tt>jupyter labextension install jupyterlab_3dmol</tt></p>\n        </div>\n<script>\n\nvar loadScriptAsync = function(uri){\n  return new Promise((resolve, reject) => {\n    var tag = document.createElement('script');\n    tag.src = uri;\n    tag.async = true;\n    tag.onload = () => {\n      resolve();\n    };\n  var firstScriptTag = document.getElementsByTagName('script')[0];\n  firstScriptTag.parentNode.insertBefore(tag, firstScriptTag);\n});\n};\n\nif(typeof $3Dmolpromise === 'undefined') {\n$3Dmolpromise = null;\n  $3Dmolpromise = loadScriptAsync('https://3dmol.org/build/3Dmol.js');\n}\n\nvar viewer_16558109962189202 = null;\nvar warn = document.getElementById(\"3dmolwarning_16558109962189202\");\nif(warn) {\n    warn.parentNode.removeChild(warn);\n}\n$3Dmolpromise.then(function() {\nviewer_16558109962189202 = $3Dmol.createViewer($(\"#3dmolviewer_16558109962189202\"),{backgroundColor:\"white\"});\nviewer_16558109962189202.zoomTo();\n\tviewer_16558109962189202.removeAllModels();\n\tviewer_16558109962189202.addModel(\"\\n     RDKit          3D\\n\\n 13 12  0  0  0  0  0  0  0  0999 V2000\\n   -0.9129   -1.0215    0.0481 C   0  0  0  0  0  0  0  0  0  0  0  0\\n   -0.2933    0.3263   -0.2456 C   0  0  0  0  0  0  0  0  0  0  0  0\\n    1.1306    0.2498    0.1727 C   0  0  0  0  0  0  0  0  0  0  0  0\\n    1.8353   -0.6569   -0.3226 O   0  0  0  0  0  0  0  0  0  0  0  0\\n    1.6922    1.1154    1.0620 O   0  0  0  0  0  0  0  0  0  0  0  0\\n   -0.9727    1.3641    0.3642 O   0  0  0  0  0  0  0  0  0  0  0  0\\n   -2.2231   -1.1086   -0.3853 O   0  0  0  0  0  0  0  0  0  0  0  0\\n   -0.7980   -1.2037    1.1395 H   0  0  0  0  0  0  0  0  0  0  0  0\\n   -0.2810   -1.7829   -0.4537 H   0  0  0  0  0  0  0  0  0  0  0  0\\n   -0.3817    0.4755   -1.3495 H   0  0  0  0  0  0  0  0  0  0  0  0\\n    2.5414    0.9155    1.6131 H   0  0  0  0  0  0  0  0  0  0  0  0\\n   -0.7133    1.5151    1.3080 H   0  0  0  0  0  0  0  0  0  0  0  0\\n   -2.8732   -1.0902    0.3795 H   0  0  0  0  0  0  0  0  0  0  0  0\\n  1  2  1  0\\n  2  3  1  0\\n  3  4  2  0\\n  3  5  1  0\\n  2  6  1  0\\n  1  7  1  0\\n  1  8  1  0\\n  1  9  1  0\\n  2 10  1  0\\n  5 11  1  0\\n  6 12  1  0\\n  7 13  1  0\\nM  END\\n\",\"sdf\");\n\tviewer_16558109962189202.setStyle({\"model\": 0},{\"stick\": {\"radius\": 0.15}});\n\tviewer_16558109962189202.addModel(\"\\n     RDKit          3D\\n\\n 19 19  0  0  0  0  0  0  0  0999 V2000\\n   -2.5150    0.6639    0.7777 C   0  0  0  0  0  0  0  0  0  0  0  0\\n   -1.7529   -0.2880    1.4213 C   0  0  0  0  0  0  0  0  0  0  0  0\\n   -0.5390   -0.7058    0.9093 C   0  0  0  0  0  0  0  0  0  0  0  0\\n   -0.0344   -0.1916   -0.2662 C   0  0  0  0  0  0  0  0  0  0  0  0\\n   -0.7960    0.7612   -0.9116 C   0  0  0  0  0  0  0  0  0  0  0  0\\n   -2.0173    1.1830   -0.3984 C   0  0  0  0  0  0  0  0  0  0  0  0\\n    1.2795   -0.6428   -0.8219 C   0  0  0  0  0  0  0  0  0  0  0  0\\n    2.4134   -0.0428   -0.1014 C   0  0  0  0  0  0  0  0  0  0  0  0\\n    3.2440   -0.8006    0.4757 O   0  0  0  0  0  0  0  0  0  0  0  0\\n    2.6452    1.3118   -0.0048 O   0  0  0  0  0  0  0  0  0  0  0  0\\n    1.3237   -2.0290   -0.7359 O   0  0  0  0  0  0  0  0  0  0  0  0\\n   -3.4651    0.9966    1.1705 H   0  0  0  0  0  0  0  0  0  0  0  0\\n   -2.1166   -0.7276    2.3651 H   0  0  0  0  0  0  0  0  0  0  0  0\\n    0.0261   -1.4652    1.4615 H   0  0  0  0  0  0  0  0  0  0  0  0\\n   -0.4070    1.1648   -1.8277 H   0  0  0  0  0  0  0  0  0  0  0  0\\n   -2.5833    1.9322   -0.9353 H   0  0  0  0  0  0  0  0  0  0  0  0\\n    1.3787   -0.3836   -1.8854 H   0  0  0  0  0  0  0  0  0  0  0  0\\n    2.9104    1.7291    0.8937 H   0  0  0  0  0  0  0  0  0  0  0  0\\n    1.0057   -2.4656   -1.5863 H   0  0  0  0  0  0  0  0  0  0  0  0\\n  1  2  2  0\\n  2  3  1  0\\n  3  4  2  0\\n  4  5  1  0\\n  5  6  2  0\\n  4  7  1  0\\n  7  8  1  0\\n  8  9  2  0\\n  8 10  1  0\\n  7 11  1  0\\n  6  1  1  0\\n  1 12  1  0\\n  2 13  1  0\\n  3 14  1  0\\n  5 15  1  0\\n  6 16  1  0\\n  7 17  1  0\\n 10 18  1  0\\n 11 19  1  0\\nM  END\\n\",\"sdf\");\n\tviewer_16558109962189202.setStyle({\"model\": 1},{\"stick\": {\"radius\": 0.15}});\n\tviewer_16558109962189202.setBackgroundColor(\"white\");\n\tviewer_16558109962189202.zoomTo();\n\tviewer_16558109962189202.removeAllModels();\n\tviewer_16558109962189202.addModel(\"\\n     RDKit          3D\\n\\n 13 12  0  0  0  0  0  0  0  0999 V2000\\n   -0.9129   -1.0215    0.0481 C   0  0  0  0  0  0  0  0  0  0  0  0\\n   -0.2933    0.3263   -0.2456 C   0  0  0  0  0  0  0  0  0  0  0  0\\n    1.1306    0.2498    0.1727 C   0  0  0  0  0  0  0  0  0  0  0  0\\n    1.8353   -0.6569   -0.3226 O   0  0  0  0  0  0  0  0  0  0  0  0\\n    1.6922    1.1154    1.0620 O   0  0  0  0  0  0  0  0  0  0  0  0\\n   -0.9727    1.3641    0.3642 O   0  0  0  0  0  0  0  0  0  0  0  0\\n   -2.2231   -1.1086   -0.3853 O   0  0  0  0  0  0  0  0  0  0  0  0\\n   -0.7980   -1.2037    1.1395 H   0  0  0  0  0  0  0  0  0  0  0  0\\n   -0.2810   -1.7829   -0.4537 H   0  0  0  0  0  0  0  0  0  0  0  0\\n   -0.3817    0.4755   -1.3495 H   0  0  0  0  0  0  0  0  0  0  0  0\\n    2.5414    0.9155    1.6131 H   0  0  0  0  0  0  0  0  0  0  0  0\\n   -0.7133    1.5151    1.3080 H   0  0  0  0  0  0  0  0  0  0  0  0\\n   -2.8732   -1.0902    0.3795 H   0  0  0  0  0  0  0  0  0  0  0  0\\n  1  2  1  0\\n  2  3  1  0\\n  3  4  2  0\\n  3  5  1  0\\n  2  6  1  0\\n  1  7  1  0\\n  1  8  1  0\\n  1  9  1  0\\n  2 10  1  0\\n  5 11  1  0\\n  6 12  1  0\\n  7 13  1  0\\nM  END\\n\",\"sdf\");\n\tviewer_16558109962189202.setStyle({\"model\": 0},{\"stick\": {\"radius\": 0.15}});\n\tviewer_16558109962189202.addModel(\"\\n     RDKit          3D\\n\\n 15 14  0  0  0  0  0  0  0  0999 V2000\\n   -2.0599   -0.0613   -0.3357 C   0  0  0  0  0  0  0  0  0  0  0  0\\n   -0.6208    0.1254   -0.6671 C   0  0  0  0  0  0  0  0  0  0  0  0\\n    0.3000   -0.4950    0.3847 C   0  0  0  0  0  0  0  0  0  0  0  0\\n    1.7197   -0.2984    0.0365 C   0  0  0  0  0  0  0  0  0  0  0  0\\n    2.1722   -0.8129   -1.0074 O   0  0  0  0  0  0  0  0  0  0  0  0\\n    2.5714    0.4461    0.8401 O   0  0  0  0  0  0  0  0  0  0  0  0\\n    0.0500    0.1730    1.5819 O   0  0  0  0  0  0  0  0  0  0  0  0\\n   -2.5857   -0.7388   -1.0676 H   0  0  0  0  0  0  0  0  0  0  0  0\\n   -2.5684    0.9283   -0.4631 H   0  0  0  0  0  0  0  0  0  0  0  0\\n   -2.2140   -0.4339    0.6964 H   0  0  0  0  0  0  0  0  0  0  0  0\\n   -0.3273    1.1830   -0.8491 H   0  0  0  0  0  0  0  0  0  0  0  0\\n   -0.4133   -0.4120   -1.6154 H   0  0  0  0  0  0  0  0  0  0  0  0\\n    0.0265   -1.5694    0.4679 H   0  0  0  0  0  0  0  0  0  0  0  0\\n    3.3890    0.9442    0.4597 H   0  0  0  0  0  0  0  0  0  0  0  0\\n    0.5607    1.0217    1.5380 H   0  0  0  0  0  0  0  0  0  0  0  0\\n  1  2  1  0\\n  2  3  1  0\\n  3  4  1  0\\n  4  5  2  0\\n  4  6  1  0\\n  3  7  1  0\\n  1  8  1  0\\n  1  9  1  0\\n  1 10  1  0\\n  2 11  1  0\\n  2 12  1  0\\n  3 13  1  0\\n  6 14  1  0\\n  7 15  1  0\\nM  END\\n\",\"sdf\");\n\tviewer_16558109962189202.setStyle({\"model\": 1},{\"stick\": {\"radius\": 0.15}});\n\tviewer_16558109962189202.setBackgroundColor(\"white\");\n\tviewer_16558109962189202.zoomTo();\nviewer_16558109962189202.render();\n});\n</script>",
                  "text/html": "<div id=\"3dmolviewer_16558109962189202\"  style=\"position: relative; width: 400px; height: 400px\">\n        <p id=\"3dmolwarning_16558109962189202\" style=\"background-color:#ffcccc;color:black\">You appear to be running in JupyterLab (or JavaScript failed to load for some other reason).  You need to install the 3dmol extension: <br>\n        <tt>jupyter labextension install jupyterlab_3dmol</tt></p>\n        </div>\n<script>\n\nvar loadScriptAsync = function(uri){\n  return new Promise((resolve, reject) => {\n    var tag = document.createElement('script');\n    tag.src = uri;\n    tag.async = true;\n    tag.onload = () => {\n      resolve();\n    };\n  var firstScriptTag = document.getElementsByTagName('script')[0];\n  firstScriptTag.parentNode.insertBefore(tag, firstScriptTag);\n});\n};\n\nif(typeof $3Dmolpromise === 'undefined') {\n$3Dmolpromise = null;\n  $3Dmolpromise = loadScriptAsync('https://3dmol.org/build/3Dmol.js');\n}\n\nvar viewer_16558109962189202 = null;\nvar warn = document.getElementById(\"3dmolwarning_16558109962189202\");\nif(warn) {\n    warn.parentNode.removeChild(warn);\n}\n$3Dmolpromise.then(function() {\nviewer_16558109962189202 = $3Dmol.createViewer($(\"#3dmolviewer_16558109962189202\"),{backgroundColor:\"white\"});\nviewer_16558109962189202.zoomTo();\n\tviewer_16558109962189202.removeAllModels();\n\tviewer_16558109962189202.addModel(\"\\n     RDKit          3D\\n\\n 13 12  0  0  0  0  0  0  0  0999 V2000\\n   -0.9129   -1.0215    0.0481 C   0  0  0  0  0  0  0  0  0  0  0  0\\n   -0.2933    0.3263   -0.2456 C   0  0  0  0  0  0  0  0  0  0  0  0\\n    1.1306    0.2498    0.1727 C   0  0  0  0  0  0  0  0  0  0  0  0\\n    1.8353   -0.6569   -0.3226 O   0  0  0  0  0  0  0  0  0  0  0  0\\n    1.6922    1.1154    1.0620 O   0  0  0  0  0  0  0  0  0  0  0  0\\n   -0.9727    1.3641    0.3642 O   0  0  0  0  0  0  0  0  0  0  0  0\\n   -2.2231   -1.1086   -0.3853 O   0  0  0  0  0  0  0  0  0  0  0  0\\n   -0.7980   -1.2037    1.1395 H   0  0  0  0  0  0  0  0  0  0  0  0\\n   -0.2810   -1.7829   -0.4537 H   0  0  0  0  0  0  0  0  0  0  0  0\\n   -0.3817    0.4755   -1.3495 H   0  0  0  0  0  0  0  0  0  0  0  0\\n    2.5414    0.9155    1.6131 H   0  0  0  0  0  0  0  0  0  0  0  0\\n   -0.7133    1.5151    1.3080 H   0  0  0  0  0  0  0  0  0  0  0  0\\n   -2.8732   -1.0902    0.3795 H   0  0  0  0  0  0  0  0  0  0  0  0\\n  1  2  1  0\\n  2  3  1  0\\n  3  4  2  0\\n  3  5  1  0\\n  2  6  1  0\\n  1  7  1  0\\n  1  8  1  0\\n  1  9  1  0\\n  2 10  1  0\\n  5 11  1  0\\n  6 12  1  0\\n  7 13  1  0\\nM  END\\n\",\"sdf\");\n\tviewer_16558109962189202.setStyle({\"model\": 0},{\"stick\": {\"radius\": 0.15}});\n\tviewer_16558109962189202.addModel(\"\\n     RDKit          3D\\n\\n 19 19  0  0  0  0  0  0  0  0999 V2000\\n   -2.5150    0.6639    0.7777 C   0  0  0  0  0  0  0  0  0  0  0  0\\n   -1.7529   -0.2880    1.4213 C   0  0  0  0  0  0  0  0  0  0  0  0\\n   -0.5390   -0.7058    0.9093 C   0  0  0  0  0  0  0  0  0  0  0  0\\n   -0.0344   -0.1916   -0.2662 C   0  0  0  0  0  0  0  0  0  0  0  0\\n   -0.7960    0.7612   -0.9116 C   0  0  0  0  0  0  0  0  0  0  0  0\\n   -2.0173    1.1830   -0.3984 C   0  0  0  0  0  0  0  0  0  0  0  0\\n    1.2795   -0.6428   -0.8219 C   0  0  0  0  0  0  0  0  0  0  0  0\\n    2.4134   -0.0428   -0.1014 C   0  0  0  0  0  0  0  0  0  0  0  0\\n    3.2440   -0.8006    0.4757 O   0  0  0  0  0  0  0  0  0  0  0  0\\n    2.6452    1.3118   -0.0048 O   0  0  0  0  0  0  0  0  0  0  0  0\\n    1.3237   -2.0290   -0.7359 O   0  0  0  0  0  0  0  0  0  0  0  0\\n   -3.4651    0.9966    1.1705 H   0  0  0  0  0  0  0  0  0  0  0  0\\n   -2.1166   -0.7276    2.3651 H   0  0  0  0  0  0  0  0  0  0  0  0\\n    0.0261   -1.4652    1.4615 H   0  0  0  0  0  0  0  0  0  0  0  0\\n   -0.4070    1.1648   -1.8277 H   0  0  0  0  0  0  0  0  0  0  0  0\\n   -2.5833    1.9322   -0.9353 H   0  0  0  0  0  0  0  0  0  0  0  0\\n    1.3787   -0.3836   -1.8854 H   0  0  0  0  0  0  0  0  0  0  0  0\\n    2.9104    1.7291    0.8937 H   0  0  0  0  0  0  0  0  0  0  0  0\\n    1.0057   -2.4656   -1.5863 H   0  0  0  0  0  0  0  0  0  0  0  0\\n  1  2  2  0\\n  2  3  1  0\\n  3  4  2  0\\n  4  5  1  0\\n  5  6  2  0\\n  4  7  1  0\\n  7  8  1  0\\n  8  9  2  0\\n  8 10  1  0\\n  7 11  1  0\\n  6  1  1  0\\n  1 12  1  0\\n  2 13  1  0\\n  3 14  1  0\\n  5 15  1  0\\n  6 16  1  0\\n  7 17  1  0\\n 10 18  1  0\\n 11 19  1  0\\nM  END\\n\",\"sdf\");\n\tviewer_16558109962189202.setStyle({\"model\": 1},{\"stick\": {\"radius\": 0.15}});\n\tviewer_16558109962189202.setBackgroundColor(\"white\");\n\tviewer_16558109962189202.zoomTo();\n\tviewer_16558109962189202.removeAllModels();\n\tviewer_16558109962189202.addModel(\"\\n     RDKit          3D\\n\\n 13 12  0  0  0  0  0  0  0  0999 V2000\\n   -0.9129   -1.0215    0.0481 C   0  0  0  0  0  0  0  0  0  0  0  0\\n   -0.2933    0.3263   -0.2456 C   0  0  0  0  0  0  0  0  0  0  0  0\\n    1.1306    0.2498    0.1727 C   0  0  0  0  0  0  0  0  0  0  0  0\\n    1.8353   -0.6569   -0.3226 O   0  0  0  0  0  0  0  0  0  0  0  0\\n    1.6922    1.1154    1.0620 O   0  0  0  0  0  0  0  0  0  0  0  0\\n   -0.9727    1.3641    0.3642 O   0  0  0  0  0  0  0  0  0  0  0  0\\n   -2.2231   -1.1086   -0.3853 O   0  0  0  0  0  0  0  0  0  0  0  0\\n   -0.7980   -1.2037    1.1395 H   0  0  0  0  0  0  0  0  0  0  0  0\\n   -0.2810   -1.7829   -0.4537 H   0  0  0  0  0  0  0  0  0  0  0  0\\n   -0.3817    0.4755   -1.3495 H   0  0  0  0  0  0  0  0  0  0  0  0\\n    2.5414    0.9155    1.6131 H   0  0  0  0  0  0  0  0  0  0  0  0\\n   -0.7133    1.5151    1.3080 H   0  0  0  0  0  0  0  0  0  0  0  0\\n   -2.8732   -1.0902    0.3795 H   0  0  0  0  0  0  0  0  0  0  0  0\\n  1  2  1  0\\n  2  3  1  0\\n  3  4  2  0\\n  3  5  1  0\\n  2  6  1  0\\n  1  7  1  0\\n  1  8  1  0\\n  1  9  1  0\\n  2 10  1  0\\n  5 11  1  0\\n  6 12  1  0\\n  7 13  1  0\\nM  END\\n\",\"sdf\");\n\tviewer_16558109962189202.setStyle({\"model\": 0},{\"stick\": {\"radius\": 0.15}});\n\tviewer_16558109962189202.addModel(\"\\n     RDKit          3D\\n\\n 15 14  0  0  0  0  0  0  0  0999 V2000\\n   -2.0599   -0.0613   -0.3357 C   0  0  0  0  0  0  0  0  0  0  0  0\\n   -0.6208    0.1254   -0.6671 C   0  0  0  0  0  0  0  0  0  0  0  0\\n    0.3000   -0.4950    0.3847 C   0  0  0  0  0  0  0  0  0  0  0  0\\n    1.7197   -0.2984    0.0365 C   0  0  0  0  0  0  0  0  0  0  0  0\\n    2.1722   -0.8129   -1.0074 O   0  0  0  0  0  0  0  0  0  0  0  0\\n    2.5714    0.4461    0.8401 O   0  0  0  0  0  0  0  0  0  0  0  0\\n    0.0500    0.1730    1.5819 O   0  0  0  0  0  0  0  0  0  0  0  0\\n   -2.5857   -0.7388   -1.0676 H   0  0  0  0  0  0  0  0  0  0  0  0\\n   -2.5684    0.9283   -0.4631 H   0  0  0  0  0  0  0  0  0  0  0  0\\n   -2.2140   -0.4339    0.6964 H   0  0  0  0  0  0  0  0  0  0  0  0\\n   -0.3273    1.1830   -0.8491 H   0  0  0  0  0  0  0  0  0  0  0  0\\n   -0.4133   -0.4120   -1.6154 H   0  0  0  0  0  0  0  0  0  0  0  0\\n    0.0265   -1.5694    0.4679 H   0  0  0  0  0  0  0  0  0  0  0  0\\n    3.3890    0.9442    0.4597 H   0  0  0  0  0  0  0  0  0  0  0  0\\n    0.5607    1.0217    1.5380 H   0  0  0  0  0  0  0  0  0  0  0  0\\n  1  2  1  0\\n  2  3  1  0\\n  3  4  1  0\\n  4  5  2  0\\n  4  6  1  0\\n  3  7  1  0\\n  1  8  1  0\\n  1  9  1  0\\n  1 10  1  0\\n  2 11  1  0\\n  2 12  1  0\\n  3 13  1  0\\n  6 14  1  0\\n  7 15  1  0\\nM  END\\n\",\"sdf\");\n\tviewer_16558109962189202.setStyle({\"model\": 1},{\"stick\": {\"radius\": 0.15}});\n\tviewer_16558109962189202.setBackgroundColor(\"white\");\n\tviewer_16558109962189202.zoomTo();\nviewer_16558109962189202.render();\n});\n</script>"
                },
                "metadata": {}
              }
            ]
          }
        },
        "16c5354d71e54fee8ec4ae908867dd4c": {
          "model_module": "@jupyter-widgets/base",
          "model_name": "LayoutModel",
          "model_module_version": "1.2.0",
          "state": {
            "_model_module": "@jupyter-widgets/base",
            "_model_module_version": "1.2.0",
            "_model_name": "LayoutModel",
            "_view_count": null,
            "_view_module": "@jupyter-widgets/base",
            "_view_module_version": "1.2.0",
            "_view_name": "LayoutView",
            "align_content": null,
            "align_items": null,
            "align_self": null,
            "border": null,
            "bottom": null,
            "display": null,
            "flex": null,
            "flex_flow": null,
            "grid_area": null,
            "grid_auto_columns": null,
            "grid_auto_flow": null,
            "grid_auto_rows": null,
            "grid_column": null,
            "grid_gap": null,
            "grid_row": null,
            "grid_template_areas": null,
            "grid_template_columns": null,
            "grid_template_rows": null,
            "height": null,
            "justify_content": null,
            "justify_items": null,
            "left": null,
            "margin": null,
            "max_height": null,
            "max_width": null,
            "min_height": null,
            "min_width": null,
            "object_fit": null,
            "object_position": null,
            "order": null,
            "overflow": null,
            "overflow_x": null,
            "overflow_y": null,
            "padding": null,
            "right": null,
            "top": null,
            "visibility": null,
            "width": null
          }
        },
        "99b8ed2630004b04b3e4d3a718d1a337": {
          "model_module": "@jupyter-widgets/base",
          "model_name": "LayoutModel",
          "model_module_version": "1.2.0",
          "state": {
            "_model_module": "@jupyter-widgets/base",
            "_model_module_version": "1.2.0",
            "_model_name": "LayoutModel",
            "_view_count": null,
            "_view_module": "@jupyter-widgets/base",
            "_view_module_version": "1.2.0",
            "_view_name": "LayoutView",
            "align_content": null,
            "align_items": null,
            "align_self": null,
            "border": null,
            "bottom": null,
            "display": null,
            "flex": null,
            "flex_flow": null,
            "grid_area": null,
            "grid_auto_columns": null,
            "grid_auto_flow": null,
            "grid_auto_rows": null,
            "grid_column": null,
            "grid_gap": null,
            "grid_row": null,
            "grid_template_areas": null,
            "grid_template_columns": null,
            "grid_template_rows": null,
            "height": null,
            "justify_content": null,
            "justify_items": null,
            "left": null,
            "margin": null,
            "max_height": null,
            "max_width": null,
            "min_height": null,
            "min_width": null,
            "object_fit": null,
            "object_position": null,
            "order": null,
            "overflow": null,
            "overflow_x": null,
            "overflow_y": null,
            "padding": null,
            "right": null,
            "top": null,
            "visibility": null,
            "width": null
          }
        },
        "8a23918f3e2243b8b590e6bad20a24c0": {
          "model_module": "@jupyter-widgets/controls",
          "model_name": "DescriptionStyleModel",
          "model_module_version": "1.5.0",
          "state": {
            "_model_module": "@jupyter-widgets/controls",
            "_model_module_version": "1.5.0",
            "_model_name": "DescriptionStyleModel",
            "_view_count": null,
            "_view_module": "@jupyter-widgets/base",
            "_view_module_version": "1.2.0",
            "_view_name": "StyleView",
            "description_width": ""
          }
        },
        "7370c035206442abb031cf624de69205": {
          "model_module": "@jupyter-widgets/base",
          "model_name": "LayoutModel",
          "model_module_version": "1.2.0",
          "state": {
            "_model_module": "@jupyter-widgets/base",
            "_model_module_version": "1.2.0",
            "_model_name": "LayoutModel",
            "_view_count": null,
            "_view_module": "@jupyter-widgets/base",
            "_view_module_version": "1.2.0",
            "_view_name": "LayoutView",
            "align_content": null,
            "align_items": null,
            "align_self": null,
            "border": null,
            "bottom": null,
            "display": null,
            "flex": null,
            "flex_flow": null,
            "grid_area": null,
            "grid_auto_columns": null,
            "grid_auto_flow": null,
            "grid_auto_rows": null,
            "grid_column": null,
            "grid_gap": null,
            "grid_row": null,
            "grid_template_areas": null,
            "grid_template_columns": null,
            "grid_template_rows": null,
            "height": null,
            "justify_content": null,
            "justify_items": null,
            "left": null,
            "margin": null,
            "max_height": null,
            "max_width": null,
            "min_height": null,
            "min_width": null,
            "object_fit": null,
            "object_position": null,
            "order": null,
            "overflow": null,
            "overflow_x": null,
            "overflow_y": null,
            "padding": null,
            "right": null,
            "top": null,
            "visibility": null,
            "width": null
          }
        },
        "a7feed853cc84bd78c67985c62391358": {
          "model_module": "@jupyter-widgets/controls",
          "model_name": "VBoxModel",
          "model_module_version": "1.5.0",
          "state": {
            "_dom_classes": [
              "widget-interact"
            ],
            "_model_module": "@jupyter-widgets/controls",
            "_model_module_version": "1.5.0",
            "_model_name": "VBoxModel",
            "_view_count": null,
            "_view_module": "@jupyter-widgets/controls",
            "_view_module_version": "1.5.0",
            "_view_name": "VBoxView",
            "box_style": "",
            "children": [
              "IPY_MODEL_098b0e4eb83d4dc0b400e0c0ae1dc3df",
              "IPY_MODEL_ec99639e201245f0be09d4ef43796853"
            ],
            "layout": "IPY_MODEL_c79a4f8806b549fca53920ee21cfb893"
          }
        },
        "098b0e4eb83d4dc0b400e0c0ae1dc3df": {
          "model_module": "@jupyter-widgets/controls",
          "model_name": "DropdownModel",
          "model_module_version": "1.5.0",
          "state": {
            "_dom_classes": [],
            "_model_module": "@jupyter-widgets/controls",
            "_model_module_version": "1.5.0",
            "_model_name": "DropdownModel",
            "_options_labels": [
              "0",
              "1",
              "2",
              "3",
              "4",
              "5",
              "6",
              "7",
              "8"
            ],
            "_view_count": null,
            "_view_module": "@jupyter-widgets/controls",
            "_view_module_version": "1.5.0",
            "_view_name": "DropdownView",
            "description": "ms",
            "description_tooltip": null,
            "disabled": false,
            "index": 2,
            "layout": "IPY_MODEL_d8d0764940c744228c4f5c4d9d720cdd",
            "style": "IPY_MODEL_cf71c0b61039480a90781c3129bec266"
          }
        },
        "ec99639e201245f0be09d4ef43796853": {
          "model_module": "@jupyter-widgets/output",
          "model_name": "OutputModel",
          "model_module_version": "1.0.0",
          "state": {
            "_dom_classes": [],
            "_model_module": "@jupyter-widgets/output",
            "_model_module_version": "1.0.0",
            "_model_name": "OutputModel",
            "_view_count": null,
            "_view_module": "@jupyter-widgets/output",
            "_view_module_version": "1.0.0",
            "_view_name": "OutputView",
            "layout": "IPY_MODEL_f7198dc272994ee8a7cf0994d0dc4c9a",
            "msg_id": "",
            "outputs": [
              {
                "output_type": "display_data",
                "data": {
                  "application/3dmoljs_load.v0": "<div id=\"3dmolviewer_16558111477624407\"  style=\"position: relative; width: 400px; height: 400px\">\n        <p id=\"3dmolwarning_16558111477624407\" style=\"background-color:#ffcccc;color:black\">You appear to be running in JupyterLab (or JavaScript failed to load for some other reason).  You need to install the 3dmol extension: <br>\n        <tt>jupyter labextension install jupyterlab_3dmol</tt></p>\n        </div>\n<script>\n\nvar loadScriptAsync = function(uri){\n  return new Promise((resolve, reject) => {\n    var tag = document.createElement('script');\n    tag.src = uri;\n    tag.async = true;\n    tag.onload = () => {\n      resolve();\n    };\n  var firstScriptTag = document.getElementsByTagName('script')[0];\n  firstScriptTag.parentNode.insertBefore(tag, firstScriptTag);\n});\n};\n\nif(typeof $3Dmolpromise === 'undefined') {\n$3Dmolpromise = null;\n  $3Dmolpromise = loadScriptAsync('https://3dmol.org/build/3Dmol.js');\n}\n\nvar viewer_16558111477624407 = null;\nvar warn = document.getElementById(\"3dmolwarning_16558111477624407\");\nif(warn) {\n    warn.parentNode.removeChild(warn);\n}\n$3Dmolpromise.then(function() {\nviewer_16558111477624407 = $3Dmol.createViewer($(\"#3dmolviewer_16558111477624407\"),{backgroundColor:\"white\"});\nviewer_16558111477624407.zoomTo();\n\tviewer_16558111477624407.removeAllModels();\n\tviewer_16558111477624407.addModel(\"\\n     RDKit          3D\\n\\n 13 12  0  0  0  0  0  0  0  0999 V2000\\n   -0.1026   -0.3511   -0.1031 C   0  0  0  0  0  0  0  0  0  0  0  0\\n    1.3292   -0.8670    0.0440 C   0  0  0  0  0  0  0  0  0  0  0  0\\n    2.2497    0.2539    0.4329 C   0  0  0  0  0  0  0  0  0  0  0  0\\n    2.7294    1.0185   -0.4471 O   0  0  0  0  0  0  0  0  0  0  0  0\\n    2.5317    0.4791    1.7763 O   0  0  0  0  0  0  0  0  0  0  0  0\\n    1.7465   -1.4508   -1.1627 O   0  0  0  0  0  0  0  0  0  0  0  0\\n   -0.1845    0.5763   -1.1512 O   0  0  0  0  0  0  0  0  0  0  0  0\\n   -0.4299    0.1231    0.8500 H   0  0  0  0  0  0  0  0  0  0  0  0\\n   -0.7763   -1.2116   -0.3144 H   0  0  0  0  0  0  0  0  0  0  0  0\\n    1.3398   -1.6369    0.8503 H   0  0  0  0  0  0  0  0  0  0  0  0\\n    3.1347    1.2420    2.0592 H   0  0  0  0  0  0  0  0  0  0  0  0\\n    2.5637   -1.9766   -0.9577 H   0  0  0  0  0  0  0  0  0  0  0  0\\n   -1.1322    0.8686   -1.1863 H   0  0  0  0  0  0  0  0  0  0  0  0\\n  1  2  1  0\\n  2  3  1  0\\n  3  4  2  0\\n  3  5  1  0\\n  2  6  1  0\\n  1  7  1  0\\n  1  8  1  0\\n  1  9  1  0\\n  2 10  1  0\\n  5 11  1  0\\n  6 12  1  0\\n  7 13  1  0\\nM  END\\n\",\"sdf\");\n\tviewer_16558111477624407.setStyle({\"model\": 0},{\"stick\": {\"radius\": 0.15}});\n\tviewer_16558111477624407.addModel(\"\\n     RDKit          3D\\n\\n 19 19  0  0  0  0  0  0  0  0999 V2000\\n   -2.6880    0.6891   -0.3369 C   0  0  0  0  0  0  0  0  0  0  0  0\\n   -2.3178   -0.0205    0.8082 C   0  0  0  0  0  0  0  0  0  0  0  0\\n   -1.0213   -0.5303    0.9293 C   0  0  0  0  0  0  0  0  0  0  0  0\\n   -0.0842   -0.3418   -0.1025 C   0  0  0  0  0  0  0  0  0  0  0  0\\n   -0.4633    0.3870   -1.2457 C   0  0  0  0  0  0  0  0  0  0  0  0\\n   -1.7610    0.8946   -1.3618 C   0  0  0  0  0  0  0  0  0  0  0  0\\n    1.3231   -0.8673    0.0448 C   0  0  0  0  0  0  0  0  0  0  0  0\\n    2.2433    0.2538    0.4327 C   0  0  0  0  0  0  0  0  0  0  0  0\\n    2.7243    1.0172   -0.4478 O   0  0  0  0  0  0  0  0  0  0  0  0\\n    2.5284    0.4785    1.7758 O   0  0  0  0  0  0  0  0  0  0  0  0\\n    1.7435   -1.4537   -1.1606 O   0  0  0  0  0  0  0  0  0  0  0  0\\n   -3.6917    1.0838   -0.4280 H   0  0  0  0  0  0  0  0  0  0  0  0\\n   -3.0350   -0.1732    1.6043 H   0  0  0  0  0  0  0  0  0  0  0  0\\n   -0.7491   -1.0703    1.8277 H   0  0  0  0  0  0  0  0  0  0  0  0\\n    0.2460    0.5635   -2.0448 H   0  0  0  0  0  0  0  0  0  0  0  0\\n   -2.0469    1.4504   -2.2454 H   0  0  0  0  0  0  0  0  0  0  0  0\\n    1.3467   -1.6407    0.8480 H   0  0  0  0  0  0  0  0  0  0  0  0\\n    3.1332    1.2405    2.0580 H   0  0  0  0  0  0  0  0  0  0  0  0\\n    2.5637   -1.9753   -0.9562 H   0  0  0  0  0  0  0  0  0  0  0  0\\n  1  2  2  0\\n  2  3  1  0\\n  3  4  2  0\\n  4  5  1  0\\n  5  6  2  0\\n  4  7  1  0\\n  7  8  1  0\\n  8  9  2  0\\n  8 10  1  0\\n  7 11  1  0\\n  6  1  1  0\\n  1 12  1  0\\n  2 13  1  0\\n  3 14  1  0\\n  5 15  1  0\\n  6 16  1  0\\n  7 17  1  0\\n 10 18  1  0\\n 11 19  1  0\\nM  END\\n\",\"sdf\");\n\tviewer_16558111477624407.setStyle({\"model\": 1},{\"stick\": {\"radius\": 0.15}});\n\tviewer_16558111477624407.setBackgroundColor(\"white\");\n\tviewer_16558111477624407.zoomTo();\n\tviewer_16558111477624407.removeAllModels();\n\tviewer_16558111477624407.addModel(\"\\n     RDKit          3D\\n\\n 13 12  0  0  0  0  0  0  0  0999 V2000\\n   -0.1026   -0.3511   -0.1031 C   0  0  0  0  0  0  0  0  0  0  0  0\\n    1.3292   -0.8670    0.0440 C   0  0  0  0  0  0  0  0  0  0  0  0\\n    2.2497    0.2539    0.4329 C   0  0  0  0  0  0  0  0  0  0  0  0\\n    2.7294    1.0185   -0.4471 O   0  0  0  0  0  0  0  0  0  0  0  0\\n    2.5317    0.4791    1.7763 O   0  0  0  0  0  0  0  0  0  0  0  0\\n    1.7465   -1.4508   -1.1627 O   0  0  0  0  0  0  0  0  0  0  0  0\\n   -0.1845    0.5763   -1.1512 O   0  0  0  0  0  0  0  0  0  0  0  0\\n   -0.4299    0.1231    0.8500 H   0  0  0  0  0  0  0  0  0  0  0  0\\n   -0.7763   -1.2116   -0.3144 H   0  0  0  0  0  0  0  0  0  0  0  0\\n    1.3398   -1.6369    0.8503 H   0  0  0  0  0  0  0  0  0  0  0  0\\n    3.1347    1.2420    2.0592 H   0  0  0  0  0  0  0  0  0  0  0  0\\n    2.5637   -1.9766   -0.9577 H   0  0  0  0  0  0  0  0  0  0  0  0\\n   -1.1322    0.8686   -1.1863 H   0  0  0  0  0  0  0  0  0  0  0  0\\n  1  2  1  0\\n  2  3  1  0\\n  3  4  2  0\\n  3  5  1  0\\n  2  6  1  0\\n  1  7  1  0\\n  1  8  1  0\\n  1  9  1  0\\n  2 10  1  0\\n  5 11  1  0\\n  6 12  1  0\\n  7 13  1  0\\nM  END\\n\",\"sdf\");\n\tviewer_16558111477624407.setStyle({\"model\": 0},{\"stick\": {\"radius\": 0.15}});\n\tviewer_16558111477624407.addModel(\"\\n     RDKit          3D\\n\\n 15 14  0  0  0  0  0  0  0  0999 V2000\\n   -0.3235    0.6300   -1.2462 C   0  0  0  0  0  0  0  0  0  0  0  0\\n   -0.1173   -0.3591   -0.0958 C   0  0  0  0  0  0  0  0  0  0  0  0\\n    1.3279   -0.8621    0.0393 C   0  0  0  0  0  0  0  0  0  0  0  0\\n    2.2514    0.2555    0.4320 C   0  0  0  0  0  0  0  0  0  0  0  0\\n    2.7411    1.0155   -0.4463 O   0  0  0  0  0  0  0  0  0  0  0  0\\n    2.5294    0.4803    1.7763 O   0  0  0  0  0  0  0  0  0  0  0  0\\n    1.7474   -1.4519   -1.1641 O   0  0  0  0  0  0  0  0  0  0  0  0\\n   -1.4022    0.8807   -1.3260 H   0  0  0  0  0  0  0  0  0  0  0  0\\n    0.0045    0.1870   -2.2101 H   0  0  0  0  0  0  0  0  0  0  0  0\\n    0.2354    1.5706   -1.0609 H   0  0  0  0  0  0  0  0  0  0  0  0\\n   -0.7812   -1.2348   -0.2647 H   0  0  0  0  0  0  0  0  0  0  0  0\\n   -0.4367    0.1189    0.8563 H   0  0  0  0  0  0  0  0  0  0  0  0\\n    1.3429   -1.6319    0.8470 H   0  0  0  0  0  0  0  0  0  0  0  0\\n    3.1345    1.2412    2.0603 H   0  0  0  0  0  0  0  0  0  0  0  0\\n    2.5648   -1.9763   -0.9566 H   0  0  0  0  0  0  0  0  0  0  0  0\\n  1  2  1  0\\n  2  3  1  0\\n  3  4  1  0\\n  4  5  2  0\\n  4  6  1  0\\n  3  7  1  0\\n  1  8  1  0\\n  1  9  1  0\\n  1 10  1  0\\n  2 11  1  0\\n  2 12  1  0\\n  3 13  1  0\\n  6 14  1  0\\n  7 15  1  0\\nM  END\\n\",\"sdf\");\n\tviewer_16558111477624407.setStyle({\"model\": 1},{\"stick\": {\"radius\": 0.15}});\n\tviewer_16558111477624407.setBackgroundColor(\"white\");\n\tviewer_16558111477624407.zoomTo();\n\tviewer_16558111477624407.removeAllModels();\n\tviewer_16558111477624407.addModel(\"\\n     RDKit          3D\\n\\n 13 12  0  0  0  0  0  0  0  0999 V2000\\n   -0.1026   -0.3511   -0.1031 C   0  0  0  0  0  0  0  0  0  0  0  0\\n    1.3292   -0.8670    0.0440 C   0  0  0  0  0  0  0  0  0  0  0  0\\n    2.2497    0.2539    0.4329 C   0  0  0  0  0  0  0  0  0  0  0  0\\n    2.7294    1.0185   -0.4471 O   0  0  0  0  0  0  0  0  0  0  0  0\\n    2.5317    0.4791    1.7763 O   0  0  0  0  0  0  0  0  0  0  0  0\\n    1.7465   -1.4508   -1.1627 O   0  0  0  0  0  0  0  0  0  0  0  0\\n   -0.1845    0.5763   -1.1512 O   0  0  0  0  0  0  0  0  0  0  0  0\\n   -0.4299    0.1231    0.8500 H   0  0  0  0  0  0  0  0  0  0  0  0\\n   -0.7763   -1.2116   -0.3144 H   0  0  0  0  0  0  0  0  0  0  0  0\\n    1.3398   -1.6369    0.8503 H   0  0  0  0  0  0  0  0  0  0  0  0\\n    3.1347    1.2420    2.0592 H   0  0  0  0  0  0  0  0  0  0  0  0\\n    2.5637   -1.9766   -0.9577 H   0  0  0  0  0  0  0  0  0  0  0  0\\n   -1.1322    0.8686   -1.1863 H   0  0  0  0  0  0  0  0  0  0  0  0\\n  1  2  1  0\\n  2  3  1  0\\n  3  4  2  0\\n  3  5  1  0\\n  2  6  1  0\\n  1  7  1  0\\n  1  8  1  0\\n  1  9  1  0\\n  2 10  1  0\\n  5 11  1  0\\n  6 12  1  0\\n  7 13  1  0\\nM  END\\n\",\"sdf\");\n\tviewer_16558111477624407.setStyle({\"model\": 0},{\"stick\": {\"radius\": 0.15}});\n\tviewer_16558111477624407.addModel(\"\\n     RDKit          3D\\n\\n 19 19  0  0  0  0  0  0  0  0999 V2000\\n    1.7434   -1.4538   -1.1606 O   0  0  0  0  0  0  0  0  0  0  0  0\\n    1.3231   -0.8674    0.0448 C   0  0  0  0  0  0  0  0  0  0  0  0\\n    2.2433    0.2537    0.4327 C   0  0  0  0  0  0  0  0  0  0  0  0\\n    2.5285    0.4784    1.7758 O   0  0  0  0  0  0  0  0  0  0  0  0\\n    2.7241    1.0172   -0.4478 O   0  0  0  0  0  0  0  0  0  0  0  0\\n   -0.0841   -0.3416   -0.1026 C   0  0  0  0  0  0  0  0  0  0  0  0\\n   -1.0217   -0.5315    0.9279 C   0  0  0  0  0  0  0  0  0  0  0  0\\n   -2.3178   -0.0208    0.8077 C   0  0  0  0  0  0  0  0  0  0  0  0\\n   -2.6880    0.6923   -0.3366 C   0  0  0  0  0  0  0  0  0  0  0  0\\n   -4.3140    1.3337   -0.4840 Cl  0  0  0  0  0  0  0  0  0  0  0  0\\n   -1.7588    0.8986   -1.3608 C   0  0  0  0  0  0  0  0  0  0  0  0\\n   -0.4619    0.3895   -1.2443 C   0  0  0  0  0  0  0  0  0  0  0  0\\n    2.5637   -1.9753   -0.9562 H   0  0  0  0  0  0  0  0  0  0  0  0\\n    1.3467   -1.6408    0.8480 H   0  0  0  0  0  0  0  0  0  0  0  0\\n    3.1332    1.2405    2.0580 H   0  0  0  0  0  0  0  0  0  0  0  0\\n   -0.7502   -1.0735    1.8254 H   0  0  0  0  0  0  0  0  0  0  0  0\\n   -3.0321   -0.1772    1.6061 H   0  0  0  0  0  0  0  0  0  0  0  0\\n   -2.0388    1.4560   -2.2456 H   0  0  0  0  0  0  0  0  0  0  0  0\\n    0.2482    0.5670   -2.0425 H   0  0  0  0  0  0  0  0  0  0  0  0\\n  1  2  1  0\\n  2  3  1  0\\n  3  4  1  0\\n  3  5  2  0\\n  2  6  1  0\\n  6  7  2  0\\n  7  8  1  0\\n  8  9  2  0\\n  9 10  1  0\\n  9 11  1  0\\n 11 12  2  0\\n 12  6  1  0\\n  1 13  1  0\\n  2 14  1  0\\n  4 15  1  0\\n  7 16  1  0\\n  8 17  1  0\\n 11 18  1  0\\n 12 19  1  0\\nM  END\\n\",\"sdf\");\n\tviewer_16558111477624407.setStyle({\"model\": 1},{\"stick\": {\"radius\": 0.15}});\n\tviewer_16558111477624407.setBackgroundColor(\"white\");\n\tviewer_16558111477624407.zoomTo();\nviewer_16558111477624407.render();\n});\n</script>",
                  "text/html": "<div id=\"3dmolviewer_16558111477624407\"  style=\"position: relative; width: 400px; height: 400px\">\n        <p id=\"3dmolwarning_16558111477624407\" style=\"background-color:#ffcccc;color:black\">You appear to be running in JupyterLab (or JavaScript failed to load for some other reason).  You need to install the 3dmol extension: <br>\n        <tt>jupyter labextension install jupyterlab_3dmol</tt></p>\n        </div>\n<script>\n\nvar loadScriptAsync = function(uri){\n  return new Promise((resolve, reject) => {\n    var tag = document.createElement('script');\n    tag.src = uri;\n    tag.async = true;\n    tag.onload = () => {\n      resolve();\n    };\n  var firstScriptTag = document.getElementsByTagName('script')[0];\n  firstScriptTag.parentNode.insertBefore(tag, firstScriptTag);\n});\n};\n\nif(typeof $3Dmolpromise === 'undefined') {\n$3Dmolpromise = null;\n  $3Dmolpromise = loadScriptAsync('https://3dmol.org/build/3Dmol.js');\n}\n\nvar viewer_16558111477624407 = null;\nvar warn = document.getElementById(\"3dmolwarning_16558111477624407\");\nif(warn) {\n    warn.parentNode.removeChild(warn);\n}\n$3Dmolpromise.then(function() {\nviewer_16558111477624407 = $3Dmol.createViewer($(\"#3dmolviewer_16558111477624407\"),{backgroundColor:\"white\"});\nviewer_16558111477624407.zoomTo();\n\tviewer_16558111477624407.removeAllModels();\n\tviewer_16558111477624407.addModel(\"\\n     RDKit          3D\\n\\n 13 12  0  0  0  0  0  0  0  0999 V2000\\n   -0.1026   -0.3511   -0.1031 C   0  0  0  0  0  0  0  0  0  0  0  0\\n    1.3292   -0.8670    0.0440 C   0  0  0  0  0  0  0  0  0  0  0  0\\n    2.2497    0.2539    0.4329 C   0  0  0  0  0  0  0  0  0  0  0  0\\n    2.7294    1.0185   -0.4471 O   0  0  0  0  0  0  0  0  0  0  0  0\\n    2.5317    0.4791    1.7763 O   0  0  0  0  0  0  0  0  0  0  0  0\\n    1.7465   -1.4508   -1.1627 O   0  0  0  0  0  0  0  0  0  0  0  0\\n   -0.1845    0.5763   -1.1512 O   0  0  0  0  0  0  0  0  0  0  0  0\\n   -0.4299    0.1231    0.8500 H   0  0  0  0  0  0  0  0  0  0  0  0\\n   -0.7763   -1.2116   -0.3144 H   0  0  0  0  0  0  0  0  0  0  0  0\\n    1.3398   -1.6369    0.8503 H   0  0  0  0  0  0  0  0  0  0  0  0\\n    3.1347    1.2420    2.0592 H   0  0  0  0  0  0  0  0  0  0  0  0\\n    2.5637   -1.9766   -0.9577 H   0  0  0  0  0  0  0  0  0  0  0  0\\n   -1.1322    0.8686   -1.1863 H   0  0  0  0  0  0  0  0  0  0  0  0\\n  1  2  1  0\\n  2  3  1  0\\n  3  4  2  0\\n  3  5  1  0\\n  2  6  1  0\\n  1  7  1  0\\n  1  8  1  0\\n  1  9  1  0\\n  2 10  1  0\\n  5 11  1  0\\n  6 12  1  0\\n  7 13  1  0\\nM  END\\n\",\"sdf\");\n\tviewer_16558111477624407.setStyle({\"model\": 0},{\"stick\": {\"radius\": 0.15}});\n\tviewer_16558111477624407.addModel(\"\\n     RDKit          3D\\n\\n 19 19  0  0  0  0  0  0  0  0999 V2000\\n   -2.6880    0.6891   -0.3369 C   0  0  0  0  0  0  0  0  0  0  0  0\\n   -2.3178   -0.0205    0.8082 C   0  0  0  0  0  0  0  0  0  0  0  0\\n   -1.0213   -0.5303    0.9293 C   0  0  0  0  0  0  0  0  0  0  0  0\\n   -0.0842   -0.3418   -0.1025 C   0  0  0  0  0  0  0  0  0  0  0  0\\n   -0.4633    0.3870   -1.2457 C   0  0  0  0  0  0  0  0  0  0  0  0\\n   -1.7610    0.8946   -1.3618 C   0  0  0  0  0  0  0  0  0  0  0  0\\n    1.3231   -0.8673    0.0448 C   0  0  0  0  0  0  0  0  0  0  0  0\\n    2.2433    0.2538    0.4327 C   0  0  0  0  0  0  0  0  0  0  0  0\\n    2.7243    1.0172   -0.4478 O   0  0  0  0  0  0  0  0  0  0  0  0\\n    2.5284    0.4785    1.7758 O   0  0  0  0  0  0  0  0  0  0  0  0\\n    1.7435   -1.4537   -1.1606 O   0  0  0  0  0  0  0  0  0  0  0  0\\n   -3.6917    1.0838   -0.4280 H   0  0  0  0  0  0  0  0  0  0  0  0\\n   -3.0350   -0.1732    1.6043 H   0  0  0  0  0  0  0  0  0  0  0  0\\n   -0.7491   -1.0703    1.8277 H   0  0  0  0  0  0  0  0  0  0  0  0\\n    0.2460    0.5635   -2.0448 H   0  0  0  0  0  0  0  0  0  0  0  0\\n   -2.0469    1.4504   -2.2454 H   0  0  0  0  0  0  0  0  0  0  0  0\\n    1.3467   -1.6407    0.8480 H   0  0  0  0  0  0  0  0  0  0  0  0\\n    3.1332    1.2405    2.0580 H   0  0  0  0  0  0  0  0  0  0  0  0\\n    2.5637   -1.9753   -0.9562 H   0  0  0  0  0  0  0  0  0  0  0  0\\n  1  2  2  0\\n  2  3  1  0\\n  3  4  2  0\\n  4  5  1  0\\n  5  6  2  0\\n  4  7  1  0\\n  7  8  1  0\\n  8  9  2  0\\n  8 10  1  0\\n  7 11  1  0\\n  6  1  1  0\\n  1 12  1  0\\n  2 13  1  0\\n  3 14  1  0\\n  5 15  1  0\\n  6 16  1  0\\n  7 17  1  0\\n 10 18  1  0\\n 11 19  1  0\\nM  END\\n\",\"sdf\");\n\tviewer_16558111477624407.setStyle({\"model\": 1},{\"stick\": {\"radius\": 0.15}});\n\tviewer_16558111477624407.setBackgroundColor(\"white\");\n\tviewer_16558111477624407.zoomTo();\n\tviewer_16558111477624407.removeAllModels();\n\tviewer_16558111477624407.addModel(\"\\n     RDKit          3D\\n\\n 13 12  0  0  0  0  0  0  0  0999 V2000\\n   -0.1026   -0.3511   -0.1031 C   0  0  0  0  0  0  0  0  0  0  0  0\\n    1.3292   -0.8670    0.0440 C   0  0  0  0  0  0  0  0  0  0  0  0\\n    2.2497    0.2539    0.4329 C   0  0  0  0  0  0  0  0  0  0  0  0\\n    2.7294    1.0185   -0.4471 O   0  0  0  0  0  0  0  0  0  0  0  0\\n    2.5317    0.4791    1.7763 O   0  0  0  0  0  0  0  0  0  0  0  0\\n    1.7465   -1.4508   -1.1627 O   0  0  0  0  0  0  0  0  0  0  0  0\\n   -0.1845    0.5763   -1.1512 O   0  0  0  0  0  0  0  0  0  0  0  0\\n   -0.4299    0.1231    0.8500 H   0  0  0  0  0  0  0  0  0  0  0  0\\n   -0.7763   -1.2116   -0.3144 H   0  0  0  0  0  0  0  0  0  0  0  0\\n    1.3398   -1.6369    0.8503 H   0  0  0  0  0  0  0  0  0  0  0  0\\n    3.1347    1.2420    2.0592 H   0  0  0  0  0  0  0  0  0  0  0  0\\n    2.5637   -1.9766   -0.9577 H   0  0  0  0  0  0  0  0  0  0  0  0\\n   -1.1322    0.8686   -1.1863 H   0  0  0  0  0  0  0  0  0  0  0  0\\n  1  2  1  0\\n  2  3  1  0\\n  3  4  2  0\\n  3  5  1  0\\n  2  6  1  0\\n  1  7  1  0\\n  1  8  1  0\\n  1  9  1  0\\n  2 10  1  0\\n  5 11  1  0\\n  6 12  1  0\\n  7 13  1  0\\nM  END\\n\",\"sdf\");\n\tviewer_16558111477624407.setStyle({\"model\": 0},{\"stick\": {\"radius\": 0.15}});\n\tviewer_16558111477624407.addModel(\"\\n     RDKit          3D\\n\\n 15 14  0  0  0  0  0  0  0  0999 V2000\\n   -0.3235    0.6300   -1.2462 C   0  0  0  0  0  0  0  0  0  0  0  0\\n   -0.1173   -0.3591   -0.0958 C   0  0  0  0  0  0  0  0  0  0  0  0\\n    1.3279   -0.8621    0.0393 C   0  0  0  0  0  0  0  0  0  0  0  0\\n    2.2514    0.2555    0.4320 C   0  0  0  0  0  0  0  0  0  0  0  0\\n    2.7411    1.0155   -0.4463 O   0  0  0  0  0  0  0  0  0  0  0  0\\n    2.5294    0.4803    1.7763 O   0  0  0  0  0  0  0  0  0  0  0  0\\n    1.7474   -1.4519   -1.1641 O   0  0  0  0  0  0  0  0  0  0  0  0\\n   -1.4022    0.8807   -1.3260 H   0  0  0  0  0  0  0  0  0  0  0  0\\n    0.0045    0.1870   -2.2101 H   0  0  0  0  0  0  0  0  0  0  0  0\\n    0.2354    1.5706   -1.0609 H   0  0  0  0  0  0  0  0  0  0  0  0\\n   -0.7812   -1.2348   -0.2647 H   0  0  0  0  0  0  0  0  0  0  0  0\\n   -0.4367    0.1189    0.8563 H   0  0  0  0  0  0  0  0  0  0  0  0\\n    1.3429   -1.6319    0.8470 H   0  0  0  0  0  0  0  0  0  0  0  0\\n    3.1345    1.2412    2.0603 H   0  0  0  0  0  0  0  0  0  0  0  0\\n    2.5648   -1.9763   -0.9566 H   0  0  0  0  0  0  0  0  0  0  0  0\\n  1  2  1  0\\n  2  3  1  0\\n  3  4  1  0\\n  4  5  2  0\\n  4  6  1  0\\n  3  7  1  0\\n  1  8  1  0\\n  1  9  1  0\\n  1 10  1  0\\n  2 11  1  0\\n  2 12  1  0\\n  3 13  1  0\\n  6 14  1  0\\n  7 15  1  0\\nM  END\\n\",\"sdf\");\n\tviewer_16558111477624407.setStyle({\"model\": 1},{\"stick\": {\"radius\": 0.15}});\n\tviewer_16558111477624407.setBackgroundColor(\"white\");\n\tviewer_16558111477624407.zoomTo();\n\tviewer_16558111477624407.removeAllModels();\n\tviewer_16558111477624407.addModel(\"\\n     RDKit          3D\\n\\n 13 12  0  0  0  0  0  0  0  0999 V2000\\n   -0.1026   -0.3511   -0.1031 C   0  0  0  0  0  0  0  0  0  0  0  0\\n    1.3292   -0.8670    0.0440 C   0  0  0  0  0  0  0  0  0  0  0  0\\n    2.2497    0.2539    0.4329 C   0  0  0  0  0  0  0  0  0  0  0  0\\n    2.7294    1.0185   -0.4471 O   0  0  0  0  0  0  0  0  0  0  0  0\\n    2.5317    0.4791    1.7763 O   0  0  0  0  0  0  0  0  0  0  0  0\\n    1.7465   -1.4508   -1.1627 O   0  0  0  0  0  0  0  0  0  0  0  0\\n   -0.1845    0.5763   -1.1512 O   0  0  0  0  0  0  0  0  0  0  0  0\\n   -0.4299    0.1231    0.8500 H   0  0  0  0  0  0  0  0  0  0  0  0\\n   -0.7763   -1.2116   -0.3144 H   0  0  0  0  0  0  0  0  0  0  0  0\\n    1.3398   -1.6369    0.8503 H   0  0  0  0  0  0  0  0  0  0  0  0\\n    3.1347    1.2420    2.0592 H   0  0  0  0  0  0  0  0  0  0  0  0\\n    2.5637   -1.9766   -0.9577 H   0  0  0  0  0  0  0  0  0  0  0  0\\n   -1.1322    0.8686   -1.1863 H   0  0  0  0  0  0  0  0  0  0  0  0\\n  1  2  1  0\\n  2  3  1  0\\n  3  4  2  0\\n  3  5  1  0\\n  2  6  1  0\\n  1  7  1  0\\n  1  8  1  0\\n  1  9  1  0\\n  2 10  1  0\\n  5 11  1  0\\n  6 12  1  0\\n  7 13  1  0\\nM  END\\n\",\"sdf\");\n\tviewer_16558111477624407.setStyle({\"model\": 0},{\"stick\": {\"radius\": 0.15}});\n\tviewer_16558111477624407.addModel(\"\\n     RDKit          3D\\n\\n 19 19  0  0  0  0  0  0  0  0999 V2000\\n    1.7434   -1.4538   -1.1606 O   0  0  0  0  0  0  0  0  0  0  0  0\\n    1.3231   -0.8674    0.0448 C   0  0  0  0  0  0  0  0  0  0  0  0\\n    2.2433    0.2537    0.4327 C   0  0  0  0  0  0  0  0  0  0  0  0\\n    2.5285    0.4784    1.7758 O   0  0  0  0  0  0  0  0  0  0  0  0\\n    2.7241    1.0172   -0.4478 O   0  0  0  0  0  0  0  0  0  0  0  0\\n   -0.0841   -0.3416   -0.1026 C   0  0  0  0  0  0  0  0  0  0  0  0\\n   -1.0217   -0.5315    0.9279 C   0  0  0  0  0  0  0  0  0  0  0  0\\n   -2.3178   -0.0208    0.8077 C   0  0  0  0  0  0  0  0  0  0  0  0\\n   -2.6880    0.6923   -0.3366 C   0  0  0  0  0  0  0  0  0  0  0  0\\n   -4.3140    1.3337   -0.4840 Cl  0  0  0  0  0  0  0  0  0  0  0  0\\n   -1.7588    0.8986   -1.3608 C   0  0  0  0  0  0  0  0  0  0  0  0\\n   -0.4619    0.3895   -1.2443 C   0  0  0  0  0  0  0  0  0  0  0  0\\n    2.5637   -1.9753   -0.9562 H   0  0  0  0  0  0  0  0  0  0  0  0\\n    1.3467   -1.6408    0.8480 H   0  0  0  0  0  0  0  0  0  0  0  0\\n    3.1332    1.2405    2.0580 H   0  0  0  0  0  0  0  0  0  0  0  0\\n   -0.7502   -1.0735    1.8254 H   0  0  0  0  0  0  0  0  0  0  0  0\\n   -3.0321   -0.1772    1.6061 H   0  0  0  0  0  0  0  0  0  0  0  0\\n   -2.0388    1.4560   -2.2456 H   0  0  0  0  0  0  0  0  0  0  0  0\\n    0.2482    0.5670   -2.0425 H   0  0  0  0  0  0  0  0  0  0  0  0\\n  1  2  1  0\\n  2  3  1  0\\n  3  4  1  0\\n  3  5  2  0\\n  2  6  1  0\\n  6  7  2  0\\n  7  8  1  0\\n  8  9  2  0\\n  9 10  1  0\\n  9 11  1  0\\n 11 12  2  0\\n 12  6  1  0\\n  1 13  1  0\\n  2 14  1  0\\n  4 15  1  0\\n  7 16  1  0\\n  8 17  1  0\\n 11 18  1  0\\n 12 19  1  0\\nM  END\\n\",\"sdf\");\n\tviewer_16558111477624407.setStyle({\"model\": 1},{\"stick\": {\"radius\": 0.15}});\n\tviewer_16558111477624407.setBackgroundColor(\"white\");\n\tviewer_16558111477624407.zoomTo();\nviewer_16558111477624407.render();\n});\n</script>"
                },
                "metadata": {}
              }
            ]
          }
        },
        "c79a4f8806b549fca53920ee21cfb893": {
          "model_module": "@jupyter-widgets/base",
          "model_name": "LayoutModel",
          "model_module_version": "1.2.0",
          "state": {
            "_model_module": "@jupyter-widgets/base",
            "_model_module_version": "1.2.0",
            "_model_name": "LayoutModel",
            "_view_count": null,
            "_view_module": "@jupyter-widgets/base",
            "_view_module_version": "1.2.0",
            "_view_name": "LayoutView",
            "align_content": null,
            "align_items": null,
            "align_self": null,
            "border": null,
            "bottom": null,
            "display": null,
            "flex": null,
            "flex_flow": null,
            "grid_area": null,
            "grid_auto_columns": null,
            "grid_auto_flow": null,
            "grid_auto_rows": null,
            "grid_column": null,
            "grid_gap": null,
            "grid_row": null,
            "grid_template_areas": null,
            "grid_template_columns": null,
            "grid_template_rows": null,
            "height": null,
            "justify_content": null,
            "justify_items": null,
            "left": null,
            "margin": null,
            "max_height": null,
            "max_width": null,
            "min_height": null,
            "min_width": null,
            "object_fit": null,
            "object_position": null,
            "order": null,
            "overflow": null,
            "overflow_x": null,
            "overflow_y": null,
            "padding": null,
            "right": null,
            "top": null,
            "visibility": null,
            "width": null
          }
        },
        "d8d0764940c744228c4f5c4d9d720cdd": {
          "model_module": "@jupyter-widgets/base",
          "model_name": "LayoutModel",
          "model_module_version": "1.2.0",
          "state": {
            "_model_module": "@jupyter-widgets/base",
            "_model_module_version": "1.2.0",
            "_model_name": "LayoutModel",
            "_view_count": null,
            "_view_module": "@jupyter-widgets/base",
            "_view_module_version": "1.2.0",
            "_view_name": "LayoutView",
            "align_content": null,
            "align_items": null,
            "align_self": null,
            "border": null,
            "bottom": null,
            "display": null,
            "flex": null,
            "flex_flow": null,
            "grid_area": null,
            "grid_auto_columns": null,
            "grid_auto_flow": null,
            "grid_auto_rows": null,
            "grid_column": null,
            "grid_gap": null,
            "grid_row": null,
            "grid_template_areas": null,
            "grid_template_columns": null,
            "grid_template_rows": null,
            "height": null,
            "justify_content": null,
            "justify_items": null,
            "left": null,
            "margin": null,
            "max_height": null,
            "max_width": null,
            "min_height": null,
            "min_width": null,
            "object_fit": null,
            "object_position": null,
            "order": null,
            "overflow": null,
            "overflow_x": null,
            "overflow_y": null,
            "padding": null,
            "right": null,
            "top": null,
            "visibility": null,
            "width": null
          }
        },
        "cf71c0b61039480a90781c3129bec266": {
          "model_module": "@jupyter-widgets/controls",
          "model_name": "DescriptionStyleModel",
          "model_module_version": "1.5.0",
          "state": {
            "_model_module": "@jupyter-widgets/controls",
            "_model_module_version": "1.5.0",
            "_model_name": "DescriptionStyleModel",
            "_view_count": null,
            "_view_module": "@jupyter-widgets/base",
            "_view_module_version": "1.2.0",
            "_view_name": "StyleView",
            "description_width": ""
          }
        },
        "f7198dc272994ee8a7cf0994d0dc4c9a": {
          "model_module": "@jupyter-widgets/base",
          "model_name": "LayoutModel",
          "model_module_version": "1.2.0",
          "state": {
            "_model_module": "@jupyter-widgets/base",
            "_model_module_version": "1.2.0",
            "_model_name": "LayoutModel",
            "_view_count": null,
            "_view_module": "@jupyter-widgets/base",
            "_view_module_version": "1.2.0",
            "_view_name": "LayoutView",
            "align_content": null,
            "align_items": null,
            "align_self": null,
            "border": null,
            "bottom": null,
            "display": null,
            "flex": null,
            "flex_flow": null,
            "grid_area": null,
            "grid_auto_columns": null,
            "grid_auto_flow": null,
            "grid_auto_rows": null,
            "grid_column": null,
            "grid_gap": null,
            "grid_row": null,
            "grid_template_areas": null,
            "grid_template_columns": null,
            "grid_template_rows": null,
            "height": null,
            "justify_content": null,
            "justify_items": null,
            "left": null,
            "margin": null,
            "max_height": null,
            "max_width": null,
            "min_height": null,
            "min_width": null,
            "object_fit": null,
            "object_position": null,
            "order": null,
            "overflow": null,
            "overflow_x": null,
            "overflow_y": null,
            "padding": null,
            "right": null,
            "top": null,
            "visibility": null,
            "width": null
          }
        },
        "f9c280b19ef74e4d9a502c0c11151db5": {
          "model_module": "@jupyter-widgets/controls",
          "model_name": "VBoxModel",
          "model_module_version": "1.5.0",
          "state": {
            "_dom_classes": [
              "widget-interact"
            ],
            "_model_module": "@jupyter-widgets/controls",
            "_model_module_version": "1.5.0",
            "_model_name": "VBoxModel",
            "_view_count": null,
            "_view_module": "@jupyter-widgets/controls",
            "_view_module_version": "1.5.0",
            "_view_name": "VBoxView",
            "box_style": "",
            "children": [
              "IPY_MODEL_5cc6ce868e674062b5936c0da81d9c44",
              "IPY_MODEL_f8d979af564f4267a34d5bfb3b5996a3"
            ],
            "layout": "IPY_MODEL_a850292090eb4016a39bde413d6afd71"
          }
        },
        "5cc6ce868e674062b5936c0da81d9c44": {
          "model_module": "@jupyter-widgets/controls",
          "model_name": "DropdownModel",
          "model_module_version": "1.5.0",
          "state": {
            "_dom_classes": [],
            "_model_module": "@jupyter-widgets/controls",
            "_model_module_version": "1.5.0",
            "_model_name": "DropdownModel",
            "_options_labels": [
              "0",
              "1",
              "2",
              "3",
              "4",
              "5",
              "6",
              "7",
              "8",
              "9",
              "10",
              "11",
              "12",
              "13",
              "14",
              "15",
              "16",
              "17",
              "18",
              "19",
              "20",
              "21",
              "22",
              "23",
              "24",
              "25",
              "26",
              "27",
              "28",
              "29",
              "30",
              "31",
              "32",
              "33",
              "34",
              "35",
              "36",
              "37",
              "38",
              "39",
              "40",
              "41",
              "42",
              "43",
              "44",
              "45",
              "46",
              "47",
              "48",
              "49",
              "50",
              "51",
              "52",
              "53",
              "54",
              "55",
              "56",
              "57",
              "58",
              "59",
              "60",
              "61"
            ],
            "_view_count": null,
            "_view_module": "@jupyter-widgets/controls",
            "_view_module_version": "1.5.0",
            "_view_name": "DropdownView",
            "description": "ms",
            "description_tooltip": null,
            "disabled": false,
            "index": 0,
            "layout": "IPY_MODEL_ad8a4f2779f849708b780030b97dd5a3",
            "style": "IPY_MODEL_7e5b433e03a34a1dae83d2e741f2125c"
          }
        },
        "f8d979af564f4267a34d5bfb3b5996a3": {
          "model_module": "@jupyter-widgets/output",
          "model_name": "OutputModel",
          "model_module_version": "1.0.0",
          "state": {
            "_dom_classes": [],
            "_model_module": "@jupyter-widgets/output",
            "_model_module_version": "1.0.0",
            "_model_name": "OutputModel",
            "_view_count": null,
            "_view_module": "@jupyter-widgets/output",
            "_view_module_version": "1.0.0",
            "_view_name": "OutputView",
            "layout": "IPY_MODEL_46bee21bca2646219630ee05462cf0cd",
            "msg_id": "",
            "outputs": [
              {
                "output_type": "display_data",
                "data": {
                  "application/3dmoljs_load.v0": "<div id=\"3dmolviewer_16558204973838122\"  style=\"position: relative; width: 400px; height: 400px\">\n        <p id=\"3dmolwarning_16558204973838122\" style=\"background-color:#ffcccc;color:black\">You appear to be running in JupyterLab (or JavaScript failed to load for some other reason).  You need to install the 3dmol extension: <br>\n        <tt>jupyter labextension install jupyterlab_3dmol</tt></p>\n        </div>\n<script>\n\nvar loadScriptAsync = function(uri){\n  return new Promise((resolve, reject) => {\n    var tag = document.createElement('script');\n    tag.src = uri;\n    tag.async = true;\n    tag.onload = () => {\n      resolve();\n    };\n  var firstScriptTag = document.getElementsByTagName('script')[0];\n  firstScriptTag.parentNode.insertBefore(tag, firstScriptTag);\n});\n};\n\nif(typeof $3Dmolpromise === 'undefined') {\n$3Dmolpromise = null;\n  $3Dmolpromise = loadScriptAsync('https://3dmol.org/build/3Dmol.js');\n}\n\nvar viewer_16558204973838122 = null;\nvar warn = document.getElementById(\"3dmolwarning_16558204973838122\");\nif(warn) {\n    warn.parentNode.removeChild(warn);\n}\n$3Dmolpromise.then(function() {\nviewer_16558204973838122 = $3Dmol.createViewer($(\"#3dmolviewer_16558204973838122\"),{backgroundColor:\"white\"});\nviewer_16558204973838122.zoomTo();\n\tviewer_16558204973838122.removeAllModels();\n\tviewer_16558204973838122.addModel(\"308\\n     RDKit          3D\\n\\n 26 27  0  0  1  0  0  0  0  0999 V2000\\n   -0.0167    1.3777    0.0096 C   0  0  0  0  0  0  0  0  0  0  0  0\\n    1.1693    2.0888    0.0021 C   0  0  0  0  0  0  0  0  0  0  0  0\\n    2.3797    1.4212   -0.0134 C   0  0  0  0  0  0  0  0  0  0  0  0\\n    2.4072    0.0360   -0.0216 C   0  0  0  0  0  0  0  0  0  0  0  0\\n    1.2129   -0.6809   -0.0135 C   0  0  0  0  0  0  0  0  0  0  0  0\\n    0.0021   -0.0041    0.0020 C   0  0  0  0  0  0  0  0  0  0  0  0\\n    1.2345   -2.0820   -0.0222 N   0  0  0  0  0  0  0  0  0  0  0  0\\n    1.2539   -2.9173    1.1844 C   0  0  0  0  0  0  0  0  0  0  0  0\\n    1.7087   -4.3155    0.7104 C   0  0  2  0  0  0  0  0  0  0  0  0\\n    1.2748   -4.3018   -0.7737 C   0  0  0  0  0  0  0  0  0  0  0  0\\n    1.2342   -2.8337   -1.1365 C   0  0  0  0  0  0  0  0  0  0  0  0\\n    1.2080   -2.3982   -2.2683 O   0  0  0  0  0  0  0  0  0  0  0  0\\n    0.9941   -5.4019    1.4721 C   0  0  0  0  0  0  0  0  0  0  0  0\\n    0.7758   -6.4770    0.9400 O   0  0  0  0  0  0  0  0  0  0  0  0\\n    0.6343   -5.2059    2.6204 O   0  0  0  0  0  1  0  0  0  0  0  0\\n    3.5970   -0.6221   -0.0378 O   0  0  0  0  0  0  0  0  0  0  0  0\\n   -0.9774    1.9133    0.0216 H   0  0  0  0  0  0  0  0  0  0  0  0\\n    1.1495    3.1886    0.0085 H   0  0  0  0  0  0  0  0  0  0  0  0\\n    3.3213    1.9899   -0.0192 H   0  0  0  0  0  0  0  0  0  0  0  0\\n   -0.9428   -0.5672    0.0082 H   0  0  0  0  0  0  0  0  0  0  0  0\\n    1.9626   -2.5118    1.9215 H   0  0  0  0  0  0  0  0  0  0  0  0\\n    0.2689   -2.9521    1.6728 H   0  0  0  0  0  0  0  0  0  0  0  0\\n    2.7803   -4.5127    0.8611 H   0  0  0  0  0  0  0  0  0  0  0  0\\n    2.0047   -4.8377   -1.3982 H   0  0  0  0  0  0  0  0  0  0  0  0\\n    0.3082   -4.8017   -0.9341 H   0  0  0  0  0  0  0  0  0  0  0  0\\n    3.6151   -1.6119   -0.0436 H   0  0  0  0  0  0  0  0  0  0  0  0\\n  1  6  2  0\\n  1  2  1  0\\n  2  3  2  0\\n  3  4  1  0\\n  4  5  2  0\\n  4 16  1  0\\n  5  6  1  0\\n  5  7  1  0\\n  7 11  1  0\\n  7  8  1  0\\n  8  9  1  0\\n  9 10  1  0\\n  9 13  1  0\\n 10 11  1  0\\n 11 12  2  0\\n 13 14  2  0\\n 13 15  1  0\\n  1 17  1  0\\n  2 18  1  0\\n  3 19  1  0\\n  6 20  1  0\\n  8 21  1  0\\n  8 22  1  0\\n  9 23  1  6\\n 10 24  1  0\\n 10 25  1  0\\n 16 26  1  0\\nM  CHG  1  15  -1\\nM  END\\n\",\"sdf\");\n\tviewer_16558204973838122.setStyle({\"model\": 0},{\"stick\": {\"radius\": 0.15}});\n\tviewer_16558204973838122.setBackgroundColor(\"white\");\n\tviewer_16558204973838122.zoomTo();\nviewer_16558204973838122.render();\n});\n</script>",
                  "text/html": "<div id=\"3dmolviewer_16558204973838122\"  style=\"position: relative; width: 400px; height: 400px\">\n        <p id=\"3dmolwarning_16558204973838122\" style=\"background-color:#ffcccc;color:black\">You appear to be running in JupyterLab (or JavaScript failed to load for some other reason).  You need to install the 3dmol extension: <br>\n        <tt>jupyter labextension install jupyterlab_3dmol</tt></p>\n        </div>\n<script>\n\nvar loadScriptAsync = function(uri){\n  return new Promise((resolve, reject) => {\n    var tag = document.createElement('script');\n    tag.src = uri;\n    tag.async = true;\n    tag.onload = () => {\n      resolve();\n    };\n  var firstScriptTag = document.getElementsByTagName('script')[0];\n  firstScriptTag.parentNode.insertBefore(tag, firstScriptTag);\n});\n};\n\nif(typeof $3Dmolpromise === 'undefined') {\n$3Dmolpromise = null;\n  $3Dmolpromise = loadScriptAsync('https://3dmol.org/build/3Dmol.js');\n}\n\nvar viewer_16558204973838122 = null;\nvar warn = document.getElementById(\"3dmolwarning_16558204973838122\");\nif(warn) {\n    warn.parentNode.removeChild(warn);\n}\n$3Dmolpromise.then(function() {\nviewer_16558204973838122 = $3Dmol.createViewer($(\"#3dmolviewer_16558204973838122\"),{backgroundColor:\"white\"});\nviewer_16558204973838122.zoomTo();\n\tviewer_16558204973838122.removeAllModels();\n\tviewer_16558204973838122.addModel(\"308\\n     RDKit          3D\\n\\n 26 27  0  0  1  0  0  0  0  0999 V2000\\n   -0.0167    1.3777    0.0096 C   0  0  0  0  0  0  0  0  0  0  0  0\\n    1.1693    2.0888    0.0021 C   0  0  0  0  0  0  0  0  0  0  0  0\\n    2.3797    1.4212   -0.0134 C   0  0  0  0  0  0  0  0  0  0  0  0\\n    2.4072    0.0360   -0.0216 C   0  0  0  0  0  0  0  0  0  0  0  0\\n    1.2129   -0.6809   -0.0135 C   0  0  0  0  0  0  0  0  0  0  0  0\\n    0.0021   -0.0041    0.0020 C   0  0  0  0  0  0  0  0  0  0  0  0\\n    1.2345   -2.0820   -0.0222 N   0  0  0  0  0  0  0  0  0  0  0  0\\n    1.2539   -2.9173    1.1844 C   0  0  0  0  0  0  0  0  0  0  0  0\\n    1.7087   -4.3155    0.7104 C   0  0  2  0  0  0  0  0  0  0  0  0\\n    1.2748   -4.3018   -0.7737 C   0  0  0  0  0  0  0  0  0  0  0  0\\n    1.2342   -2.8337   -1.1365 C   0  0  0  0  0  0  0  0  0  0  0  0\\n    1.2080   -2.3982   -2.2683 O   0  0  0  0  0  0  0  0  0  0  0  0\\n    0.9941   -5.4019    1.4721 C   0  0  0  0  0  0  0  0  0  0  0  0\\n    0.7758   -6.4770    0.9400 O   0  0  0  0  0  0  0  0  0  0  0  0\\n    0.6343   -5.2059    2.6204 O   0  0  0  0  0  1  0  0  0  0  0  0\\n    3.5970   -0.6221   -0.0378 O   0  0  0  0  0  0  0  0  0  0  0  0\\n   -0.9774    1.9133    0.0216 H   0  0  0  0  0  0  0  0  0  0  0  0\\n    1.1495    3.1886    0.0085 H   0  0  0  0  0  0  0  0  0  0  0  0\\n    3.3213    1.9899   -0.0192 H   0  0  0  0  0  0  0  0  0  0  0  0\\n   -0.9428   -0.5672    0.0082 H   0  0  0  0  0  0  0  0  0  0  0  0\\n    1.9626   -2.5118    1.9215 H   0  0  0  0  0  0  0  0  0  0  0  0\\n    0.2689   -2.9521    1.6728 H   0  0  0  0  0  0  0  0  0  0  0  0\\n    2.7803   -4.5127    0.8611 H   0  0  0  0  0  0  0  0  0  0  0  0\\n    2.0047   -4.8377   -1.3982 H   0  0  0  0  0  0  0  0  0  0  0  0\\n    0.3082   -4.8017   -0.9341 H   0  0  0  0  0  0  0  0  0  0  0  0\\n    3.6151   -1.6119   -0.0436 H   0  0  0  0  0  0  0  0  0  0  0  0\\n  1  6  2  0\\n  1  2  1  0\\n  2  3  2  0\\n  3  4  1  0\\n  4  5  2  0\\n  4 16  1  0\\n  5  6  1  0\\n  5  7  1  0\\n  7 11  1  0\\n  7  8  1  0\\n  8  9  1  0\\n  9 10  1  0\\n  9 13  1  0\\n 10 11  1  0\\n 11 12  2  0\\n 13 14  2  0\\n 13 15  1  0\\n  1 17  1  0\\n  2 18  1  0\\n  3 19  1  0\\n  6 20  1  0\\n  8 21  1  0\\n  8 22  1  0\\n  9 23  1  6\\n 10 24  1  0\\n 10 25  1  0\\n 16 26  1  0\\nM  CHG  1  15  -1\\nM  END\\n\",\"sdf\");\n\tviewer_16558204973838122.setStyle({\"model\": 0},{\"stick\": {\"radius\": 0.15}});\n\tviewer_16558204973838122.setBackgroundColor(\"white\");\n\tviewer_16558204973838122.zoomTo();\nviewer_16558204973838122.render();\n});\n</script>"
                },
                "metadata": {}
              }
            ]
          }
        },
        "a850292090eb4016a39bde413d6afd71": {
          "model_module": "@jupyter-widgets/base",
          "model_name": "LayoutModel",
          "model_module_version": "1.2.0",
          "state": {
            "_model_module": "@jupyter-widgets/base",
            "_model_module_version": "1.2.0",
            "_model_name": "LayoutModel",
            "_view_count": null,
            "_view_module": "@jupyter-widgets/base",
            "_view_module_version": "1.2.0",
            "_view_name": "LayoutView",
            "align_content": null,
            "align_items": null,
            "align_self": null,
            "border": null,
            "bottom": null,
            "display": null,
            "flex": null,
            "flex_flow": null,
            "grid_area": null,
            "grid_auto_columns": null,
            "grid_auto_flow": null,
            "grid_auto_rows": null,
            "grid_column": null,
            "grid_gap": null,
            "grid_row": null,
            "grid_template_areas": null,
            "grid_template_columns": null,
            "grid_template_rows": null,
            "height": null,
            "justify_content": null,
            "justify_items": null,
            "left": null,
            "margin": null,
            "max_height": null,
            "max_width": null,
            "min_height": null,
            "min_width": null,
            "object_fit": null,
            "object_position": null,
            "order": null,
            "overflow": null,
            "overflow_x": null,
            "overflow_y": null,
            "padding": null,
            "right": null,
            "top": null,
            "visibility": null,
            "width": null
          }
        },
        "ad8a4f2779f849708b780030b97dd5a3": {
          "model_module": "@jupyter-widgets/base",
          "model_name": "LayoutModel",
          "model_module_version": "1.2.0",
          "state": {
            "_model_module": "@jupyter-widgets/base",
            "_model_module_version": "1.2.0",
            "_model_name": "LayoutModel",
            "_view_count": null,
            "_view_module": "@jupyter-widgets/base",
            "_view_module_version": "1.2.0",
            "_view_name": "LayoutView",
            "align_content": null,
            "align_items": null,
            "align_self": null,
            "border": null,
            "bottom": null,
            "display": null,
            "flex": null,
            "flex_flow": null,
            "grid_area": null,
            "grid_auto_columns": null,
            "grid_auto_flow": null,
            "grid_auto_rows": null,
            "grid_column": null,
            "grid_gap": null,
            "grid_row": null,
            "grid_template_areas": null,
            "grid_template_columns": null,
            "grid_template_rows": null,
            "height": null,
            "justify_content": null,
            "justify_items": null,
            "left": null,
            "margin": null,
            "max_height": null,
            "max_width": null,
            "min_height": null,
            "min_width": null,
            "object_fit": null,
            "object_position": null,
            "order": null,
            "overflow": null,
            "overflow_x": null,
            "overflow_y": null,
            "padding": null,
            "right": null,
            "top": null,
            "visibility": null,
            "width": null
          }
        },
        "7e5b433e03a34a1dae83d2e741f2125c": {
          "model_module": "@jupyter-widgets/controls",
          "model_name": "DescriptionStyleModel",
          "model_module_version": "1.5.0",
          "state": {
            "_model_module": "@jupyter-widgets/controls",
            "_model_module_version": "1.5.0",
            "_model_name": "DescriptionStyleModel",
            "_view_count": null,
            "_view_module": "@jupyter-widgets/base",
            "_view_module_version": "1.2.0",
            "_view_name": "StyleView",
            "description_width": ""
          }
        },
        "46bee21bca2646219630ee05462cf0cd": {
          "model_module": "@jupyter-widgets/base",
          "model_name": "LayoutModel",
          "model_module_version": "1.2.0",
          "state": {
            "_model_module": "@jupyter-widgets/base",
            "_model_module_version": "1.2.0",
            "_model_name": "LayoutModel",
            "_view_count": null,
            "_view_module": "@jupyter-widgets/base",
            "_view_module_version": "1.2.0",
            "_view_name": "LayoutView",
            "align_content": null,
            "align_items": null,
            "align_self": null,
            "border": null,
            "bottom": null,
            "display": null,
            "flex": null,
            "flex_flow": null,
            "grid_area": null,
            "grid_auto_columns": null,
            "grid_auto_flow": null,
            "grid_auto_rows": null,
            "grid_column": null,
            "grid_gap": null,
            "grid_row": null,
            "grid_template_areas": null,
            "grid_template_columns": null,
            "grid_template_rows": null,
            "height": null,
            "justify_content": null,
            "justify_items": null,
            "left": null,
            "margin": null,
            "max_height": null,
            "max_width": null,
            "min_height": null,
            "min_width": null,
            "object_fit": null,
            "object_position": null,
            "order": null,
            "overflow": null,
            "overflow_x": null,
            "overflow_y": null,
            "padding": null,
            "right": null,
            "top": null,
            "visibility": null,
            "width": null
          }
        },
        "37dad1a2d30b45859913dad407b4d115": {
          "model_module": "@jupyter-widgets/controls",
          "model_name": "VBoxModel",
          "model_module_version": "1.5.0",
          "state": {
            "_dom_classes": [
              "widget-interact"
            ],
            "_model_module": "@jupyter-widgets/controls",
            "_model_module_version": "1.5.0",
            "_model_name": "VBoxModel",
            "_view_count": null,
            "_view_module": "@jupyter-widgets/controls",
            "_view_module_version": "1.5.0",
            "_view_name": "VBoxView",
            "box_style": "",
            "children": [
              "IPY_MODEL_c099943beb7745cdaa2083860731d79a",
              "IPY_MODEL_e2bb84a3f5d84c98b81b43542fe00c9e"
            ],
            "layout": "IPY_MODEL_1ee8870cdf344eddbb0111faa5d394ad"
          }
        },
        "c099943beb7745cdaa2083860731d79a": {
          "model_module": "@jupyter-widgets/controls",
          "model_name": "DropdownModel",
          "model_module_version": "1.5.0",
          "state": {
            "_dom_classes": [],
            "_model_module": "@jupyter-widgets/controls",
            "_model_module_version": "1.5.0",
            "_model_name": "DropdownModel",
            "_options_labels": [
              "0",
              "1",
              "2",
              "3",
              "4",
              "5",
              "6",
              "7",
              "8",
              "9",
              "10",
              "11",
              "12",
              "13",
              "14",
              "15",
              "16",
              "17",
              "18",
              "19",
              "20",
              "21",
              "22",
              "23",
              "24",
              "25",
              "26",
              "27",
              "28",
              "29",
              "30",
              "31",
              "32",
              "33",
              "34",
              "35",
              "36",
              "37",
              "38",
              "39",
              "40",
              "41",
              "42",
              "43",
              "44",
              "45",
              "46",
              "47",
              "48",
              "49",
              "50",
              "51",
              "52",
              "53",
              "54",
              "55",
              "56",
              "57",
              "58",
              "59"
            ],
            "_view_count": null,
            "_view_module": "@jupyter-widgets/controls",
            "_view_module_version": "1.5.0",
            "_view_name": "DropdownView",
            "description": "ms",
            "description_tooltip": null,
            "disabled": false,
            "index": 0,
            "layout": "IPY_MODEL_0f5f6a0adc5a434ca09fc7e377003561",
            "style": "IPY_MODEL_979099490e9e4a12b3d5e1e8783067b7"
          }
        },
        "e2bb84a3f5d84c98b81b43542fe00c9e": {
          "model_module": "@jupyter-widgets/output",
          "model_name": "OutputModel",
          "model_module_version": "1.0.0",
          "state": {
            "_dom_classes": [],
            "_model_module": "@jupyter-widgets/output",
            "_model_module_version": "1.0.0",
            "_model_name": "OutputModel",
            "_view_count": null,
            "_view_module": "@jupyter-widgets/output",
            "_view_module_version": "1.0.0",
            "_view_name": "OutputView",
            "layout": "IPY_MODEL_55b934f971024048962042d9e1b0cd90",
            "msg_id": "",
            "outputs": [
              {
                "output_type": "display_data",
                "data": {
                  "application/3dmoljs_load.v0": "<div id=\"3dmolviewer_1655820497484616\"  style=\"position: relative; width: 400px; height: 400px\">\n        <p id=\"3dmolwarning_1655820497484616\" style=\"background-color:#ffcccc;color:black\">You appear to be running in JupyterLab (or JavaScript failed to load for some other reason).  You need to install the 3dmol extension: <br>\n        <tt>jupyter labextension install jupyterlab_3dmol</tt></p>\n        </div>\n<script>\n\nvar loadScriptAsync = function(uri){\n  return new Promise((resolve, reject) => {\n    var tag = document.createElement('script');\n    tag.src = uri;\n    tag.async = true;\n    tag.onload = () => {\n      resolve();\n    };\n  var firstScriptTag = document.getElementsByTagName('script')[0];\n  firstScriptTag.parentNode.insertBefore(tag, firstScriptTag);\n});\n};\n\nif(typeof $3Dmolpromise === 'undefined') {\n$3Dmolpromise = null;\n  $3Dmolpromise = loadScriptAsync('https://3dmol.org/build/3Dmol.js');\n}\n\nvar viewer_1655820497484616 = null;\nvar warn = document.getElementById(\"3dmolwarning_1655820497484616\");\nif(warn) {\n    warn.parentNode.removeChild(warn);\n}\n$3Dmolpromise.then(function() {\nviewer_1655820497484616 = $3Dmol.createViewer($(\"#3dmolviewer_1655820497484616\"),{backgroundColor:\"white\"});\nviewer_1655820497484616.zoomTo();\n\tviewer_1655820497484616.removeAllModels();\n\tviewer_1655820497484616.addModel(\"ZINC62748414\\n     RDKit          3D\\n\\n 35 36  0  0  1  0  0  0  0  0999 V2000\\n   -0.0187    1.5258    0.0104 C   0  0  0  0  0  0  0  0  0  0  0  0\\n    0.0021   -0.0041    0.0020 C   0  0  2  0  0  0  0  0  0  0  0  0\\n   -1.4117   -0.5257    0.0127 C   0  0  0  0  0  0  0  0  0  0  0  0\\n   -2.0144   -0.8637    1.2093 C   0  0  0  0  0  0  0  0  0  0  0  0\\n   -3.3111   -1.3418    1.2210 C   0  0  0  0  0  0  0  0  0  0  0  0\\n   -4.0096   -1.4837    0.0333 C   0  0  0  0  0  0  0  0  0  0  0  0\\n   -3.4096   -1.1464   -1.1667 C   0  0  0  0  0  0  0  0  0  0  0  0\\n   -2.1102   -0.6611   -1.1782 C   0  0  0  0  0  0  0  0  0  0  0  0\\n   -1.5201   -0.3241   -2.3551 O   0  0  0  0  0  0  0  0  0  0  0  0\\n   -5.2768   -1.9521    0.0467 F   0  0  0  0  0  0  0  0  0  0  0  0\\n    0.7126   -0.4907    1.1921 N   0  0  0  0  0  0  0  0  0  0  0  0\\n    2.1624   -0.5325    0.9593 C   0  0  1  0  0  0  0  0  0  0  0  0\\n    2.8958   -0.4200    2.2981 C   0  0  0  0  0  0  0  0  0  0  0  0\\n    4.3776   -0.7402    2.0674 C   0  0  0  0  0  0  0  0  0  0  0  0\\n    4.5073   -2.2182    1.6969 C   0  0  0  0  0  0  0  0  0  0  0  0\\n    3.5884   -2.5560    0.6172 N   0  0  0  0  0  0  0  0  0  0  0  0\\n    2.5227   -1.8269    0.2884 C   0  0  0  0  0  0  0  0  0  0  0  0\\n    1.8056   -2.2308   -0.6023 O   0  0  0  0  0  0  0  0  0  0  0  0\\n   -0.0236    1.8867    1.0495 H   0  0  0  0  0  0  0  0  0  0  0  0\\n    0.8743    1.9075   -0.5061 H   0  0  0  0  0  0  0  0  0  0  0  0\\n   -0.9218    1.8831   -0.5061 H   0  0  0  0  0  0  0  0  0  0  0  0\\n    0.5170   -0.3589   -0.9030 H   0  0  0  0  0  0  0  0  0  0  0  0\\n   -1.4615   -0.7521    2.1537 H   0  0  0  0  0  0  0  0  0  0  0  0\\n   -3.7891   -1.6100    2.1747 H   0  0  0  0  0  0  0  0  0  0  0  0\\n   -3.9623   -1.2629   -2.1106 H   0  0  0  0  0  0  0  0  0  0  0  0\\n   -2.0191   -0.4210   -3.2046 H   0  0  0  0  0  0  0  0  0  0  0  0\\n    0.5165    0.1397    1.9827 H   0  0  0  0  0  0  0  0  0  0  0  0\\n    2.4581    0.3063    0.3120 H   0  0  0  0  0  0  0  0  0  0  0  0\\n    2.7937    0.6017    2.6928 H   0  0  0  0  0  0  0  0  0  0  0  0\\n    2.4657   -1.1250    3.0247 H   0  0  0  0  0  0  0  0  0  0  0  0\\n    4.7678   -0.1177    1.2488 H   0  0  0  0  0  0  0  0  0  0  0  0\\n    4.9532   -0.5307    2.9810 H   0  0  0  0  0  0  0  0  0  0  0  0\\n    5.5384   -2.4208    1.3715 H   0  0  0  0  0  0  0  0  0  0  0  0\\n    4.2610   -2.8289    2.5780 H   0  0  0  0  0  0  0  0  0  0  0  0\\n    3.7744   -3.4115    0.0746 H   0  0  0  0  0  0  0  0  0  0  0  0\\n  1  2  1  0\\n  2  3  1  0\\n  2 11  1  0\\n  3  8  1  0\\n  3  4  2  0\\n  4  5  1  0\\n  5  6  2  0\\n  6  7  1  0\\n  6 10  1  0\\n  7  8  2  0\\n  8  9  1  0\\n 11 12  1  0\\n 12 17  1  0\\n 12 13  1  0\\n 13 14  1  0\\n 14 15  1  0\\n 15 16  1  0\\n 16 17  1  0\\n 17 18  2  0\\n  1 19  1  0\\n  1 20  1  0\\n  1 21  1  0\\n  2 22  1  6\\n  4 23  1  0\\n  5 24  1  0\\n  7 25  1  0\\n  9 26  1  0\\n 11 27  1  0\\n 12 28  1  6\\n 13 29  1  0\\n 13 30  1  0\\n 14 31  1  0\\n 14 32  1  0\\n 15 33  1  0\\n 15 34  1  0\\n 16 35  1  0\\nM  END\\n\",\"sdf\");\n\tviewer_1655820497484616.setStyle({\"model\": 0},{\"stick\": {\"radius\": 0.15}});\n\tviewer_1655820497484616.setBackgroundColor(\"white\");\n\tviewer_1655820497484616.zoomTo();\nviewer_1655820497484616.render();\n});\n</script>",
                  "text/html": "<div id=\"3dmolviewer_1655820497484616\"  style=\"position: relative; width: 400px; height: 400px\">\n        <p id=\"3dmolwarning_1655820497484616\" style=\"background-color:#ffcccc;color:black\">You appear to be running in JupyterLab (or JavaScript failed to load for some other reason).  You need to install the 3dmol extension: <br>\n        <tt>jupyter labextension install jupyterlab_3dmol</tt></p>\n        </div>\n<script>\n\nvar loadScriptAsync = function(uri){\n  return new Promise((resolve, reject) => {\n    var tag = document.createElement('script');\n    tag.src = uri;\n    tag.async = true;\n    tag.onload = () => {\n      resolve();\n    };\n  var firstScriptTag = document.getElementsByTagName('script')[0];\n  firstScriptTag.parentNode.insertBefore(tag, firstScriptTag);\n});\n};\n\nif(typeof $3Dmolpromise === 'undefined') {\n$3Dmolpromise = null;\n  $3Dmolpromise = loadScriptAsync('https://3dmol.org/build/3Dmol.js');\n}\n\nvar viewer_1655820497484616 = null;\nvar warn = document.getElementById(\"3dmolwarning_1655820497484616\");\nif(warn) {\n    warn.parentNode.removeChild(warn);\n}\n$3Dmolpromise.then(function() {\nviewer_1655820497484616 = $3Dmol.createViewer($(\"#3dmolviewer_1655820497484616\"),{backgroundColor:\"white\"});\nviewer_1655820497484616.zoomTo();\n\tviewer_1655820497484616.removeAllModels();\n\tviewer_1655820497484616.addModel(\"ZINC62748414\\n     RDKit          3D\\n\\n 35 36  0  0  1  0  0  0  0  0999 V2000\\n   -0.0187    1.5258    0.0104 C   0  0  0  0  0  0  0  0  0  0  0  0\\n    0.0021   -0.0041    0.0020 C   0  0  2  0  0  0  0  0  0  0  0  0\\n   -1.4117   -0.5257    0.0127 C   0  0  0  0  0  0  0  0  0  0  0  0\\n   -2.0144   -0.8637    1.2093 C   0  0  0  0  0  0  0  0  0  0  0  0\\n   -3.3111   -1.3418    1.2210 C   0  0  0  0  0  0  0  0  0  0  0  0\\n   -4.0096   -1.4837    0.0333 C   0  0  0  0  0  0  0  0  0  0  0  0\\n   -3.4096   -1.1464   -1.1667 C   0  0  0  0  0  0  0  0  0  0  0  0\\n   -2.1102   -0.6611   -1.1782 C   0  0  0  0  0  0  0  0  0  0  0  0\\n   -1.5201   -0.3241   -2.3551 O   0  0  0  0  0  0  0  0  0  0  0  0\\n   -5.2768   -1.9521    0.0467 F   0  0  0  0  0  0  0  0  0  0  0  0\\n    0.7126   -0.4907    1.1921 N   0  0  0  0  0  0  0  0  0  0  0  0\\n    2.1624   -0.5325    0.9593 C   0  0  1  0  0  0  0  0  0  0  0  0\\n    2.8958   -0.4200    2.2981 C   0  0  0  0  0  0  0  0  0  0  0  0\\n    4.3776   -0.7402    2.0674 C   0  0  0  0  0  0  0  0  0  0  0  0\\n    4.5073   -2.2182    1.6969 C   0  0  0  0  0  0  0  0  0  0  0  0\\n    3.5884   -2.5560    0.6172 N   0  0  0  0  0  0  0  0  0  0  0  0\\n    2.5227   -1.8269    0.2884 C   0  0  0  0  0  0  0  0  0  0  0  0\\n    1.8056   -2.2308   -0.6023 O   0  0  0  0  0  0  0  0  0  0  0  0\\n   -0.0236    1.8867    1.0495 H   0  0  0  0  0  0  0  0  0  0  0  0\\n    0.8743    1.9075   -0.5061 H   0  0  0  0  0  0  0  0  0  0  0  0\\n   -0.9218    1.8831   -0.5061 H   0  0  0  0  0  0  0  0  0  0  0  0\\n    0.5170   -0.3589   -0.9030 H   0  0  0  0  0  0  0  0  0  0  0  0\\n   -1.4615   -0.7521    2.1537 H   0  0  0  0  0  0  0  0  0  0  0  0\\n   -3.7891   -1.6100    2.1747 H   0  0  0  0  0  0  0  0  0  0  0  0\\n   -3.9623   -1.2629   -2.1106 H   0  0  0  0  0  0  0  0  0  0  0  0\\n   -2.0191   -0.4210   -3.2046 H   0  0  0  0  0  0  0  0  0  0  0  0\\n    0.5165    0.1397    1.9827 H   0  0  0  0  0  0  0  0  0  0  0  0\\n    2.4581    0.3063    0.3120 H   0  0  0  0  0  0  0  0  0  0  0  0\\n    2.7937    0.6017    2.6928 H   0  0  0  0  0  0  0  0  0  0  0  0\\n    2.4657   -1.1250    3.0247 H   0  0  0  0  0  0  0  0  0  0  0  0\\n    4.7678   -0.1177    1.2488 H   0  0  0  0  0  0  0  0  0  0  0  0\\n    4.9532   -0.5307    2.9810 H   0  0  0  0  0  0  0  0  0  0  0  0\\n    5.5384   -2.4208    1.3715 H   0  0  0  0  0  0  0  0  0  0  0  0\\n    4.2610   -2.8289    2.5780 H   0  0  0  0  0  0  0  0  0  0  0  0\\n    3.7744   -3.4115    0.0746 H   0  0  0  0  0  0  0  0  0  0  0  0\\n  1  2  1  0\\n  2  3  1  0\\n  2 11  1  0\\n  3  8  1  0\\n  3  4  2  0\\n  4  5  1  0\\n  5  6  2  0\\n  6  7  1  0\\n  6 10  1  0\\n  7  8  2  0\\n  8  9  1  0\\n 11 12  1  0\\n 12 17  1  0\\n 12 13  1  0\\n 13 14  1  0\\n 14 15  1  0\\n 15 16  1  0\\n 16 17  1  0\\n 17 18  2  0\\n  1 19  1  0\\n  1 20  1  0\\n  1 21  1  0\\n  2 22  1  6\\n  4 23  1  0\\n  5 24  1  0\\n  7 25  1  0\\n  9 26  1  0\\n 11 27  1  0\\n 12 28  1  6\\n 13 29  1  0\\n 13 30  1  0\\n 14 31  1  0\\n 14 32  1  0\\n 15 33  1  0\\n 15 34  1  0\\n 16 35  1  0\\nM  END\\n\",\"sdf\");\n\tviewer_1655820497484616.setStyle({\"model\": 0},{\"stick\": {\"radius\": 0.15}});\n\tviewer_1655820497484616.setBackgroundColor(\"white\");\n\tviewer_1655820497484616.zoomTo();\nviewer_1655820497484616.render();\n});\n</script>"
                },
                "metadata": {}
              }
            ]
          }
        },
        "1ee8870cdf344eddbb0111faa5d394ad": {
          "model_module": "@jupyter-widgets/base",
          "model_name": "LayoutModel",
          "model_module_version": "1.2.0",
          "state": {
            "_model_module": "@jupyter-widgets/base",
            "_model_module_version": "1.2.0",
            "_model_name": "LayoutModel",
            "_view_count": null,
            "_view_module": "@jupyter-widgets/base",
            "_view_module_version": "1.2.0",
            "_view_name": "LayoutView",
            "align_content": null,
            "align_items": null,
            "align_self": null,
            "border": null,
            "bottom": null,
            "display": null,
            "flex": null,
            "flex_flow": null,
            "grid_area": null,
            "grid_auto_columns": null,
            "grid_auto_flow": null,
            "grid_auto_rows": null,
            "grid_column": null,
            "grid_gap": null,
            "grid_row": null,
            "grid_template_areas": null,
            "grid_template_columns": null,
            "grid_template_rows": null,
            "height": null,
            "justify_content": null,
            "justify_items": null,
            "left": null,
            "margin": null,
            "max_height": null,
            "max_width": null,
            "min_height": null,
            "min_width": null,
            "object_fit": null,
            "object_position": null,
            "order": null,
            "overflow": null,
            "overflow_x": null,
            "overflow_y": null,
            "padding": null,
            "right": null,
            "top": null,
            "visibility": null,
            "width": null
          }
        },
        "0f5f6a0adc5a434ca09fc7e377003561": {
          "model_module": "@jupyter-widgets/base",
          "model_name": "LayoutModel",
          "model_module_version": "1.2.0",
          "state": {
            "_model_module": "@jupyter-widgets/base",
            "_model_module_version": "1.2.0",
            "_model_name": "LayoutModel",
            "_view_count": null,
            "_view_module": "@jupyter-widgets/base",
            "_view_module_version": "1.2.0",
            "_view_name": "LayoutView",
            "align_content": null,
            "align_items": null,
            "align_self": null,
            "border": null,
            "bottom": null,
            "display": null,
            "flex": null,
            "flex_flow": null,
            "grid_area": null,
            "grid_auto_columns": null,
            "grid_auto_flow": null,
            "grid_auto_rows": null,
            "grid_column": null,
            "grid_gap": null,
            "grid_row": null,
            "grid_template_areas": null,
            "grid_template_columns": null,
            "grid_template_rows": null,
            "height": null,
            "justify_content": null,
            "justify_items": null,
            "left": null,
            "margin": null,
            "max_height": null,
            "max_width": null,
            "min_height": null,
            "min_width": null,
            "object_fit": null,
            "object_position": null,
            "order": null,
            "overflow": null,
            "overflow_x": null,
            "overflow_y": null,
            "padding": null,
            "right": null,
            "top": null,
            "visibility": null,
            "width": null
          }
        },
        "979099490e9e4a12b3d5e1e8783067b7": {
          "model_module": "@jupyter-widgets/controls",
          "model_name": "DescriptionStyleModel",
          "model_module_version": "1.5.0",
          "state": {
            "_model_module": "@jupyter-widgets/controls",
            "_model_module_version": "1.5.0",
            "_model_name": "DescriptionStyleModel",
            "_view_count": null,
            "_view_module": "@jupyter-widgets/base",
            "_view_module_version": "1.2.0",
            "_view_name": "StyleView",
            "description_width": ""
          }
        },
        "55b934f971024048962042d9e1b0cd90": {
          "model_module": "@jupyter-widgets/base",
          "model_name": "LayoutModel",
          "model_module_version": "1.2.0",
          "state": {
            "_model_module": "@jupyter-widgets/base",
            "_model_module_version": "1.2.0",
            "_model_name": "LayoutModel",
            "_view_count": null,
            "_view_module": "@jupyter-widgets/base",
            "_view_module_version": "1.2.0",
            "_view_name": "LayoutView",
            "align_content": null,
            "align_items": null,
            "align_self": null,
            "border": null,
            "bottom": null,
            "display": null,
            "flex": null,
            "flex_flow": null,
            "grid_area": null,
            "grid_auto_columns": null,
            "grid_auto_flow": null,
            "grid_auto_rows": null,
            "grid_column": null,
            "grid_gap": null,
            "grid_row": null,
            "grid_template_areas": null,
            "grid_template_columns": null,
            "grid_template_rows": null,
            "height": null,
            "justify_content": null,
            "justify_items": null,
            "left": null,
            "margin": null,
            "max_height": null,
            "max_width": null,
            "min_height": null,
            "min_width": null,
            "object_fit": null,
            "object_position": null,
            "order": null,
            "overflow": null,
            "overflow_x": null,
            "overflow_y": null,
            "padding": null,
            "right": null,
            "top": null,
            "visibility": null,
            "width": null
          }
        }
      }
    }
  },
  "cells": [
    {
      "cell_type": "markdown",
      "metadata": {
        "id": "view-in-github",
        "colab_type": "text"
      },
      "source": [
        "<a href=\"https://colab.research.google.com/github/ianara01/Park-Sangjin/blob/master/workshop/workshop_colab.ipynb\" target=\"_parent\"><img src=\"https://colab.research.google.com/assets/colab-badge.svg\" alt=\"Open In Colab\"/></a>"
      ]
    },
    {
      "cell_type": "code",
      "execution_count": null,
      "metadata": {
        "colab": {
          "base_uri": "https://localhost:8080/"
        },
        "id": "cyEqu0jvZwyT",
        "outputId": "9da409b3-f6e2-4a4f-c3c2-b1f47c9d2d4d"
      },
      "outputs": [
        {
          "output_type": "stream",
          "name": "stdout",
          "text": [
            "Looking in indexes: https://pypi.org/simple, https://us-python.pkg.dev/colab-wheels/public/simple/\n",
            "Requirement already satisfied: rdkit in /usr/local/lib/python3.7/dist-packages (2022.3.3)\n",
            "Requirement already satisfied: numpy in /usr/local/lib/python3.7/dist-packages (1.21.6)\n",
            "Requirement already satisfied: scipy in /usr/local/lib/python3.7/dist-packages (1.4.1)\n",
            "Requirement already satisfied: scikit-learn in /usr/local/lib/python3.7/dist-packages (1.0.2)\n",
            "Requirement already satisfied: py3dmol in /usr/local/lib/python3.7/dist-packages (1.8.0)\n",
            "Requirement already satisfied: Pillow in /usr/local/lib/python3.7/dist-packages (from rdkit) (7.1.2)\n",
            "Requirement already satisfied: joblib>=0.11 in /usr/local/lib/python3.7/dist-packages (from scikit-learn) (1.1.0)\n",
            "Requirement already satisfied: threadpoolctl>=2.0.0 in /usr/local/lib/python3.7/dist-packages (from scikit-learn) (3.1.0)\n",
            "Looking in indexes: https://pypi.org/simple, https://us-python.pkg.dev/colab-wheels/public/simple/\n",
            "Collecting git+https://github.com/hesther/espsim\n",
            "  Cloning https://github.com/hesther/espsim to /tmp/pip-req-build-o_s1j7ym\n",
            "  Running command git clone -q https://github.com/hesther/espsim /tmp/pip-req-build-o_s1j7ym\n",
            "Looking in indexes: https://pypi.org/simple, https://us-python.pkg.dev/colab-wheels/public/simple/\n",
            "Collecting git+https://github.com/hesther/chemprop-atom-bond.git\n",
            "  Cloning https://github.com/hesther/chemprop-atom-bond.git to /tmp/pip-req-build-yix4tmbo\n",
            "  Running command git clone -q https://github.com/hesther/chemprop-atom-bond.git /tmp/pip-req-build-yix4tmbo\n",
            "Requirement already satisfied: flask>=1.1.2 in /usr/local/lib/python3.7/dist-packages (from chemprop==0.0.0) (1.1.4)\n",
            "Requirement already satisfied: hyperopt>=0.2.3 in /usr/local/lib/python3.7/dist-packages (from chemprop==0.0.0) (0.2.7)\n",
            "Requirement already satisfied: matplotlib>=3.1.3 in /usr/local/lib/python3.7/dist-packages (from chemprop==0.0.0) (3.2.2)\n",
            "Requirement already satisfied: numpy>=1.18.1 in /usr/local/lib/python3.7/dist-packages (from chemprop==0.0.0) (1.21.6)\n",
            "Requirement already satisfied: pandas>=1.0.3 in /usr/local/lib/python3.7/dist-packages (from chemprop==0.0.0) (1.3.5)\n",
            "Requirement already satisfied: pandas-flavor>=0.2.0 in /usr/local/lib/python3.7/dist-packages (from chemprop==0.0.0) (0.2.0)\n",
            "Requirement already satisfied: scikit-learn>=0.22.2.post1 in /usr/local/lib/python3.7/dist-packages (from chemprop==0.0.0) (1.0.2)\n",
            "Requirement already satisfied: scipy>=1.4.1 in /usr/local/lib/python3.7/dist-packages (from chemprop==0.0.0) (1.4.1)\n",
            "Requirement already satisfied: sphinx>=3.1.2 in /usr/local/lib/python3.7/dist-packages (from chemprop==0.0.0) (5.0.2)\n",
            "Requirement already satisfied: tensorboardX>=2.0 in /usr/local/lib/python3.7/dist-packages (from chemprop==0.0.0) (2.5.1)\n",
            "Requirement already satisfied: torch>=1.5.1 in /usr/local/lib/python3.7/dist-packages (from chemprop==0.0.0) (1.11.0+cu113)\n",
            "Requirement already satisfied: tqdm>=4.45.0 in /usr/local/lib/python3.7/dist-packages (from chemprop==0.0.0) (4.64.0)\n",
            "Requirement already satisfied: typed-argument-parser>=1.6.1 in /usr/local/lib/python3.7/dist-packages (from chemprop==0.0.0) (1.7.2)\n",
            "Requirement already satisfied: itsdangerous<2.0,>=0.24 in /usr/local/lib/python3.7/dist-packages (from flask>=1.1.2->chemprop==0.0.0) (1.1.0)\n",
            "Requirement already satisfied: Jinja2<3.0,>=2.10.1 in /usr/local/lib/python3.7/dist-packages (from flask>=1.1.2->chemprop==0.0.0) (2.11.3)\n",
            "Requirement already satisfied: click<8.0,>=5.1 in /usr/local/lib/python3.7/dist-packages (from flask>=1.1.2->chemprop==0.0.0) (7.1.2)\n",
            "Requirement already satisfied: Werkzeug<2.0,>=0.15 in /usr/local/lib/python3.7/dist-packages (from flask>=1.1.2->chemprop==0.0.0) (1.0.1)\n",
            "Requirement already satisfied: networkx>=2.2 in /usr/local/lib/python3.7/dist-packages (from hyperopt>=0.2.3->chemprop==0.0.0) (2.6.3)\n",
            "Requirement already satisfied: cloudpickle in /usr/local/lib/python3.7/dist-packages (from hyperopt>=0.2.3->chemprop==0.0.0) (1.3.0)\n",
            "Requirement already satisfied: six in /usr/local/lib/python3.7/dist-packages (from hyperopt>=0.2.3->chemprop==0.0.0) (1.15.0)\n",
            "Requirement already satisfied: py4j in /usr/local/lib/python3.7/dist-packages (from hyperopt>=0.2.3->chemprop==0.0.0) (0.10.9.5)\n",
            "Requirement already satisfied: future in /usr/local/lib/python3.7/dist-packages (from hyperopt>=0.2.3->chemprop==0.0.0) (0.16.0)\n",
            "Requirement already satisfied: MarkupSafe>=0.23 in /usr/local/lib/python3.7/dist-packages (from Jinja2<3.0,>=2.10.1->flask>=1.1.2->chemprop==0.0.0) (2.0.1)\n",
            "Requirement already satisfied: pyparsing!=2.0.4,!=2.1.2,!=2.1.6,>=2.0.1 in /usr/local/lib/python3.7/dist-packages (from matplotlib>=3.1.3->chemprop==0.0.0) (3.0.9)\n",
            "Requirement already satisfied: kiwisolver>=1.0.1 in /usr/local/lib/python3.7/dist-packages (from matplotlib>=3.1.3->chemprop==0.0.0) (1.4.3)\n",
            "Requirement already satisfied: cycler>=0.10 in /usr/local/lib/python3.7/dist-packages (from matplotlib>=3.1.3->chemprop==0.0.0) (0.11.0)\n",
            "Requirement already satisfied: python-dateutil>=2.1 in /usr/local/lib/python3.7/dist-packages (from matplotlib>=3.1.3->chemprop==0.0.0) (2.8.2)\n",
            "Requirement already satisfied: typing-extensions in /usr/local/lib/python3.7/dist-packages (from kiwisolver>=1.0.1->matplotlib>=3.1.3->chemprop==0.0.0) (4.1.1)\n",
            "Requirement already satisfied: pytz>=2017.3 in /usr/local/lib/python3.7/dist-packages (from pandas>=1.0.3->chemprop==0.0.0) (2022.1)\n",
            "Requirement already satisfied: xarray in /usr/local/lib/python3.7/dist-packages (from pandas-flavor>=0.2.0->chemprop==0.0.0) (0.20.2)\n",
            "Requirement already satisfied: threadpoolctl>=2.0.0 in /usr/local/lib/python3.7/dist-packages (from scikit-learn>=0.22.2.post1->chemprop==0.0.0) (3.1.0)\n",
            "Requirement already satisfied: joblib>=0.11 in /usr/local/lib/python3.7/dist-packages (from scikit-learn>=0.22.2.post1->chemprop==0.0.0) (1.1.0)\n",
            "Requirement already satisfied: sphinxcontrib-qthelp in /usr/local/lib/python3.7/dist-packages (from sphinx>=3.1.2->chemprop==0.0.0) (1.0.3)\n",
            "Requirement already satisfied: sphinxcontrib-htmlhelp>=2.0.0 in /usr/local/lib/python3.7/dist-packages (from sphinx>=3.1.2->chemprop==0.0.0) (2.0.0)\n",
            "Requirement already satisfied: requests>=2.5.0 in /usr/local/lib/python3.7/dist-packages (from sphinx>=3.1.2->chemprop==0.0.0) (2.23.0)\n",
            "Requirement already satisfied: Pygments>=2.0 in /usr/local/lib/python3.7/dist-packages (from sphinx>=3.1.2->chemprop==0.0.0) (2.6.1)\n",
            "Requirement already satisfied: sphinxcontrib-applehelp in /usr/local/lib/python3.7/dist-packages (from sphinx>=3.1.2->chemprop==0.0.0) (1.0.2)\n",
            "Requirement already satisfied: importlib-metadata>=4.4 in /usr/local/lib/python3.7/dist-packages (from sphinx>=3.1.2->chemprop==0.0.0) (4.11.4)\n",
            "Requirement already satisfied: packaging in /usr/local/lib/python3.7/dist-packages (from sphinx>=3.1.2->chemprop==0.0.0) (21.3)\n",
            "Requirement already satisfied: docutils<0.19,>=0.14 in /usr/local/lib/python3.7/dist-packages (from sphinx>=3.1.2->chemprop==0.0.0) (0.17.1)\n",
            "Requirement already satisfied: sphinxcontrib-devhelp in /usr/local/lib/python3.7/dist-packages (from sphinx>=3.1.2->chemprop==0.0.0) (1.0.2)\n",
            "Requirement already satisfied: sphinxcontrib-serializinghtml>=1.1.5 in /usr/local/lib/python3.7/dist-packages (from sphinx>=3.1.2->chemprop==0.0.0) (1.1.5)\n",
            "Requirement already satisfied: snowballstemmer>=1.1 in /usr/local/lib/python3.7/dist-packages (from sphinx>=3.1.2->chemprop==0.0.0) (2.2.0)\n",
            "Requirement already satisfied: imagesize in /usr/local/lib/python3.7/dist-packages (from sphinx>=3.1.2->chemprop==0.0.0) (1.3.0)\n",
            "Requirement already satisfied: sphinxcontrib-jsmath in /usr/local/lib/python3.7/dist-packages (from sphinx>=3.1.2->chemprop==0.0.0) (1.0.1)\n",
            "Requirement already satisfied: alabaster<0.8,>=0.7 in /usr/local/lib/python3.7/dist-packages (from sphinx>=3.1.2->chemprop==0.0.0) (0.7.12)\n",
            "Requirement already satisfied: babel>=1.3 in /usr/local/lib/python3.7/dist-packages (from sphinx>=3.1.2->chemprop==0.0.0) (2.10.2)\n",
            "Requirement already satisfied: zipp>=0.5 in /usr/local/lib/python3.7/dist-packages (from importlib-metadata>=4.4->sphinx>=3.1.2->chemprop==0.0.0) (3.8.0)\n",
            "Requirement already satisfied: certifi>=2017.4.17 in /usr/local/lib/python3.7/dist-packages (from requests>=2.5.0->sphinx>=3.1.2->chemprop==0.0.0) (2022.6.15)\n",
            "Requirement already satisfied: chardet<4,>=3.0.2 in /usr/local/lib/python3.7/dist-packages (from requests>=2.5.0->sphinx>=3.1.2->chemprop==0.0.0) (3.0.4)\n",
            "Requirement already satisfied: urllib3!=1.25.0,!=1.25.1,<1.26,>=1.21.1 in /usr/local/lib/python3.7/dist-packages (from requests>=2.5.0->sphinx>=3.1.2->chemprop==0.0.0) (1.24.3)\n",
            "Requirement already satisfied: idna<3,>=2.5 in /usr/local/lib/python3.7/dist-packages (from requests>=2.5.0->sphinx>=3.1.2->chemprop==0.0.0) (2.10)\n",
            "Requirement already satisfied: protobuf<=3.20.1,>=3.8.0 in /usr/local/lib/python3.7/dist-packages (from tensorboardX>=2.0->chemprop==0.0.0) (3.17.3)\n",
            "Requirement already satisfied: typing-inspect>=0.7.1 in /usr/local/lib/python3.7/dist-packages (from typed-argument-parser>=1.6.1->chemprop==0.0.0) (0.7.1)\n",
            "Requirement already satisfied: mypy-extensions>=0.3.0 in /usr/local/lib/python3.7/dist-packages (from typing-inspect>=0.7.1->typed-argument-parser>=1.6.1->chemprop==0.0.0) (0.4.3)\n",
            "Looking in indexes: https://pypi.org/simple, https://us-python.pkg.dev/colab-wheels/public/simple/\n",
            "Collecting git+https://github.com/hesther/ehreact\n",
            "  Cloning https://github.com/hesther/ehreact to /tmp/pip-req-build-we9kdmm4\n",
            "  Running command git clone -q https://github.com/hesther/ehreact /tmp/pip-req-build-we9kdmm4\n"
          ]
        }
      ],
      "source": [
        "#Install necessary packages\n",
        "!pip install rdkit numpy scipy scikit-learn py3dmol\n",
        "!pip install git+https://github.com/hesther/espsim\n",
        "!pip install git+https://github.com/hesther/chemprop-atom-bond.git\n",
        "!pip install git+https://github.com/hesther/ehreact"
      ]
    },
    {
      "cell_type": "code",
      "source": [
        "from rdkit import Chem\n",
        "from rdkit.Chem import AllChem\n",
        "from rdkit.Chem import Draw\n",
        "from rdkit.Chem.Draw import IPythonConsole\n",
        "from rdkit.Chem import rdMolAlign\n",
        "from rdkit.Chem import rdMolDescriptors\n",
        "import py3Dmol\n",
        "import ipywidgets\n",
        "from ipywidgets import interact, interactive, fixed # For interactive display of conformers\n",
        "\n",
        "from espsim import EmbedAlignConstrainedScore, EmbedAlignScore, ConstrainedEmbedMultipleConfs, GetEspSim, GetShapeSim\n",
        "from espsim.helpers import mlCharges\n",
        "\n",
        "import ehreact\n",
        "from ehreact.train import calculate_diagram\n",
        "from ehreact.predict.make_prediction import find_highest_template\n",
        "\n",
        "import urllib.request\n",
        "import gzip\n",
        "from copy import deepcopy\n",
        "from sklearn import metrics\n",
        "import numpy as np\n",
        "import matplotlib.pyplot as plt"
      ],
      "metadata": {
        "id": "1T1FOxf_a8l2"
      },
      "execution_count": null,
      "outputs": []
    },
    {
      "cell_type": "code",
      "source": [
        "def draw(ms,p=None, confIds=None):\n",
        "    if p is None:\n",
        "        p = py3Dmol.view(width=400, height=400)\n",
        "    if confIds is None:\n",
        "        confIds = [-1]*len(ms)\n",
        "    p.removeAllModels()\n",
        "    for i,m in enumerate(ms):\n",
        "        mb=Chem.MolToMolBlock(m, confId=confIds[i])\n",
        "        p.addModel(mb, 'sdf')\n",
        "        p.setStyle({'model':i},{'stick':{'radius':0.15}})\n",
        "    p.setBackgroundColor('white')#'0xeeeeee')\n",
        "    p.zoomTo()\n",
        "    return p.show()\n",
        "\n",
        "def tree_traversal(node, ctr=1):\n",
        "    if(node != None):\n",
        "        print('     ' * (ctr-1), \"|...\", node)\n",
        "        for child_node in [edge.child_node for edge in node.edges_to_child]:\n",
        "            tree_traversal(child_node, ctr+1)\n",
        "\n",
        "def align(prbMol, refMol, prbCrippen=None, refCrippen=None, i=-1, j=-1):\n",
        "    if prbCrippen is None:\n",
        "        prbCrippen = rdMolDescriptors._CalcCrippenContribs(prbMol)\n",
        "    if refCrippen is None:\n",
        "        refCrippen = rdMolDescriptors._CalcCrippenContribs(refMol)\n",
        "    alignment = rdMolAlign.GetCrippenO3A(prbMol, refMol, prbCrippen, refCrippen, i, j)\n",
        "    alignment.Align()\n",
        "\n",
        "def embed(mol,n=10):\n",
        "    if mol is not None:\n",
        "        ps = AllChem.ETKDGv2()\n",
        "        ps.useRandomCoords=False\n",
        "        AllChem.EmbedMultipleConfs(mol, n, ps)\n",
        "        if mol.GetNumConformers() != n:\n",
        "            print(\"could not embed, trying random coordinates for initialization\")\n",
        "            ps.useRandomCoords=True\n",
        "            AllChem.EmbedMultipleConfs(mol, n, ps)\n",
        "        if mol.GetNumConformers() != n:\n",
        "            print(\"could not embed\")\n",
        "            return None\n",
        "    return mol"
      ],
      "metadata": {
        "id": "uMXAzzaqbAUs"
      },
      "execution_count": null,
      "outputs": []
    },
    {
      "cell_type": "markdown",
      "source": [
        "# **Example 1:** EC 1.1.3.2 (Lactate oxidase)\n",
        "\n",
        "For lactate oxidase, the following substrates are known. The enzyme catalyses the oxidation of the hydroxyl group next to the carboxylic acid with oxygen."
      ],
      "metadata": {
        "id": "_2o30ANSa_nN"
      }
    },
    {
      "cell_type": "code",
      "source": [
        "refSmiles=['C1=CC=C(C=C1)C(C(=O)O)O','CCC(C(=O)O)O','OC(C(O)=O)c1ccc(Cl)cc1','C1=CC(=CC=C1C(C(=O)O)O)O','COc1ccc(cc1)C(O)C(O)=O','OC(C(O)=O)c1ccc(cc1)[N+]([O-])=O','CCCC(C(=O)O)O','CCC(C)C(C(=O)O)O','CC(C(=O)O)O']\n",
        "refMols=[Chem.AddHs(Chem.MolFromSmiles(x)) for x in refSmiles]\n",
        "Draw.MolsToGridImage(refMols)"
      ],
      "metadata": {
        "colab": {
          "base_uri": "https://localhost:8080/",
          "height": 617
        },
        "id": "vY5qC5Dla2je",
        "outputId": "802b23fd-cb00-495d-e6f0-5e262cae8e1f"
      },
      "execution_count": null,
      "outputs": [
        {
          "output_type": "execute_result",
          "data": {
            "text/plain": [
              "<IPython.core.display.Image object>"
            ],
            "image/png": "[encoded data removed]"
          },
          "metadata": {},
          "execution_count": 210
        }
      ]
    },
    {
      "cell_type": "markdown",
      "source": [
        "The following substrate is also known to be active. Let's try to score it's shape and ESP similarity to the 9 known substrates:"
      ],
      "metadata": {
        "id": "7vTAm5kvcC8v"
      }
    },
    {
      "cell_type": "code",
      "source": [
        "prbSmile='C(C(C(=O)O)O)O'\n",
        "prbMol=Chem.AddHs(Chem.MolFromSmiles(prbSmile))\n",
        "prbMol"
      ],
      "metadata": {
        "colab": {
          "base_uri": "https://localhost:8080/",
          "height": 167
        },
        "id": "6q23Es4ucCfn",
        "outputId": "0533f0f1-633d-4171-88e3-e5ee07fcd0bb"
      },
      "execution_count": null,
      "outputs": [
        {
          "output_type": "execute_result",
          "data": {
            "text/plain": [
              "<rdkit.Chem.rdchem.Mol at 0x7fadff6b7ad0>"
            ],
            "image/png": "[encoded data removed]"
          },
          "metadata": {},
          "execution_count": 211
        }
      ]
    },
    {
      "cell_type": "markdown",
      "source": [
        "We first use the default ESPsim method to embed all molecules, align pairs of reference and probe molecules and score them, namely the function **EmbedAlignScore()**"
      ],
      "metadata": {
        "id": "Pzdm5yxadhfV"
      }
    },
    {
      "cell_type": "code",
      "source": [
        "simShape, simEsp = EmbedAlignScore(prbMol, refMols, renormalize=True)\n",
        "print('%35s %8s %8s %8s' % (\"Reference\",\"Shape\",\"ESP\", \"Shape*ESP\"))\n",
        "for i in range(len(refSmiles)):\n",
        "    print('%35s %8.2f %8.2f %8.2f' % (refSmiles[i],simShape[i],simEsp[i],simShape[i]*simEsp[i]))"
      ],
      "metadata": {
        "colab": {
          "base_uri": "https://localhost:8080/"
        },
        "id": "qf1QlhzkcXrH",
        "outputId": "b1dc3563-60e3-41bb-bac0-5af767d50315"
      },
      "execution_count": null,
      "outputs": [
        {
          "output_type": "stream",
          "name": "stdout",
          "text": [
            "                          Reference    Shape      ESP Shape*ESP\n",
            "            C1=CC=C(C=C1)C(C(=O)O)O     0.65     0.85     0.55\n",
            "                       CCC(C(=O)O)O     0.94     0.87     0.82\n",
            "             OC(C(O)=O)c1ccc(Cl)cc1     0.56     0.67     0.38\n",
            "           C1=CC(=CC=C1C(C(=O)O)O)O     0.60     0.51     0.31\n",
            "             COc1ccc(cc1)C(O)C(O)=O     0.55     0.69     0.38\n",
            "   OC(C(O)=O)c1ccc(cc1)[N+]([O-])=O     0.53     0.66     0.35\n",
            "                      CCCC(C(=O)O)O     0.82     0.89     0.74\n",
            "                   CCC(C)C(C(=O)O)O     0.73     0.87     0.64\n",
            "                        CC(C(=O)O)O     0.89     0.93     0.82\n"
          ]
        }
      ]
    },
    {
      "cell_type": "markdown",
      "source": [
        "Let's inspect some of the embedded conformations (they will all be aligned to the last conformer, since we overwrite the alignments:"
      ],
      "metadata": {
        "id": "9lyGJ6nlAuFB"
      }
    },
    {
      "cell_type": "code",
      "source": [
        "p = py3Dmol.view(width=400,height=400)\n",
        "dt = {}\n",
        "for i in range(len(refMols)):\n",
        "  dt[i] = [prbMol, refMols[i]]\n",
        "interact(draw, ms=dt,p=fixed(p),confIds=fixed([-1,-1]));"
      ],
      "metadata": {
        "colab": {
          "base_uri": "https://localhost:8080/",
          "height": 449,
          "referenced_widgets": [
            "5076441e44da4671ba1ba0fc65457f98",
            "20dcbf937ab9465f852158c3ce380321",
            "2bbae0a77d3e4841922b5e7a0bec0b89",
            "16c5354d71e54fee8ec4ae908867dd4c",
            "99b8ed2630004b04b3e4d3a718d1a337",
            "8a23918f3e2243b8b590e6bad20a24c0",
            "7370c035206442abb031cf624de69205"
          ]
        },
        "id": "DV8CjPNzAs3p",
        "outputId": "60c731c9-532f-461c-8c3b-2ba88c72d6d4"
      },
      "execution_count": null,
      "outputs": [
        {
          "output_type": "display_data",
          "data": {
            "text/plain": [
              "interactive(children=(Dropdown(description='ms', options={0: [<rdkit.Chem.rdchem.Mol object at 0x7fadff6b7ad0>…"
            ],
            "application/vnd.jupyter.widget-view+json": {
              "version_major": 2,
              "version_minor": 0,
              "model_id": "5076441e44da4671ba1ba0fc65457f98"
            }
          },
          "metadata": {}
        }
      ]
    },
    {
      "cell_type": "markdown",
      "source": [
        "We get a maximum score of about 0.8, and see that some of the alignments are not great.\n",
        "\n",
        "Also, we note that this was very easy. **EmbedAlignScore** allows for a number of customizations, for example the number of embedded conformers for the probe and reference molecules (**prbNumConfs** and **refNumConfs**, per default 10 each), the similarity method and integration routine (**metric**, **integrate** and **renormalize**) or whether to compute ESP similarities for all conformations instead of just the one with the highest shape similarity (**getBestESP**). Let's try to add more conformers:"
      ],
      "metadata": {
        "id": "cs8XM2BDdf-Z"
      }
    },
    {
      "cell_type": "code",
      "source": [
        "simShape, simEsp = EmbedAlignScore(prbMol, refMols, renormalize=True, refNumConfs = 50)\n",
        "print('%35s %8s %8s %8s' % (\"Reference\",\"Shape\",\"ESP\", \"Shape*ESP\"))\n",
        "for i in range(len(refSmiles)):\n",
        "    print('%35s %8.2f %8.2f %8.2f' % (refSmiles[i],simShape[i],simEsp[i],simShape[i]*simEsp[i]))"
      ],
      "metadata": {
        "colab": {
          "base_uri": "https://localhost:8080/"
        },
        "id": "LYASKQMqevRb",
        "outputId": "a46afb06-a0a4-4831-b219-605a7559d02e"
      },
      "execution_count": null,
      "outputs": [
        {
          "output_type": "stream",
          "name": "stdout",
          "text": [
            "                          Reference    Shape      ESP Shape*ESP\n",
            "            C1=CC=C(C=C1)C(C(=O)O)O     0.64     0.74     0.48\n",
            "                       CCC(C(=O)O)O     0.95     0.70     0.67\n",
            "             OC(C(O)=O)c1ccc(Cl)cc1     0.57     0.84     0.48\n",
            "           C1=CC(=CC=C1C(C(=O)O)O)O     0.60     0.76     0.46\n",
            "             COc1ccc(cc1)C(O)C(O)=O     0.55     0.68     0.38\n",
            "   OC(C(O)=O)c1ccc(cc1)[N+]([O-])=O     0.53     0.65     0.34\n",
            "                      CCCC(C(=O)O)O     0.83     0.75     0.62\n",
            "                   CCC(C)C(C(=O)O)O     0.74     0.87     0.64\n",
            "                        CC(C(=O)O)O     0.89     0.87     0.78\n"
          ]
        }
      ]
    },
    {
      "cell_type": "markdown",
      "source": [
        "The code now takes longer to evaluate, and we might find slightly better scores for some reference molecules. In general: The more conformers, the larger the scores, because we can find pairs of conformers with better overlap. However, as the embedding is stochastic, there is no guarantee for finding a good conformation.\n",
        "\n",
        "Let's also try to return the best ESP similarity instead of the ESP similarity at the best shape score:"
      ],
      "metadata": {
        "id": "0L9tuxZhe2ON"
      }
    },
    {
      "cell_type": "code",
      "source": [
        "simShape, simEsp = EmbedAlignScore(prbMol, refMols, renormalize=True, getBestESP=True)\n",
        "print('%35s %8s %8s %8s' % (\"Reference\",\"Shape\",\"ESP\", \"Shape*ESP\"))\n",
        "for i in range(len(refSmiles)):\n",
        "    print('%35s %8.2f %8.2f %8.2f' % (refSmiles[i],simShape[i],simEsp[i],simShape[i]*simEsp[i]))"
      ],
      "metadata": {
        "colab": {
          "base_uri": "https://localhost:8080/"
        },
        "id": "vtMnsbuFfNDA",
        "outputId": "56835af8-17ad-415f-da04-02f0cf8b9d81"
      },
      "execution_count": null,
      "outputs": [
        {
          "output_type": "stream",
          "name": "stdout",
          "text": [
            "                          Reference    Shape      ESP Shape*ESP\n",
            "            C1=CC=C(C=C1)C(C(=O)O)O     0.64     0.90     0.58\n",
            "                       CCC(C(=O)O)O     0.95     0.91     0.87\n",
            "             OC(C(O)=O)c1ccc(Cl)cc1     0.57     0.89     0.51\n",
            "           C1=CC(=CC=C1C(C(=O)O)O)O     0.60     0.87     0.52\n",
            "             COc1ccc(cc1)C(O)C(O)=O     0.54     0.84     0.46\n",
            "   OC(C(O)=O)c1ccc(cc1)[N+]([O-])=O     0.53     0.75     0.39\n",
            "                      CCCC(C(=O)O)O     0.82     0.93     0.77\n",
            "                   CCC(C)C(C(=O)O)O     0.73     0.91     0.67\n",
            "                        CC(C(=O)O)O     0.89     0.92     0.82\n"
          ]
        }
      ]
    },
    {
      "cell_type": "markdown",
      "source": [
        "Now the ESP scores are higher, while the shape scores are lower (because we didn't select the best shape alignment pair).\n",
        "\n",
        "In all cases, the scores to some of the reference molecules are quite high, and we can assume that the substrate is probably processed by lactate oxidase.\n",
        "\n",
        "Let's also try a molecule that is not probably not processed by lactate oxidase:"
      ],
      "metadata": {
        "id": "g7xhJGq6ffMu"
      }
    },
    {
      "cell_type": "code",
      "source": [
        "prbSmile2='C(C(=O)OC)O'\n",
        "prbMol2=Chem.AddHs(Chem.MolFromSmiles(prbSmile2))\n",
        "prbMol2"
      ],
      "metadata": {
        "colab": {
          "base_uri": "https://localhost:8080/",
          "height": 167
        },
        "id": "WeJ_oI9zgwBK",
        "outputId": "eb12f173-f148-40b5-d047-153eff972856"
      },
      "execution_count": null,
      "outputs": [
        {
          "output_type": "execute_result",
          "data": {
            "text/plain": [
              "<rdkit.Chem.rdchem.Mol at 0x7fadff6aa4e0>"
            ],
            "image/png": "[encoded data removed]"
          },
          "metadata": {},
          "execution_count": 216
        }
      ]
    },
    {
      "cell_type": "code",
      "source": [
        "simShape, simEsp = EmbedAlignScore(prbMol2, refMols, renormalize=True)\n",
        "print('%35s %8s %8s %8s' % (\"Reference\",\"Shape\",\"ESP\", \"Shape*ESP\"))\n",
        "for i in range(len(refSmiles)):\n",
        "    print('%35s %8.2f %8.2f %8.2f' % (refSmiles[i],simShape[i],simEsp[i],simShape[i]*simEsp[i]))"
      ],
      "metadata": {
        "colab": {
          "base_uri": "https://localhost:8080/"
        },
        "id": "00P1Y0BahG1J",
        "outputId": "e646f617-70b0-4b1d-bacc-a5121946f4dc"
      },
      "execution_count": null,
      "outputs": [
        {
          "output_type": "stream",
          "name": "stdout",
          "text": [
            "                          Reference    Shape      ESP Shape*ESP\n",
            "            C1=CC=C(C=C1)C(C(=O)O)O     0.59     0.61     0.36\n",
            "                       CCC(C(=O)O)O     0.79     0.57     0.45\n",
            "             OC(C(O)=O)c1ccc(Cl)cc1     0.52     0.58     0.30\n",
            "           C1=CC(=CC=C1C(C(=O)O)O)O     0.54     0.56     0.30\n",
            "             COc1ccc(cc1)C(O)C(O)=O     0.50     0.55     0.27\n",
            "   OC(C(O)=O)c1ccc(cc1)[N+]([O-])=O     0.48     0.44     0.21\n",
            "                      CCCC(C(=O)O)O     0.69     0.56     0.39\n",
            "                   CCC(C)C(C(=O)O)O     0.63     0.49     0.31\n",
            "                        CC(C(=O)O)O     0.70     0.92     0.64\n"
          ]
        }
      ]
    },
    {
      "cell_type": "markdown",
      "source": [
        "This time, we get scores that are lower (about 0.6 for the combined shape and ESP similarity, with some scores being much lower)\n",
        "\n",
        "However, we can get even better estimates if we constrain the alignment, because we know the active center of each substrate for the oxidation reaction, i.e. know that these parts of the molecules need to be docked in the same position in the active pocket. We can define this region by hand or use a software such as EHreact to find the best fragment.\n",
        "\n",
        "We can use EHreact to create a Hasse diagram, and find the highest matching substructure for our two probe molecules:"
      ],
      "metadata": {
        "id": "Tw-_FxtqgsDy"
      }
    },
    {
      "cell_type": "code",
      "source": [
        "d=calculate_diagram(refSmiles,train_mode='single_reactant',seed=['[H]OC[H]'],no_props=True)\n",
        "tree_traversal(d.nodes[''])"
      ],
      "metadata": {
        "colab": {
          "base_uri": "https://localhost:8080/"
        },
        "id": "vas3OvzYjC4x",
        "outputId": "96f01a7b-a28a-4fc1-ac4b-0d426c8919bf"
      },
      "execution_count": null,
      "outputs": [
        {
          "output_type": "stream",
          "name": "stdout",
          "text": [
            " |... root\n",
            "      |... [H]CO[H]\n",
            "           |... [H]OC([H])(C)C\n",
            "                |... [H]OC([H])(C)C(O)=O\n",
            "                     |... [H]OC(=O)C([H])(C)O[H]\n",
            "                          |... [H]OC(=O)C([H])(O[H])C([H])(C)C\n",
            "                               |... [H]OC(=O)C([H])(O[H])C([H])(C([H])([H])[H])C([H])([H])C\n",
            "                                    |... [H]OC(=O)C([H])(O[H])C([H])(C([H])([H])[H])C([H])([H])C([H])([H])[H]\n",
            "                          |... [H]OC(=O)C([H])(O[H])C([H])([H])C\n",
            "                               |... [H]OC(=O)C([H])(O[H])C([H])([H])C([H])([H])C\n",
            "                                    |... [H]OC(=O)C([H])(O[H])C([H])([H])C([H])([H])C([H])([H])[H]\n",
            "                               |... [H]OC(=O)C([H])(O[H])C([H])([H])C([H])([H])[H]\n",
            "                          |... [H]OC(=O)C([H])(O[H])C([H])([H])[H]\n",
            "                          |... [H]OC(=O)C([H])(O[H])c1ccccc1\n",
            "                               |... [H]OC(=O)C([H])(O[H])c1c([H])c([H])cc([H])c1[H]\n",
            "                                    |... [H]OC(=O)C([H])(O[H])c1c([H])c([H])c(Cl)c([H])c1[H]\n",
            "                                    |... [H]OC(=O)C([H])(O[H])c1c([H])c([H])c(O)c([H])c1[H]\n",
            "                                         |... [H]OC(=O)C([H])(O[H])c1c([H])c([H])c(OC)c([H])c1[H]\n",
            "                                              |... [H]OC(=O)C([H])(O[H])c1c([H])c([H])c(OC([H])([H])[H])c([H])c1[H]\n",
            "                                         |... [H]OC(=O)C([H])(O[H])c1c([H])c([H])c(O[H])c([H])c1[H]\n",
            "                                    |... [H]OC(=O)C([H])(O[H])c1c([H])c([H])c([H])c([H])c1[H]\n",
            "                                    |... [H]OC(=O)C([H])(O[H])c1c([H])c([H])c([N+])c([H])c1[H]\n",
            "                                         |... [H]OC(=O)C([H])(O[H])c1c([H])c([H])c([N+](=O)[O-])c([H])c1[H]\n"
          ]
        }
      ]
    },
    {
      "cell_type": "markdown",
      "source": [
        "The maximum common pattern for all reference molecules is [H]OC(=O)C([H])(C)O[H], however, this does not mean that our probe molecules also fit this pattern (the first one does, the second doesn't), so ideally we find the maximum common core around the reactive center for each query:"
      ],
      "metadata": {
        "id": "DsHiV6rApazn"
      }
    },
    {
      "cell_type": "code",
      "source": [
        "template = find_highest_template(d.nodes[''], prbMol, d, '')\n",
        "print(template)\n",
        "d.nodes[template].rule"
      ],
      "metadata": {
        "colab": {
          "base_uri": "https://localhost:8080/",
          "height": 184
        },
        "id": "GIXHGrVZnJYX",
        "outputId": "f487660d-a406-4281-eef7-e5bed5960914"
      },
      "execution_count": null,
      "outputs": [
        {
          "output_type": "stream",
          "name": "stdout",
          "text": [
            "[H]OC(=O)C([H])(C)O[H]\n"
          ]
        },
        {
          "output_type": "execute_result",
          "data": {
            "text/plain": [
              "<rdkit.Chem.rdchem.Mol at 0x7fadff61bcb0>"
            ],
            "image/png": "[encoded data removed]"
          },
          "metadata": {},
          "execution_count": 219
        }
      ]
    },
    {
      "cell_type": "markdown",
      "source": [
        "The constrained embedding routine in ESPsim expects us to provide the core with 3D coordinates. An easy way to obtain those is to embed one of the reference molecules and cut out the core atoms:"
      ],
      "metadata": {
        "id": "Rk9JvjBhrXOs"
      }
    },
    {
      "cell_type": "code",
      "source": [
        "AllChem.EmbedMolecule(refMols[0],AllChem.ETKDG()) #Embed first reference molecule, create one conformer\n",
        "AllChem.UFFOptimizeMolecule(refMols[0]) #Optimize the coordinates of the conformer\n",
        "core = AllChem.DeleteSubstructs(AllChem.ReplaceSidechains(refMols[0],d.nodes[template].rule),Chem.MolFromSmiles('*')) #Create core molecule with 3D coordinates\n",
        "core.UpdatePropertyCache()\n",
        "core"
      ],
      "metadata": {
        "colab": {
          "base_uri": "https://localhost:8080/",
          "height": 167
        },
        "id": "Kzvs_zAPrGH_",
        "outputId": "7469bed0-31c2-41d2-f701-abe540b19461"
      },
      "execution_count": null,
      "outputs": [
        {
          "output_type": "execute_result",
          "data": {
            "text/plain": [
              "<rdkit.Chem.rdchem.Mol at 0x7fadff69e4e0>"
            ],
            "image/png": "[encoded data removed]"
          },
          "metadata": {},
          "execution_count": 220
        }
      ]
    },
    {
      "cell_type": "code",
      "source": [
        "simShape,simEsp=EmbedAlignConstrainedScore(prbMol,refMols,core, renormalize=True)\n",
        "print('%35s %8s %8s %8s' % (\"Reference\",\"Shape\",\"ESP\", \"Shape*ESP\"))\n",
        "for i in range(len(refSmiles)):\n",
        "    print('%35s %8.2f %8.2f %8.2f' % (refSmiles[i],simShape[i],simEsp[i],simShape[i]*simEsp[i]))"
      ],
      "metadata": {
        "colab": {
          "base_uri": "https://localhost:8080/"
        },
        "id": "WtFxXKyijmow",
        "outputId": "158ce33b-8152-4cc8-ddc1-ba76b15f342c"
      },
      "execution_count": null,
      "outputs": [
        {
          "output_type": "stream",
          "name": "stdout",
          "text": [
            "                          Reference    Shape      ESP Shape*ESP\n",
            "            C1=CC=C(C=C1)C(C(=O)O)O     0.64     0.90     0.58\n",
            "                       CCC(C(=O)O)O     0.96     0.88     0.84\n",
            "             OC(C(O)=O)c1ccc(Cl)cc1     0.57     0.90     0.51\n",
            "           C1=CC(=CC=C1C(C(=O)O)O)O     0.60     0.78     0.47\n",
            "             COc1ccc(cc1)C(O)C(O)=O     0.55     0.72     0.39\n",
            "   OC(C(O)=O)c1ccc(cc1)[N+]([O-])=O     0.53     0.68     0.36\n",
            "                      CCCC(C(=O)O)O     0.83     0.89     0.74\n",
            "                   CCC(C)C(C(=O)O)O     0.73     0.87     0.63\n",
            "                        CC(C(=O)O)O     0.89     0.87     0.77\n"
          ]
        }
      ]
    },
    {
      "cell_type": "markdown",
      "source": [
        "We can inspect the embedded molecules (here conformation 0 for each molecule, not the best conformer). They all have the same coordinates for the pre-defined core containing the reactive center. The second cell plots the first reference molecule together with the probe molecule in all possible conformations."
      ],
      "metadata": {
        "id": "9a6DjwFT7RWA"
      }
    },
    {
      "cell_type": "code",
      "source": [
        "draw(refMols)"
      ],
      "metadata": {
        "colab": {
          "base_uri": "https://localhost:8080/",
          "height": 417
        },
        "id": "dcHrGjO06nNK",
        "outputId": "1f6df95d-b03d-4b35-e2ea-b844ed1329cc"
      },
      "execution_count": null,
      "outputs": [
        {
          "output_type": "display_data",
          "data": {
            "application/3dmoljs_load.v0": "<div id=\"3dmolviewer_16558110812500548\"  style=\"position: relative; width: 400px; height: 400px\">\n        <p id=\"3dmolwarning_16558110812500548\" style=\"background-color:#ffcccc;color:black\">You appear to be running in JupyterLab (or JavaScript failed to load for some other reason).  You need to install the 3dmol extension: <br>\n        <tt>jupyter labextension install jupyterlab_3dmol</tt></p>\n        </div>\n<script>\n\nvar loadScriptAsync = function(uri){\n  return new Promise((resolve, reject) => {\n    var tag = document.createElement('script');\n    tag.src = uri;\n    tag.async = true;\n    tag.onload = () => {\n      resolve();\n    };\n  var firstScriptTag = document.getElementsByTagName('script')[0];\n  firstScriptTag.parentNode.insertBefore(tag, firstScriptTag);\n});\n};\n\nif(typeof $3Dmolpromise === 'undefined') {\n$3Dmolpromise = null;\n  $3Dmolpromise = loadScriptAsync('https://3dmol.org/build/3Dmol.js');\n}\n\nvar viewer_16558110812500548 = null;\nvar warn = document.getElementById(\"3dmolwarning_16558110812500548\");\nif(warn) {\n    warn.parentNode.removeChild(warn);\n}\n$3Dmolpromise.then(function() {\nviewer_16558110812500548 = $3Dmol.createViewer($(\"#3dmolviewer_16558110812500548\"),{backgroundColor:\"white\"});\nviewer_16558110812500548.zoomTo();\n\tviewer_16558110812500548.removeAllModels();\n\tviewer_16558110812500548.addModel(\"\\n     RDKit          3D\\n\\n 19 19  0  0  0  0  0  0  0  0999 V2000\\n   -2.6880    0.6891   -0.3369 C   0  0  0  0  0  0  0  0  0  0  0  0\\n   -2.3178   -0.0205    0.8082 C   0  0  0  0  0  0  0  0  0  0  0  0\\n   -1.0213   -0.5303    0.9293 C   0  0  0  0  0  0  0  0  0  0  0  0\\n   -0.0842   -0.3418   -0.1025 C   0  0  0  0  0  0  0  0  0  0  0  0\\n   -0.4633    0.3870   -1.2457 C   0  0  0  0  0  0  0  0  0  0  0  0\\n   -1.7610    0.8946   -1.3618 C   0  0  0  0  0  0  0  0  0  0  0  0\\n    1.3231   -0.8673    0.0448 C   0  0  0  0  0  0  0  0  0  0  0  0\\n    2.2433    0.2538    0.4327 C   0  0  0  0  0  0  0  0  0  0  0  0\\n    2.7243    1.0172   -0.4478 O   0  0  0  0  0  0  0  0  0  0  0  0\\n    2.5284    0.4785    1.7758 O   0  0  0  0  0  0  0  0  0  0  0  0\\n    1.7435   -1.4537   -1.1606 O   0  0  0  0  0  0  0  0  0  0  0  0\\n   -3.6917    1.0838   -0.4280 H   0  0  0  0  0  0  0  0  0  0  0  0\\n   -3.0350   -0.1732    1.6043 H   0  0  0  0  0  0  0  0  0  0  0  0\\n   -0.7491   -1.0703    1.8277 H   0  0  0  0  0  0  0  0  0  0  0  0\\n    0.2460    0.5635   -2.0448 H   0  0  0  0  0  0  0  0  0  0  0  0\\n   -2.0469    1.4504   -2.2454 H   0  0  0  0  0  0  0  0  0  0  0  0\\n    1.3467   -1.6407    0.8480 H   0  0  0  0  0  0  0  0  0  0  0  0\\n    3.1332    1.2405    2.0580 H   0  0  0  0  0  0  0  0  0  0  0  0\\n    2.5637   -1.9753   -0.9562 H   0  0  0  0  0  0  0  0  0  0  0  0\\n  1  2  2  0\\n  2  3  1  0\\n  3  4  2  0\\n  4  5  1  0\\n  5  6  2  0\\n  4  7  1  0\\n  7  8  1  0\\n  8  9  2  0\\n  8 10  1  0\\n  7 11  1  0\\n  6  1  1  0\\n  1 12  1  0\\n  2 13  1  0\\n  3 14  1  0\\n  5 15  1  0\\n  6 16  1  0\\n  7 17  1  0\\n 10 18  1  0\\n 11 19  1  0\\nM  END\\n\",\"sdf\");\n\tviewer_16558110812500548.setStyle({\"model\": 0},{\"stick\": {\"radius\": 0.15}});\n\tviewer_16558110812500548.addModel(\"\\n     RDKit          3D\\n\\n 15 14  0  0  0  0  0  0  0  0999 V2000\\n   -0.3235    0.6300   -1.2462 C   0  0  0  0  0  0  0  0  0  0  0  0\\n   -0.1173   -0.3591   -0.0958 C   0  0  0  0  0  0  0  0  0  0  0  0\\n    1.3279   -0.8621    0.0393 C   0  0  0  0  0  0  0  0  0  0  0  0\\n    2.2514    0.2555    0.4320 C   0  0  0  0  0  0  0  0  0  0  0  0\\n    2.7411    1.0155   -0.4463 O   0  0  0  0  0  0  0  0  0  0  0  0\\n    2.5294    0.4803    1.7763 O   0  0  0  0  0  0  0  0  0  0  0  0\\n    1.7474   -1.4519   -1.1641 O   0  0  0  0  0  0  0  0  0  0  0  0\\n   -1.4022    0.8807   -1.3260 H   0  0  0  0  0  0  0  0  0  0  0  0\\n    0.0045    0.1870   -2.2101 H   0  0  0  0  0  0  0  0  0  0  0  0\\n    0.2354    1.5706   -1.0609 H   0  0  0  0  0  0  0  0  0  0  0  0\\n   -0.7812   -1.2348   -0.2647 H   0  0  0  0  0  0  0  0  0  0  0  0\\n   -0.4367    0.1189    0.8563 H   0  0  0  0  0  0  0  0  0  0  0  0\\n    1.3429   -1.6319    0.8470 H   0  0  0  0  0  0  0  0  0  0  0  0\\n    3.1345    1.2412    2.0603 H   0  0  0  0  0  0  0  0  0  0  0  0\\n    2.5648   -1.9763   -0.9566 H   0  0  0  0  0  0  0  0  0  0  0  0\\n  1  2  1  0\\n  2  3  1  0\\n  3  4  1  0\\n  4  5  2  0\\n  4  6  1  0\\n  3  7  1  0\\n  1  8  1  0\\n  1  9  1  0\\n  1 10  1  0\\n  2 11  1  0\\n  2 12  1  0\\n  3 13  1  0\\n  6 14  1  0\\n  7 15  1  0\\nM  END\\n\",\"sdf\");\n\tviewer_16558110812500548.setStyle({\"model\": 1},{\"stick\": {\"radius\": 0.15}});\n\tviewer_16558110812500548.addModel(\"\\n     RDKit          3D\\n\\n 19 19  0  0  0  0  0  0  0  0999 V2000\\n    1.7434   -1.4538   -1.1606 O   0  0  0  0  0  0  0  0  0  0  0  0\\n    1.3231   -0.8674    0.0448 C   0  0  0  0  0  0  0  0  0  0  0  0\\n    2.2433    0.2537    0.4327 C   0  0  0  0  0  0  0  0  0  0  0  0\\n    2.5285    0.4784    1.7758 O   0  0  0  0  0  0  0  0  0  0  0  0\\n    2.7241    1.0172   -0.4478 O   0  0  0  0  0  0  0  0  0  0  0  0\\n   -0.0841   -0.3416   -0.1026 C   0  0  0  0  0  0  0  0  0  0  0  0\\n   -1.0217   -0.5315    0.9279 C   0  0  0  0  0  0  0  0  0  0  0  0\\n   -2.3178   -0.0208    0.8077 C   0  0  0  0  0  0  0  0  0  0  0  0\\n   -2.6880    0.6923   -0.3366 C   0  0  0  0  0  0  0  0  0  0  0  0\\n   -4.3140    1.3337   -0.4840 Cl  0  0  0  0  0  0  0  0  0  0  0  0\\n   -1.7588    0.8986   -1.3608 C   0  0  0  0  0  0  0  0  0  0  0  0\\n   -0.4619    0.3895   -1.2443 C   0  0  0  0  0  0  0  0  0  0  0  0\\n    2.5637   -1.9753   -0.9562 H   0  0  0  0  0  0  0  0  0  0  0  0\\n    1.3467   -1.6408    0.8480 H   0  0  0  0  0  0  0  0  0  0  0  0\\n    3.1332    1.2405    2.0580 H   0  0  0  0  0  0  0  0  0  0  0  0\\n   -0.7502   -1.0735    1.8254 H   0  0  0  0  0  0  0  0  0  0  0  0\\n   -3.0321   -0.1772    1.6061 H   0  0  0  0  0  0  0  0  0  0  0  0\\n   -2.0388    1.4560   -2.2456 H   0  0  0  0  0  0  0  0  0  0  0  0\\n    0.2482    0.5670   -2.0425 H   0  0  0  0  0  0  0  0  0  0  0  0\\n  1  2  1  0\\n  2  3  1  0\\n  3  4  1  0\\n  3  5  2  0\\n  2  6  1  0\\n  6  7  2  0\\n  7  8  1  0\\n  8  9  2  0\\n  9 10  1  0\\n  9 11  1  0\\n 11 12  2  0\\n 12  6  1  0\\n  1 13  1  0\\n  2 14  1  0\\n  4 15  1  0\\n  7 16  1  0\\n  8 17  1  0\\n 11 18  1  0\\n 12 19  1  0\\nM  END\\n\",\"sdf\");\n\tviewer_16558110812500548.setStyle({\"model\": 2},{\"stick\": {\"radius\": 0.15}});\n\tviewer_16558110812500548.addModel(\"\\n     RDKit          3D\\n\\n 20 20  0  0  0  0  0  0  0  0999 V2000\\n   -0.4618    0.3895   -1.2441 C   0  0  0  0  0  0  0  0  0  0  0  0\\n   -1.7587    0.8985   -1.3608 C   0  0  0  0  0  0  0  0  0  0  0  0\\n   -2.6900    0.6939   -0.3383 C   0  0  0  0  0  0  0  0  0  0  0  0\\n   -2.3179   -0.0215    0.8075 C   0  0  0  0  0  0  0  0  0  0  0  0\\n   -1.0218   -0.5319    0.9275 C   0  0  0  0  0  0  0  0  0  0  0  0\\n   -0.0842   -0.3416   -0.1026 C   0  0  0  0  0  0  0  0  0  0  0  0\\n    1.3231   -0.8674    0.0448 C   0  0  0  0  0  0  0  0  0  0  0  0\\n    2.2433    0.2537    0.4327 C   0  0  0  0  0  0  0  0  0  0  0  0\\n    2.7242    1.0172   -0.4478 O   0  0  0  0  0  0  0  0  0  0  0  0\\n    2.5285    0.4784    1.7758 O   0  0  0  0  0  0  0  0  0  0  0  0\\n    1.7435   -1.4538   -1.1606 O   0  0  0  0  0  0  0  0  0  0  0  0\\n   -3.9786    1.2067   -0.4685 O   0  0  0  0  0  0  0  0  0  0  0  0\\n    0.2483    0.5670   -2.0421 H   0  0  0  0  0  0  0  0  0  0  0  0\\n   -2.0392    1.4558   -2.2456 H   0  0  0  0  0  0  0  0  0  0  0  0\\n   -3.0309   -0.1797    1.6066 H   0  0  0  0  0  0  0  0  0  0  0  0\\n   -0.7503   -1.0743    1.8247 H   0  0  0  0  0  0  0  0  0  0  0  0\\n    1.3468   -1.6408    0.8480 H   0  0  0  0  0  0  0  0  0  0  0  0\\n    3.1332    1.2405    2.0580 H   0  0  0  0  0  0  0  0  0  0  0  0\\n    2.5637   -1.9753   -0.9562 H   0  0  0  0  0  0  0  0  0  0  0  0\\n   -4.6759    1.0762    0.2551 H   0  0  0  0  0  0  0  0  0  0  0  0\\n  1  2  2  0\\n  2  3  1  0\\n  3  4  2  0\\n  4  5  1  0\\n  5  6  2  0\\n  6  7  1  0\\n  7  8  1  0\\n  8  9  2  0\\n  8 10  1  0\\n  7 11  1  0\\n  3 12  1  0\\n  6  1  1  0\\n  1 13  1  0\\n  2 14  1  0\\n  4 15  1  0\\n  5 16  1  0\\n  7 17  1  0\\n 10 18  1  0\\n 11 19  1  0\\n 12 20  1  0\\nM  END\\n\",\"sdf\");\n\tviewer_16558110812500548.setStyle({\"model\": 3},{\"stick\": {\"radius\": 0.15}});\n\tviewer_16558110812500548.addModel(\"\\n     RDKit          3D\\n\\n 23 23  0  0  0  0  0  0  0  0999 V2000\\n   -4.5317    1.9286   -1.5021 C   0  0  0  0  0  0  0  0  0  0  0  0\\n   -4.0103    1.1852   -0.4052 O   0  0  0  0  0  0  0  0  0  0  0  0\\n   -2.6980    0.6946   -0.3337 C   0  0  0  0  0  0  0  0  0  0  0  0\\n   -1.7580    0.8993   -1.3612 C   0  0  0  0  0  0  0  0  0  0  0  0\\n   -0.4617    0.3894   -1.2427 C   0  0  0  0  0  0  0  0  0  0  0  0\\n   -0.0842   -0.3416   -0.1026 C   0  0  0  0  0  0  0  0  0  0  0  0\\n   -1.0213   -0.5317    0.9263 C   0  0  0  0  0  0  0  0  0  0  0  0\\n   -2.3170   -0.0214    0.8065 C   0  0  0  0  0  0  0  0  0  0  0  0\\n    1.3231   -0.8674    0.0448 C   0  0  0  0  0  0  0  0  0  0  0  0\\n    1.7434   -1.4538   -1.1606 O   0  0  0  0  0  0  0  0  0  0  0  0\\n    2.2433    0.2537    0.4327 C   0  0  0  0  0  0  0  0  0  0  0  0\\n    2.5285    0.4784    1.7758 O   0  0  0  0  0  0  0  0  0  0  0  0\\n    2.7242    1.0172   -0.4478 O   0  0  0  0  0  0  0  0  0  0  0  0\\n   -4.4892    1.3204   -2.4302 H   0  0  0  0  0  0  0  0  0  0  0  0\\n   -5.5903    2.1866   -1.2946 H   0  0  0  0  0  0  0  0  0  0  0  0\\n   -3.9558    2.8689   -1.6342 H   0  0  0  0  0  0  0  0  0  0  0  0\\n   -2.0174    1.4533   -2.2530 H   0  0  0  0  0  0  0  0  0  0  0  0\\n    0.2492    0.5668   -2.0402 H   0  0  0  0  0  0  0  0  0  0  0  0\\n   -0.7500   -1.0744    1.8234 H   0  0  0  0  0  0  0  0  0  0  0  0\\n   -3.0292   -0.1806    1.6063 H   0  0  0  0  0  0  0  0  0  0  0  0\\n    1.3468   -1.6408    0.8480 H   0  0  0  0  0  0  0  0  0  0  0  0\\n    2.5637   -1.9753   -0.9562 H   0  0  0  0  0  0  0  0  0  0  0  0\\n    3.1332    1.2405    2.0580 H   0  0  0  0  0  0  0  0  0  0  0  0\\n  1  2  1  0\\n  2  3  1  0\\n  3  4  2  0\\n  4  5  1  0\\n  5  6  2  0\\n  6  7  1  0\\n  7  8  2  0\\n  6  9  1  0\\n  9 10  1  0\\n  9 11  1  0\\n 11 12  1  0\\n 11 13  2  0\\n  8  3  1  0\\n  1 14  1  0\\n  1 15  1  0\\n  1 16  1  0\\n  4 17  1  0\\n  5 18  1  0\\n  7 19  1  0\\n  8 20  1  0\\n  9 21  1  0\\n 10 22  1  0\\n 12 23  1  0\\nM  END\\n\",\"sdf\");\n\tviewer_16558110812500548.setStyle({\"model\": 4},{\"stick\": {\"radius\": 0.15}});\n\tviewer_16558110812500548.addModel(\"\\n     RDKit          3D\\n\\n 21 21  0  0  0  0  0  0  0  0999 V2000\\n    1.7435   -1.4538   -1.1606 O   0  0  0  0  0  0  0  0  0  0  0  0\\n    1.3231   -0.8674    0.0448 C   0  0  0  0  0  0  0  0  0  0  0  0\\n    2.2433    0.2537    0.4327 C   0  0  0  0  0  0  0  0  0  0  0  0\\n    2.5285    0.4784    1.7758 O   0  0  0  0  0  0  0  0  0  0  0  0\\n    2.7242    1.0172   -0.4478 O   0  0  0  0  0  0  0  0  0  0  0  0\\n   -0.0843   -0.3415   -0.1026 C   0  0  0  0  0  0  0  0  0  0  0  0\\n   -1.0208   -0.5309    0.9263 C   0  0  0  0  0  0  0  0  0  0  0  0\\n   -2.3169   -0.0211    0.8080 C   0  0  0  0  0  0  0  0  0  0  0  0\\n   -2.7005    0.6978   -0.3384 C   0  0  0  0  0  0  0  0  0  0  0  0\\n   -1.7577    0.8987   -1.3610 C   0  0  0  0  0  0  0  0  0  0  0  0\\n   -0.4618    0.3888   -1.2425 C   0  0  0  0  0  0  0  0  0  0  0  0\\n   -4.0342    1.2246   -0.4637 N   0  0  0  0  0  4  0  0  0  0  0  0\\n   -4.4053    1.9289   -1.5862 O   0  0  0  0  0  1  0  0  0  0  0  0\\n   -4.8756    1.0505    0.4423 O   0  0  0  0  0  0  0  0  0  0  0  0\\n    2.5638   -1.9753   -0.9562 H   0  0  0  0  0  0  0  0  0  0  0  0\\n    1.3468   -1.6408    0.8480 H   0  0  0  0  0  0  0  0  0  0  0  0\\n    3.1332    1.2405    2.0580 H   0  0  0  0  0  0  0  0  0  0  0  0\\n   -0.7485   -1.0730    1.8234 H   0  0  0  0  0  0  0  0  0  0  0  0\\n   -3.0184   -0.1869    1.6156 H   0  0  0  0  0  0  0  0  0  0  0  0\\n   -2.0203    1.4534   -2.2524 H   0  0  0  0  0  0  0  0  0  0  0  0\\n    0.2491    0.5659   -2.0401 H   0  0  0  0  0  0  0  0  0  0  0  0\\n  1  2  1  0\\n  2  3  1  0\\n  3  4  1  0\\n  3  5  2  0\\n  2  6  1  0\\n  6  7  2  0\\n  7  8  1  0\\n  8  9  2  0\\n  9 10  1  0\\n 10 11  2  0\\n  9 12  1  0\\n 12 13  1  0\\n 12 14  2  0\\n 11  6  1  0\\n  1 15  1  0\\n  2 16  1  0\\n  4 17  1  0\\n  7 18  1  0\\n  8 19  1  0\\n 10 20  1  0\\n 11 21  1  0\\nM  CHG  2  12   1  13  -1\\nM  END\\n\",\"sdf\");\n\tviewer_16558110812500548.setStyle({\"model\": 5},{\"stick\": {\"radius\": 0.15}});\n\tviewer_16558110812500548.addModel(\"\\n     RDKit          3D\\n\\n 18 17  0  0  0  0  0  0  0  0999 V2000\\n   -0.4299    2.1061   -0.6710 C   0  0  0  0  0  0  0  0  0  0  0  0\\n   -0.3447    0.6794   -1.2136 C   0  0  0  0  0  0  0  0  0  0  0  0\\n   -0.1210   -0.3631   -0.0951 C   0  0  0  0  0  0  0  0  0  0  0  0\\n    1.3279   -0.8601    0.0394 C   0  0  0  0  0  0  0  0  0  0  0  0\\n    2.2519    0.2557    0.4323 C   0  0  0  0  0  0  0  0  0  0  0  0\\n    2.7456    1.0126   -0.4464 O   0  0  0  0  0  0  0  0  0  0  0  0\\n    2.5281    0.4815    1.7766 O   0  0  0  0  0  0  0  0  0  0  0  0\\n    1.7469   -1.4501   -1.1643 O   0  0  0  0  0  0  0  0  0  0  0  0\\n   -1.2927    2.2016    0.0221 H   0  0  0  0  0  0  0  0  0  0  0  0\\n    0.4987    2.3837   -0.1325 H   0  0  0  0  0  0  0  0  0  0  0  0\\n   -0.5749    2.8150   -1.5132 H   0  0  0  0  0  0  0  0  0  0  0  0\\n    0.4534    0.6236   -1.9846 H   0  0  0  0  0  0  0  0  0  0  0  0\\n   -1.3057    0.4552   -1.7260 H   0  0  0  0  0  0  0  0  0  0  0  0\\n   -0.4728    0.0269    0.8860 H   0  0  0  0  0  0  0  0  0  0  0  0\\n   -0.7551   -1.2495   -0.3177 H   0  0  0  0  0  0  0  0  0  0  0  0\\n    1.3443   -1.6313    0.8462 H   0  0  0  0  0  0  0  0  0  0  0  0\\n    3.1344    1.2415    2.0605 H   0  0  0  0  0  0  0  0  0  0  0  0\\n    2.5639   -1.9755   -0.9571 H   0  0  0  0  0  0  0  0  0  0  0  0\\n  1  2  1  0\\n  2  3  1  0\\n  3  4  1  0\\n  4  5  1  0\\n  5  6  2  0\\n  5  7  1  0\\n  4  8  1  0\\n  1  9  1  0\\n  1 10  1  0\\n  1 11  1  0\\n  2 12  1  0\\n  2 13  1  0\\n  3 14  1  0\\n  3 15  1  0\\n  4 16  1  0\\n  7 17  1  0\\n  8 18  1  0\\nM  END\\n\",\"sdf\");\n\tviewer_16558110812500548.setStyle({\"model\": 6},{\"stick\": {\"radius\": 0.15}});\n\tviewer_16558110812500548.addModel(\"\\n     RDKit          3D\\n\\n 21 20  0  0  0  0  0  0  0  0999 V2000\\n   -2.5687   -1.1753   -0.0525 C   0  0  0  0  0  0  0  0  0  0  0  0\\n   -1.0978   -1.5629   -0.2172 C   0  0  0  0  0  0  0  0  0  0  0  0\\n   -0.1324   -0.3574   -0.0960 C   0  0  0  0  0  0  0  0  0  0  0  0\\n   -0.3066    0.6128   -1.2825 C   0  0  0  0  0  0  0  0  0  0  0  0\\n    1.3246   -0.8623    0.0377 C   0  0  0  0  0  0  0  0  0  0  0  0\\n    2.2511    0.2549    0.4318 C   0  0  0  0  0  0  0  0  0  0  0  0\\n    2.7480    1.0114   -0.4455 O   0  0  0  0  0  0  0  0  0  0  0  0\\n    2.5270    0.4804    1.7765 O   0  0  0  0  0  0  0  0  0  0  0  0\\n    1.7492   -1.4505   -1.1656 O   0  0  0  0  0  0  0  0  0  0  0  0\\n   -2.9238   -0.5879   -0.9239 H   0  0  0  0  0  0  0  0  0  0  0  0\\n   -2.7162   -0.5878    0.8785 H   0  0  0  0  0  0  0  0  0  0  0  0\\n   -3.1869   -2.0956    0.0112 H   0  0  0  0  0  0  0  0  0  0  0  0\\n   -0.8626   -2.3051    0.5769 H   0  0  0  0  0  0  0  0  0  0  0  0\\n   -0.9605   -2.0682   -1.1983 H   0  0  0  0  0  0  0  0  0  0  0  0\\n   -0.3877    0.1926    0.8382 H   0  0  0  0  0  0  0  0  0  0  0  0\\n   -0.1025    0.1010   -2.2469 H   0  0  0  0  0  0  0  0  0  0  0  0\\n   -1.3370    1.0215   -1.3066 H   0  0  0  0  0  0  0  0  0  0  0  0\\n    0.3719    1.4838   -1.1856 H   0  0  0  0  0  0  0  0  0  0  0  0\\n    1.3556   -1.6287    0.8490 H   0  0  0  0  0  0  0  0  0  0  0  0\\n    3.1339    1.2400    2.0606 H   0  0  0  0  0  0  0  0  0  0  0  0\\n    2.5649   -1.9767   -0.9563 H   0  0  0  0  0  0  0  0  0  0  0  0\\n  1  2  1  0\\n  2  3  1  0\\n  3  4  1  0\\n  3  5  1  0\\n  5  6  1  0\\n  6  7  2  0\\n  6  8  1  0\\n  5  9  1  0\\n  1 10  1  0\\n  1 11  1  0\\n  1 12  1  0\\n  2 13  1  0\\n  2 14  1  0\\n  3 15  1  0\\n  4 16  1  0\\n  4 17  1  0\\n  4 18  1  0\\n  5 19  1  0\\n  8 20  1  0\\n  9 21  1  0\\nM  END\\n\",\"sdf\");\n\tviewer_16558110812500548.setStyle({\"model\": 7},{\"stick\": {\"radius\": 0.15}});\n\tviewer_16558110812500548.addModel(\"\\n     RDKit          3D\\n\\n 12 11  0  0  0  0  0  0  0  0999 V2000\\n   -0.0942   -0.3469   -0.1058 C   0  0  0  0  0  0  0  0  0  0  0  0\\n    1.3302   -0.8696    0.0468 C   0  0  0  0  0  0  0  0  0  0  0  0\\n    2.2477    0.2532    0.4332 C   0  0  0  0  0  0  0  0  0  0  0  0\\n    2.7244    1.0186   -0.4479 O   0  0  0  0  0  0  0  0  0  0  0  0\\n    2.5319    0.4789    1.7762 O   0  0  0  0  0  0  0  0  0  0  0  0\\n    1.7462   -1.4490   -1.1619 O   0  0  0  0  0  0  0  0  0  0  0  0\\n   -0.7741   -1.1836   -0.3727 H   0  0  0  0  0  0  0  0  0  0  0  0\\n   -0.4451    0.1000    0.8493 H   0  0  0  0  0  0  0  0  0  0  0  0\\n   -0.1439    0.4217   -0.9072 H   0  0  0  0  0  0  0  0  0  0  0  0\\n    1.3384   -1.6401    0.8517 H   0  0  0  0  0  0  0  0  0  0  0  0\\n    3.1346    1.2424    2.0584 H   0  0  0  0  0  0  0  0  0  0  0  0\\n    2.5629   -1.9765   -0.9586 H   0  0  0  0  0  0  0  0  0  0  0  0\\n  1  2  1  0\\n  2  3  1  0\\n  3  4  2  0\\n  3  5  1  0\\n  2  6  1  0\\n  1  7  1  0\\n  1  8  1  0\\n  1  9  1  0\\n  2 10  1  0\\n  5 11  1  0\\n  6 12  1  0\\nM  END\\n\",\"sdf\");\n\tviewer_16558110812500548.setStyle({\"model\": 8},{\"stick\": {\"radius\": 0.15}});\n\tviewer_16558110812500548.setBackgroundColor(\"white\");\n\tviewer_16558110812500548.zoomTo();\nviewer_16558110812500548.render();\n});\n</script>",
            "text/html": [
              "<div id=\"3dmolviewer_16558110812500548\"  style=\"position: relative; width: 400px; height: 400px\">\n",
              "        <p id=\"3dmolwarning_16558110812500548\" style=\"background-color:#ffcccc;color:black\">You appear to be running in JupyterLab (or JavaScript failed to load for some other reason).  You need to install the 3dmol extension: <br>\n",
              "        <tt>jupyter labextension install jupyterlab_3dmol</tt></p>\n",
              "        </div>\n",
              "<script>\n",
              "\n",
              "var loadScriptAsync = function(uri){\n",
              "  return new Promise((resolve, reject) => {\n",
              "    var tag = document.createElement('script');\n",
              "    tag.src = uri;\n",
              "    tag.async = true;\n",
              "    tag.onload = () => {\n",
              "      resolve();\n",
              "    };\n",
              "  var firstScriptTag = document.getElementsByTagName('script')[0];\n",
              "  firstScriptTag.parentNode.insertBefore(tag, firstScriptTag);\n",
              "});\n",
              "};\n",
              "\n",
              "if(typeof $3Dmolpromise === 'undefined') {\n",
              "$3Dmolpromise = null;\n",
              "  $3Dmolpromise = loadScriptAsync('https://3dmol.org/build/3Dmol.js');\n",
              "}\n",
              "\n",
              "var viewer_16558110812500548 = null;\n",
              "var warn = document.getElementById(\"3dmolwarning_16558110812500548\");\n",
              "if(warn) {\n",
              "    warn.parentNode.removeChild(warn);\n",
              "}\n",
              "$3Dmolpromise.then(function() {\n",
              "viewer_16558110812500548 = $3Dmol.createViewer($(\"#3dmolviewer_16558110812500548\"),{backgroundColor:\"white\"});\n",
              "viewer_16558110812500548.zoomTo();\n",
              "\tviewer_16558110812500548.removeAllModels();\n",
              "\tviewer_16558110812500548.addModel(\"\\n     RDKit          3D\\n\\n 19 19  0  0  0  0  0  0  0  0999 V2000\\n   -2.6880    0.6891   -0.3369 C   0  0  0  0  0  0  0  0  0  0  0  0\\n   -2.3178   -0.0205    0.8082 C   0  0  0  0  0  0  0  0  0  0  0  0\\n   -1.0213   -0.5303    0.9293 C   0  0  0  0  0  0  0  0  0  0  0  0\\n   -0.0842   -0.3418   -0.1025 C   0  0  0  0  0  0  0  0  0  0  0  0\\n   -0.4633    0.3870   -1.2457 C   0  0  0  0  0  0  0  0  0  0  0  0\\n   -1.7610    0.8946   -1.3618 C   0  0  0  0  0  0  0  0  0  0  0  0\\n    1.3231   -0.8673    0.0448 C   0  0  0  0  0  0  0  0  0  0  0  0\\n    2.2433    0.2538    0.4327 C   0  0  0  0  0  0  0  0  0  0  0  0\\n    2.7243    1.0172   -0.4478 O   0  0  0  0  0  0  0  0  0  0  0  0\\n    2.5284    0.4785    1.7758 O   0  0  0  0  0  0  0  0  0  0  0  0\\n    1.7435   -1.4537   -1.1606 O   0  0  0  0  0  0  0  0  0  0  0  0\\n   -3.6917    1.0838   -0.4280 H   0  0  0  0  0  0  0  0  0  0  0  0\\n   -3.0350   -0.1732    1.6043 H   0  0  0  0  0  0  0  0  0  0  0  0\\n   -0.7491   -1.0703    1.8277 H   0  0  0  0  0  0  0  0  0  0  0  0\\n    0.2460    0.5635   -2.0448 H   0  0  0  0  0  0  0  0  0  0  0  0\\n   -2.0469    1.4504   -2.2454 H   0  0  0  0  0  0  0  0  0  0  0  0\\n    1.3467   -1.6407    0.8480 H   0  0  0  0  0  0  0  0  0  0  0  0\\n    3.1332    1.2405    2.0580 H   0  0  0  0  0  0  0  0  0  0  0  0\\n    2.5637   -1.9753   -0.9562 H   0  0  0  0  0  0  0  0  0  0  0  0\\n  1  2  2  0\\n  2  3  1  0\\n  3  4  2  0\\n  4  5  1  0\\n  5  6  2  0\\n  4  7  1  0\\n  7  8  1  0\\n  8  9  2  0\\n  8 10  1  0\\n  7 11  1  0\\n  6  1  1  0\\n  1 12  1  0\\n  2 13  1  0\\n  3 14  1  0\\n  5 15  1  0\\n  6 16  1  0\\n  7 17  1  0\\n 10 18  1  0\\n 11 19  1  0\\nM  END\\n\",\"sdf\");\n",
              "\tviewer_16558110812500548.setStyle({\"model\": 0},{\"stick\": {\"radius\": 0.15}});\n",
              "\tviewer_16558110812500548.addModel(\"\\n     RDKit          3D\\n\\n 15 14  0  0  0  0  0  0  0  0999 V2000\\n   -0.3235    0.6300   -1.2462 C   0  0  0  0  0  0  0  0  0  0  0  0\\n   -0.1173   -0.3591   -0.0958 C   0  0  0  0  0  0  0  0  0  0  0  0\\n    1.3279   -0.8621    0.0393 C   0  0  0  0  0  0  0  0  0  0  0  0\\n    2.2514    0.2555    0.4320 C   0  0  0  0  0  0  0  0  0  0  0  0\\n    2.7411    1.0155   -0.4463 O   0  0  0  0  0  0  0  0  0  0  0  0\\n    2.5294    0.4803    1.7763 O   0  0  0  0  0  0  0  0  0  0  0  0\\n    1.7474   -1.4519   -1.1641 O   0  0  0  0  0  0  0  0  0  0  0  0\\n   -1.4022    0.8807   -1.3260 H   0  0  0  0  0  0  0  0  0  0  0  0\\n    0.0045    0.1870   -2.2101 H   0  0  0  0  0  0  0  0  0  0  0  0\\n    0.2354    1.5706   -1.0609 H   0  0  0  0  0  0  0  0  0  0  0  0\\n   -0.7812   -1.2348   -0.2647 H   0  0  0  0  0  0  0  0  0  0  0  0\\n   -0.4367    0.1189    0.8563 H   0  0  0  0  0  0  0  0  0  0  0  0\\n    1.3429   -1.6319    0.8470 H   0  0  0  0  0  0  0  0  0  0  0  0\\n    3.1345    1.2412    2.0603 H   0  0  0  0  0  0  0  0  0  0  0  0\\n    2.5648   -1.9763   -0.9566 H   0  0  0  0  0  0  0  0  0  0  0  0\\n  1  2  1  0\\n  2  3  1  0\\n  3  4  1  0\\n  4  5  2  0\\n  4  6  1  0\\n  3  7  1  0\\n  1  8  1  0\\n  1  9  1  0\\n  1 10  1  0\\n  2 11  1  0\\n  2 12  1  0\\n  3 13  1  0\\n  6 14  1  0\\n  7 15  1  0\\nM  END\\n\",\"sdf\");\n",
              "\tviewer_16558110812500548.setStyle({\"model\": 1},{\"stick\": {\"radius\": 0.15}});\n",
              "\tviewer_16558110812500548.addModel(\"\\n     RDKit          3D\\n\\n 19 19  0  0  0  0  0  0  0  0999 V2000\\n    1.7434   -1.4538   -1.1606 O   0  0  0  0  0  0  0  0  0  0  0  0\\n    1.3231   -0.8674    0.0448 C   0  0  0  0  0  0  0  0  0  0  0  0\\n    2.2433    0.2537    0.4327 C   0  0  0  0  0  0  0  0  0  0  0  0\\n    2.5285    0.4784    1.7758 O   0  0  0  0  0  0  0  0  0  0  0  0\\n    2.7241    1.0172   -0.4478 O   0  0  0  0  0  0  0  0  0  0  0  0\\n   -0.0841   -0.3416   -0.1026 C   0  0  0  0  0  0  0  0  0  0  0  0\\n   -1.0217   -0.5315    0.9279 C   0  0  0  0  0  0  0  0  0  0  0  0\\n   -2.3178   -0.0208    0.8077 C   0  0  0  0  0  0  0  0  0  0  0  0\\n   -2.6880    0.6923   -0.3366 C   0  0  0  0  0  0  0  0  0  0  0  0\\n   -4.3140    1.3337   -0.4840 Cl  0  0  0  0  0  0  0  0  0  0  0  0\\n   -1.7588    0.8986   -1.3608 C   0  0  0  0  0  0  0  0  0  0  0  0\\n   -0.4619    0.3895   -1.2443 C   0  0  0  0  0  0  0  0  0  0  0  0\\n    2.5637   -1.9753   -0.9562 H   0  0  0  0  0  0  0  0  0  0  0  0\\n    1.3467   -1.6408    0.8480 H   0  0  0  0  0  0  0  0  0  0  0  0\\n    3.1332    1.2405    2.0580 H   0  0  0  0  0  0  0  0  0  0  0  0\\n   -0.7502   -1.0735    1.8254 H   0  0  0  0  0  0  0  0  0  0  0  0\\n   -3.0321   -0.1772    1.6061 H   0  0  0  0  0  0  0  0  0  0  0  0\\n   -2.0388    1.4560   -2.2456 H   0  0  0  0  0  0  0  0  0  0  0  0\\n    0.2482    0.5670   -2.0425 H   0  0  0  0  0  0  0  0  0  0  0  0\\n  1  2  1  0\\n  2  3  1  0\\n  3  4  1  0\\n  3  5  2  0\\n  2  6  1  0\\n  6  7  2  0\\n  7  8  1  0\\n  8  9  2  0\\n  9 10  1  0\\n  9 11  1  0\\n 11 12  2  0\\n 12  6  1  0\\n  1 13  1  0\\n  2 14  1  0\\n  4 15  1  0\\n  7 16  1  0\\n  8 17  1  0\\n 11 18  1  0\\n 12 19  1  0\\nM  END\\n\",\"sdf\");\n",
              "\tviewer_16558110812500548.setStyle({\"model\": 2},{\"stick\": {\"radius\": 0.15}});\n",
              "\tviewer_16558110812500548.addModel(\"\\n     RDKit          3D\\n\\n 20 20  0  0  0  0  0  0  0  0999 V2000\\n   -0.4618    0.3895   -1.2441 C   0  0  0  0  0  0  0  0  0  0  0  0\\n   -1.7587    0.8985   -1.3608 C   0  0  0  0  0  0  0  0  0  0  0  0\\n   -2.6900    0.6939   -0.3383 C   0  0  0  0  0  0  0  0  0  0  0  0\\n   -2.3179   -0.0215    0.8075 C   0  0  0  0  0  0  0  0  0  0  0  0\\n   -1.0218   -0.5319    0.9275 C   0  0  0  0  0  0  0  0  0  0  0  0\\n   -0.0842   -0.3416   -0.1026 C   0  0  0  0  0  0  0  0  0  0  0  0\\n    1.3231   -0.8674    0.0448 C   0  0  0  0  0  0  0  0  0  0  0  0\\n    2.2433    0.2537    0.4327 C   0  0  0  0  0  0  0  0  0  0  0  0\\n    2.7242    1.0172   -0.4478 O   0  0  0  0  0  0  0  0  0  0  0  0\\n    2.5285    0.4784    1.7758 O   0  0  0  0  0  0  0  0  0  0  0  0\\n    1.7435   -1.4538   -1.1606 O   0  0  0  0  0  0  0  0  0  0  0  0\\n   -3.9786    1.2067   -0.4685 O   0  0  0  0  0  0  0  0  0  0  0  0\\n    0.2483    0.5670   -2.0421 H   0  0  0  0  0  0  0  0  0  0  0  0\\n   -2.0392    1.4558   -2.2456 H   0  0  0  0  0  0  0  0  0  0  0  0\\n   -3.0309   -0.1797    1.6066 H   0  0  0  0  0  0  0  0  0  0  0  0\\n   -0.7503   -1.0743    1.8247 H   0  0  0  0  0  0  0  0  0  0  0  0\\n    1.3468   -1.6408    0.8480 H   0  0  0  0  0  0  0  0  0  0  0  0\\n    3.1332    1.2405    2.0580 H   0  0  0  0  0  0  0  0  0  0  0  0\\n    2.5637   -1.9753   -0.9562 H   0  0  0  0  0  0  0  0  0  0  0  0\\n   -4.6759    1.0762    0.2551 H   0  0  0  0  0  0  0  0  0  0  0  0\\n  1  2  2  0\\n  2  3  1  0\\n  3  4  2  0\\n  4  5  1  0\\n  5  6  2  0\\n  6  7  1  0\\n  7  8  1  0\\n  8  9  2  0\\n  8 10  1  0\\n  7 11  1  0\\n  3 12  1  0\\n  6  1  1  0\\n  1 13  1  0\\n  2 14  1  0\\n  4 15  1  0\\n  5 16  1  0\\n  7 17  1  0\\n 10 18  1  0\\n 11 19  1  0\\n 12 20  1  0\\nM  END\\n\",\"sdf\");\n",
              "\tviewer_16558110812500548.setStyle({\"model\": 3},{\"stick\": {\"radius\": 0.15}});\n",
              "\tviewer_16558110812500548.addModel(\"\\n     RDKit          3D\\n\\n 23 23  0  0  0  0  0  0  0  0999 V2000\\n   -4.5317    1.9286   -1.5021 C   0  0  0  0  0  0  0  0  0  0  0  0\\n   -4.0103    1.1852   -0.4052 O   0  0  0  0  0  0  0  0  0  0  0  0\\n   -2.6980    0.6946   -0.3337 C   0  0  0  0  0  0  0  0  0  0  0  0\\n   -1.7580    0.8993   -1.3612 C   0  0  0  0  0  0  0  0  0  0  0  0\\n   -0.4617    0.3894   -1.2427 C   0  0  0  0  0  0  0  0  0  0  0  0\\n   -0.0842   -0.3416   -0.1026 C   0  0  0  0  0  0  0  0  0  0  0  0\\n   -1.0213   -0.5317    0.9263 C   0  0  0  0  0  0  0  0  0  0  0  0\\n   -2.3170   -0.0214    0.8065 C   0  0  0  0  0  0  0  0  0  0  0  0\\n    1.3231   -0.8674    0.0448 C   0  0  0  0  0  0  0  0  0  0  0  0\\n    1.7434   -1.4538   -1.1606 O   0  0  0  0  0  0  0  0  0  0  0  0\\n    2.2433    0.2537    0.4327 C   0  0  0  0  0  0  0  0  0  0  0  0\\n    2.5285    0.4784    1.7758 O   0  0  0  0  0  0  0  0  0  0  0  0\\n    2.7242    1.0172   -0.4478 O   0  0  0  0  0  0  0  0  0  0  0  0\\n   -4.4892    1.3204   -2.4302 H   0  0  0  0  0  0  0  0  0  0  0  0\\n   -5.5903    2.1866   -1.2946 H   0  0  0  0  0  0  0  0  0  0  0  0\\n   -3.9558    2.8689   -1.6342 H   0  0  0  0  0  0  0  0  0  0  0  0\\n   -2.0174    1.4533   -2.2530 H   0  0  0  0  0  0  0  0  0  0  0  0\\n    0.2492    0.5668   -2.0402 H   0  0  0  0  0  0  0  0  0  0  0  0\\n   -0.7500   -1.0744    1.8234 H   0  0  0  0  0  0  0  0  0  0  0  0\\n   -3.0292   -0.1806    1.6063 H   0  0  0  0  0  0  0  0  0  0  0  0\\n    1.3468   -1.6408    0.8480 H   0  0  0  0  0  0  0  0  0  0  0  0\\n    2.5637   -1.9753   -0.9562 H   0  0  0  0  0  0  0  0  0  0  0  0\\n    3.1332    1.2405    2.0580 H   0  0  0  0  0  0  0  0  0  0  0  0\\n  1  2  1  0\\n  2  3  1  0\\n  3  4  2  0\\n  4  5  1  0\\n  5  6  2  0\\n  6  7  1  0\\n  7  8  2  0\\n  6  9  1  0\\n  9 10  1  0\\n  9 11  1  0\\n 11 12  1  0\\n 11 13  2  0\\n  8  3  1  0\\n  1 14  1  0\\n  1 15  1  0\\n  1 16  1  0\\n  4 17  1  0\\n  5 18  1  0\\n  7 19  1  0\\n  8 20  1  0\\n  9 21  1  0\\n 10 22  1  0\\n 12 23  1  0\\nM  END\\n\",\"sdf\");\n",
              "\tviewer_16558110812500548.setStyle({\"model\": 4},{\"stick\": {\"radius\": 0.15}});\n",
              "\tviewer_16558110812500548.addModel(\"\\n     RDKit          3D\\n\\n 21 21  0  0  0  0  0  0  0  0999 V2000\\n    1.7435   -1.4538   -1.1606 O   0  0  0  0  0  0  0  0  0  0  0  0\\n    1.3231   -0.8674    0.0448 C   0  0  0  0  0  0  0  0  0  0  0  0\\n    2.2433    0.2537    0.4327 C   0  0  0  0  0  0  0  0  0  0  0  0\\n    2.5285    0.4784    1.7758 O   0  0  0  0  0  0  0  0  0  0  0  0\\n    2.7242    1.0172   -0.4478 O   0  0  0  0  0  0  0  0  0  0  0  0\\n   -0.0843   -0.3415   -0.1026 C   0  0  0  0  0  0  0  0  0  0  0  0\\n   -1.0208   -0.5309    0.9263 C   0  0  0  0  0  0  0  0  0  0  0  0\\n   -2.3169   -0.0211    0.8080 C   0  0  0  0  0  0  0  0  0  0  0  0\\n   -2.7005    0.6978   -0.3384 C   0  0  0  0  0  0  0  0  0  0  0  0\\n   -1.7577    0.8987   -1.3610 C   0  0  0  0  0  0  0  0  0  0  0  0\\n   -0.4618    0.3888   -1.2425 C   0  0  0  0  0  0  0  0  0  0  0  0\\n   -4.0342    1.2246   -0.4637 N   0  0  0  0  0  4  0  0  0  0  0  0\\n   -4.4053    1.9289   -1.5862 O   0  0  0  0  0  1  0  0  0  0  0  0\\n   -4.8756    1.0505    0.4423 O   0  0  0  0  0  0  0  0  0  0  0  0\\n    2.5638   -1.9753   -0.9562 H   0  0  0  0  0  0  0  0  0  0  0  0\\n    1.3468   -1.6408    0.8480 H   0  0  0  0  0  0  0  0  0  0  0  0\\n    3.1332    1.2405    2.0580 H   0  0  0  0  0  0  0  0  0  0  0  0\\n   -0.7485   -1.0730    1.8234 H   0  0  0  0  0  0  0  0  0  0  0  0\\n   -3.0184   -0.1869    1.6156 H   0  0  0  0  0  0  0  0  0  0  0  0\\n   -2.0203    1.4534   -2.2524 H   0  0  0  0  0  0  0  0  0  0  0  0\\n    0.2491    0.5659   -2.0401 H   0  0  0  0  0  0  0  0  0  0  0  0\\n  1  2  1  0\\n  2  3  1  0\\n  3  4  1  0\\n  3  5  2  0\\n  2  6  1  0\\n  6  7  2  0\\n  7  8  1  0\\n  8  9  2  0\\n  9 10  1  0\\n 10 11  2  0\\n  9 12  1  0\\n 12 13  1  0\\n 12 14  2  0\\n 11  6  1  0\\n  1 15  1  0\\n  2 16  1  0\\n  4 17  1  0\\n  7 18  1  0\\n  8 19  1  0\\n 10 20  1  0\\n 11 21  1  0\\nM  CHG  2  12   1  13  -1\\nM  END\\n\",\"sdf\");\n",
              "\tviewer_16558110812500548.setStyle({\"model\": 5},{\"stick\": {\"radius\": 0.15}});\n",
              "\tviewer_16558110812500548.addModel(\"\\n     RDKit          3D\\n\\n 18 17  0  0  0  0  0  0  0  0999 V2000\\n   -0.4299    2.1061   -0.6710 C   0  0  0  0  0  0  0  0  0  0  0  0\\n   -0.3447    0.6794   -1.2136 C   0  0  0  0  0  0  0  0  0  0  0  0\\n   -0.1210   -0.3631   -0.0951 C   0  0  0  0  0  0  0  0  0  0  0  0\\n    1.3279   -0.8601    0.0394 C   0  0  0  0  0  0  0  0  0  0  0  0\\n    2.2519    0.2557    0.4323 C   0  0  0  0  0  0  0  0  0  0  0  0\\n    2.7456    1.0126   -0.4464 O   0  0  0  0  0  0  0  0  0  0  0  0\\n    2.5281    0.4815    1.7766 O   0  0  0  0  0  0  0  0  0  0  0  0\\n    1.7469   -1.4501   -1.1643 O   0  0  0  0  0  0  0  0  0  0  0  0\\n   -1.2927    2.2016    0.0221 H   0  0  0  0  0  0  0  0  0  0  0  0\\n    0.4987    2.3837   -0.1325 H   0  0  0  0  0  0  0  0  0  0  0  0\\n   -0.5749    2.8150   -1.5132 H   0  0  0  0  0  0  0  0  0  0  0  0\\n    0.4534    0.6236   -1.9846 H   0  0  0  0  0  0  0  0  0  0  0  0\\n   -1.3057    0.4552   -1.7260 H   0  0  0  0  0  0  0  0  0  0  0  0\\n   -0.4728    0.0269    0.8860 H   0  0  0  0  0  0  0  0  0  0  0  0\\n   -0.7551   -1.2495   -0.3177 H   0  0  0  0  0  0  0  0  0  0  0  0\\n    1.3443   -1.6313    0.8462 H   0  0  0  0  0  0  0  0  0  0  0  0\\n    3.1344    1.2415    2.0605 H   0  0  0  0  0  0  0  0  0  0  0  0\\n    2.5639   -1.9755   -0.9571 H   0  0  0  0  0  0  0  0  0  0  0  0\\n  1  2  1  0\\n  2  3  1  0\\n  3  4  1  0\\n  4  5  1  0\\n  5  6  2  0\\n  5  7  1  0\\n  4  8  1  0\\n  1  9  1  0\\n  1 10  1  0\\n  1 11  1  0\\n  2 12  1  0\\n  2 13  1  0\\n  3 14  1  0\\n  3 15  1  0\\n  4 16  1  0\\n  7 17  1  0\\n  8 18  1  0\\nM  END\\n\",\"sdf\");\n",
              "\tviewer_16558110812500548.setStyle({\"model\": 6},{\"stick\": {\"radius\": 0.15}});\n",
              "\tviewer_16558110812500548.addModel(\"\\n     RDKit          3D\\n\\n 21 20  0  0  0  0  0  0  0  0999 V2000\\n   -2.5687   -1.1753   -0.0525 C   0  0  0  0  0  0  0  0  0  0  0  0\\n   -1.0978   -1.5629   -0.2172 C   0  0  0  0  0  0  0  0  0  0  0  0\\n   -0.1324   -0.3574   -0.0960 C   0  0  0  0  0  0  0  0  0  0  0  0\\n   -0.3066    0.6128   -1.2825 C   0  0  0  0  0  0  0  0  0  0  0  0\\n    1.3246   -0.8623    0.0377 C   0  0  0  0  0  0  0  0  0  0  0  0\\n    2.2511    0.2549    0.4318 C   0  0  0  0  0  0  0  0  0  0  0  0\\n    2.7480    1.0114   -0.4455 O   0  0  0  0  0  0  0  0  0  0  0  0\\n    2.5270    0.4804    1.7765 O   0  0  0  0  0  0  0  0  0  0  0  0\\n    1.7492   -1.4505   -1.1656 O   0  0  0  0  0  0  0  0  0  0  0  0\\n   -2.9238   -0.5879   -0.9239 H   0  0  0  0  0  0  0  0  0  0  0  0\\n   -2.7162   -0.5878    0.8785 H   0  0  0  0  0  0  0  0  0  0  0  0\\n   -3.1869   -2.0956    0.0112 H   0  0  0  0  0  0  0  0  0  0  0  0\\n   -0.8626   -2.3051    0.5769 H   0  0  0  0  0  0  0  0  0  0  0  0\\n   -0.9605   -2.0682   -1.1983 H   0  0  0  0  0  0  0  0  0  0  0  0\\n   -0.3877    0.1926    0.8382 H   0  0  0  0  0  0  0  0  0  0  0  0\\n   -0.1025    0.1010   -2.2469 H   0  0  0  0  0  0  0  0  0  0  0  0\\n   -1.3370    1.0215   -1.3066 H   0  0  0  0  0  0  0  0  0  0  0  0\\n    0.3719    1.4838   -1.1856 H   0  0  0  0  0  0  0  0  0  0  0  0\\n    1.3556   -1.6287    0.8490 H   0  0  0  0  0  0  0  0  0  0  0  0\\n    3.1339    1.2400    2.0606 H   0  0  0  0  0  0  0  0  0  0  0  0\\n    2.5649   -1.9767   -0.9563 H   0  0  0  0  0  0  0  0  0  0  0  0\\n  1  2  1  0\\n  2  3  1  0\\n  3  4  1  0\\n  3  5  1  0\\n  5  6  1  0\\n  6  7  2  0\\n  6  8  1  0\\n  5  9  1  0\\n  1 10  1  0\\n  1 11  1  0\\n  1 12  1  0\\n  2 13  1  0\\n  2 14  1  0\\n  3 15  1  0\\n  4 16  1  0\\n  4 17  1  0\\n  4 18  1  0\\n  5 19  1  0\\n  8 20  1  0\\n  9 21  1  0\\nM  END\\n\",\"sdf\");\n",
              "\tviewer_16558110812500548.setStyle({\"model\": 7},{\"stick\": {\"radius\": 0.15}});\n",
              "\tviewer_16558110812500548.addModel(\"\\n     RDKit          3D\\n\\n 12 11  0  0  0  0  0  0  0  0999 V2000\\n   -0.0942   -0.3469   -0.1058 C   0  0  0  0  0  0  0  0  0  0  0  0\\n    1.3302   -0.8696    0.0468 C   0  0  0  0  0  0  0  0  0  0  0  0\\n    2.2477    0.2532    0.4332 C   0  0  0  0  0  0  0  0  0  0  0  0\\n    2.7244    1.0186   -0.4479 O   0  0  0  0  0  0  0  0  0  0  0  0\\n    2.5319    0.4789    1.7762 O   0  0  0  0  0  0  0  0  0  0  0  0\\n    1.7462   -1.4490   -1.1619 O   0  0  0  0  0  0  0  0  0  0  0  0\\n   -0.7741   -1.1836   -0.3727 H   0  0  0  0  0  0  0  0  0  0  0  0\\n   -0.4451    0.1000    0.8493 H   0  0  0  0  0  0  0  0  0  0  0  0\\n   -0.1439    0.4217   -0.9072 H   0  0  0  0  0  0  0  0  0  0  0  0\\n    1.3384   -1.6401    0.8517 H   0  0  0  0  0  0  0  0  0  0  0  0\\n    3.1346    1.2424    2.0584 H   0  0  0  0  0  0  0  0  0  0  0  0\\n    2.5629   -1.9765   -0.9586 H   0  0  0  0  0  0  0  0  0  0  0  0\\n  1  2  1  0\\n  2  3  1  0\\n  3  4  2  0\\n  3  5  1  0\\n  2  6  1  0\\n  1  7  1  0\\n  1  8  1  0\\n  1  9  1  0\\n  2 10  1  0\\n  5 11  1  0\\n  6 12  1  0\\nM  END\\n\",\"sdf\");\n",
              "\tviewer_16558110812500548.setStyle({\"model\": 8},{\"stick\": {\"radius\": 0.15}});\n",
              "\tviewer_16558110812500548.setBackgroundColor(\"white\");\n",
              "\tviewer_16558110812500548.zoomTo();\n",
              "viewer_16558110812500548.render();\n",
              "});\n",
              "</script>"
            ]
          },
          "metadata": {}
        }
      ]
    },
    {
      "cell_type": "code",
      "source": [
        "p = py3Dmol.view(width=400,height=400)\n",
        "dt = {}\n",
        "for i in range(len(refMols)):\n",
        "  dt[i] = [prbMol, refMols[i]]\n",
        "interact(draw, ms=dt,p=fixed(p),confIds=fixed([-1,-1]));"
      ],
      "metadata": {
        "colab": {
          "base_uri": "https://localhost:8080/",
          "height": 449,
          "referenced_widgets": [
            "a7feed853cc84bd78c67985c62391358",
            "098b0e4eb83d4dc0b400e0c0ae1dc3df",
            "ec99639e201245f0be09d4ef43796853",
            "c79a4f8806b549fca53920ee21cfb893",
            "d8d0764940c744228c4f5c4d9d720cdd",
            "cf71c0b61039480a90781c3129bec266",
            "f7198dc272994ee8a7cf0994d0dc4c9a"
          ]
        },
        "id": "P7k6ve_jbXyf",
        "outputId": "8aee60be-e596-4715-996c-cef2a9317346"
      },
      "execution_count": null,
      "outputs": [
        {
          "output_type": "display_data",
          "data": {
            "text/plain": [
              "interactive(children=(Dropdown(description='ms', options={0: [<rdkit.Chem.rdchem.Mol object at 0x7fadff6b7ad0>…"
            ],
            "application/vnd.jupyter.widget-view+json": {
              "version_major": 2,
              "version_minor": 0,
              "model_id": "a7feed853cc84bd78c67985c62391358"
            }
          },
          "metadata": {}
        }
      ]
    },
    {
      "cell_type": "markdown",
      "source": [
        "The scores are now higher (since we found a better alignment via expert knowledge of the docking position), and in many cases also more reliable. Ideally, we would have used a docked configuration of one of the reference molecules for creating the core 3D coordinates, not just a random embedding, to get even more reliable scores.\n",
        "\n",
        "Let's now test the second query molecule, which has a much smaller common core (since the carbon is not secondary):"
      ],
      "metadata": {
        "id": "CKUxEaePsvU6"
      }
    },
    {
      "cell_type": "code",
      "source": [
        "template = find_highest_template(d.nodes[''], prbMol2, d, '')\n",
        "core = AllChem.DeleteSubstructs(AllChem.ReplaceSidechains(refMols[0],d.nodes[template].rule),Chem.MolFromSmiles('*')) #Create core molecule with 3D coordinates\n",
        "core.UpdatePropertyCache()\n",
        "core"
      ],
      "metadata": {
        "colab": {
          "base_uri": "https://localhost:8080/",
          "height": 167
        },
        "id": "BLiiYa9Qn33j",
        "outputId": "8e0da9ef-8174-4928-c0df-cc646583619a"
      },
      "execution_count": null,
      "outputs": [
        {
          "output_type": "execute_result",
          "data": {
            "text/plain": [
              "<rdkit.Chem.rdchem.Mol at 0x7fadff6c5c60>"
            ],
            "image/png": "[encoded data removed]"
          },
          "metadata": {},
          "execution_count": 225
        }
      ]
    },
    {
      "cell_type": "code",
      "source": [
        "simShape,simEsp=EmbedAlignConstrainedScore(prbMol,refMols,core, renormalize=True)\n",
        "print('%35s %8s %8s %8s' % (\"Reference\",\"Shape\",\"ESP\", \"Shape*ESP\"))\n",
        "for i in range(len(refSmiles)):\n",
        "    print('%35s %8.2f %8.2f %8.2f' % (refSmiles[i],simShape[i],simEsp[i],simShape[i]*simEsp[i]))"
      ],
      "metadata": {
        "colab": {
          "base_uri": "https://localhost:8080/"
        },
        "id": "BjZaD3W5bC3B",
        "outputId": "582a37e6-21a5-4b43-d612-eb66bfe30db7"
      },
      "execution_count": null,
      "outputs": [
        {
          "output_type": "stream",
          "name": "stdout",
          "text": [
            "                          Reference    Shape      ESP Shape*ESP\n",
            "            C1=CC=C(C=C1)C(C(=O)O)O     0.43     0.75     0.32\n",
            "                       CCC(C(=O)O)O     0.52     0.86     0.45\n",
            "             OC(C(O)=O)c1ccc(Cl)cc1     0.38     0.77     0.29\n",
            "           C1=CC(=CC=C1C(C(=O)O)O)O     0.40     0.69     0.28\n",
            "             COc1ccc(cc1)C(O)C(O)=O     0.37     0.73     0.27\n",
            "   OC(C(O)=O)c1ccc(cc1)[N+]([O-])=O     0.36     0.66     0.24\n",
            "                      CCCC(C(=O)O)O     0.56     0.70     0.40\n",
            "                   CCC(C)C(C(=O)O)O     0.58     0.64     0.37\n",
            "                        CC(C(=O)O)O     0.56     0.77     0.43\n"
          ]
        }
      ]
    },
    {
      "cell_type": "markdown",
      "source": [
        "As expected, the scores are rather poor, and we can assume that this query is not processed by lacatate oxidase."
      ],
      "metadata": {
        "id": "Lol45VQS5zL5"
      }
    },
    {
      "cell_type": "markdown",
      "source": [
        "# ***Example 2:*** Influence of metric, integration routine and partialCharges\n",
        "\n",
        "To study the behavior of the similarity metric, integration routine and partialCharges, let's embed and align two molecules, and then call the similarity routine multiple times. For simplicity, we will only create one conformer per molecule."
      ],
      "metadata": {
        "id": "ZLG8ZNLiCpHR"
      }
    },
    {
      "cell_type": "code",
      "source": [
        "m1 = Chem.AddHs(Chem.MolFromSmiles(\"c1ccccc1Cl\"))\n",
        "m2 = Chem.AddHs(Chem.MolFromSmiles(\"c1ccccc1[N+]([O-])=O\"))\n",
        "\n",
        "m1 = embed(m1, n=1)\n",
        "m2 = embed(m2, n=1)\n",
        "\n",
        "draw([m1,m2])"
      ],
      "metadata": {
        "colab": {
          "base_uri": "https://localhost:8080/",
          "height": 417
        },
        "id": "cd0cOX1NCeso",
        "outputId": "7e3ad620-998c-4c8b-f40f-8101710b8796"
      },
      "execution_count": null,
      "outputs": [
        {
          "output_type": "display_data",
          "data": {
            "application/3dmoljs_load.v0": "<div id=\"3dmolviewer_1655811632241749\"  style=\"position: relative; width: 400px; height: 400px\">\n        <p id=\"3dmolwarning_1655811632241749\" style=\"background-color:#ffcccc;color:black\">You appear to be running in JupyterLab (or JavaScript failed to load for some other reason).  You need to install the 3dmol extension: <br>\n        <tt>jupyter labextension install jupyterlab_3dmol</tt></p>\n        </div>\n<script>\n\nvar loadScriptAsync = function(uri){\n  return new Promise((resolve, reject) => {\n    var tag = document.createElement('script');\n    tag.src = uri;\n    tag.async = true;\n    tag.onload = () => {\n      resolve();\n    };\n  var firstScriptTag = document.getElementsByTagName('script')[0];\n  firstScriptTag.parentNode.insertBefore(tag, firstScriptTag);\n});\n};\n\nif(typeof $3Dmolpromise === 'undefined') {\n$3Dmolpromise = null;\n  $3Dmolpromise = loadScriptAsync('https://3dmol.org/build/3Dmol.js');\n}\n\nvar viewer_1655811632241749 = null;\nvar warn = document.getElementById(\"3dmolwarning_1655811632241749\");\nif(warn) {\n    warn.parentNode.removeChild(warn);\n}\n$3Dmolpromise.then(function() {\nviewer_1655811632241749 = $3Dmol.createViewer($(\"#3dmolviewer_1655811632241749\"),{backgroundColor:\"white\"});\nviewer_1655811632241749.zoomTo();\n\tviewer_1655811632241749.removeAllModels();\n\tviewer_1655811632241749.addModel(\"\\n     RDKit          3D\\n\\n 12 12  0  0  0  0  0  0  0  0999 V2000\\n    1.0589   -0.8087   -0.0649 C   0  0  0  0  0  0  0  0  0  0  0  0\\n   -0.1968   -1.4033   -0.1128 C   0  0  0  0  0  0  0  0  0  0  0  0\\n   -1.3117   -0.5938   -0.0478 C   0  0  0  0  0  0  0  0  0  0  0  0\\n   -1.1824    0.7658    0.0614 C   0  0  0  0  0  0  0  0  0  0  0  0\\n    0.0744    1.3321    0.1070 C   0  0  0  0  0  0  0  0  0  0  0  0\\n    1.2171    0.5654    0.0456 C   0  0  0  0  0  0  0  0  0  0  0  0\\n    2.7860    1.3174    0.1061 Cl  0  0  0  0  0  0  0  0  0  0  0  0\\n    1.9717   -1.4173   -0.1137 H   0  0  0  0  0  0  0  0  0  0  0  0\\n   -0.2902   -2.4764   -0.1990 H   0  0  0  0  0  0  0  0  0  0  0  0\\n   -2.2767   -1.0764   -0.0867 H   0  0  0  0  0  0  0  0  0  0  0  0\\n   -2.0626    1.3768    0.1104 H   0  0  0  0  0  0  0  0  0  0  0  0\\n    0.2122    2.4184    0.1944 H   0  0  0  0  0  0  0  0  0  0  0  0\\n  1  2  2  0\\n  2  3  1  0\\n  3  4  2  0\\n  4  5  1  0\\n  5  6  2  0\\n  6  7  1  0\\n  6  1  1  0\\n  1  8  1  0\\n  2  9  1  0\\n  3 10  1  0\\n  4 11  1  0\\n  5 12  1  0\\nM  END\\n\",\"sdf\");\n\tviewer_1655811632241749.setStyle({\"model\": 0},{\"stick\": {\"radius\": 0.15}});\n\tviewer_1655811632241749.addModel(\"\\n     RDKit          3D\\n\\n 14 14  0  0  0  0  0  0  0  0999 V2000\\n    0.0896   -1.0716    0.5735 C   0  0  0  0  0  0  0  0  0  0  0  0\\n   -1.2966   -0.9261    0.5915 C   0  0  0  0  0  0  0  0  0  0  0  0\\n   -1.9212    0.1722    0.0409 C   0  0  0  0  0  0  0  0  0  0  0  0\\n   -1.1219    1.1369   -0.5368 C   0  0  0  0  0  0  0  0  0  0  0  0\\n    0.2710    1.0122   -0.5665 C   0  0  0  0  0  0  0  0  0  0  0  0\\n    0.8653   -0.0983   -0.0072 C   0  0  0  0  0  0  0  0  0  0  0  0\\n    2.2756   -0.2017   -0.0497 N   0  0  0  0  0  4  0  0  0  0  0  0\\n    3.0822    0.7497   -0.6208 O   0  0  0  0  0  1  0  0  0  0  0  0\\n    2.8391   -1.1974    0.4496 O   0  0  0  0  0  0  0  0  0  0  0  0\\n    0.5610   -1.9401    1.0105 H   0  0  0  0  0  0  0  0  0  0  0  0\\n   -1.8905   -1.6860    1.0441 H   0  0  0  0  0  0  0  0  0  0  0  0\\n   -3.0008    0.2576    0.0701 H   0  0  0  0  0  0  0  0  0  0  0  0\\n   -1.6166    2.0002   -0.9693 H   0  0  0  0  0  0  0  0  0  0  0  0\\n    0.8638    1.7923   -1.0300 H   0  0  0  0  0  0  0  0  0  0  0  0\\n  1  2  2  0\\n  2  3  1  0\\n  3  4  2  0\\n  4  5  1  0\\n  5  6  2  0\\n  6  7  1  0\\n  7  8  1  0\\n  7  9  2  0\\n  6  1  1  0\\n  1 10  1  0\\n  2 11  1  0\\n  3 12  1  0\\n  4 13  1  0\\n  5 14  1  0\\nM  CHG  2   7   1   8  -1\\nM  END\\n\",\"sdf\");\n\tviewer_1655811632241749.setStyle({\"model\": 1},{\"stick\": {\"radius\": 0.15}});\n\tviewer_1655811632241749.setBackgroundColor(\"white\");\n\tviewer_1655811632241749.zoomTo();\nviewer_1655811632241749.render();\n});\n</script>",
            "text/html": [
              "<div id=\"3dmolviewer_1655811632241749\"  style=\"position: relative; width: 400px; height: 400px\">\n",
              "        <p id=\"3dmolwarning_1655811632241749\" style=\"background-color:#ffcccc;color:black\">You appear to be running in JupyterLab (or JavaScript failed to load for some other reason).  You need to install the 3dmol extension: <br>\n",
              "        <tt>jupyter labextension install jupyterlab_3dmol</tt></p>\n",
              "        </div>\n",
              "<script>\n",
              "\n",
              "var loadScriptAsync = function(uri){\n",
              "  return new Promise((resolve, reject) => {\n",
              "    var tag = document.createElement('script');\n",
              "    tag.src = uri;\n",
              "    tag.async = true;\n",
              "    tag.onload = () => {\n",
              "      resolve();\n",
              "    };\n",
              "  var firstScriptTag = document.getElementsByTagName('script')[0];\n",
              "  firstScriptTag.parentNode.insertBefore(tag, firstScriptTag);\n",
              "});\n",
              "};\n",
              "\n",
              "if(typeof $3Dmolpromise === 'undefined') {\n",
              "$3Dmolpromise = null;\n",
              "  $3Dmolpromise = loadScriptAsync('https://3dmol.org/build/3Dmol.js');\n",
              "}\n",
              "\n",
              "var viewer_1655811632241749 = null;\n",
              "var warn = document.getElementById(\"3dmolwarning_1655811632241749\");\n",
              "if(warn) {\n",
              "    warn.parentNode.removeChild(warn);\n",
              "}\n",
              "$3Dmolpromise.then(function() {\n",
              "viewer_1655811632241749 = $3Dmol.createViewer($(\"#3dmolviewer_1655811632241749\"),{backgroundColor:\"white\"});\n",
              "viewer_1655811632241749.zoomTo();\n",
              "\tviewer_1655811632241749.removeAllModels();\n",
              "\tviewer_1655811632241749.addModel(\"\\n     RDKit          3D\\n\\n 12 12  0  0  0  0  0  0  0  0999 V2000\\n    1.0589   -0.8087   -0.0649 C   0  0  0  0  0  0  0  0  0  0  0  0\\n   -0.1968   -1.4033   -0.1128 C   0  0  0  0  0  0  0  0  0  0  0  0\\n   -1.3117   -0.5938   -0.0478 C   0  0  0  0  0  0  0  0  0  0  0  0\\n   -1.1824    0.7658    0.0614 C   0  0  0  0  0  0  0  0  0  0  0  0\\n    0.0744    1.3321    0.1070 C   0  0  0  0  0  0  0  0  0  0  0  0\\n    1.2171    0.5654    0.0456 C   0  0  0  0  0  0  0  0  0  0  0  0\\n    2.7860    1.3174    0.1061 Cl  0  0  0  0  0  0  0  0  0  0  0  0\\n    1.9717   -1.4173   -0.1137 H   0  0  0  0  0  0  0  0  0  0  0  0\\n   -0.2902   -2.4764   -0.1990 H   0  0  0  0  0  0  0  0  0  0  0  0\\n   -2.2767   -1.0764   -0.0867 H   0  0  0  0  0  0  0  0  0  0  0  0\\n   -2.0626    1.3768    0.1104 H   0  0  0  0  0  0  0  0  0  0  0  0\\n    0.2122    2.4184    0.1944 H   0  0  0  0  0  0  0  0  0  0  0  0\\n  1  2  2  0\\n  2  3  1  0\\n  3  4  2  0\\n  4  5  1  0\\n  5  6  2  0\\n  6  7  1  0\\n  6  1  1  0\\n  1  8  1  0\\n  2  9  1  0\\n  3 10  1  0\\n  4 11  1  0\\n  5 12  1  0\\nM  END\\n\",\"sdf\");\n",
              "\tviewer_1655811632241749.setStyle({\"model\": 0},{\"stick\": {\"radius\": 0.15}});\n",
              "\tviewer_1655811632241749.addModel(\"\\n     RDKit          3D\\n\\n 14 14  0  0  0  0  0  0  0  0999 V2000\\n    0.0896   -1.0716    0.5735 C   0  0  0  0  0  0  0  0  0  0  0  0\\n   -1.2966   -0.9261    0.5915 C   0  0  0  0  0  0  0  0  0  0  0  0\\n   -1.9212    0.1722    0.0409 C   0  0  0  0  0  0  0  0  0  0  0  0\\n   -1.1219    1.1369   -0.5368 C   0  0  0  0  0  0  0  0  0  0  0  0\\n    0.2710    1.0122   -0.5665 C   0  0  0  0  0  0  0  0  0  0  0  0\\n    0.8653   -0.0983   -0.0072 C   0  0  0  0  0  0  0  0  0  0  0  0\\n    2.2756   -0.2017   -0.0497 N   0  0  0  0  0  4  0  0  0  0  0  0\\n    3.0822    0.7497   -0.6208 O   0  0  0  0  0  1  0  0  0  0  0  0\\n    2.8391   -1.1974    0.4496 O   0  0  0  0  0  0  0  0  0  0  0  0\\n    0.5610   -1.9401    1.0105 H   0  0  0  0  0  0  0  0  0  0  0  0\\n   -1.8905   -1.6860    1.0441 H   0  0  0  0  0  0  0  0  0  0  0  0\\n   -3.0008    0.2576    0.0701 H   0  0  0  0  0  0  0  0  0  0  0  0\\n   -1.6166    2.0002   -0.9693 H   0  0  0  0  0  0  0  0  0  0  0  0\\n    0.8638    1.7923   -1.0300 H   0  0  0  0  0  0  0  0  0  0  0  0\\n  1  2  2  0\\n  2  3  1  0\\n  3  4  2  0\\n  4  5  1  0\\n  5  6  2  0\\n  6  7  1  0\\n  7  8  1  0\\n  7  9  2  0\\n  6  1  1  0\\n  1 10  1  0\\n  2 11  1  0\\n  3 12  1  0\\n  4 13  1  0\\n  5 14  1  0\\nM  CHG  2   7   1   8  -1\\nM  END\\n\",\"sdf\");\n",
              "\tviewer_1655811632241749.setStyle({\"model\": 1},{\"stick\": {\"radius\": 0.15}});\n",
              "\tviewer_1655811632241749.setBackgroundColor(\"white\");\n",
              "\tviewer_1655811632241749.zoomTo();\n",
              "viewer_1655811632241749.render();\n",
              "});\n",
              "</script>"
            ]
          },
          "metadata": {}
        }
      ]
    },
    {
      "cell_type": "code",
      "source": [
        "align(m1,m2)\n",
        "draw([m1,m2])"
      ],
      "metadata": {
        "colab": {
          "base_uri": "https://localhost:8080/",
          "height": 417
        },
        "id": "59yBr-ojEJS9",
        "outputId": "c071e412-5ffa-45b2-a4ca-4b9b5c894356"
      },
      "execution_count": null,
      "outputs": [
        {
          "output_type": "display_data",
          "data": {
            "application/3dmoljs_load.v0": "<div id=\"3dmolviewer_16558116552145886\"  style=\"position: relative; width: 400px; height: 400px\">\n        <p id=\"3dmolwarning_16558116552145886\" style=\"background-color:#ffcccc;color:black\">You appear to be running in JupyterLab (or JavaScript failed to load for some other reason).  You need to install the 3dmol extension: <br>\n        <tt>jupyter labextension install jupyterlab_3dmol</tt></p>\n        </div>\n<script>\n\nvar loadScriptAsync = function(uri){\n  return new Promise((resolve, reject) => {\n    var tag = document.createElement('script');\n    tag.src = uri;\n    tag.async = true;\n    tag.onload = () => {\n      resolve();\n    };\n  var firstScriptTag = document.getElementsByTagName('script')[0];\n  firstScriptTag.parentNode.insertBefore(tag, firstScriptTag);\n});\n};\n\nif(typeof $3Dmolpromise === 'undefined') {\n$3Dmolpromise = null;\n  $3Dmolpromise = loadScriptAsync('https://3dmol.org/build/3Dmol.js');\n}\n\nvar viewer_16558116552145886 = null;\nvar warn = document.getElementById(\"3dmolwarning_16558116552145886\");\nif(warn) {\n    warn.parentNode.removeChild(warn);\n}\n$3Dmolpromise.then(function() {\nviewer_16558116552145886 = $3Dmol.createViewer($(\"#3dmolviewer_16558116552145886\"),{backgroundColor:\"white\"});\nviewer_16558116552145886.zoomTo();\n\tviewer_16558116552145886.removeAllModels();\n\tviewer_16558116552145886.addModel(\"\\n     RDKit          3D\\n\\n 12 12  0  0  0  0  0  0  0  0999 V2000\\n    0.2194    1.0148   -0.5643 C   0  0  0  0  0  0  0  0  0  0  0  0\\n   -1.1634    1.1570   -0.5447 C   0  0  0  0  0  0  0  0  0  0  0  0\\n   -1.9192    0.1651    0.0447 C   0  0  0  0  0  0  0  0  0  0  0  0\\n   -1.3187   -0.9351    0.5980 C   0  0  0  0  0  0  0  0  0  0  0  0\\n    0.0550   -1.0533    0.5660 C   0  0  0  0  0  0  0  0  0  0  0  0\\n    0.8520   -0.0894   -0.0111 C   0  0  0  0  0  0  0  0  0  0  0  0\\n    2.5828   -0.2748   -0.0316 Cl  0  0  0  0  0  0  0  0  0  0  0  0\\n    0.8573    1.7816   -1.0237 H   0  0  0  0  0  0  0  0  0  0  0  0\\n   -1.6292    2.0278   -0.9833 H   0  0  0  0  0  0  0  0  0  0  0  0\\n   -2.9909    0.2959    0.0487 H   0  0  0  0  0  0  0  0  0  0  0  0\\n   -1.9253   -1.6946    1.0512 H   0  0  0  0  0  0  0  0  0  0  0  0\\n    0.5671   -1.9226    1.0006 H   0  0  0  0  0  0  0  0  0  0  0  0\\n  1  2  2  0\\n  2  3  1  0\\n  3  4  2  0\\n  4  5  1  0\\n  5  6  2  0\\n  6  7  1  0\\n  6  1  1  0\\n  1  8  1  0\\n  2  9  1  0\\n  3 10  1  0\\n  4 11  1  0\\n  5 12  1  0\\nM  END\\n\",\"sdf\");\n\tviewer_16558116552145886.setStyle({\"model\": 0},{\"stick\": {\"radius\": 0.15}});\n\tviewer_16558116552145886.addModel(\"\\n     RDKit          3D\\n\\n 14 14  0  0  0  0  0  0  0  0999 V2000\\n    0.0896   -1.0716    0.5735 C   0  0  0  0  0  0  0  0  0  0  0  0\\n   -1.2966   -0.9261    0.5915 C   0  0  0  0  0  0  0  0  0  0  0  0\\n   -1.9212    0.1722    0.0409 C   0  0  0  0  0  0  0  0  0  0  0  0\\n   -1.1219    1.1369   -0.5368 C   0  0  0  0  0  0  0  0  0  0  0  0\\n    0.2710    1.0122   -0.5665 C   0  0  0  0  0  0  0  0  0  0  0  0\\n    0.8653   -0.0983   -0.0072 C   0  0  0  0  0  0  0  0  0  0  0  0\\n    2.2756   -0.2017   -0.0497 N   0  0  0  0  0  4  0  0  0  0  0  0\\n    3.0822    0.7497   -0.6208 O   0  0  0  0  0  1  0  0  0  0  0  0\\n    2.8391   -1.1974    0.4496 O   0  0  0  0  0  0  0  0  0  0  0  0\\n    0.5610   -1.9401    1.0105 H   0  0  0  0  0  0  0  0  0  0  0  0\\n   -1.8905   -1.6860    1.0441 H   0  0  0  0  0  0  0  0  0  0  0  0\\n   -3.0008    0.2576    0.0701 H   0  0  0  0  0  0  0  0  0  0  0  0\\n   -1.6166    2.0002   -0.9693 H   0  0  0  0  0  0  0  0  0  0  0  0\\n    0.8638    1.7923   -1.0300 H   0  0  0  0  0  0  0  0  0  0  0  0\\n  1  2  2  0\\n  2  3  1  0\\n  3  4  2  0\\n  4  5  1  0\\n  5  6  2  0\\n  6  7  1  0\\n  7  8  1  0\\n  7  9  2  0\\n  6  1  1  0\\n  1 10  1  0\\n  2 11  1  0\\n  3 12  1  0\\n  4 13  1  0\\n  5 14  1  0\\nM  CHG  2   7   1   8  -1\\nM  END\\n\",\"sdf\");\n\tviewer_16558116552145886.setStyle({\"model\": 1},{\"stick\": {\"radius\": 0.15}});\n\tviewer_16558116552145886.setBackgroundColor(\"white\");\n\tviewer_16558116552145886.zoomTo();\nviewer_16558116552145886.render();\n});\n</script>",
            "text/html": [
              "<div id=\"3dmolviewer_16558116552145886\"  style=\"position: relative; width: 400px; height: 400px\">\n",
              "        <p id=\"3dmolwarning_16558116552145886\" style=\"background-color:#ffcccc;color:black\">You appear to be running in JupyterLab (or JavaScript failed to load for some other reason).  You need to install the 3dmol extension: <br>\n",
              "        <tt>jupyter labextension install jupyterlab_3dmol</tt></p>\n",
              "        </div>\n",
              "<script>\n",
              "\n",
              "var loadScriptAsync = function(uri){\n",
              "  return new Promise((resolve, reject) => {\n",
              "    var tag = document.createElement('script');\n",
              "    tag.src = uri;\n",
              "    tag.async = true;\n",
              "    tag.onload = () => {\n",
              "      resolve();\n",
              "    };\n",
              "  var firstScriptTag = document.getElementsByTagName('script')[0];\n",
              "  firstScriptTag.parentNode.insertBefore(tag, firstScriptTag);\n",
              "});\n",
              "};\n",
              "\n",
              "if(typeof $3Dmolpromise === 'undefined') {\n",
              "$3Dmolpromise = null;\n",
              "  $3Dmolpromise = loadScriptAsync('https://3dmol.org/build/3Dmol.js');\n",
              "}\n",
              "\n",
              "var viewer_16558116552145886 = null;\n",
              "var warn = document.getElementById(\"3dmolwarning_16558116552145886\");\n",
              "if(warn) {\n",
              "    warn.parentNode.removeChild(warn);\n",
              "}\n",
              "$3Dmolpromise.then(function() {\n",
              "viewer_16558116552145886 = $3Dmol.createViewer($(\"#3dmolviewer_16558116552145886\"),{backgroundColor:\"white\"});\n",
              "viewer_16558116552145886.zoomTo();\n",
              "\tviewer_16558116552145886.removeAllModels();\n",
              "\tviewer_16558116552145886.addModel(\"\\n     RDKit          3D\\n\\n 12 12  0  0  0  0  0  0  0  0999 V2000\\n    0.2194    1.0148   -0.5643 C   0  0  0  0  0  0  0  0  0  0  0  0\\n   -1.1634    1.1570   -0.5447 C   0  0  0  0  0  0  0  0  0  0  0  0\\n   -1.9192    0.1651    0.0447 C   0  0  0  0  0  0  0  0  0  0  0  0\\n   -1.3187   -0.9351    0.5980 C   0  0  0  0  0  0  0  0  0  0  0  0\\n    0.0550   -1.0533    0.5660 C   0  0  0  0  0  0  0  0  0  0  0  0\\n    0.8520   -0.0894   -0.0111 C   0  0  0  0  0  0  0  0  0  0  0  0\\n    2.5828   -0.2748   -0.0316 Cl  0  0  0  0  0  0  0  0  0  0  0  0\\n    0.8573    1.7816   -1.0237 H   0  0  0  0  0  0  0  0  0  0  0  0\\n   -1.6292    2.0278   -0.9833 H   0  0  0  0  0  0  0  0  0  0  0  0\\n   -2.9909    0.2959    0.0487 H   0  0  0  0  0  0  0  0  0  0  0  0\\n   -1.9253   -1.6946    1.0512 H   0  0  0  0  0  0  0  0  0  0  0  0\\n    0.5671   -1.9226    1.0006 H   0  0  0  0  0  0  0  0  0  0  0  0\\n  1  2  2  0\\n  2  3  1  0\\n  3  4  2  0\\n  4  5  1  0\\n  5  6  2  0\\n  6  7  1  0\\n  6  1  1  0\\n  1  8  1  0\\n  2  9  1  0\\n  3 10  1  0\\n  4 11  1  0\\n  5 12  1  0\\nM  END\\n\",\"sdf\");\n",
              "\tviewer_16558116552145886.setStyle({\"model\": 0},{\"stick\": {\"radius\": 0.15}});\n",
              "\tviewer_16558116552145886.addModel(\"\\n     RDKit          3D\\n\\n 14 14  0  0  0  0  0  0  0  0999 V2000\\n    0.0896   -1.0716    0.5735 C   0  0  0  0  0  0  0  0  0  0  0  0\\n   -1.2966   -0.9261    0.5915 C   0  0  0  0  0  0  0  0  0  0  0  0\\n   -1.9212    0.1722    0.0409 C   0  0  0  0  0  0  0  0  0  0  0  0\\n   -1.1219    1.1369   -0.5368 C   0  0  0  0  0  0  0  0  0  0  0  0\\n    0.2710    1.0122   -0.5665 C   0  0  0  0  0  0  0  0  0  0  0  0\\n    0.8653   -0.0983   -0.0072 C   0  0  0  0  0  0  0  0  0  0  0  0\\n    2.2756   -0.2017   -0.0497 N   0  0  0  0  0  4  0  0  0  0  0  0\\n    3.0822    0.7497   -0.6208 O   0  0  0  0  0  1  0  0  0  0  0  0\\n    2.8391   -1.1974    0.4496 O   0  0  0  0  0  0  0  0  0  0  0  0\\n    0.5610   -1.9401    1.0105 H   0  0  0  0  0  0  0  0  0  0  0  0\\n   -1.8905   -1.6860    1.0441 H   0  0  0  0  0  0  0  0  0  0  0  0\\n   -3.0008    0.2576    0.0701 H   0  0  0  0  0  0  0  0  0  0  0  0\\n   -1.6166    2.0002   -0.9693 H   0  0  0  0  0  0  0  0  0  0  0  0\\n    0.8638    1.7923   -1.0300 H   0  0  0  0  0  0  0  0  0  0  0  0\\n  1  2  2  0\\n  2  3  1  0\\n  3  4  2  0\\n  4  5  1  0\\n  5  6  2  0\\n  6  7  1  0\\n  7  8  1  0\\n  7  9  2  0\\n  6  1  1  0\\n  1 10  1  0\\n  2 11  1  0\\n  3 12  1  0\\n  4 13  1  0\\n  5 14  1  0\\nM  CHG  2   7   1   8  -1\\nM  END\\n\",\"sdf\");\n",
              "\tviewer_16558116552145886.setStyle({\"model\": 1},{\"stick\": {\"radius\": 0.15}});\n",
              "\tviewer_16558116552145886.setBackgroundColor(\"white\");\n",
              "\tviewer_16558116552145886.zoomTo();\n",
              "viewer_16558116552145886.render();\n",
              "});\n",
              "</script>"
            ]
          },
          "metadata": {}
        }
      ]
    },
    {
      "cell_type": "code",
      "source": [
        "print('%10s %10s %10s %10s' % (\"Metric\",\"Integrate\",\"Charges\", \"ESP sim\"))\n",
        "for metric in ['carbo', 'tanimoto']:\n",
        "  for integrate in ['gauss', 'mc']:\n",
        "    for partialCharges in ['gasteiger', 'mmff', 'ml']:\n",
        "      sim = GetEspSim(m1, m2, metric = metric, integrate = integrate, partialCharges = partialCharges)\n",
        "      print('%10s %10s %10s  %10.2f' % (metric, integrate, partialCharges, sim))\n"
      ],
      "metadata": {
        "colab": {
          "base_uri": "https://localhost:8080/"
        },
        "id": "zPGS1e9DcVf3",
        "outputId": "1985b85c-0c18-40bb-c518-1aac75ced645"
      },
      "execution_count": null,
      "outputs": [
        {
          "output_type": "stream",
          "name": "stdout",
          "text": [
            "    Metric  Integrate    Charges    ESP sim\n",
            "     carbo      gauss  gasteiger        0.56\n",
            "     carbo      gauss       mmff        0.51\n",
            "     carbo      gauss         ml        0.59\n",
            "     carbo         mc  gasteiger        0.80\n",
            "     carbo         mc       mmff        0.76\n",
            "     carbo         mc         ml        0.81\n",
            "  tanimoto      gauss  gasteiger        0.15\n",
            "  tanimoto      gauss       mmff        0.27\n",
            "  tanimoto      gauss         ml        0.20\n",
            "  tanimoto         mc  gasteiger        0.20\n",
            "  tanimoto         mc       mmff        0.41\n",
            "  tanimoto         mc         ml        0.25\n"
          ]
        }
      ]
    },
    {
      "cell_type": "markdown",
      "source": [
        "We see that within one metric and integration routine, the charge distribution plays only a minor role for the obtained ESP similarity score.\n",
        "\n",
        "The metric (Carbo or Tanimoto), can play a large role, with Tanimoto scores usually being lower (since it also penalizes differences in the magnitude of the ESPs).\n",
        "\n",
        "The integration routine further influences the results, since it compares the ESPs only in a certain region, not the full space.\n",
        "\n",
        "For a given project, it is thus very important to stick to one metric and integration routine (and report it!), as the applicability of ESP similarity scores lies more in relative than absolute comparisons!\n",
        "\n",
        "For Monte Carlo integration, the size of the integration box and the number of integration points per cubic angstrom also play a role:"
      ],
      "metadata": {
        "id": "Y_YLjJdrFCyS"
      }
    },
    {
      "cell_type": "code",
      "source": [
        "print('%10s %10s %10s' % (\"Box size\",\"point dens.\", \"ESP sim\"))\n",
        "for marginMC in [2, 5, 10, 20]:\n",
        "  for nMC in [1,2,5,10]:\n",
        "    sim = GetEspSim(m1, m2, metric = 'carbo', integrate = 'mc', partialCharges = 'gasteiger', marginMC=marginMC, nMC=nMC)\n",
        "    print('%10i %10i %10.2f' % (marginMC, nMC, sim))"
      ],
      "metadata": {
        "colab": {
          "base_uri": "https://localhost:8080/"
        },
        "id": "SoUFUFl6cl5d",
        "outputId": "6e7d148a-33dc-4f6f-d893-65d257866425"
      },
      "execution_count": null,
      "outputs": [
        {
          "output_type": "stream",
          "name": "stdout",
          "text": [
            "  Box size point dens.    ESP sim\n",
            "         2          1       0.04\n",
            "         2          2       0.27\n",
            "         2          5       0.26\n",
            "         2         10       0.31\n",
            "         5          1       0.58\n",
            "         5          2       0.57\n",
            "         5          5       0.52\n",
            "         5         10       0.53\n",
            "        10          1       0.76\n",
            "        10          2       0.77\n",
            "        10          5       0.78\n",
            "        10         10       0.76\n",
            "        20          1       0.77\n",
            "        20          2       0.82\n",
            "        20          5       0.79\n",
            "        20         10       0.81\n"
          ]
        }
      ]
    },
    {
      "cell_type": "markdown",
      "source": [
        "The smaller the box, the more the overlap integral focusses on regions close to the atoms (which usually gives lower scores). Ideally, the box size would be chosen to mimic the approximate size of a binding pocket.\n",
        "\n",
        "With increasing point density, the overlap integral usually converges. More points take longer to compute, but yield less noisy results.\n",
        "\n",
        "\n",
        "\n"
      ],
      "metadata": {
        "id": "zIs5GdlfGhob"
      }
    },
    {
      "cell_type": "markdown",
      "source": [
        "# Example 3: Docking (target from DUD-E)"
      ],
      "metadata": {
        "id": "H17bIBElLx9t"
      }
    },
    {
      "cell_type": "code",
      "source": [
        "name = 'ampc'\n",
        "\n",
        "print(\"Download actives, decoys and ligand\")\n",
        "urllib.request.urlretrieve('http://dude.docking.org/targets/'+name+'/actives_final.sdf.gz', name+'_actives.sdf.gz')\n",
        "urllib.request.urlretrieve('http://dude.docking.org/targets/'+name+'/decoys_final.sdf.gz', name+'_decoys.sdf.gz')\n",
        "urllib.request.urlretrieve('http://dude.docking.org/targets/'+name+'/crystal_ligand.mol2', name+'_ligand.mol2')\n",
        "\n",
        "print(\"Reading in files\")\n",
        "inf = gzip.open(name+'_actives.sdf.gz')\n",
        "gzsuppl= Chem.ForwardSDMolSupplier(inf)\n",
        "mols = [Chem.AddHs(mol,addCoords=True) for mol in gzsuppl if mol is not None]\n",
        "inf.close()\n",
        "\n",
        "#For the purpuse of this tutorial, we will only use 60 decoys (which is about the number of actives). For a real benchmark, use all!\n",
        "inf = gzip.open(name+'_decoys.sdf.gz')\n",
        "gzsuppl= Chem.ForwardSDMolSupplier(inf)\n",
        "decoys = [Chem.AddHs(mol,addCoords=True) for mol in gzsuppl if mol is not None][-60:]\n",
        "inf.close() \n",
        "\n",
        "ligand = Chem.MolFromMol2File(name+'_ligand.mol2')\n",
        "ligand = Chem.AddHs(ligand,addCoords=True)"
      ],
      "metadata": {
        "colab": {
          "base_uri": "https://localhost:8080/"
        },
        "id": "RX3XKXRkL2vo",
        "outputId": "8a5124c5-288c-4ff1-c5e5-92c96fde9882"
      },
      "execution_count": null,
      "outputs": [
        {
          "output_type": "stream",
          "name": "stdout",
          "text": [
            "Download actives, decoys and ligand\n",
            "Reading in files\n"
          ]
        }
      ]
    },
    {
      "cell_type": "markdown",
      "source": [
        "Let's inspect the ligand in it's crystallized form, the active molecules and decoys:"
      ],
      "metadata": {
        "id": "JMp2chBINwI2"
      }
    },
    {
      "cell_type": "code",
      "source": [
        "draw([ligand])"
      ],
      "metadata": {
        "colab": {
          "base_uri": "https://localhost:8080/",
          "height": 417
        },
        "id": "zKH-XAbpMzVC",
        "outputId": "1b808620-60b9-45eb-84bb-c0a2c2a9bc32"
      },
      "execution_count": null,
      "outputs": [
        {
          "output_type": "display_data",
          "data": {
            "application/3dmoljs_load.v0": "<div id=\"3dmolviewer_16558204973253531\"  style=\"position: relative; width: 400px; height: 400px\">\n        <p id=\"3dmolwarning_16558204973253531\" style=\"background-color:#ffcccc;color:black\">You appear to be running in JupyterLab (or JavaScript failed to load for some other reason).  You need to install the 3dmol extension: <br>\n        <tt>jupyter labextension install jupyterlab_3dmol</tt></p>\n        </div>\n<script>\n\nvar loadScriptAsync = function(uri){\n  return new Promise((resolve, reject) => {\n    var tag = document.createElement('script');\n    tag.src = uri;\n    tag.async = true;\n    tag.onload = () => {\n      resolve();\n    };\n  var firstScriptTag = document.getElementsByTagName('script')[0];\n  firstScriptTag.parentNode.insertBefore(tag, firstScriptTag);\n});\n};\n\nif(typeof $3Dmolpromise === 'undefined') {\n$3Dmolpromise = null;\n  $3Dmolpromise = loadScriptAsync('https://3dmol.org/build/3Dmol.js');\n}\n\nvar viewer_16558204973253531 = null;\nvar warn = document.getElementById(\"3dmolwarning_16558204973253531\");\nif(warn) {\n    warn.parentNode.removeChild(warn);\n}\n$3Dmolpromise.then(function() {\nviewer_16558204973253531 = $3Dmol.createViewer($(\"#3dmolviewer_16558204973253531\"),{backgroundColor:\"white\"});\nviewer_16558204973253531.zoomTo();\n\tviewer_16558204973253531.removeAllModels();\n\tviewer_16558204973253531.addModel(\"*****\\n     RDKit          3D\\n\\n 34 35  0  0  0  0  0  0  0  0999 V2000\\n   82.6120    4.4960   35.0520 C   0  0  2  0  0  0  0  0  0  0  0  0\\n   82.6720    5.8400   35.5950 N   0  0  0  0  0  4  0  0  0  0  0  0\\n   84.3210    4.0980   36.6510 O   0  0  0  0  0  1  0  0  0  0  0  0\\n   78.7480    5.3970   30.7700 S   0  0  0  0  0  6  0  0  0  0  0  0\\n   83.8130    3.7320   35.5580 C   0  0  0  0  0  0  0  0  0  0  0  0\\n   79.8430    4.2340   30.9870 N   0  0  0  0  0  0  0  0  0  0  0  0\\n   84.2580    2.7510   34.9320 O   0  0  0  0  0  0  0  0  0  0  0  0\\n   79.3510    6.7230   26.9290 S   0  0  0  0  0  0  0  0  0  0  0  0\\n   82.4510    4.5830   33.5690 C   0  0  0  0  0  0  0  0  0  0  0  0\\n   78.8750    6.3240   31.8540 O   0  0  0  0  0  0  0  0  0  0  0  0\\n   83.5160    4.9540   32.7610 C   0  0  0  0  0  0  0  0  0  0  0  0\\n   77.4510    4.7940   30.7760 O   0  0  0  0  0  0  0  0  0  0  0  0\\n   83.3670    5.0610   31.3860 C   0  0  0  0  0  0  0  0  0  0  0  0\\n   78.8330    3.2510   28.5900 O   0  0  0  0  0  1  0  0  0  0  0  0\\n   82.1250    4.8180   30.8060 C   0  0  0  0  0  0  0  0  0  0  0  0\\n   79.2210    3.8330   26.5030 O   0  0  0  0  0  0  0  0  0  0  0  0\\n   81.0340    4.4750   31.6010 C   0  0  0  0  0  0  0  0  0  0  0  0\\n   78.9940    6.1850   29.3300 C   0  0  0  0  0  0  0  0  0  0  0  0\\n   79.1000    7.5800   29.2760 C   0  0  0  0  0  0  0  0  0  0  0  0\\n   79.3060    8.0490   27.9740 C   0  0  0  0  0  0  0  0  0  0  0  0\\n   79.1090    5.5490   28.1030 C   0  0  0  0  0  0  0  0  0  0  0  0\\n   79.0540    4.1160   27.7170 C   0  0  0  0  0  0  0  0  0  0  0  0\\n   81.1970    4.3590   32.9860 C   0  0  0  0  0  0  0  0  0  0  0  0\\n   81.7377    3.9214   35.3919 H   0  0  0  0  0  0  0  0  0  0  0  0\\n   82.6700    5.7950   36.6240 H   0  0  0  0  0  0  0  0  0  0  0  0\\n   83.5345    6.3021   35.2732 H   0  0  0  0  0  0  0  0  0  0  0  0\\n   81.8542    6.3771   35.2732 H   0  0  0  0  0  0  0  0  0  0  0  0\\n   79.6359    3.2823   30.6519 H   0  0  0  0  0  0  0  0  0  0  0  0\\n   84.4938    5.1666   33.2178 H   0  0  0  0  0  0  0  0  0  0  0  0\\n   84.2262    5.3366   30.7569 H   0  0  0  0  0  0  0  0  0  0  0  0\\n   82.0048    4.8972   29.7155 H   0  0  0  0  0  0  0  0  0  0  0  0\\n   79.0293    8.2337   30.1579 H   0  0  0  0  0  0  0  0  0  0  0  0\\n   79.4195    9.1031   27.6806 H   0  0  0  0  0  0  0  0  0  0  0  0\\n   80.3380    4.0912   33.6188 H   0  0  0  0  0  0  0  0  0  0  0  0\\n 16 22  2  0\\n  8 20  1  0\\n  8 21  1  0\\n 21 22  1  0\\n 14 22  1  0\\n 19 20  2  0\\n 18 21  2  0\\n 18 19  1  0\\n  4 18  1  0\\n  4 12  2  0\\n  4  6  1  0\\n  4 10  2  0\\n 13 15  2  0\\n 15 17  1  0\\n  6 17  1  0\\n 11 13  1  0\\n 17 23  2  0\\n  9 11  2  0\\n  9 23  1  0\\n  1  9  1  0\\n  5  7  2  0\\n  1  5  1  0\\n  1  2  1  0\\n  3  5  1  0\\n  1 24  1  1\\n  2 25  1  0\\n  2 26  1  0\\n  2 27  1  0\\n  6 28  1  0\\n 11 29  1  0\\n 13 30  1  0\\n 15 31  1  0\\n 19 32  1  0\\n 20 33  1  0\\n 23 34  1  0\\nM  CHG  3   2   1   3  -1  14  -1\\nM  END\\n\",\"sdf\");\n\tviewer_16558204973253531.setStyle({\"model\": 0},{\"stick\": {\"radius\": 0.15}});\n\tviewer_16558204973253531.setBackgroundColor(\"white\");\n\tviewer_16558204973253531.zoomTo();\nviewer_16558204973253531.render();\n});\n</script>",
            "text/html": [
              "<div id=\"3dmolviewer_16558204973253531\"  style=\"position: relative; width: 400px; height: 400px\">\n",
              "        <p id=\"3dmolwarning_16558204973253531\" style=\"background-color:#ffcccc;color:black\">You appear to be running in JupyterLab (or JavaScript failed to load for some other reason).  You need to install the 3dmol extension: <br>\n",
              "        <tt>jupyter labextension install jupyterlab_3dmol</tt></p>\n",
              "        </div>\n",
              "<script>\n",
              "\n",
              "var loadScriptAsync = function(uri){\n",
              "  return new Promise((resolve, reject) => {\n",
              "    var tag = document.createElement('script');\n",
              "    tag.src = uri;\n",
              "    tag.async = true;\n",
              "    tag.onload = () => {\n",
              "      resolve();\n",
              "    };\n",
              "  var firstScriptTag = document.getElementsByTagName('script')[0];\n",
              "  firstScriptTag.parentNode.insertBefore(tag, firstScriptTag);\n",
              "});\n",
              "};\n",
              "\n",
              "if(typeof $3Dmolpromise === 'undefined') {\n",
              "$3Dmolpromise = null;\n",
              "  $3Dmolpromise = loadScriptAsync('https://3dmol.org/build/3Dmol.js');\n",
              "}\n",
              "\n",
              "var viewer_16558204973253531 = null;\n",
              "var warn = document.getElementById(\"3dmolwarning_16558204973253531\");\n",
              "if(warn) {\n",
              "    warn.parentNode.removeChild(warn);\n",
              "}\n",
              "$3Dmolpromise.then(function() {\n",
              "viewer_16558204973253531 = $3Dmol.createViewer($(\"#3dmolviewer_16558204973253531\"),{backgroundColor:\"white\"});\n",
              "viewer_16558204973253531.zoomTo();\n",
              "\tviewer_16558204973253531.removeAllModels();\n",
              "\tviewer_16558204973253531.addModel(\"*****\\n     RDKit          3D\\n\\n 34 35  0  0  0  0  0  0  0  0999 V2000\\n   82.6120    4.4960   35.0520 C   0  0  2  0  0  0  0  0  0  0  0  0\\n   82.6720    5.8400   35.5950 N   0  0  0  0  0  4  0  0  0  0  0  0\\n   84.3210    4.0980   36.6510 O   0  0  0  0  0  1  0  0  0  0  0  0\\n   78.7480    5.3970   30.7700 S   0  0  0  0  0  6  0  0  0  0  0  0\\n   83.8130    3.7320   35.5580 C   0  0  0  0  0  0  0  0  0  0  0  0\\n   79.8430    4.2340   30.9870 N   0  0  0  0  0  0  0  0  0  0  0  0\\n   84.2580    2.7510   34.9320 O   0  0  0  0  0  0  0  0  0  0  0  0\\n   79.3510    6.7230   26.9290 S   0  0  0  0  0  0  0  0  0  0  0  0\\n   82.4510    4.5830   33.5690 C   0  0  0  0  0  0  0  0  0  0  0  0\\n   78.8750    6.3240   31.8540 O   0  0  0  0  0  0  0  0  0  0  0  0\\n   83.5160    4.9540   32.7610 C   0  0  0  0  0  0  0  0  0  0  0  0\\n   77.4510    4.7940   30.7760 O   0  0  0  0  0  0  0  0  0  0  0  0\\n   83.3670    5.0610   31.3860 C   0  0  0  0  0  0  0  0  0  0  0  0\\n   78.8330    3.2510   28.5900 O   0  0  0  0  0  1  0  0  0  0  0  0\\n   82.1250    4.8180   30.8060 C   0  0  0  0  0  0  0  0  0  0  0  0\\n   79.2210    3.8330   26.5030 O   0  0  0  0  0  0  0  0  0  0  0  0\\n   81.0340    4.4750   31.6010 C   0  0  0  0  0  0  0  0  0  0  0  0\\n   78.9940    6.1850   29.3300 C   0  0  0  0  0  0  0  0  0  0  0  0\\n   79.1000    7.5800   29.2760 C   0  0  0  0  0  0  0  0  0  0  0  0\\n   79.3060    8.0490   27.9740 C   0  0  0  0  0  0  0  0  0  0  0  0\\n   79.1090    5.5490   28.1030 C   0  0  0  0  0  0  0  0  0  0  0  0\\n   79.0540    4.1160   27.7170 C   0  0  0  0  0  0  0  0  0  0  0  0\\n   81.1970    4.3590   32.9860 C   0  0  0  0  0  0  0  0  0  0  0  0\\n   81.7377    3.9214   35.3919 H   0  0  0  0  0  0  0  0  0  0  0  0\\n   82.6700    5.7950   36.6240 H   0  0  0  0  0  0  0  0  0  0  0  0\\n   83.5345    6.3021   35.2732 H   0  0  0  0  0  0  0  0  0  0  0  0\\n   81.8542    6.3771   35.2732 H   0  0  0  0  0  0  0  0  0  0  0  0\\n   79.6359    3.2823   30.6519 H   0  0  0  0  0  0  0  0  0  0  0  0\\n   84.4938    5.1666   33.2178 H   0  0  0  0  0  0  0  0  0  0  0  0\\n   84.2262    5.3366   30.7569 H   0  0  0  0  0  0  0  0  0  0  0  0\\n   82.0048    4.8972   29.7155 H   0  0  0  0  0  0  0  0  0  0  0  0\\n   79.0293    8.2337   30.1579 H   0  0  0  0  0  0  0  0  0  0  0  0\\n   79.4195    9.1031   27.6806 H   0  0  0  0  0  0  0  0  0  0  0  0\\n   80.3380    4.0912   33.6188 H   0  0  0  0  0  0  0  0  0  0  0  0\\n 16 22  2  0\\n  8 20  1  0\\n  8 21  1  0\\n 21 22  1  0\\n 14 22  1  0\\n 19 20  2  0\\n 18 21  2  0\\n 18 19  1  0\\n  4 18  1  0\\n  4 12  2  0\\n  4  6  1  0\\n  4 10  2  0\\n 13 15  2  0\\n 15 17  1  0\\n  6 17  1  0\\n 11 13  1  0\\n 17 23  2  0\\n  9 11  2  0\\n  9 23  1  0\\n  1  9  1  0\\n  5  7  2  0\\n  1  5  1  0\\n  1  2  1  0\\n  3  5  1  0\\n  1 24  1  1\\n  2 25  1  0\\n  2 26  1  0\\n  2 27  1  0\\n  6 28  1  0\\n 11 29  1  0\\n 13 30  1  0\\n 15 31  1  0\\n 19 32  1  0\\n 20 33  1  0\\n 23 34  1  0\\nM  CHG  3   2   1   3  -1  14  -1\\nM  END\\n\",\"sdf\");\n",
              "\tviewer_16558204973253531.setStyle({\"model\": 0},{\"stick\": {\"radius\": 0.15}});\n",
              "\tviewer_16558204973253531.setBackgroundColor(\"white\");\n",
              "\tviewer_16558204973253531.zoomTo();\n",
              "viewer_16558204973253531.render();\n",
              "});\n",
              "</script>"
            ]
          },
          "metadata": {}
        }
      ]
    },
    {
      "cell_type": "code",
      "source": [
        "p = py3Dmol.view(width=400,height=400)\n",
        "dt = {}\n",
        "for i in range(len(mols)):\n",
        "  dt[i] = [mols[i]]\n",
        "interact(draw, ms=dt,p=fixed(p),confIds=fixed([-1,-1]));"
      ],
      "metadata": {
        "colab": {
          "base_uri": "https://localhost:8080/",
          "height": 449,
          "referenced_widgets": [
            "f9c280b19ef74e4d9a502c0c11151db5",
            "5cc6ce868e674062b5936c0da81d9c44",
            "f8d979af564f4267a34d5bfb3b5996a3",
            "a850292090eb4016a39bde413d6afd71",
            "ad8a4f2779f849708b780030b97dd5a3",
            "7e5b433e03a34a1dae83d2e741f2125c",
            "46bee21bca2646219630ee05462cf0cd"
          ]
        },
        "id": "p1UVrhYHNn7T",
        "outputId": "01192713-69b9-4ede-ffba-32173a503b9e"
      },
      "execution_count": null,
      "outputs": [
        {
          "output_type": "display_data",
          "data": {
            "text/plain": [
              "interactive(children=(Dropdown(description='ms', options={0: [<rdkit.Chem.rdchem.Mol object at 0x7ff53c7e5d50>…"
            ],
            "application/vnd.jupyter.widget-view+json": {
              "version_major": 2,
              "version_minor": 0,
              "model_id": "f9c280b19ef74e4d9a502c0c11151db5"
            }
          },
          "metadata": {}
        }
      ]
    },
    {
      "cell_type": "code",
      "source": [
        "p = py3Dmol.view(width=400,height=400)\n",
        "dt = {}\n",
        "for i in range(len(decoys)):\n",
        "  dt[i] = [decoys[i]]\n",
        "interact(draw, ms=dt,p=fixed(p),confIds=fixed([-1,-1]));"
      ],
      "metadata": {
        "colab": {
          "base_uri": "https://localhost:8080/",
          "height": 449,
          "referenced_widgets": [
            "37dad1a2d30b45859913dad407b4d115",
            "c099943beb7745cdaa2083860731d79a",
            "e2bb84a3f5d84c98b81b43542fe00c9e",
            "1ee8870cdf344eddbb0111faa5d394ad",
            "0f5f6a0adc5a434ca09fc7e377003561",
            "979099490e9e4a12b3d5e1e8783067b7",
            "55b934f971024048962042d9e1b0cd90"
          ]
        },
        "id": "nQ8zTiseNVSd",
        "outputId": "e0918bb2-480b-4c63-a675-039f555a4f57"
      },
      "execution_count": null,
      "outputs": [
        {
          "output_type": "display_data",
          "data": {
            "text/plain": [
              "interactive(children=(Dropdown(description='ms', options={0: [<rdkit.Chem.rdchem.Mol object at 0x7ff53c7a4170>…"
            ],
            "application/vnd.jupyter.widget-view+json": {
              "version_major": 2,
              "version_minor": 0,
              "model_id": "37dad1a2d30b45859913dad407b4d115"
            }
          },
          "metadata": {}
        }
      ]
    },
    {
      "cell_type": "markdown",
      "source": [
        "Let's first use the given embeddings in the downloaded sdf files to align and score all molecules:"
      ],
      "metadata": {
        "id": "tUksJEItOGVd"
      }
    },
    {
      "cell_type": "code",
      "source": [
        "def AlignScore(prbMol,refMol,prbCharge,refCharge):\n",
        "    #Need to copy mols, otherwise the alignment will change the positions of the molecule object permanently                                                                                                                               \n",
        "    prbMol=deepcopy(prbMol)\n",
        "    refMol=deepcopy(refMol)\n",
        "\n",
        "    prbCrippen = rdMolDescriptors._CalcCrippenContribs(prbMol)\n",
        "    refCrippen = rdMolDescriptors._CalcCrippenContribs(refMol)\n",
        "\n",
        "    #Get best conformer\n",
        "    best_score=0\n",
        "    best_i=0\n",
        "    for i in range(prbMol.GetNumConformers()):\n",
        "        align(prbMol, refMol, prbCrippen, refCrippen, i, 0)\n",
        "        shape = GetShapeSim(prbMol,refMol,i,0)\n",
        "        if shape>best_score:\n",
        "            best_score=shape\n",
        "            best_i=i\n",
        "\n",
        "    #Use best conformer for scoring\n",
        "    align(prbMol, refMol, prbCrippen, refCrippen, best_i, 0)\n",
        "    shape = GetShapeSim(prbMol,refMol,best_i,0)\n",
        "    esp=GetEspSim(prbMol,refMol,best_i,0,prbCharge=prbCharge,refCharge=refCharge,metric='tanimoto')\n",
        "\n",
        "    return shape+esp"
      ],
      "metadata": {
        "id": "Jaw7DmDmOAUo"
      },
      "execution_count": null,
      "outputs": []
    },
    {
      "cell_type": "code",
      "source": [
        "#Precomputing ML charges is much faster than calculation on the fly since there is substantial overhead with loading the model\n",
        "prbCharges=mlCharges(mols+decoys)\n",
        "refCharge=mlCharges([ligand])[0]"
      ],
      "metadata": {
        "id": "_vwgkWDLO905"
      },
      "execution_count": null,
      "outputs": []
    },
    {
      "cell_type": "code",
      "source": [
        "scores = [AlignScore(m,ligand,prbCharges[i],refCharge) for i,m in enumerate(mols + decoys)]\n",
        "metrics.roc_auc_score([1]*len(mols)+[0]*len(decoys), scores)"
      ],
      "metadata": {
        "colab": {
          "base_uri": "https://localhost:8080/"
        },
        "id": "oM_z2yXXPg8L",
        "outputId": "fa02ec5e-b7fc-4a32-dd17-2ca561058690"
      },
      "execution_count": null,
      "outputs": [
        {
          "output_type": "execute_result",
          "data": {
            "text/plain": [
              "0.7666666666666666"
            ]
          },
          "metadata": {},
          "execution_count": 43
        }
      ]
    },
    {
      "cell_type": "markdown",
      "source": [
        "However, using just one single conformer per molecule usually leads to very poor alignments. Let's embed 10 conformers each and use the best for scoring:"
      ],
      "metadata": {
        "id": "cc5MZHukSlH0"
      }
    },
    {
      "cell_type": "code",
      "source": [
        "mols = [embed(mol,n=10) for mol in mols]\n",
        "mols = [mol for mol in mols if mol is not None]  \n",
        "\n",
        "decoys = [embed(mol,n=10) for mol in decoys]\n",
        "decoys = [mol for mol in decoys if mol is not None]"
      ],
      "metadata": {
        "colab": {
          "base_uri": "https://localhost:8080/"
        },
        "id": "jQk8kr9UQCu8",
        "outputId": "d545aa23-7142-4b88-c7d5-55a78a9255c7"
      },
      "execution_count": null,
      "outputs": [
        {
          "output_type": "stream",
          "name": "stdout",
          "text": [
            "Embedding 62 actives\n",
            "... yielding 62 embedded actives\n",
            "Embedding 60 decoys\n",
            "... yielding 60 embedded actives\n"
          ]
        }
      ]
    },
    {
      "cell_type": "code",
      "source": [
        "scores = [AlignScore(m,ligand,prbCharges[i],refCharge) for i,m in enumerate(mols + decoys)]\n",
        "metrics.roc_auc_score([1]*len(mols)+[0]*len(decoys), scores)"
      ],
      "metadata": {
        "colab": {
          "base_uri": "https://localhost:8080/"
        },
        "id": "f3Z6H_jQRNz5",
        "outputId": "85723848-b87c-4d05-96d8-7d0c479441a6"
      },
      "execution_count": null,
      "outputs": [
        {
          "output_type": "execute_result",
          "data": {
            "text/plain": [
              "0.8440860215053764"
            ]
          },
          "metadata": {},
          "execution_count": 11
        }
      ]
    },
    {
      "cell_type": "markdown",
      "source": [
        "Using more conformations usually gives a higher probability of finding a good alignment, so that a poor score is due to a poor similarity, not a poor alignment, which reduces noise.\n",
        "\n",
        "We can also try to embed more conformations, e.g 30 (but 10 proved to be quite ok in our benchmarks!):"
      ],
      "metadata": {
        "id": "hFJQUyUPaOXu"
      }
    },
    {
      "cell_type": "code",
      "source": [
        "mols = [embed(mol,n=30) for mol in mols]\n",
        "mols = [mol for mol in mols if mol is not None]  \n",
        "\n",
        "decoys = [embed(mol,n=30) for mol in decoys]\n",
        "decoys = [mol for mol in decoys if mol is not None]  "
      ],
      "metadata": {
        "colab": {
          "base_uri": "https://localhost:8080/"
        },
        "id": "rgbzipLGY1gx",
        "outputId": "7db94e8d-5ce7-4123-aad0-926bf16b72ce"
      },
      "execution_count": null,
      "outputs": [
        {
          "output_type": "stream",
          "name": "stdout",
          "text": [
            "Embedding 62 actives\n",
            "... yielding 62 embedded actives\n",
            "Embedding 60 decoys\n",
            "... yielding 60 embedded actives\n"
          ]
        }
      ]
    },
    {
      "cell_type": "code",
      "source": [
        "scores = [AlignScore(m,ligand,prbCharges[i],refCharge) for i,m in enumerate(mols + decoys)]\n",
        "metrics.roc_auc_score([1]*len(mols)+[0]*len(decoys), scores)"
      ],
      "metadata": {
        "colab": {
          "base_uri": "https://localhost:8080/"
        },
        "id": "9L1AeVWvaZvA",
        "outputId": "d6c6a184-819a-4c95-f93a-0aec3ed793ca"
      },
      "execution_count": null,
      "outputs": [
        {
          "output_type": "execute_result",
          "data": {
            "text/plain": [
              "0.8661290322580645"
            ]
          },
          "metadata": {},
          "execution_count": 14
        }
      ]
    },
    {
      "cell_type": "markdown",
      "source": [
        "We can also evaluate the accuracy of a classification model using the optimal threshold to balance sensitivity and specificity:"
      ],
      "metadata": {
        "id": "TBtPgfvscIHV"
      }
    },
    {
      "cell_type": "code",
      "source": [
        "fpr, tpr, thresholds = metrics.roc_curve([1]*len(mols)+[0]*len(decoys), scores)\n",
        "metrics.accuracy_score([1]*len(mols)+[0]*len(decoys), [s>thresholds[np.argmax(tpr - fpr)] for s in scores])"
      ],
      "metadata": {
        "colab": {
          "base_uri": "https://localhost:8080/"
        },
        "id": "ZGESxo-Qa-Ks",
        "outputId": "adf8c93f-dace-4825-e3c4-9b3212347d1f"
      },
      "execution_count": null,
      "outputs": [
        {
          "output_type": "execute_result",
          "data": {
            "text/plain": [
              "0.8360655737704918"
            ]
          },
          "metadata": {},
          "execution_count": 28
        }
      ]
    },
    {
      "cell_type": "markdown",
      "source": [
        "We thus get a model with a ROC-AUC score of 0.87 and an accuracy of classifying between actives and decoys of 0.84 (which is pretty good, but of course there are also targets in DUD-E where ESPsim performs less well!)\n",
        "\n",
        "Let's plot the scores of actives and decoys:"
      ],
      "metadata": {
        "id": "GP94K1Zkcfba"
      }
    },
    {
      "cell_type": "code",
      "source": [
        "fig = plt.figure(figsize=(4, 4))\n",
        "ax = fig.add_subplot(111)\n",
        "\n",
        "ax.set_xlabel('score')\n",
        "ax.set_ylabel('frequency')\n",
        "ax.hist(scores[:len(mols)],  label = 'actives', color = 'green', alpha=0.5)\n",
        "ax.hist(scores[len(mols):], label = 'decoys', color = 'red', alpha=0.5)\n",
        "ax.legend()"
      ],
      "metadata": {
        "colab": {
          "base_uri": "https://localhost:8080/",
          "height": 296
        },
        "id": "47XhWMoAbSGp",
        "outputId": "f4778912-bc17-4e8e-eb98-c352a5e87812"
      },
      "execution_count": null,
      "outputs": [
        {
          "output_type": "execute_result",
          "data": {
            "text/plain": [
              "<matplotlib.legend.Legend at 0x7ff53c906a90>"
            ]
          },
          "metadata": {},
          "execution_count": 36
        },
        {
          "output_type": "display_data",
          "data": {
            "text/plain": [
              "<Figure size 288x288 with 1 Axes>"
            ],
            "image/png": "[encoded data removed]"
          },
          "metadata": {
            "needs_background": "light"
          }
        }
      ]
    },
    {
      "cell_type": "markdown",
      "source": [
        "# Summary"
      ],
      "metadata": {
        "id": "9OadV4Zfqn-j"
      }
    },
    {
      "cell_type": "markdown",
      "source": [
        "Summing up, this workshop shows how to:\n",
        "\n",
        "* Embed, align and compute Shape and ESP similarities on molecules without any constraints in a single function call (Example 1)\n",
        "* Constrained-embed,  align and compute Shape and ESP similarities on molecules with a common core in a single function call (Example 1)\n",
        "* Compute ESP similarities on pre-aligned molecules (Example 2)\n",
        "* Choose options for integration routine, metric and partial charges (Example 2)\n",
        "* Score actives and decoys in a docking study by computing similarities to a known, docked ligand via pre-embedded molecules or via newly embedding molecules (Example 3)\n",
        "* Write your own alignment and scoring functions customized to a problem (Example 3)\n",
        "\n",
        "We hope this workshop was helpful to you! Feel free to reach out on [GitHub](https://github.com/hesther/espsim) or via email (esther.heid@tuwien.ac.at) for further questions or suggestions!\n",
        "\n",
        "Also, if you find ESPsim useful, please remember to cite us: **G. Bolcato, E. Heid and J. Boström, J. Chem. Inf. Model. 2022, 62, 6, 1388–1398**"
      ],
      "metadata": {
        "id": "-tLVgaggo4Bc"
      }
    }
  ]
}