{
  "nbformat": 4,
  "nbformat_minor": 0,
  "metadata": {
    "colab": {
      "provenance": [],
      "authorship_tag": "ABX9TyMAB50dbBA0m2s/h9yYJH0O",
      "include_colab_link": true
    },
    "kernelspec": {
      "name": "python3",
      "display_name": "Python 3"
    },
    "language_info": {
      "name": "python"
    },
    "widgets": {
      "application/vnd.jupyter.widget-state+json": {
        "e93aafa712fd45e98d36c13b50a131f7": {
          "model_module": "@jupyter-widgets/controls",
          "model_name": "HBoxModel",
          "model_module_version": "1.5.0",
          "state": {
            "_dom_classes": [],
            "_model_module": "@jupyter-widgets/controls",
            "_model_module_version": "1.5.0",
            "_model_name": "HBoxModel",
            "_view_count": null,
            "_view_module": "@jupyter-widgets/controls",
            "_view_module_version": "1.5.0",
            "_view_name": "HBoxView",
            "box_style": "",
            "children": [
              "IPY_MODEL_70f33e7aea884d10bb7f5141eef652bb",
              "IPY_MODEL_4c55c60ff84243afab5491e6651cf633",
              "IPY_MODEL_139e395c575a4ffbb3acfb8fa4704ac5"
            ],
            "layout": "IPY_MODEL_10ac77e4ccd84b8782b9563477231d07"
          }
        },
        "70f33e7aea884d10bb7f5141eef652bb": {
          "model_module": "@jupyter-widgets/controls",
          "model_name": "HTMLModel",
          "model_module_version": "1.5.0",
          "state": {
            "_dom_classes": [],
            "_model_module": "@jupyter-widgets/controls",
            "_model_module_version": "1.5.0",
            "_model_name": "HTMLModel",
            "_view_count": null,
            "_view_module": "@jupyter-widgets/controls",
            "_view_module_version": "1.5.0",
            "_view_name": "HTMLView",
            "description": "",
            "description_tooltip": null,
            "layout": "IPY_MODEL_1d57713127d04001910209d436d4317d",
            "placeholder": "​",
            "style": "IPY_MODEL_b24fbebc7a5e4f90887fd6576b34ca96",
            "value": "100%"
          }
        },
        "4c55c60ff84243afab5491e6651cf633": {
          "model_module": "@jupyter-widgets/controls",
          "model_name": "FloatProgressModel",
          "model_module_version": "1.5.0",
          "state": {
            "_dom_classes": [],
            "_model_module": "@jupyter-widgets/controls",
            "_model_module_version": "1.5.0",
            "_model_name": "FloatProgressModel",
            "_view_count": null,
            "_view_module": "@jupyter-widgets/controls",
            "_view_module_version": "1.5.0",
            "_view_name": "ProgressView",
            "bar_style": "success",
            "description": "",
            "description_tooltip": null,
            "layout": "IPY_MODEL_e46fd0e3c5614557890976aae25999f0",
            "max": 5,
            "min": 0,
            "orientation": "horizontal",
            "style": "IPY_MODEL_c5154360275949afb2ab12ecef5bcdd0",
            "value": 5
          }
        },
        "139e395c575a4ffbb3acfb8fa4704ac5": {
          "model_module": "@jupyter-widgets/controls",
          "model_name": "HTMLModel",
          "model_module_version": "1.5.0",
          "state": {
            "_dom_classes": [],
            "_model_module": "@jupyter-widgets/controls",
            "_model_module_version": "1.5.0",
            "_model_name": "HTMLModel",
            "_view_count": null,
            "_view_module": "@jupyter-widgets/controls",
            "_view_module_version": "1.5.0",
            "_view_name": "HTMLView",
            "description": "",
            "description_tooltip": null,
            "layout": "IPY_MODEL_a1c42712cf17469e834558af458495c3",
            "placeholder": "​",
            "style": "IPY_MODEL_a9fc10c93f304b778a60be2f3ae5f42e",
            "value": " 5/5 [02:45&lt;00:00, 32.63s/it]"
          }
        },
        "10ac77e4ccd84b8782b9563477231d07": {
          "model_module": "@jupyter-widgets/base",
          "model_name": "LayoutModel",
          "model_module_version": "1.2.0",
          "state": {
            "_model_module": "@jupyter-widgets/base",
            "_model_module_version": "1.2.0",
            "_model_name": "LayoutModel",
            "_view_count": null,
            "_view_module": "@jupyter-widgets/base",
            "_view_module_version": "1.2.0",
            "_view_name": "LayoutView",
            "align_content": null,
            "align_items": null,
            "align_self": null,
            "border": null,
            "bottom": null,
            "display": null,
            "flex": null,
            "flex_flow": null,
            "grid_area": null,
            "grid_auto_columns": null,
            "grid_auto_flow": null,
            "grid_auto_rows": null,
            "grid_column": null,
            "grid_gap": null,
            "grid_row": null,
            "grid_template_areas": null,
            "grid_template_columns": null,
            "grid_template_rows": null,
            "height": null,
            "justify_content": null,
            "justify_items": null,
            "left": null,
            "margin": null,
            "max_height": null,
            "max_width": null,
            "min_height": null,
            "min_width": null,
            "object_fit": null,
            "object_position": null,
            "order": null,
            "overflow": null,
            "overflow_x": null,
            "overflow_y": null,
            "padding": null,
            "right": null,
            "top": null,
            "visibility": null,
            "width": null
          }
        },
        "1d57713127d04001910209d436d4317d": {
          "model_module": "@jupyter-widgets/base",
          "model_name": "LayoutModel",
          "model_module_version": "1.2.0",
          "state": {
            "_model_module": "@jupyter-widgets/base",
            "_model_module_version": "1.2.0",
            "_model_name": "LayoutModel",
            "_view_count": null,
            "_view_module": "@jupyter-widgets/base",
            "_view_module_version": "1.2.0",
            "_view_name": "LayoutView",
            "align_content": null,
            "align_items": null,
            "align_self": null,
            "border": null,
            "bottom": null,
            "display": null,
            "flex": null,
            "flex_flow": null,
            "grid_area": null,
            "grid_auto_columns": null,
            "grid_auto_flow": null,
            "grid_auto_rows": null,
            "grid_column": null,
            "grid_gap": null,
            "grid_row": null,
            "grid_template_areas": null,
            "grid_template_columns": null,
            "grid_template_rows": null,
            "height": null,
            "justify_content": null,
            "justify_items": null,
            "left": null,
            "margin": null,
            "max_height": null,
            "max_width": null,
            "min_height": null,
            "min_width": null,
            "object_fit": null,
            "object_position": null,
            "order": null,
            "overflow": null,
            "overflow_x": null,
            "overflow_y": null,
            "padding": null,
            "right": null,
            "top": null,
            "visibility": null,
            "width": null
          }
        },
        "b24fbebc7a5e4f90887fd6576b34ca96": {
          "model_module": "@jupyter-widgets/controls",
          "model_name": "DescriptionStyleModel",
          "model_module_version": "1.5.0",
          "state": {
            "_model_module": "@jupyter-widgets/controls",
            "_model_module_version": "1.5.0",
            "_model_name": "DescriptionStyleModel",
            "_view_count": null,
            "_view_module": "@jupyter-widgets/base",
            "_view_module_version": "1.2.0",
            "_view_name": "StyleView",
            "description_width": ""
          }
        },
        "e46fd0e3c5614557890976aae25999f0": {
          "model_module": "@jupyter-widgets/base",
          "model_name": "LayoutModel",
          "model_module_version": "1.2.0",
          "state": {
            "_model_module": "@jupyter-widgets/base",
            "_model_module_version": "1.2.0",
            "_model_name": "LayoutModel",
            "_view_count": null,
            "_view_module": "@jupyter-widgets/base",
            "_view_module_version": "1.2.0",
            "_view_name": "LayoutView",
            "align_content": null,
            "align_items": null,
            "align_self": null,
            "border": null,
            "bottom": null,
            "display": null,
            "flex": null,
            "flex_flow": null,
            "grid_area": null,
            "grid_auto_columns": null,
            "grid_auto_flow": null,
            "grid_auto_rows": null,
            "grid_column": null,
            "grid_gap": null,
            "grid_row": null,
            "grid_template_areas": null,
            "grid_template_columns": null,
            "grid_template_rows": null,
            "height": null,
            "justify_content": null,
            "justify_items": null,
            "left": null,
            "margin": null,
            "max_height": null,
            "max_width": null,
            "min_height": null,
            "min_width": null,
            "object_fit": null,
            "object_position": null,
            "order": null,
            "overflow": null,
            "overflow_x": null,
            "overflow_y": null,
            "padding": null,
            "right": null,
            "top": null,
            "visibility": null,
            "width": null
          }
        },
        "c5154360275949afb2ab12ecef5bcdd0": {
          "model_module": "@jupyter-widgets/controls",
          "model_name": "ProgressStyleModel",
          "model_module_version": "1.5.0",
          "state": {
            "_model_module": "@jupyter-widgets/controls",
            "_model_module_version": "1.5.0",
            "_model_name": "ProgressStyleModel",
            "_view_count": null,
            "_view_module": "@jupyter-widgets/base",
            "_view_module_version": "1.2.0",
            "_view_name": "StyleView",
            "bar_color": null,
            "description_width": ""
          }
        },
        "a1c42712cf17469e834558af458495c3": {
          "model_module": "@jupyter-widgets/base",
          "model_name": "LayoutModel",
          "model_module_version": "1.2.0",
          "state": {
            "_model_module": "@jupyter-widgets/base",
            "_model_module_version": "1.2.0",
            "_model_name": "LayoutModel",
            "_view_count": null,
            "_view_module": "@jupyter-widgets/base",
            "_view_module_version": "1.2.0",
            "_view_name": "LayoutView",
            "align_content": null,
            "align_items": null,
            "align_self": null,
            "border": null,
            "bottom": null,
            "display": null,
            "flex": null,
            "flex_flow": null,
            "grid_area": null,
            "grid_auto_columns": null,
            "grid_auto_flow": null,
            "grid_auto_rows": null,
            "grid_column": null,
            "grid_gap": null,
            "grid_row": null,
            "grid_template_areas": null,
            "grid_template_columns": null,
            "grid_template_rows": null,
            "height": null,
            "justify_content": null,
            "justify_items": null,
            "left": null,
            "margin": null,
            "max_height": null,
            "max_width": null,
            "min_height": null,
            "min_width": null,
            "object_fit": null,
            "object_position": null,
            "order": null,
            "overflow": null,
            "overflow_x": null,
            "overflow_y": null,
            "padding": null,
            "right": null,
            "top": null,
            "visibility": null,
            "width": null
          }
        },
        "a9fc10c93f304b778a60be2f3ae5f42e": {
          "model_module": "@jupyter-widgets/controls",
          "model_name": "DescriptionStyleModel",
          "model_module_version": "1.5.0",
          "state": {
            "_model_module": "@jupyter-widgets/controls",
            "_model_module_version": "1.5.0",
            "_model_name": "DescriptionStyleModel",
            "_view_count": null,
            "_view_module": "@jupyter-widgets/base",
            "_view_module_version": "1.2.0",
            "_view_name": "StyleView",
            "description_width": ""
          }
        }
      }
    }
  },
  "cells": [
    {
      "cell_type": "markdown",
      "metadata": {
        "id": "view-in-github",
        "colab_type": "text"
      },
      "source": [
        "<a href=\"https://colab.research.google.com/github/ianara01/Park-Sangjin/blob/master/VirtualScreen.ipynb\" target=\"_parent\"><img src=\"https://colab.research.google.com/assets/colab-badge.svg\" alt=\"Open In Colab\"/></a>"
      ]
    },
    {
      "cell_type": "code",
      "execution_count": 1,
      "metadata": {
        "colab": {
          "base_uri": "https://localhost:8080/"
        },
        "id": "u3uTg6ihKXjw",
        "outputId": "4489f8a7-d8dd-40a8-cd1f-33de8e4cc039"
      },
      "outputs": [
        {
          "output_type": "stream",
          "name": "stdout",
          "text": [
            "Looking in indexes: https://pypi.org/simple, https://us-python.pkg.dev/colab-wheels/public/simple/\n",
            "Collecting DeepChem\n",
            "  Downloading deepchem-2.6.1-py3-none-any.whl (608 kB)\n",
            "\u001b[K     |████████████████████████████████| 608 kB 17.3 MB/s \n",
            "\u001b[?25hRequirement already satisfied: scikit-learn in /usr/local/lib/python3.7/dist-packages (from DeepChem) (1.0.2)\n",
            "Requirement already satisfied: joblib in /usr/local/lib/python3.7/dist-packages (from DeepChem) (1.2.0)\n",
            "Requirement already satisfied: numpy>=1.21 in /usr/local/lib/python3.7/dist-packages (from DeepChem) (1.21.6)\n",
            "Requirement already satisfied: scipy in /usr/local/lib/python3.7/dist-packages (from DeepChem) (1.7.3)\n",
            "Requirement already satisfied: pandas in /usr/local/lib/python3.7/dist-packages (from DeepChem) (1.3.5)\n",
            "Collecting rdkit-pypi\n",
            "  Downloading rdkit_pypi-2022.9.1-cp37-cp37m-manylinux_2_17_x86_64.manylinux2014_x86_64.whl (29.5 MB)\n",
            "\u001b[K     |████████████████████████████████| 29.5 MB 70.1 MB/s \n",
            "\u001b[?25hRequirement already satisfied: pytz>=2017.3 in /usr/local/lib/python3.7/dist-packages (from pandas->DeepChem) (2022.6)\n",
            "Requirement already satisfied: python-dateutil>=2.7.3 in /usr/local/lib/python3.7/dist-packages (from pandas->DeepChem) (2.8.2)\n",
            "Requirement already satisfied: six>=1.5 in /usr/local/lib/python3.7/dist-packages (from python-dateutil>=2.7.3->pandas->DeepChem) (1.15.0)\n",
            "Requirement already satisfied: Pillow in /usr/local/lib/python3.7/dist-packages (from rdkit-pypi->DeepChem) (7.1.2)\n",
            "Requirement already satisfied: threadpoolctl>=2.0.0 in /usr/local/lib/python3.7/dist-packages (from scikit-learn->DeepChem) (3.1.0)\n",
            "Installing collected packages: rdkit-pypi, DeepChem\n",
            "Successfully installed DeepChem-2.6.1 rdkit-pypi-2022.9.1\n"
          ]
        }
      ],
      "source": [
        "!pip install DeepChem"
      ]
    },
    {
      "cell_type": "code",
      "source": [
        "import deepchem as dc\n",
        "from rdkit import Chem\n",
        "from rdkit.Chem import AllChem\n",
        "from rdkit.Chem import Draw\n",
        "from rdkit.Chem.Draw import IPythonConsole\n",
        "from rdkit.Chem import PandasTools\n",
        "from rdkit.Chem import Descriptors\n",
        "from rdkit.Chem import rdmolops\n",
        "from rdkit import DataStructs\n",
        "from rdkit.ML.Cluster import Butina\n",
        "from rdkit.Chem import rdMolDescriptors as rdmd\n",
        "from deepchem.models import GraphConvModel"
      ],
      "metadata": {
        "id": "yVoLk5sGKdmd"
      },
      "execution_count": 2,
      "outputs": []
    },
    {
      "cell_type": "code",
      "source": [
        "import numpy as np\n",
        "import pandas as pd\n",
        "import sys\n",
        "import seaborn as sns\n",
        "%config InlineBackend.figure_format = 'retina'\n",
        "from tqdm.auto import tqdm"
      ],
      "metadata": {
        "id": "WZO010B8KgnN"
      },
      "execution_count": 3,
      "outputs": []
    },
    {
      "cell_type": "code",
      "source": [
        "import warnings\n",
        "warnings.filterwarnings(\"ignore\")"
      ],
      "metadata": {
        "id": "wFZdX8kCKidC"
      },
      "execution_count": 4,
      "outputs": []
    },
    {
      "cell_type": "code",
      "source": [
        "active_df = pd.read_csv(\"https://raw.githubusercontent.com/deepchem/DeepLearningLifeSciences/master/Chapter11/mk01/actives_final.ism\",\n",
        "                        header=None,sep=\" \")\n",
        "print(active_df.shape)\n",
        "active_df[:3]"
      ],
      "metadata": {
        "colab": {
          "base_uri": "https://localhost:8080/",
          "height": 162
        },
        "id": "v5Vnq6vuKlKq",
        "outputId": "4ccfbe68-5691-45f7-c8cc-fecafb5f3328"
      },
      "execution_count": 5,
      "outputs": [
        {
          "output_type": "stream",
          "name": "stdout",
          "text": [
            "(79, 3)\n"
          ]
        },
        {
          "output_type": "execute_result",
          "data": {
            "text/plain": [
              "                                                   0       1             2\n",
              "0  Cn1ccnc1Sc2ccc(cc2Cl)Nc3c4cc(c(cc4ncc3C#N)OCCC...  168691  CHEMBL318804\n",
              "1  C[C@@]12[C@@H]([C@@H](CC(O1)n3c4ccccc4c5c3c6n2...   86358     CHEMBL162\n",
              "2  Cc1cnc(nc1c2cc([nH]c2)C(=O)N[C@H](CO)c3cccc(c3...  575087  CHEMBL576683"
            ],
            "text/html": [
              "\n",
              "  <div id=\"df-820e8a18-ff98-460c-bad1-698cc2781072\">\n",
              "    <div class=\"colab-df-container\">\n",
              "      <div>\n",
              "<style scoped>\n",
              "    .dataframe tbody tr th:only-of-type {\n",
              "        vertical-align: middle;\n",
              "    }\n",
              "\n",
              "    .dataframe tbody tr th {\n",
              "        vertical-align: top;\n",
              "    }\n",
              "\n",
              "    .dataframe thead th {\n",
              "        text-align: right;\n",
              "    }\n",
              "</style>\n",
              "<table border=\"1\" class=\"dataframe\">\n",
              "  <thead>\n",
              "    <tr style=\"text-align: right;\">\n",
              "      <th></th>\n",
              "      <th>0</th>\n",
              "      <th>1</th>\n",
              "      <th>2</th>\n",
              "    </tr>\n",
              "  </thead>\n",
              "  <tbody>\n",
              "    <tr>\n",
              "      <th>0</th>\n",
              "      <td>Cn1ccnc1Sc2ccc(cc2Cl)Nc3c4cc(c(cc4ncc3C#N)OCCC...</td>\n",
              "      <td>168691</td>\n",
              "      <td>CHEMBL318804</td>\n",
              "    </tr>\n",
              "    <tr>\n",
              "      <th>1</th>\n",
              "      <td>C[C@@]12[C@@H]([C@@H](CC(O1)n3c4ccccc4c5c3c6n2...</td>\n",
              "      <td>86358</td>\n",
              "      <td>CHEMBL162</td>\n",
              "    </tr>\n",
              "    <tr>\n",
              "      <th>2</th>\n",
              "      <td>Cc1cnc(nc1c2cc([nH]c2)C(=O)N[C@H](CO)c3cccc(c3...</td>\n",
              "      <td>575087</td>\n",
              "      <td>CHEMBL576683</td>\n",
              "    </tr>\n",
              "  </tbody>\n",
              "</table>\n",
              "</div>\n",
              "      <button class=\"colab-df-convert\" onclick=\"convertToInteractive('df-820e8a18-ff98-460c-bad1-698cc2781072')\"\n",
              "              title=\"Convert this dataframe to an interactive table.\"\n",
              "              style=\"display:none;\">\n",
              "        \n",
              "  <svg xmlns=\"http://www.w3.org/2000/svg\" height=\"24px\"viewBox=\"0 0 24 24\"\n",
              "       width=\"24px\">\n",
              "    <path d=\"M0 0h24v24H0V0z\" fill=\"none\"/>\n",
              "    <path d=\"M18.56 5.44l.94 2.06.94-2.06 2.06-.94-2.06-.94-.94-2.06-.94 2.06-2.06.94zm-11 1L8.5 8.5l.94-2.06 2.06-.94-2.06-.94L8.5 2.5l-.94 2.06-2.06.94zm10 10l.94 2.06.94-2.06 2.06-.94-2.06-.94-.94-2.06-.94 2.06-2.06.94z\"/><path d=\"M17.41 7.96l-1.37-1.37c-.4-.4-.92-.59-1.43-.59-.52 0-1.04.2-1.43.59L10.3 9.45l-7.72 7.72c-.78.78-.78 2.05 0 2.83L4 21.41c.39.39.9.59 1.41.59.51 0 1.02-.2 1.41-.59l7.78-7.78 2.81-2.81c.8-.78.8-2.07 0-2.86zM5.41 20L4 18.59l7.72-7.72 1.47 1.35L5.41 20z\"/>\n",
              "  </svg>\n",
              "      </button>\n",
              "      \n",
              "  <style>\n",
              "    .colab-df-container {\n",
              "      display:flex;\n",
              "      flex-wrap:wrap;\n",
              "      gap: 12px;\n",
              "    }\n",
              "\n",
              "    .colab-df-convert {\n",
              "      background-color: #E8F0FE;\n",
              "      border: none;\n",
              "      border-radius: 50%;\n",
              "      cursor: pointer;\n",
              "      display: none;\n",
              "      fill: #1967D2;\n",
              "      height: 32px;\n",
              "      padding: 0 0 0 0;\n",
              "      width: 32px;\n",
              "    }\n",
              "\n",
              "    .colab-df-convert:hover {\n",
              "      background-color: #E2EBFA;\n",
              "      box-shadow: 0px 1px 2px rgba(60, 64, 67, 0.3), 0px 1px 3px 1px rgba(60, 64, 67, 0.15);\n",
              "      fill: #174EA6;\n",
              "    }\n",
              "\n",
              "    [theme=dark] .colab-df-convert {\n",
              "      background-color: #3B4455;\n",
              "      fill: #D2E3FC;\n",
              "    }\n",
              "\n",
              "    [theme=dark] .colab-df-convert:hover {\n",
              "      background-color: #434B5C;\n",
              "      box-shadow: 0px 1px 3px 1px rgba(0, 0, 0, 0.15);\n",
              "      filter: drop-shadow(0px 1px 2px rgba(0, 0, 0, 0.3));\n",
              "      fill: #FFFFFF;\n",
              "    }\n",
              "  </style>\n",
              "\n",
              "      <script>\n",
              "        const buttonEl =\n",
              "          document.querySelector('#df-820e8a18-ff98-460c-bad1-698cc2781072 button.colab-df-convert');\n",
              "        buttonEl.style.display =\n",
              "          google.colab.kernel.accessAllowed ? 'block' : 'none';\n",
              "\n",
              "        async function convertToInteractive(key) {\n",
              "          const element = document.querySelector('#df-820e8a18-ff98-460c-bad1-698cc2781072');\n",
              "          const dataTable =\n",
              "            await google.colab.kernel.invokeFunction('convertToInteractive',\n",
              "                                                     [key], {});\n",
              "          if (!dataTable) return;\n",
              "\n",
              "          const docLinkHtml = 'Like what you see? Visit the ' +\n",
              "            '<a target=\"_blank\" href=https://colab.research.google.com/notebooks/data_table.ipynb>data table notebook</a>'\n",
              "            + ' to learn more about interactive tables.';\n",
              "          element.innerHTML = '';\n",
              "          dataTable['output_type'] = 'display_data';\n",
              "          await google.colab.output.renderOutput(dataTable, element);\n",
              "          const docLink = document.createElement('div');\n",
              "          docLink.innerHTML = docLinkHtml;\n",
              "          element.appendChild(docLink);\n",
              "        }\n",
              "      </script>\n",
              "    </div>\n",
              "  </div>\n",
              "  "
            ]
          },
          "metadata": {},
          "execution_count": 5
        }
      ]
    },
    {
      "cell_type": "code",
      "source": [
        "active_rows, active_cols = active_df.shape\n",
        "active_df.columns = [\"SMILES\",\"ID\",\"ChEMBL_ID\"]\n",
        "active_df[\"label\"] = [\"Active\"]*active_rows\n",
        "PandasTools.AddMoleculeColumnToFrame(active_df,\"SMILES\",\"Mol\")"
      ],
      "metadata": {
        "id": "8__IWK6mKnBt"
      },
      "execution_count": 6,
      "outputs": []
    },
    {
      "cell_type": "code",
      "source": [
        "active_df[:3]"
      ],
      "metadata": {
        "colab": {
          "base_uri": "https://localhost:8080/",
          "height": 143
        },
        "id": "z5ZzPu_fKpyS",
        "outputId": "72fc492c-f680-4c51-fbdc-2d744f41a7c1"
      },
      "execution_count": 7,
      "outputs": [
        {
          "output_type": "execute_result",
          "data": {
            "text/plain": [
              "                                              SMILES      ID     ChEMBL_ID  \\\n",
              "0  Cn1ccnc1Sc2ccc(cc2Cl)Nc3c4cc(c(cc4ncc3C#N)OCCC...  168691  CHEMBL318804   \n",
              "1  C[C@@]12[C@@H]([C@@H](CC(O1)n3c4ccccc4c5c3c6n2...   86358     CHEMBL162   \n",
              "2  Cc1cnc(nc1c2cc([nH]c2)C(=O)N[C@H](CO)c3cccc(c3...  575087  CHEMBL576683   \n",
              "\n",
              "    label                                               Mol  \n",
              "0  Active  <rdkit.Chem.rdchem.Mol object at 0x7f1620eebbc0>  \n",
              "1  Active  <rdkit.Chem.rdchem.Mol object at 0x7f1620eee030>  \n",
              "2  Active  <rdkit.Chem.rdchem.Mol object at 0x7f1620eee490>  "
            ],
            "text/html": [
              "\n",
              "  <div id=\"df-0b4ede07-2a9f-49b5-a8df-1bc308bf09b3\">\n",
              "    <div class=\"colab-df-container\">\n",
              "      <div>\n",
              "<style scoped>\n",
              "    .dataframe tbody tr th:only-of-type {\n",
              "        vertical-align: middle;\n",
              "    }\n",
              "\n",
              "    .dataframe tbody tr th {\n",
              "        vertical-align: top;\n",
              "    }\n",
              "\n",
              "    .dataframe thead th {\n",
              "        text-align: right;\n",
              "    }\n",
              "</style>\n",
              "<table border=\"1\" class=\"dataframe\">\n",
              "  <thead>\n",
              "    <tr style=\"text-align: right;\">\n",
              "      <th></th>\n",
              "      <th>SMILES</th>\n",
              "      <th>ID</th>\n",
              "      <th>ChEMBL_ID</th>\n",
              "      <th>label</th>\n",
              "      <th>Mol</th>\n",
              "    </tr>\n",
              "  </thead>\n",
              "  <tbody>\n",
              "    <tr>\n",
              "      <th>0</th>\n",
              "      <td>Cn1ccnc1Sc2ccc(cc2Cl)Nc3c4cc(c(cc4ncc3C#N)OCCC...</td>\n",
              "      <td>168691</td>\n",
              "      <td>CHEMBL318804</td>\n",
              "      <td>Active</td>\n",
              "      <td>&lt;rdkit.Chem.rdchem.Mol object at 0x7f1620eebbc0&gt;</td>\n",
              "    </tr>\n",
              "    <tr>\n",
              "      <th>1</th>\n",
              "      <td>C[C@@]12[C@@H]([C@@H](CC(O1)n3c4ccccc4c5c3c6n2...</td>\n",
              "      <td>86358</td>\n",
              "      <td>CHEMBL162</td>\n",
              "      <td>Active</td>\n",
              "      <td>&lt;rdkit.Chem.rdchem.Mol object at 0x7f1620eee030&gt;</td>\n",
              "    </tr>\n",
              "    <tr>\n",
              "      <th>2</th>\n",
              "      <td>Cc1cnc(nc1c2cc([nH]c2)C(=O)N[C@H](CO)c3cccc(c3...</td>\n",
              "      <td>575087</td>\n",
              "      <td>CHEMBL576683</td>\n",
              "      <td>Active</td>\n",
              "      <td>&lt;rdkit.Chem.rdchem.Mol object at 0x7f1620eee490&gt;</td>\n",
              "    </tr>\n",
              "  </tbody>\n",
              "</table>\n",
              "</div>\n",
              "      <button class=\"colab-df-convert\" onclick=\"convertToInteractive('df-0b4ede07-2a9f-49b5-a8df-1bc308bf09b3')\"\n",
              "              title=\"Convert this dataframe to an interactive table.\"\n",
              "              style=\"display:none;\">\n",
              "        \n",
              "  <svg xmlns=\"http://www.w3.org/2000/svg\" height=\"24px\"viewBox=\"0 0 24 24\"\n",
              "       width=\"24px\">\n",
              "    <path d=\"M0 0h24v24H0V0z\" fill=\"none\"/>\n",
              "    <path d=\"M18.56 5.44l.94 2.06.94-2.06 2.06-.94-2.06-.94-.94-2.06-.94 2.06-2.06.94zm-11 1L8.5 8.5l.94-2.06 2.06-.94-2.06-.94L8.5 2.5l-.94 2.06-2.06.94zm10 10l.94 2.06.94-2.06 2.06-.94-2.06-.94-.94-2.06-.94 2.06-2.06.94z\"/><path d=\"M17.41 7.96l-1.37-1.37c-.4-.4-.92-.59-1.43-.59-.52 0-1.04.2-1.43.59L10.3 9.45l-7.72 7.72c-.78.78-.78 2.05 0 2.83L4 21.41c.39.39.9.59 1.41.59.51 0 1.02-.2 1.41-.59l7.78-7.78 2.81-2.81c.8-.78.8-2.07 0-2.86zM5.41 20L4 18.59l7.72-7.72 1.47 1.35L5.41 20z\"/>\n",
              "  </svg>\n",
              "      </button>\n",
              "      \n",
              "  <style>\n",
              "    .colab-df-container {\n",
              "      display:flex;\n",
              "      flex-wrap:wrap;\n",
              "      gap: 12px;\n",
              "    }\n",
              "\n",
              "    .colab-df-convert {\n",
              "      background-color: #E8F0FE;\n",
              "      border: none;\n",
              "      border-radius: 50%;\n",
              "      cursor: pointer;\n",
              "      display: none;\n",
              "      fill: #1967D2;\n",
              "      height: 32px;\n",
              "      padding: 0 0 0 0;\n",
              "      width: 32px;\n",
              "    }\n",
              "\n",
              "    .colab-df-convert:hover {\n",
              "      background-color: #E2EBFA;\n",
              "      box-shadow: 0px 1px 2px rgba(60, 64, 67, 0.3), 0px 1px 3px 1px rgba(60, 64, 67, 0.15);\n",
              "      fill: #174EA6;\n",
              "    }\n",
              "\n",
              "    [theme=dark] .colab-df-convert {\n",
              "      background-color: #3B4455;\n",
              "      fill: #D2E3FC;\n",
              "    }\n",
              "\n",
              "    [theme=dark] .colab-df-convert:hover {\n",
              "      background-color: #434B5C;\n",
              "      box-shadow: 0px 1px 3px 1px rgba(0, 0, 0, 0.15);\n",
              "      filter: drop-shadow(0px 1px 2px rgba(0, 0, 0, 0.3));\n",
              "      fill: #FFFFFF;\n",
              "    }\n",
              "  </style>\n",
              "\n",
              "      <script>\n",
              "        const buttonEl =\n",
              "          document.querySelector('#df-0b4ede07-2a9f-49b5-a8df-1bc308bf09b3 button.colab-df-convert');\n",
              "        buttonEl.style.display =\n",
              "          google.colab.kernel.accessAllowed ? 'block' : 'none';\n",
              "\n",
              "        async function convertToInteractive(key) {\n",
              "          const element = document.querySelector('#df-0b4ede07-2a9f-49b5-a8df-1bc308bf09b3');\n",
              "          const dataTable =\n",
              "            await google.colab.kernel.invokeFunction('convertToInteractive',\n",
              "                                                     [key], {});\n",
              "          if (!dataTable) return;\n",
              "\n",
              "          const docLinkHtml = 'Like what you see? Visit the ' +\n",
              "            '<a target=\"_blank\" href=https://colab.research.google.com/notebooks/data_table.ipynb>data table notebook</a>'\n",
              "            + ' to learn more about interactive tables.';\n",
              "          element.innerHTML = '';\n",
              "          dataTable['output_type'] = 'display_data';\n",
              "          await google.colab.output.renderOutput(dataTable, element);\n",
              "          const docLink = document.createElement('div');\n",
              "          docLink.innerHTML = docLinkHtml;\n",
              "          element.appendChild(docLink);\n",
              "        }\n",
              "      </script>\n",
              "    </div>\n",
              "  </div>\n",
              "  "
            ]
          },
          "metadata": {},
          "execution_count": 7
        }
      ]
    },
    {
      "cell_type": "code",
      "source": [
        "def add_property_columns_to_df(df_in):\n",
        "    df_in[\"mw\"] = [Descriptors.MolWt(mol) for mol in df_in.Mol]\n",
        "    df_in[\"logP\"] = [Descriptors.MolLogP(mol) for mol in df_in.Mol]\n",
        "    df_in[\"charge\"] = [rdmolops.GetFormalCharge(mol) for mol in df_in.Mol]"
      ],
      "metadata": {
        "id": "cDQAqrFfKsU8"
      },
      "execution_count": 8,
      "outputs": []
    },
    {
      "cell_type": "code",
      "source": [
        "add_property_columns_to_df(active_df)\n",
        "active_df.head()"
      ],
      "metadata": {
        "colab": {
          "base_uri": "https://localhost:8080/",
          "height": 337
        },
        "id": "W0OjbnExKynY",
        "outputId": "00e14423-05b3-47ad-913c-a1a81f990d70"
      },
      "execution_count": 9,
      "outputs": [
        {
          "output_type": "execute_result",
          "data": {
            "text/plain": [
              "                                              SMILES      ID     ChEMBL_ID  \\\n",
              "0  Cn1ccnc1Sc2ccc(cc2Cl)Nc3c4cc(c(cc4ncc3C#N)OCCC...  168691  CHEMBL318804   \n",
              "1  C[C@@]12[C@@H]([C@@H](CC(O1)n3c4ccccc4c5c3c6n2...   86358     CHEMBL162   \n",
              "2  Cc1cnc(nc1c2cc([nH]c2)C(=O)N[C@H](CO)c3cccc(c3...  575087  CHEMBL576683   \n",
              "3  Cc1cnc(nc1c2cc([nH]c2)C(=O)N[C@H](CO)c3cccc(c3...  575065  CHEMBL571484   \n",
              "4  Cc1cnc(nc1c2cc([nH]c2)C(=O)N[C@H](CO)c3cccc(c3...  575047  CHEMBL568937   \n",
              "\n",
              "    label                                               Mol       mw     logP  \\\n",
              "0  Active  <rdkit.Chem.rdchem.Mol object at 0x7f1620eebbc0>  565.099  5.49788   \n",
              "1  Active  <rdkit.Chem.rdchem.Mol object at 0x7f1620eee030>  466.541  4.35400   \n",
              "2  Active  <rdkit.Chem.rdchem.Mol object at 0x7f1620eee490>  527.915  4.96202   \n",
              "3  Active  <rdkit.Chem.rdchem.Mol object at 0x7f1620eee4e0>  491.935  4.36922   \n",
              "4  Active  <rdkit.Chem.rdchem.Mol object at 0x7f1620eee580>  487.991  5.12922   \n",
              "\n",
              "   charge  \n",
              "0       0  \n",
              "1       0  \n",
              "2       0  \n",
              "3       0  \n",
              "4       0  "
            ],
            "text/html": [
              "\n",
              "  <div id=\"df-5ff31bf4-b1d7-425b-a1ec-6ffa761042a6\">\n",
              "    <div class=\"colab-df-container\">\n",
              "      <div>\n",
              "<style scoped>\n",
              "    .dataframe tbody tr th:only-of-type {\n",
              "        vertical-align: middle;\n",
              "    }\n",
              "\n",
              "    .dataframe tbody tr th {\n",
              "        vertical-align: top;\n",
              "    }\n",
              "\n",
              "    .dataframe thead th {\n",
              "        text-align: right;\n",
              "    }\n",
              "</style>\n",
              "<table border=\"1\" class=\"dataframe\">\n",
              "  <thead>\n",
              "    <tr style=\"text-align: right;\">\n",
              "      <th></th>\n",
              "      <th>SMILES</th>\n",
              "      <th>ID</th>\n",
              "      <th>ChEMBL_ID</th>\n",
              "      <th>label</th>\n",
              "      <th>Mol</th>\n",
              "      <th>mw</th>\n",
              "      <th>logP</th>\n",
              "      <th>charge</th>\n",
              "    </tr>\n",
              "  </thead>\n",
              "  <tbody>\n",
              "    <tr>\n",
              "      <th>0</th>\n",
              "      <td>Cn1ccnc1Sc2ccc(cc2Cl)Nc3c4cc(c(cc4ncc3C#N)OCCC...</td>\n",
              "      <td>168691</td>\n",
              "      <td>CHEMBL318804</td>\n",
              "      <td>Active</td>\n",
              "      <td>&lt;rdkit.Chem.rdchem.Mol object at 0x7f1620eebbc0&gt;</td>\n",
              "      <td>565.099</td>\n",
              "      <td>5.49788</td>\n",
              "      <td>0</td>\n",
              "    </tr>\n",
              "    <tr>\n",
              "      <th>1</th>\n",
              "      <td>C[C@@]12[C@@H]([C@@H](CC(O1)n3c4ccccc4c5c3c6n2...</td>\n",
              "      <td>86358</td>\n",
              "      <td>CHEMBL162</td>\n",
              "      <td>Active</td>\n",
              "      <td>&lt;rdkit.Chem.rdchem.Mol object at 0x7f1620eee030&gt;</td>\n",
              "      <td>466.541</td>\n",
              "      <td>4.35400</td>\n",
              "      <td>0</td>\n",
              "    </tr>\n",
              "    <tr>\n",
              "      <th>2</th>\n",
              "      <td>Cc1cnc(nc1c2cc([nH]c2)C(=O)N[C@H](CO)c3cccc(c3...</td>\n",
              "      <td>575087</td>\n",
              "      <td>CHEMBL576683</td>\n",
              "      <td>Active</td>\n",
              "      <td>&lt;rdkit.Chem.rdchem.Mol object at 0x7f1620eee490&gt;</td>\n",
              "      <td>527.915</td>\n",
              "      <td>4.96202</td>\n",
              "      <td>0</td>\n",
              "    </tr>\n",
              "    <tr>\n",
              "      <th>3</th>\n",
              "      <td>Cc1cnc(nc1c2cc([nH]c2)C(=O)N[C@H](CO)c3cccc(c3...</td>\n",
              "      <td>575065</td>\n",
              "      <td>CHEMBL571484</td>\n",
              "      <td>Active</td>\n",
              "      <td>&lt;rdkit.Chem.rdchem.Mol object at 0x7f1620eee4e0&gt;</td>\n",
              "      <td>491.935</td>\n",
              "      <td>4.36922</td>\n",
              "      <td>0</td>\n",
              "    </tr>\n",
              "    <tr>\n",
              "      <th>4</th>\n",
              "      <td>Cc1cnc(nc1c2cc([nH]c2)C(=O)N[C@H](CO)c3cccc(c3...</td>\n",
              "      <td>575047</td>\n",
              "      <td>CHEMBL568937</td>\n",
              "      <td>Active</td>\n",
              "      <td>&lt;rdkit.Chem.rdchem.Mol object at 0x7f1620eee580&gt;</td>\n",
              "      <td>487.991</td>\n",
              "      <td>5.12922</td>\n",
              "      <td>0</td>\n",
              "    </tr>\n",
              "  </tbody>\n",
              "</table>\n",
              "</div>\n",
              "      <button class=\"colab-df-convert\" onclick=\"convertToInteractive('df-5ff31bf4-b1d7-425b-a1ec-6ffa761042a6')\"\n",
              "              title=\"Convert this dataframe to an interactive table.\"\n",
              "              style=\"display:none;\">\n",
              "        \n",
              "  <svg xmlns=\"http://www.w3.org/2000/svg\" height=\"24px\"viewBox=\"0 0 24 24\"\n",
              "       width=\"24px\">\n",
              "    <path d=\"M0 0h24v24H0V0z\" fill=\"none\"/>\n",
              "    <path d=\"M18.56 5.44l.94 2.06.94-2.06 2.06-.94-2.06-.94-.94-2.06-.94 2.06-2.06.94zm-11 1L8.5 8.5l.94-2.06 2.06-.94-2.06-.94L8.5 2.5l-.94 2.06-2.06.94zm10 10l.94 2.06.94-2.06 2.06-.94-2.06-.94-.94-2.06-.94 2.06-2.06.94z\"/><path d=\"M17.41 7.96l-1.37-1.37c-.4-.4-.92-.59-1.43-.59-.52 0-1.04.2-1.43.59L10.3 9.45l-7.72 7.72c-.78.78-.78 2.05 0 2.83L4 21.41c.39.39.9.59 1.41.59.51 0 1.02-.2 1.41-.59l7.78-7.78 2.81-2.81c.8-.78.8-2.07 0-2.86zM5.41 20L4 18.59l7.72-7.72 1.47 1.35L5.41 20z\"/>\n",
              "  </svg>\n",
              "      </button>\n",
              "      \n",
              "  <style>\n",
              "    .colab-df-container {\n",
              "      display:flex;\n",
              "      flex-wrap:wrap;\n",
              "      gap: 12px;\n",
              "    }\n",
              "\n",
              "    .colab-df-convert {\n",
              "      background-color: #E8F0FE;\n",
              "      border: none;\n",
              "      border-radius: 50%;\n",
              "      cursor: pointer;\n",
              "      display: none;\n",
              "      fill: #1967D2;\n",
              "      height: 32px;\n",
              "      padding: 0 0 0 0;\n",
              "      width: 32px;\n",
              "    }\n",
              "\n",
              "    .colab-df-convert:hover {\n",
              "      background-color: #E2EBFA;\n",
              "      box-shadow: 0px 1px 2px rgba(60, 64, 67, 0.3), 0px 1px 3px 1px rgba(60, 64, 67, 0.15);\n",
              "      fill: #174EA6;\n",
              "    }\n",
              "\n",
              "    [theme=dark] .colab-df-convert {\n",
              "      background-color: #3B4455;\n",
              "      fill: #D2E3FC;\n",
              "    }\n",
              "\n",
              "    [theme=dark] .colab-df-convert:hover {\n",
              "      background-color: #434B5C;\n",
              "      box-shadow: 0px 1px 3px 1px rgba(0, 0, 0, 0.15);\n",
              "      filter: drop-shadow(0px 1px 2px rgba(0, 0, 0, 0.3));\n",
              "      fill: #FFFFFF;\n",
              "    }\n",
              "  </style>\n",
              "\n",
              "      <script>\n",
              "        const buttonEl =\n",
              "          document.querySelector('#df-5ff31bf4-b1d7-425b-a1ec-6ffa761042a6 button.colab-df-convert');\n",
              "        buttonEl.style.display =\n",
              "          google.colab.kernel.accessAllowed ? 'block' : 'none';\n",
              "\n",
              "        async function convertToInteractive(key) {\n",
              "          const element = document.querySelector('#df-5ff31bf4-b1d7-425b-a1ec-6ffa761042a6');\n",
              "          const dataTable =\n",
              "            await google.colab.kernel.invokeFunction('convertToInteractive',\n",
              "                                                     [key], {});\n",
              "          if (!dataTable) return;\n",
              "\n",
              "          const docLinkHtml = 'Like what you see? Visit the ' +\n",
              "            '<a target=\"_blank\" href=https://colab.research.google.com/notebooks/data_table.ipynb>data table notebook</a>'\n",
              "            + ' to learn more about interactive tables.';\n",
              "          element.innerHTML = '';\n",
              "          dataTable['output_type'] = 'display_data';\n",
              "          await google.colab.output.renderOutput(dataTable, element);\n",
              "          const docLink = document.createElement('div');\n",
              "          docLink.innerHTML = docLinkHtml;\n",
              "          element.appendChild(docLink);\n",
              "        }\n",
              "      </script>\n",
              "    </div>\n",
              "  </div>\n",
              "  "
            ]
          },
          "metadata": {},
          "execution_count": 9
        }
      ]
    },
    {
      "cell_type": "code",
      "source": [
        "decoy_df = pd.read_csv(\"https://raw.githubusercontent.com/deepchem/DeepLearningLifeSciences/master/Chapter11/mk01/decoys_final.ism\",\n",
        "                       header=None,sep=\" \")\n",
        "decoy_df.columns = [\"SMILES\",\"ID\"]\n",
        "decoy_rows, decoy_cols = decoy_df.shape\n",
        "decoy_df[\"label\"] = [\"Decoy\"]*decoy_rows\n",
        "PandasTools.AddMoleculeColumnToFrame(decoy_df,\"SMILES\",\"Mol\")\n",
        "add_property_columns_to_df(decoy_df)"
      ],
      "metadata": {
        "id": "TXXegGfpLCXl"
      },
      "execution_count": 10,
      "outputs": []
    },
    {
      "cell_type": "code",
      "source": [
        "decoy_df[:3]"
      ],
      "metadata": {
        "colab": {
          "base_uri": "https://localhost:8080/",
          "height": 187
        },
        "id": "Lt489FJbLMy-",
        "outputId": "e7fd01e8-b5f7-4161-ce01-f924c3f95c85"
      },
      "execution_count": 11,
      "outputs": [
        {
          "output_type": "execute_result",
          "data": {
            "text/plain": [
              "                                              SMILES         ID  label  \\\n",
              "0                         C1COCCNC(=S)NCCOCCNC(=S)N1  C03897368  Decoy   \n",
              "1            c1cc(ccc1[C@H]2c3ccc(cc3OC(=C2C#N)N)N)O  C00242247  Decoy   \n",
              "2  C[C@]12CC[C@H](C[C@@H]1CC[C@@H]3[C@@H]2C(=O)C[...  C04096778  Decoy   \n",
              "\n",
              "                                                Mol       mw     logP  charge  \n",
              "0  <rdkit.Chem.rdchem.Mol object at 0x7f1620edf120>  292.430 -1.03860       0  \n",
              "1  <rdkit.Chem.rdchem.Mol object at 0x7f1620edf5d0>  279.299  2.19258       0  \n",
              "2  <rdkit.Chem.rdchem.Mol object at 0x7f1620edfc10>  366.498  1.65330       0  "
            ],
            "text/html": [
              "\n",
              "  <div id=\"df-f0b3e53c-d014-489e-8e25-c46708e0b576\">\n",
              "    <div class=\"colab-df-container\">\n",
              "      <div>\n",
              "<style scoped>\n",
              "    .dataframe tbody tr th:only-of-type {\n",
              "        vertical-align: middle;\n",
              "    }\n",
              "\n",
              "    .dataframe tbody tr th {\n",
              "        vertical-align: top;\n",
              "    }\n",
              "\n",
              "    .dataframe thead th {\n",
              "        text-align: right;\n",
              "    }\n",
              "</style>\n",
              "<table border=\"1\" class=\"dataframe\">\n",
              "  <thead>\n",
              "    <tr style=\"text-align: right;\">\n",
              "      <th></th>\n",
              "      <th>SMILES</th>\n",
              "      <th>ID</th>\n",
              "      <th>label</th>\n",
              "      <th>Mol</th>\n",
              "      <th>mw</th>\n",
              "      <th>logP</th>\n",
              "      <th>charge</th>\n",
              "    </tr>\n",
              "  </thead>\n",
              "  <tbody>\n",
              "    <tr>\n",
              "      <th>0</th>\n",
              "      <td>C1COCCNC(=S)NCCOCCNC(=S)N1</td>\n",
              "      <td>C03897368</td>\n",
              "      <td>Decoy</td>\n",
              "      <td>&lt;rdkit.Chem.rdchem.Mol object at 0x7f1620edf120&gt;</td>\n",
              "      <td>292.430</td>\n",
              "      <td>-1.03860</td>\n",
              "      <td>0</td>\n",
              "    </tr>\n",
              "    <tr>\n",
              "      <th>1</th>\n",
              "      <td>c1cc(ccc1[C@H]2c3ccc(cc3OC(=C2C#N)N)N)O</td>\n",
              "      <td>C00242247</td>\n",
              "      <td>Decoy</td>\n",
              "      <td>&lt;rdkit.Chem.rdchem.Mol object at 0x7f1620edf5d0&gt;</td>\n",
              "      <td>279.299</td>\n",
              "      <td>2.19258</td>\n",
              "      <td>0</td>\n",
              "    </tr>\n",
              "    <tr>\n",
              "      <th>2</th>\n",
              "      <td>C[C@]12CC[C@H](C[C@@H]1CC[C@@H]3[C@@H]2C(=O)C[...</td>\n",
              "      <td>C04096778</td>\n",
              "      <td>Decoy</td>\n",
              "      <td>&lt;rdkit.Chem.rdchem.Mol object at 0x7f1620edfc10&gt;</td>\n",
              "      <td>366.498</td>\n",
              "      <td>1.65330</td>\n",
              "      <td>0</td>\n",
              "    </tr>\n",
              "  </tbody>\n",
              "</table>\n",
              "</div>\n",
              "      <button class=\"colab-df-convert\" onclick=\"convertToInteractive('df-f0b3e53c-d014-489e-8e25-c46708e0b576')\"\n",
              "              title=\"Convert this dataframe to an interactive table.\"\n",
              "              style=\"display:none;\">\n",
              "        \n",
              "  <svg xmlns=\"http://www.w3.org/2000/svg\" height=\"24px\"viewBox=\"0 0 24 24\"\n",
              "       width=\"24px\">\n",
              "    <path d=\"M0 0h24v24H0V0z\" fill=\"none\"/>\n",
              "    <path d=\"M18.56 5.44l.94 2.06.94-2.06 2.06-.94-2.06-.94-.94-2.06-.94 2.06-2.06.94zm-11 1L8.5 8.5l.94-2.06 2.06-.94-2.06-.94L8.5 2.5l-.94 2.06-2.06.94zm10 10l.94 2.06.94-2.06 2.06-.94-2.06-.94-.94-2.06-.94 2.06-2.06.94z\"/><path d=\"M17.41 7.96l-1.37-1.37c-.4-.4-.92-.59-1.43-.59-.52 0-1.04.2-1.43.59L10.3 9.45l-7.72 7.72c-.78.78-.78 2.05 0 2.83L4 21.41c.39.39.9.59 1.41.59.51 0 1.02-.2 1.41-.59l7.78-7.78 2.81-2.81c.8-.78.8-2.07 0-2.86zM5.41 20L4 18.59l7.72-7.72 1.47 1.35L5.41 20z\"/>\n",
              "  </svg>\n",
              "      </button>\n",
              "      \n",
              "  <style>\n",
              "    .colab-df-container {\n",
              "      display:flex;\n",
              "      flex-wrap:wrap;\n",
              "      gap: 12px;\n",
              "    }\n",
              "\n",
              "    .colab-df-convert {\n",
              "      background-color: #E8F0FE;\n",
              "      border: none;\n",
              "      border-radius: 50%;\n",
              "      cursor: pointer;\n",
              "      display: none;\n",
              "      fill: #1967D2;\n",
              "      height: 32px;\n",
              "      padding: 0 0 0 0;\n",
              "      width: 32px;\n",
              "    }\n",
              "\n",
              "    .colab-df-convert:hover {\n",
              "      background-color: #E2EBFA;\n",
              "      box-shadow: 0px 1px 2px rgba(60, 64, 67, 0.3), 0px 1px 3px 1px rgba(60, 64, 67, 0.15);\n",
              "      fill: #174EA6;\n",
              "    }\n",
              "\n",
              "    [theme=dark] .colab-df-convert {\n",
              "      background-color: #3B4455;\n",
              "      fill: #D2E3FC;\n",
              "    }\n",
              "\n",
              "    [theme=dark] .colab-df-convert:hover {\n",
              "      background-color: #434B5C;\n",
              "      box-shadow: 0px 1px 3px 1px rgba(0, 0, 0, 0.15);\n",
              "      filter: drop-shadow(0px 1px 2px rgba(0, 0, 0, 0.3));\n",
              "      fill: #FFFFFF;\n",
              "    }\n",
              "  </style>\n",
              "\n",
              "      <script>\n",
              "        const buttonEl =\n",
              "          document.querySelector('#df-f0b3e53c-d014-489e-8e25-c46708e0b576 button.colab-df-convert');\n",
              "        buttonEl.style.display =\n",
              "          google.colab.kernel.accessAllowed ? 'block' : 'none';\n",
              "\n",
              "        async function convertToInteractive(key) {\n",
              "          const element = document.querySelector('#df-f0b3e53c-d014-489e-8e25-c46708e0b576');\n",
              "          const dataTable =\n",
              "            await google.colab.kernel.invokeFunction('convertToInteractive',\n",
              "                                                     [key], {});\n",
              "          if (!dataTable) return;\n",
              "\n",
              "          const docLinkHtml = 'Like what you see? Visit the ' +\n",
              "            '<a target=\"_blank\" href=https://colab.research.google.com/notebooks/data_table.ipynb>data table notebook</a>'\n",
              "            + ' to learn more about interactive tables.';\n",
              "          element.innerHTML = '';\n",
              "          dataTable['output_type'] = 'display_data';\n",
              "          await google.colab.output.renderOutput(dataTable, element);\n",
              "          const docLink = document.createElement('div');\n",
              "          docLink.innerHTML = docLinkHtml;\n",
              "          element.appendChild(docLink);\n",
              "        }\n",
              "      </script>\n",
              "    </div>\n",
              "  </div>\n",
              "  "
            ]
          },
          "metadata": {},
          "execution_count": 11
        }
      ]
    },
    {
      "cell_type": "code",
      "source": [
        "tmp_df = active_df.append(decoy_df)"
      ],
      "metadata": {
        "id": "jsI0pHuRLYNw"
      },
      "execution_count": 12,
      "outputs": []
    },
    {
      "cell_type": "code",
      "source": [
        "tmp_df.shape"
      ],
      "metadata": {
        "colab": {
          "base_uri": "https://localhost:8080/"
        },
        "id": "dKC3S-U0LdKm",
        "outputId": "287f37fc-96d7-4710-b0b6-77495dcce17f"
      },
      "execution_count": 13,
      "outputs": [
        {
          "output_type": "execute_result",
          "data": {
            "text/plain": [
              "(4629, 8)"
            ]
          },
          "metadata": {},
          "execution_count": 13
        }
      ]
    },
    {
      "cell_type": "code",
      "source": [
        "sns.violinplot(x=tmp_df[\"label\"],y=tmp_df[\"mw\"]);"
      ],
      "metadata": {
        "colab": {
          "base_uri": "https://localhost:8080/",
          "height": 278
        },
        "id": "spqZ12VyLfTT",
        "outputId": "ec990825-1855-4a6b-df3e-ec26e55d2e65"
      },
      "execution_count": 14,
      "outputs": [
        {
          "output_type": "display_data",
          "data": {
            "text/plain": [
              "<Figure size 432x288 with 1 Axes>"
            ],
            "image/png": "[encoded data removed]"
          },
          "metadata": {
            "image/png": {
              "width": 388,
              "height": 261
            },
            "needs_background": "light"
          }
        }
      ]
    },
    {
      "cell_type": "code",
      "source": [
        "sns.violinplot(x=tmp_df[\"label\"],y=tmp_df[\"logP\"]);"
      ],
      "metadata": {
        "colab": {
          "base_uri": "https://localhost:8080/",
          "height": 278
        },
        "id": "Sc7ffcDjLi0I",
        "outputId": "39705b7c-5109-4819-dfa8-62aee1c8abb4"
      },
      "execution_count": 15,
      "outputs": [
        {
          "output_type": "display_data",
          "data": {
            "text/plain": [
              "<Figure size 432x288 with 1 Axes>"
            ],
            "image/png": "[encoded data removed]"
          },
          "metadata": {
            "image/png": {
              "width": 384,
              "height": 261
            },
            "needs_background": "light"
          }
        }
      ]
    },
    {
      "cell_type": "code",
      "source": [
        "sns.violinplot(x=tmp_df[\"label\"],y=tmp_df[\"charge\"]);"
      ],
      "metadata": {
        "colab": {
          "base_uri": "https://localhost:8080/",
          "height": 278
        },
        "id": "J-XmcZbxLqZ1",
        "outputId": "6c76ccb3-c19e-44ca-b46a-abfe6d61477f"
      },
      "execution_count": 16,
      "outputs": [
        {
          "output_type": "display_data",
          "data": {
            "text/plain": [
              "<Figure size 432x288 with 1 Axes>"
            ],
            "image/png": "[encoded data removed]"
          },
          "metadata": {
            "image/png": {
              "width": 394,
              "height": 261
            },
            "needs_background": "light"
          }
        }
      ]
    },
    {
      "cell_type": "code",
      "source": [
        "charged = decoy_df[decoy_df[\"charge\"] != 0]"
      ],
      "metadata": {
        "id": "A3gLntP2LtG9"
      },
      "execution_count": 17,
      "outputs": []
    },
    {
      "cell_type": "code",
      "source": [
        "charged.shape[0]/decoy_df.shape[0]"
      ],
      "metadata": {
        "colab": {
          "base_uri": "https://localhost:8080/"
        },
        "id": "pBD3SJQHMFx6",
        "outputId": "d0386f72-6d3c-47b5-dfac-74c821592f1c"
      },
      "execution_count": 18,
      "outputs": [
        {
          "output_type": "execute_result",
          "data": {
            "text/plain": [
              "0.16175824175824177"
            ]
          },
          "metadata": {},
          "execution_count": 18
        }
      ]
    },
    {
      "cell_type": "code",
      "source": [
        "def _InitialiseNeutralisationReactions():\n",
        "    patts= (\n",
        "        # Imidazoles\n",
        "        ('[n+;H]','n'),\n",
        "        # Amines\n",
        "        ('[N+;!H0]','N'),\n",
        "        # Carboxylic acids and alcohols\n",
        "        ('[$([O-]);!$([O-][#7])]','O'),\n",
        "        # Thiols\n",
        "        ('[S-;X1]','S'),\n",
        "        # Sulfonamides\n",
        "        ('[$([N-;X2]S(=O)=O)]','N'),\n",
        "        # Enamines\n",
        "        ('[$([N-;X2][C,N]=C)]','N'),\n",
        "        # Tetrazoles\n",
        "        ('[n-]','[nH]'),\n",
        "        # Sulfoxides\n",
        "        ('[$([S-]=O)]','S'),\n",
        "        # Amides\n",
        "        ('[$([N-]C=O)]','N'),\n",
        "        )\n",
        "    return [(Chem.MolFromSmarts(x),Chem.MolFromSmiles(y,False)) for x,y in patts]\n",
        "\n",
        "_reactions=None\n",
        "\n",
        "def NeutraliseCharges(smiles, reactions=None):\n",
        "    global _reactions\n",
        "    if reactions is None:\n",
        "        if _reactions is None:\n",
        "            _reactions=_InitialiseNeutralisationReactions()\n",
        "        reactions=_reactions\n",
        "    mol = Chem.MolFromSmiles(smiles)\n",
        "    replaced = False\n",
        "    for i,(reactant, product) in enumerate(reactions):\n",
        "        while mol.HasSubstructMatch(reactant):\n",
        "            replaced = True\n",
        "            rms = AllChem.ReplaceSubstructs(mol, reactant, product)\n",
        "            mol = rms[0]\n",
        "    if replaced:\n",
        "        return (Chem.MolToSmiles(mol,True), True)\n",
        "    else:\n",
        "        return (smiles, False)"
      ],
      "metadata": {
        "id": "pr6QmN8ZMICO"
      },
      "execution_count": 19,
      "outputs": []
    },
    {
      "cell_type": "code",
      "source": [
        "revised_decoy_df = decoy_df[[\"SMILES\",\"ID\",\"label\"]].copy()"
      ],
      "metadata": {
        "id": "yxEuUEMqMOvE"
      },
      "execution_count": 20,
      "outputs": []
    },
    {
      "cell_type": "code",
      "source": [
        "revised_decoy_df[\"SMILES\"] = [NeutraliseCharges(x)[0] for x in revised_decoy_df[\"SMILES\"]]"
      ],
      "metadata": {
        "id": "SniwYuwaMUFC"
      },
      "execution_count": 21,
      "outputs": []
    },
    {
      "cell_type": "code",
      "source": [
        "revised_decoy_df.shape"
      ],
      "metadata": {
        "colab": {
          "base_uri": "https://localhost:8080/"
        },
        "id": "MksUBJ_9MXds",
        "outputId": "169a2dec-d3ea-436c-f56e-21ca8279d24f"
      },
      "execution_count": 22,
      "outputs": [
        {
          "output_type": "execute_result",
          "data": {
            "text/plain": [
              "(4550, 3)"
            ]
          },
          "metadata": {},
          "execution_count": 22
        }
      ]
    },
    {
      "cell_type": "code",
      "source": [
        "PandasTools.AddMoleculeColumnToFrame(revised_decoy_df,\"SMILES\",\"Mol\")\n",
        "add_property_columns_to_df(revised_decoy_df)"
      ],
      "metadata": {
        "id": "jceTpoaOMZW7"
      },
      "execution_count": 23,
      "outputs": []
    },
    {
      "cell_type": "code",
      "source": [
        "new_tmp_df = active_df.append(revised_decoy_df)"
      ],
      "metadata": {
        "id": "1C_v8tGmMfM9"
      },
      "execution_count": 24,
      "outputs": []
    },
    {
      "cell_type": "code",
      "source": [
        "sns.violinplot(x=new_tmp_df[\"label\"],y=new_tmp_df[\"charge\"])"
      ],
      "metadata": {
        "colab": {
          "base_uri": "https://localhost:8080/",
          "height": 296
        },
        "id": "McW9c5RWMhnb",
        "outputId": "bcf39eb9-2c82-4e35-f249-f1067e504f27"
      },
      "execution_count": 25,
      "outputs": [
        {
          "output_type": "execute_result",
          "data": {
            "text/plain": [
              "<matplotlib.axes._subplots.AxesSubplot at 0x7f161fc1d890>"
            ]
          },
          "metadata": {},
          "execution_count": 25
        },
        {
          "output_type": "display_data",
          "data": {
            "text/plain": [
              "<Figure size 432x288 with 1 Axes>"
            ],
            "image/png": "[encoded data removed]"
          },
          "metadata": {
            "image/png": {
              "width": 400,
              "height": 261
            },
            "needs_background": "light"
          }
        }
      ]
    },
    {
      "cell_type": "code",
      "source": [
        "charged = revised_decoy_df[revised_decoy_df[\"charge\"] != 0]\n",
        "charged.shape[0]/revised_decoy_df.shape[0]"
      ],
      "metadata": {
        "colab": {
          "base_uri": "https://localhost:8080/"
        },
        "id": "ZH948EL4MjXQ",
        "outputId": "e7e9eabd-55ee-421a-8a5f-943c9e2c90bc"
      },
      "execution_count": 26,
      "outputs": [
        {
          "output_type": "execute_result",
          "data": {
            "text/plain": [
              "0.0026373626373626374"
            ]
          },
          "metadata": {},
          "execution_count": 26
        }
      ]
    },
    {
      "cell_type": "code",
      "source": [
        "active_df[\"is_active\"] = [1] * active_df.shape[0]\n",
        "revised_decoy_df[\"is_active\"] = [0] * revised_decoy_df.shape[0]\n",
        "combined_df = active_df.append(revised_decoy_df)[[\"SMILES\",\"ID\",\"is_active\"]]\n",
        "combined_df.head()"
      ],
      "metadata": {
        "colab": {
          "base_uri": "https://localhost:8080/",
          "height": 206
        },
        "id": "tcPLk2-sMvMf",
        "outputId": "f7283726-7cf8-47f5-fc17-82db94dc4ad1"
      },
      "execution_count": 27,
      "outputs": [
        {
          "output_type": "execute_result",
          "data": {
            "text/plain": [
              "                                              SMILES      ID  is_active\n",
              "0  Cn1ccnc1Sc2ccc(cc2Cl)Nc3c4cc(c(cc4ncc3C#N)OCCC...  168691          1\n",
              "1  C[C@@]12[C@@H]([C@@H](CC(O1)n3c4ccccc4c5c3c6n2...   86358          1\n",
              "2  Cc1cnc(nc1c2cc([nH]c2)C(=O)N[C@H](CO)c3cccc(c3...  575087          1\n",
              "3  Cc1cnc(nc1c2cc([nH]c2)C(=O)N[C@H](CO)c3cccc(c3...  575065          1\n",
              "4  Cc1cnc(nc1c2cc([nH]c2)C(=O)N[C@H](CO)c3cccc(c3...  575047          1"
            ],
            "text/html": [
              "\n",
              "  <div id=\"df-70405f94-366a-4637-af32-7fafc9c04292\">\n",
              "    <div class=\"colab-df-container\">\n",
              "      <div>\n",
              "<style scoped>\n",
              "    .dataframe tbody tr th:only-of-type {\n",
              "        vertical-align: middle;\n",
              "    }\n",
              "\n",
              "    .dataframe tbody tr th {\n",
              "        vertical-align: top;\n",
              "    }\n",
              "\n",
              "    .dataframe thead th {\n",
              "        text-align: right;\n",
              "    }\n",
              "</style>\n",
              "<table border=\"1\" class=\"dataframe\">\n",
              "  <thead>\n",
              "    <tr style=\"text-align: right;\">\n",
              "      <th></th>\n",
              "      <th>SMILES</th>\n",
              "      <th>ID</th>\n",
              "      <th>is_active</th>\n",
              "    </tr>\n",
              "  </thead>\n",
              "  <tbody>\n",
              "    <tr>\n",
              "      <th>0</th>\n",
              "      <td>Cn1ccnc1Sc2ccc(cc2Cl)Nc3c4cc(c(cc4ncc3C#N)OCCC...</td>\n",
              "      <td>168691</td>\n",
              "      <td>1</td>\n",
              "    </tr>\n",
              "    <tr>\n",
              "      <th>1</th>\n",
              "      <td>C[C@@]12[C@@H]([C@@H](CC(O1)n3c4ccccc4c5c3c6n2...</td>\n",
              "      <td>86358</td>\n",
              "      <td>1</td>\n",
              "    </tr>\n",
              "    <tr>\n",
              "      <th>2</th>\n",
              "      <td>Cc1cnc(nc1c2cc([nH]c2)C(=O)N[C@H](CO)c3cccc(c3...</td>\n",
              "      <td>575087</td>\n",
              "      <td>1</td>\n",
              "    </tr>\n",
              "    <tr>\n",
              "      <th>3</th>\n",
              "      <td>Cc1cnc(nc1c2cc([nH]c2)C(=O)N[C@H](CO)c3cccc(c3...</td>\n",
              "      <td>575065</td>\n",
              "      <td>1</td>\n",
              "    </tr>\n",
              "    <tr>\n",
              "      <th>4</th>\n",
              "      <td>Cc1cnc(nc1c2cc([nH]c2)C(=O)N[C@H](CO)c3cccc(c3...</td>\n",
              "      <td>575047</td>\n",
              "      <td>1</td>\n",
              "    </tr>\n",
              "  </tbody>\n",
              "</table>\n",
              "</div>\n",
              "      <button class=\"colab-df-convert\" onclick=\"convertToInteractive('df-70405f94-366a-4637-af32-7fafc9c04292')\"\n",
              "              title=\"Convert this dataframe to an interactive table.\"\n",
              "              style=\"display:none;\">\n",
              "        \n",
              "  <svg xmlns=\"http://www.w3.org/2000/svg\" height=\"24px\"viewBox=\"0 0 24 24\"\n",
              "       width=\"24px\">\n",
              "    <path d=\"M0 0h24v24H0V0z\" fill=\"none\"/>\n",
              "    <path d=\"M18.56 5.44l.94 2.06.94-2.06 2.06-.94-2.06-.94-.94-2.06-.94 2.06-2.06.94zm-11 1L8.5 8.5l.94-2.06 2.06-.94-2.06-.94L8.5 2.5l-.94 2.06-2.06.94zm10 10l.94 2.06.94-2.06 2.06-.94-2.06-.94-.94-2.06-.94 2.06-2.06.94z\"/><path d=\"M17.41 7.96l-1.37-1.37c-.4-.4-.92-.59-1.43-.59-.52 0-1.04.2-1.43.59L10.3 9.45l-7.72 7.72c-.78.78-.78 2.05 0 2.83L4 21.41c.39.39.9.59 1.41.59.51 0 1.02-.2 1.41-.59l7.78-7.78 2.81-2.81c.8-.78.8-2.07 0-2.86zM5.41 20L4 18.59l7.72-7.72 1.47 1.35L5.41 20z\"/>\n",
              "  </svg>\n",
              "      </button>\n",
              "      \n",
              "  <style>\n",
              "    .colab-df-container {\n",
              "      display:flex;\n",
              "      flex-wrap:wrap;\n",
              "      gap: 12px;\n",
              "    }\n",
              "\n",
              "    .colab-df-convert {\n",
              "      background-color: #E8F0FE;\n",
              "      border: none;\n",
              "      border-radius: 50%;\n",
              "      cursor: pointer;\n",
              "      display: none;\n",
              "      fill: #1967D2;\n",
              "      height: 32px;\n",
              "      padding: 0 0 0 0;\n",
              "      width: 32px;\n",
              "    }\n",
              "\n",
              "    .colab-df-convert:hover {\n",
              "      background-color: #E2EBFA;\n",
              "      box-shadow: 0px 1px 2px rgba(60, 64, 67, 0.3), 0px 1px 3px 1px rgba(60, 64, 67, 0.15);\n",
              "      fill: #174EA6;\n",
              "    }\n",
              "\n",
              "    [theme=dark] .colab-df-convert {\n",
              "      background-color: #3B4455;\n",
              "      fill: #D2E3FC;\n",
              "    }\n",
              "\n",
              "    [theme=dark] .colab-df-convert:hover {\n",
              "      background-color: #434B5C;\n",
              "      box-shadow: 0px 1px 3px 1px rgba(0, 0, 0, 0.15);\n",
              "      filter: drop-shadow(0px 1px 2px rgba(0, 0, 0, 0.3));\n",
              "      fill: #FFFFFF;\n",
              "    }\n",
              "  </style>\n",
              "\n",
              "      <script>\n",
              "        const buttonEl =\n",
              "          document.querySelector('#df-70405f94-366a-4637-af32-7fafc9c04292 button.colab-df-convert');\n",
              "        buttonEl.style.display =\n",
              "          google.colab.kernel.accessAllowed ? 'block' : 'none';\n",
              "\n",
              "        async function convertToInteractive(key) {\n",
              "          const element = document.querySelector('#df-70405f94-366a-4637-af32-7fafc9c04292');\n",
              "          const dataTable =\n",
              "            await google.colab.kernel.invokeFunction('convertToInteractive',\n",
              "                                                     [key], {});\n",
              "          if (!dataTable) return;\n",
              "\n",
              "          const docLinkHtml = 'Like what you see? Visit the ' +\n",
              "            '<a target=\"_blank\" href=https://colab.research.google.com/notebooks/data_table.ipynb>data table notebook</a>'\n",
              "            + ' to learn more about interactive tables.';\n",
              "          element.innerHTML = '';\n",
              "          dataTable['output_type'] = 'display_data';\n",
              "          await google.colab.output.renderOutput(dataTable, element);\n",
              "          const docLink = document.createElement('div');\n",
              "          docLink.innerHTML = docLinkHtml;\n",
              "          element.appendChild(docLink);\n",
              "        }\n",
              "      </script>\n",
              "    </div>\n",
              "  </div>\n",
              "  "
            ]
          },
          "metadata": {},
          "execution_count": 27
        }
      ]
    },
    {
      "cell_type": "code",
      "source": [
        "# 파일로 저장해둔다\n",
        "combined_df.to_csv(\"dude_erk1_mk01.csv\")"
      ],
      "metadata": {
        "id": "L-rU9xUMMwx2"
      },
      "execution_count": 28,
      "outputs": []
    },
    {
      "cell_type": "code",
      "source": [],
      "metadata": {
        "id": "O7Dl6i1EM1WB"
      },
      "execution_count": 28,
      "outputs": []
    },
    {
      "cell_type": "code",
      "source": [],
      "metadata": {
        "id": "ahXblRLRNhBB"
      },
      "execution_count": null,
      "outputs": []
    },
    {
      "cell_type": "code",
      "source": [
        "def generate_graph_conv_model():\n",
        "    batch_size = 128\n",
        "    model = GraphConvModel(1, batch_size=batch_size, \n",
        "             mode='classification', model_dir=\"./model_dir\")\n",
        "    return model"
      ],
      "metadata": {
        "id": "di3S9gNwNhDW"
      },
      "execution_count": 29,
      "outputs": []
    },
    {
      "cell_type": "code",
      "source": [
        "dataset_file = \"dude_erk1_mk01.csv\"\n",
        "tasks = [\"is_active\"]\n",
        "featurizer = dc.feat.ConvMolFeaturizer()\n",
        "loader = dc.data.CSVLoader(tasks=tasks, feature_field=\"SMILES\", featurizer=featurizer)\n",
        "dataset = loader.create_dataset(dataset_file, shard_size=8192)"
      ],
      "metadata": {
        "id": "LFIyh_rcNhwN"
      },
      "execution_count": 30,
      "outputs": []
    },
    {
      "cell_type": "code",
      "source": [
        "splitter = dc.splits.RandomSplitter()\n",
        "metrics = [dc.metrics.Metric(dc.metrics.matthews_corrcoef, np.mean)]"
      ],
      "metadata": {
        "id": "ZR0sZHluNlQR"
      },
      "execution_count": 31,
      "outputs": []
    },
    {
      "cell_type": "code",
      "source": [
        "training_score_list = []\n",
        "validation_score_list = []\n",
        "transformers = []\n",
        "cv_folds = 5\n",
        "for i in tqdm(range(0,cv_folds)):\n",
        "    model = generate_graph_conv_model()\n",
        "    train_dataset, valid_dataset, test_dataset = splitter.train_valid_test_split(dataset)\n",
        "    model.fit(train_dataset)\n",
        "    train_scores = model.evaluate(train_dataset, metrics, transformers)\n",
        "    training_score_list.append(train_scores[\"mean-matthews_corrcoef\"])\n",
        "    validation_scores = model.evaluate(valid_dataset, metrics, transformers)\n",
        "    validation_score_list.append(validation_scores[\"mean-matthews_corrcoef\"])\n",
        "print(training_score_list)\n",
        "print(validation_score_list)"
      ],
      "metadata": {
        "colab": {
          "base_uri": "https://localhost:8080/",
          "height": 85,
          "referenced_widgets": [
            "e93aafa712fd45e98d36c13b50a131f7",
            "70f33e7aea884d10bb7f5141eef652bb",
            "4c55c60ff84243afab5491e6651cf633",
            "139e395c575a4ffbb3acfb8fa4704ac5",
            "10ac77e4ccd84b8782b9563477231d07",
            "1d57713127d04001910209d436d4317d",
            "b24fbebc7a5e4f90887fd6576b34ca96",
            "e46fd0e3c5614557890976aae25999f0",
            "c5154360275949afb2ab12ecef5bcdd0",
            "a1c42712cf17469e834558af458495c3",
            "a9fc10c93f304b778a60be2f3ae5f42e"
          ]
        },
        "id": "aAbG_nciNrPd",
        "outputId": "4d3c8d8d-794e-4568-9ccb-a2de63f22288"
      },
      "execution_count": 32,
      "outputs": [
        {
          "output_type": "display_data",
          "data": {
            "text/plain": [
              "  0%|          | 0/5 [00:00<?, ?it/s]"
            ],
            "application/vnd.jupyter.widget-view+json": {
              "version_major": 2,
              "version_minor": 0,
              "model_id": "e93aafa712fd45e98d36c13b50a131f7"
            }
          },
          "metadata": {}
        },
        {
          "output_type": "stream",
          "name": "stdout",
          "text": [
            "[0.8928333917097626, 0.3112833940626828, 0.583542925751484, 0.9399721828403754, 0.6340753934422483]\n",
            "[1.0, 0.0, 0.4967355472528167, 0.9025394689383894, 0.574840038738937]\n"
          ]
        }
      ]
    },
    {
      "cell_type": "code",
      "source": [
        "# https://distill.pub/2021/gnn-intro/  gnn introduction"
      ],
      "metadata": {
        "id": "6_NXI_fxNrmE"
      },
      "execution_count": 33,
      "outputs": []
    },
    {
      "cell_type": "code",
      "source": [
        "np.array(training_score_list).mean(), np.array(validation_score_list).mean()"
      ],
      "metadata": {
        "colab": {
          "base_uri": "https://localhost:8080/"
        },
        "id": "UbhnX6urSMPN",
        "outputId": "e35f968a-523c-4882-97a1-01f82cb5f624"
      },
      "execution_count": 34,
      "outputs": [
        {
          "output_type": "execute_result",
          "data": {
            "text/plain": [
              "(0.6723414575613106, 0.5948230109860286)"
            ]
          },
          "metadata": {},
          "execution_count": 34
        }
      ]
    },
    {
      "cell_type": "code",
      "source": [
        "sns.boxplot(x=[\"training\"]*cv_folds+[\"validation\"]*cv_folds,y=training_score_list+validation_score_list);"
      ],
      "metadata": {
        "colab": {
          "base_uri": "https://localhost:8080/",
          "height": 265
        },
        "id": "dYxT6nBcYmLE",
        "outputId": "1d290981-4f73-4b18-e486-12589c23933e"
      },
      "execution_count": 35,
      "outputs": [
        {
          "output_type": "display_data",
          "data": {
            "text/plain": [
              "<Figure size 432x288 with 1 Axes>"
            ],
            "image/png": "[encoded data removed]"
          },
          "metadata": {
            "image/png": {
              "width": 372,
              "height": 248
            },
            "needs_background": "light"
          }
        }
      ]
    },
    {
      "cell_type": "code",
      "source": [
        "pred = [x.flatten() for x in model.predict(valid_dataset)]"
      ],
      "metadata": {
        "id": "cGCR8vvkYoQl"
      },
      "execution_count": 36,
      "outputs": []
    },
    {
      "cell_type": "code",
      "source": [
        "pred_df = pd.DataFrame(pred,columns=[\"neg\",\"pos\"])\n",
        "pred_df[\"active\"] = [int(x) for x in valid_dataset.y]\n",
        "pred_df[\"SMILES\"] = valid_dataset.ids\n",
        "pred_df.head()"
      ],
      "metadata": {
        "colab": {
          "base_uri": "https://localhost:8080/",
          "height": 206
        },
        "id": "NtVYukHLYq8O",
        "outputId": "52821bbd-37f6-495e-f549-94b58431489b"
      },
      "execution_count": 37,
      "outputs": [
        {
          "output_type": "execute_result",
          "data": {
            "text/plain": [
              "        neg       pos  active  \\\n",
              "0  0.998121  0.001879       0   \n",
              "1  0.992209  0.007791       0   \n",
              "2  0.998271  0.001729       0   \n",
              "3  0.997283  0.002717       0   \n",
              "4  0.977696  0.022304       0   \n",
              "\n",
              "                                              SMILES  \n",
              "0  CCc1ccc(cc1)c2nc(no2)[C@H]3CC(=O)N(C3)c4ccc(c(...  \n",
              "1   c1cc(cc(c1)N2CCNC2=O)NC(=O)NCC3(CC3)c4ccc(cc4)Cl  \n",
              "2  CCN1C(=C([C@@H](NC1=S)c2ccc(cc2)NC(=O)Nc3ccccc...  \n",
              "3      c1ccc(c(c1)CS(=O)(=O)Nc2cccc3c2oc(=O)[nH]3)Cl  \n",
              "4  CC(C)c1ccc(cc1)[C@H](C(C)C)NC(=O)C(=O)Nc2ccc(c...  "
            ],
            "text/html": [
              "\n",
              "  <div id=\"df-fd9071bf-5edc-445a-8525-441ed90e5402\">\n",
              "    <div class=\"colab-df-container\">\n",
              "      <div>\n",
              "<style scoped>\n",
              "    .dataframe tbody tr th:only-of-type {\n",
              "        vertical-align: middle;\n",
              "    }\n",
              "\n",
              "    .dataframe tbody tr th {\n",
              "        vertical-align: top;\n",
              "    }\n",
              "\n",
              "    .dataframe thead th {\n",
              "        text-align: right;\n",
              "    }\n",
              "</style>\n",
              "<table border=\"1\" class=\"dataframe\">\n",
              "  <thead>\n",
              "    <tr style=\"text-align: right;\">\n",
              "      <th></th>\n",
              "      <th>neg</th>\n",
              "      <th>pos</th>\n",
              "      <th>active</th>\n",
              "      <th>SMILES</th>\n",
              "    </tr>\n",
              "  </thead>\n",
              "  <tbody>\n",
              "    <tr>\n",
              "      <th>0</th>\n",
              "      <td>0.998121</td>\n",
              "      <td>0.001879</td>\n",
              "      <td>0</td>\n",
              "      <td>CCc1ccc(cc1)c2nc(no2)[C@H]3CC(=O)N(C3)c4ccc(c(...</td>\n",
              "    </tr>\n",
              "    <tr>\n",
              "      <th>1</th>\n",
              "      <td>0.992209</td>\n",
              "      <td>0.007791</td>\n",
              "      <td>0</td>\n",
              "      <td>c1cc(cc(c1)N2CCNC2=O)NC(=O)NCC3(CC3)c4ccc(cc4)Cl</td>\n",
              "    </tr>\n",
              "    <tr>\n",
              "      <th>2</th>\n",
              "      <td>0.998271</td>\n",
              "      <td>0.001729</td>\n",
              "      <td>0</td>\n",
              "      <td>CCN1C(=C([C@@H](NC1=S)c2ccc(cc2)NC(=O)Nc3ccccc...</td>\n",
              "    </tr>\n",
              "    <tr>\n",
              "      <th>3</th>\n",
              "      <td>0.997283</td>\n",
              "      <td>0.002717</td>\n",
              "      <td>0</td>\n",
              "      <td>c1ccc(c(c1)CS(=O)(=O)Nc2cccc3c2oc(=O)[nH]3)Cl</td>\n",
              "    </tr>\n",
              "    <tr>\n",
              "      <th>4</th>\n",
              "      <td>0.977696</td>\n",
              "      <td>0.022304</td>\n",
              "      <td>0</td>\n",
              "      <td>CC(C)c1ccc(cc1)[C@H](C(C)C)NC(=O)C(=O)Nc2ccc(c...</td>\n",
              "    </tr>\n",
              "  </tbody>\n",
              "</table>\n",
              "</div>\n",
              "      <button class=\"colab-df-convert\" onclick=\"convertToInteractive('df-fd9071bf-5edc-445a-8525-441ed90e5402')\"\n",
              "              title=\"Convert this dataframe to an interactive table.\"\n",
              "              style=\"display:none;\">\n",
              "        \n",
              "  <svg xmlns=\"http://www.w3.org/2000/svg\" height=\"24px\"viewBox=\"0 0 24 24\"\n",
              "       width=\"24px\">\n",
              "    <path d=\"M0 0h24v24H0V0z\" fill=\"none\"/>\n",
              "    <path d=\"M18.56 5.44l.94 2.06.94-2.06 2.06-.94-2.06-.94-.94-2.06-.94 2.06-2.06.94zm-11 1L8.5 8.5l.94-2.06 2.06-.94-2.06-.94L8.5 2.5l-.94 2.06-2.06.94zm10 10l.94 2.06.94-2.06 2.06-.94-2.06-.94-.94-2.06-.94 2.06-2.06.94z\"/><path d=\"M17.41 7.96l-1.37-1.37c-.4-.4-.92-.59-1.43-.59-.52 0-1.04.2-1.43.59L10.3 9.45l-7.72 7.72c-.78.78-.78 2.05 0 2.83L4 21.41c.39.39.9.59 1.41.59.51 0 1.02-.2 1.41-.59l7.78-7.78 2.81-2.81c.8-.78.8-2.07 0-2.86zM5.41 20L4 18.59l7.72-7.72 1.47 1.35L5.41 20z\"/>\n",
              "  </svg>\n",
              "      </button>\n",
              "      \n",
              "  <style>\n",
              "    .colab-df-container {\n",
              "      display:flex;\n",
              "      flex-wrap:wrap;\n",
              "      gap: 12px;\n",
              "    }\n",
              "\n",
              "    .colab-df-convert {\n",
              "      background-color: #E8F0FE;\n",
              "      border: none;\n",
              "      border-radius: 50%;\n",
              "      cursor: pointer;\n",
              "      display: none;\n",
              "      fill: #1967D2;\n",
              "      height: 32px;\n",
              "      padding: 0 0 0 0;\n",
              "      width: 32px;\n",
              "    }\n",
              "\n",
              "    .colab-df-convert:hover {\n",
              "      background-color: #E2EBFA;\n",
              "      box-shadow: 0px 1px 2px rgba(60, 64, 67, 0.3), 0px 1px 3px 1px rgba(60, 64, 67, 0.15);\n",
              "      fill: #174EA6;\n",
              "    }\n",
              "\n",
              "    [theme=dark] .colab-df-convert {\n",
              "      background-color: #3B4455;\n",
              "      fill: #D2E3FC;\n",
              "    }\n",
              "\n",
              "    [theme=dark] .colab-df-convert:hover {\n",
              "      background-color: #434B5C;\n",
              "      box-shadow: 0px 1px 3px 1px rgba(0, 0, 0, 0.15);\n",
              "      filter: drop-shadow(0px 1px 2px rgba(0, 0, 0, 0.3));\n",
              "      fill: #FFFFFF;\n",
              "    }\n",
              "  </style>\n",
              "\n",
              "      <script>\n",
              "        const buttonEl =\n",
              "          document.querySelector('#df-fd9071bf-5edc-445a-8525-441ed90e5402 button.colab-df-convert');\n",
              "        buttonEl.style.display =\n",
              "          google.colab.kernel.accessAllowed ? 'block' : 'none';\n",
              "\n",
              "        async function convertToInteractive(key) {\n",
              "          const element = document.querySelector('#df-fd9071bf-5edc-445a-8525-441ed90e5402');\n",
              "          const dataTable =\n",
              "            await google.colab.kernel.invokeFunction('convertToInteractive',\n",
              "                                                     [key], {});\n",
              "          if (!dataTable) return;\n",
              "\n",
              "          const docLinkHtml = 'Like what you see? Visit the ' +\n",
              "            '<a target=\"_blank\" href=https://colab.research.google.com/notebooks/data_table.ipynb>data table notebook</a>'\n",
              "            + ' to learn more about interactive tables.';\n",
              "          element.innerHTML = '';\n",
              "          dataTable['output_type'] = 'display_data';\n",
              "          await google.colab.output.renderOutput(dataTable, element);\n",
              "          const docLink = document.createElement('div');\n",
              "          docLink.innerHTML = docLinkHtml;\n",
              "          element.appendChild(docLink);\n",
              "        }\n",
              "      </script>\n",
              "    </div>\n",
              "  </div>\n",
              "  "
            ]
          },
          "metadata": {},
          "execution_count": 37
        }
      ]
    },
    {
      "cell_type": "code",
      "source": [
        "pred_df.sort_values(\"pos\",ascending=False).head(25)"
      ],
      "metadata": {
        "colab": {
          "base_uri": "https://localhost:8080/",
          "height": 833
        },
        "id": "eQeH3NMoYtNQ",
        "outputId": "d0a978e3-b67e-4c6c-fe86-779ea521d8e3"
      },
      "execution_count": 38,
      "outputs": [
        {
          "output_type": "execute_result",
          "data": {
            "text/plain": [
              "          neg       pos  active  \\\n",
              "133  0.215857  0.784143       1   \n",
              "331  0.437018  0.562982       1   \n",
              "234  0.655874  0.344126       1   \n",
              "73   0.734722  0.265278       0   \n",
              "351  0.747377  0.252623       1   \n",
              "117  0.811945  0.188055       1   \n",
              "259  0.896074  0.103926       0   \n",
              "451  0.899882  0.100118       0   \n",
              "306  0.916303  0.083697       0   \n",
              "65   0.920495  0.079505       0   \n",
              "263  0.926002  0.073998       0   \n",
              "103  0.932476  0.067523       0   \n",
              "132  0.936311  0.063689       0   \n",
              "404  0.944447  0.055553       0   \n",
              "178  0.944720  0.055280       0   \n",
              "442  0.948400  0.051600       0   \n",
              "219  0.954263  0.045737       0   \n",
              "374  0.957066  0.042934       0   \n",
              "9    0.958833  0.041167       0   \n",
              "119  0.961213  0.038787       0   \n",
              "426  0.963865  0.036135       0   \n",
              "304  0.964887  0.035113       0   \n",
              "391  0.965584  0.034416       0   \n",
              "281  0.967982  0.032018       0   \n",
              "68   0.968102  0.031898       1   \n",
              "\n",
              "                                                SMILES  \n",
              "133  c1cc(cc(c1)Cl)c2cn[nH]c2c3cc([nH]c3)C(=O)NCc4c...  \n",
              "331                        c1c2c([nH]c1Br)C(=O)NCCC2=O  \n",
              "234  Cc1ccccc1Nc2ncc(c(n2)c3cc([nH]c3)C(=O)N[C@H](C...  \n",
              "73                 c1c(cc(cc1Cl)Cl)n2c3c(cn2)c(ncn3)NN  \n",
              "351  Cc1cnc(nc1c2cc([nH]c2)C(=O)N[C@H](CO)c3cccc(c3...  \n",
              "117  CC(=O)N1CCC(CC1)Nc2ncc3c(n2)-c4c(c(nn4C)C(=O)N...  \n",
              "259  c1cc(c(cc1C(F)(F)F)NC(=S)Nc2ccc3c(c2)[nH]c(=O)...  \n",
              "451  CCOc1ccccc1C(=O)NC(C(F)(F)F)(C(F)(F)F)Nc2c(c3c...  \n",
              "306                    c1c(c(cc(c1N)F)F)C(=O)N(CCO)CCO  \n",
              "65   c1cc(c(cc1NC(=O)Nc2ccc(cc2F)Oc3ccnc4c3[nH]c(=O...  \n",
              "263  c1cc(ccc1/C=N/Nc2nnc(n2N)SCC(=O)Nc3ccc(c(c3)C(...  \n",
              "103  [H]/N=c1/[nH]c(N2CCN3C[C@@H](CNCc4cccnc4)CC[C@...  \n",
              "132      c1cc(ccc1Nc2c(c(ncn2)Nc3ccc(cc3)I)N)OC(F)(F)F  \n",
              "404  Cc1nnc(n1N)S[C@@H](C)C(=O)Nc2ccc(c(c2)C(F)(F)F)Cl  \n",
              "178  c1cc(ccc1C(=O)N[C@@H]2CCCC[C@H]2C(F)(F)F)n3c(c...  \n",
              "442  CCOC(=O)c1c2c(sc1NC(=O)c3c(c4cc5c(nc4s3)CCCC5)...  \n",
              "219  CN1C(=O)N[C@@H]([C@@H]([C@]1(C(F)(F)F)O)C(=O)c...  \n",
              "374     c1ccc2c(c1)nc(s2)Nc3c(c(ncn3)Nc4cccc5c4nccc5)N  \n",
              "9    CC(C)(C)NC(=O)[C@@H](c1c2ccccc2ccc1OC)N(Cc3ccc...  \n",
              "119  c1cc(ccc1NC(=O)[C@H]2CCCN(C2)c3ccc(nn3)n4ccnc4...  \n",
              "426  c1ccc(cc1)COc2ccccc2[C@@H]3[C@@H]4CC=C[C@@H]4c...  \n",
              "304  c1ccc2c(c1)c(nc(n2)c3ccncc3)N4CCO[C@@H](C4)c5c...  \n",
              "391                  c1cc(c(cc1F)Br)Nc2cc3c(cc2N)OCCO3  \n",
              "281  CC(=C)Cn1c2c(c(=O)[nH]c1=S)[C@](C(=O)N2)(C(F)(...  \n",
              "68        Cc1c2ccc(cc2oc(=O)c1Cc3ccc(cc3)F)OC(=O)N(C)C  "
            ],
            "text/html": [
              "\n",
              "  <div id=\"df-a830ceeb-4298-44f4-b297-21521dcb6cd3\">\n",
              "    <div class=\"colab-df-container\">\n",
              "      <div>\n",
              "<style scoped>\n",
              "    .dataframe tbody tr th:only-of-type {\n",
              "        vertical-align: middle;\n",
              "    }\n",
              "\n",
              "    .dataframe tbody tr th {\n",
              "        vertical-align: top;\n",
              "    }\n",
              "\n",
              "    .dataframe thead th {\n",
              "        text-align: right;\n",
              "    }\n",
              "</style>\n",
              "<table border=\"1\" class=\"dataframe\">\n",
              "  <thead>\n",
              "    <tr style=\"text-align: right;\">\n",
              "      <th></th>\n",
              "      <th>neg</th>\n",
              "      <th>pos</th>\n",
              "      <th>active</th>\n",
              "      <th>SMILES</th>\n",
              "    </tr>\n",
              "  </thead>\n",
              "  <tbody>\n",
              "    <tr>\n",
              "      <th>133</th>\n",
              "      <td>0.215857</td>\n",
              "      <td>0.784143</td>\n",
              "      <td>1</td>\n",
              "      <td>c1cc(cc(c1)Cl)c2cn[nH]c2c3cc([nH]c3)C(=O)NCc4c...</td>\n",
              "    </tr>\n",
              "    <tr>\n",
              "      <th>331</th>\n",
              "      <td>0.437018</td>\n",
              "      <td>0.562982</td>\n",
              "      <td>1</td>\n",
              "      <td>c1c2c([nH]c1Br)C(=O)NCCC2=O</td>\n",
              "    </tr>\n",
              "    <tr>\n",
              "      <th>234</th>\n",
              "      <td>0.655874</td>\n",
              "      <td>0.344126</td>\n",
              "      <td>1</td>\n",
              "      <td>Cc1ccccc1Nc2ncc(c(n2)c3cc([nH]c3)C(=O)N[C@H](C...</td>\n",
              "    </tr>\n",
              "    <tr>\n",
              "      <th>73</th>\n",
              "      <td>0.734722</td>\n",
              "      <td>0.265278</td>\n",
              "      <td>0</td>\n",
              "      <td>c1c(cc(cc1Cl)Cl)n2c3c(cn2)c(ncn3)NN</td>\n",
              "    </tr>\n",
              "    <tr>\n",
              "      <th>351</th>\n",
              "      <td>0.747377</td>\n",
              "      <td>0.252623</td>\n",
              "      <td>1</td>\n",
              "      <td>Cc1cnc(nc1c2cc([nH]c2)C(=O)N[C@H](CO)c3cccc(c3...</td>\n",
              "    </tr>\n",
              "    <tr>\n",
              "      <th>117</th>\n",
              "      <td>0.811945</td>\n",
              "      <td>0.188055</td>\n",
              "      <td>1</td>\n",
              "      <td>CC(=O)N1CCC(CC1)Nc2ncc3c(n2)-c4c(c(nn4C)C(=O)N...</td>\n",
              "    </tr>\n",
              "    <tr>\n",
              "      <th>259</th>\n",
              "      <td>0.896074</td>\n",
              "      <td>0.103926</td>\n",
              "      <td>0</td>\n",
              "      <td>c1cc(c(cc1C(F)(F)F)NC(=S)Nc2ccc3c(c2)[nH]c(=O)...</td>\n",
              "    </tr>\n",
              "    <tr>\n",
              "      <th>451</th>\n",
              "      <td>0.899882</td>\n",
              "      <td>0.100118</td>\n",
              "      <td>0</td>\n",
              "      <td>CCOc1ccccc1C(=O)NC(C(F)(F)F)(C(F)(F)F)Nc2c(c3c...</td>\n",
              "    </tr>\n",
              "    <tr>\n",
              "      <th>306</th>\n",
              "      <td>0.916303</td>\n",
              "      <td>0.083697</td>\n",
              "      <td>0</td>\n",
              "      <td>c1c(c(cc(c1N)F)F)C(=O)N(CCO)CCO</td>\n",
              "    </tr>\n",
              "    <tr>\n",
              "      <th>65</th>\n",
              "      <td>0.920495</td>\n",
              "      <td>0.079505</td>\n",
              "      <td>0</td>\n",
              "      <td>c1cc(c(cc1NC(=O)Nc2ccc(cc2F)Oc3ccnc4c3[nH]c(=O...</td>\n",
              "    </tr>\n",
              "    <tr>\n",
              "      <th>263</th>\n",
              "      <td>0.926002</td>\n",
              "      <td>0.073998</td>\n",
              "      <td>0</td>\n",
              "      <td>c1cc(ccc1/C=N/Nc2nnc(n2N)SCC(=O)Nc3ccc(c(c3)C(...</td>\n",
              "    </tr>\n",
              "    <tr>\n",
              "      <th>103</th>\n",
              "      <td>0.932476</td>\n",
              "      <td>0.067523</td>\n",
              "      <td>0</td>\n",
              "      <td>[H]/N=c1/[nH]c(N2CCN3C[C@@H](CNCc4cccnc4)CC[C@...</td>\n",
              "    </tr>\n",
              "    <tr>\n",
              "      <th>132</th>\n",
              "      <td>0.936311</td>\n",
              "      <td>0.063689</td>\n",
              "      <td>0</td>\n",
              "      <td>c1cc(ccc1Nc2c(c(ncn2)Nc3ccc(cc3)I)N)OC(F)(F)F</td>\n",
              "    </tr>\n",
              "    <tr>\n",
              "      <th>404</th>\n",
              "      <td>0.944447</td>\n",
              "      <td>0.055553</td>\n",
              "      <td>0</td>\n",
              "      <td>Cc1nnc(n1N)S[C@@H](C)C(=O)Nc2ccc(c(c2)C(F)(F)F)Cl</td>\n",
              "    </tr>\n",
              "    <tr>\n",
              "      <th>178</th>\n",
              "      <td>0.944720</td>\n",
              "      <td>0.055280</td>\n",
              "      <td>0</td>\n",
              "      <td>c1cc(ccc1C(=O)N[C@@H]2CCCC[C@H]2C(F)(F)F)n3c(c...</td>\n",
              "    </tr>\n",
              "    <tr>\n",
              "      <th>442</th>\n",
              "      <td>0.948400</td>\n",
              "      <td>0.051600</td>\n",
              "      <td>0</td>\n",
              "      <td>CCOC(=O)c1c2c(sc1NC(=O)c3c(c4cc5c(nc4s3)CCCC5)...</td>\n",
              "    </tr>\n",
              "    <tr>\n",
              "      <th>219</th>\n",
              "      <td>0.954263</td>\n",
              "      <td>0.045737</td>\n",
              "      <td>0</td>\n",
              "      <td>CN1C(=O)N[C@@H]([C@@H]([C@]1(C(F)(F)F)O)C(=O)c...</td>\n",
              "    </tr>\n",
              "    <tr>\n",
              "      <th>374</th>\n",
              "      <td>0.957066</td>\n",
              "      <td>0.042934</td>\n",
              "      <td>0</td>\n",
              "      <td>c1ccc2c(c1)nc(s2)Nc3c(c(ncn3)Nc4cccc5c4nccc5)N</td>\n",
              "    </tr>\n",
              "    <tr>\n",
              "      <th>9</th>\n",
              "      <td>0.958833</td>\n",
              "      <td>0.041167</td>\n",
              "      <td>0</td>\n",
              "      <td>CC(C)(C)NC(=O)[C@@H](c1c2ccccc2ccc1OC)N(Cc3ccc...</td>\n",
              "    </tr>\n",
              "    <tr>\n",
              "      <th>119</th>\n",
              "      <td>0.961213</td>\n",
              "      <td>0.038787</td>\n",
              "      <td>0</td>\n",
              "      <td>c1cc(ccc1NC(=O)[C@H]2CCCN(C2)c3ccc(nn3)n4ccnc4...</td>\n",
              "    </tr>\n",
              "    <tr>\n",
              "      <th>426</th>\n",
              "      <td>0.963865</td>\n",
              "      <td>0.036135</td>\n",
              "      <td>0</td>\n",
              "      <td>c1ccc(cc1)COc2ccccc2[C@@H]3[C@@H]4CC=C[C@@H]4c...</td>\n",
              "    </tr>\n",
              "    <tr>\n",
              "      <th>304</th>\n",
              "      <td>0.964887</td>\n",
              "      <td>0.035113</td>\n",
              "      <td>0</td>\n",
              "      <td>c1ccc2c(c1)c(nc(n2)c3ccncc3)N4CCO[C@@H](C4)c5c...</td>\n",
              "    </tr>\n",
              "    <tr>\n",
              "      <th>391</th>\n",
              "      <td>0.965584</td>\n",
              "      <td>0.034416</td>\n",
              "      <td>0</td>\n",
              "      <td>c1cc(c(cc1F)Br)Nc2cc3c(cc2N)OCCO3</td>\n",
              "    </tr>\n",
              "    <tr>\n",
              "      <th>281</th>\n",
              "      <td>0.967982</td>\n",
              "      <td>0.032018</td>\n",
              "      <td>0</td>\n",
              "      <td>CC(=C)Cn1c2c(c(=O)[nH]c1=S)[C@](C(=O)N2)(C(F)(...</td>\n",
              "    </tr>\n",
              "    <tr>\n",
              "      <th>68</th>\n",
              "      <td>0.968102</td>\n",
              "      <td>0.031898</td>\n",
              "      <td>1</td>\n",
              "      <td>Cc1c2ccc(cc2oc(=O)c1Cc3ccc(cc3)F)OC(=O)N(C)C</td>\n",
              "    </tr>\n",
              "  </tbody>\n",
              "</table>\n",
              "</div>\n",
              "      <button class=\"colab-df-convert\" onclick=\"convertToInteractive('df-a830ceeb-4298-44f4-b297-21521dcb6cd3')\"\n",
              "              title=\"Convert this dataframe to an interactive table.\"\n",
              "              style=\"display:none;\">\n",
              "        \n",
              "  <svg xmlns=\"http://www.w3.org/2000/svg\" height=\"24px\"viewBox=\"0 0 24 24\"\n",
              "       width=\"24px\">\n",
              "    <path d=\"M0 0h24v24H0V0z\" fill=\"none\"/>\n",
              "    <path d=\"M18.56 5.44l.94 2.06.94-2.06 2.06-.94-2.06-.94-.94-2.06-.94 2.06-2.06.94zm-11 1L8.5 8.5l.94-2.06 2.06-.94-2.06-.94L8.5 2.5l-.94 2.06-2.06.94zm10 10l.94 2.06.94-2.06 2.06-.94-2.06-.94-.94-2.06-.94 2.06-2.06.94z\"/><path d=\"M17.41 7.96l-1.37-1.37c-.4-.4-.92-.59-1.43-.59-.52 0-1.04.2-1.43.59L10.3 9.45l-7.72 7.72c-.78.78-.78 2.05 0 2.83L4 21.41c.39.39.9.59 1.41.59.51 0 1.02-.2 1.41-.59l7.78-7.78 2.81-2.81c.8-.78.8-2.07 0-2.86zM5.41 20L4 18.59l7.72-7.72 1.47 1.35L5.41 20z\"/>\n",
              "  </svg>\n",
              "      </button>\n",
              "      \n",
              "  <style>\n",
              "    .colab-df-container {\n",
              "      display:flex;\n",
              "      flex-wrap:wrap;\n",
              "      gap: 12px;\n",
              "    }\n",
              "\n",
              "    .colab-df-convert {\n",
              "      background-color: #E8F0FE;\n",
              "      border: none;\n",
              "      border-radius: 50%;\n",
              "      cursor: pointer;\n",
              "      display: none;\n",
              "      fill: #1967D2;\n",
              "      height: 32px;\n",
              "      padding: 0 0 0 0;\n",
              "      width: 32px;\n",
              "    }\n",
              "\n",
              "    .colab-df-convert:hover {\n",
              "      background-color: #E2EBFA;\n",
              "      box-shadow: 0px 1px 2px rgba(60, 64, 67, 0.3), 0px 1px 3px 1px rgba(60, 64, 67, 0.15);\n",
              "      fill: #174EA6;\n",
              "    }\n",
              "\n",
              "    [theme=dark] .colab-df-convert {\n",
              "      background-color: #3B4455;\n",
              "      fill: #D2E3FC;\n",
              "    }\n",
              "\n",
              "    [theme=dark] .colab-df-convert:hover {\n",
              "      background-color: #434B5C;\n",
              "      box-shadow: 0px 1px 3px 1px rgba(0, 0, 0, 0.15);\n",
              "      filter: drop-shadow(0px 1px 2px rgba(0, 0, 0, 0.3));\n",
              "      fill: #FFFFFF;\n",
              "    }\n",
              "  </style>\n",
              "\n",
              "      <script>\n",
              "        const buttonEl =\n",
              "          document.querySelector('#df-a830ceeb-4298-44f4-b297-21521dcb6cd3 button.colab-df-convert');\n",
              "        buttonEl.style.display =\n",
              "          google.colab.kernel.accessAllowed ? 'block' : 'none';\n",
              "\n",
              "        async function convertToInteractive(key) {\n",
              "          const element = document.querySelector('#df-a830ceeb-4298-44f4-b297-21521dcb6cd3');\n",
              "          const dataTable =\n",
              "            await google.colab.kernel.invokeFunction('convertToInteractive',\n",
              "                                                     [key], {});\n",
              "          if (!dataTable) return;\n",
              "\n",
              "          const docLinkHtml = 'Like what you see? Visit the ' +\n",
              "            '<a target=\"_blank\" href=https://colab.research.google.com/notebooks/data_table.ipynb>data table notebook</a>'\n",
              "            + ' to learn more about interactive tables.';\n",
              "          element.innerHTML = '';\n",
              "          dataTable['output_type'] = 'display_data';\n",
              "          await google.colab.output.renderOutput(dataTable, element);\n",
              "          const docLink = document.createElement('div');\n",
              "          docLink.innerHTML = docLinkHtml;\n",
              "          element.appendChild(docLink);\n",
              "        }\n",
              "      </script>\n",
              "    </div>\n",
              "  </div>\n",
              "  "
            ]
          },
          "metadata": {},
          "execution_count": 38
        }
      ]
    },
    {
      "cell_type": "code",
      "source": [
        "sns.boxplot(x=pred_df.active,y=pred_df.pos)"
      ],
      "metadata": {
        "colab": {
          "base_uri": "https://localhost:8080/",
          "height": 296
        },
        "id": "GbTfMSWWYwEI",
        "outputId": "7a379615-e981-403e-bfdf-fa754022bb0d"
      },
      "execution_count": 39,
      "outputs": [
        {
          "output_type": "execute_result",
          "data": {
            "text/plain": [
              "<matplotlib.axes._subplots.AxesSubplot at 0x7f161d007cd0>"
            ]
          },
          "metadata": {},
          "execution_count": 39
        },
        {
          "output_type": "display_data",
          "data": {
            "text/plain": [
              "<Figure size 432x288 with 1 Axes>"
            ],
            "image/png": "[encoded data removed]"
          },
          "metadata": {
            "image/png": {
              "width": 385,
              "height": 261
            },
            "needs_background": "light"
          }
        }
      ]
    },
    {
      "cell_type": "code",
      "source": [
        "false_negative_df = pred_df.query(\"active == 1 & pos < 0.5\").copy()"
      ],
      "metadata": {
        "id": "ptnL5l9WYx9Z"
      },
      "execution_count": 40,
      "outputs": []
    },
    {
      "cell_type": "code",
      "source": [
        "PandasTools.AddMoleculeColumnToFrame(false_negative_df,\"SMILES\",\"Mol\")\n",
        "false_negative_df"
      ],
      "metadata": {
        "colab": {
          "base_uri": "https://localhost:8080/",
          "height": 905
        },
        "id": "ioZgYaMWYz_P",
        "outputId": "a391f36c-50b2-4880-9fcb-0d4c9a8c4819"
      },
      "execution_count": 41,
      "outputs": [
        {
          "output_type": "execute_result",
          "data": {
            "text/plain": [
              "          neg       pos  active  \\\n",
              "68   0.968102  0.031898       1   \n",
              "117  0.811945  0.188055       1   \n",
              "234  0.655874  0.344126       1   \n",
              "351  0.747377  0.252623       1   \n",
              "\n",
              "                                                SMILES  \\\n",
              "68        Cc1c2ccc(cc2oc(=O)c1Cc3ccc(cc3)F)OC(=O)N(C)C   \n",
              "117  CC(=O)N1CCC(CC1)Nc2ncc3c(n2)-c4c(c(nn4C)C(=O)N...   \n",
              "234  Cc1ccccc1Nc2ncc(c(n2)c3cc([nH]c3)C(=O)N[C@H](C...   \n",
              "351  Cc1cnc(nc1c2cc([nH]c2)C(=O)N[C@H](CO)c3cccc(c3...   \n",
              "\n",
              "                                                  Mol  \n",
              "68   <rdkit.Chem.rdchem.Mol object at 0x7f1612fab580>  \n",
              "117  <rdkit.Chem.rdchem.Mol object at 0x7f16121cdb70>  \n",
              "234  <rdkit.Chem.rdchem.Mol object at 0x7f16121cdc60>  \n",
              "351  <rdkit.Chem.rdchem.Mol object at 0x7f1613806d50>  "
            ],
            "text/html": [
              "\n",
              "  <div id=\"df-fd4e2adb-e9e5-4eb2-98c1-72fbe356d3d2\">\n",
              "    <div class=\"colab-df-container\">\n",
              "      <div>\n",
              "<style scoped>\n",
              "    .dataframe tbody tr th:only-of-type {\n",
              "        vertical-align: middle;\n",
              "    }\n",
              "\n",
              "    .dataframe tbody tr th {\n",
              "        vertical-align: top;\n",
              "    }\n",
              "\n",
              "    .dataframe thead th {\n",
              "        text-align: right;\n",
              "    }\n",
              "</style>\n",
              "<table border=\"1\" class=\"dataframe\">\n",
              "  <thead>\n",
              "    <tr style=\"text-align: right;\">\n",
              "      <th></th>\n",
              "      <th>neg</th>\n",
              "      <th>pos</th>\n",
              "      <th>active</th>\n",
              "      <th>SMILES</th>\n",
              "      <th>Mol</th>\n",
              "    </tr>\n",
              "  </thead>\n",
              "  <tbody>\n",
              "    <tr>\n",
              "      <th>68</th>\n",
              "      <td>0.968102</td>\n",
              "      <td>0.031898</td>\n",
              "      <td>1</td>\n",
              "      <td>Cc1c2ccc(cc2oc(=O)c1Cc3ccc(cc3)F)OC(=O)N(C)C</td>\n",
              "      <td style=\"text-align: center;\"><div style=\"width: 200px; height: 200px\" data-content=\"rdkit/molecule\"><img src=\"data:image/png;base64,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\" alt=\"Mol\"/></div></td>\n",
              "    </tr>\n",
              "    <tr>\n",
              "      <th>117</th>\n",
              "      <td>0.811945</td>\n",
              "      <td>0.188055</td>\n",
              "      <td>1</td>\n",
              "      <td>CC(=O)N1CCC(CC1)Nc2ncc3c(n2)-c4c(c(nn4C)C(=O)N...</td>\n",
              "      <td style=\"text-align: center;\"><div style=\"width: 200px; height: 200px\" data-content=\"rdkit/molecule\"><img src=\"data:image/png;base64,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\" alt=\"Mol\"/></div></td>\n",
              "    </tr>\n",
              "    <tr>\n",
              "      <th>234</th>\n",
              "      <td>0.655874</td>\n",
              "      <td>0.344126</td>\n",
              "      <td>1</td>\n",
              "      <td>Cc1ccccc1Nc2ncc(c(n2)c3cc([nH]c3)C(=O)N[C@H](C...</td>\n",
              "      <td style=\"text-align: center;\"><div style=\"width: 200px; height: 200px\" data-content=\"rdkit/molecule\"><img src=\"data:image/png;base64,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\" alt=\"Mol\"/></div></td>\n",
              "    </tr>\n",
              "    <tr>\n",
              "      <th>351</th>\n",
              "      <td>0.747377</td>\n",
              "      <td>0.252623</td>\n",
              "      <td>1</td>\n",
              "      <td>Cc1cnc(nc1c2cc([nH]c2)C(=O)N[C@H](CO)c3cccc(c3...</td>\n",
              "      <td style=\"text-align: center;\"><div style=\"width: 200px; height: 200px\" data-content=\"rdkit/molecule\"><img src=\"data:image/png;base64,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\" alt=\"Mol\"/></div></td>\n",
              "    </tr>\n",
              "  </tbody>\n",
              "</table>\n",
              "</div>\n",
              "      <button class=\"colab-df-convert\" onclick=\"convertToInteractive('df-fd4e2adb-e9e5-4eb2-98c1-72fbe356d3d2')\"\n",
              "              title=\"Convert this dataframe to an interactive table.\"\n",
              "              style=\"display:none;\">\n",
              "        \n",
              "  <svg xmlns=\"http://www.w3.org/2000/svg\" height=\"24px\"viewBox=\"0 0 24 24\"\n",
              "       width=\"24px\">\n",
              "    <path d=\"M0 0h24v24H0V0z\" fill=\"none\"/>\n",
              "    <path d=\"M18.56 5.44l.94 2.06.94-2.06 2.06-.94-2.06-.94-.94-2.06-.94 2.06-2.06.94zm-11 1L8.5 8.5l.94-2.06 2.06-.94-2.06-.94L8.5 2.5l-.94 2.06-2.06.94zm10 10l.94 2.06.94-2.06 2.06-.94-2.06-.94-.94-2.06-.94 2.06-2.06.94z\"/><path d=\"M17.41 7.96l-1.37-1.37c-.4-.4-.92-.59-1.43-.59-.52 0-1.04.2-1.43.59L10.3 9.45l-7.72 7.72c-.78.78-.78 2.05 0 2.83L4 21.41c.39.39.9.59 1.41.59.51 0 1.02-.2 1.41-.59l7.78-7.78 2.81-2.81c.8-.78.8-2.07 0-2.86zM5.41 20L4 18.59l7.72-7.72 1.47 1.35L5.41 20z\"/>\n",
              "  </svg>\n",
              "      </button>\n",
              "      \n",
              "  <style>\n",
              "    .colab-df-container {\n",
              "      display:flex;\n",
              "      flex-wrap:wrap;\n",
              "      gap: 12px;\n",
              "    }\n",
              "\n",
              "    .colab-df-convert {\n",
              "      background-color: #E8F0FE;\n",
              "      border: none;\n",
              "      border-radius: 50%;\n",
              "      cursor: pointer;\n",
              "      display: none;\n",
              "      fill: #1967D2;\n",
              "      height: 32px;\n",
              "      padding: 0 0 0 0;\n",
              "      width: 32px;\n",
              "    }\n",
              "\n",
              "    .colab-df-convert:hover {\n",
              "      background-color: #E2EBFA;\n",
              "      box-shadow: 0px 1px 2px rgba(60, 64, 67, 0.3), 0px 1px 3px 1px rgba(60, 64, 67, 0.15);\n",
              "      fill: #174EA6;\n",
              "    }\n",
              "\n",
              "    [theme=dark] .colab-df-convert {\n",
              "      background-color: #3B4455;\n",
              "      fill: #D2E3FC;\n",
              "    }\n",
              "\n",
              "    [theme=dark] .colab-df-convert:hover {\n",
              "      background-color: #434B5C;\n",
              "      box-shadow: 0px 1px 3px 1px rgba(0, 0, 0, 0.15);\n",
              "      filter: drop-shadow(0px 1px 2px rgba(0, 0, 0, 0.3));\n",
              "      fill: #FFFFFF;\n",
              "    }\n",
              "  </style>\n",
              "\n",
              "      <script>\n",
              "        const buttonEl =\n",
              "          document.querySelector('#df-fd4e2adb-e9e5-4eb2-98c1-72fbe356d3d2 button.colab-df-convert');\n",
              "        buttonEl.style.display =\n",
              "          google.colab.kernel.accessAllowed ? 'block' : 'none';\n",
              "\n",
              "        async function convertToInteractive(key) {\n",
              "          const element = document.querySelector('#df-fd4e2adb-e9e5-4eb2-98c1-72fbe356d3d2');\n",
              "          const dataTable =\n",
              "            await google.colab.kernel.invokeFunction('convertToInteractive',\n",
              "                                                     [key], {});\n",
              "          if (!dataTable) return;\n",
              "\n",
              "          const docLinkHtml = 'Like what you see? Visit the ' +\n",
              "            '<a target=\"_blank\" href=https://colab.research.google.com/notebooks/data_table.ipynb>data table notebook</a>'\n",
              "            + ' to learn more about interactive tables.';\n",
              "          element.innerHTML = '';\n",
              "          dataTable['output_type'] = 'display_data';\n",
              "          await google.colab.output.renderOutput(dataTable, element);\n",
              "          const docLink = document.createElement('div');\n",
              "          docLink.innerHTML = docLinkHtml;\n",
              "          element.appendChild(docLink);\n",
              "        }\n",
              "      </script>\n",
              "    </div>\n",
              "  </div>\n",
              "  "
            ]
          },
          "metadata": {},
          "execution_count": 41
        }
      ]
    },
    {
      "cell_type": "code",
      "source": [
        "false_positive_df = pred_df.query(\"active == 0 & pos > 0.5\").copy()\n",
        "PandasTools.AddMoleculeColumnToFrame(false_positive_df,\"SMILES\",\"Mol\")\n",
        "false_positive_df"
      ],
      "metadata": {
        "colab": {
          "base_uri": "https://localhost:8080/",
          "height": 49
        },
        "id": "vTqsuueYY14e",
        "outputId": "81bb972c-577b-40ef-b2be-b2c67879f092"
      },
      "execution_count": 42,
      "outputs": [
        {
          "output_type": "execute_result",
          "data": {
            "text/plain": [
              "Empty DataFrame\n",
              "Columns: [neg, pos, active, SMILES, Mol]\n",
              "Index: []"
            ],
            "text/html": [
              "\n",
              "  <div id=\"df-4e8c3037-0d0a-43bb-9b99-45f41c240d12\">\n",
              "    <div class=\"colab-df-container\">\n",
              "      <div>\n",
              "<style scoped>\n",
              "    .dataframe tbody tr th:only-of-type {\n",
              "        vertical-align: middle;\n",
              "    }\n",
              "\n",
              "    .dataframe tbody tr th {\n",
              "        vertical-align: top;\n",
              "    }\n",
              "\n",
              "    .dataframe thead th {\n",
              "        text-align: right;\n",
              "    }\n",
              "</style>\n",
              "<table border=\"1\" class=\"dataframe\">\n",
              "  <thead>\n",
              "    <tr style=\"text-align: right;\">\n",
              "      <th></th>\n",
              "      <th>neg</th>\n",
              "      <th>pos</th>\n",
              "      <th>active</th>\n",
              "      <th>SMILES</th>\n",
              "      <th>Mol</th>\n",
              "    </tr>\n",
              "  </thead>\n",
              "  <tbody>\n",
              "  </tbody>\n",
              "</table>\n",
              "</div>\n",
              "      <button class=\"colab-df-convert\" onclick=\"convertToInteractive('df-4e8c3037-0d0a-43bb-9b99-45f41c240d12')\"\n",
              "              title=\"Convert this dataframe to an interactive table.\"\n",
              "              style=\"display:none;\">\n",
              "        \n",
              "  <svg xmlns=\"http://www.w3.org/2000/svg\" height=\"24px\"viewBox=\"0 0 24 24\"\n",
              "       width=\"24px\">\n",
              "    <path d=\"M0 0h24v24H0V0z\" fill=\"none\"/>\n",
              "    <path d=\"M18.56 5.44l.94 2.06.94-2.06 2.06-.94-2.06-.94-.94-2.06-.94 2.06-2.06.94zm-11 1L8.5 8.5l.94-2.06 2.06-.94-2.06-.94L8.5 2.5l-.94 2.06-2.06.94zm10 10l.94 2.06.94-2.06 2.06-.94-2.06-.94-.94-2.06-.94 2.06-2.06.94z\"/><path d=\"M17.41 7.96l-1.37-1.37c-.4-.4-.92-.59-1.43-.59-.52 0-1.04.2-1.43.59L10.3 9.45l-7.72 7.72c-.78.78-.78 2.05 0 2.83L4 21.41c.39.39.9.59 1.41.59.51 0 1.02-.2 1.41-.59l7.78-7.78 2.81-2.81c.8-.78.8-2.07 0-2.86zM5.41 20L4 18.59l7.72-7.72 1.47 1.35L5.41 20z\"/>\n",
              "  </svg>\n",
              "      </button>\n",
              "      \n",
              "  <style>\n",
              "    .colab-df-container {\n",
              "      display:flex;\n",
              "      flex-wrap:wrap;\n",
              "      gap: 12px;\n",
              "    }\n",
              "\n",
              "    .colab-df-convert {\n",
              "      background-color: #E8F0FE;\n",
              "      border: none;\n",
              "      border-radius: 50%;\n",
              "      cursor: pointer;\n",
              "      display: none;\n",
              "      fill: #1967D2;\n",
              "      height: 32px;\n",
              "      padding: 0 0 0 0;\n",
              "      width: 32px;\n",
              "    }\n",
              "\n",
              "    .colab-df-convert:hover {\n",
              "      background-color: #E2EBFA;\n",
              "      box-shadow: 0px 1px 2px rgba(60, 64, 67, 0.3), 0px 1px 3px 1px rgba(60, 64, 67, 0.15);\n",
              "      fill: #174EA6;\n",
              "    }\n",
              "\n",
              "    [theme=dark] .colab-df-convert {\n",
              "      background-color: #3B4455;\n",
              "      fill: #D2E3FC;\n",
              "    }\n",
              "\n",
              "    [theme=dark] .colab-df-convert:hover {\n",
              "      background-color: #434B5C;\n",
              "      box-shadow: 0px 1px 3px 1px rgba(0, 0, 0, 0.15);\n",
              "      filter: drop-shadow(0px 1px 2px rgba(0, 0, 0, 0.3));\n",
              "      fill: #FFFFFF;\n",
              "    }\n",
              "  </style>\n",
              "\n",
              "      <script>\n",
              "        const buttonEl =\n",
              "          document.querySelector('#df-4e8c3037-0d0a-43bb-9b99-45f41c240d12 button.colab-df-convert');\n",
              "        buttonEl.style.display =\n",
              "          google.colab.kernel.accessAllowed ? 'block' : 'none';\n",
              "\n",
              "        async function convertToInteractive(key) {\n",
              "          const element = document.querySelector('#df-4e8c3037-0d0a-43bb-9b99-45f41c240d12');\n",
              "          const dataTable =\n",
              "            await google.colab.kernel.invokeFunction('convertToInteractive',\n",
              "                                                     [key], {});\n",
              "          if (!dataTable) return;\n",
              "\n",
              "          const docLinkHtml = 'Like what you see? Visit the ' +\n",
              "            '<a target=\"_blank\" href=https://colab.research.google.com/notebooks/data_table.ipynb>data table notebook</a>'\n",
              "            + ' to learn more about interactive tables.';\n",
              "          element.innerHTML = '';\n",
              "          dataTable['output_type'] = 'display_data';\n",
              "          await google.colab.output.renderOutput(dataTable, element);\n",
              "          const docLink = document.createElement('div');\n",
              "          docLink.innerHTML = docLinkHtml;\n",
              "          element.appendChild(docLink);\n",
              "        }\n",
              "      </script>\n",
              "    </div>\n",
              "  </div>\n",
              "  "
            ]
          },
          "metadata": {},
          "execution_count": 42
        }
      ]
    },
    {
      "cell_type": "code",
      "source": [
        "model.fit(dataset)"
      ],
      "metadata": {
        "colab": {
          "base_uri": "https://localhost:8080/"
        },
        "id": "iyYMUZirY5Hn",
        "outputId": "4cfe0e0e-64e6-4180-832f-3141d0abad7b"
      },
      "execution_count": 43,
      "outputs": [
        {
          "output_type": "execute_result",
          "data": {
            "text/plain": [
              "0.0009637546415130297"
            ]
          },
          "metadata": {},
          "execution_count": 43
        }
      ]
    },
    {
      "cell_type": "code",
      "source": [
        "%cd /content"
      ],
      "metadata": {
        "colab": {
          "base_uri": "https://localhost:8080/"
        },
        "id": "ARp_KNNUZIYW",
        "outputId": "59d77798-fc39-4318-d2ce-1fc6dc9ae980"
      },
      "execution_count": 44,
      "outputs": [
        {
          "output_type": "stream",
          "name": "stdout",
          "text": [
            "/content\n"
          ]
        }
      ]
    },
    {
      "cell_type": "code",
      "source": [
        "!pip install git+https://github.com/PatWalters/rd_filters.git"
      ],
      "metadata": {
        "colab": {
          "base_uri": "https://localhost:8080/"
        },
        "id": "TsyV-eCJZdhx",
        "outputId": "4975b324-e597-4250-c480-5eb59a67c2c5"
      },
      "execution_count": 45,
      "outputs": [
        {
          "output_type": "stream",
          "name": "stdout",
          "text": [
            "Looking in indexes: https://pypi.org/simple, https://us-python.pkg.dev/colab-wheels/public/simple/\n",
            "Collecting git+https://github.com/PatWalters/rd_filters.git\n",
            "  Cloning https://github.com/PatWalters/rd_filters.git to /tmp/pip-req-build-kzn3i9nz\n",
            "  Running command git clone -q https://github.com/PatWalters/rd_filters.git /tmp/pip-req-build-kzn3i9nz\n",
            "Requirement already satisfied: pandas in /usr/local/lib/python3.7/dist-packages (from rd-filters==0.1) (1.3.5)\n",
            "Collecting docopt\n",
            "  Downloading docopt-0.6.2.tar.gz (25 kB)\n",
            "Requirement already satisfied: python-dateutil>=2.7.3 in /usr/local/lib/python3.7/dist-packages (from pandas->rd-filters==0.1) (2.8.2)\n",
            "Requirement already satisfied: pytz>=2017.3 in /usr/local/lib/python3.7/dist-packages (from pandas->rd-filters==0.1) (2022.6)\n",
            "Requirement already satisfied: numpy>=1.17.3 in /usr/local/lib/python3.7/dist-packages (from pandas->rd-filters==0.1) (1.21.6)\n",
            "Requirement already satisfied: six>=1.5 in /usr/local/lib/python3.7/dist-packages (from python-dateutil>=2.7.3->pandas->rd-filters==0.1) (1.15.0)\n",
            "Building wheels for collected packages: rd-filters, docopt\n",
            "  Building wheel for rd-filters (setup.py) ... \u001b[?25l\u001b[?25hdone\n",
            "  Created wheel for rd-filters: filename=rd_filters-0.1-py3-none-any.whl size=33803 sha256=dff55c89f56c7842dd2110471841987950d74236c22ca25f97d85c4b58ac99d6\n",
            "  Stored in directory: /tmp/pip-ephem-wheel-cache-zy7ziqgl/wheels/18/23/0c/f8d3c66d34f5ee86ae3992e1fdd45c94223ee21fcde6f01192\n",
            "  Building wheel for docopt (setup.py) ... \u001b[?25l\u001b[?25hdone\n",
            "  Created wheel for docopt: filename=docopt-0.6.2-py2.py3-none-any.whl size=13723 sha256=999164b29b00ee14b4083e337e98c48144dc095fac667068316b74647d0066cb\n",
            "  Stored in directory: /root/.cache/pip/wheels/72/b0/3f/1d95f96ff986c7dfffe46ce2be4062f38ebd04b506c77c81b9\n",
            "Successfully built rd-filters docopt\n",
            "Installing collected packages: docopt, rd-filters\n",
            "Successfully installed docopt-0.6.2 rd-filters-0.1\n"
          ]
        }
      ]
    },
    {
      "cell_type": "code",
      "source": [
        "# rd_filters.py  ChEMBL database로부터 "
      ],
      "metadata": {
        "id": "ls2w4OjvZgNb"
      },
      "execution_count": 46,
      "outputs": []
    },
    {
      "cell_type": "code",
      "source": [
        "# 사용법 안내\n",
        "!rd_filters -h"
      ],
      "metadata": {
        "colab": {
          "base_uri": "https://localhost:8080/"
        },
        "id": "-LID3IIHaTLM",
        "outputId": "ce1848ac-7328-4e75-a379-36512c2a8507"
      },
      "execution_count": 47,
      "outputs": [
        {
          "output_type": "stream",
          "name": "stdout",
          "text": [
            "Usage:\n",
            "rd_filters filter --in INPUT_FILE --prefix PREFIX [--rules RULES_FILE_NAME] [--alerts ALERT_FILE_NAME][--np NUM_CORES]\n",
            "rd_filters template --out TEMPLATE_FILE [--rules RULES_FILE_NAME]\n",
            "\n",
            "Options:\n",
            "--in INPUT_FILE input file name\n",
            "--prefix PREFIX prefix for output file names\n",
            "--rules RULES_FILE_NAME name of the rules JSON file\n",
            "--alerts ALERTS_FILE_NAME name of the structural alerts file\n",
            "--np NUM_CORES the number of cpu cores to use (default is all)\n",
            "--out TEMPLATE_FILE parameter template file name\n"
          ]
        }
      ]
    },
    {
      "cell_type": "code",
      "source": [
        "!curl -o zinc_100k.smi https://raw.githubusercontent.com/deepchem/DeepLearningLifeSciences/master/Chapter11/zinc_100k.smi"
      ],
      "metadata": {
        "colab": {
          "base_uri": "https://localhost:8080/"
        },
        "id": "V-OnieQvaThB",
        "outputId": "9063f7ec-a38e-442a-d8b8-d943f463f0e5"
      },
      "execution_count": 48,
      "outputs": [
        {
          "output_type": "stream",
          "name": "stdout",
          "text": [
            "  % Total    % Received % Xferd  Average Speed   Time    Time     Time  Current\n",
            "                                 Dload  Upload   Total   Spent    Left  Speed\n",
            "100 6159k  100 6159k    0     0  24.4M      0 --:--:-- --:--:-- --:--:-- 24.4M\n"
          ]
        }
      ]
    },
    {
      "cell_type": "code",
      "source": [
        "!rd_filters filter --in zinc_100k.smi --prefix zinc"
      ],
      "metadata": {
        "colab": {
          "base_uri": "https://localhost:8080/"
        },
        "id": "tLH0CU7ZaW26",
        "outputId": "00911c61-feb0-4ead-da56-f6271073e75e"
      },
      "execution_count": 49,
      "outputs": [
        {
          "output_type": "stream",
          "name": "stdout",
          "text": [
            "using 2 cores\n",
            "Using alerts from Inpharmatica\n",
            "Wrote SMILES for molecules passing filters to zinc.smi\n",
            "Wrote detailed data to zinc.csv\n",
            "68410 of 100000 passed filters 68.4%\n",
            "Elapsed time 83.75 seconds\n"
          ]
        }
      ]
    },
    {
      "cell_type": "code",
      "source": [
        "df = pd.read_csv(\"zinc.csv\")\n",
        "df.head()"
      ],
      "metadata": {
        "colab": {
          "base_uri": "https://localhost:8080/",
          "height": 206
        },
        "id": "-cVQToy0aazZ",
        "outputId": "67ff7a75-3349-4462-f4a0-edd6512361a3"
      },
      "execution_count": 50,
      "outputs": [
        {
          "output_type": "execute_result",
          "data": {
            "text/plain": [
              "                                              SMILES              NAME  \\\n",
              "0        CN(CCO)C[C@@H](O)Cn1cnc2c1c(=O)n(C)c(=O)n2C  ZINC000000000843   \n",
              "1  O=c1[nH]c(=O)n([C@@H]2C[C@@H](O)[C@H](CO)O2)cc1Br  ZINC000000001063   \n",
              "2            Cn1c2ncn(CC(=O)N3CCOCC3)c2c(=O)n(C)c1=O  ZINC000000003942   \n",
              "3        CN1C(=O)C[C@H](N2CCN(C(=O)CN3CCCC3)CC2)C1=O  ZINC000000036436   \n",
              "4  CC(=O)NC[C@H](O)[C@H]1O[C@H]2OC(C)(C)O[C@H]2[C...  ZINC000000041101   \n",
              "\n",
              "                    FILTER       MW    LogP  HBD  HBA    TPSA  Rot  \n",
              "0  Filter82_pyridinium > 0  311.342 -2.2813    2    9  105.52    6  \n",
              "1        Filter9_metal > 0  307.100 -1.0602    3    6  104.55    2  \n",
              "2  Filter82_pyridinium > 0  307.310 -1.7075    0    8   91.36    2  \n",
              "3                       OK  308.382 -1.0163    0    5   64.17    3  \n",
              "4                       OK  302.327 -1.1355    3    6  106.12    4  "
            ],
            "text/html": [
              "\n",
              "  <div id=\"df-c8718b90-68b0-4132-924a-a39266cd3fa5\">\n",
              "    <div class=\"colab-df-container\">\n",
              "      <div>\n",
              "<style scoped>\n",
              "    .dataframe tbody tr th:only-of-type {\n",
              "        vertical-align: middle;\n",
              "    }\n",
              "\n",
              "    .dataframe tbody tr th {\n",
              "        vertical-align: top;\n",
              "    }\n",
              "\n",
              "    .dataframe thead th {\n",
              "        text-align: right;\n",
              "    }\n",
              "</style>\n",
              "<table border=\"1\" class=\"dataframe\">\n",
              "  <thead>\n",
              "    <tr style=\"text-align: right;\">\n",
              "      <th></th>\n",
              "      <th>SMILES</th>\n",
              "      <th>NAME</th>\n",
              "      <th>FILTER</th>\n",
              "      <th>MW</th>\n",
              "      <th>LogP</th>\n",
              "      <th>HBD</th>\n",
              "      <th>HBA</th>\n",
              "      <th>TPSA</th>\n",
              "      <th>Rot</th>\n",
              "    </tr>\n",
              "  </thead>\n",
              "  <tbody>\n",
              "    <tr>\n",
              "      <th>0</th>\n",
              "      <td>CN(CCO)C[C@@H](O)Cn1cnc2c1c(=O)n(C)c(=O)n2C</td>\n",
              "      <td>ZINC000000000843</td>\n",
              "      <td>Filter82_pyridinium &gt; 0</td>\n",
              "      <td>311.342</td>\n",
              "      <td>-2.2813</td>\n",
              "      <td>2</td>\n",
              "      <td>9</td>\n",
              "      <td>105.52</td>\n",
              "      <td>6</td>\n",
              "    </tr>\n",
              "    <tr>\n",
              "      <th>1</th>\n",
              "      <td>O=c1[nH]c(=O)n([C@@H]2C[C@@H](O)[C@H](CO)O2)cc1Br</td>\n",
              "      <td>ZINC000000001063</td>\n",
              "      <td>Filter9_metal &gt; 0</td>\n",
              "      <td>307.100</td>\n",
              "      <td>-1.0602</td>\n",
              "      <td>3</td>\n",
              "      <td>6</td>\n",
              "      <td>104.55</td>\n",
              "      <td>2</td>\n",
              "    </tr>\n",
              "    <tr>\n",
              "      <th>2</th>\n",
              "      <td>Cn1c2ncn(CC(=O)N3CCOCC3)c2c(=O)n(C)c1=O</td>\n",
              "      <td>ZINC000000003942</td>\n",
              "      <td>Filter82_pyridinium &gt; 0</td>\n",
              "      <td>307.310</td>\n",
              "      <td>-1.7075</td>\n",
              "      <td>0</td>\n",
              "      <td>8</td>\n",
              "      <td>91.36</td>\n",
              "      <td>2</td>\n",
              "    </tr>\n",
              "    <tr>\n",
              "      <th>3</th>\n",
              "      <td>CN1C(=O)C[C@H](N2CCN(C(=O)CN3CCCC3)CC2)C1=O</td>\n",
              "      <td>ZINC000000036436</td>\n",
              "      <td>OK</td>\n",
              "      <td>308.382</td>\n",
              "      <td>-1.0163</td>\n",
              "      <td>0</td>\n",
              "      <td>5</td>\n",
              "      <td>64.17</td>\n",
              "      <td>3</td>\n",
              "    </tr>\n",
              "    <tr>\n",
              "      <th>4</th>\n",
              "      <td>CC(=O)NC[C@H](O)[C@H]1O[C@H]2OC(C)(C)O[C@H]2[C...</td>\n",
              "      <td>ZINC000000041101</td>\n",
              "      <td>OK</td>\n",
              "      <td>302.327</td>\n",
              "      <td>-1.1355</td>\n",
              "      <td>3</td>\n",
              "      <td>6</td>\n",
              "      <td>106.12</td>\n",
              "      <td>4</td>\n",
              "    </tr>\n",
              "  </tbody>\n",
              "</table>\n",
              "</div>\n",
              "      <button class=\"colab-df-convert\" onclick=\"convertToInteractive('df-c8718b90-68b0-4132-924a-a39266cd3fa5')\"\n",
              "              title=\"Convert this dataframe to an interactive table.\"\n",
              "              style=\"display:none;\">\n",
              "        \n",
              "  <svg xmlns=\"http://www.w3.org/2000/svg\" height=\"24px\"viewBox=\"0 0 24 24\"\n",
              "       width=\"24px\">\n",
              "    <path d=\"M0 0h24v24H0V0z\" fill=\"none\"/>\n",
              "    <path d=\"M18.56 5.44l.94 2.06.94-2.06 2.06-.94-2.06-.94-.94-2.06-.94 2.06-2.06.94zm-11 1L8.5 8.5l.94-2.06 2.06-.94-2.06-.94L8.5 2.5l-.94 2.06-2.06.94zm10 10l.94 2.06.94-2.06 2.06-.94-2.06-.94-.94-2.06-.94 2.06-2.06.94z\"/><path d=\"M17.41 7.96l-1.37-1.37c-.4-.4-.92-.59-1.43-.59-.52 0-1.04.2-1.43.59L10.3 9.45l-7.72 7.72c-.78.78-.78 2.05 0 2.83L4 21.41c.39.39.9.59 1.41.59.51 0 1.02-.2 1.41-.59l7.78-7.78 2.81-2.81c.8-.78.8-2.07 0-2.86zM5.41 20L4 18.59l7.72-7.72 1.47 1.35L5.41 20z\"/>\n",
              "  </svg>\n",
              "      </button>\n",
              "      \n",
              "  <style>\n",
              "    .colab-df-container {\n",
              "      display:flex;\n",
              "      flex-wrap:wrap;\n",
              "      gap: 12px;\n",
              "    }\n",
              "\n",
              "    .colab-df-convert {\n",
              "      background-color: #E8F0FE;\n",
              "      border: none;\n",
              "      border-radius: 50%;\n",
              "      cursor: pointer;\n",
              "      display: none;\n",
              "      fill: #1967D2;\n",
              "      height: 32px;\n",
              "      padding: 0 0 0 0;\n",
              "      width: 32px;\n",
              "    }\n",
              "\n",
              "    .colab-df-convert:hover {\n",
              "      background-color: #E2EBFA;\n",
              "      box-shadow: 0px 1px 2px rgba(60, 64, 67, 0.3), 0px 1px 3px 1px rgba(60, 64, 67, 0.15);\n",
              "      fill: #174EA6;\n",
              "    }\n",
              "\n",
              "    [theme=dark] .colab-df-convert {\n",
              "      background-color: #3B4455;\n",
              "      fill: #D2E3FC;\n",
              "    }\n",
              "\n",
              "    [theme=dark] .colab-df-convert:hover {\n",
              "      background-color: #434B5C;\n",
              "      box-shadow: 0px 1px 3px 1px rgba(0, 0, 0, 0.15);\n",
              "      filter: drop-shadow(0px 1px 2px rgba(0, 0, 0, 0.3));\n",
              "      fill: #FFFFFF;\n",
              "    }\n",
              "  </style>\n",
              "\n",
              "      <script>\n",
              "        const buttonEl =\n",
              "          document.querySelector('#df-c8718b90-68b0-4132-924a-a39266cd3fa5 button.colab-df-convert');\n",
              "        buttonEl.style.display =\n",
              "          google.colab.kernel.accessAllowed ? 'block' : 'none';\n",
              "\n",
              "        async function convertToInteractive(key) {\n",
              "          const element = document.querySelector('#df-c8718b90-68b0-4132-924a-a39266cd3fa5');\n",
              "          const dataTable =\n",
              "            await google.colab.kernel.invokeFunction('convertToInteractive',\n",
              "                                                     [key], {});\n",
              "          if (!dataTable) return;\n",
              "\n",
              "          const docLinkHtml = 'Like what you see? Visit the ' +\n",
              "            '<a target=\"_blank\" href=https://colab.research.google.com/notebooks/data_table.ipynb>data table notebook</a>'\n",
              "            + ' to learn more about interactive tables.';\n",
              "          element.innerHTML = '';\n",
              "          dataTable['output_type'] = 'display_data';\n",
              "          await google.colab.output.renderOutput(dataTable, element);\n",
              "          const docLink = document.createElement('div');\n",
              "          docLink.innerHTML = docLinkHtml;\n",
              "          element.appendChild(docLink);\n",
              "        }\n",
              "      </script>\n",
              "    </div>\n",
              "  </div>\n",
              "  "
            ]
          },
          "metadata": {},
          "execution_count": 50
        }
      ]
    },
    {
      "cell_type": "code",
      "source": [
        "from collections import Counter\n",
        "count_list = list(Counter(df.FILTER).items())\n",
        "count_df = pd.DataFrame(count_list,columns=[\"Rule\",\"Count\"])\n",
        "count_df.sort_values(\"Count\",inplace=True,ascending=False)\n",
        "count_df.head()"
      ],
      "metadata": {
        "colab": {
          "base_uri": "https://localhost:8080/",
          "height": 206
        },
        "id": "T0qy_hssa6-7",
        "outputId": "82344b0f-0faa-4dbf-a4b6-c3535bce5c17"
      },
      "execution_count": 51,
      "outputs": [
        {
          "output_type": "execute_result",
          "data": {
            "text/plain": [
              "                           Rule  Count\n",
              "2                            OK  69148\n",
              "7    Filter41_12_dicarbonyl > 0  19330\n",
              "0       Filter82_pyridinium > 0   7713\n",
              "11     Filter93_acetyl_urea > 0   1541\n",
              "12  Filter78_bicyclic_Imide > 0    825"
            ],
            "text/html": [
              "\n",
              "  <div id=\"df-ec076cf6-4c75-426a-a737-d98ec6adfa02\">\n",
              "    <div class=\"colab-df-container\">\n",
              "      <div>\n",
              "<style scoped>\n",
              "    .dataframe tbody tr th:only-of-type {\n",
              "        vertical-align: middle;\n",
              "    }\n",
              "\n",
              "    .dataframe tbody tr th {\n",
              "        vertical-align: top;\n",
              "    }\n",
              "\n",
              "    .dataframe thead th {\n",
              "        text-align: right;\n",
              "    }\n",
              "</style>\n",
              "<table border=\"1\" class=\"dataframe\">\n",
              "  <thead>\n",
              "    <tr style=\"text-align: right;\">\n",
              "      <th></th>\n",
              "      <th>Rule</th>\n",
              "      <th>Count</th>\n",
              "    </tr>\n",
              "  </thead>\n",
              "  <tbody>\n",
              "    <tr>\n",
              "      <th>2</th>\n",
              "      <td>OK</td>\n",
              "      <td>69148</td>\n",
              "    </tr>\n",
              "    <tr>\n",
              "      <th>7</th>\n",
              "      <td>Filter41_12_dicarbonyl &gt; 0</td>\n",
              "      <td>19330</td>\n",
              "    </tr>\n",
              "    <tr>\n",
              "      <th>0</th>\n",
              "      <td>Filter82_pyridinium &gt; 0</td>\n",
              "      <td>7713</td>\n",
              "    </tr>\n",
              "    <tr>\n",
              "      <th>11</th>\n",
              "      <td>Filter93_acetyl_urea &gt; 0</td>\n",
              "      <td>1541</td>\n",
              "    </tr>\n",
              "    <tr>\n",
              "      <th>12</th>\n",
              "      <td>Filter78_bicyclic_Imide &gt; 0</td>\n",
              "      <td>825</td>\n",
              "    </tr>\n",
              "  </tbody>\n",
              "</table>\n",
              "</div>\n",
              "      <button class=\"colab-df-convert\" onclick=\"convertToInteractive('df-ec076cf6-4c75-426a-a737-d98ec6adfa02')\"\n",
              "              title=\"Convert this dataframe to an interactive table.\"\n",
              "              style=\"display:none;\">\n",
              "        \n",
              "  <svg xmlns=\"http://www.w3.org/2000/svg\" height=\"24px\"viewBox=\"0 0 24 24\"\n",
              "       width=\"24px\">\n",
              "    <path d=\"M0 0h24v24H0V0z\" fill=\"none\"/>\n",
              "    <path d=\"M18.56 5.44l.94 2.06.94-2.06 2.06-.94-2.06-.94-.94-2.06-.94 2.06-2.06.94zm-11 1L8.5 8.5l.94-2.06 2.06-.94-2.06-.94L8.5 2.5l-.94 2.06-2.06.94zm10 10l.94 2.06.94-2.06 2.06-.94-2.06-.94-.94-2.06-.94 2.06-2.06.94z\"/><path d=\"M17.41 7.96l-1.37-1.37c-.4-.4-.92-.59-1.43-.59-.52 0-1.04.2-1.43.59L10.3 9.45l-7.72 7.72c-.78.78-.78 2.05 0 2.83L4 21.41c.39.39.9.59 1.41.59.51 0 1.02-.2 1.41-.59l7.78-7.78 2.81-2.81c.8-.78.8-2.07 0-2.86zM5.41 20L4 18.59l7.72-7.72 1.47 1.35L5.41 20z\"/>\n",
              "  </svg>\n",
              "      </button>\n",
              "      \n",
              "  <style>\n",
              "    .colab-df-container {\n",
              "      display:flex;\n",
              "      flex-wrap:wrap;\n",
              "      gap: 12px;\n",
              "    }\n",
              "\n",
              "    .colab-df-convert {\n",
              "      background-color: #E8F0FE;\n",
              "      border: none;\n",
              "      border-radius: 50%;\n",
              "      cursor: pointer;\n",
              "      display: none;\n",
              "      fill: #1967D2;\n",
              "      height: 32px;\n",
              "      padding: 0 0 0 0;\n",
              "      width: 32px;\n",
              "    }\n",
              "\n",
              "    .colab-df-convert:hover {\n",
              "      background-color: #E2EBFA;\n",
              "      box-shadow: 0px 1px 2px rgba(60, 64, 67, 0.3), 0px 1px 3px 1px rgba(60, 64, 67, 0.15);\n",
              "      fill: #174EA6;\n",
              "    }\n",
              "\n",
              "    [theme=dark] .colab-df-convert {\n",
              "      background-color: #3B4455;\n",
              "      fill: #D2E3FC;\n",
              "    }\n",
              "\n",
              "    [theme=dark] .colab-df-convert:hover {\n",
              "      background-color: #434B5C;\n",
              "      box-shadow: 0px 1px 3px 1px rgba(0, 0, 0, 0.15);\n",
              "      filter: drop-shadow(0px 1px 2px rgba(0, 0, 0, 0.3));\n",
              "      fill: #FFFFFF;\n",
              "    }\n",
              "  </style>\n",
              "\n",
              "      <script>\n",
              "        const buttonEl =\n",
              "          document.querySelector('#df-ec076cf6-4c75-426a-a737-d98ec6adfa02 button.colab-df-convert');\n",
              "        buttonEl.style.display =\n",
              "          google.colab.kernel.accessAllowed ? 'block' : 'none';\n",
              "\n",
              "        async function convertToInteractive(key) {\n",
              "          const element = document.querySelector('#df-ec076cf6-4c75-426a-a737-d98ec6adfa02');\n",
              "          const dataTable =\n",
              "            await google.colab.kernel.invokeFunction('convertToInteractive',\n",
              "                                                     [key], {});\n",
              "          if (!dataTable) return;\n",
              "\n",
              "          const docLinkHtml = 'Like what you see? Visit the ' +\n",
              "            '<a target=\"_blank\" href=https://colab.research.google.com/notebooks/data_table.ipynb>data table notebook</a>'\n",
              "            + ' to learn more about interactive tables.';\n",
              "          element.innerHTML = '';\n",
              "          dataTable['output_type'] = 'display_data';\n",
              "          await google.colab.output.renderOutput(dataTable, element);\n",
              "          const docLink = document.createElement('div');\n",
              "          docLink.innerHTML = docLinkHtml;\n",
              "          element.appendChild(docLink);\n",
              "        }\n",
              "      </script>\n",
              "    </div>\n",
              "  </div>\n",
              "  "
            ]
          },
          "metadata": {},
          "execution_count": 51
        }
      ]
    },
    {
      "cell_type": "code",
      "source": [
        "smiles_list = df[df.FILTER == \"Filter41_12_dicarbonyl > 0\"].SMILES[:10]"
      ],
      "metadata": {
        "id": "j8XlK1TEa-dI"
      },
      "execution_count": 52,
      "outputs": []
    },
    {
      "cell_type": "code",
      "source": [
        "mol_list = [Chem.MolFromSmiles(x) for x in smiles_list]\n",
        "dicarbonyl = Chem.MolFromSmarts('*C(=O)C(=O)*')\n",
        "match_list = [mol.GetSubstructMatch(dicarbonyl) for mol in mol_list]\n",
        "Draw.MolsToGridImage(mol_list,highlightAtomLists=match_list,molsPerRow=5)\n"
      ],
      "metadata": {
        "colab": {
          "base_uri": "https://localhost:8080/",
          "height": 417
        },
        "id": "R-HoifoQbIaW",
        "outputId": "9bb6cdc1-7f10-40b3-e436-08387d1e7a05"
      },
      "execution_count": 53,
      "outputs": [
        {
          "output_type": "execute_result",
          "data": {
            "image/png": "[encoded data removed]",
            "text/plain": [
              "<IPython.core.display.Image object>"
            ]
          },
          "metadata": {},
          "execution_count": 53
        }
      ]
    },
    {
      "cell_type": "code",
      "source": [
        "model = dc.models.GraphConvModel(1, batch_size=128, \n",
        "          mode='classification',model_dir=\"model_dir\")\n",
        "model.restore()"
      ],
      "metadata": {
        "id": "pr-TIbUnbNGa"
      },
      "execution_count": 54,
      "outputs": []
    },
    {
      "cell_type": "code",
      "source": [
        "df = pd.read_csv(\"zinc_100k.smi\",sep=\" \",header=None)\n",
        "df.columns=[\"SMILES\",\"Name\"]\n",
        "rows,cols = df.shape\n",
        "df[\"Val\"] = [0] * rows # 피처화를 위한 빈 자리\n",
        "df.head()"
      ],
      "metadata": {
        "colab": {
          "base_uri": "https://localhost:8080/",
          "height": 206
        },
        "id": "u_79Qvzobie4",
        "outputId": "d9fbc7d8-9aff-413e-b8fe-0d841d97eaa4"
      },
      "execution_count": 55,
      "outputs": [
        {
          "output_type": "execute_result",
          "data": {
            "text/plain": [
              "                                              SMILES              Name  Val\n",
              "0        CN(CCO)C[C@@H](O)Cn1cnc2c1c(=O)n(C)c(=O)n2C  ZINC000000000843    0\n",
              "1  O=c1[nH]c(=O)n([C@@H]2C[C@@H](O)[C@H](CO)O2)cc1Br  ZINC000000001063    0\n",
              "2            Cn1c2ncn(CC(=O)N3CCOCC3)c2c(=O)n(C)c1=O  ZINC000000003942    0\n",
              "3        CN1C(=O)C[C@H](N2CCN(C(=O)CN3CCCC3)CC2)C1=O  ZINC000000036436    0\n",
              "4  CC(=O)NC[C@H](O)[C@H]1O[C@H]2OC(C)(C)O[C@H]2[C...  ZINC000000041101    0"
            ],
            "text/html": [
              "\n",
              "  <div id=\"df-8732ace4-a944-4d5d-9395-fb35c3bc108d\">\n",
              "    <div class=\"colab-df-container\">\n",
              "      <div>\n",
              "<style scoped>\n",
              "    .dataframe tbody tr th:only-of-type {\n",
              "        vertical-align: middle;\n",
              "    }\n",
              "\n",
              "    .dataframe tbody tr th {\n",
              "        vertical-align: top;\n",
              "    }\n",
              "\n",
              "    .dataframe thead th {\n",
              "        text-align: right;\n",
              "    }\n",
              "</style>\n",
              "<table border=\"1\" class=\"dataframe\">\n",
              "  <thead>\n",
              "    <tr style=\"text-align: right;\">\n",
              "      <th></th>\n",
              "      <th>SMILES</th>\n",
              "      <th>Name</th>\n",
              "      <th>Val</th>\n",
              "    </tr>\n",
              "  </thead>\n",
              "  <tbody>\n",
              "    <tr>\n",
              "      <th>0</th>\n",
              "      <td>CN(CCO)C[C@@H](O)Cn1cnc2c1c(=O)n(C)c(=O)n2C</td>\n",
              "      <td>ZINC000000000843</td>\n",
              "      <td>0</td>\n",
              "    </tr>\n",
              "    <tr>\n",
              "      <th>1</th>\n",
              "      <td>O=c1[nH]c(=O)n([C@@H]2C[C@@H](O)[C@H](CO)O2)cc1Br</td>\n",
              "      <td>ZINC000000001063</td>\n",
              "      <td>0</td>\n",
              "    </tr>\n",
              "    <tr>\n",
              "      <th>2</th>\n",
              "      <td>Cn1c2ncn(CC(=O)N3CCOCC3)c2c(=O)n(C)c1=O</td>\n",
              "      <td>ZINC000000003942</td>\n",
              "      <td>0</td>\n",
              "    </tr>\n",
              "    <tr>\n",
              "      <th>3</th>\n",
              "      <td>CN1C(=O)C[C@H](N2CCN(C(=O)CN3CCCC3)CC2)C1=O</td>\n",
              "      <td>ZINC000000036436</td>\n",
              "      <td>0</td>\n",
              "    </tr>\n",
              "    <tr>\n",
              "      <th>4</th>\n",
              "      <td>CC(=O)NC[C@H](O)[C@H]1O[C@H]2OC(C)(C)O[C@H]2[C...</td>\n",
              "      <td>ZINC000000041101</td>\n",
              "      <td>0</td>\n",
              "    </tr>\n",
              "  </tbody>\n",
              "</table>\n",
              "</div>\n",
              "      <button class=\"colab-df-convert\" onclick=\"convertToInteractive('df-8732ace4-a944-4d5d-9395-fb35c3bc108d')\"\n",
              "              title=\"Convert this dataframe to an interactive table.\"\n",
              "              style=\"display:none;\">\n",
              "        \n",
              "  <svg xmlns=\"http://www.w3.org/2000/svg\" height=\"24px\"viewBox=\"0 0 24 24\"\n",
              "       width=\"24px\">\n",
              "    <path d=\"M0 0h24v24H0V0z\" fill=\"none\"/>\n",
              "    <path d=\"M18.56 5.44l.94 2.06.94-2.06 2.06-.94-2.06-.94-.94-2.06-.94 2.06-2.06.94zm-11 1L8.5 8.5l.94-2.06 2.06-.94-2.06-.94L8.5 2.5l-.94 2.06-2.06.94zm10 10l.94 2.06.94-2.06 2.06-.94-2.06-.94-.94-2.06-.94 2.06-2.06.94z\"/><path d=\"M17.41 7.96l-1.37-1.37c-.4-.4-.92-.59-1.43-.59-.52 0-1.04.2-1.43.59L10.3 9.45l-7.72 7.72c-.78.78-.78 2.05 0 2.83L4 21.41c.39.39.9.59 1.41.59.51 0 1.02-.2 1.41-.59l7.78-7.78 2.81-2.81c.8-.78.8-2.07 0-2.86zM5.41 20L4 18.59l7.72-7.72 1.47 1.35L5.41 20z\"/>\n",
              "  </svg>\n",
              "      </button>\n",
              "      \n",
              "  <style>\n",
              "    .colab-df-container {\n",
              "      display:flex;\n",
              "      flex-wrap:wrap;\n",
              "      gap: 12px;\n",
              "    }\n",
              "\n",
              "    .colab-df-convert {\n",
              "      background-color: #E8F0FE;\n",
              "      border: none;\n",
              "      border-radius: 50%;\n",
              "      cursor: pointer;\n",
              "      display: none;\n",
              "      fill: #1967D2;\n",
              "      height: 32px;\n",
              "      padding: 0 0 0 0;\n",
              "      width: 32px;\n",
              "    }\n",
              "\n",
              "    .colab-df-convert:hover {\n",
              "      background-color: #E2EBFA;\n",
              "      box-shadow: 0px 1px 2px rgba(60, 64, 67, 0.3), 0px 1px 3px 1px rgba(60, 64, 67, 0.15);\n",
              "      fill: #174EA6;\n",
              "    }\n",
              "\n",
              "    [theme=dark] .colab-df-convert {\n",
              "      background-color: #3B4455;\n",
              "      fill: #D2E3FC;\n",
              "    }\n",
              "\n",
              "    [theme=dark] .colab-df-convert:hover {\n",
              "      background-color: #434B5C;\n",
              "      box-shadow: 0px 1px 3px 1px rgba(0, 0, 0, 0.15);\n",
              "      filter: drop-shadow(0px 1px 2px rgba(0, 0, 0, 0.3));\n",
              "      fill: #FFFFFF;\n",
              "    }\n",
              "  </style>\n",
              "\n",
              "      <script>\n",
              "        const buttonEl =\n",
              "          document.querySelector('#df-8732ace4-a944-4d5d-9395-fb35c3bc108d button.colab-df-convert');\n",
              "        buttonEl.style.display =\n",
              "          google.colab.kernel.accessAllowed ? 'block' : 'none';\n",
              "\n",
              "        async function convertToInteractive(key) {\n",
              "          const element = document.querySelector('#df-8732ace4-a944-4d5d-9395-fb35c3bc108d');\n",
              "          const dataTable =\n",
              "            await google.colab.kernel.invokeFunction('convertToInteractive',\n",
              "                                                     [key], {});\n",
              "          if (!dataTable) return;\n",
              "\n",
              "          const docLinkHtml = 'Like what you see? Visit the ' +\n",
              "            '<a target=\"_blank\" href=https://colab.research.google.com/notebooks/data_table.ipynb>data table notebook</a>'\n",
              "            + ' to learn more about interactive tables.';\n",
              "          element.innerHTML = '';\n",
              "          dataTable['output_type'] = 'display_data';\n",
              "          await google.colab.output.renderOutput(dataTable, element);\n",
              "          const docLink = document.createElement('div');\n",
              "          docLink.innerHTML = docLinkHtml;\n",
              "          element.appendChild(docLink);\n",
              "        }\n",
              "      </script>\n",
              "    </div>\n",
              "  </div>\n",
              "  "
            ]
          },
          "metadata": {},
          "execution_count": 55
        }
      ]
    },
    {
      "cell_type": "code",
      "source": [
        "infile_name = \"zinc_filtered.csv\"\n",
        "df.to_csv(infile_name,index=False)"
      ],
      "metadata": {
        "id": "KWnyLi90fMHl"
      },
      "execution_count": 56,
      "outputs": []
    },
    {
      "cell_type": "code",
      "source": [
        "loader = dc.data.CSVLoader(tasks=['Val'], feature_field=\"SMILES\", featurizer=featurizer)\n",
        "dataset = loader.create_dataset(infile_name, shard_size=8192)\n",
        "pred = model.predict(dataset)"
      ],
      "metadata": {
        "id": "VEBd7QDkfTUG"
      },
      "execution_count": 57,
      "outputs": []
    },
    {
      "cell_type": "code",
      "source": [
        "pred_df = pd.DataFrame([x.flatten() for x in pred],columns=[\"Neg\",\"Pos\"])\n",
        "sns.displot(x=pred_df.Pos,kind=\"kde\",rug=True)"
      ],
      "metadata": {
        "colab": {
          "base_uri": "https://localhost:8080/",
          "height": 386
        },
        "id": "J8JJpP3WfVTu",
        "outputId": "bad5814d-95dd-498e-fa62-847bb82c8870"
      },
      "execution_count": 58,
      "outputs": [
        {
          "output_type": "execute_result",
          "data": {
            "text/plain": [
              "<seaborn.axisgrid.FacetGrid at 0x7f160ca95310>"
            ]
          },
          "metadata": {},
          "execution_count": 58
        },
        {
          "output_type": "display_data",
          "data": {
            "text/plain": [
              "<Figure size 360x360 with 1 Axes>"
            ],
            "image/png": "[encoded data removed]"
          },
          "metadata": {
            "image/png": {
              "width": 352,
              "height": 351
            },
            "needs_background": "light"
          }
        }
      ]
    },
    {
      "cell_type": "code",
      "source": [
        "combo_df = df.join(pred_df,how=\"outer\")\n",
        "combo_df.sort_values(\"Pos\",inplace=True,ascending=False)"
      ],
      "metadata": {
        "id": "3Ux0kI7zfXL7"
      },
      "execution_count": 59,
      "outputs": []
    },
    {
      "cell_type": "code",
      "source": [
        "PandasTools.AddMoleculeColumnToFrame(combo_df,\"SMILES\",\"Mol\")\n",
        "# combo_df.head()"
      ],
      "metadata": {
        "id": "lxT3s5jOfY_v"
      },
      "execution_count": 60,
      "outputs": []
    },
    {
      "cell_type": "code",
      "source": [
        "from IPython.display import HTML\n",
        "HTML(combo_df.head().to_html())"
      ],
      "metadata": {
        "colab": {
          "base_uri": "https://localhost:8080/",
          "height": 293
        },
        "id": "NmYOHtW4faiS",
        "outputId": "eb7e0c2c-5922-43f9-e0fc-89230594de2c"
      },
      "execution_count": 61,
      "outputs": [
        {
          "output_type": "execute_result",
          "data": {
            "text/plain": [
              "<IPython.core.display.HTML object>"
            ],
            "text/html": [
              "<table border=\"1\" class=\"dataframe\">\n",
              "  <thead>\n",
              "    <tr style=\"text-align: right;\">\n",
              "      <th></th>\n",
              "      <th>SMILES</th>\n",
              "      <th>Name</th>\n",
              "      <th>Val</th>\n",
              "      <th>Neg</th>\n",
              "      <th>Pos</th>\n",
              "      <th>Mol</th>\n",
              "    </tr>\n",
              "  </thead>\n",
              "  <tbody>\n",
              "    <tr>\n",
              "      <th>1999</th>\n",
              "      <td>OCCNc1ncnc2c1ncn2[C@@H]1O[C@@H](CO)[C@@H](O)[C@H]1O</td>\n",
              "      <td>ZINC000004722773</td>\n",
              "      <td>0</td>\n",
              "      <td>0.263645</td>\n",
              "      <td>0.736355</td>\n",
              "      <td>&lt;rdkit.Chem.rdchem.Mol object at 0x7f15e6f3be40&gt;</td>\n",
              "    </tr>\n",
              "    <tr>\n",
              "      <th>309</th>\n",
              "      <td>OCCNc1ncnc2c1ncn2[C@@H]1O[C@H](CO)[C@@H](O)[C@H]1O</td>\n",
              "      <td>ZINC000006119248</td>\n",
              "      <td>0</td>\n",
              "      <td>0.263645</td>\n",
              "      <td>0.736355</td>\n",
              "      <td>&lt;rdkit.Chem.rdchem.Mol object at 0x7f15eee92490&gt;</td>\n",
              "    </tr>\n",
              "    <tr>\n",
              "      <th>1819</th>\n",
              "      <td>OCCNc1ncnc2c1ncn2[C@H]1O[C@@H](CO)[C@@H](O)[C@@H]1O</td>\n",
              "      <td>ZINC000001685071</td>\n",
              "      <td>0</td>\n",
              "      <td>0.263645</td>\n",
              "      <td>0.736355</td>\n",
              "      <td>&lt;rdkit.Chem.rdchem.Mol object at 0x7f161282d3f0&gt;</td>\n",
              "    </tr>\n",
              "    <tr>\n",
              "      <th>1998</th>\n",
              "      <td>OCCNc1ncnc2c1ncn2[C@H]1O[C@@H](CO)[C@@H](O)[C@H]1O</td>\n",
              "      <td>ZINC000004722772</td>\n",
              "      <td>0</td>\n",
              "      <td>0.263645</td>\n",
              "      <td>0.736355</td>\n",
              "      <td>&lt;rdkit.Chem.rdchem.Mol object at 0x7f161b77aad0&gt;</td>\n",
              "    </tr>\n",
              "    <tr>\n",
              "      <th>2000</th>\n",
              "      <td>OCCNc1ncnc2c1ncn2[C@@H]1O[C@@H](CO)[C@@H](O)[C@@H]1O</td>\n",
              "      <td>ZINC000004722774</td>\n",
              "      <td>0</td>\n",
              "      <td>0.263645</td>\n",
              "      <td>0.736355</td>\n",
              "      <td>&lt;rdkit.Chem.rdchem.Mol object at 0x7f160c81b990&gt;</td>\n",
              "    </tr>\n",
              "  </tbody>\n",
              "</table>"
            ]
          },
          "metadata": {},
          "execution_count": 61
        }
      ]
    },
    {
      "cell_type": "code",
      "source": [
        "Draw.MolsToGridImage(combo_df.Mol[:10],molsPerRow=5,legends=[\"%.2f\" % x for x in combo_df.Pos[:10]])"
      ],
      "metadata": {
        "colab": {
          "base_uri": "https://localhost:8080/",
          "height": 417
        },
        "id": "JLHw5spbfcOq",
        "outputId": "b519a7f4-07e3-49ea-adbb-19285543b7f8"
      },
      "execution_count": 62,
      "outputs": [
        {
          "output_type": "execute_result",
          "data": {
            "image/png": "[encoded data removed]",
            "text/plain": [
              "<IPython.core.display.Image object>"
            ]
          },
          "metadata": {},
          "execution_count": 62
        }
      ]
    },
    {
      "cell_type": "code",
      "source": [
        "def butina_cluster(mol_list,cutoff=0.35):\n",
        "    fp_list = [rdmd.GetMorganFingerprintAsBitVect(m, 3, nBits=2048) for m in mol_list]\n",
        "    dists = []\n",
        "    nfps = len(fp_list)\n",
        "    for i in range(1,nfps):\n",
        "        sims = DataStructs.BulkTanimotoSimilarity(fp_list[i],fp_list[:i])\n",
        "        dists.extend([1-x for x in sims])\n",
        "    mol_clusters = Butina.ClusterData(dists,nfps,cutoff,isDistData=True)\n",
        "    cluster_id_list = [0]*nfps\n",
        "    for idx,cluster in enumerate(mol_clusters,1):\n",
        "        for member in cluster:\n",
        "            cluster_id_list[member] = idx\n",
        "    return cluster_id_list"
      ],
      "metadata": {
        "id": "9Ad-prgVfeTV"
      },
      "execution_count": 63,
      "outputs": []
    },
    {
      "cell_type": "code",
      "source": [
        "best_100_df = combo_df.head(100).copy()\n",
        "best_100_df[\"Cluster\"] = butina_cluster(best_100_df.Mol)\n",
        "# best_100_df.head()\n",
        "HTML(best_100_df.head().to_html())"
      ],
      "metadata": {
        "colab": {
          "base_uri": "https://localhost:8080/",
          "height": 293
        },
        "id": "CsfyJZtvfgl7",
        "outputId": "319b7405-8d80-416c-938d-089d5314d4fc"
      },
      "execution_count": 64,
      "outputs": [
        {
          "output_type": "execute_result",
          "data": {
            "text/plain": [
              "<IPython.core.display.HTML object>"
            ],
            "text/html": [
              "<table border=\"1\" class=\"dataframe\">\n",
              "  <thead>\n",
              "    <tr style=\"text-align: right;\">\n",
              "      <th></th>\n",
              "      <th>SMILES</th>\n",
              "      <th>Name</th>\n",
              "      <th>Val</th>\n",
              "      <th>Neg</th>\n",
              "      <th>Pos</th>\n",
              "      <th>Mol</th>\n",
              "      <th>Cluster</th>\n",
              "    </tr>\n",
              "  </thead>\n",
              "  <tbody>\n",
              "    <tr>\n",
              "      <th>1999</th>\n",
              "      <td>OCCNc1ncnc2c1ncn2[C@@H]1O[C@@H](CO)[C@@H](O)[C@H]1O</td>\n",
              "      <td>ZINC000004722773</td>\n",
              "      <td>0</td>\n",
              "      <td>0.263645</td>\n",
              "      <td>0.736355</td>\n",
              "      <td>&lt;rdkit.Chem.rdchem.Mol object at 0x7f15e6f3be40&gt;</td>\n",
              "      <td>3</td>\n",
              "    </tr>\n",
              "    <tr>\n",
              "      <th>309</th>\n",
              "      <td>OCCNc1ncnc2c1ncn2[C@@H]1O[C@H](CO)[C@@H](O)[C@H]1O</td>\n",
              "      <td>ZINC000006119248</td>\n",
              "      <td>0</td>\n",
              "      <td>0.263645</td>\n",
              "      <td>0.736355</td>\n",
              "      <td>&lt;rdkit.Chem.rdchem.Mol object at 0x7f15eee92490&gt;</td>\n",
              "      <td>3</td>\n",
              "    </tr>\n",
              "    <tr>\n",
              "      <th>1819</th>\n",
              "      <td>OCCNc1ncnc2c1ncn2[C@H]1O[C@@H](CO)[C@@H](O)[C@@H]1O</td>\n",
              "      <td>ZINC000001685071</td>\n",
              "      <td>0</td>\n",
              "      <td>0.263645</td>\n",
              "      <td>0.736355</td>\n",
              "      <td>&lt;rdkit.Chem.rdchem.Mol object at 0x7f161282d3f0&gt;</td>\n",
              "      <td>3</td>\n",
              "    </tr>\n",
              "    <tr>\n",
              "      <th>1998</th>\n",
              "      <td>OCCNc1ncnc2c1ncn2[C@H]1O[C@@H](CO)[C@@H](O)[C@H]1O</td>\n",
              "      <td>ZINC000004722772</td>\n",
              "      <td>0</td>\n",
              "      <td>0.263645</td>\n",
              "      <td>0.736355</td>\n",
              "      <td>&lt;rdkit.Chem.rdchem.Mol object at 0x7f161b77aad0&gt;</td>\n",
              "      <td>3</td>\n",
              "    </tr>\n",
              "    <tr>\n",
              "      <th>2000</th>\n",
              "      <td>OCCNc1ncnc2c1ncn2[C@@H]1O[C@@H](CO)[C@@H](O)[C@@H]1O</td>\n",
              "      <td>ZINC000004722774</td>\n",
              "      <td>0</td>\n",
              "      <td>0.263645</td>\n",
              "      <td>0.736355</td>\n",
              "      <td>&lt;rdkit.Chem.rdchem.Mol object at 0x7f160c81b990&gt;</td>\n",
              "      <td>3</td>\n",
              "    </tr>\n",
              "  </tbody>\n",
              "</table>"
            ]
          },
          "metadata": {},
          "execution_count": 64
        }
      ]
    },
    {
      "cell_type": "code",
      "source": [
        "len(best_100_df.Cluster.unique())\n",
        "best_cluster_rep_df = best_100_df.drop_duplicates(\"Cluster\")\n",
        "best_cluster_rep_df.shape"
      ],
      "metadata": {
        "colab": {
          "base_uri": "https://localhost:8080/"
        },
        "id": "xrlWHiO1fiPZ",
        "outputId": "bbaede0b-8eab-4f44-bb51-51e0afe96de5"
      },
      "execution_count": 65,
      "outputs": [
        {
          "output_type": "execute_result",
          "data": {
            "text/plain": [
              "(60, 7)"
            ]
          },
          "metadata": {},
          "execution_count": 65
        }
      ]
    },
    {
      "cell_type": "code",
      "source": [
        "# 파일로 저장하기\n",
        "best_cluster_rep_df.to_csv(\"best_cluster_represenatives.csv\")"
      ],
      "metadata": {
        "id": "TgezIaYCfk-6"
      },
      "execution_count": 66,
      "outputs": []
    },
    {
      "cell_type": "code",
      "source": [],
      "metadata": {
        "id": "_frcgoeUfm8a"
      },
      "execution_count": null,
      "outputs": []
    }
  ]
}