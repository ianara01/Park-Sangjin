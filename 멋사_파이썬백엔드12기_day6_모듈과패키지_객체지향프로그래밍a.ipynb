{
  "nbformat": 4,
  "nbformat_minor": 0,
  "metadata": {
    "colab": {
      "provenance": [],
      "include_colab_link": true
    },
    "kernelspec": {
      "name": "python3",
      "display_name": "Python 3"
    },
    "language_info": {
      "name": "python"
    }
  },
  "cells": [
    {
      "cell_type": "markdown",
      "metadata": {
        "id": "view-in-github",
        "colab_type": "text"
      },
      "source": [
        "<a href=\"https://colab.research.google.com/github/ianara01/Park-Sangjin/blob/master/%EB%A9%8B%EC%82%AC_%ED%8C%8C%EC%9D%B4%EC%8D%AC%EB%B0%B1%EC%97%94%EB%93%9C12%EA%B8%B0_day6_%EB%AA%A8%EB%93%88%EA%B3%BC%ED%8C%A8%ED%82%A4%EC%A7%80_%EA%B0%9D%EC%B2%B4%EC%A7%80%ED%96%A5%ED%94%84%EB%A1%9C%EA%B7%B8%EB%9E%98%EB%B0%8Da.ipynb\" target=\"_parent\"><img src=\"https://colab.research.google.com/assets/colab-badge.svg\" alt=\"Open In Colab\"/></a>"
      ]
    },
    {
      "cell_type": "code",
      "execution_count": null,
      "metadata": {
        "colab": {
          "base_uri": "https://localhost:8080/",
          "height": 335
        },
        "id": "UPp0w0hzxhqD",
        "outputId": "5ae734fb-50e5-4d40-c931-d8ee71c5d744"
      },
      "outputs": [
        {
          "output_type": "error",
          "ename": "ModuleNotFoundError",
          "evalue": "No module named 'likelion'",
          "traceback": [
            "\u001b[0;31m---------------------------------------------------------------------------\u001b[0m",
            "\u001b[0;31mModuleNotFoundError\u001b[0m                       Traceback (most recent call last)",
            "\u001b[0;32m<ipython-input-1-c4515e9265a5>\u001b[0m in \u001b[0;36m<cell line: 1>\u001b[0;34m()\u001b[0m\n\u001b[0;32m----> 1\u001b[0;31m \u001b[0;32mimport\u001b[0m \u001b[0mlikelion\u001b[0m\u001b[0;34m\u001b[0m\u001b[0;34m\u001b[0m\u001b[0m\n\u001b[0m",
            "\u001b[0;31mModuleNotFoundError\u001b[0m: No module named 'likelion'",
            "",
            "\u001b[0;31m---------------------------------------------------------------------------\u001b[0;32m\nNOTE: If your import is failing due to a missing package, you can\nmanually install dependencies using either !pip or !apt.\n\nTo view examples of installing some common dependencies, click the\n\"Open Examples\" button below.\n\u001b[0;31m---------------------------------------------------------------------------\u001b[0m\n"
          ],
          "errorDetails": {
            "actions": [
              {
                "action": "open_url",
                "actionText": "Open Examples",
                "url": "/notebooks/snippets/importing_libraries.ipynb"
              }
            ]
          }
        }
      ],
      "source": [
        "import likelion"
      ]
    },
    {
      "cell_type": "code",
      "source": [
        "\"\"\"\n",
        "# step 1\n",
        "# 읽기\n",
        "with open(\"data.txt\", 'r', encoding='utf8') as f:\n",
        "    content = f.read()\n",
        "print(content)\n",
        "print(\"-\"*30)\n",
        "\n",
        "# 쓰기\n",
        "with open(\"data.txt\", 'a', encoding='utf8') as f:\n",
        "    msg = input(\"내용을 입력하세요\")\n",
        "    f.write(\"\\n\"+msg)\n",
        "print(\"-\"*30)\n",
        "\n",
        "with open(\"data.txt\", 'r', encoding='utf8') as f:\n",
        "    content = f.read()\n",
        "print(content)\n",
        "print(\"-\"*30)\n",
        "\"\"\"\n",
        "\n",
        "# step1 함수를 통해서 코드 재사용성을 높이자!!\n",
        "def show_content():\n",
        "    with open(\"data.txt\", 'r', encoding='utf8') as f:\n",
        "        content = f.read()\n",
        "    print(content)\n",
        "    print(\"-\"*30)\n",
        "\n",
        "def insert_msg():\n",
        "    pass"
      ],
      "metadata": {
        "id": "Oe2DgnY41uou"
      },
      "execution_count": null,
      "outputs": []
    },
    {
      "cell_type": "markdown",
      "source": [
        "# show.py 모듈을 만들고 사용하는 내용을 참고해서 msg.py 모듈을 적용해 보겠습니다.\n",
        "- 10:30까지\n",
        "- 디스코드에 체크해 주세요"
      ],
      "metadata": {
        "id": "jg21JX5PDKPH"
      }
    },
    {
      "cell_type": "code",
      "source": [
        "# main_파일처리.py\n",
        "\"\"\"\n",
        "# step 1\n",
        "# 읽기\n",
        "with open(\"data.txt\", 'r', encoding='utf8') as f:\n",
        "    content = f.read()\n",
        "print(content)\n",
        "print(\"-\"*30)\n",
        "\n",
        "# 쓰기\n",
        "with open(\"data.txt\", 'a', encoding='utf8') as f:\n",
        "    msg = input(\"내용을 입력하세요\")\n",
        "    f.write(\"\\n\"+msg)\n",
        "print(\"-\"*30)\n",
        "\n",
        "with open(\"data.txt\", 'r', encoding='utf8') as f:\n",
        "    content = f.read()\n",
        "print(content)\n",
        "print(\"-\"*30)\n",
        "\"\"\"\n",
        "\n",
        "# step1 함수를 통해서 코드 재사용성을 높이자!!\n",
        "# import show\n",
        "\n",
        "from show import show_content\n",
        "\n",
        "def like():\n",
        "    show_content()\n",
        "    insert_msg()\n",
        "    show_content()\n",
        "\n",
        "def insert_msg():\n",
        "    with open(\"data.txt\", 'a', encoding='utf8') as f:\n",
        "        msg = input(\"내용을 입력하세요\")\n",
        "        f.write(\"\\n\"+msg)\n",
        "    print(\"-\"*30)\n",
        "\n",
        "like()"
      ],
      "metadata": {
        "id": "aVm9a4LZDP4G"
      },
      "execution_count": null,
      "outputs": []
    },
    {
      "cell_type": "code",
      "source": [
        "# show.py\n",
        "\n",
        "# 함수, 변수, 클래스\n",
        "\n",
        "def show_content():\n",
        "    with open(\"data.txt\", 'r', encoding='utf8') as f:\n",
        "        content = f.read()\n",
        "    print(content)\n",
        "    print(\"-\"*30)"
      ],
      "metadata": {
        "id": "NBSdM-CPDV0Q"
      },
      "execution_count": null,
      "outputs": []
    },
    {
      "cell_type": "markdown",
      "source": [
        "![image.png](data:image/png;base64,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)"
      ],
      "metadata": {
        "id": "w6y2MglrMXlL"
      }
    },
    {
      "cell_type": "markdown",
      "source": [
        "# 2시 50분까지 해보겠습니다!"
      ],
      "metadata": {
        "id": "v4mw8QnK6mhn"
      }
    },
    {
      "cell_type": "markdown",
      "source": [
        "### Question1\n",
        "\n",
        "lion_main.py 파일 생성\n",
        "- lion_sub.py의 함수를 가져와서 실행\n",
        "- __name__ == \"__main__\"을 사용\n",
        "\n",
        "lion_sub.py 모듈 파일 생성\n",
        "- 사용자의 입력을 받으면 거꾸로 문자열을 뒤집어 주는 함수"
      ],
      "metadata": {
        "id": "1zs-W9hT4YbL"
      }
    },
    {
      "cell_type": "markdown",
      "source": [
        "### Question2\n",
        "lion_main_pack.py를 생성\n",
        "- 패키지에 있는 함수들을 동작시키는 코드\n",
        "\n",
        "lion_package 폴더 생성\n",
        "- 폴더에는 __init__ 파일 만들기\n",
        "- init 파일에는 '행복한 삶을 산다'를 출력하는 함수\n",
        "- 모듈 생성 - \"개발한다\"를 출력하는 함수\n",
        "- 모듈에도 name - main 코드를 넣어서 직접 실행할때는 '돈은 많이 번다' 함수 실행되도록 구성\n",
        "\n"
      ],
      "metadata": {
        "id": "BHf2R68G47lc"
      }
    },
    {
      "cell_type": "markdown",
      "source": [
        "# 회고팀 발표\n",
        "- 1팀 :\n",
        "이석헌, 권용국, 박상진, 이병환, 심민수\n",
        "\n",
        "- 2팀 :\n",
        "고재원, 김민지, 김찬웅, 김황연, 나상민\n",
        "\n",
        "- 3팀 :\n",
        "문관우, 방준식, 손은정, 오영록, 이정모\n"
      ],
      "metadata": {
        "id": "RMzsahVmJgEC"
      }
    },
    {
      "cell_type": "code",
      "source": [],
      "metadata": {
        "id": "xuh6O1YU42cA"
      },
      "execution_count": null,
      "outputs": []
    }
  ]
}