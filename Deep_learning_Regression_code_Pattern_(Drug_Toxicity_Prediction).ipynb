{
  "nbformat": 4,
  "nbformat_minor": 0,
  "metadata": {
    "colab": {
      "provenance": [],
      "include_colab_link": true
    },
    "kernelspec": {
      "name": "python3",
      "display_name": "Python 3"
    },
    "language_info": {
      "name": "python"
    },
    "accelerator": "GPU",
    "gpuClass": "standard"
  },
  "cells": [
    {
      "cell_type": "markdown",
      "metadata": {
        "id": "view-in-github",
        "colab_type": "text"
      },
      "source": [
        "<a href=\"https://colab.research.google.com/github/ianara01/Park-Sangjin/blob/master/Deep_learning_Regression_code_Pattern_(Drug_Toxicity_Prediction).ipynb\" target=\"_parent\"><img src=\"https://colab.research.google.com/assets/colab-badge.svg\" alt=\"Open In Colab\"/></a>"
      ]
    },
    {
      "cell_type": "code",
      "source": [
        "!nvidia-smi"
      ],
      "metadata": {
        "id": "xoBDfu-XwGuC",
        "colab": {
          "base_uri": "https://localhost:8080/"
        },
        "outputId": "4d27913b-bc5c-40ce-cf62-9da6ab9a3978"
      },
      "execution_count": null,
      "outputs": [
        {
          "output_type": "stream",
          "name": "stdout",
          "text": [
            "Sat Jun 25 03:17:30 2022       \n",
            "+-----------------------------------------------------------------------------+\n",
            "| NVIDIA-SMI 460.32.03    Driver Version: 460.32.03    CUDA Version: 11.2     |\n",
            "|-------------------------------+----------------------+----------------------+\n",
            "| GPU  Name        Persistence-M| Bus-Id        Disp.A | Volatile Uncorr. ECC |\n",
            "| Fan  Temp  Perf  Pwr:Usage/Cap|         Memory-Usage | GPU-Util  Compute M. |\n",
            "|                               |                      |               MIG M. |\n",
            "|===============================+======================+======================|\n",
            "|   0  Tesla T4            Off  | 00000000:00:04.0 Off |                    0 |\n",
            "| N/A   45C    P8     9W /  70W |      0MiB / 15109MiB |      0%      Default |\n",
            "|                               |                      |                  N/A |\n",
            "+-------------------------------+----------------------+----------------------+\n",
            "                                                                               \n",
            "+-----------------------------------------------------------------------------+\n",
            "| Processes:                                                                  |\n",
            "|  GPU   GI   CI        PID   Type   Process name                  GPU Memory |\n",
            "|        ID   ID                                                   Usage      |\n",
            "|=============================================================================|\n",
            "|  No running processes found                                                 |\n",
            "+-----------------------------------------------------------------------------+\n"
          ]
        }
      ]
    },
    {
      "cell_type": "markdown",
      "source": [
        "# 필요한 라이브러리 및 데이터 준비"
      ],
      "metadata": {
        "id": "tDqWVZs9wH8x"
      }
    },
    {
      "cell_type": "markdown",
      "source": [
        "### 라이브러리 설치하기"
      ],
      "metadata": {
        "id": "z-iGyw9Iwyms"
      }
    },
    {
      "cell_type": "code",
      "execution_count": null,
      "metadata": {
        "colab": {
          "base_uri": "https://localhost:8080/"
        },
        "id": "o4SDy_eQbbim",
        "outputId": "8c948b46-9cde-453a-ab96-52b46af7936a"
      },
      "outputs": [
        {
          "output_type": "stream",
          "name": "stdout",
          "text": [
            "Looking in indexes: https://pypi.org/simple, https://us-python.pkg.dev/colab-wheels/public/simple/\n",
            "Requirement already satisfied: PyTDC in /usr/local/lib/python3.7/dist-packages (0.3.6)\n",
            "Requirement already satisfied: scikit-learn in /usr/local/lib/python3.7/dist-packages (from PyTDC) (1.0.2)\n",
            "Requirement already satisfied: fuzzywuzzy in /usr/local/lib/python3.7/dist-packages (from PyTDC) (0.18.0)\n",
            "Requirement already satisfied: tqdm in /usr/local/lib/python3.7/dist-packages (from PyTDC) (4.64.0)\n",
            "Requirement already satisfied: seaborn in /usr/local/lib/python3.7/dist-packages (from PyTDC) (0.11.2)\n",
            "Requirement already satisfied: pandas in /usr/local/lib/python3.7/dist-packages (from PyTDC) (1.3.5)\n",
            "Requirement already satisfied: numpy in /usr/local/lib/python3.7/dist-packages (from PyTDC) (1.21.6)\n",
            "Requirement already satisfied: python-dateutil>=2.7.3 in /usr/local/lib/python3.7/dist-packages (from pandas->PyTDC) (2.8.2)\n",
            "Requirement already satisfied: pytz>=2017.3 in /usr/local/lib/python3.7/dist-packages (from pandas->PyTDC) (2022.1)\n",
            "Requirement already satisfied: six>=1.5 in /usr/local/lib/python3.7/dist-packages (from python-dateutil>=2.7.3->pandas->PyTDC) (1.15.0)\n",
            "Requirement already satisfied: joblib>=0.11 in /usr/local/lib/python3.7/dist-packages (from scikit-learn->PyTDC) (1.1.0)\n",
            "Requirement already satisfied: scipy>=1.1.0 in /usr/local/lib/python3.7/dist-packages (from scikit-learn->PyTDC) (1.7.3)\n",
            "Requirement already satisfied: threadpoolctl>=2.0.0 in /usr/local/lib/python3.7/dist-packages (from scikit-learn->PyTDC) (3.1.0)\n",
            "Requirement already satisfied: matplotlib>=2.2 in /usr/local/lib/python3.7/dist-packages (from seaborn->PyTDC) (3.2.2)\n",
            "Requirement already satisfied: pyparsing!=2.0.4,!=2.1.2,!=2.1.6,>=2.0.1 in /usr/local/lib/python3.7/dist-packages (from matplotlib>=2.2->seaborn->PyTDC) (3.0.9)\n",
            "Requirement already satisfied: cycler>=0.10 in /usr/local/lib/python3.7/dist-packages (from matplotlib>=2.2->seaborn->PyTDC) (0.11.0)\n",
            "Requirement already satisfied: kiwisolver>=1.0.1 in /usr/local/lib/python3.7/dist-packages (from matplotlib>=2.2->seaborn->PyTDC) (1.4.3)\n",
            "Requirement already satisfied: typing-extensions in /usr/local/lib/python3.7/dist-packages (from kiwisolver>=1.0.1->matplotlib>=2.2->seaborn->PyTDC) (4.1.1)\n",
            "Looking in indexes: https://pypi.org/simple, https://us-python.pkg.dev/colab-wheels/public/simple/\n",
            "Requirement already satisfied: lifelines in /usr/local/lib/python3.7/dist-packages (0.27.0)\n",
            "Requirement already satisfied: pandas>=1.0.0 in /usr/local/lib/python3.7/dist-packages (from lifelines) (1.3.5)\n",
            "Requirement already satisfied: autograd-gamma>=0.3 in /usr/local/lib/python3.7/dist-packages (from lifelines) (0.5.0)\n",
            "Requirement already satisfied: formulaic>=0.2.2 in /usr/local/lib/python3.7/dist-packages (from lifelines) (0.3.4)\n",
            "Requirement already satisfied: scipy>=1.2.0 in /usr/local/lib/python3.7/dist-packages (from lifelines) (1.7.3)\n",
            "Requirement already satisfied: autograd>=1.3 in /usr/local/lib/python3.7/dist-packages (from lifelines) (1.4)\n",
            "Requirement already satisfied: numpy>=1.14.0 in /usr/local/lib/python3.7/dist-packages (from lifelines) (1.21.6)\n",
            "Requirement already satisfied: matplotlib>=3.0 in /usr/local/lib/python3.7/dist-packages (from lifelines) (3.2.2)\n",
            "Requirement already satisfied: future>=0.15.2 in /usr/local/lib/python3.7/dist-packages (from autograd>=1.3->lifelines) (0.16.0)\n",
            "Requirement already satisfied: interface-meta<2.0.0,>=1.2.0 in /usr/local/lib/python3.7/dist-packages (from formulaic>=0.2.2->lifelines) (1.3.0)\n",
            "Requirement already satisfied: wrapt>=1.0 in /usr/local/lib/python3.7/dist-packages (from formulaic>=0.2.2->lifelines) (1.14.1)\n",
            "Requirement already satisfied: astor>=0.8 in /usr/local/lib/python3.7/dist-packages (from formulaic>=0.2.2->lifelines) (0.8.1)\n",
            "Requirement already satisfied: pyparsing!=2.0.4,!=2.1.2,!=2.1.6,>=2.0.1 in /usr/local/lib/python3.7/dist-packages (from matplotlib>=3.0->lifelines) (3.0.9)\n",
            "Requirement already satisfied: kiwisolver>=1.0.1 in /usr/local/lib/python3.7/dist-packages (from matplotlib>=3.0->lifelines) (1.4.3)\n",
            "Requirement already satisfied: cycler>=0.10 in /usr/local/lib/python3.7/dist-packages (from matplotlib>=3.0->lifelines) (0.11.0)\n",
            "Requirement already satisfied: python-dateutil>=2.1 in /usr/local/lib/python3.7/dist-packages (from matplotlib>=3.0->lifelines) (2.8.2)\n",
            "Requirement already satisfied: typing-extensions in /usr/local/lib/python3.7/dist-packages (from kiwisolver>=1.0.1->matplotlib>=3.0->lifelines) (4.1.1)\n",
            "Requirement already satisfied: pytz>=2017.3 in /usr/local/lib/python3.7/dist-packages (from pandas>=1.0.0->lifelines) (2022.1)\n",
            "Requirement already satisfied: six>=1.5 in /usr/local/lib/python3.7/dist-packages (from python-dateutil>=2.1->matplotlib>=3.0->lifelines) (1.15.0)\n",
            "Looking in indexes: https://pypi.org/simple, https://us-python.pkg.dev/colab-wheels/public/simple/\n",
            "Requirement already satisfied: rdkit-pypi in /usr/local/lib/python3.7/dist-packages (2022.3.3)\n",
            "Requirement already satisfied: Pillow in /usr/local/lib/python3.7/dist-packages (from rdkit-pypi) (7.1.2)\n",
            "Requirement already satisfied: numpy in /usr/local/lib/python3.7/dist-packages (from rdkit-pypi) (1.21.6)\n"
          ]
        }
      ],
      "source": [
        "# 필요한 라이브러리 설치하기\n",
        "\n",
        "!pip install PyTDC\n",
        "!pip install lifelines\n",
        "!pip install rdkit-pypi"
      ]
    },
    {
      "cell_type": "code",
      "source": [],
      "metadata": {
        "id": "XR1iI6oMdkhj"
      },
      "execution_count": null,
      "outputs": []
    },
    {
      "cell_type": "markdown",
      "source": [
        "### 데이터 준비\n",
        "\n",
        "[Therapeutics Data Commons](https://tdcommons.ai/)"
      ],
      "metadata": {
        "id": "FMZdQvcvwvWD"
      }
    },
    {
      "cell_type": "markdown",
      "source": [
        "# Toxicity Prediction Task Overview\n",
        "\n",
        "---\n",
        "\n",
        "**Definition**: Majority of the drugs have some extents of toxicity to the human organisms. This learning task aims to predict accurately various types of toxicity of a drug molecule towards human organisms.\n",
        "\n",
        "**Impact**: Toxicity is one of the primary causes of compound attrition. Study shows that approximately 70% of all toxicity-related attrition occurs preclinically (i.e., in cells, animals) while they are strongly predictive of toxicities in humans. This suggests that an early but accurate prediction of toxicity can significantly reduce the compound attribution and boost the likelihood of being marketed.\n",
        "\n",
        "**Generalization**: Similar to the ADME prediction, as the drug structures of interest evolve over time, toxicity prediction requires a model to generalize to a set of novel drugs with small structural similarity to the existing drug set.\n",
        "\n",
        "**Product**: Small-molecule.\n",
        "\n",
        "**Pipeline**: Efficacy and safety - lead development and optimization."
      ],
      "metadata": {
        "id": "Kaaov8vBxhz0"
      }
    },
    {
      "cell_type": "markdown",
      "source": [
        "### Acute Toxicity LD50\n",
        "**Dataset Description**: Acute toxicity LD50 measures the most conservative dose that can lead to lethal adverse effects. The higher the dose, the more lethal of a drug. This dataset is kindly provided by the authors of [1].\n",
        "\n",
        "**Task Description**: Regression. Given a drug SMILES string, predict its acute toxicity.\n",
        "\n",
        "**Dataset Statistics**: 7,385 drugs.\n",
        "\n"
      ],
      "metadata": {
        "id": "H9WIcyuBxydF"
      }
    },
    {
      "cell_type": "code",
      "source": [
        "from tdc.single_pred import Tox\n",
        "\n",
        "# TDC api를 이용하여 LD50 데이터 불러오기 \n",
        "data = Tox(name = 'LD50_Zhu')\n",
        "# 불러온 데이터 train-valid-test로 나누기\n",
        "split = data.get_split()"
      ],
      "metadata": {
        "colab": {
          "base_uri": "https://localhost:8080/"
        },
        "id": "90CrPtOsbiyr",
        "outputId": "edf254a7-3192-449c-c7ce-ba0197b23a69"
      },
      "execution_count": null,
      "outputs": [
        {
          "output_type": "stream",
          "name": "stderr",
          "text": [
            "Downloading...\n",
            "100%|██████████| 707k/707k [00:00<00:00, 13.6MiB/s]\n",
            "Loading...\n",
            "Done!\n"
          ]
        }
      ]
    },
    {
      "cell_type": "code",
      "source": [
        "# 나누어진 데이터 확인\n",
        "split.keys()"
      ],
      "metadata": {
        "colab": {
          "base_uri": "https://localhost:8080/"
        },
        "id": "IvVBfQibbqgi",
        "outputId": "ba11420f-7ab9-42f9-eb9b-7711a6a940a1"
      },
      "execution_count": null,
      "outputs": [
        {
          "output_type": "execute_result",
          "data": {
            "text/plain": [
              "dict_keys(['train', 'valid', 'test'])"
            ]
          },
          "metadata": {},
          "execution_count": 5
        }
      ]
    },
    {
      "cell_type": "code",
      "source": [
        "# Train data\n",
        "split['train']"
      ],
      "metadata": {
        "colab": {
          "base_uri": "https://localhost:8080/",
          "height": 424
        },
        "id": "1xpiXtDKbryT",
        "outputId": "55a4a416-3197-4df7-a76f-92856b560552"
      },
      "execution_count": null,
      "outputs": [
        {
          "output_type": "execute_result",
          "data": {
            "text/plain": [
              "                                                Drug_ID  \\\n",
              "0                                    Methane, tribromo-   \n",
              "1                                     Bromoethene (9CI)   \n",
              "2                             1,1'-Biphenyl, hexabromo-   \n",
              "3               Isothiocyanic acid, p-bromophenyl ester   \n",
              "4                                       Benzene, bromo-   \n",
              "...                                                 ...   \n",
              "5165      Benzenesulfonic acid, 3,5-dimethyl-4-hydroxy-   \n",
              "5166  Isocyanic acid, (alpha,alpha,alpha-trifluoro-o...   \n",
              "5167  Propanenitrile, 3-((2-(acetyloxy)ethyl)phenyla...   \n",
              "5168  IH-Indene-1,3(2H)-dione, 2-(2-methyl-1-(2-(1-p...   \n",
              "5169           1-Propanone, 1-(2,4,6-trihydroxyphenyl)-   \n",
              "\n",
              "                                             Drug      Y  \n",
              "0                                       BrC(Br)Br  2.343  \n",
              "1                                           C=CBr  2.330  \n",
              "2           Brc1ccc(-c2ccc(Br)c(Br)c2Br)c(Br)c1Br  1.465  \n",
              "3                               S=C=Nc1ccc(Br)cc1  2.729  \n",
              "4                                      Brc1ccccc1  1.765  \n",
              "...                                           ...    ...  \n",
              "5165                    Cc1cc(S(=O)(=O)O)cc(C)c1O  1.883  \n",
              "5166                        O=C=Nc1ccccc1C(F)(F)F  1.427  \n",
              "5167                    CC(=O)OCCN(CCC#N)c1ccccc1  2.050  \n",
              "5168  CC1=CC(=C2C(=O)c3ccccc3C2=O)C=CN1CCN1CCCCC1  2.951  \n",
              "5169                       CCC(=O)c1c(O)cc(O)cc1O  1.884  \n",
              "\n",
              "[5170 rows x 3 columns]"
            ],
            "text/html": [
              "\n",
              "  <div id=\"df-a832dbbe-5d63-4467-854e-f9a3f9831687\">\n",
              "    <div class=\"colab-df-container\">\n",
              "      <div>\n",
              "<style scoped>\n",
              "    .dataframe tbody tr th:only-of-type {\n",
              "        vertical-align: middle;\n",
              "    }\n",
              "\n",
              "    .dataframe tbody tr th {\n",
              "        vertical-align: top;\n",
              "    }\n",
              "\n",
              "    .dataframe thead th {\n",
              "        text-align: right;\n",
              "    }\n",
              "</style>\n",
              "<table border=\"1\" class=\"dataframe\">\n",
              "  <thead>\n",
              "    <tr style=\"text-align: right;\">\n",
              "      <th></th>\n",
              "      <th>Drug_ID</th>\n",
              "      <th>Drug</th>\n",
              "      <th>Y</th>\n",
              "    </tr>\n",
              "  </thead>\n",
              "  <tbody>\n",
              "    <tr>\n",
              "      <th>0</th>\n",
              "      <td>Methane, tribromo-</td>\n",
              "      <td>BrC(Br)Br</td>\n",
              "      <td>2.343</td>\n",
              "    </tr>\n",
              "    <tr>\n",
              "      <th>1</th>\n",
              "      <td>Bromoethene (9CI)</td>\n",
              "      <td>C=CBr</td>\n",
              "      <td>2.330</td>\n",
              "    </tr>\n",
              "    <tr>\n",
              "      <th>2</th>\n",
              "      <td>1,1'-Biphenyl, hexabromo-</td>\n",
              "      <td>Brc1ccc(-c2ccc(Br)c(Br)c2Br)c(Br)c1Br</td>\n",
              "      <td>1.465</td>\n",
              "    </tr>\n",
              "    <tr>\n",
              "      <th>3</th>\n",
              "      <td>Isothiocyanic acid, p-bromophenyl ester</td>\n",
              "      <td>S=C=Nc1ccc(Br)cc1</td>\n",
              "      <td>2.729</td>\n",
              "    </tr>\n",
              "    <tr>\n",
              "      <th>4</th>\n",
              "      <td>Benzene, bromo-</td>\n",
              "      <td>Brc1ccccc1</td>\n",
              "      <td>1.765</td>\n",
              "    </tr>\n",
              "    <tr>\n",
              "      <th>...</th>\n",
              "      <td>...</td>\n",
              "      <td>...</td>\n",
              "      <td>...</td>\n",
              "    </tr>\n",
              "    <tr>\n",
              "      <th>5165</th>\n",
              "      <td>Benzenesulfonic acid, 3,5-dimethyl-4-hydroxy-</td>\n",
              "      <td>Cc1cc(S(=O)(=O)O)cc(C)c1O</td>\n",
              "      <td>1.883</td>\n",
              "    </tr>\n",
              "    <tr>\n",
              "      <th>5166</th>\n",
              "      <td>Isocyanic acid, (alpha,alpha,alpha-trifluoro-o...</td>\n",
              "      <td>O=C=Nc1ccccc1C(F)(F)F</td>\n",
              "      <td>1.427</td>\n",
              "    </tr>\n",
              "    <tr>\n",
              "      <th>5167</th>\n",
              "      <td>Propanenitrile, 3-((2-(acetyloxy)ethyl)phenyla...</td>\n",
              "      <td>CC(=O)OCCN(CCC#N)c1ccccc1</td>\n",
              "      <td>2.050</td>\n",
              "    </tr>\n",
              "    <tr>\n",
              "      <th>5168</th>\n",
              "      <td>IH-Indene-1,3(2H)-dione, 2-(2-methyl-1-(2-(1-p...</td>\n",
              "      <td>CC1=CC(=C2C(=O)c3ccccc3C2=O)C=CN1CCN1CCCCC1</td>\n",
              "      <td>2.951</td>\n",
              "    </tr>\n",
              "    <tr>\n",
              "      <th>5169</th>\n",
              "      <td>1-Propanone, 1-(2,4,6-trihydroxyphenyl)-</td>\n",
              "      <td>CCC(=O)c1c(O)cc(O)cc1O</td>\n",
              "      <td>1.884</td>\n",
              "    </tr>\n",
              "  </tbody>\n",
              "</table>\n",
              "<p>5170 rows × 3 columns</p>\n",
              "</div>\n",
              "      <button class=\"colab-df-convert\" onclick=\"convertToInteractive('df-a832dbbe-5d63-4467-854e-f9a3f9831687')\"\n",
              "              title=\"Convert this dataframe to an interactive table.\"\n",
              "              style=\"display:none;\">\n",
              "        \n",
              "  <svg xmlns=\"http://www.w3.org/2000/svg\" height=\"24px\"viewBox=\"0 0 24 24\"\n",
              "       width=\"24px\">\n",
              "    <path d=\"M0 0h24v24H0V0z\" fill=\"none\"/>\n",
              "    <path d=\"M18.56 5.44l.94 2.06.94-2.06 2.06-.94-2.06-.94-.94-2.06-.94 2.06-2.06.94zm-11 1L8.5 8.5l.94-2.06 2.06-.94-2.06-.94L8.5 2.5l-.94 2.06-2.06.94zm10 10l.94 2.06.94-2.06 2.06-.94-2.06-.94-.94-2.06-.94 2.06-2.06.94z\"/><path d=\"M17.41 7.96l-1.37-1.37c-.4-.4-.92-.59-1.43-.59-.52 0-1.04.2-1.43.59L10.3 9.45l-7.72 7.72c-.78.78-.78 2.05 0 2.83L4 21.41c.39.39.9.59 1.41.59.51 0 1.02-.2 1.41-.59l7.78-7.78 2.81-2.81c.8-.78.8-2.07 0-2.86zM5.41 20L4 18.59l7.72-7.72 1.47 1.35L5.41 20z\"/>\n",
              "  </svg>\n",
              "      </button>\n",
              "      \n",
              "  <style>\n",
              "    .colab-df-container {\n",
              "      display:flex;\n",
              "      flex-wrap:wrap;\n",
              "      gap: 12px;\n",
              "    }\n",
              "\n",
              "    .colab-df-convert {\n",
              "      background-color: #E8F0FE;\n",
              "      border: none;\n",
              "      border-radius: 50%;\n",
              "      cursor: pointer;\n",
              "      display: none;\n",
              "      fill: #1967D2;\n",
              "      height: 32px;\n",
              "      padding: 0 0 0 0;\n",
              "      width: 32px;\n",
              "    }\n",
              "\n",
              "    .colab-df-convert:hover {\n",
              "      background-color: #E2EBFA;\n",
              "      box-shadow: 0px 1px 2px rgba(60, 64, 67, 0.3), 0px 1px 3px 1px rgba(60, 64, 67, 0.15);\n",
              "      fill: #174EA6;\n",
              "    }\n",
              "\n",
              "    [theme=dark] .colab-df-convert {\n",
              "      background-color: #3B4455;\n",
              "      fill: #D2E3FC;\n",
              "    }\n",
              "\n",
              "    [theme=dark] .colab-df-convert:hover {\n",
              "      background-color: #434B5C;\n",
              "      box-shadow: 0px 1px 3px 1px rgba(0, 0, 0, 0.15);\n",
              "      filter: drop-shadow(0px 1px 2px rgba(0, 0, 0, 0.3));\n",
              "      fill: #FFFFFF;\n",
              "    }\n",
              "  </style>\n",
              "\n",
              "      <script>\n",
              "        const buttonEl =\n",
              "          document.querySelector('#df-a832dbbe-5d63-4467-854e-f9a3f9831687 button.colab-df-convert');\n",
              "        buttonEl.style.display =\n",
              "          google.colab.kernel.accessAllowed ? 'block' : 'none';\n",
              "\n",
              "        async function convertToInteractive(key) {\n",
              "          const element = document.querySelector('#df-a832dbbe-5d63-4467-854e-f9a3f9831687');\n",
              "          const dataTable =\n",
              "            await google.colab.kernel.invokeFunction('convertToInteractive',\n",
              "                                                     [key], {});\n",
              "          if (!dataTable) return;\n",
              "\n",
              "          const docLinkHtml = 'Like what you see? Visit the ' +\n",
              "            '<a target=\"_blank\" href=https://colab.research.google.com/notebooks/data_table.ipynb>data table notebook</a>'\n",
              "            + ' to learn more about interactive tables.';\n",
              "          element.innerHTML = '';\n",
              "          dataTable['output_type'] = 'display_data';\n",
              "          await google.colab.output.renderOutput(dataTable, element);\n",
              "          const docLink = document.createElement('div');\n",
              "          docLink.innerHTML = docLinkHtml;\n",
              "          element.appendChild(docLink);\n",
              "        }\n",
              "      </script>\n",
              "    </div>\n",
              "  </div>\n",
              "  "
            ]
          },
          "metadata": {},
          "execution_count": 6
        }
      ]
    },
    {
      "cell_type": "code",
      "source": [
        "# Valid data\n",
        "split['valid']"
      ],
      "metadata": {
        "colab": {
          "base_uri": "https://localhost:8080/",
          "height": 424
        },
        "id": "dx3gm4l9bxdV",
        "outputId": "376a7e29-134c-4938-ca4f-392a46efc413"
      },
      "execution_count": null,
      "outputs": [
        {
          "output_type": "execute_result",
          "data": {
            "text/plain": [
              "                                               Drug_ID  \\\n",
              "0                              Heptanoic acid, 7-iodo-   \n",
              "1    2(1H)-Quinazolinone, 4-(3-hydroxyphenyl)-7-met...   \n",
              "2    Heptanoic acid, 2-(4-(3-(2-(trifluoromethyl)-1...   \n",
              "3                                  1-Butanol, 2-ethyl-   \n",
              "4    2,8,9-Trioxa-5-aza-1-silabicyclo(3.3.3)undecan...   \n",
              "..                                                 ...   \n",
              "733  (1)-alpha,alpha,4-Trimethylcyclohex-3-ene-1-me...   \n",
              "734               5-(Aminomethyl)isoxazol-3-ol hydrate   \n",
              "735                       Acetaldehyde, diethyl acetal   \n",
              "736  3H-1,4-Benzodiazepin-2-amine, 7-chloro-N-(cycl...   \n",
              "737  p-Toluidine, 2,6-dinitro-N-ethyl-N-(2-methyl-2...   \n",
              "\n",
              "                                                  Drug      Y  \n",
              "0                                        O=C(O)CCCCCCI  2.058  \n",
              "1             Cc1ccc2c(-c3cccc(O)c3)nc(=O)n(C(C)C)c2c1  2.266  \n",
              "2    CCCCCCC(=O)OCCN1CCN(CCCN2c3ccccc3Sc3ccc(C(F)(F...  3.378  \n",
              "3                                            CCC(CC)CO  1.742  \n",
              "4                     Clc1cccc([Si]23OCCN(CCO2)CCO3)c1  4.255  \n",
              "..                                                 ...    ...  \n",
              "733                               CC1=CCC(C(C)(C)O)CC1  1.475  \n",
              "734                                   NCc1cc(=O)[nH]o1  3.404  \n",
              "735                                         CCOC(C)OCC  1.410  \n",
              "736    [O-][N+]1=C(c2ccccc2)c2cc(Cl)ccc2N=C(NCC2CC2)C1  1.888  \n",
              "737  C=C(C)CN(CC)c1c([N+](=O)[O-])cc(C(F)(F)F)cc1[N...  1.523  \n",
              "\n",
              "[738 rows x 3 columns]"
            ],
            "text/html": [
              "\n",
              "  <div id=\"df-ae5b2054-f086-4a38-b0c8-f09e2b943f2b\">\n",
              "    <div class=\"colab-df-container\">\n",
              "      <div>\n",
              "<style scoped>\n",
              "    .dataframe tbody tr th:only-of-type {\n",
              "        vertical-align: middle;\n",
              "    }\n",
              "\n",
              "    .dataframe tbody tr th {\n",
              "        vertical-align: top;\n",
              "    }\n",
              "\n",
              "    .dataframe thead th {\n",
              "        text-align: right;\n",
              "    }\n",
              "</style>\n",
              "<table border=\"1\" class=\"dataframe\">\n",
              "  <thead>\n",
              "    <tr style=\"text-align: right;\">\n",
              "      <th></th>\n",
              "      <th>Drug_ID</th>\n",
              "      <th>Drug</th>\n",
              "      <th>Y</th>\n",
              "    </tr>\n",
              "  </thead>\n",
              "  <tbody>\n",
              "    <tr>\n",
              "      <th>0</th>\n",
              "      <td>Heptanoic acid, 7-iodo-</td>\n",
              "      <td>O=C(O)CCCCCCI</td>\n",
              "      <td>2.058</td>\n",
              "    </tr>\n",
              "    <tr>\n",
              "      <th>1</th>\n",
              "      <td>2(1H)-Quinazolinone, 4-(3-hydroxyphenyl)-7-met...</td>\n",
              "      <td>Cc1ccc2c(-c3cccc(O)c3)nc(=O)n(C(C)C)c2c1</td>\n",
              "      <td>2.266</td>\n",
              "    </tr>\n",
              "    <tr>\n",
              "      <th>2</th>\n",
              "      <td>Heptanoic acid, 2-(4-(3-(2-(trifluoromethyl)-1...</td>\n",
              "      <td>CCCCCCC(=O)OCCN1CCN(CCCN2c3ccccc3Sc3ccc(C(F)(F...</td>\n",
              "      <td>3.378</td>\n",
              "    </tr>\n",
              "    <tr>\n",
              "      <th>3</th>\n",
              "      <td>1-Butanol, 2-ethyl-</td>\n",
              "      <td>CCC(CC)CO</td>\n",
              "      <td>1.742</td>\n",
              "    </tr>\n",
              "    <tr>\n",
              "      <th>4</th>\n",
              "      <td>2,8,9-Trioxa-5-aza-1-silabicyclo(3.3.3)undecan...</td>\n",
              "      <td>Clc1cccc([Si]23OCCN(CCO2)CCO3)c1</td>\n",
              "      <td>4.255</td>\n",
              "    </tr>\n",
              "    <tr>\n",
              "      <th>...</th>\n",
              "      <td>...</td>\n",
              "      <td>...</td>\n",
              "      <td>...</td>\n",
              "    </tr>\n",
              "    <tr>\n",
              "      <th>733</th>\n",
              "      <td>(1)-alpha,alpha,4-Trimethylcyclohex-3-ene-1-me...</td>\n",
              "      <td>CC1=CCC(C(C)(C)O)CC1</td>\n",
              "      <td>1.475</td>\n",
              "    </tr>\n",
              "    <tr>\n",
              "      <th>734</th>\n",
              "      <td>5-(Aminomethyl)isoxazol-3-ol hydrate</td>\n",
              "      <td>NCc1cc(=O)[nH]o1</td>\n",
              "      <td>3.404</td>\n",
              "    </tr>\n",
              "    <tr>\n",
              "      <th>735</th>\n",
              "      <td>Acetaldehyde, diethyl acetal</td>\n",
              "      <td>CCOC(C)OCC</td>\n",
              "      <td>1.410</td>\n",
              "    </tr>\n",
              "    <tr>\n",
              "      <th>736</th>\n",
              "      <td>3H-1,4-Benzodiazepin-2-amine, 7-chloro-N-(cycl...</td>\n",
              "      <td>[O-][N+]1=C(c2ccccc2)c2cc(Cl)ccc2N=C(NCC2CC2)C1</td>\n",
              "      <td>1.888</td>\n",
              "    </tr>\n",
              "    <tr>\n",
              "      <th>737</th>\n",
              "      <td>p-Toluidine, 2,6-dinitro-N-ethyl-N-(2-methyl-2...</td>\n",
              "      <td>C=C(C)CN(CC)c1c([N+](=O)[O-])cc(C(F)(F)F)cc1[N...</td>\n",
              "      <td>1.523</td>\n",
              "    </tr>\n",
              "  </tbody>\n",
              "</table>\n",
              "<p>738 rows × 3 columns</p>\n",
              "</div>\n",
              "      <button class=\"colab-df-convert\" onclick=\"convertToInteractive('df-ae5b2054-f086-4a38-b0c8-f09e2b943f2b')\"\n",
              "              title=\"Convert this dataframe to an interactive table.\"\n",
              "              style=\"display:none;\">\n",
              "        \n",
              "  <svg xmlns=\"http://www.w3.org/2000/svg\" height=\"24px\"viewBox=\"0 0 24 24\"\n",
              "       width=\"24px\">\n",
              "    <path d=\"M0 0h24v24H0V0z\" fill=\"none\"/>\n",
              "    <path d=\"M18.56 5.44l.94 2.06.94-2.06 2.06-.94-2.06-.94-.94-2.06-.94 2.06-2.06.94zm-11 1L8.5 8.5l.94-2.06 2.06-.94-2.06-.94L8.5 2.5l-.94 2.06-2.06.94zm10 10l.94 2.06.94-2.06 2.06-.94-2.06-.94-.94-2.06-.94 2.06-2.06.94z\"/><path d=\"M17.41 7.96l-1.37-1.37c-.4-.4-.92-.59-1.43-.59-.52 0-1.04.2-1.43.59L10.3 9.45l-7.72 7.72c-.78.78-.78 2.05 0 2.83L4 21.41c.39.39.9.59 1.41.59.51 0 1.02-.2 1.41-.59l7.78-7.78 2.81-2.81c.8-.78.8-2.07 0-2.86zM5.41 20L4 18.59l7.72-7.72 1.47 1.35L5.41 20z\"/>\n",
              "  </svg>\n",
              "      </button>\n",
              "      \n",
              "  <style>\n",
              "    .colab-df-container {\n",
              "      display:flex;\n",
              "      flex-wrap:wrap;\n",
              "      gap: 12px;\n",
              "    }\n",
              "\n",
              "    .colab-df-convert {\n",
              "      background-color: #E8F0FE;\n",
              "      border: none;\n",
              "      border-radius: 50%;\n",
              "      cursor: pointer;\n",
              "      display: none;\n",
              "      fill: #1967D2;\n",
              "      height: 32px;\n",
              "      padding: 0 0 0 0;\n",
              "      width: 32px;\n",
              "    }\n",
              "\n",
              "    .colab-df-convert:hover {\n",
              "      background-color: #E2EBFA;\n",
              "      box-shadow: 0px 1px 2px rgba(60, 64, 67, 0.3), 0px 1px 3px 1px rgba(60, 64, 67, 0.15);\n",
              "      fill: #174EA6;\n",
              "    }\n",
              "\n",
              "    [theme=dark] .colab-df-convert {\n",
              "      background-color: #3B4455;\n",
              "      fill: #D2E3FC;\n",
              "    }\n",
              "\n",
              "    [theme=dark] .colab-df-convert:hover {\n",
              "      background-color: #434B5C;\n",
              "      box-shadow: 0px 1px 3px 1px rgba(0, 0, 0, 0.15);\n",
              "      filter: drop-shadow(0px 1px 2px rgba(0, 0, 0, 0.3));\n",
              "      fill: #FFFFFF;\n",
              "    }\n",
              "  </style>\n",
              "\n",
              "      <script>\n",
              "        const buttonEl =\n",
              "          document.querySelector('#df-ae5b2054-f086-4a38-b0c8-f09e2b943f2b button.colab-df-convert');\n",
              "        buttonEl.style.display =\n",
              "          google.colab.kernel.accessAllowed ? 'block' : 'none';\n",
              "\n",
              "        async function convertToInteractive(key) {\n",
              "          const element = document.querySelector('#df-ae5b2054-f086-4a38-b0c8-f09e2b943f2b');\n",
              "          const dataTable =\n",
              "            await google.colab.kernel.invokeFunction('convertToInteractive',\n",
              "                                                     [key], {});\n",
              "          if (!dataTable) return;\n",
              "\n",
              "          const docLinkHtml = 'Like what you see? Visit the ' +\n",
              "            '<a target=\"_blank\" href=https://colab.research.google.com/notebooks/data_table.ipynb>data table notebook</a>'\n",
              "            + ' to learn more about interactive tables.';\n",
              "          element.innerHTML = '';\n",
              "          dataTable['output_type'] = 'display_data';\n",
              "          await google.colab.output.renderOutput(dataTable, element);\n",
              "          const docLink = document.createElement('div');\n",
              "          docLink.innerHTML = docLinkHtml;\n",
              "          element.appendChild(docLink);\n",
              "        }\n",
              "      </script>\n",
              "    </div>\n",
              "  </div>\n",
              "  "
            ]
          },
          "metadata": {},
          "execution_count": 7
        }
      ]
    },
    {
      "cell_type": "code",
      "source": [
        "# Tset data\n",
        "split['test']"
      ],
      "metadata": {
        "colab": {
          "base_uri": "https://localhost:8080/",
          "height": 424
        },
        "id": "F0N12kEob5X2",
        "outputId": "f143b447-6842-48b3-90f3-a1db717be588"
      },
      "execution_count": null,
      "outputs": [
        {
          "output_type": "execute_result",
          "data": {
            "text/plain": [
              "                                                Drug_ID  \\\n",
              "0     Ether, alpha-(bromomethyl)-p-cyclopentylbenzyl...   \n",
              "1                               Benzene, 1,4-dinitroso-   \n",
              "2     Succinic acid, mercapto-, diethyl ester, S-est...   \n",
              "3          Phosphorodithioic acid, O,S,S-triethyl ester   \n",
              "4                                Phenol, 2-octyl- (9CI)   \n",
              "...                                                 ...   \n",
              "1472  1H-1,2,4-Triazole, 1-((2-(2,4-dichlorophenyl)-...   \n",
              "1473  Phosphorothioic acid, O-(3-chloro-4-nitropheny...   \n",
              "1474  Dibenz(b,f)oxepin-2-acetic acid, 10,11-dihydro...   \n",
              "1475  Phosphorothioic acid, O,O-dimethyl S-(2-(ethyl...   \n",
              "1476  Cyclopropanecarboxylic acid, 2,2-dimethyl-3-(2...   \n",
              "\n",
              "                                             Drug      Y  \n",
              "0                    CCCCOC(CBr)c1ccc(C2CCCC2)cc1  3.114  \n",
              "1                                O=Nc1ccc(N=O)cc1  2.125  \n",
              "2                CCOC(=O)CC(SP(=O)(OC)SC)C(=O)OCC  3.466  \n",
              "3                                CCOP(=O)(SCC)SCC  3.185  \n",
              "4                               CCCCCCCCc1ccccc1O  1.867  \n",
              "...                                           ...    ...  \n",
              "1472         CCCC1COC(Cn2cncn2)(c2ccc(Cl)cc2Cl)O1  2.353  \n",
              "1473     CCOP(=S)(OCC)Oc1ccc([N+](=O)[O-])c(Cl)c1  3.814  \n",
              "1474        Cc1ccc2c(c1)CC(=O)c1cc(CC(=O)O)ccc1O2  2.937  \n",
              "1475                    CCS(=O)(=O)CCSP(=O)(OC)OC  3.908  \n",
              "1476  CC(C)=CC1C(C(=O)OCc2coc(Cc3ccccc3)c2)C1(C)C  3.730  \n",
              "\n",
              "[1477 rows x 3 columns]"
            ],
            "text/html": [
              "\n",
              "  <div id=\"df-f50efea1-5594-479c-a4a1-3dcf156932ab\">\n",
              "    <div class=\"colab-df-container\">\n",
              "      <div>\n",
              "<style scoped>\n",
              "    .dataframe tbody tr th:only-of-type {\n",
              "        vertical-align: middle;\n",
              "    }\n",
              "\n",
              "    .dataframe tbody tr th {\n",
              "        vertical-align: top;\n",
              "    }\n",
              "\n",
              "    .dataframe thead th {\n",
              "        text-align: right;\n",
              "    }\n",
              "</style>\n",
              "<table border=\"1\" class=\"dataframe\">\n",
              "  <thead>\n",
              "    <tr style=\"text-align: right;\">\n",
              "      <th></th>\n",
              "      <th>Drug_ID</th>\n",
              "      <th>Drug</th>\n",
              "      <th>Y</th>\n",
              "    </tr>\n",
              "  </thead>\n",
              "  <tbody>\n",
              "    <tr>\n",
              "      <th>0</th>\n",
              "      <td>Ether, alpha-(bromomethyl)-p-cyclopentylbenzyl...</td>\n",
              "      <td>CCCCOC(CBr)c1ccc(C2CCCC2)cc1</td>\n",
              "      <td>3.114</td>\n",
              "    </tr>\n",
              "    <tr>\n",
              "      <th>1</th>\n",
              "      <td>Benzene, 1,4-dinitroso-</td>\n",
              "      <td>O=Nc1ccc(N=O)cc1</td>\n",
              "      <td>2.125</td>\n",
              "    </tr>\n",
              "    <tr>\n",
              "      <th>2</th>\n",
              "      <td>Succinic acid, mercapto-, diethyl ester, S-est...</td>\n",
              "      <td>CCOC(=O)CC(SP(=O)(OC)SC)C(=O)OCC</td>\n",
              "      <td>3.466</td>\n",
              "    </tr>\n",
              "    <tr>\n",
              "      <th>3</th>\n",
              "      <td>Phosphorodithioic acid, O,S,S-triethyl ester</td>\n",
              "      <td>CCOP(=O)(SCC)SCC</td>\n",
              "      <td>3.185</td>\n",
              "    </tr>\n",
              "    <tr>\n",
              "      <th>4</th>\n",
              "      <td>Phenol, 2-octyl- (9CI)</td>\n",
              "      <td>CCCCCCCCc1ccccc1O</td>\n",
              "      <td>1.867</td>\n",
              "    </tr>\n",
              "    <tr>\n",
              "      <th>...</th>\n",
              "      <td>...</td>\n",
              "      <td>...</td>\n",
              "      <td>...</td>\n",
              "    </tr>\n",
              "    <tr>\n",
              "      <th>1472</th>\n",
              "      <td>1H-1,2,4-Triazole, 1-((2-(2,4-dichlorophenyl)-...</td>\n",
              "      <td>CCCC1COC(Cn2cncn2)(c2ccc(Cl)cc2Cl)O1</td>\n",
              "      <td>2.353</td>\n",
              "    </tr>\n",
              "    <tr>\n",
              "      <th>1473</th>\n",
              "      <td>Phosphorothioic acid, O-(3-chloro-4-nitropheny...</td>\n",
              "      <td>CCOP(=S)(OCC)Oc1ccc([N+](=O)[O-])c(Cl)c1</td>\n",
              "      <td>3.814</td>\n",
              "    </tr>\n",
              "    <tr>\n",
              "      <th>1474</th>\n",
              "      <td>Dibenz(b,f)oxepin-2-acetic acid, 10,11-dihydro...</td>\n",
              "      <td>Cc1ccc2c(c1)CC(=O)c1cc(CC(=O)O)ccc1O2</td>\n",
              "      <td>2.937</td>\n",
              "    </tr>\n",
              "    <tr>\n",
              "      <th>1475</th>\n",
              "      <td>Phosphorothioic acid, O,O-dimethyl S-(2-(ethyl...</td>\n",
              "      <td>CCS(=O)(=O)CCSP(=O)(OC)OC</td>\n",
              "      <td>3.908</td>\n",
              "    </tr>\n",
              "    <tr>\n",
              "      <th>1476</th>\n",
              "      <td>Cyclopropanecarboxylic acid, 2,2-dimethyl-3-(2...</td>\n",
              "      <td>CC(C)=CC1C(C(=O)OCc2coc(Cc3ccccc3)c2)C1(C)C</td>\n",
              "      <td>3.730</td>\n",
              "    </tr>\n",
              "  </tbody>\n",
              "</table>\n",
              "<p>1477 rows × 3 columns</p>\n",
              "</div>\n",
              "      <button class=\"colab-df-convert\" onclick=\"convertToInteractive('df-f50efea1-5594-479c-a4a1-3dcf156932ab')\"\n",
              "              title=\"Convert this dataframe to an interactive table.\"\n",
              "              style=\"display:none;\">\n",
              "        \n",
              "  <svg xmlns=\"http://www.w3.org/2000/svg\" height=\"24px\"viewBox=\"0 0 24 24\"\n",
              "       width=\"24px\">\n",
              "    <path d=\"M0 0h24v24H0V0z\" fill=\"none\"/>\n",
              "    <path d=\"M18.56 5.44l.94 2.06.94-2.06 2.06-.94-2.06-.94-.94-2.06-.94 2.06-2.06.94zm-11 1L8.5 8.5l.94-2.06 2.06-.94-2.06-.94L8.5 2.5l-.94 2.06-2.06.94zm10 10l.94 2.06.94-2.06 2.06-.94-2.06-.94-.94-2.06-.94 2.06-2.06.94z\"/><path d=\"M17.41 7.96l-1.37-1.37c-.4-.4-.92-.59-1.43-.59-.52 0-1.04.2-1.43.59L10.3 9.45l-7.72 7.72c-.78.78-.78 2.05 0 2.83L4 21.41c.39.39.9.59 1.41.59.51 0 1.02-.2 1.41-.59l7.78-7.78 2.81-2.81c.8-.78.8-2.07 0-2.86zM5.41 20L4 18.59l7.72-7.72 1.47 1.35L5.41 20z\"/>\n",
              "  </svg>\n",
              "      </button>\n",
              "      \n",
              "  <style>\n",
              "    .colab-df-container {\n",
              "      display:flex;\n",
              "      flex-wrap:wrap;\n",
              "      gap: 12px;\n",
              "    }\n",
              "\n",
              "    .colab-df-convert {\n",
              "      background-color: #E8F0FE;\n",
              "      border: none;\n",
              "      border-radius: 50%;\n",
              "      cursor: pointer;\n",
              "      display: none;\n",
              "      fill: #1967D2;\n",
              "      height: 32px;\n",
              "      padding: 0 0 0 0;\n",
              "      width: 32px;\n",
              "    }\n",
              "\n",
              "    .colab-df-convert:hover {\n",
              "      background-color: #E2EBFA;\n",
              "      box-shadow: 0px 1px 2px rgba(60, 64, 67, 0.3), 0px 1px 3px 1px rgba(60, 64, 67, 0.15);\n",
              "      fill: #174EA6;\n",
              "    }\n",
              "\n",
              "    [theme=dark] .colab-df-convert {\n",
              "      background-color: #3B4455;\n",
              "      fill: #D2E3FC;\n",
              "    }\n",
              "\n",
              "    [theme=dark] .colab-df-convert:hover {\n",
              "      background-color: #434B5C;\n",
              "      box-shadow: 0px 1px 3px 1px rgba(0, 0, 0, 0.15);\n",
              "      filter: drop-shadow(0px 1px 2px rgba(0, 0, 0, 0.3));\n",
              "      fill: #FFFFFF;\n",
              "    }\n",
              "  </style>\n",
              "\n",
              "      <script>\n",
              "        const buttonEl =\n",
              "          document.querySelector('#df-f50efea1-5594-479c-a4a1-3dcf156932ab button.colab-df-convert');\n",
              "        buttonEl.style.display =\n",
              "          google.colab.kernel.accessAllowed ? 'block' : 'none';\n",
              "\n",
              "        async function convertToInteractive(key) {\n",
              "          const element = document.querySelector('#df-f50efea1-5594-479c-a4a1-3dcf156932ab');\n",
              "          const dataTable =\n",
              "            await google.colab.kernel.invokeFunction('convertToInteractive',\n",
              "                                                     [key], {});\n",
              "          if (!dataTable) return;\n",
              "\n",
              "          const docLinkHtml = 'Like what you see? Visit the ' +\n",
              "            '<a target=\"_blank\" href=https://colab.research.google.com/notebooks/data_table.ipynb>data table notebook</a>'\n",
              "            + ' to learn more about interactive tables.';\n",
              "          element.innerHTML = '';\n",
              "          dataTable['output_type'] = 'display_data';\n",
              "          await google.colab.output.renderOutput(dataTable, element);\n",
              "          const docLink = document.createElement('div');\n",
              "          docLink.innerHTML = docLinkHtml;\n",
              "          element.appendChild(docLink);\n",
              "        }\n",
              "      </script>\n",
              "    </div>\n",
              "  </div>\n",
              "  "
            ]
          },
          "metadata": {},
          "execution_count": 8
        }
      ]
    },
    {
      "cell_type": "code",
      "source": [],
      "metadata": {
        "id": "TXYe5niayVsj"
      },
      "execution_count": null,
      "outputs": []
    },
    {
      "cell_type": "markdown",
      "source": [
        "# 데이터 전처리 (Data pre-processing)"
      ],
      "metadata": {
        "id": "CkXO35FJyVuh"
      }
    },
    {
      "cell_type": "markdown",
      "source": [
        "\n",
        "\n",
        "![](https://encrypted-tbn0.gstatic.com/images?q=tbn:ANd9GcRFKOgPo0QcY4xOM22QKWy1Z62-XlXFrPc9bw&usqp=CAU)\n",
        "\n",
        "\n",
        "**자세한 내용은 아래 링크 참조하세요**\n",
        "\n",
        "[RDkit](https://www.rdkit.org/docs/GettingStartedInPython.html)\n",
        "\n",
        "[Molecular representations in AI-driven drug discovery: a review and practical guide](https://jcheminf.biomedcentral.com/articles/10.1186/s13321-020-00460-5)\n",
        "\n",
        "\n",
        "[Extended-Connectivity Fingerprints](https://pubs.acs.org/doi/full/10.1021/ci100050tcasa_token=vsI6rp6l2RYAAAAA%3A_HTqMGypPZSQJnF4VqM4xl7KApBKMtKD1STnbh_EHOWeFOsfPKGETjY-SaiC-9XQtyhIEZHvGRRcMcEM)\n",
        "\n",
        "\n",
        "\n"
      ],
      "metadata": {
        "id": "rzROs0vTXobm"
      }
    },
    {
      "cell_type": "code",
      "source": [
        "from rdkit import Chem, DataStructs\n",
        "from rdkit.Chem import AllChem\n",
        "import numpy as np\n",
        "\n",
        "def smiles2morgan(s, radius = 2, nBits = 1024):\n",
        "    \"\"\"SMILES data를 morgan fingerprint 데이터로 변환\n",
        "\n",
        "    Args:\n",
        "        s (str): SMILES of a drug\n",
        "        radius (int): ECFP radius\n",
        "        bBits (int): size of binary representation\n",
        "\n",
        "    Return ():\n",
        "        morgan fingerprint \n",
        "\n",
        "    \"\"\"\n",
        "    try:\n",
        "        mol = Chem.MolFromSmiles(s)\n",
        "        features_vec = AllChem.GetMorganFingerprintAsBitVect(mol, radius, nBits=nBits)\n",
        "        features = np.zeros((1,))\n",
        "        DataStructs.ConvertToNumpyArray(features_vec, features)\n",
        "    except:\n",
        "        print('rdkit not found this smiles for morgan: ' + s + ' convert to all 0 features')\n",
        "        features = np.zeros((nBits, ))\n",
        "        \n",
        "    return features"
      ],
      "metadata": {
        "id": "TeBztfyeeH9G"
      },
      "execution_count": null,
      "outputs": []
    },
    {
      "cell_type": "code",
      "source": [
        "# 전처리 함수 적용하기\n",
        "\n",
        "for mode in ['train', 'valid', 'test']:  \n",
        "  split[mode]['embedding'] = split[mode]['Drug'].apply(smiles2morgan)"
      ],
      "metadata": {
        "id": "FH_IM0Y3eBko"
      },
      "execution_count": null,
      "outputs": []
    },
    {
      "cell_type": "code",
      "source": [
        "# morgan fingerprint로 변환된 데이터 확인 \n",
        "\n",
        "split[\"test\"]['embedding']"
      ],
      "metadata": {
        "colab": {
          "base_uri": "https://localhost:8080/"
        },
        "id": "JPudgLaLhzGF",
        "outputId": "5899e16b-1b51-4326-fca9-13e0c20b9630"
      },
      "execution_count": null,
      "outputs": [
        {
          "output_type": "execute_result",
          "data": {
            "text/plain": [
              "0       [0.0, 1.0, 0.0, 1.0, 1.0, 0.0, 0.0, 0.0, 0.0, ...\n",
              "1       [0.0, 0.0, 0.0, 0.0, 0.0, 0.0, 0.0, 0.0, 0.0, ...\n",
              "2       [0.0, 1.0, 0.0, 0.0, 0.0, 0.0, 0.0, 0.0, 0.0, ...\n",
              "3       [0.0, 0.0, 0.0, 0.0, 0.0, 0.0, 0.0, 0.0, 0.0, ...\n",
              "4       [0.0, 0.0, 0.0, 0.0, 0.0, 0.0, 0.0, 0.0, 0.0, ...\n",
              "                              ...                        \n",
              "1472    [1.0, 0.0, 0.0, 0.0, 0.0, 0.0, 0.0, 0.0, 0.0, ...\n",
              "1473    [0.0, 0.0, 0.0, 0.0, 0.0, 0.0, 0.0, 0.0, 0.0, ...\n",
              "1474    [0.0, 0.0, 0.0, 0.0, 0.0, 0.0, 0.0, 0.0, 0.0, ...\n",
              "1475    [0.0, 0.0, 0.0, 0.0, 0.0, 0.0, 0.0, 0.0, 0.0, ...\n",
              "1476    [0.0, 0.0, 0.0, 0.0, 0.0, 0.0, 0.0, 0.0, 0.0, ...\n",
              "Name: embedding, Length: 1477, dtype: object"
            ]
          },
          "metadata": {},
          "execution_count": 13
        }
      ]
    },
    {
      "cell_type": "code",
      "source": [],
      "metadata": {
        "id": "rYIwhPXBkI0C"
      },
      "execution_count": null,
      "outputs": []
    },
    {
      "cell_type": "markdown",
      "source": [
        "### Torch dataset & DataLoader 만들기"
      ],
      "metadata": {
        "id": "dQeWvBblE28-"
      }
    },
    {
      "cell_type": "code",
      "source": [
        "import torch\n",
        "from torch import nn \n",
        "import torch.nn.functional as F\n",
        "from torch.utils import data\n"
      ],
      "metadata": {
        "id": "RWQSGfStkI2P"
      },
      "execution_count": null,
      "outputs": []
    },
    {
      "cell_type": "code",
      "source": [
        "class data_process_loader(data.Dataset):\n",
        "    \"\"\"전처리한 데이터를 학습에 사용하기 위한 추상 클래스\n",
        "    torch.utils.data.Dataset을 상속\n",
        "    \"\"\"\n",
        "    def __init__(self, df):\n",
        "        # 생성자\n",
        "        # 앞서 전처리한 데이터 attribute에 저장\n",
        "        self.df = df\n",
        "\n",
        "    def __len__(self):\n",
        "        # 전체 샘플 개수 출력을 위한 method\n",
        "        return self.df.shape[0]\n",
        "\n",
        "    def __getitem__(self, index):\n",
        "        # 인덱스로 데이터에 접근하기 위한 method\n",
        "        v_d = self.df.iloc[index]['embedding']  # input\n",
        "        y = self.df.iloc[index]['Y'] # label\n",
        "\n",
        "        return v_d, y"
      ],
      "metadata": {
        "id": "CHDTrIlIhoLj"
      },
      "execution_count": null,
      "outputs": []
    },
    {
      "cell_type": "code",
      "source": [
        "train_dataset = data_process_loader(split[\"train\"])\n",
        "valid_dataset = data_process_loader(split[\"valid\"])\n",
        "test_dataset = data_process_loader(split[\"test\"])"
      ],
      "metadata": {
        "id": "BsB_h02ai2mu"
      },
      "execution_count": null,
      "outputs": []
    },
    {
      "cell_type": "code",
      "source": [
        "# DataLoader을 위한 hyperparameter 설정\n",
        "\n",
        "params = {'batch_size': 64,\n",
        "        'shuffle': True,\n",
        "        'num_workers': 1,\n",
        "        'drop_last': False}"
      ],
      "metadata": {
        "id": "beCdLDv_NO03"
      },
      "execution_count": null,
      "outputs": []
    },
    {
      "cell_type": "code",
      "source": [
        "training_generator = data.DataLoader(train_dataset, **params)\n",
        "valid_generator = data.DataLoader(valid_dataset, **params)\n",
        "test_generator = data.DataLoader(test_dataset, **params)"
      ],
      "metadata": {
        "id": "yf79NgnCdu86"
      },
      "execution_count": null,
      "outputs": []
    },
    {
      "cell_type": "code",
      "source": [
        "# DataLoader로 쌓인 데이터 확인해보기\n",
        "\n",
        "for v_d, y in training_generator:\n",
        "    print(v_d)\n",
        "    print(v_d.shape)\n",
        "    print()\n",
        "    print(y)\n",
        "    print(y.shape)\n",
        "    break"
      ],
      "metadata": {
        "colab": {
          "base_uri": "https://localhost:8080/"
        },
        "id": "Z9-Q4K9DjAtl",
        "outputId": "63dfcd6a-469f-4b72-b385-60520bd7a958"
      },
      "execution_count": null,
      "outputs": [
        {
          "output_type": "stream",
          "name": "stdout",
          "text": [
            "tensor([[0., 0., 0.,  ..., 0., 0., 0.],\n",
            "        [0., 0., 0.,  ..., 0., 0., 0.],\n",
            "        [0., 0., 0.,  ..., 0., 0., 0.],\n",
            "        ...,\n",
            "        [0., 0., 0.,  ..., 0., 0., 0.],\n",
            "        [0., 0., 0.,  ..., 0., 0., 0.],\n",
            "        [0., 0., 0.,  ..., 0., 0., 0.]], dtype=torch.float64)\n",
            "torch.Size([64, 1024])\n",
            "\n",
            "tensor([2.6820, 2.2340, 1.8290, 4.0320, 1.3790, 3.0260, 2.7370, 1.0810, 2.6020,\n",
            "        2.0810, 4.7400, 3.4380, 2.9720, 2.2130, 2.3400, 2.4850, 3.4290, 1.5270,\n",
            "        2.2440, 2.7110, 1.9390, 2.2370, 2.9260, 2.3450, 2.0960, 2.2030, 1.7020,\n",
            "        1.6450, 3.1990, 1.8980, 1.8900, 1.7030, 1.7720, 2.1540, 1.8050, 3.7800,\n",
            "        2.6360, 3.5670, 1.7650, 1.7770, 2.5150, 2.9480, 3.0080, 3.5970, 2.1230,\n",
            "        2.6060, 1.8580, 2.9280, 2.4320, 3.3260, 3.3430, 4.3190, 1.8180, 2.0550,\n",
            "        3.3390, 3.0180, 2.8910, 2.3390, 3.1800, 1.8120, 2.2730, 3.6110, 1.6910,\n",
            "        1.5880], dtype=torch.float64)\n",
            "torch.Size([64])\n"
          ]
        }
      ]
    },
    {
      "cell_type": "code",
      "source": [],
      "metadata": {
        "id": "wSpC2FxTjAvt"
      },
      "execution_count": null,
      "outputs": []
    },
    {
      "cell_type": "code",
      "source": [
        "device = torch.device('cuda' if torch.cuda.is_available() else 'cpu')\n",
        "print(f\"현재 device는 {device} 입니다.\")"
      ],
      "metadata": {
        "id": "8zKytNS2jAzt",
        "colab": {
          "base_uri": "https://localhost:8080/"
        },
        "outputId": "ceb9c8e3-6474-4368-eab9-ef13009f3617"
      },
      "execution_count": null,
      "outputs": [
        {
          "output_type": "stream",
          "name": "stdout",
          "text": [
            "현재 device는 cuda 입니다.\n"
          ]
        }
      ]
    },
    {
      "cell_type": "markdown",
      "source": [
        "# 모델 만들기"
      ],
      "metadata": {
        "id": "SuBWlQZGG1Mi"
      }
    },
    {
      "cell_type": "markdown",
      "source": [
        "### Feature extractor\n"
      ],
      "metadata": {
        "id": "KQWEwnH5JqTt"
      }
    },
    {
      "cell_type": "code",
      "source": [
        "class MLP(nn.Sequential):\n",
        "\tdef __init__(self, input_dim, output_dim, hidden_dims_lst):\n",
        "\t\t'''Feature extractor\n",
        "\t\t\tArgs:\n",
        "\t\t\t\tinput_dim (int): 입력층 차원\n",
        "\t\t\t\toutput_dim (int): 출력층 차원\n",
        "\t\t\t\thidden_dims_lst (list): hidden 차원의 차원\n",
        "\t\t'''\n",
        "\t\tsuper(MLP, self).__init__()\n",
        "  \n",
        "\t\t# Feature extractor layer size \n",
        "\t\tlayer_size = len(hidden_dims_lst) + 1\n",
        "\n",
        "\t\t# 각 층의 차원 크기를 담은 리스트 \n",
        "\t\tdims = [input_dim] + hidden_dims_lst + [output_dim]\n",
        "\n",
        "\t\t# 입력층, hidden 층, 출력층 차원대로 linear layer 쌓기\n",
        "\t\tself.predictor = nn.ModuleList([nn.Linear(dims[i], dims[i+1]) for i in range(layer_size)])\n",
        "\n",
        "\tdef forward(self, v):\n",
        "\t\t# 입력 데이터 v로 \bforward pass \n",
        "\t\tv = v.float().to(device)\n",
        "\t\tfor i, l in enumerate(self.predictor):\n",
        "\t\t\tv = F.relu(l(v))\n",
        "\t\treturn v  \n"
      ],
      "metadata": {
        "id": "ccchjmwcewcl"
      },
      "execution_count": null,
      "outputs": []
    },
    {
      "cell_type": "markdown",
      "source": [
        "### Classifier"
      ],
      "metadata": {
        "id": "Q5xk2xNNJv7r"
      }
    },
    {
      "cell_type": "code",
      "source": [
        "class Classifier(nn.Sequential):\n",
        "\tdef __init__(self, model_drug, hidden_dim_drug, cls_hidden_dims):\n",
        "\t\t'''Classifier\n",
        "\t\t\tArgs:\n",
        "\t\t\t\tmodel_drug : 앞서 생성한 Feature extractor \n",
        "\t\t\t\thidden_dim_drug (int): \n",
        "Classifier 입력층 차원\n",
        "\t\t\t\tcls_hidden_dims (list): \n",
        "Classifier hidden 차원\n",
        "\t\t'''\n",
        "\t\tsuper(Classifier, self).__init__()\n",
        "  \n",
        "\t\t# feature extractor\n",
        "\t\tself.model_drug = model_drug\n",
        "\n",
        "\t\t# dropout\n",
        "\t\tself.dropout = nn.Dropout(0.1)\n",
        "  \n",
        "\t\t# classifier 입력 차원\n",
        "\t\tself.input_dim_drug = hidden_dim_drug\n",
        "\n",
        "\t\t# classifier hidden 차원\n",
        "\t\tself.hidden_dims = cls_hidden_dims\n",
        "\n",
        "\t\t# classifier layer size \n",
        "\t\tlayer_size = len(self.hidden_dims) + 1\n",
        "\n",
        "\t\t# 각 층의 차원 크기를 담은 리스트 \n",
        "\t\tdims = [self.input_dim_drug] + self.hidden_dims + [1]\n",
        "\t\t\n",
        "\t\t# 입력층, hidden 층, 출력층 차원대로 linear layer 쌓기\n",
        "\t\tself.predictor = nn.ModuleList([nn.Linear(dims[i], dims[i+1]) for i in range(layer_size)])\n",
        "\n",
        "\tdef forward(self, v_D):\n",
        "\t\t# feature extractor로 입력 데이터 encoding\n",
        "\t\tv_f = self.model_drug(v_D)\n",
        "\t\t\n",
        "\t\t# forword-pass with classify \n",
        "\t\tfor i, l in enumerate(self.predictor):\n",
        "\t\t\tif i==(len(self.predictor)-1):\n",
        "\t\t\t\tv_f = l(v_f)\n",
        "\t\t\telse:\n",
        "\t\t\t\tv_f = F.relu(self.dropout(l(v_f)))\n",
        "\t\treturn v_f "
      ],
      "metadata": {
        "id": "9tAmcXxZfoZq"
      },
      "execution_count": null,
      "outputs": []
    },
    {
      "cell_type": "code",
      "source": [],
      "metadata": {
        "id": "XkLv_33IDuj1"
      },
      "execution_count": null,
      "outputs": []
    },
    {
      "cell_type": "code",
      "source": [
        "# 모델 hyperparameter\n",
        "\n",
        "input_dim_drug = 1024\n",
        "hidden_dim_drug = 256\n",
        "cls_hidden_dims = [1024, 1024, 512]\n",
        "mlp_hidden_dims_drug = [1024, 256, 64]"
      ],
      "metadata": {
        "id": "eUuSwXM6CFSI"
      },
      "execution_count": null,
      "outputs": []
    },
    {
      "cell_type": "code",
      "source": [
        "# 모델 선언하기\n",
        "model_drug = MLP(1024, hidden_dim_drug, mlp_hidden_dims_drug)"
      ],
      "metadata": {
        "id": "wScKIJbVBNy-"
      },
      "execution_count": null,
      "outputs": []
    },
    {
      "cell_type": "code",
      "source": [
        "model_drug"
      ],
      "metadata": {
        "colab": {
          "base_uri": "https://localhost:8080/"
        },
        "id": "4MdTB8whexHI",
        "outputId": "46776013-1dd5-43ef-d85a-e4046a8312a9"
      },
      "execution_count": null,
      "outputs": [
        {
          "output_type": "execute_result",
          "data": {
            "text/plain": [
              "MLP(\n",
              "  (predictor): ModuleList(\n",
              "    (0): Linear(in_features=1024, out_features=1024, bias=True)\n",
              "    (1): Linear(in_features=1024, out_features=256, bias=True)\n",
              "    (2): Linear(in_features=256, out_features=64, bias=True)\n",
              "    (3): Linear(in_features=64, out_features=256, bias=True)\n",
              "  )\n",
              ")"
            ]
          },
          "metadata": {},
          "execution_count": 28
        }
      ]
    },
    {
      "cell_type": "code",
      "source": [
        "model = Classifier(model_drug, hidden_dim_drug, cls_hidden_dims)"
      ],
      "metadata": {
        "id": "a2KH3L1vexJP"
      },
      "execution_count": null,
      "outputs": []
    },
    {
      "cell_type": "code",
      "source": [
        "model"
      ],
      "metadata": {
        "id": "SGjolGIECQZx",
        "colab": {
          "base_uri": "https://localhost:8080/"
        },
        "outputId": "4938f49a-62c7-4273-c488-3e9ed8f75e13"
      },
      "execution_count": null,
      "outputs": [
        {
          "output_type": "execute_result",
          "data": {
            "text/plain": [
              "Classifier(\n",
              "  (model_drug): MLP(\n",
              "    (predictor): ModuleList(\n",
              "      (0): Linear(in_features=1024, out_features=1024, bias=True)\n",
              "      (1): Linear(in_features=1024, out_features=256, bias=True)\n",
              "      (2): Linear(in_features=256, out_features=64, bias=True)\n",
              "      (3): Linear(in_features=64, out_features=256, bias=True)\n",
              "    )\n",
              "  )\n",
              "  (dropout): Dropout(p=0.1, inplace=False)\n",
              "  (predictor): ModuleList(\n",
              "    (0): Linear(in_features=256, out_features=1024, bias=True)\n",
              "    (1): Linear(in_features=1024, out_features=1024, bias=True)\n",
              "    (2): Linear(in_features=1024, out_features=512, bias=True)\n",
              "    (3): Linear(in_features=512, out_features=1, bias=True)\n",
              "  )\n",
              ")"
            ]
          },
          "metadata": {},
          "execution_count": 30
        }
      ]
    },
    {
      "cell_type": "markdown",
      "source": [
        "# 모델 학습 진행 (model training)\n"
      ],
      "metadata": {
        "id": "aM55jARCLVny"
      }
    },
    {
      "cell_type": "code",
      "source": [
        "# 학습 진행에 필요한 hyperparameter \n",
        "\n",
        "learning_rate = 0.0001\n",
        "decay         = 0.00001\n",
        "train_epoch   = 15"
      ],
      "metadata": {
        "id": "l4L79wz4EI-C"
      },
      "execution_count": null,
      "outputs": []
    },
    {
      "cell_type": "code",
      "source": [
        "# optimizer \n",
        "\n",
        "opt      = torch.optim.Adam(model.parameters(), lr = learning_rate, weight_decay = decay)\n",
        "loss_fn = torch.nn.MSELoss()"
      ],
      "metadata": {
        "id": "8dM8TJ8fENqt"
      },
      "execution_count": null,
      "outputs": []
    },
    {
      "cell_type": "code",
      "source": [
        "# 라이브러리 호출\n",
        "\n",
        "import copy\n",
        "from prettytable import PrettyTable\n",
        "from time import time\n",
        "from sklearn.metrics import mean_squared_error\n",
        "from scipy.stats import pearsonr\n",
        "from lifelines.utils import concordance_index\n"
      ],
      "metadata": {
        "id": "z8JWJnA6ld_p"
      },
      "execution_count": null,
      "outputs": []
    },
    {
      "cell_type": "code",
      "source": [
        "\n",
        "loss_history = []\n",
        "\n",
        "max_MSE = 10000\n",
        "\n",
        "# 모델 GPU 메모리에 올리기\n",
        "model = model.to(device)\n",
        "\n",
        "# Best 모델 초기화\n",
        "model_max = copy.deepcopy(model)\n",
        "\n",
        "# 결과 정리를 위한 PrettyTable\n",
        "valid_metric_record = []\n",
        "valid_metric_header = [\"# epoch\"] \n",
        "valid_metric_header.extend([\"MSE\", \"Pearson Correlation\", \"with p-value\", \"Concordance Index\"])\n",
        "table = PrettyTable(valid_metric_header)\n",
        "\n",
        "float2str = lambda x:'%0.4f'%x # float 소숫점 4자리까지만 str로 바꾸기 \n",
        "\n",
        "# 학습 진행\n",
        "print('--- Go for Training ---')\n",
        "# 학습 시작 시간 기록 \n",
        "t_start = time() \n",
        "\n",
        "for epo in range(train_epoch):\n",
        "    # Model training \n",
        "    model.train()\n",
        "    \n",
        "    # Mini-batch 학습 \n",
        "    for i, (v_d, label) in enumerate(training_generator):\n",
        "        # input data gpu에 올리기 \n",
        "        v_d = v_d.float().to(device) \n",
        "        # forward-pass\n",
        "        score = model(v_d) \n",
        "\n",
        "        n = torch.squeeze(score, 1)\n",
        "\n",
        "        # 미리 정의한 손실함수(MSE)로 손실(loss) 계산 \n",
        "        loss = loss_fn(n.float(), label.float().to(device))\n",
        "\n",
        "        # 각 iteration 마다 loss 기록 \n",
        "        loss_history.append(loss.item())\n",
        "\n",
        "        # gradient 초기화\n",
        "        opt.zero_grad()\n",
        "        # back propagation\n",
        "        loss.backward()\n",
        "        # parameter update\n",
        "        opt.step()\n",
        "    \n",
        "    # gradient tracking X\n",
        "    with torch.set_grad_enabled(False):\n",
        "        \n",
        "        y_pred = []\n",
        "        y_label = []\n",
        "        # model validation\n",
        "        model.eval()\n",
        "\n",
        "        for i, (v_d, label) in enumerate(valid_generator):\n",
        "            # validation 입력 데이터 gpu에 올리기\n",
        "            v_d = v_d.float().to(device)\n",
        "\n",
        "            # forward-pass\n",
        "            score = model(v_d)\n",
        "\n",
        "            # \b예측값, 참값 cpu로 옮기고 numpy 형으로 변환\n",
        "            logits = torch.squeeze(score).cpu().numpy()\n",
        "            label_ids = label.cpu().numpy()\n",
        "\n",
        "            # 예측값, 참값 기록하기\n",
        "            y_label = y_label + label_ids.flatten().tolist()\n",
        "            y_pred = y_pred + logits.flatten().tolist()\n",
        "    \n",
        "    # metric 계산\n",
        "    mse = mean_squared_error(y_label, y_pred) # MSE \n",
        "    r2 = pearsonr(y_label, y_pred)[0] # Pearson correlation coefficient\n",
        "    p_val = pearsonr(y_label, y_pred)[1] # Pearson correlation p-value\n",
        "    CI =  concordance_index(y_label, y_pred) # CI \n",
        "\n",
        "    # 계산한 metric 합치기\n",
        "    lst = [\"epoch \" + str(epo)] + list(map(float2str,[mse, r2, p_val, CI]))\n",
        "\n",
        "    # 각 epoch 마다 결과값 pretty table에 기록\n",
        "    table.add_row(lst)\n",
        "    valid_metric_record.append(lst)\n",
        "    \n",
        "    # mse 기준으로 best model 업데이트\n",
        "    if mse < max_MSE:\n",
        "        # best model deepcopy \n",
        "        model_max = copy.deepcopy(model)\n",
        "        # max MSE 업데이트 \n",
        "        max_MSE = mse\n",
        "\n",
        "    # 각 epoch 마다 결과 출력 \n",
        "    print('Validation at Epoch '+ str(epo + 1) + ' , MSE: ' + str(mse)[:7] + ' , Pearson Correlation: '\\\n",
        "\t\t\t\t\t\t + str(r2)[:7] + ' with p-value: ' + str(f\"{p_val:.2E}\") +' , Concordance Index: '+str(CI)[:7])\n"
      ],
      "metadata": {
        "id": "u7aOXR3vE4QK",
        "colab": {
          "base_uri": "https://localhost:8080/"
        },
        "outputId": "954e12b1-f80d-42ee-e1d2-e9d1f8c31a16"
      },
      "execution_count": null,
      "outputs": [
        {
          "output_type": "stream",
          "name": "stdout",
          "text": [
            "--- Go for Training ---\n",
            "Validation at Epoch 1 , MSE: 0.75073 , Pearson Correlation: 0.51914 with p-value: 3.63E-52 , Concordance Index: 0.67497\n",
            "Validation at Epoch 2 , MSE: 0.56759 , Pearson Correlation: 0.65210 with p-value: 1.39E-90 , Concordance Index: 0.71931\n",
            "Validation at Epoch 3 , MSE: 0.48266 , Pearson Correlation: 0.70414 with p-value: 1.49E-111 , Concordance Index: 0.74091\n",
            "Validation at Epoch 4 , MSE: 0.45178 , Pearson Correlation: 0.73884 with p-value: 2.73E-128 , Concordance Index: 0.75861\n",
            "Validation at Epoch 5 , MSE: 0.41110 , Pearson Correlation: 0.75584 with p-value: 1.67E-137 , Concordance Index: 0.76843\n",
            "Validation at Epoch 6 , MSE: 0.43064 , Pearson Correlation: 0.75827 with p-value: 6.98E-139 , Concordance Index: 0.76992\n",
            "Validation at Epoch 7 , MSE: 0.42401 , Pearson Correlation: 0.75624 with p-value: 9.85E-138 , Concordance Index: 0.77236\n",
            "Validation at Epoch 8 , MSE: 0.42034 , Pearson Correlation: 0.75604 with p-value: 1.29E-137 , Concordance Index: 0.76945\n",
            "Validation at Epoch 9 , MSE: 0.44821 , Pearson Correlation: 0.75645 with p-value: 7.54E-138 , Concordance Index: 0.77016\n",
            "Validation at Epoch 10 , MSE: 0.43305 , Pearson Correlation: 0.75291 with p-value: 7.30E-136 , Concordance Index: 0.76845\n",
            "Validation at Epoch 11 , MSE: 0.42146 , Pearson Correlation: 0.75406 with p-value: 1.67E-136 , Concordance Index: 0.76839\n",
            "Validation at Epoch 12 , MSE: 0.42076 , Pearson Correlation: 0.75499 with p-value: 5.03E-137 , Concordance Index: 0.77085\n",
            "Validation at Epoch 13 , MSE: 0.42903 , Pearson Correlation: 0.75725 with p-value: 2.64E-138 , Concordance Index: 0.76935\n",
            "Validation at Epoch 14 , MSE: 0.41137 , Pearson Correlation: 0.75928 with p-value: 1.83E-139 , Concordance Index: 0.76914\n",
            "Validation at Epoch 15 , MSE: 0.41215 , Pearson Correlation: 0.75883 with p-value: 3.32E-139 , Concordance Index: 0.76981\n"
          ]
        }
      ]
    },
    {
      "cell_type": "code",
      "source": [],
      "metadata": {
        "id": "D4pIab38Fg0g"
      },
      "execution_count": null,
      "outputs": []
    },
    {
      "cell_type": "code",
      "source": [],
      "metadata": {
        "id": "-nFA8g-FMvFn"
      },
      "execution_count": null,
      "outputs": []
    },
    {
      "cell_type": "markdown",
      "source": [
        "# 모델 테스트 진행 (model testing)\n"
      ],
      "metadata": {
        "id": "MbcdX0ifLYbQ"
      }
    },
    {
      "cell_type": "code",
      "source": [
        "# Test 진행할 데이터 확인 \n",
        "for i, (v_d, label) in enumerate(test_dataset):\n",
        "    print(v_d)\n",
        "    print(label)\n",
        "    break"
      ],
      "metadata": {
        "colab": {
          "base_uri": "https://localhost:8080/"
        },
        "id": "e4eRP3diM6C8",
        "outputId": "f22cfc64-19f1-4e58-afed-74d1295be5df"
      },
      "execution_count": null,
      "outputs": [
        {
          "output_type": "stream",
          "name": "stdout",
          "text": [
            "[0. 1. 0. ... 0. 0. 0.]\n",
            "3.114\n"
          ]
        }
      ]
    },
    {
      "cell_type": "code",
      "source": [
        "# 테스트 진행\n",
        "\n",
        "y_pred = []\n",
        "y_label = []\n",
        "\n",
        "model.eval()\n",
        "for i, (v_d, label) in enumerate(test_generator):\n",
        "    # input data gpu에 올리기 \n",
        "    v_d = v_d.float().to(device)\n",
        "\n",
        "    # forward-pass\n",
        "    score = model(v_d)\n",
        "\n",
        "    # 예측값 gradient graph detach -> cpu로 옮기기 -> numpy 형으로 변환 \n",
        "    logits = torch.squeeze(score).detach().cpu().numpy()\n",
        "\n",
        "    # 참값 cpu로 옮기고 numpy 형으로 변환 \n",
        "    label_ids = label.cpu().numpy()\n",
        "\n",
        "    # 예측값, 참값 기록\n",
        "    y_label = y_label + label_ids.flatten().tolist()\n",
        "    y_pred = y_pred + logits.flatten().tolist()\n",
        "\n",
        "# metric 계산\n",
        "mse = mean_squared_error(y_label, y_pred)\n",
        "r2 = pearsonr(y_label, y_pred)[0]\n",
        "p_val = pearsonr(y_label, y_pred)[1]\n",
        "CI =  concordance_index(y_label, y_pred)\n",
        "\n",
        "print('TestSet Performence Metric '+  ' , MSE: ' + str(mse)[:7] + ' , Pearson Correlation: '\\\n",
        "        + str(r2)[:7] + ' with p-value: ' + str(f\"{p_val:.2E}\") +' , Concordance Index: '+str(CI)[:7])"
      ],
      "metadata": {
        "id": "Os_0TcNSF9Fr",
        "colab": {
          "base_uri": "https://localhost:8080/"
        },
        "outputId": "943555ea-c9b6-438c-8ad5-79b89142c770"
      },
      "execution_count": null,
      "outputs": [
        {
          "output_type": "stream",
          "name": "stdout",
          "text": [
            "TestSet Performence Metric  , MSE: 0.39110 , Pearson Correlation: 0.75328 with p-value: 1.07E-270 , Concordance Index: 0.75613\n"
          ]
        }
      ]
    },
    {
      "cell_type": "code",
      "source": [
        "# 최종 테스트 결과 시각화 \n",
        "import matplotlib.pyplot as plt\n",
        "\n",
        "# 참값 ~ 예측값 scatter plot \n",
        "plt.figure(figsize=(10,10))\n",
        "plt.scatter(y_label, y_pred, c='crimson')\n",
        "plt.yscale('log')\n",
        "plt.xscale('log')\n",
        "\n",
        "p1 = max(max(y_pred), max(y_label))\n",
        "p2 = min(min(y_pred), min(y_label))\n",
        "plt.plot([p1, p2], [p1, p2], 'b-')\n",
        "plt.xlabel('True Values', fontsize=15)\n",
        "plt.ylabel('Predictions', fontsize=15)\n",
        "plt.axis('equal')\n",
        "plt.title('Chemical Toxicity Prediction')\n",
        "plt.show()"
      ],
      "metadata": {
        "colab": {
          "base_uri": "https://localhost:8080/",
          "height": 630
        },
        "id": "TCwNQ1bMO4W8",
        "outputId": "82d2440f-5182-43b5-f020-509156a65aa7"
      },
      "execution_count": null,
      "outputs": [
        {
          "output_type": "display_data",
          "data": {
            "text/plain": [
              "<Figure size 720x720 with 1 Axes>"
            ],
            "image/png": "[encoded data removed]"
          },
          "metadata": {
            "needs_background": "light"
          }
        }
      ]
    },
    {
      "cell_type": "markdown",
      "source": [
        "# 수고하셨습니다"
      ],
      "metadata": {
        "id": "Ebsq3C8_3bjz"
      }
    }
  ]
}