{
  "nbformat": 4,
  "nbformat_minor": 0,
  "metadata": {
    "colab": {
      "provenance": [],
      "include_colab_link": true
    },
    "kernelspec": {
      "name": "python3",
      "display_name": "Python 3"
    },
    "language_info": {
      "name": "python"
    }
  },
  "cells": [
    {
      "cell_type": "markdown",
      "metadata": {
        "id": "view-in-github",
        "colab_type": "text"
      },
      "source": [
        "<a href=\"https://colab.research.google.com/github/ianara01/Park-Sangjin/blob/master/SeleniumCrawling1.ipynb\" target=\"_parent\"><img src=\"https://colab.research.google.com/assets/colab-badge.svg\" alt=\"Open In Colab\"/></a>"
      ]
    },
    {
      "cell_type": "code",
      "execution_count": null,
      "metadata": {
        "id": "n-36oSHWZdY2"
      },
      "outputs": [],
      "source": [
        "import requests"
      ]
    },
    {
      "cell_type": "code",
      "source": [
        "response = requests.get(\"https://www.daum.net\")"
      ],
      "metadata": {
        "id": "r4El1LfyZhyy"
      },
      "execution_count": null,
      "outputs": []
    },
    {
      "cell_type": "code",
      "source": [
        "with open(\"index.html\", 'w') as f:\n",
        "  f.write(response.text)"
      ],
      "metadata": {
        "id": "ttIavm4BZnmQ"
      },
      "execution_count": null,
      "outputs": []
    },
    {
      "cell_type": "markdown",
      "source": [
        "# https://github.com/likelionbe12/job_crawling 깃 클론\n",
        "- 가상환경 만들기\n",
        "- pip install selenium webdriver-manager\n",
        "- 샘플 웹 페이지 잘 뜨는지 확인\n",
        "\n",
        "- 1차적으로 job korea 크롤링 시도\n",
        " - 자동적으로 매일 파이썬 백엔드 채용정보 크롤링"
      ],
      "metadata": {
        "id": "DvTwS4UmeSlG"
      }
    },
    {
      "cell_type": "markdown",
      "source": [
        "# 크롤링 코드 정리\n",
        "- 샘플 코드를 가져와서 잘 동작되는지 확인\n",
        "- .py로 옮겨서 정리\n",
        "- 클래스, 함수화\n",
        "- 동작 확인"
      ],
      "metadata": {
        "id": "3VUTOCLwsOZT"
      }
    },
    {
      "cell_type": "markdown",
      "source": [
        "# 자신만의 크롤링 도전하기\n",
        "- 하나의 사이트를 선정\n",
        "- 정보를 가져오기\n",
        "- csv파일로 저장하기"
      ],
      "metadata": {
        "id": "J5Fxe9UhsgLv"
      }
    },
    {
      "cell_type": "code",
      "source": [],
      "metadata": {
        "id": "aRAuf3CTZpdG"
      },
      "execution_count": null,
      "outputs": []
    }
  ]
}