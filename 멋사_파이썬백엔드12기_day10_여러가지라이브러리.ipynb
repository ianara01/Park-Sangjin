{
  "nbformat": 4,
  "nbformat_minor": 0,
  "metadata": {
    "colab": {
      "provenance": [],
      "include_colab_link": true
    },
    "kernelspec": {
      "name": "python3",
      "display_name": "Python 3"
    },
    "language_info": {
      "name": "python"
    }
  },
  "cells": [
    {
      "cell_type": "markdown",
      "metadata": {
        "id": "view-in-github",
        "colab_type": "text"
      },
      "source": [
        "<a href=\"https://colab.research.google.com/github/ianara01/Park-Sangjin/blob/master/%EB%A9%8B%EC%82%AC_%ED%8C%8C%EC%9D%B4%EC%8D%AC%EB%B0%B1%EC%97%94%EB%93%9C12%EA%B8%B0_day10_%EC%97%AC%EB%9F%AC%EA%B0%80%EC%A7%80%EB%9D%BC%EC%9D%B4%EB%B8%8C%EB%9F%AC%EB%A6%AC.ipynb\" target=\"_parent\"><img src=\"https://colab.research.google.com/assets/colab-badge.svg\" alt=\"Open In Colab\"/></a>"
      ]
    },
    {
      "cell_type": "code",
      "execution_count": null,
      "metadata": {
        "id": "_ZX6-Mleqx-7"
      },
      "outputs": [],
      "source": [
        "import time"
      ]
    },
    {
      "cell_type": "code",
      "source": [
        "current = time.time()\n",
        "current"
      ],
      "metadata": {
        "colab": {
          "base_uri": "https://localhost:8080/"
        },
        "id": "cteazoTmxqPC",
        "outputId": "c1add0bc-d42e-4219-8c9c-452ea5e1b1f8"
      },
      "execution_count": null,
      "outputs": [
        {
          "output_type": "execute_result",
          "data": {
            "text/plain": [
              "1729643457.1568575"
            ]
          },
          "metadata": {},
          "execution_count": 5
        }
      ]
    },
    {
      "cell_type": "code",
      "source": [
        "local_time = time.localtime(current)"
      ],
      "metadata": {
        "id": "ZOm2qb_Cx7CI"
      },
      "execution_count": null,
      "outputs": []
    },
    {
      "cell_type": "code",
      "source": [
        "time.strftime(\"%Y년%m월%d일 %H:%M:%S\", local_time)"
      ],
      "metadata": {
        "colab": {
          "base_uri": "https://localhost:8080/",
          "height": 35
        },
        "id": "uQ6GkXwYyQp1",
        "outputId": "b4f6d8f8-a9ec-4e2f-d529-5b847675349b"
      },
      "execution_count": null,
      "outputs": [
        {
          "output_type": "execute_result",
          "data": {
            "text/plain": [
              "'2024년10월23일 00:30:57'"
            ],
            "application/vnd.google.colaboratory.intrinsic+json": {
              "type": "string"
            }
          },
          "metadata": {},
          "execution_count": 13
        }
      ]
    },
    {
      "cell_type": "code",
      "source": [
        "%%time\n",
        "start_time = time.time()\n",
        "print(\"시작\")\n",
        "time.sleep(1.5)\n",
        "print(\"끝\")\n",
        "end_time = time.time()"
      ],
      "metadata": {
        "colab": {
          "base_uri": "https://localhost:8080/"
        },
        "id": "gRt8t3CQy8S4",
        "outputId": "2e105d99-e834-4215-f720-b0e6f948a39a"
      },
      "execution_count": null,
      "outputs": [
        {
          "output_type": "stream",
          "name": "stdout",
          "text": [
            "시작\n",
            "끝\n",
            "CPU times: user 7.26 ms, sys: 4.06 ms, total: 11.3 ms\n",
            "Wall time: 1.5 s\n"
          ]
        }
      ]
    },
    {
      "cell_type": "code",
      "source": [
        "end_time-start_time"
      ],
      "metadata": {
        "colab": {
          "base_uri": "https://localhost:8080/"
        },
        "id": "Fx3lKJ8PzU2r",
        "outputId": "e4da58d8-d787-4ba8-93a6-4766f7d0be4b"
      },
      "execution_count": null,
      "outputs": [
        {
          "output_type": "execute_result",
          "data": {
            "text/plain": [
              "1.5036611557006836"
            ]
          },
          "metadata": {},
          "execution_count": 17
        }
      ]
    },
    {
      "cell_type": "code",
      "source": [
        "%%time\n",
        "tmp_list = []\n",
        "for i in range(100000):\n",
        "  tmp_list.append(i)"
      ],
      "metadata": {
        "colab": {
          "base_uri": "https://localhost:8080/"
        },
        "id": "IB6r-aAx0HLt",
        "outputId": "c86c7240-4adf-4f78-ebe1-fd761969452c"
      },
      "execution_count": null,
      "outputs": [
        {
          "output_type": "stream",
          "name": "stdout",
          "text": [
            "CPU times: user 14.5 ms, sys: 3.81 ms, total: 18.3 ms\n",
            "Wall time: 18 ms\n"
          ]
        }
      ]
    },
    {
      "cell_type": "code",
      "source": [
        "%%time\n",
        "tmp_list1 = [ i for i in range(100000)]"
      ],
      "metadata": {
        "colab": {
          "base_uri": "https://localhost:8080/"
        },
        "id": "Wj_1MgGz0O3K",
        "outputId": "b1fdf72c-ef14-49c7-a1ca-b0cdfbda7ed6"
      },
      "execution_count": null,
      "outputs": [
        {
          "output_type": "stream",
          "name": "stdout",
          "text": [
            "CPU times: user 6.72 ms, sys: 1.09 ms, total: 7.81 ms\n",
            "Wall time: 7.69 ms\n"
          ]
        }
      ]
    },
    {
      "cell_type": "code",
      "source": [
        "_l"
      ],
      "metadata": {
        "id": "KNRjksBA0QGd"
      },
      "execution_count": null,
      "outputs": []
    },
    {
      "cell_type": "markdown",
      "source": [
        "# time 풀어볼 문제\n",
        "- 10:10까지 해서 디스코드에 체크해 주세요\n",
        "- time 의 사용법과 함께 구조화된 코드를 짜보도록 하겠습니다\n",
        " - 클래스, 함수, 모듈, 패키지 등\n",
        "1. 사용자가 \"시작\"과 \"종료\"를 입력할 때까지의 시간을 측정하는 타이머 프로그램을 작성해보세요. 사용자가 \"시작\"을 입력하면 타이머가 시작되고, \"종료\"를 입력하면 타이머가 멈추며 경과 시간을 출력합니다.\n",
        "2. 특정 날짜까지 남은 시간(일, 시간, 분, 초)을 계산하는 프로그램을 작성해보세요. 사용자로부터 특정 날짜(예: \"2024-12-25\")를 입력받고, 현재 날짜와 시간으로부터 해당 날짜까지 남은 시간을 계산하여 출력합니다."
      ],
      "metadata": {
        "id": "JbDUozjS1GBu"
      }
    },
    {
      "cell_type": "code",
      "source": [
        "# 사용자의 \"시작\"입력 받기\n",
        "input(\"'시작'을 입력해 주세요 : \") # 입력 내용을 받아야 하는가?\n",
        "# 시작 시간 기록\n",
        "start_time = time.time()\n",
        "# 사용자의 \"종료\"입력 받기\n",
        "input(\"'종료'를 입력해 주세요 : \") # 입력 내용을 받아야 하는가?\n",
        "# 종료 시간 기록\n",
        "end_time = time.time()\n",
        "# 경과시간 계산 ( 끝 - 시작)\n",
        "diff_time = end_time - start_time\n",
        "# 출력\n",
        "print(f\"경과시간은 {diff_time}초 입니다\")"
      ],
      "metadata": {
        "colab": {
          "base_uri": "https://localhost:8080/"
        },
        "id": "IWx3NJMZ1Rld",
        "outputId": "dec2b3f4-d40d-412d-a876-50e25dbba2bd"
      },
      "execution_count": null,
      "outputs": [
        {
          "output_type": "stream",
          "name": "stdout",
          "text": [
            "'시작'을 입력해 주세요 : \n",
            "'종료'를 입력해 주세요 : \n",
            "경과시간은 2.7805488109588623초 입니다\n"
          ]
        }
      ]
    },
    {
      "cell_type": "markdown",
      "source": [
        "- 정확한 입력을 확인해야 함\n",
        "- 소수점 출력이 1자리까지만 나오도록 해서 보기 좋게 만들자\n",
        "- 출력 양식을 년, 월, 일 구분으로(초 로만 나오지 않도록 변경하기)"
      ],
      "metadata": {
        "id": "DzzEuwZB9UyD"
      }
    },
    {
      "cell_type": "code",
      "source": [
        "def input_func(msg):\n",
        "  # 다양한 입력(시작, 종료)에 활용할 수 있도록 만들자(코드 재사용)\n",
        "  txt = input(f\"'{msg}'를 입력 하세요 : \")\n",
        "  # 정확한 입력을 확인 -> 잘못된 입력이면 재 입력을 받도록 하자\n",
        "  # 정확한 입력 여부를 return하자\n",
        "  if txt == msg:\n",
        "    return True\n",
        "  # else: return False\n",
        "  return False"
      ],
      "metadata": {
        "id": "YXFfKlI19pF6"
      },
      "execution_count": null,
      "outputs": []
    },
    {
      "cell_type": "code",
      "source": [
        "input_func(\"시작\")"
      ],
      "metadata": {
        "colab": {
          "base_uri": "https://localhost:8080/"
        },
        "id": "8aqkLJ0S-v6c",
        "outputId": "bae9d3a0-e537-44a5-fc89-be81d8df0fed"
      },
      "execution_count": null,
      "outputs": [
        {
          "name": "stdout",
          "output_type": "stream",
          "text": [
            "'시작'를 입력 하세요시작\n"
          ]
        },
        {
          "output_type": "execute_result",
          "data": {
            "text/plain": [
              "True"
            ]
          },
          "metadata": {},
          "execution_count": 32
        }
      ]
    },
    {
      "cell_type": "code",
      "source": [
        "def main():\n",
        "  while True:\n",
        "    if input_func(\"시작\"):\n",
        "      break\n",
        "  start_time = time.time()\n",
        "  while True:\n",
        "    if input_func(\"종료\"):\n",
        "      break\n",
        "  end_time = time.time()\n",
        "  diff_time = end_time - start_time\n",
        "  # 출력\n",
        "  print(f\"경과시간은 {diff_time:.1f}초 입니다.\")\n",
        "if __name__==\"__main__\":\n",
        "  main()"
      ],
      "metadata": {
        "colab": {
          "base_uri": "https://localhost:8080/"
        },
        "id": "1SQfQkFt_b6f",
        "outputId": "0fe79999-cc8b-40ca-a3c7-d638872ae096"
      },
      "execution_count": null,
      "outputs": [
        {
          "output_type": "stream",
          "name": "stdout",
          "text": [
            "'시작'를 입력 하세요 : 시작\n",
            "'종료'를 입력 하세요 : 종료\n",
            "경과시간은 2.3초 입니다.\n"
          ]
        }
      ]
    },
    {
      "cell_type": "code",
      "source": [
        "print(f\"경과시간은 {diff_time:.1f}초 입니다.\")"
      ],
      "metadata": {
        "colab": {
          "base_uri": "https://localhost:8080/"
        },
        "id": "mALij-ol_6yD",
        "outputId": "c690020c-74db-4a25-8f42-66bb93d7e2df"
      },
      "execution_count": null,
      "outputs": [
        {
          "output_type": "stream",
          "name": "stdout",
          "text": [
            "경과시간은 1.8초 입니다.\n"
          ]
        }
      ]
    },
    {
      "cell_type": "code",
      "source": [
        "diff_time"
      ],
      "metadata": {
        "colab": {
          "base_uri": "https://localhost:8080/"
        },
        "id": "aBITH-DbA9yv",
        "outputId": "232ee261-7bfa-4aad-fb19-6851aa9bf6f0"
      },
      "execution_count": null,
      "outputs": [
        {
          "output_type": "execute_result",
          "data": {
            "text/plain": [
              "1.8044016361236572"
            ]
          },
          "metadata": {},
          "execution_count": 43
        }
      ]
    },
    {
      "cell_type": "code",
      "source": [
        "# 가상의 데이터 생성\n",
        "diff_time = 1.8044016361236572 * 60 * 60 * 24 * 60"
      ],
      "metadata": {
        "id": "wZkEN6f1A6qr"
      },
      "execution_count": null,
      "outputs": []
    },
    {
      "cell_type": "code",
      "source": [
        "diff_time = 1.8044016361236572 * 60 * 60 * 24 * 60\n",
        "month = diff_time//(60 * 60 * 24*30)\n",
        "day = (diff_time%(60 * 60 * 24*30))//(60 * 60 * 24)"
      ],
      "metadata": {
        "id": "Y4gejfbYBLOK"
      },
      "execution_count": null,
      "outputs": []
    },
    {
      "cell_type": "code",
      "source": [
        "diff_time%(60 * 60 * 24*30)"
      ],
      "metadata": {
        "colab": {
          "base_uri": "https://localhost:8080/"
        },
        "id": "nnf1l89xBVjN",
        "outputId": "d2c99e41-c3a2-4953-ed38-1160f6dd9f05"
      },
      "execution_count": null,
      "outputs": [
        {
          "output_type": "execute_result",
          "data": {
            "text/plain": [
              "1578018.081665039"
            ]
          },
          "metadata": {},
          "execution_count": 50
        }
      ]
    },
    {
      "cell_type": "code",
      "source": [
        "month, day"
      ],
      "metadata": {
        "colab": {
          "base_uri": "https://localhost:8080/"
        },
        "id": "Yzw9Bz7OBiCE",
        "outputId": "2d63475f-ae56-4681-bba6-9b0ce50bfb72"
      },
      "execution_count": null,
      "outputs": [
        {
          "output_type": "execute_result",
          "data": {
            "text/plain": [
              "(3.0, 18.0)"
            ]
          },
          "metadata": {},
          "execution_count": 55
        }
      ]
    },
    {
      "cell_type": "code",
      "source": [
        "# 특정 날짜까지 남은 시간(일, 시간, 분, 초)을 계산하는 프로그램을 작성해보세요. 사용자로부터 특정 날짜(예: \"2024-12-25\")를 입력받고, 현재 날짜와 시간으로부터 해당 날짜까지 남은 시간을 계산하여 출력합니다."
      ],
      "metadata": {
        "id": "w0Pf1hD-CMjz"
      },
      "execution_count": null,
      "outputs": []
    },
    {
      "cell_type": "code",
      "source": [
        "target_day = input(\"기준 날짜를 입력해 주세요 ( 형식 : 년-월-일) : \")\n",
        "target_time = time.mktime(time.strptime(target_day,\"%Y-%m-%d\"))\n",
        "diff_time = target_time - time.time()\n",
        "days = int(diff_time//(60*60*24))\n",
        "print(\"현재 날짜로 부터 기준 날짜와의 차이는 {}일 입니다.\".format(days))"
      ],
      "metadata": {
        "colab": {
          "base_uri": "https://localhost:8080/"
        },
        "id": "rg6WFHOkCN9C",
        "outputId": "0d52c288-a283-47de-a629-2b2f8532062c"
      },
      "execution_count": null,
      "outputs": [
        {
          "output_type": "stream",
          "name": "stdout",
          "text": [
            "기준 날짜를 입력해 주세요 ( 형식 : 년-월-일) : 2024-11-05\n",
            "현재 날짜로 부터 기준 날짜와의 차이는 12일 입니다.\n"
          ]
        }
      ]
    },
    {
      "cell_type": "markdown",
      "source": [
        "datetime"
      ],
      "metadata": {
        "id": "KdXATswwE5Dg"
      }
    },
    {
      "cell_type": "code",
      "source": [
        "from datetime import datetime"
      ],
      "metadata": {
        "id": "9J3c-BEiE7jE"
      },
      "execution_count": null,
      "outputs": []
    },
    {
      "cell_type": "code",
      "source": [
        "now = datetime.now()\n",
        "now"
      ],
      "metadata": {
        "colab": {
          "base_uri": "https://localhost:8080/"
        },
        "id": "ddP56tH1Ii8m",
        "outputId": "60a3eb4c-c78a-4b5b-d5fa-3eb7d442b37b"
      },
      "execution_count": null,
      "outputs": [
        {
          "output_type": "execute_result",
          "data": {
            "text/plain": [
              "datetime.datetime(2024, 10, 23, 2, 8, 59, 327364)"
            ]
          },
          "metadata": {},
          "execution_count": 77
        }
      ]
    },
    {
      "cell_type": "code",
      "source": [
        "type(now)"
      ],
      "metadata": {
        "colab": {
          "base_uri": "https://localhost:8080/"
        },
        "id": "ZTGobCXCIl9K",
        "outputId": "e7c541fc-32f8-4991-9164-585570d435c8"
      },
      "execution_count": null,
      "outputs": [
        {
          "output_type": "execute_result",
          "data": {
            "text/plain": [
              "datetime.datetime"
            ]
          },
          "metadata": {},
          "execution_count": 78
        }
      ]
    },
    {
      "cell_type": "code",
      "source": [
        "print(\"현재 시간 \", now)"
      ],
      "metadata": {
        "colab": {
          "base_uri": "https://localhost:8080/"
        },
        "id": "z3g9R9NVIyVf",
        "outputId": "1ac7f8a5-2337-4a3a-dbce-a0870e944318"
      },
      "execution_count": null,
      "outputs": [
        {
          "output_type": "stream",
          "name": "stdout",
          "text": [
            "현재 시간  2024-10-23 02:08:59.327364\n"
          ]
        }
      ]
    },
    {
      "cell_type": "code",
      "source": [
        "# 특정 날짜와 시간 생성\n",
        "dt = datetime(2024,12,25)\n",
        "dt"
      ],
      "metadata": {
        "colab": {
          "base_uri": "https://localhost:8080/"
        },
        "id": "IkiOBN-HI2ow",
        "outputId": "4412414a-a47a-4bb4-d9ea-9900d0b76733"
      },
      "execution_count": null,
      "outputs": [
        {
          "output_type": "execute_result",
          "data": {
            "text/plain": [
              "datetime.datetime(2024, 12, 25, 0, 0)"
            ]
          },
          "metadata": {},
          "execution_count": 82
        }
      ]
    },
    {
      "cell_type": "code",
      "source": [
        "dt - now"
      ],
      "metadata": {
        "colab": {
          "base_uri": "https://localhost:8080/"
        },
        "id": "wF8xRpKgI8P9",
        "outputId": "b4921368-3696-4b83-c5c6-6f87737af551"
      },
      "execution_count": null,
      "outputs": [
        {
          "output_type": "execute_result",
          "data": {
            "text/plain": [
              "datetime.timedelta(days=62, seconds=78660, microseconds=672636)"
            ]
          },
          "metadata": {},
          "execution_count": 83
        }
      ]
    },
    {
      "cell_type": "code",
      "source": [
        "dt = now.strftime(\"%Y-%m-%d\")"
      ],
      "metadata": {
        "id": "2eC02B28JMVM"
      },
      "execution_count": null,
      "outputs": []
    },
    {
      "cell_type": "code",
      "source": [
        "type(dt), dt"
      ],
      "metadata": {
        "colab": {
          "base_uri": "https://localhost:8080/"
        },
        "id": "NbxJcWpKJcUn",
        "outputId": "7cdb80a3-fa7f-4761-e45c-5319652e184d"
      },
      "execution_count": null,
      "outputs": [
        {
          "output_type": "execute_result",
          "data": {
            "text/plain": [
              "(str, '2024-10-23')"
            ]
          },
          "metadata": {},
          "execution_count": 88
        }
      ]
    },
    {
      "cell_type": "code",
      "source": [
        "# 문자열로부터 날짜와 시간 파싱\n",
        "date_str = \"2024-10-23 11:14:00\"\n",
        "dt = datetime.strptime(date_str, \"%Y-%m-%d %H:%M:%S\")"
      ],
      "metadata": {
        "id": "us4UW15XJdYU"
      },
      "execution_count": null,
      "outputs": []
    },
    {
      "cell_type": "code",
      "source": [
        "dt.year"
      ],
      "metadata": {
        "colab": {
          "base_uri": "https://localhost:8080/"
        },
        "id": "pe68jnqcJp3F",
        "outputId": "16d316bf-d036-4dd5-e4ca-15648bca542e"
      },
      "execution_count": null,
      "outputs": [
        {
          "output_type": "execute_result",
          "data": {
            "text/plain": [
              "2024"
            ]
          },
          "metadata": {},
          "execution_count": 92
        }
      ]
    },
    {
      "cell_type": "code",
      "source": [
        "dt.second"
      ],
      "metadata": {
        "colab": {
          "base_uri": "https://localhost:8080/"
        },
        "id": "XKzXIK68KBTT",
        "outputId": "2147d2ac-f46f-40dd-ef64-e0c891df4613"
      },
      "execution_count": null,
      "outputs": [
        {
          "output_type": "execute_result",
          "data": {
            "text/plain": [
              "0"
            ]
          },
          "metadata": {},
          "execution_count": 94
        }
      ]
    },
    {
      "cell_type": "code",
      "source": [
        "# 시간차이\n",
        "dt- now"
      ],
      "metadata": {
        "colab": {
          "base_uri": "https://localhost:8080/"
        },
        "id": "-Inyk3fHKIgw",
        "outputId": "86ce19f2-b031-4d04-959c-5fd58889705d"
      },
      "execution_count": null,
      "outputs": [
        {
          "output_type": "execute_result",
          "data": {
            "text/plain": [
              "datetime.timedelta(seconds=32700, microseconds=672636)"
            ]
          },
          "metadata": {},
          "execution_count": 97
        }
      ]
    },
    {
      "cell_type": "code",
      "source": [
        "# 날짜와 시간의 산술 연산\n",
        "now = datetime.now()\n",
        "now"
      ],
      "metadata": {
        "colab": {
          "base_uri": "https://localhost:8080/"
        },
        "id": "0Z0rALopKN-x",
        "outputId": "0b577556-af86-459a-e71a-34e15e2cc9a6"
      },
      "execution_count": null,
      "outputs": [
        {
          "output_type": "execute_result",
          "data": {
            "text/plain": [
              "datetime.datetime(2024, 10, 23, 2, 16, 41, 914645)"
            ]
          },
          "metadata": {},
          "execution_count": 98
        }
      ]
    },
    {
      "cell_type": "code",
      "source": [
        "from datetime import datetime, timedelta\n",
        "one_week_later = now + timedelta(weeks=1)\n",
        "one_week_later"
      ],
      "metadata": {
        "colab": {
          "base_uri": "https://localhost:8080/"
        },
        "id": "H-93uSWbKWwY",
        "outputId": "9f6593ba-4eba-4736-c4d2-b5fa1e2864bf"
      },
      "execution_count": null,
      "outputs": [
        {
          "output_type": "execute_result",
          "data": {
            "text/plain": [
              "datetime.datetime(2024, 10, 30, 2, 16, 41, 914645)"
            ]
          },
          "metadata": {},
          "execution_count": 101
        }
      ]
    },
    {
      "cell_type": "code",
      "source": [
        "import pytz\n",
        "timezone = pytz.timezone(\"Asia/Seoul\")\n",
        "timezone"
      ],
      "metadata": {
        "colab": {
          "base_uri": "https://localhost:8080/"
        },
        "id": "eJJpEO_xKuWC",
        "outputId": "5d25f768-aba0-4985-8829-6a3375fd1f5c"
      },
      "execution_count": null,
      "outputs": [
        {
          "output_type": "execute_result",
          "data": {
            "text/plain": [
              "<DstTzInfo 'Asia/Seoul' LMT+8:28:00 STD>"
            ]
          },
          "metadata": {},
          "execution_count": 102
        }
      ]
    },
    {
      "cell_type": "code",
      "source": [
        "our_time = datetime.now(timezone)\n",
        "our_time"
      ],
      "metadata": {
        "colab": {
          "base_uri": "https://localhost:8080/"
        },
        "id": "yWeppdtkK9yo",
        "outputId": "ae0815ef-b6e4-4630-cba5-d56f34e63705"
      },
      "execution_count": null,
      "outputs": [
        {
          "output_type": "execute_result",
          "data": {
            "text/plain": [
              "datetime.datetime(2024, 10, 23, 11, 19, 51, 969348, tzinfo=<DstTzInfo 'Asia/Seoul' KST+9:00:00 STD>)"
            ]
          },
          "metadata": {},
          "execution_count": 103
        }
      ]
    },
    {
      "cell_type": "markdown",
      "source": [
        "datetime 연습문제 **한가지** 선택해서 풀어보겠습니다.\n",
        "- 11:40 까지\n",
        "- 디스코드 스레드에 올려주세요\n",
        "\n",
        "- **생일까지 남은 날짜 계산**\n",
        "    - 사용자로부터 생일을 입력받아, 현재 날짜로부터 다음 생일까지 남은 날짜를 계산하는 프로그램을 작성하세요.\n",
        "- **경과 시간 계산기**\n",
        "    - 특정 이벤트가 시작된 시각을 입력받고, 현재까지 경과한 시간(년, 월, 일, 시, 분, 초 단위)을 계산하여 출력하는 프로그램을 작성하세요.\n",
        "- **약속일정 관리**\n",
        "    - 사용자로부터 여러 약속의 날짜와 시간을 입력받아, 각 약속까지 남은 날짜와 시간을 계산하고, 가장 가까운 약속을 알려주는 프로그램을 작성하세요. 또한, 약속이 1주일 이내에 있을 경우, 사용자에게 특별 알림을 제공해야 합니다."
      ],
      "metadata": {
        "id": "lXcCMDXALrYA"
      }
    },
    {
      "cell_type": "code",
      "source": [
        "def cal_days(year,msg):\n",
        "  target_date = str(year)+\"-\"+msg\n",
        "  target_day = datetime.strptime(target_date, \"%Y-%m-%d\")\n",
        "  today = datetime.now()\n",
        "  dt = target_day- today\n",
        "  return dt\n",
        "\n",
        "# 생일을 입력 받아서 지났는지 아닌지\n",
        "msg = input(\"생일 입력 월-일 : \")\n",
        "dt = cal_days(now.year, msg)\n",
        "# 날짜가 지났는지 파악\n",
        "if dt.days > 0:\n",
        "  print(\"생일이 {}일 남았네요\".format(dt.days))\n",
        "else:\n",
        "  # 연도만 1 더 늘리자\n",
        "  dt = cal_days(now.year+1, msg)\n",
        "  print(\"생일이 {}일 남았네요\".format(dt.days))"
      ],
      "metadata": {
        "colab": {
          "base_uri": "https://localhost:8080/"
        },
        "id": "uqKwosXILFUL",
        "outputId": "b44b287f-ec16-4390-ca2a-f1f0445866b4"
      },
      "execution_count": null,
      "outputs": [
        {
          "output_type": "stream",
          "name": "stdout",
          "text": [
            "생일 입력 월-일 : 10-10\n",
            "생일이 351일 남았네요\n"
          ]
        }
      ]
    },
    {
      "cell_type": "markdown",
      "source": [
        "os"
      ],
      "metadata": {
        "id": "X5yz8Pk-kdKH"
      }
    },
    {
      "cell_type": "code",
      "source": [
        "import os\n",
        "current_directory = os.getcwd()\n",
        "print(\"Current Directory:\", current_directory)"
      ],
      "metadata": {
        "colab": {
          "base_uri": "https://localhost:8080/"
        },
        "id": "75Ev9CyPkdl1",
        "outputId": "36490d91-9f20-400d-8a75-e5b15bbc2759"
      },
      "execution_count": null,
      "outputs": [
        {
          "output_type": "stream",
          "name": "stdout",
          "text": [
            "Current Directory: /content\n"
          ]
        }
      ]
    },
    {
      "cell_type": "code",
      "source": [
        "import os\n",
        "\n",
        "# 현재 위치에 'new_directory'라는 이름의 디렉토리 생성\n",
        "os.mkdir('new_directory')"
      ],
      "metadata": {
        "id": "S3Wqxn1hkjca"
      },
      "execution_count": null,
      "outputs": []
    },
    {
      "cell_type": "code",
      "source": [
        "import os\n",
        "\n",
        "# 중간 디렉토리가 없는 경우에도 'path/to/new_directory' 전체 경로를 생성\n",
        "os.makedirs('path/to/new_directory', exist_ok=True)  # exist_ok=True는 디렉토리가 이미 존재"
      ],
      "metadata": {
        "id": "8H2K4U5nlG6Z"
      },
      "execution_count": null,
      "outputs": []
    },
    {
      "cell_type": "code",
      "source": [
        "import os\n",
        "\n",
        "# 'new_directory' 디렉토리 삭제\n",
        "os.rmdir('new_directory')"
      ],
      "metadata": {
        "id": "vndqwqWllS9r"
      },
      "execution_count": null,
      "outputs": []
    },
    {
      "cell_type": "code",
      "source": [
        "import shutil\n",
        "\n",
        "# 'path/to/new_directory' 디렉토리와 그 안의 모든 내용물 삭제\n",
        "shutil.rmtree('path/to/new_directory')"
      ],
      "metadata": {
        "id": "InYG2opPlYRo"
      },
      "execution_count": null,
      "outputs": []
    },
    {
      "cell_type": "code",
      "source": [
        "import os\n",
        "os.chdir('/content')\n",
        "print(\"Directory changed to:\", os.getcwd())"
      ],
      "metadata": {
        "colab": {
          "base_uri": "https://localhost:8080/"
        },
        "id": "e5r1Iq-slck5",
        "outputId": "d4474c5b-4222-4736-cad5-5519862b1a12"
      },
      "execution_count": null,
      "outputs": [
        {
          "output_type": "stream",
          "name": "stdout",
          "text": [
            "Directory changed to: /content\n"
          ]
        }
      ]
    },
    {
      "cell_type": "code",
      "source": [
        "files_list = os.listdir(\"/content/sample_data\")"
      ],
      "metadata": {
        "id": "yXllXOutoRTg"
      },
      "execution_count": null,
      "outputs": []
    },
    {
      "cell_type": "code",
      "source": [
        "type(files_list)"
      ],
      "metadata": {
        "colab": {
          "base_uri": "https://localhost:8080/"
        },
        "id": "x1k3fPF_olZl",
        "outputId": "4321cd42-dff7-44f1-bad6-984315d3b213"
      },
      "execution_count": null,
      "outputs": [
        {
          "output_type": "execute_result",
          "data": {
            "text/plain": [
              "list"
            ]
          },
          "metadata": {},
          "execution_count": 169
        }
      ]
    },
    {
      "cell_type": "code",
      "source": [
        "files_list[1]"
      ],
      "metadata": {
        "colab": {
          "base_uri": "https://localhost:8080/",
          "height": 35
        },
        "id": "o0s2qLBFooLt",
        "outputId": "be0afcd3-a999-45a3-b17f-3598e3d9440c"
      },
      "execution_count": null,
      "outputs": [
        {
          "output_type": "execute_result",
          "data": {
            "text/plain": [
              "'README.md'"
            ],
            "application/vnd.google.colaboratory.intrinsic+json": {
              "type": "string"
            }
          },
          "metadata": {},
          "execution_count": 171
        }
      ]
    },
    {
      "cell_type": "code",
      "source": [
        "os.getenv(\"DEBUG\")"
      ],
      "metadata": {
        "id": "FA_REMsoo0Q1"
      },
      "execution_count": null,
      "outputs": []
    },
    {
      "cell_type": "code",
      "source": [
        "import os\n",
        "path = '/path/to/file_or_directory'\n",
        "exists = os.path.exists(path)\n",
        "print(\"Exists:\", exists)"
      ],
      "metadata": {
        "colab": {
          "base_uri": "https://localhost:8080/"
        },
        "id": "_LocJGMQo6ol",
        "outputId": "9aa2e3f8-52aa-4eb9-d29b-a766bfa6c328"
      },
      "execution_count": null,
      "outputs": [
        {
          "output_type": "stream",
          "name": "stdout",
          "text": [
            "Exists: False\n"
          ]
        }
      ]
    },
    {
      "cell_type": "code",
      "source": [
        "import glob\n",
        "\n",
        "# 현재 디렉토리의 모든 '.txt' 파일 찾기\n",
        "txt_files = glob.glob('sample_data/*_test.csv')\n",
        "print(txt_files)"
      ],
      "metadata": {
        "colab": {
          "base_uri": "https://localhost:8080/"
        },
        "id": "JxdGb5f5puLL",
        "outputId": "ea6ec845-b8c4-4dda-8b00-7c622c014b49"
      },
      "execution_count": null,
      "outputs": [
        {
          "output_type": "stream",
          "name": "stdout",
          "text": [
            "['sample_data/mnist_test.csv', 'sample_data/california_housing_test.csv']\n"
          ]
        }
      ]
    },
    {
      "cell_type": "code",
      "source": [
        "import sys\n",
        "\n",
        "for line in sys.stdin:\n",
        "    sys.stdout.write(f\"입력 받음: {line}\")\n",
        "    sys.stderr.write(\"에러 메시지 예시\\n\")"
      ],
      "metadata": {
        "id": "EnwdwrsVrD2L"
      },
      "execution_count": null,
      "outputs": []
    },
    {
      "cell_type": "code",
      "source": [
        "import sys\n",
        "print(sys.version)"
      ],
      "metadata": {
        "colab": {
          "base_uri": "https://localhost:8080/"
        },
        "id": "4v10nLE6rVoq",
        "outputId": "cada1b37-80e6-4f15-82c0-05fbab7defd8"
      },
      "execution_count": null,
      "outputs": [
        {
          "output_type": "stream",
          "name": "stdout",
          "text": [
            "3.10.12 (main, Sep 11 2024, 15:47:36) [GCC 11.4.0]\n"
          ]
        }
      ]
    },
    {
      "cell_type": "code",
      "source": [
        "import sys\n",
        "print(sys.executable)"
      ],
      "metadata": {
        "colab": {
          "base_uri": "https://localhost:8080/"
        },
        "id": "xRGbpjIQrY2T",
        "outputId": "7f7b130a-b80d-479e-8cd3-d8c771c34a89"
      },
      "execution_count": null,
      "outputs": [
        {
          "output_type": "stream",
          "name": "stdout",
          "text": [
            "/usr/bin/python3\n"
          ]
        }
      ]
    },
    {
      "cell_type": "code",
      "source": [
        "import sys\n",
        "sys.path.append('/path/to/module')\n",
        "print(sys.path)"
      ],
      "metadata": {
        "id": "r8t4xwQbrgrs"
      },
      "execution_count": null,
      "outputs": []
    },
    {
      "cell_type": "code",
      "source": [
        "import sys\n",
        "print(sys.getdefaultencoding())"
      ],
      "metadata": {
        "colab": {
          "base_uri": "https://localhost:8080/"
        },
        "id": "0DoK3FVgrs0T",
        "outputId": "41959019-b27e-4220-d329-34419d404b43"
      },
      "execution_count": null,
      "outputs": [
        {
          "output_type": "stream",
          "name": "stdout",
          "text": [
            "utf-8\n"
          ]
        }
      ]
    },
    {
      "cell_type": "markdown",
      "source": [
        "json"
      ],
      "metadata": {
        "id": "hgfrnjx6sRF6"
      }
    },
    {
      "cell_type": "code",
      "source": [
        "data = {\"name\":\"lion\", \"company\":\"Google\"}"
      ],
      "metadata": {
        "id": "jYxg4LJ0sQ4W"
      },
      "execution_count": null,
      "outputs": []
    },
    {
      "cell_type": "code",
      "source": [
        "data"
      ],
      "metadata": {
        "colab": {
          "base_uri": "https://localhost:8080/"
        },
        "id": "xUmJRIhtsYEq",
        "outputId": "217029b7-7699-4abb-cd23-c64a3ad53d27"
      },
      "execution_count": null,
      "outputs": [
        {
          "output_type": "execute_result",
          "data": {
            "text/plain": [
              "{'name': 'lion', 'company': 'Google'}"
            ]
          },
          "metadata": {},
          "execution_count": 183
        }
      ]
    },
    {
      "cell_type": "code",
      "source": [
        "import json"
      ],
      "metadata": {
        "id": "e4cppqBtsite"
      },
      "execution_count": null,
      "outputs": []
    },
    {
      "cell_type": "code",
      "source": [
        "output = json.dumps(data)"
      ],
      "metadata": {
        "id": "-tu2Er99skXl"
      },
      "execution_count": null,
      "outputs": []
    },
    {
      "cell_type": "code",
      "source": [
        "type(output)"
      ],
      "metadata": {
        "colab": {
          "base_uri": "https://localhost:8080/"
        },
        "id": "GnnwUwlWszIR",
        "outputId": "b72cedaa-544f-4d55-afd7-ba4ef1c98e91"
      },
      "execution_count": null,
      "outputs": [
        {
          "output_type": "execute_result",
          "data": {
            "text/plain": [
              "str"
            ]
          },
          "metadata": {},
          "execution_count": 187
        }
      ]
    },
    {
      "cell_type": "code",
      "source": [
        "json_string = '{\"hello\":\"world\"}'"
      ],
      "metadata": {
        "id": "ZMaLrbW7tILz"
      },
      "execution_count": null,
      "outputs": []
    },
    {
      "cell_type": "code",
      "source": [
        "recieved = json.loads(json_string)"
      ],
      "metadata": {
        "colab": {
          "base_uri": "https://localhost:8080/",
          "height": 276
        },
        "id": "4vurPvYytQKP",
        "outputId": "87a2b07c-ef0f-4cf4-c912-c9620c3aabc7"
      },
      "execution_count": null,
      "outputs": [
        {
          "output_type": "error",
          "ename": "JSONDecodeError",
          "evalue": "Expecting value: line 1 column 1 (char 0)",
          "traceback": [
            "\u001b[0;31m---------------------------------------------------------------------------\u001b[0m",
            "\u001b[0;31mJSONDecodeError\u001b[0m                           Traceback (most recent call last)",
            "\u001b[0;32m<ipython-input-217-92f693a30fd1>\u001b[0m in \u001b[0;36m<cell line: 1>\u001b[0;34m()\u001b[0m\n\u001b[0;32m----> 1\u001b[0;31m \u001b[0mrecieved\u001b[0m \u001b[0;34m=\u001b[0m \u001b[0mjson\u001b[0m\u001b[0;34m.\u001b[0m\u001b[0mloads\u001b[0m\u001b[0;34m(\u001b[0m\u001b[0mjson_string\u001b[0m\u001b[0;34m)\u001b[0m\u001b[0;34m\u001b[0m\u001b[0;34m\u001b[0m\u001b[0m\n\u001b[0m",
            "\u001b[0;32m/usr/lib/python3.10/json/__init__.py\u001b[0m in \u001b[0;36mloads\u001b[0;34m(s, cls, object_hook, parse_float, parse_int, parse_constant, object_pairs_hook, **kw)\u001b[0m\n\u001b[1;32m    344\u001b[0m             \u001b[0mparse_int\u001b[0m \u001b[0;32mis\u001b[0m \u001b[0;32mNone\u001b[0m \u001b[0;32mand\u001b[0m \u001b[0mparse_float\u001b[0m \u001b[0;32mis\u001b[0m \u001b[0;32mNone\u001b[0m \u001b[0;32mand\u001b[0m\u001b[0;34m\u001b[0m\u001b[0;34m\u001b[0m\u001b[0m\n\u001b[1;32m    345\u001b[0m             parse_constant is None and object_pairs_hook is None and not kw):\n\u001b[0;32m--> 346\u001b[0;31m         \u001b[0;32mreturn\u001b[0m \u001b[0m_default_decoder\u001b[0m\u001b[0;34m.\u001b[0m\u001b[0mdecode\u001b[0m\u001b[0;34m(\u001b[0m\u001b[0ms\u001b[0m\u001b[0;34m)\u001b[0m\u001b[0;34m\u001b[0m\u001b[0;34m\u001b[0m\u001b[0m\n\u001b[0m\u001b[1;32m    347\u001b[0m     \u001b[0;32mif\u001b[0m \u001b[0mcls\u001b[0m \u001b[0;32mis\u001b[0m \u001b[0;32mNone\u001b[0m\u001b[0;34m:\u001b[0m\u001b[0;34m\u001b[0m\u001b[0;34m\u001b[0m\u001b[0m\n\u001b[1;32m    348\u001b[0m         \u001b[0mcls\u001b[0m \u001b[0;34m=\u001b[0m \u001b[0mJSONDecoder\u001b[0m\u001b[0;34m\u001b[0m\u001b[0;34m\u001b[0m\u001b[0m\n",
            "\u001b[0;32m/usr/lib/python3.10/json/decoder.py\u001b[0m in \u001b[0;36mdecode\u001b[0;34m(self, s, _w)\u001b[0m\n\u001b[1;32m    335\u001b[0m \u001b[0;34m\u001b[0m\u001b[0m\n\u001b[1;32m    336\u001b[0m         \"\"\"\n\u001b[0;32m--> 337\u001b[0;31m         \u001b[0mobj\u001b[0m\u001b[0;34m,\u001b[0m \u001b[0mend\u001b[0m \u001b[0;34m=\u001b[0m \u001b[0mself\u001b[0m\u001b[0;34m.\u001b[0m\u001b[0mraw_decode\u001b[0m\u001b[0;34m(\u001b[0m\u001b[0ms\u001b[0m\u001b[0;34m,\u001b[0m \u001b[0midx\u001b[0m\u001b[0;34m=\u001b[0m\u001b[0m_w\u001b[0m\u001b[0;34m(\u001b[0m\u001b[0ms\u001b[0m\u001b[0;34m,\u001b[0m \u001b[0;36m0\u001b[0m\u001b[0;34m)\u001b[0m\u001b[0;34m.\u001b[0m\u001b[0mend\u001b[0m\u001b[0;34m(\u001b[0m\u001b[0;34m)\u001b[0m\u001b[0;34m)\u001b[0m\u001b[0;34m\u001b[0m\u001b[0;34m\u001b[0m\u001b[0m\n\u001b[0m\u001b[1;32m    338\u001b[0m         \u001b[0mend\u001b[0m \u001b[0;34m=\u001b[0m \u001b[0m_w\u001b[0m\u001b[0;34m(\u001b[0m\u001b[0ms\u001b[0m\u001b[0;34m,\u001b[0m \u001b[0mend\u001b[0m\u001b[0;34m)\u001b[0m\u001b[0;34m.\u001b[0m\u001b[0mend\u001b[0m\u001b[0;34m(\u001b[0m\u001b[0;34m)\u001b[0m\u001b[0;34m\u001b[0m\u001b[0;34m\u001b[0m\u001b[0m\n\u001b[1;32m    339\u001b[0m         \u001b[0;32mif\u001b[0m \u001b[0mend\u001b[0m \u001b[0;34m!=\u001b[0m \u001b[0mlen\u001b[0m\u001b[0;34m(\u001b[0m\u001b[0ms\u001b[0m\u001b[0;34m)\u001b[0m\u001b[0;34m:\u001b[0m\u001b[0;34m\u001b[0m\u001b[0;34m\u001b[0m\u001b[0m\n",
            "\u001b[0;32m/usr/lib/python3.10/json/decoder.py\u001b[0m in \u001b[0;36mraw_decode\u001b[0;34m(self, s, idx)\u001b[0m\n\u001b[1;32m    353\u001b[0m             \u001b[0mobj\u001b[0m\u001b[0;34m,\u001b[0m \u001b[0mend\u001b[0m \u001b[0;34m=\u001b[0m \u001b[0mself\u001b[0m\u001b[0;34m.\u001b[0m\u001b[0mscan_once\u001b[0m\u001b[0;34m(\u001b[0m\u001b[0ms\u001b[0m\u001b[0;34m,\u001b[0m \u001b[0midx\u001b[0m\u001b[0;34m)\u001b[0m\u001b[0;34m\u001b[0m\u001b[0;34m\u001b[0m\u001b[0m\n\u001b[1;32m    354\u001b[0m         \u001b[0;32mexcept\u001b[0m \u001b[0mStopIteration\u001b[0m \u001b[0;32mas\u001b[0m \u001b[0merr\u001b[0m\u001b[0;34m:\u001b[0m\u001b[0;34m\u001b[0m\u001b[0;34m\u001b[0m\u001b[0m\n\u001b[0;32m--> 355\u001b[0;31m             \u001b[0;32mraise\u001b[0m \u001b[0mJSONDecodeError\u001b[0m\u001b[0;34m(\u001b[0m\u001b[0;34m\"Expecting value\"\u001b[0m\u001b[0;34m,\u001b[0m \u001b[0ms\u001b[0m\u001b[0;34m,\u001b[0m \u001b[0merr\u001b[0m\u001b[0;34m.\u001b[0m\u001b[0mvalue\u001b[0m\u001b[0;34m)\u001b[0m \u001b[0;32mfrom\u001b[0m \u001b[0;32mNone\u001b[0m\u001b[0;34m\u001b[0m\u001b[0;34m\u001b[0m\u001b[0m\n\u001b[0m\u001b[1;32m    356\u001b[0m         \u001b[0;32mreturn\u001b[0m \u001b[0mobj\u001b[0m\u001b[0;34m,\u001b[0m \u001b[0mend\u001b[0m\u001b[0;34m\u001b[0m\u001b[0;34m\u001b[0m\u001b[0m\n",
            "\u001b[0;31mJSONDecodeError\u001b[0m: Expecting value: line 1 column 1 (char 0)"
          ]
        }
      ]
    },
    {
      "cell_type": "code",
      "source": [
        "recieved"
      ],
      "metadata": {
        "colab": {
          "base_uri": "https://localhost:8080/"
        },
        "id": "QF1TO2gOzpsQ",
        "outputId": "e4a07a47-7e34-4029-af5b-04faff16d035"
      },
      "execution_count": null,
      "outputs": [
        {
          "output_type": "execute_result",
          "data": {
            "text/plain": [
              "{'hello': 'world'}"
            ]
          },
          "metadata": {},
          "execution_count": 215
        }
      ]
    },
    {
      "cell_type": "code",
      "source": [
        "recieved, type(recieved)"
      ],
      "metadata": {
        "colab": {
          "base_uri": "https://localhost:8080/"
        },
        "id": "fMjy4gAgtZXG",
        "outputId": "77b6a0de-139b-4ebe-bbfb-87781a0fd8aa"
      },
      "execution_count": null,
      "outputs": [
        {
          "output_type": "execute_result",
          "data": {
            "text/plain": [
              "({'hello': 'world'}, dict)"
            ]
          },
          "metadata": {},
          "execution_count": 192
        }
      ]
    },
    {
      "cell_type": "code",
      "source": [
        "data = {\"name\": \"John\", \"age\": 30, \"city\": \"New York\"}\n",
        "with open(\"data_file.json\", \"w\") as write_file:\n",
        "    json.dump(data, write_file)"
      ],
      "metadata": {
        "id": "Jru2BjuYwRbB"
      },
      "execution_count": null,
      "outputs": []
    },
    {
      "cell_type": "code",
      "source": [
        "with open(\"data_file.json\", \"r\") as read_file:\n",
        "    output = json.load(read_file)"
      ],
      "metadata": {
        "id": "KTHxWj1fw4Ob"
      },
      "execution_count": null,
      "outputs": []
    },
    {
      "cell_type": "code",
      "source": [
        "output"
      ],
      "metadata": {
        "colab": {
          "base_uri": "https://localhost:8080/"
        },
        "id": "A-B2e97DxBRa",
        "outputId": "977194b6-d207-465e-da09-349d7d2af393"
      },
      "execution_count": null,
      "outputs": [
        {
          "output_type": "execute_result",
          "data": {
            "text/plain": [
              "{'name': 'John', 'age': 30, 'city': 'New York'}"
            ]
          },
          "metadata": {},
          "execution_count": 196
        }
      ]
    },
    {
      "cell_type": "code",
      "source": [
        "import json\n",
        "data = {\"name\": \"John\", \"age\": 30, \"city\": \"New York\"}\n",
        "pretty_json = json.dumps(data, indent=4)\n",
        "print(pretty_json)"
      ],
      "metadata": {
        "colab": {
          "base_uri": "https://localhost:8080/"
        },
        "id": "HP9Xw8B2xFGp",
        "outputId": "a6e5cbb7-797e-474b-cd20-2c6b7eef97b2"
      },
      "execution_count": null,
      "outputs": [
        {
          "output_type": "stream",
          "name": "stdout",
          "text": [
            "{\n",
            "    \"name\": \"John\",\n",
            "    \"age\": 30,\n",
            "    \"city\": \"New York\"\n",
            "}\n"
          ]
        }
      ]
    },
    {
      "cell_type": "code",
      "source": [
        "import json\n",
        "data = {\"name\": \"John\", \"age\": 30, \"city\": \"New York\"}\n",
        "sorted_json = json.dumps(data, sort_keys=True)\n",
        "print(sorted_json)"
      ],
      "metadata": {
        "colab": {
          "base_uri": "https://localhost:8080/"
        },
        "id": "n8_SgktExL0L",
        "outputId": "dad11dcb-bd50-41fb-ace5-eefdb90f141c"
      },
      "execution_count": null,
      "outputs": [
        {
          "output_type": "stream",
          "name": "stdout",
          "text": [
            "{\"age\": 30, \"city\": \"New York\", \"name\": \"John\"}\n"
          ]
        }
      ]
    },
    {
      "cell_type": "markdown",
      "source": [
        "requests"
      ],
      "metadata": {
        "id": "8W2n46Soxfwm"
      }
    },
    {
      "cell_type": "code",
      "source": [
        "import requests\n",
        "response = requests.get('https://www.naver.com')\n",
        "print(response.text)  # 응답 텍스트 출력"
      ],
      "metadata": {
        "colab": {
          "base_uri": "https://localhost:8080/"
        },
        "id": "YwJs87_NxOlj",
        "outputId": "14b659dd-10e9-4d18-8f31-74414c95a08f"
      },
      "execution_count": null,
      "outputs": [
        {
          "output_type": "stream",
          "name": "stdout",
          "text": [
            "   <!doctype html> <html lang=\"ko\" class=\"fzoom\"> <head> <meta charset=\"utf-8\"> <meta name=\"Referrer\" content=\"origin\"> <meta http-equiv=\"X-UA-Compatible\" content=\"IE=edge\"> <meta name=\"viewport\" content=\"width=1190\"> <title>NAVER</title> <meta name=\"apple-mobile-web-app-title\" content=\"NAVER\"/> <meta name=\"robots\" content=\"index,nofollow\"/> <meta name=\"description\" content=\"네이버 메인에서 다양한 정보와 유용한 컨텐츠를 만나 보세요\"/> <meta property=\"og:title\" content=\"네이버\"> <meta property=\"og:url\" content=\"https://www.naver.com/\"> <meta property=\"og:image\" content=\"https://s.pstatic.net/static/www/mobile/edit/2016/0705/mobile_212852414260.png\"> <meta property=\"og:description\" content=\"네이버 메인에서 다양한 정보와 유용한 컨텐츠를 만나 보세요\"/> <meta name=\"twitter:card\" content=\"summary\"> <meta name=\"twitter:title\" content=\"\"> <meta name=\"twitter:url\" content=\"https://www.naver.com/\"> <meta name=\"twitter:image\" content=\"https://s.pstatic.net/static/www/mobile/edit/2016/0705/mobile_212852414260.png\"> <meta name=\"twitter:description\" content=\"네이버 메인에서 다양한 정보와 유용한 컨텐츠를 만나 보세요\"/> <meta name=\"google-site-verification\" content=\"uru5NJKa1Bfr5nv5AdQ26Qat7UrPU_02l-PIZRLzI-g\"/> <link rel=\"shortcut icon\" type=\"image/x-icon\" href=\"/favicon.ico?1\"> <link rel=\"apple-touch-icon-precomposed\" href=\"https://s.pstatic.net/static/www/nFavicon96.png\"/> <link rel=\"apple-touch-icon\" sizes=\"114x114\" href=\"https://s.pstatic.net/static/www/u/2014/0328/mma_204243574.png\"/> <link rel=\"apple-touch-icon\" href=\"https://s.pstatic.net/static/www/u/2014/0328/mma_20432863.png\"/> <link rel=\"stylesheet\" href=\"https://ssl.pstatic.net/sstatic/search/pc/css/sp_autocomplete_240801.css\"> <link rel=\"canonical\" href=\"https://www.naver.com/\"> <link rel=\"alternate\" media=\"only screen and (max-width: 767px)\" href=\"https://m.naver.com/\"> <script>window.gladsdk=window.gladsdk||{},window.gladsdk.cmd=window.gladsdk.cmd||[],window.ndpsdk=window.ndpsdk||{},window.ndpsdk.cmd=window.ndpsdk.cmd||[],window.ndpsdk.polyfill=window.ndpsdk.polyfill||{cmd:[]};var g_ssc=\"navertop.v5\";window.nsc=g_ssc,window.nmain=window.nmain||{},window.nmain.jsOrigin=\"www\"</script> <script>window.ntm=window.ntm||[]</script> <script async src=\"https://ssl.pstatic.net/tveta/libs/ndpsdk/prod/ndp-loader.js\"></script> <script async src=\"https://ssl.pstatic.net/tveta/libs/glad/prod/gfp-core.js\"></script> <script src=\"https://ssl.pstatic.net/tveta/libs/assets/js/pc/main/min/pc.veta.core.min.js\" defer=\"defer\"></script>  <script>\n",
            "window[\"EAGER-DATA\"] = window[\"EAGER-DATA\"] || {};\n",
            "window[\"EAGER-DATA\"][\"PC-FEED-WRAPPER\"] = {\"@type\":\"BLOCK\",\"blocks\":[{\"@type\":\"BLOCK\",\"blocks\":[{\"@type\":\"BLOCK\",\"blocks\":[{\"@type\":\"PC-CAS-EDIT-CONTENTS-BLOCK\",\"blocks\":null,\"materials\":[{\"@type\":\"MATERIAL-PC-FEED-EDIT\",\"title\":\"에그 마요 샌드위치\",\"url\":\"https://blog.naver.com/witchyoli/223620167852\",\"image\":{\"url\":\"https://s.pstatic.net/static/www/mobile/edit/20241022_1095/upload_1729565932890Qiws1.jpg\"},\"highlight\":\"레시피 집중탐구\",\"desc\":\"영양 만점에 소화도 잘 되는\",\"desc2\":\"아침 식사 겸 간식 메뉴\",\"_id\":\"654ad80598c6dbca70ba6ce7\"},{\"@type\":\"MATERIAL-PC-FEED-EDIT\",\"title\":\"연일 손님들로 북적이는 역대급 부산 맛집\",\"url\":\"https://post.naver.com/viewer/postView.naver?volumeNo=39651243&memberNo=31740578\",\"image\":{\"url\":\"https://s.pstatic.net/static/www/mobile/edit/20241022_1095/upload_17295659389731O8BP.jpg\"},\"highlight\":\"푸드스토리\",\"desc\":\"입안 가득 퍼지는 맛의 향연 \",\"desc2\":\"'기다릴만하다' 말이 절로 나와요\",\"_id\":\"654ad80598c6dbca70ba6ce8\"},{\"@type\":\"MATERIAL-PC-FEED-EDIT\",\"title\":\"딱 이맘때만 먹을 수 있는 가을 고춧잎 김치 \",\"url\":\"https://tv.naver.com/v/62230401\",\"image\":{\"url\":\"https://s.pstatic.net/static/www/mobile/edit/20241022_1095/upload_1729565943610STvvJ.jpg\"},\"highlight\":\"오늘의 푸드TV\",\"desc\":\"맛있는 양념장 하나면 \",\"desc2\":\"밥 순삭을 부르는 제철 밑반찬\",\"video\":{\"playTime\":\"08:02\"},\"_id\":\"654ad80598c6dbca70ba6ce9\"}],\"excludeInPaging\":false,\"positionForPaging\":0,\"realtime\":false,\"layout\":\"BIG-IMAGE-3\",\"orderRandom\":false,\"_id\":null,\"@type\":\"PC-CAS-EDIT-CONTENTS-BLOCK\",\"@code\":null,\"@template\":\"NONE\",\"@flowId\":null,\"@flowExecutionId\":null,\"@provider\":null,\"@lastModifiedAt\":null}],\"materials\":null,\"excludeInPaging\":false,\"positionForPaging\":0,\"realtime\":false,\"_id\":null,\"@type\":\"BLOCK\",\"@code\":\"PC-FEED-RECIPE-CAS-EDIT\",\"@template\":\"PC-FEED-CAS-EDIT\",\"@flowId\":null,\"@flowExecutionId\":null,\"@provider\":null,\"@lastModifiedAt\":null},{\"@type\":\"PC-FEED-BLOCK\",\"materials\":[{\"@type\":\"MATERIAL-PC-FEED\",\"title\":\"꽃게탕 끓이는법 양념 된장 꽃게탕 레시피 된장찌개 만드는법 꽃게 요리 손질법\",\"url\":\"https://in.naver.com/heeri1212/contents/internal/749292537297760\",\"image\":{\"url\":\"https://s.pstatic.net/dthumb.phinf/?src=%22http%3A%2F%2Fblogfiles.naver.net%2FMjAyNDEwMThfNDMg%2FMDAxNzI5MjI2Njg2Mjkw.Rg8inUEoNPDlrCcFUpnUVk0zidWk2w6SwEmogypZF7Ag.zHY4HNbdaKHbcrm90So2E6t9akeB-R5mzTqsl_YTtJ4g.JPEG%2F1729226685157.jpg%22&type=nf308_200&service=navermain\"},\"source\":{\"url\":\"https://blog.naver.com/heeri1212\",\"name\":\"전직에디터 직설언니\",\"image\":{\"url\":\"https://s.pstatic.net/dthumb.phinf/?src=%22http%3A%2F%2Fblogpfthumb.phinf.naver.net%2FMjAyMzExMjZfMTQ5%2FMDAxNzAwOTk3MjkzMDMw.tCY2GM3nOxA4jps7mEpeUyeAoLCBs-WXTZErBoze2x8g.nPEfWmlK708L4XGoji3eF8itX3pOcDK0ckWnF6zcZ8kg.JPEG.heeri1212%2FprofileImage.jpg%22&type=nf40_40&service=navermain\"}},\"showLiveBadge\":false,\"_id\":\"6441ca92c499cc07f334c56a\"},{\"@type\":\"MATERIAL-PC-FEED\",\"title\":\"냉동 닭가슴살 삶기보다 부드럽게 굽기 헬스 다이어트 요리 해동법\",\"url\":\"https://in.naver.com/cook_yowone/contents/internal/729736392395872\",\"image\":{\"url\":\"https://s.pstatic.net/dthumb.phinf/?src=%22http%3A%2F%2Fblogfiles.naver.net%2FMjAyNDA4MjFfNjIg%2FMDAxNzI0MjQzOTg5NzI1.F2yIb1VyzFj4YRcGHBd9ywS5qif-YQZiLVhD24xWRAEg.yZluX6fK37YCvUHuVoxb2pCFals6FpvrKdFM1uAG0GEg.JPEG%2F%EB%83%89%EB%8F%99_%EB%8B%AD%EA%B0%80%EC%8A%B4%EC%82%B4_%EC%82%B6%EA%B8%B0%EB%B3%B4%EB%8B%A4_%EB%B6%80%EB%93%9C%EB%9F%BD%EA%B2%8C_%EA%B5%BD%EA%B8%B0_%ED%97%AC%EC%8A%A4_%EB%8B%A4%EC%9D%B4%EC%96%B4%ED%8A%B8_%EC%9A%94%EB%A6%AC-77.jpg%22&type=nf308_200&service=navermain\"},\"source\":{\"url\":\"https://blog.naver.com/cook_yowone\",\"name\":\"쿡요원\",\"image\":{\"url\":\"https://s.pstatic.net/dthumb.phinf/?src=%22http%3A%2F%2Fblogpfthumb.phinf.naver.net%2FMjAyMzA2MDRfMjc0%2FMDAxNjg1ODg3NzI4MjU2.vtt8GFax6ilgewhZW2b_d74YJdGldQUFeDWeQf1Rd9sg.p5Cjw7W9eg4chFZokHmv7z1P8Ggy9yW16An2w8dGzSQg.PNG.cook_yowone%2FprofileImage.png%22&type=nf40_40&service=navermain\"}},\"showLiveBadge\":false,\"_id\":\"6441ca92c499cc07f334c56b\"},{\"@type\":\"MATERIAL-PC-FEED\",\"title\":\"이영자 파김치 담그는법 양념 쪽파김치 레시피 담그기\",\"url\":\"https://in.naver.com/bongsrecipe/contents/internal/743535186999904\",\"image\":{\"url\":\"https://s.pstatic.net/dthumb.phinf/?src=%22http%3A%2F%2Fblogfiles.naver.net%2FMjAyNDEwMDJfMjc4%2FMDAxNzI3Nzk2NjMwMjU5.zm_CaduMXZVV5Zj7mUnuHUwufIQezCtDV1wVpBm_ntkg.7qvnKdnfqRU5R3fDNp3rMO0DDVJJnlf7lC3P-7h9Y7kg.JPEG%2F0IMG_0275.JPG%22&type=nf308_200&service=navermain\"},\"source\":{\"url\":\"https://blog.naver.com/bongs1021\",\"name\":\"봉스\",\"image\":{\"url\":\"https://s.pstatic.net/dthumb.phinf/?src=%22http%3A%2F%2Fblogpfthumb.phinf.naver.net%2F20160617_20%2Fbongs1021_1466126167332UzPOp_JPEG%2F11gIMG_1343.jpg%22&type=nf40_40&service=navermain\"}},\"showLiveBadge\":false,\"_id\":\"6441ca92c499cc07f334c56c\"},{\"@type\":\"MATERIAL-PC-FEED\",\"title\":\"원팬 오일파스타 만드는법 대파파스타 링귀니면 원팬파스타 점심메뉴 추천\",\"url\":\"https://in.naver.com/kies84/contents/internal/750640124963904\",\"image\":{\"url\":\"https://s.pstatic.net/dthumb.phinf/?src=%22http%3A%2F%2Fblogfiles.naver.net%2FMjAyNDEwMjFfNjUg%2FMDAxNzI5NDcyNTkwMDEz.i6NCYkOQoj1jD_gh-0d9mI2NpUT2MwF5Rvn9wtlFF4kg.K6oNVCpe1nWtnizrhTaRpxk86NKQ7upIN7SpGcgRAAog.JPEG%2FSnapseed.jpg%22&type=nf308_200&service=navermain\"},\"source\":{\"url\":\"https://blog.naver.com/kies84\",\"name\":\"초대리\",\"image\":{\"url\":\"https://s.pstatic.net/dthumb.phinf/?src=%22http%3A%2F%2Fblogpfthumb.phinf.naver.net%2F20151118_91%2Fkies84_1447826769906Cp9pH_JPEG%2Fttt.jpg%22&type=nf40_40&service=navermain\"}},\"showLiveBadge\":false,\"_id\":\"6441ca92c499cc07f334c56d\"},{\"@type\":\"MATERIAL-PC-FEED\",\"title\":\"백종원 오므라이스 소스 만드는법 레시피 케찹 오무라이스 만들기\",\"url\":\"https://in.naver.com/psy9133/contents/internal/741556779596800\",\"image\":{\"url\":\"https://s.pstatic.net/dthumb.phinf/?src=%22http%3A%2F%2Fblogfiles.naver.net%2FMjAyNDA5MjZfMzMg%2FMDAxNzI3MzQzMzg0Mjgw.9Q6Hzrj6Rq5o9qiVm9LXcxWM5rHkTo2ONCSlivdg3DMg.Sh7VGGIB5gwyHFlpY8FEX2QUJGYODaWhOUVu-OO9M2og.JPEG%2F1Z8A4521.JPG%22&type=nf308_200&service=navermain\"},\"source\":{\"url\":\"https://blog.naver.com/psy9133\",\"name\":\"은솔희섭mom\",\"image\":{\"url\":\"https://s.pstatic.net/dthumb.phinf/?src=%22http%3A%2F%2Fblogpfthumb.phinf.naver.net%2FMjAyNDA5MjRfMjg4%2FMDAxNzI3MTU5MDE1OTM0.3aS3bhkX5CJ5HJHWupWkY-txOlmM_p8qnlnLgc7mx_Ug._QHaXJnC7kn4sV03lUa55txzqGuSgCdChv52IjkWIZEg.JPEG%2FprofileImage.jpg%22&type=nf40_40&service=navermain\"}},\"showLiveBadge\":false,\"_id\":\"6441ca92c499cc07f334c56e\"},{\"@type\":\"MATERIAL-PC-FEED\",\"title\":\"편스토랑 이찬원 김치볶음밥 레시피 고소한 마요네즈 김치볶음밥 만들기\",\"url\":\"https://in.naver.com/naipo000/contents/internal/749633129876480\",\"image\":{\"url\":\"https://s.pstatic.net/dthumb.phinf/?src=%22http%3A%2F%2Fblogfiles.naver.net%2FMjAyNDEwMTlfNDEg%2FMDAxNzI5MzA0NzA5NDg4.DhLclGybpRGs5adcFltuEesC_iXFNSGXo2zHOaQHqXYg.LnBFYHDihHxVpVrqd_CTod4XgqDu96-Dp002q5vl4bwg.JPEG%2FSE-d61096ff-a44b-4fce-b13c-78fc0a64571b.jpg%22&type=nf308_200&service=navermain\"},\"source\":{\"url\":\"https://blog.naver.com/naipo000\",\"name\":\"산이맘\",\"image\":{\"url\":\"https://s.pstatic.net/dthumb.phinf/?src=%22http%3A%2F%2Fblogpfthumb.phinf.naver.net%2FMjAyMTAxMjZfMTMg%2FMDAxNjExNjM0MDIyOTk3.ijtNDmH5zt0u31wHzXvxTG1WjWJBLvyljYBGv-SX-IYg.VAwfyME3NrtREmTGKflyBZnfhgP_JAlxutxajh0u0rog.JPEG.naipo000%2FprofileImage.jpg%22&type=nf40_40&service=navermain\"}},\"showLiveBadge\":false,\"_id\":\"6441ca92c499cc07f334c56f\"},{\"@type\":\"MATERIAL-PC-FEED\",\"title\":\"백패커 진미채볶음 레시피 백종원 오징어채볶음\",\"url\":\"https://in.naver.com/kimhy004/contents/internal/748545795812224\",\"image\":{\"url\":\"https://s.pstatic.net/dthumb.phinf/?src=%22http%3A%2F%2Fblogfiles.naver.net%2FMjAyNDEwMTZfMzkg%2FMDAxNzI5MDQ5OTMzMjEy.GcJrOQv2J8V3ZhA1JyxqVcwcevF63jzDWVBkE_osh6kg.r77ezh2h1z6r3uxUnlj6FgSoYg5ALU-L4Iv3LuUhlIIg.PNG%2FDSCF3569.png%22&type=nf308_200&service=navermain\"},\"source\":{\"url\":\"https://blog.naver.com/kimhy004\",\"name\":\"들꽃향기\",\"image\":{\"url\":\"https://s.pstatic.net/dthumb.phinf/?src=%22http%3A%2F%2Fblogpfthumb.phinf.naver.net%2FMjAyMTAyMjhfOTkg%2FMDAxNjE0NDk5NTcyNDk2._ES4AtEAN48PEwXn0Zb8GBiLOY9Npx3HG0cOTnxk3m0g.StPfXxcFKN_KsKLXu_FAYUIR3NY3rwjeanSckXHTcuQg.JPEG.kimhy004%2Fbeauty_16%252816%2529_6.jpg%22&type=nf40_40&service=navermain\"}},\"showLiveBadge\":false,\"_id\":\"6441ca92c499cc07f334c570\"},{\"@type\":\"MATERIAL-PC-FEED\",\"title\":\"부드러운 진미채볶음 만들기 진미채볶음 레시피 고추장 진미채무침\",\"url\":\"https://in.naver.com/wookyungmom/contents/internal/744934131169856\",\"image\":{\"url\":\"https://s.pstatic.net/dthumb.phinf/?src=%22http%3A%2F%2Fblogfiles.naver.net%2FMjAyNDEwMDNfMTIy%2FMDAxNzI3OTIyNzU2MzM3.SxIG84wLDNu3mxzZhiw3UfDqB2X2gU5QZKIRz5SRJ2Mg.UFG31lffYiKzD12QM19MHgLw6VKNvHXQIyR5AoVSkTsg.JPEG%2FIMG_6899.JPG%22&type=nf308_200&service=navermain\"},\"source\":{\"url\":\"https://blog.naver.com/wookyungmom\",\"name\":\"투우맘\",\"image\":{\"url\":\"https://s.pstatic.net/dthumb.phinf/?src=%22http%3A%2F%2Fblogpfthumb.phinf.naver.net%2F20150426_218%2Fwookyungmom_1430046542188NVi9B_JPEG%2FprofileImage.jpg%22&type=nf40_40&service=navermain\"}},\"showLiveBadge\":false,\"_id\":\"6441ca92c499cc07f334c571\"}],\"excludeInPaging\":false,\"positionForPaging\":0,\"realtime\":false,\"needCologger\":false,\"ad\":false,\"@type\":\"PC-FEED-BLOCK\",\"@code\":\"PC-FEED-RECIPE-POPULAR-TAG\",\"@template\":\"TWO-COLUMNS\"},{\"@type\":\"PC-FEED-BLOCK\",\"materials\":[{\"@type\":\"MATERIAL-PC-FEED\",\"title\":\"애호박 새우젓 볶음 애호박 나물 볶음 레시피 둥근호박 요리\",\"url\":\"https://in.naver.com/mrsbrown/contents/internal/746493336882176\",\"image\":{\"url\":\"https://s.pstatic.net/dthumb.phinf/?src=%22http%3A%2F%2Fblogfiles.naver.net%2FMjAyNDEwMTBfMTI1%2FMDAxNzI4NTE2OTA0NDIw.6tLagnQMUJKHQITyiqekkdZMpKQeWTTivKalPeBxPOIg.4L2Py8dCXFvSxWz9jh0AuSJukNdVpvQL40U-T2TNfpcg.JPEG%2F%EC%95%A0%ED%98%B8%EB%B0%95%EB%B3%B6%EC%9D%8C_%EC%95%A0_%ED%98%B8%EB%B0%95%EB%82%98%EB%AC%BC_%EB%B3%B6%EC%9D%8C_%EB%A0%88%EC%8B%9C%ED%94%BC_%EB%91%A5%EA%B7%BC%ED%98%B8%EB%B0%95%EB%B3%B6%EC%9D%8C_%EB%A7%8C%EB%93%9C%EB%8A%94%EB%B2%9527.jpg%22&type=nf365_240&service=navermain\"},\"source\":{\"url\":\"https://blog.naver.com/cagycagy\",\"name\":\"미세스브라운\",\"image\":{\"url\":\"https://s.pstatic.net/dthumb.phinf/?src=%22http%3A%2F%2Fblogpfthumb.phinf.naver.net%2Fdata11%2F2005%2F11%2F14%2F158%2Fb-1-3090.jpg%22&type=nf40_40&service=navermain\"}},\"tagList\":[\"#애호박반찬\"],\"showLiveBadge\":false,\"_id\":\"6441ca92c499cc07f334c576\"},{\"@type\":\"MATERIAL-PC-FEED\",\"title\":\"두부볶음밥 레시피 다이어트 두부요리 계란볶음밥 만들기\",\"url\":\"https://in.naver.com/kyoungmik/contents/internal/743263968287904\",\"image\":{\"url\":\"https://s.pstatic.net/dthumb.phinf/?src=%22http%3A%2F%2Fblogfiles.naver.net%2FMjAyNDEwMDFfMjQ0%2FMDAxNzI3NzYwNzY2MTQ4.zbIwK2QK-VrdVzSFTl36A7kTUl3wBGVAgBzjAP8cwcgg.CpsM2MOOjEdRB8dga1PCOP0fDldRBUzhJs6_R5nyUQUg.JPEG%2FIMG_9301.JPG%22&type=nf365_240&service=navermain\"},\"source\":{\"url\":\"https://blog.naver.com/kyoungmik\",\"name\":\"갱스홈쿡\",\"image\":{\"url\":\"https://s.pstatic.net/dthumb.phinf/?src=%22http%3A%2F%2Fblogpfthumb.phinf.naver.net%2F20121130_241%2Fkyoungmik_1354286779973luQ14_JPEG%2FSAM_8723.jpg%22&type=nf40_40&service=navermain\"}},\"tagList\":[\"#다이어트두부요리\"],\"showLiveBadge\":false,\"_id\":\"6441ca92c499cc07f334c577\"},{\"@type\":\"MATERIAL-PC-FEED\",\"title\":\"남편 생일상 메뉴 푸짐한 생일상차림\",\"url\":\"https://in.naver.com/piece017/contents/internal/748910535228288\",\"image\":{\"url\":\"https://s.pstatic.net/dthumb.phinf/?src=%22http%3A%2F%2Fblogfiles.naver.net%2FMjAyNDEwMTdfNzYg%2FMDAxNzI5MTM5MTQ0MTk1.hH5R6ahj449SOMb2ggUF5JOTfP_FdTPYs8a_8kVzdawg.6tWRDqy_8v1lv_dbJdaTk49C3Eupa20LoElg18o5svog.JPEG%2Foutput_2842583377.jpg%22&type=nf365_240&service=navermain\"},\"source\":{\"url\":\"https://blog.naver.com/piece017\",\"name\":\"쏭주부\",\"image\":{\"url\":\"https://s.pstatic.net/dthumb.phinf/?src=%22http%3A%2F%2Fblogpfthumb.phinf.naver.net%2FMjAyMTAzMTFfMjMy%2FMDAxNjE1NDY0MTEyNzU2.vwU0cH0kHhITopa91lxnhsv1774Kq_-7r5e1M4tR_gEg.lyh3eQ8VwM9wDNSsmSppWGEOLZ5XmSdkWhxapQi053Yg.JPEG.piece017%2FprofileImage.jpg%22&type=nf40_40&service=navermain\"}},\"tagList\":[\"#생일상차림메뉴\"],\"showLiveBadge\":false,\"_id\":\"6441ca92c499cc07f334c578\"},{\"@type\":\"MATERIAL-PC-FEED\",\"title\":\"에어프라이어 베이킹 다이제 치즈케이크 만들기\",\"url\":\"https://in.naver.com/byobyoblog/contents/internal/744477290298176\",\"image\":{\"url\":\"https://s.pstatic.net/dthumb.phinf/?src=%22http%3A%2F%2Fblogfiles.naver.net%2FMjAyNDEwMDVfMjg3%2FMDAxNzI4MDU3NTI5NzQy.yV-yFYZMDPkFYOf_X-l4KATTP83uZ3FvK17JKQlm140g.x7rZPdM1BURMq8HFvYemN5scfoe_egMflgcmgZtVCYwg.JPEG%2FIMG_0881_jpg.jpg%22&type=nf365_240&service=navermain\"},\"source\":{\"url\":\"https://blog.naver.com/byobyoblog\",\"name\":\"뵤뵤\",\"image\":{\"url\":\"https://s.pstatic.net/dthumb.phinf/?src=%22http%3A%2F%2Fblogpfthumb.phinf.naver.net%2FMjAyMjEyMTlfOTEg%2FMDAxNjcxNDMwNjIyNTA5.Nv1BKCcxVA57Y85LVgxAP5-KtMBO2ICY2ZQkFUCikJwg.k4Rhu_6OBUxbTFNHR-vqXIa0lr70jz7uvBzIOVxqhIUg.PNG.riminin41%2FprofileImage.png%22&type=nf40_40&service=navermain\"}},\"tagList\":[\"#에어프라이어베이킹\"],\"showLiveBadge\":false,\"_id\":\"6441ca92c499cc07f334c579\"},{\"@type\":\"MATERIAL-PC-FEED\",\"title\":\"참치마요 롤유부초밥 만들기 가을 나들이 등산 도시락 (W/ 계란국)\",\"url\":\"https://in.naver.com/nangnang/contents/internal/743579167640128\",\"image\":{\"url\":\"https://s.pstatic.net/dthumb.phinf/?src=%22http%3A%2F%2Fblogfiles.naver.net%2FMjAyNDEwMDJfNDgg%2FMDAxNzI3ODI0NzMyOTQ3.p354lPq0DgUi7RC2xyD2JIgqPEoT2pqMyELu9bdHOl8g.G17dmmZuZhyaO15Jdq7QuhfYzrfSg3nmQXoJaWKZ3BIg.JPEG%2F20240928_090031.jpg%22&type=nf365_240&service=navermain\"},\"source\":{\"url\":\"https://blog.naver.com/jeffrey0728\",\"name\":\"냥냥\",\"image\":{\"url\":\"https://s.pstatic.net/dthumb.phinf/?src=%22http%3A%2F%2Fblogpfthumb.phinf.naver.net%2FMjAyNDAyMjlfMTYg%2FMDAxNzA5MjA1NzM3OTk0.d4z6k2lMTwdXeqVy1Lb9IodhfzM7ZfZeTheYhFJSygIg.FQxDPJDyYJIycxvIB_yQ9Mh8PH_l0MQc11P5L3FU44Eg.PNG%2F777.png%2F777.png%22&type=nf40_40&service=navermain\"}},\"tagList\":[\"#나들이도시락\"],\"showLiveBadge\":false,\"_id\":\"6441ca92c499cc07f334c57a\"},{\"@type\":\"MATERIAL-PC-FEED\",\"title\":\"마른반찬 종류 남편도시락반찬 오징어실채볶음 오징어채간장볶음 레시피\",\"url\":\"https://in.naver.com/loveme90000/contents/internal/726525810150560\",\"image\":{\"url\":\"https://s.pstatic.net/dthumb.phinf/?src=%22http%3A%2F%2Fblogfiles.naver.net%2FMjAyNDA4MTRfMTg1%2FMDAxNzIzNTk0MDM4OTY0.S0VX0_nE812akAXq722RLhkxH0wgGlhUc2yPpZMg6jwg.AJeePt3p5lTqjyLlUJBRvZXH7_OVt6sYaTSiCoS2B4Yg.JPEG%2FIMG_8034.JPG%22&type=nf365_240&service=navermain\"},\"source\":{\"url\":\"https://blog.naver.com/loveme90000\",\"name\":\"골드스푼\",\"image\":{\"url\":\"https://s.pstatic.net/dthumb.phinf/?src=%22http%3A%2F%2Fblogpfthumb.phinf.naver.net%2F20120813_91%2Floveme90000_1344862980130_Bu3q0J_JPG%2FIMG_9882.JPG%22&type=nf40_40&service=navermain\"}},\"tagList\":[\"#도시락반찬\"],\"showLiveBadge\":false,\"_id\":\"6441ca92c499cc07f334c57b\"},{\"@type\":\"MATERIAL-PC-FEED\",\"title\":\"불지않는 잡채  황금레시피 버섯 시금치 잡채 당면삶기 간장 양념 생일상차림메뉴\",\"url\":\"https://in.naver.com/haosu12/contents/internal/748308788566592\",\"image\":{\"url\":\"https://s.pstatic.net/dthumb.phinf/?src=%22http%3A%2F%2Fblogfiles.naver.net%2FMjAyNDEwMTVfNjEg%2FMDAxNzI4OTQzNDI3MDY3.b2YlRW7bg_vj8XPUj_YsLt86o83uZ3hqgSaVzqLnGj8g.pINfM9qNB-K4LznIzs89N0PpiP6SNaB0IlYsHkUqjG0g.JPEG%2F1728943409421.jpg%22&type=nf365_240&service=navermain\"},\"source\":{\"url\":\"https://blog.naver.com/haosu01\",\"name\":\"두리뭉실\",\"image\":{\"url\":\"https://s.pstatic.net/dthumb.phinf/?src=%22http%3A%2F%2Fblogpfthumb.phinf.naver.net%2FMjAyNDAxMTRfODgg%2FMDAxNzA1MjM1NjEwMTgz.FHT48qfs_mvcQXLG9TfX0-9isz5XIs-22_ZYK9RFCK8g.ZE6VFLXBrxgbvXgh9VXxavyRNYBJllhpOMshOi8oOZog.GIF.haosu01%2F%25EC%259B%2580%25EC%25A7%2581%25EC%259D%25B4%25EB%258A%2594_%25EB%2591%2590%25EB%25A6%25AC%25EB%25AD%2589%25EC%258B%25A42.gif%2F%25EC%259B%2580%25EC%25A7%2581%25EC%259D%25B4%25EB%258A%2594%2B%25EB%2591%2590%25EB%25A6%25AC%25EB%25AD%2589%25EC%258B%25A42.gif%22&type=nf40_40&service=navermain\"}},\"tagList\":[\"#생일상차림메뉴\"],\"showLiveBadge\":false,\"_id\":\"6441ca92c499cc07f334c57c\"},{\"@type\":\"MATERIAL-PC-FEED\",\"title\":\"장어초벌구이 두툼한 민물장어1kg 가을 캠핑 음식 준비\",\"url\":\"https://in.naver.com/kkury6825/contents/internal/750353240607616\",\"image\":{\"url\":\"https://s.pstatic.net/dthumb.phinf/?src=%22http%3A%2F%2Fblogfiles.naver.net%2FMjAyNDEwMjFfMTYz%2FMDAxNzI5NDg5MjMyMDc4.7IJ1xDVhWNpJ2o45PX5YBIwDd9G9ltunYSKoJg140XAg.xIUvuQx9zEt-09RzYcdtgoSYZqFqJ1FWmagxhMfBDCcg.JPEG%2FIMG_5730.JPG%22&type=nf365_240&service=navermain\"},\"source\":{\"url\":\"https://blog.naver.com/kkury6825\",\"name\":\"꾸리댁\",\"image\":{\"url\":\"https://s.pstatic.net/dthumb.phinf/?src=%22http%3A%2F%2Fblogpfthumb.phinf.naver.net%2FMjAyMDAyMTJfMTY1%2FMDAxNTgxNDk1MzUxODcy.m4vdD5pUp7E05fFavpO7XjiYBYxEglihTCQxSyDSBfkg.bULEwDzRyjiotEoBlIpMywWwVt5xkYz9zrnOLJYSMrkg.JPEG.kkury6825%2FprofileImage.jpg%22&type=nf40_40&service=navermain\"}},\"tagList\":[\"#캠핑음식\"],\"showLiveBadge\":false,\"_id\":\"6441ca92c499cc07f334c57d\"},{\"@type\":\"MATERIAL-PC-FEED\",\"title\":\"소고기 유부초밥 만들기 간단 도시락 점심 메뉴\",\"url\":\"https://in.naver.com/phpnet/contents/internal/749237293218784\",\"image\":{\"url\":\"https://s.pstatic.net/dthumb.phinf/?src=%22http%3A%2F%2Fblogfiles.naver.net%2FMjAyNDEwMDNfOTQg%2FMDAxNzI3OTI3MTg3NTcx.n19NatvHiV6ZsGaiSXtrhUpjEnexw9FBK_HaWYZxqvUg.vVQjWeGC8AuqEKI8b7wFKF3BT_St9ozIXIg_swDESbcg.JPEG%2FIMG_9685.JPG%22&type=nf365_240&service=navermain\"},\"source\":{\"url\":\"https://blog.naver.com/phpnet\",\"name\":\"배꽃\",\"image\":{\"url\":\"https://s.pstatic.net/dthumb.phinf/?src=%22http%3A%2F%2Fblogpfthumb.phinf.naver.net%2F20120701_157%2Fphpnet_1341099066652_Y94bbN_jpg%2Fq.jpg%22&type=nf40_40&service=navermain\"}},\"tagList\":[\"#도시락메뉴\"],\"showLiveBadge\":false,\"_id\":\"6441ca92c499cc07f334c57e\"},{\"@type\":\"MATERIAL-PC-FEED\",\"title\":\"프로틴바 단백질 만들기 견과류강정 에너지바 만드는 법 핑거푸드 종류\",\"url\":\"https://in.naver.com/semoyoung/contents/internal/734160313695232\",\"image\":{\"url\":\"https://s.pstatic.net/dthumb.phinf/?src=%22http%3A%2F%2Fblogfiles.naver.net%2FMjAyNDA5MDVfNTIg%2FMDAxNzI1NTIxNTA0NjYx.T1Y4qGslR7-_n9Nu2Zobn0DRoX8vo8JThkhTmdi_EsEg.uvPU6TfPQOEv8nn_-8wqRa8qe7pOUezv2siK6fuJ2TUg.JPEG%2FIMG_6829.jpg%22&type=nf365_240&service=navermain\"},\"source\":{\"url\":\"https://blog.naver.com/eunicedahnby\",\"name\":\"세모영\",\"image\":{\"url\":\"https://s.pstatic.net/dthumb.phinf/?src=%22http%3A%2F%2Fblogpfthumb.phinf.naver.net%2FMjAyNDA1MTFfMTM2%2FMDAxNzE1MzU4NDc0MDk2.C980eLMS_b_qdQuQzP1VBAOEnHH6t9_T-MgbuDm57EYg.4haUleB1qOli8d_mSUbBZkjVPJKqWDyUJhBoMGdtrucg.JPEG%2FprofileImage.jpg%22&type=nf40_40&service=navermain\"}},\"tagList\":[\"#핑거푸드\"],\"showLiveBadge\":false,\"_id\":\"6441ca92c499cc07f334c57f\"},{\"@type\":\"MATERIAL-PC-FEED\",\"title\":\"소풍 도시락 만들기 김밥 도시락 꾸미기 아이 도시락 메뉴 추천\",\"url\":\"https://in.naver.com/pyask0702/contents/internal/742955644873472\",\"image\":{\"url\":\"https://s.pstatic.net/dthumb.phinf/?src=%22http%3A%2F%2Fblogfiles.naver.net%2FMjAyNDA5MjlfMTM5%2FMDAxNzI3NTM4NTUxNzI1.2gkePCSwEc4UCY_sCAeQBNx91XHtctCuxANrKBigahwg.Xtu9E4C8DBzE0zS_yUXaclxwo_sN2PF08GvJlPB5ehYg.JPEG%2F1727538549388.jpg%22&type=nf365_240&service=navermain\"},\"source\":{\"url\":\"https://blog.naver.com/pyask0702\",\"name\":\"슬기냥이\",\"image\":{\"url\":\"https://s.pstatic.net/dthumb.phinf/?src=%22http%3A%2F%2Fblogpfthumb.phinf.naver.net%2F20160706_250%2Fpyask0702_1467782853406XlaFl_JPEG%2Fprofileimage.jpg%22&type=nf40_40&service=navermain\"}},\"tagList\":[\"#도시락메뉴\"],\"showLiveBadge\":false,\"_id\":\"6441ca92c499cc07f334c580\"},{\"@type\":\"MATERIAL-PC-FEED\",\"title\":\"크래커 핑거푸드, 간단한 와인안주 로도 좋아요. (feat. 꿀호두정과)\",\"url\":\"https://in.naver.com/sweethands/contents/internal/721030021302944\",\"image\":{\"url\":\"https://s.pstatic.net/dthumb.phinf/?src=%22http%3A%2F%2Fblogfiles.naver.net%2FMjAyNDA3MzFfNzYg%2FMDAxNzIyMzk1NjEwMjE3.ZBlNTMh5oYHedz_LzXJ81P5gf7EQrpvsXCnZHeNJmt4g.ybiL2i8GxGHVDAGnz0PY2C6IjEHSIs2ny7QXCjXhS4Eg.JPEG%2F02_%EC%99%80%EC%9D%B8%EC%95%88%EC%A3%BC_%ED%95%91%EA%B1%B0%ED%91%B8%EB%93%9C_%282%29.jpg%22&type=nf365_240&service=navermain\"},\"source\":{\"url\":\"https://blog.naver.com/young07080\",\"name\":\"별이네개\",\"image\":{\"url\":\"https://s.pstatic.net/dthumb.phinf/?src=%22http%3A%2F%2Fblogpfthumb.phinf.naver.net%2FMjAyMDA2MDdfMjY2%2FMDAxNTkxNTAxODcwMTcz.7-jpxhX11nF0iA3wqp7bfvATEZsV25LMC7Wcbi_JdvEg.J4mVsGHR8xkGBAvQ4jeEzmL0dNqcxtomw2z6HWat9DYg.JPEG.young07080%2FprofileImage.jpg%22&type=nf40_40&service=navermain\"}},\"tagList\":[\"#핑거푸드\"],\"showLiveBadge\":false,\"_id\":\"6441ca92c499cc07f334c581\"},{\"@type\":\"MATERIAL-PC-FEED\",\"title\":\"간편 직장인도시락 다이어트레시피 채식식단 일주일 점심 도시락만들기\",\"url\":\"https://in.naver.com/a0910102/contents/internal/748811329960960\",\"image\":{\"url\":\"https://s.pstatic.net/dthumb.phinf/?src=%22http%3A%2F%2Fblogfiles.naver.net%2FMjAyNDEwMDdfMjA1%2FMDAxNzI4MzA4NjU5MjM0.dGUMiKDm6wD9EOeP65dvyfL2H6ZL5fZQcvEnMEiYs0Ug.Lu2PnjtI-5Gs-BJin7i9y5DrPDh_JeCitEYcC3IrROQg.JPEG%2F20240904_073324-tile.jpg%22&type=nf365_240&service=navermain\"},\"source\":{\"url\":\"https://blog.naver.com/a0910102\",\"name\":\"윌리쥴리맘\",\"image\":{\"url\":\"https://s.pstatic.net/dthumb.phinf/?src=%22http%3A%2F%2Fblogpfthumb.phinf.naver.net%2F20100322_16%2Fa0910102_1269218938229_0aDs4s_jpg%2F11.jpg%22&type=nf40_40&service=navermain\"}},\"tagList\":[\"#일주일도시락\"],\"showLiveBadge\":false,\"_id\":\"6441ca92c499cc07f334c582\"},{\"@type\":\"MATERIAL-PC-FEED\",\"title\":\"토마토 소스 리조또 만들기 오늘뭐먹지 토마토소스 활용 요리\",\"url\":\"https://in.naver.com/mijinkim80/contents/internal/735076940622880\",\"image\":{\"url\":\"https://s.pstatic.net/dthumb.phinf/?src=%22http%3A%2F%2Fblogfiles.naver.net%2FMjAyNDA5MDZfNTcg%2FMDAxNzI1NTk4NTQ5NjUz.NxlJ4pElcJ3WTIP86zEGpwlMwCA_5w0Y9nLsMyQRlVgg.-PPU8sicHCAdw1k2GlvHWDlPX07PKECY5-JF14LpBQUg.JPEG%2F5.JPEG%22&type=nf365_240&service=navermain\"},\"source\":{\"url\":\"https://blog.naver.com/mj_hudadak\",\"name\":\"MJ의후다닥레시피\",\"image\":{\"url\":\"https://s.pstatic.net/dthumb.phinf/?src=%22http%3A%2F%2Fblogpfthumb.phinf.naver.net%2FMjAyNDA3MjhfMTE5%2FMDAxNzIyMTQ5MjAwODA2.9lUrYHsc6LdsVIX00gYPkd6Gqi0ZOh0ZWUMEaXRI6TQg.QDxw-m1QiH8BKJlS0Y8YtgY2bETir2NR55VKuF-r1yYg.JPEG%2F%25ED%2581%25AC%25EA%25B8%25B0%25EB%25B3%2580%25ED%2599%2598%25ED%2594%2584%25EB%25A1%259C%25ED%2595%2584%25EC%2582%25AC%25EC%25A7%2584.jpg%2F%255B%25ED%2581%25AC%25EA%25B8%25B0%25EB%25B3%2580%25ED%2599%2598%255D%25ED%2594%2584%25EB%25A1%259C%25ED%2595%2584%25EC%2582%25AC%25EC%25A7%2584.jpg%22&type=nf40_40&service=navermain\"}},\"tagList\":[\"#오늘뭐먹지\"],\"showLiveBadge\":false,\"_id\":\"6441ca92c499cc07f334c583\"},{\"@type\":\"MATERIAL-PC-FEED\",\"title\":\"애호박요리 진작 이렇게 먹을걸! 애호박구이무침 애호박반찬\",\"url\":\"https://in.naver.com/garugaruru/contents/internal/723176795737056\",\"image\":{\"url\":\"https://s.pstatic.net/dthumb.phinf/?src=%22https%3A%2F%2Fs.pstatic.net%2Ftvcast.phinf%2F20240805_266%2F2v8UL_1722857589650YBP53_JPEG%2F1722857551030.JPG%22&type=nf365_240&service=navermain\"},\"source\":{\"url\":\"https://tv.naver.com/garussi\",\"name\":\"가루씨의 집밥\",\"image\":{\"url\":\"https://s.pstatic.net/dthumb.phinf/?src=%22https%3A%2F%2Fs.pstatic.net%2Ftvcast.phinf%2F20190727_176%2Fwnbpp_1564155334622Ya8L0_JPEG%2F1564155334515.JPG%22&type=nf40_40&service=navermain\"}},\"video\":{\"playTime\":\"03:26\"},\"tagList\":[\"#애호박반찬\"],\"showLiveBadge\":false,\"_id\":\"6441ca92c499cc07f334c584\"},{\"@type\":\"MATERIAL-PC-FEED\",\"title\":\"김치 비빔국수 레시피 양념 간단 비빔국수 양념장 만드는법\",\"url\":\"https://in.naver.com/bongsrecipe/contents/internal/739306427116576\",\"image\":{\"url\":\"https://s.pstatic.net/dthumb.phinf/?src=%22http%3A%2F%2Fblogfiles.naver.net%2FMjAyNDA5MTlfMjgg%2FMDAxNzI2NzM3Mjc0OTMy.mXeIQI1oDUgANOxuY2AhlupqixmR67h3tagxHFmwe6Eg.Pmjac6MkXsqN29YBYXDLnSi23jb4A4e8WNSy-2H3r14g.JPEG%2FbIMG_1310.JPG%22&type=nf365_240&service=navermain\"},\"source\":{\"url\":\"https://blog.naver.com/bongs1021\",\"name\":\"봉스\",\"image\":{\"url\":\"https://s.pstatic.net/dthumb.phinf/?src=%22http%3A%2F%2Fblogpfthumb.phinf.naver.net%2F20160617_20%2Fbongs1021_1466126167332UzPOp_JPEG%2F11gIMG_1343.jpg%22&type=nf40_40&service=navermain\"}},\"tagList\":[\"#간단비빔국수\"],\"showLiveBadge\":false,\"_id\":\"6441ca92c499cc07f334c585\"},{\"@type\":\"MATERIAL-PC-FEED\",\"title\":\"에어프라이어 소금 새우구이 손질 간단한 흰다리새우요리\",\"url\":\"https://in.naver.com/museok27/contents/internal/745514222799488\",\"image\":{\"url\":\"https://s.pstatic.net/dthumb.phinf/?src=%22http%3A%2F%2Fblogfiles.naver.net%2FMjAyNDEwMDdfMTg1%2FMDAxNzI4MzA4NzYwNDAy.Ex97gMsWsYnQtenrnFsBmVLvkFKTMRzPCwqx0ndG0WEg.Zh-NX3dBcVaRofmJ9nJT5zKGnLRWYGXSKcqoM0k1Jqog.JPEG%2F5K7A5855.JPG%22&type=nf365_240&service=navermain\"},\"source\":{\"url\":\"https://blog.naver.com/museok27\",\"name\":\"해피샐러드\",\"image\":{\"url\":\"https://s.pstatic.net/dthumb.phinf/?src=%22http%3A%2F%2Fblogpfthumb.phinf.naver.net%2F20120407_275%2Fmuseok27_1333773871271_icm89f_jpg%2F%ED%94%84%EB%A1%9C%ED%95%84.jpg%22&type=nf40_40&service=navermain\"}},\"tagList\":[\"#간단한새우요리\"],\"showLiveBadge\":false,\"_id\":\"6441ca92c499cc07f334c586\"},{\"@type\":\"MATERIAL-PC-FEED\",\"title\":\"오늘뭐먹지 참치마요 가득한 롤유부초밥 참치 유부초밥 만들기\",\"url\":\"https://in.naver.com/recipebook/contents/internal/744660500085760\",\"image\":{\"url\":\"https://s.pstatic.net/dthumb.phinf/?src=%22http%3A%2F%2Fblogfiles.naver.net%2FMjAyNDEwMDVfNjQg%2FMDAxNzI4MDk5OTY4NjE0.GtYjwSRZfhEh_3RVD3eSTeje4GhyAMoX1iBAZNvAn3Ig.ejjyUNZVnZqGmsu407yqWG9V4xdIbEkFY6scqFR4Tq0g.JPEG%2F%EC%8B%A0%EA%B7%9C_%EB%A9%94%EC%9D%B8_%EC%B4%88%EB%A1%9D%EC%8A%A4%ED%86%A0%EB%A6%AC01.jpg%22&type=nf365_240&service=navermain\"},\"source\":{\"url\":\"https://blog.naver.com/be2141st\",\"name\":\"초록스토리\",\"image\":{\"url\":\"https://s.pstatic.net/dthumb.phinf/?src=%22http%3A%2F%2Fblogpfthumb.phinf.naver.net%2FMjAxODA2MjhfMTAx%2FMDAxNTMwMTcxMjQyNzE2.b_8YylY9vSomtNPBwleEGNXAbcScP-jwOu5GUQw6ZHwg.MPVaz9zPGFRUDqOp5f745IQ1JVrHFtMxmKttvhExdXgg.PNG.be2141st%2F%25B9%25E8%25B3%25CA%25C0%25CC%25B9%25CC%25C1%25F6_%25C1%25A4%25BB%25E7%25B0%25A2%25C7%25FC.png%22&type=nf40_40&service=navermain\"}},\"tagList\":[\"#오늘뭐먹지\"],\"showLiveBadge\":false,\"_id\":\"6441ca92c499cc07f334c587\"},{\"@type\":\"MATERIAL-PC-FEED\",\"title\":\"삶은 땅콩조림 만드는 법 생땅콩조림 땅콩요리 가을 도시락반찬\",\"url\":\"https://in.naver.com/bongsrecipe/contents/internal/741765681957728\",\"image\":{\"url\":\"https://s.pstatic.net/dthumb.phinf/?src=%22http%3A%2F%2Fblogfiles.naver.net%2FMjAyNDA5MjdfMjEx%2FMDAxNzI3MzczOTcyNjI5.6Y7ilaHyGEoTLMQR5c1QLnGOM4Xk84DgbloF1P1noxYg.N03uEAt7Fs_QEyMBwfxmZQgk2IiCH85gezCy_jr1SL0g.JPEG%2FdIMG_0045.JPG%22&type=nf365_240&service=navermain\"},\"source\":{\"url\":\"https://blog.naver.com/bongs1021\",\"name\":\"봉스\",\"image\":{\"url\":\"https://s.pstatic.net/dthumb.phinf/?src=%22http%3A%2F%2Fblogpfthumb.phinf.naver.net%2F20160617_20%2Fbongs1021_1466126167332UzPOp_JPEG%2F11gIMG_1343.jpg%22&type=nf40_40&service=navermain\"}},\"tagList\":[\"#도시락반찬\"],\"showLiveBadge\":false,\"_id\":\"6441ca92c499cc07f334c588\"},{\"@type\":\"MATERIAL-PC-FEED\",\"title\":\"직장인 간단한 점심도시락 다이어트 도시락 메뉴 만들기\",\"url\":\"https://in.naver.com/kimhy004/contents/internal/743590211279520\",\"image\":{\"url\":\"https://s.pstatic.net/dthumb.phinf/?src=%22http%3A%2F%2Fblogfiles.naver.net%2FMjAyNDEwMDJfMTYg%2FMDAxNzI3ODM3MzM3Mzgy.z5BESFBQOSPUFl838Nh6VuJGvPtIte89OylMp-vjk28g.98jRCbtUA1lEPmo1RvYiXT-N9_uxv-KLKR2cVh71v7Qg.PNG%2FDSCF9572.png%22&type=nf365_240&service=navermain\"},\"source\":{\"url\":\"https://blog.naver.com/kimhy004\",\"name\":\"들꽃향기\",\"image\":{\"url\":\"https://s.pstatic.net/dthumb.phinf/?src=%22http%3A%2F%2Fblogpfthumb.phinf.naver.net%2FMjAyMTAyMjhfOTkg%2FMDAxNjE0NDk5NTcyNDk2._ES4AtEAN48PEwXn0Zb8GBiLOY9Npx3HG0cOTnxk3m0g.StPfXxcFKN_KsKLXu_FAYUIR3NY3rwjeanSckXHTcuQg.JPEG.kimhy004%2Fbeauty_16%252816%2529_6.jpg%22&type=nf40_40&service=navermain\"}},\"tagList\":[\"#도시락메뉴\"],\"showLiveBadge\":false,\"_id\":\"6441ca92c499cc07f334c589\"}],\"excludeInPaging\":false,\"positionForPaging\":0,\"realtime\":false,\"title\":\"테마별 레시피\",\"needCologger\":false,\"ad\":false,\"@type\":\"PC-FEED-BLOCK\",\"@code\":\"PC-FEED-RECIPE-THEME-TAG\",\"@template\":\"FOUR-COLUMNS\"},{\"@type\":\"BLOCK\",\"blocks\":null,\"materials\":[{\"@type\":\"MATERIAL-PC-FEED\",\"title\":\"쉬운 일주일 밑반찬 만들기(밑반찬 메뉴, 레시피 추천)| 해파리냉채, 미나리무침, 가지전, 오이부추무침\",\"url\":\"https://in.naver.com/gomiunnie/contents/internal/746004955441984\",\"image\":{\"url\":\"https://s.pstatic.net/dthumb.phinf/?src=%22http%3A%2F%2Fblogfiles.naver.net%2FMjAyNDEwMDhfMTEw%2FMDAxNzI4Mzk4MDk1ODYz.VFwgfdp5IDHp0OlczVVKPhnnF0_aGuzPAi422e2Gzrgg.Hyfaiov7nPb23aZMRfYFtsbManSmo5HFlByWmsJjFn4g.JPEG%2F1728396900086.jpg%22&type=nf308_200&service=navermain\"},\"source\":{\"url\":\"https://blog.naver.com/tjswjd1981\",\"name\":\"곰이언니\",\"image\":{\"url\":\"https://s.pstatic.net/dthumb.phinf/?src=%22http%3A%2F%2Fblogpfthumb.phinf.naver.net%2FMjAxOTA2MjdfNDYg%2FMDAxNTYxNTk4NzMzNDc4.r6PSzBqfM8IF-Atb8j7PGuYNxlqETSTtYAOzY985HNcg.KOm8qe2TnRVZQOFyabxSOKhwFs_E3lD_zP3E6zr0xPQg.JPEG.tjswjd1981%2FprofileImage.jpg%22&type=nf40_40&service=navermain\"}},\"showLiveBadge\":false,\"_id\":\"6441ca92c499cc07f334c58e\"},{\"@type\":\"MATERIAL-PC-FEED\",\"title\":\"가을 낭만에 흠뻑 물들 '단풍뷰 카페' 추천해 드립니다!\",\"url\":\"https://m.post.naver.com/viewer/postView.naver?volumeNo=39596764&memberNo=41829949&vType=VERTICAL\",\"image\":{\"url\":\"https://s.pstatic.net/dthumb.phinf/?src=%22https%3A%2F%2Fs.pstatic.net%2Fpost.phinf%2FMjAyNDEwMTRfNDIg%2FMDAxNzI4ODY3ODUwMjEy.QS8H5jRx-WvraTocewtZacPy1VXo_ksyE5UmHhXIB0kg.6ndzb255Wi5lgA3VFgdT1lYiu3gbbP__ShvyU9We46Ag.JPEG%2FICRroUduQ2RgLAVhaOJar1dXyV58.jpg%22&type=nf308_200&service=navermain\"},\"source\":{\"url\":\"https://m.post.naver.com/my.naver?memberNo=41829949\",\"name\":\"하퍼스바자\",\"image\":{\"url\":\"https://s.pstatic.net/dthumb.phinf/?src=%22https%3A%2F%2Fs.pstatic.net%2Fpost.phinf%2FMjAyMTAxMTVfMTE4%2FMDAxNjEwNzAxMDkxNTk3.QsmIgF3B202DHBic2fNglsk_WGkQB9QX6UB3CtqY4Qgg.fJHNaeqDz1P_MX3r-QOUJhVuug6qIXUXIlOWaZDyZwIg.JPEG%2Fpost_7872813707782700918.jpg%3Ftype%3Df200_200%22&type=nf40_40&service=navermain\"}},\"showLiveBadge\":false,\"_id\":\"6441ca92c499cc07f334c58f\"},{\"@type\":\"MATERIAL-PC-FEED\",\"title\":\"다이어트간식으로 딱! 전자렌지 고구마칩 만들기 고구마간식\",\"url\":\"https://in.naver.com/hubbyscuisine/contents/internal/747649277098752\",\"image\":{\"url\":\"https://s.pstatic.net/dthumb.phinf/?src=%22http%3A%2F%2Fblogfiles.naver.net%2FMjAyNDEwMTFfMzIg%2FMDAxNzI4NjQ5OTAxNjE1.PUaL7CSefB0p0MnUe44MzZTNPEquRy9M56GvM7aNANIg.hX3uthtIrGt0Ptb5cxfeUXEU4CT42ni25D5muEJsXN4g.JPEG%2FDSC04712.JPG%22&type=nf308_200&service=navermain\"},\"source\":{\"url\":\"https://blog.naver.com/papasmuff\",\"name\":\"아재주부\",\"image\":{\"url\":\"https://s.pstatic.net/dthumb.phinf/?src=%22http%3A%2F%2Fblogpfthumb.phinf.naver.net%2FMjAyMjA2MThfMTcy%2FMDAxNjU1NTYyMDQzNjQ5.ZxOAVCywQPMpQDFq30seeZECCShmtqIg76yQPgWxGR8g.B7k4aF8eK-BuTl-J12ph7l3c8RJVphxVBQGLSZXLeWEg.PNG.papasmuff%2F%25EC%2595%2584%25EC%259E%25AC%25EC%2583%2588%25EC%259D%25B4%25EB%25AF%25B8%25EC%25A7%258022.png%2F%25EC%2595%2584%25EC%259E%25AC%25EC%2583%2588%25EC%259D%25B4%25EB%25AF%25B8%25EC%25A7%258022.png%22&type=nf40_40&service=navermain\"}},\"showLiveBadge\":false,\"_id\":\"6441ca92c499cc07f334c590\"},{\"@type\":\"MATERIAL-PC-FEED\",\"title\":\"냉동 새우볶음밥 레시피 굴소스 간장 새우 계란볶음밥 만들기\",\"url\":\"https://in.naver.com/beluga11/contents/internal/750971756378720\",\"image\":{\"url\":\"https://s.pstatic.net/dthumb.phinf/?src=%22http%3A%2F%2Fblogfiles.naver.net%2FMjAyNDEwMThfMjIy%2FMDAxNzI5MjM5MDY0MDUx.cqu5BPetq0fpXA3NAK-Nm3MX1kZFLxu2oiWMrfPFbfIg.Z0iy45s0As1Pbx0SAX0CxsD4aH6u9E383mtINZkW2GMg.JPEG%2FIMG_1953.JPG%22&type=nf308_200&service=navermain\"},\"source\":{\"url\":\"https://blog.naver.com/beluga11\",\"name\":\"벨루가\",\"image\":{\"url\":\"https://s.pstatic.net/dthumb.phinf/?src=%22http%3A%2F%2Fblogpfthumb.phinf.naver.net%2FMjAyMDEyMTlfMjI5%2FMDAxNjA4MzczNjE4OTQx.k4DkqwcKeRYA_cxHz3_yuKV64Wfg1GxmlFFPAkQlocEg.hoVnF8crvVLYkzlwPQM3RrZpW8XxdC7qqhecY3xjX3sg.JPEG.beluga11%2FIMG_8956.JPG%22&type=nf40_40&service=navermain\"}},\"showLiveBadge\":false,\"_id\":\"6441ca92c499cc07f334c591\"},{\"@type\":\"MATERIAL-PC-FEED\",\"title\":\"100살 넘은 집, 서까래를 살려 바꿨다? 요즘 부부의 과감한 선택 | 온라인 집들이\",\"url\":\"https://in.naver.com/todayhouse/contents/internal/748265515461632\",\"image\":{\"url\":\"https://s.pstatic.net/dthumb.phinf/?src=%22https%3A%2F%2Fs.pstatic.net%2Fpost.phinf%2FMjAyNDEwMTRfMjMx%2FMDAxNzI4OTE0NjE4MDI2.wWCX4_dGtyQjpbLMX4IL70uNk3CFXVH7fGuEp1LnHGsg.J9Dk-i-hhWAabcpr1n8d_XRDuiY_wcH5kl5emaQQ55wg.PNG%2FIWaGHP6pHR0a4SiZsow_cSUb2E58.jpg%22&type=nf308_200&service=navermain\"},\"source\":{\"url\":\"https://m.post.naver.com/my.naver?memberNo=202156\",\"name\":\"오늘의집\",\"image\":{\"url\":\"https://s.pstatic.net/dthumb.phinf/?src=%22https%3A%2F%2Fs.pstatic.net%2Fpost.phinf%2FMjAxNzEyMTNfMjI2%2FMDAxNTEzMTUzMDg5ODY1.zVq2kRQtAi5it-sCrIzS1meRSZtk67kSuYEixv5MHJcg.I7iDCd0AB6nN31zV0dRFdX8M4Ey8seTGTQ4mZUcXxGUg.PNG%2Fpost_932340739798048175.png%3Ftype%3Df200_200%22&type=nf40_40&service=navermain\"}},\"showLiveBadge\":false,\"_id\":\"6441ca92c499cc07f334c592\"},{\"@type\":\"MATERIAL-PC-FEED\",\"title\":\"두부찌개 5분만에 끓이는 기깔나게 얼큰하고 간단한 찌개\",\"url\":\"https://in.naver.com/won2822/contents/internal/750244858166208\",\"image\":{\"url\":\"https://s.pstatic.net/dthumb.phinf/?src=%22http%3A%2F%2Fblogfiles.naver.net%2FMjAyNDEwMjFfMjM5%2FMDAxNzI5NDY1NDcwNjIx.iQYUZOrmxr-2BY7AcSFeswfnXLkt5dmkpgv6FKbmorAg.tXfr3CWI7QbcC2f0Mo0p1L_PJJfLfWjUb42eacamAjAg.JPEG%2F%EF%BF%BD%EB%AA%A2%E9%81%BA%EF%BF%BD%EF%A7%A1%EB%9A%AD%EC%BB%BB.jpg%22&type=nf308_200&service=navermain\"},\"source\":{\"url\":\"https://blog.naver.com/won2822\",\"name\":\"aeraeee\",\"image\":{\"url\":\"https://s.pstatic.net/dthumb.phinf/?src=%22http%3A%2F%2Fblogpfthumb.phinf.naver.net%2FMjAyNDA4MjNfMjMx%2FMDAxNzI0NDE2NDUzNTUz.AE8W6yefp_Rx2puziesE1amuD0fgkqKa4DJvYy04gkAg.SQ8vhBINiRROfJOxCMoC55UOAmHpk2jm2bUzBjgvTo4g.PNG%2FprofileImage.png%22&type=nf40_40&service=navermain\"}},\"showLiveBadge\":false,\"_id\":\"6441ca92c499cc07f334c593\"},{\"@type\":\"MATERIAL-PC-FEED\",\"title\":\"잠봉뵈르 샌드위치 소스 모닝빵 요리 햄치즈 샌드위치 만들기\",\"url\":\"https://in.naver.com/bongsrecipe/contents/internal/750966920375424\",\"image\":{\"url\":\"https://s.pstatic.net/dthumb.phinf/?src=%22http%3A%2F%2Fblogfiles.naver.net%2FMjAyNDEwMjJfNiAg%2FMDAxNzI5NTc4MTE4MDc0.ggedc3V8T5RATLhoJwKHFMXXmPA3WPJf8km8H3Oxr18g.GOcRLHtLH9IC-fJ_1vtJcdHMStao9rOIOekP5rYrHdwg.JPEG%2FcIMG_4033.JPG%22&type=nf308_200&service=navermain\"},\"source\":{\"url\":\"https://blog.naver.com/bongs1021\",\"name\":\"봉스\",\"image\":{\"url\":\"https://s.pstatic.net/dthumb.phinf/?src=%22http%3A%2F%2Fblogpfthumb.phinf.naver.net%2F20160617_20%2Fbongs1021_1466126167332UzPOp_JPEG%2F11gIMG_1343.jpg%22&type=nf40_40&service=navermain\"}},\"showLiveBadge\":false,\"_id\":\"6441ca92c499cc07f334c594\"},{\"@type\":\"MATERIAL-PC-FEED\",\"title\":\"온라인집들이, 4인가족을 위한 예쁜전원주택짓기! 30평대 단독주택 모던주택 전원주택인테리어\",\"url\":\"https://in.naver.com/theartistmagazine/contents/internal/748125413755648\",\"image\":{\"url\":\"https://s.pstatic.net/dthumb.phinf/?src=%22https%3A%2F%2Fs.pstatic.net%2Fpost.phinf%2FMjAyNDEwMTRfNTMg%2FMDAxNzI4OTA3NTQ1OTA1.c7WOUYspqckeOSo5bYbSRNwmykBjJ3YtgpLnEW_D0CMg.PWRerGPEMOsJJ2rvd3iiYJh59qe-5Z_I8WFJWVF2vaog.JPEG%2FI7jfck0eCncMHmVS6hxJs3kyqSW0.jpg%22&type=nf308_200&service=navermain\"},\"source\":{\"url\":\"https://m.post.naver.com/my.naver?memberNo=4444311\",\"name\":\"디아티스트매거진\",\"image\":{\"url\":\"https://s.pstatic.net/dthumb.phinf/?src=%22https%3A%2F%2Fs.pstatic.net%2Fpost.phinf%2FMjAxNjExMTlfMTAy%2FMDAxNDc5NTMwMjIwNTA5.vHvDCthgrwuInNfm5bv_aaTzjTxbg0raQtZaYpRmCtYg.gwQGK25AmcKxx3K4ajED_WE_n3R5x4p5eA1ILrl71Lkg.JPEG%2Fpost_1326171732157117906.jpeg%3Ftype%3Df200_200%22&type=nf40_40&service=navermain\"}},\"showLiveBadge\":false,\"_id\":\"6441ca92c499cc07f334c595\"}],\"excludeInPaging\":false,\"positionForPaging\":0,\"realtime\":false,\"_id\":null,\"@type\":\"BLOCK\",\"@code\":\"PC-FEED-RECIPE-AIRS-PERSONAL-RECOMMEND-1\",\"@template\":\"TWO-COLUMNS\",\"@flowId\":null,\"@flowExecutionId\":null,\"@provider\":null,\"@lastModifiedAt\":null},{\"@type\":\"PC-FEED-BLOCK\",\"materials\":[{\"@type\":\"MATERIAL-PC-FEED\",\"title\":\"봉자어무이의 주말 술안주 베스트 포차보다 맛있는 술안주 모음\",\"url\":\"https://in.naver.com/ggonsil/topic/748519319537568?cds=nm_pc_recipe\",\"image\":{\"url\":\"https://s.pstatic.net/dthumb.phinf/?src=%22https%3A%2F%2Finfluencer-phinf.pstatic.net%2FMjAyNDEwMTZfMTE2%2FMDAxNzI5MDQ0NDgyNjgx.xfY1v6yjmC0aL1IGoaJQPXYdgvB0ylfzdE5bivCp_KEg.WDUbyVTB-LYbkqyihDJ8-w3IeYFwmVPSNutOASjT0bcg.PNG%2F0a31.png%22&type=nf365_240&service=navermain\"},\"sourceCategory\":\"인플루언서\",\"source\":{\"name\":\"봉자어무이\",\"image\":{\"url\":\"https://s.pstatic.net/dthumb.phinf/?src=%22https%3A%2F%2Fhomebuilder-phinf.pstatic.net%2FMjAyMzA3MjBfMTIw%2FMDAxNjg5ODI5NzkyNjM2.dGQZvKi4A3myzgvL5MDaFa76EreZoEGaVencKqoZIHsg.qJQEKSUQJvKSyDS7FYJ9OZntN5l3dNA4AzvA0F4mIB8g.JPEG%2F1689829792625_%25EC%259D%2580%25EC%258B%25A4_%25282%2529.jpg%22&type=nf40_40&service=navermain\"}},\"labels\":[{\"type\":\"category\",\"text\":\"한식\"}],\"showLiveBadge\":false,\"_id\":\"6441ca92c499cc07f334c59a\"},{\"@type\":\"MATERIAL-PC-FEED\",\"title\":\"틱톡 유행 간식 데카포, 스웨디시젤리 만들기\",\"url\":\"https://in.naver.com/dou_blog/topic/749684554196864?cds=nm_pc_recipe\",\"image\":{\"url\":\"https://s.pstatic.net/dthumb.phinf/?src=%22https%3A%2F%2Finfluencer-phinf.pstatic.net%2FMjAyNDEwMTlfMjk1%2FMDAxNzI5MzI5MTA3MTM0.Xw4KTfcLqdsc6-X2OVgH4nAB26XoeL2ONen8GgDN86kg.nKS3v7qQCFVHuInRMTwJOGJZF_wf90d3YzEt0NyiZzMg.PNG%2Fc88b.png%22&type=nf365_240&service=navermain\"},\"sourceCategory\":\"인플루언서\",\"source\":{\"name\":\"푸드듀\",\"image\":{\"url\":\"https://s.pstatic.net/dthumb.phinf/?src=%22https%3A%2F%2Fblogpfthumb-phinf.pstatic.net%2F20230917_276%2Fhsg3492_1694947518843klU5s_JPEG%2FprofileImage.jpg%22&type=nf40_40&service=navermain\"}},\"labels\":[{\"type\":\"category\",\"text\":\"안주/간식\"}],\"showLiveBadge\":false,\"_id\":\"6441ca92c499cc07f334c59b\"},{\"@type\":\"MATERIAL-PC-FEED\",\"title\":\"맵콤 칼칼하게 매력적인 마성의 고추장찌개 레시피 3선\",\"url\":\"https://in.naver.com/lualargo/topic/748818235234208?cds=nm_pc_recipe\",\"image\":{\"url\":\"https://s.pstatic.net/dthumb.phinf/?src=%22https%3A%2F%2Finfluencer-phinf.pstatic.net%2FMjAyNDEwMTdfMTYg%2FMDAxNzI5MTE3NzM0MTE4.OW1l27eIAS2EluI9mHhlvZ9UazoKcX3AxOgctKfSSLEg.Y8HYWcN-Fy_csUMDx3nbue-bYln9CA1_4J5RORDNIA0g.PNG%2F7f70.png%22&type=nf365_240&service=navermain\"},\"sourceCategory\":\"인플루언서\",\"source\":{\"name\":\"루아언니\",\"image\":{\"url\":\"https://s.pstatic.net/dthumb.phinf/?src=%22https%3A%2F%2Fblogpfthumb-phinf.pstatic.net%2FMjAyMzA0MDlfMjg1%2FMDAxNjgxMDAzNjg3MTc4.4IgHUFhjcLPDkRl9oztpj3py6KFbnX98v-YNroqL3kQg.Ns3dwjUcopjOnYQ-OCB1_lfUOE-tyUQNQj8fqFAApgMg.JPEG.2win%2FprofileImage.jpg%22&type=nf40_40&service=navermain\"}},\"labels\":[{\"type\":\"category\",\"text\":\"한식\"}],\"showLiveBadge\":false,\"_id\":\"6441ca92c499cc07f334c59c\"},{\"@type\":\"MATERIAL-PC-FEED\",\"title\":\"속편한 무나물 레시피 \",\"url\":\"https://in.naver.com/17315/topic/750710022285152?cds=nm_pc_recipe\",\"image\":{\"url\":\"https://s.pstatic.net/dthumb.phinf/?src=%22https%3A%2F%2Finfluencer-phinf.pstatic.net%2FMjAyNDEwMjJfMzkg%2FMDAxNzI5NTc5MTEzMTcy.krsvQEcbNhhfnEETacR0G5gFNPfhiJl-4QO4VrhmEkIg.n4trfoaxf9LdOaAsn0PNo3G7npi61T4TZD2OWt4jKPog.PNG%2Fb8d0.png%22&type=nf365_240&service=navermain\"},\"sourceCategory\":\"인플루언서\",\"source\":{\"name\":\"햇살\",\"image\":{\"url\":\"https://s.pstatic.net/dthumb.phinf/?src=%22https%3A%2F%2Fhomebuilder-phinf.pstatic.net%2FMjAyMzA5MTZfMTQ2%2FMDAxNjk0ODEzNDU1ODk0.6dD8CDGTkcjnOg-9-9cVWgowOOSg5erTJxNzpbRS2GYg.-tfD4MFkJ25nNEjK14pP7vVWSiq6GGqghdCoQSnvTxAg.JPEG%2F1694813455848_1000091738.jpg%22&type=nf40_40&service=navermain\"}},\"labels\":[{\"type\":\"category\",\"text\":\"한식\"}],\"showLiveBadge\":false,\"_id\":\"6441ca92c499cc07f334c59d\"},{\"@type\":\"MATERIAL-PC-FEED\",\"title\":\"간단한 점심메뉴 양배추덮밥! 참치 VS 스팸!\",\"url\":\"https://in.naver.com/nangnang/topic/750672918677440?cds=nm_pc_recipe\",\"image\":{\"url\":\"https://s.pstatic.net/dthumb.phinf/?src=%22https%3A%2F%2Finfluencer-phinf.pstatic.net%2FMjAyNDEwMjJfMTA1%2FMDAxNzI5NTcwMTg0Mzk4.4Tx5aBt0rGNgeFLcpJszjVDK9YB22OCxY2WERVaynT4g.-jMKEp6eGBOQv0Q653IIrd-J-iJM62uqYu_bDdocPAQg.PNG%2F7078.png%22&type=nf365_240&service=navermain\"},\"sourceCategory\":\"인플루언서\",\"source\":{\"name\":\"냥냥\",\"image\":{\"url\":\"https://s.pstatic.net/dthumb.phinf/?src=%22https%3A%2F%2Fhomebuilder-phinf.pstatic.net%2FMjAyNDAzMDVfMTI1%2FMDAxNzA5NTk5MTY2OTM0.bdK3e6mWDhqkJ_9RRRTKy0y3SxRX_UppLE4lLdek_r4g.q70uPBTe03ZFn-rAVdlzz0kMJSxnCKdmF8SDS171IKsg.PNG%2F1709599166884_20240305_093833.png%22&type=nf40_40&service=navermain\"}},\"labels\":[{\"type\":\"category\",\"text\":\"한식\"}],\"showLiveBadge\":false,\"_id\":\"6441ca92c499cc07f334c59e\"},{\"@type\":\"MATERIAL-PC-FEED\",\"title\":\"가을에 잘 어울리는 애호박 반찬 3모음\",\"url\":\"https://in.naver.com/17315/topic/748479504541632?cds=nm_pc_recipe\",\"image\":{\"url\":\"https://s.pstatic.net/dthumb.phinf/?src=%22https%3A%2F%2Finfluencer-phinf.pstatic.net%2FMjAyNDEwMTZfMjUz%2FMDAxNzI5MDM0MjcxOTYw.c__DTfFUQuZeghcFWM3iraMKRPJdUbkGsBitMFllKWYg.c74zGlhe9-dM5sGkOEAOV2u_G7qTWQPVKGM--44Hfv0g.PNG%2Fefe8.png%22&type=nf365_240&service=navermain\"},\"sourceCategory\":\"인플루언서\",\"source\":{\"name\":\"햇살\",\"image\":{\"url\":\"https://s.pstatic.net/dthumb.phinf/?src=%22https%3A%2F%2Fhomebuilder-phinf.pstatic.net%2FMjAyMzA5MTZfMTQ2%2FMDAxNjk0ODEzNDU1ODk0.6dD8CDGTkcjnOg-9-9cVWgowOOSg5erTJxNzpbRS2GYg.-tfD4MFkJ25nNEjK14pP7vVWSiq6GGqghdCoQSnvTxAg.JPEG%2F1694813455848_1000091738.jpg%22&type=nf40_40&service=navermain\"}},\"labels\":[{\"type\":\"category\",\"text\":\"한식\"}],\"showLiveBadge\":false,\"_id\":\"6441ca92c499cc07f334c59f\"},{\"@type\":\"MATERIAL-PC-FEED\",\"title\":\"명란젓 덜 짜고 더 맛있게 즐기기 \",\"url\":\"https://in.naver.com/sslimami/topic/750823190206336?cds=nm_pc_recipe\",\"image\":{\"url\":\"https://s.pstatic.net/dthumb.phinf/?src=%22https%3A%2F%2Finfluencer-phinf.pstatic.net%2FMjAyNDEwMjJfMTAx%2FMDAxNzI5NjA2MzEwOTAw.c7MWkmZYELGmfcA5lG5__vlCvfTEzcupZQR1XqBgPOcg.DoA3q9exJnjLhLJ9quer9uQiyUc7xi2bwU-Ri7i4cWsg.PNG%2F8565.png%22&type=nf365_240&service=navermain\"},\"sourceCategory\":\"인플루언서\",\"source\":{\"name\":\"스리마미\",\"image\":{\"url\":\"https://s.pstatic.net/dthumb.phinf/?src=%22https%3A%2F%2Finfluencer-phinf.pstatic.net%2FMjAyMTAyMTZfMTc4%2FMDAxNjEzNDU3OTU0ODg4.HWiezjG9AEIEDNTb8iL-KnTJQ23_bpxXBYFRAPIf2c0g.QrrYNsZatvOWdZQeFFWFknKsnEAEppcIsD3Kmae_BN4g.JPEG%2F2F44CEA8-DAE4-482D-AAAD-9CA56879A01D.jpeg%22&type=nf40_40&service=navermain\"}},\"labels\":[{\"type\":\"category\",\"text\":\"한식\"}],\"showLiveBadge\":false,\"_id\":\"6441ca92c499cc07f334c5a0\"},{\"@type\":\"MATERIAL-PC-FEED\",\"title\":\"맛깔난 깐바지락요리\",\"url\":\"https://in.naver.com/foodireh/topic/749091193448256?cds=nm_pc_recipe\",\"image\":{\"url\":\"https://s.pstatic.net/dthumb.phinf/?src=%22https%3A%2F%2Finfluencer-phinf.pstatic.net%2FMjAyNDEwMThfMTQg%2FMDAxNzI5MTgzNzA0Mjg4.VwP9l64CRRSC2bejHoGStsSY2doiG_8p4VIjG36FE6kg.zRFuOxq7DzQ0KvfdD0smJtmKP-F_22ZHJ7-o85O7y3sg.PNG%2F8fbd.png%22&type=nf365_240&service=navermain\"},\"sourceCategory\":\"인플루언서\",\"source\":{\"name\":\"푸디레\",\"image\":{\"url\":\"https://s.pstatic.net/dthumb.phinf/?src=%22https%3A%2F%2Fhomebuilder-phinf.pstatic.net%2FMjAyMzA2MjBfMTY4%2FMDAxNjg3MjM0NTUzODI2.jaLvcbF-OGX1vgLEI83YiLGD5ayYcz7beEkGWvSzpNgg.lq1FaBmD8I11VXKdi7AzH3tldbpeRBoIeC8DA4HaTt8g.JPEG%2F1687234553784_IMG_1381.jpeg%22&type=nf40_40&service=navermain\"}},\"labels\":[{\"type\":\"category\",\"text\":\"한식\"}],\"showLiveBadge\":false,\"_id\":\"6441ca92c499cc07f334c5a1\"},{\"@type\":\"MATERIAL-PC-FEED\",\"title\":\"닭을 이용한 요리 3 가지\",\"url\":\"https://in.naver.com/kh2187782-/topic/750972983879584?cds=nm_pc_recipe\",\"image\":{\"url\":\"https://s.pstatic.net/dthumb.phinf/?src=%22https%3A%2F%2Finfluencer-phinf.pstatic.net%2FMjAyNDEwMjFfNDkg%2FMDAxNzI5NDM5NTg5MzA0.Oj0UW0k4w5ZueNBpNzd5aqq1PzBGUWpHvopv1eLAO14g.sQ_64_pcT-ECvEh6GGt1P3KLdf4el-tAK4dHJbL5yCYg.PNG%2F8d00.png%22&type=nf365_240&service=navermain\"},\"sourceCategory\":\"인플루언서\",\"source\":{\"name\":\"동그랑\",\"image\":{\"url\":\"https://s.pstatic.net/dthumb.phinf/?src=%22https%3A%2F%2Fhomebuilder-phinf.pstatic.net%2FMjAyMzExMjFfODUg%2FMDAxNzAwNTU2NzQzNTA3.vJYl1wVS6XUZ4DXv-9T1oZUj0Djp_WG5UuNNmEVwggYg.Q7BiUFRqM-2LiR6w7UV1SLK0Ox3j0rkkXaPDYOImzvAg.JPEG%2F1700556743337_1000058451.jpg%22&type=nf40_40&service=navermain\"}},\"labels\":[{\"type\":\"category\",\"text\":\"한식\"}],\"showLiveBadge\":false,\"_id\":\"6441ca92c499cc07f334c5a2\"},{\"@type\":\"MATERIAL-PC-FEED\",\"title\":\"다이어트 월남쌈 재료\",\"url\":\"https://in.naver.com/misoo0612/topic/750800820025120?cds=nm_pc_recipe\",\"image\":{\"url\":\"https://s.pstatic.net/dthumb.phinf/?src=%22https%3A%2F%2Finfluencer-phinf.pstatic.net%2FMjAyNDEwMjJfNzYg%2FMDAxNzI5NTk5NjE5NjIz.WeCdygVF8sDSZ_3yD0NBXd_9SUIDyReddG08f1Tn9H0g.gbVG0TkVAY-QUD3i7od2rugoagHa00yarJ0YCdSjdnwg.PNG%2Fd23c.png%22&type=nf365_240&service=navermain\"},\"sourceCategory\":\"인플루언서\",\"source\":{\"name\":\"제이맘\",\"image\":{\"url\":\"https://s.pstatic.net/dthumb.phinf/?src=%22https%3A%2F%2Fphinf.pstatic.net%2Fcontact%2F20171017_256%2F1508233647630xw7AR_JPEG%2FIMG_9459.jpg%22&type=nf40_40&service=navermain\"}},\"labels\":[{\"type\":\"category\",\"text\":\"한식\"}],\"showLiveBadge\":false,\"_id\":\"6441ca92c499cc07f334c5a3\"},{\"@type\":\"MATERIAL-PC-FEED\",\"title\":\"오후에 커피와 함께 곁들이기 좋은 간식 레시피\",\"url\":\"https://in.naver.com/misangu/topic/749555072505632?cds=nm_pc_recipe\",\"image\":{\"url\":\"https://s.pstatic.net/dthumb.phinf/?src=%22https%3A%2F%2Finfluencer-phinf.pstatic.net%2FMjAyNDEwMTlfNzUg%2FMDAxNzI5Mjk3NDUwNzY5.rS5ndNCGN5hL-GKA_5ktdNYHv3Qk9j6c_vp0si2rzHgg.9bIEPfLMm41Njiq3ZIeij7ErmopQfZAIr3a1A1J0F2sg.PNG%2F1bb7.png%22&type=nf365_240&service=navermain\"},\"sourceCategory\":\"인플루언서\",\"source\":{\"name\":\"미상유\",\"image\":{\"url\":\"https://s.pstatic.net/dthumb.phinf/?src=%22https%3A%2F%2Fhomebuilder-phinf.pstatic.net%2F%2FMjAyMTA2MzBfMTUg%2FMDAxNjI1MDEwODA3NTI4.Ms2-GlFMWTsSxXTBfRT4ZF03WPZLz1Og9S9b6aEC-MMg.hiby_grXQvPRTdVGD9x4FsRJgCeDYVf71FtBsDoPfaIg.JPEG%2F1625010807522_pro.jpg%22&type=nf40_40&service=navermain\"}},\"labels\":[{\"type\":\"category\",\"text\":\"한식\"}],\"showLiveBadge\":false,\"_id\":\"6441ca92c499cc07f334c5a4\"},{\"@type\":\"MATERIAL-PC-FEED\",\"title\":\"센스있는 집들이 음식 메뉴 추천\",\"url\":\"https://in.naver.com/beluga11/topic/749730710566688?cds=nm_pc_recipe\",\"image\":{\"url\":\"https://s.pstatic.net/dthumb.phinf/?src=%22https%3A%2F%2Finfluencer-phinf.pstatic.net%2FMjAyNDEwMTlfMjEg%2FMDAxNzI5MzQwNTIyMTcw.ZaVXTYz6lpgPNqCFWkk33yUD7RkdXFOO7lzOQ_vw_Zgg.8NBfFV1cCQLEI2LMWFQA_8AxE9jFI6XyxdalfJXT9Dog.PNG%2F08fc.png%22&type=nf365_240&service=navermain\"},\"sourceCategory\":\"인플루언서\",\"source\":{\"name\":\"벨루가\",\"image\":{\"url\":\"https://s.pstatic.net/dthumb.phinf/?src=%22https%3A%2F%2Finfluencer-phinf.pstatic.net%2FMjAyMDEyMTlfMjQz%2FMDAxNjA4MzczMzYxNzQw.-Cf0kH-1CfpnAMvo1LwHa004Q9Kp0jfLnvThhIH3kRgg.s7m0HjzWN42hPkEMOki1Rfgd5DxCepsk5FC-LNZ2F5gg.JPEG%2F1608373316206.jpg%22&type=nf40_40&service=navermain\"}},\"labels\":[{\"type\":\"category\",\"text\":\"한식\"}],\"showLiveBadge\":false,\"_id\":\"6441ca92c499cc07f334c5a5\"},{\"@type\":\"MATERIAL-PC-FEED\",\"title\":\"쫄면사리 들어간 밀떡볶이 vs 짜장떡볶이, 당신의 선택은?\",\"url\":\"https://in.naver.com/sundoong2/topic/751025944536896?cds=nm_pc_recipe\",\"image\":{\"url\":\"https://s.pstatic.net/dthumb.phinf/?src=%22https%3A%2F%2Finfluencer-phinf.pstatic.net%2FMjAyNDEwMjJfNDYg%2FMDAxNzI5NjA1MDEwODIw.WBLOoAUTtplk09LLagfmS7Qn70gwExKB5dN2uq4jPKIg.UKI7ZIU8FyCIeAYGRxLOBNRnoeL6T-le3RWBMMxHQSYg.PNG%2Fb760.png%22&type=nf365_240&service=navermain\"},\"sourceCategory\":\"인플루언서\",\"source\":{\"name\":\"순둥작가\",\"image\":{\"url\":\"https://s.pstatic.net/dthumb.phinf/?src=%22https%3A%2F%2Fblogpfthumb-phinf.pstatic.net%2FMjAyMDA1MzBfMjQ4%2FMDAxNTkwODQ1MDY4MDYz.-T5InVJFfB9gP9Pjl4RCPIJdUGNy4yrGD55GOpVtHe8g.nYroPrGgcZFQ68mojXV0QCOv7Ep_xC8jsLkiaJ0rFgYg.JPEG.sundoong2%2F%25BC%25F8%25B5%25D5%25C0%25DB%25B0%25A1.jpg%22&type=nf40_40&service=navermain\"}},\"labels\":[{\"type\":\"category\",\"text\":\"안주/간식\"}],\"showLiveBadge\":false,\"_id\":\"654ad80598c6dbca70ba6c5c\"},{\"@type\":\"MATERIAL-PC-FEED\",\"title\":\"요즘 만들기 딱 좋은 저장음식 삭힌고추 삭힌깻잎\",\"url\":\"https://in.naver.com/kjofood/topic/750603516606400?cds=nm_pc_recipe\",\"image\":{\"url\":\"https://s.pstatic.net/dthumb.phinf/?src=%22https%3A%2F%2Finfluencer-phinf.pstatic.net%2FMjAyNDEwMjBfMTc3%2FMDAxNzI5MzgwNjk4MTE0.-398o3WyvWkhocXn5SyODyLHHsCODoodAuy9HDslhJYg.4vaXxo-Puu7gtkbksY_D95HX3kPOg_OmZTW0klsdBUgg.PNG%2Faf8e.png%22&type=nf365_240&service=navermain\"},\"sourceCategory\":\"인플루언서\",\"source\":{\"name\":\"김진옥요리가좋다\",\"image\":{\"url\":\"https://s.pstatic.net/dthumb.phinf/?src=%22https%3A%2F%2Fhomebuilder-phinf.pstatic.net%2FMjAyMjA4MTNfNTAg%2FMDAxNjYwMzkxNTE0MjQz.3v-KQg3wmPa6e2bHWIWPy1BOlleVPy9HyCWNnFNFBqIg.-2eXZAXzldhPrG9mFOv2ERR1aC-tGaes6tAmmauf_q8g.PNG%2F1660391514223_%25EC%25BA%25A1%25EC%25B2%2598_20220722075754.PNG%22&type=nf40_40&service=navermain\"}},\"labels\":[{\"type\":\"category\",\"text\":\"한식\"}],\"showLiveBadge\":false,\"_id\":\"654ad80598c6dbca70ba6c5d\"},{\"@type\":\"MATERIAL-PC-FEED\",\"title\":\"스테이크 부위별로 맛있게 즐기기\",\"url\":\"https://in.naver.com/sslimami/topic/749685648811904?cds=nm_pc_recipe\",\"image\":{\"url\":\"https://s.pstatic.net/dthumb.phinf/?src=%22https%3A%2F%2Finfluencer-phinf.pstatic.net%2FMjAyNDEwMThfMjg1%2FMDAxNzI5MTc3NzYwNzQw.4AJijmrHczzbE9cmJWDTllzBfR2q85JcIt0GK-44keMg.gwyjv-YqlfMRQSTDhFRao6xASOsxJroNiayquizlMkEg.PNG%2F7fed.png%22&type=nf365_240&service=navermain\"},\"sourceCategory\":\"인플루언서\",\"source\":{\"name\":\"스리마미\",\"image\":{\"url\":\"https://s.pstatic.net/dthumb.phinf/?src=%22https%3A%2F%2Finfluencer-phinf.pstatic.net%2FMjAyMTAyMTZfMTc4%2FMDAxNjEzNDU3OTU0ODg4.HWiezjG9AEIEDNTb8iL-KnTJQ23_bpxXBYFRAPIf2c0g.QrrYNsZatvOWdZQeFFWFknKsnEAEppcIsD3Kmae_BN4g.JPEG%2F2F44CEA8-DAE4-482D-AAAD-9CA56879A01D.jpeg%22&type=nf40_40&service=navermain\"}},\"labels\":[{\"type\":\"category\",\"text\":\"안주/간식\"}],\"showLiveBadge\":false,\"_id\":\"654ad80598c6dbca70ba6c5e\"},{\"@type\":\"MATERIAL-PC-FEED\",\"title\":\"길거리 겨울 간식을 집에서 !\",\"url\":\"https://in.naver.com/firehouse79/topic/748902029174656?cds=nm_pc_recipe\",\"image\":{\"url\":\"https://s.pstatic.net/dthumb.phinf/?src=%22https%3A%2F%2Finfluencer-phinf.pstatic.net%2FMjAyNDEwMTBfMzkg%2FMDAxNzI4NTIxNjEyNDMw.sr_6MUaCwk0BA8xA97aUpYqx-8a-TS-g8X7SgZcS3T4g.354oo3cV8ab5sgRsi67-VhWPr4igL6hyN65UKkPBMdUg.PNG%2Fedd3.png%22&type=nf365_240&service=navermain\"},\"sourceCategory\":\"인플루언서\",\"source\":{\"name\":\"반이짝이\",\"image\":{\"url\":\"https://s.pstatic.net/dthumb.phinf/?src=%22https%3A%2F%2Finfluencer-phinf.pstatic.net%2FMjAyMDA1MjFfMjU0%2FMDAxNTkwMDI5MjQwNjcw.c3N1uNIc1M2rWmRUIhn7rMWBrUv3Le45Wj14ALiIe1Ig.gA6Y2v92YuaSmkHpPfHj9bxYFANrWQ9t5QzWDa7zSVIg.JPEG%2F%25EC%25A3%25BC%25EC%2584%259D_2020-05-21_114636.jpg%22&type=nf40_40&service=navermain\"}},\"labels\":[{\"type\":\"category\",\"text\":\"안주/간식\"}],\"showLiveBadge\":false,\"_id\":\"654ad80598c6dbca70ba6c5f\"},{\"@type\":\"MATERIAL-PC-FEED\",\"title\":\"홍합 요리 맛있는 레시피\",\"url\":\"https://in.naver.com/sjsmom/topic/750649296570304?cds=nm_pc_recipe\",\"image\":{\"url\":\"https://s.pstatic.net/dthumb.phinf/?src=%22https%3A%2F%2Finfluencer-phinf.pstatic.net%2FMjAyNDEwMjJfMjA1%2FMDAxNzI5NTY0NjA2MjM2.vUFO5Y0Em_0mmGr5iaMXPjQCyZaCmimQJtJCrqvnbfog.eRyG9TMUDCi4i0KwTknZRxnMKRfGfOIR7XZ3qDa8qqog.PNG%2F2729.png%22&type=nf365_240&service=navermain\"},\"sourceCategory\":\"인플루언서\",\"source\":{\"name\":\"소꽁\",\"image\":{\"url\":\"https://s.pstatic.net/dthumb.phinf/?src=%22https%3A%2F%2Fblogpfthumb-phinf.pstatic.net%2FMjAyMzA5MjhfMjY3%2FMDAxNjk1OTA5NjY3ODQ5.RAJA459les7PqTR7iAaYoH156WXL17a6CpYsPSxnp4Eg.FM55E-VY4NNrsgIj6drOIbVo5TtXwNCsUQvKloLoQ3og.PNG.gtbaby35%2FprofileImage.png%22&type=nf40_40&service=navermain\"}},\"labels\":[{\"type\":\"category\",\"text\":\"한식\"}],\"showLiveBadge\":false,\"_id\":\"654ad80598c6dbca70ba6c60\"},{\"@type\":\"MATERIAL-PC-FEED\",\"title\":\"쌀쌀한 날씨에 어울리는 따뜻한 국물요리 레시피\",\"url\":\"https://in.naver.com/misangu/topic/748832811480960?cds=nm_pc_recipe\",\"image\":{\"url\":\"https://s.pstatic.net/dthumb.phinf/?src=%22https%3A%2F%2Finfluencer-phinf.pstatic.net%2FMjAyNDEwMTdfMTI1%2FMDAxNzI5MTIxMTc5MTA1.2KjSJI7UqMRXlgogx7KnFwKXK_EJpFvTf6Mp2UX1pyMg.QayWZqMo3iCy1zHVhl0_e661E7ZV87_cgLE2xf6i1Lsg.PNG%2F058a.png%22&type=nf365_240&service=navermain\"},\"sourceCategory\":\"인플루언서\",\"source\":{\"name\":\"미상유\",\"image\":{\"url\":\"https://s.pstatic.net/dthumb.phinf/?src=%22https%3A%2F%2Fhomebuilder-phinf.pstatic.net%2F%2FMjAyMTA2MzBfMTUg%2FMDAxNjI1MDEwODA3NTI4.Ms2-GlFMWTsSxXTBfRT4ZF03WPZLz1Og9S9b6aEC-MMg.hiby_grXQvPRTdVGD9x4FsRJgCeDYVf71FtBsDoPfaIg.JPEG%2F1625010807522_pro.jpg%22&type=nf40_40&service=navermain\"}},\"labels\":[{\"type\":\"category\",\"text\":\"한식\"}],\"showLiveBadge\":false,\"_id\":\"654ad80598c6dbca70ba6c61\"},{\"@type\":\"MATERIAL-PC-FEED\",\"title\":\"에어프라이어 간단 고구마간식 모음\",\"url\":\"https://in.naver.com/simplemin_life/topic/750075254495136?cds=nm_pc_recipe\",\"image\":{\"url\":\"https://s.pstatic.net/dthumb.phinf/?src=%22https%3A%2F%2Finfluencer-phinf.pstatic.net%2FMjAyNDEwMjBfMjg0%2FMDAxNzI5NDIyNjk3ODQx.CjkiIeJyuMx0Dn6A0zEJuMvZQzjEXKuXrXvrxmunuOEg.BZ1CU99EOV4m-yNSvBn9DGE9izm-2mDsPd9XZrKb2YYg.PNG%2Ff900.png%22&type=nf365_240&service=navermain\"},\"sourceCategory\":\"인플루언서\",\"source\":{\"name\":\"심플민\",\"image\":{\"url\":\"https://s.pstatic.net/dthumb.phinf/?src=%22https%3A%2F%2Fhomebuilder-phinf.pstatic.net%2FMjAyNDA3MjBfMTk2%2FMDAxNzIxNDA3MjA0MTU5.0GuhQ9OA6SJMlJIgbzQ7gbqsmkjoFoBbZQwjRV0NDxAg.Y1YN0oMxXIYdlW2FdFcyveMctWCvBplNiSOwn0CCJhQg.JPEG%2F1721407203982_IMG_0425.jpeg%22&type=nf40_40&service=navermain\"}},\"labels\":[{\"type\":\"category\",\"text\":\"안주/간식\"}],\"showLiveBadge\":false,\"_id\":\"654ad80598c6dbca70ba6c62\"},{\"@type\":\"MATERIAL-PC-FEED\",\"title\":\"든든한 집반찬 닭볶음탕 & 돼지고기 감자조림\",\"url\":\"https://in.naver.com/jaura33/topic/750095921547136?cds=nm_pc_recipe\",\"image\":{\"url\":\"https://s.pstatic.net/dthumb.phinf/?src=%22https%3A%2F%2Finfluencer-phinf.pstatic.net%2FMjAyNDEwMjBfNDQg%2FMDAxNzI5NDI5MjMwODA3.YKbWDG5Hzwwgg1PJRvZFbexE5ACTuzKYySctv-MA-mIg.mbYp34OvTqzT5qnicALWyeb3ScLUN1MDTEkNzHhsMXog.PNG%2Fe834.png%22&type=nf365_240&service=navermain\"},\"sourceCategory\":\"인플루언서\",\"source\":{\"name\":\"자우라 jaura\",\"image\":{\"url\":\"https://s.pstatic.net/dthumb.phinf/?src=%22https%3A%2F%2Fs.pstatic.net%2Fpost.phinf%2FMjAyMzA2MjhfMjQy%2FMDAxNjg3OTQ0NDkwMTIy.EClO61hHrxsJW9Oicv_bIVFqWXE9wCsaPXc8BEAVRYMg.FMi2kgE9k-R2FDNYE-BkgWBUL--3IJb5KQpdr3U6tjIg.JPEG%2Fpost_5679249142379408391.jpg%22&type=nf40_40&service=navermain\"}},\"labels\":[{\"type\":\"category\",\"text\":\"한식\"}],\"showLiveBadge\":false,\"_id\":\"654ad80598c6dbca70ba6c63\"}],\"excludeInPaging\":false,\"positionForPaging\":0,\"realtime\":false,\"title\":\"오늘의 푸드 토픽\",\"needCologger\":false,\"ad\":false,\"@type\":\"PC-FEED-BLOCK\",\"@code\":\"PC-FEED-RECIPE-INFLUENCER-FOOD-TOPIC\",\"@template\":\"FOUR-COLUMNS\"},{\"@type\":\"PC-FEED-BLOCK\",\"materials\":[{\"@type\":\"MATERIAL-PC-FEED\",\"title\":\"옥수수 콘치즈 만드는 법 옥수수콘 캔옥수수 요리\",\"url\":\"https://in.naver.com/simplemin_life/contents/internal/743935611092000\",\"image\":{\"url\":\"https://s.pstatic.net/dthumb.phinf/?src=%22http%3A%2F%2Fblogfiles.naver.net%2FMjAyNDEwMDNfMjY4%2FMDAxNzI3OTI1NDQwNDQy.RtIjubTMfO-4PajLAydUIiN7v07e2n5CUtbnOnsbs2gg.V4N4FsXun-Hbc6wBvWHA3cHwffJQl0NOuiytU6LUFXQg.JPEG%2FIMG_6716.jpg%22&type=nf308_200&service=navermain\"},\"source\":{\"url\":\"https://blog.naver.com/simplemin_life\",\"name\":\"심플민\",\"image\":{\"url\":\"https://s.pstatic.net/dthumb.phinf/?src=%22http%3A%2F%2Fblogpfthumb.phinf.naver.net%2FMjAyNDA3MjBfMjc5%2FMDAxNzIxNDA3MDM2MTMx.Fwt7j4A0AZwtjcAjFi7cb01Gfr3uiuYBBLKo1K4jkZQg.D7hxkiZSEwDAufAql5EfP7QQl83Al0b3cafo9zxKDdYg.JPEG%2FprofileImage.jpg%22&type=nf40_40&service=navermain\"}},\"showLiveBadge\":false,\"_id\":\"6441ca92c499cc07f334c5a6\"},{\"@type\":\"MATERIAL-PC-FEED\",\"title\":\"바삭한 옥수수김치전 레시피 김치전 굽는법 옥수수콘 요리\",\"url\":\"https://in.naver.com/yel_1004/contents/internal/749751139289696\",\"image\":{\"url\":\"https://s.pstatic.net/dthumb.phinf/?src=%22http%3A%2F%2Fblogfiles.naver.net%2FMjAyNDEwMTlfMjA4%2FMDAxNzI5MzQyNjUxMjQ3.puV3w84pre1xTaKkZvnMlGoncFV5Y-O3GNg6ZNaN2mYg.7HQIyJ69gmT8ej7dc2DyAy8WRBZVoNtGLXqQ9Eejk-Mg.JPEG%2F_DSC0277.JPG%22&type=nf308_200&service=navermain\"},\"source\":{\"url\":\"https://blog.naver.com/yel_1004\",\"name\":\"소국\",\"image\":{\"url\":\"https://s.pstatic.net/dthumb.phinf/?src=%22http%3A%2F%2Fblogpfthumb.phinf.naver.net%2FMjAyMjEwMDVfMjY0%2FMDAxNjY0OTcyOTA0MTU3.1S30FzWF3kR3jfLQDIO5njXvFkDUNyaQWDZOlwxxAYgg.y9rXnVeknpPPSEj9rvWqf-L9RaoP3W-TmXqCVVXUHFgg.JPEG.yel_1004%2F2022-10-05_21%253B27%253B57.JPG%2F2022-10-05%2B21%253B27%253B57.JPG%22&type=nf40_40&service=navermain\"}},\"showLiveBadge\":false,\"_id\":\"6441ca92c499cc07f334c5a7\"},{\"@type\":\"MATERIAL-PC-FEED\",\"title\":\"염장 미역줄기볶음 만드는 법 비린내 없이 백종원 미역줄거리볶음 요리\",\"url\":\"https://in.naver.com/sbmn0313/contents/internal/745144015563392\",\"image\":{\"url\":\"https://s.pstatic.net/dthumb.phinf/?src=%22http%3A%2F%2Fblogfiles.naver.net%2FMjAyNDEwMDZfMTky%2FMDAxNzI4MjE0MTk2Mzkx.GHoD409QHHngUyCARjb3THk4SaZbZF5A7vdtwgvvd7kg.QUAGeakyouhPRLA3JskbDKFnKAQV_U_aaGvsZqu5CGog.JPEG%2FDSC03448.JPG%22&type=nf308_200&service=navermain\"},\"source\":{\"url\":\"https://blog.naver.com/sbmn0313\",\"name\":\"리베\",\"image\":{\"url\":\"https://s.pstatic.net/dthumb.phinf/?src=%22http%3A%2F%2Fblogpfthumb.phinf.naver.net%2FMjAyMzEyMzBfMzYg%2FMDAxNzAzODcyMjc5MjM5.5BMhTxAyDuNR71vKYoU4dD_DEXBKAV0dINUBUrGaY44g.GYUMIaSEd7FBy9lIyB_tfw4_Oe708qTTQrrzaEqvaykg.PNG.sbmn0313%2FprofileImage.png%22&type=nf40_40&service=navermain\"}},\"showLiveBadge\":false,\"_id\":\"6441ca92c499cc07f334c5a8\"},{\"@type\":\"MATERIAL-PC-FEED\",\"title\":\"냉동실 묵은김 다 꺼내오세요!김조림 묵은김요리 간단한 밥반찬 추천\",\"url\":\"https://in.naver.com/garugaruru/contents/internal/724607969000288\",\"image\":{\"url\":\"https://s.pstatic.net/dthumb.phinf/?src=%22https%3A%2F%2Fs.pstatic.net%2Ftvcast.phinf%2F20240809_230%2FtZaDS_1723206856003yOxaE_JPEG%2F1723206853400.JPG%22&type=nf308_200&service=navermain\"},\"source\":{\"url\":\"https://tv.naver.com/garussi\",\"name\":\"가루씨의 집밥\",\"image\":{\"url\":\"https://s.pstatic.net/dthumb.phinf/?src=%22https%3A%2F%2Fs.pstatic.net%2Ftvcast.phinf%2F20190727_176%2Fwnbpp_1564155334622Ya8L0_JPEG%2F1564155334515.JPG%22&type=nf40_40&service=navermain\"}},\"video\":{\"playTime\":\"03:16\"},\"showLiveBadge\":false,\"_id\":\"6441ca92c499cc07f334c5a9\"},{\"@type\":\"MATERIAL-PC-FEED\",\"title\":\"떡볶이 떡 요리 에어프라이어 떡구이 만드는 법\",\"url\":\"https://in.naver.com/eheh1728/contents/internal/730748453137504\",\"image\":{\"url\":\"https://s.pstatic.net/dthumb.phinf/?src=%22http%3A%2F%2Fblogfiles.naver.net%2FMjAyMzEyMDNfMjkg%2FMDAxNzAxNTYwNjQ2NDM5.bFS7QqLN5sfEeC1E5hsGB32BV3Xjh1vTx11Ercy4BSkg.yg8MYaL3suYAQ8G6V6SUV55kL3jrhzTUq1B_lfgDGuwg.JPEG.eheh1728%2FSE-81d912c8-4210-4c3e-83de-d0f9ac2a466b.jpg%22&type=nf308_200&service=navermain\"},\"source\":{\"url\":\"https://blog.naver.com/eheh1728\",\"name\":\"이동주\",\"image\":{\"url\":\"https://s.pstatic.net/dthumb.phinf/?src=%22http%3A%2F%2Fblogpfthumb.phinf.naver.net%2F20210218_19%2Feheh1728_1613644566721smGIn_JPEG%2F1234.jpg%22&type=nf40_40&service=navermain\"}},\"showLiveBadge\":false,\"_id\":\"6441ca92c499cc07f334c5aa\"},{\"@type\":\"MATERIAL-PC-FEED\",\"title\":\"깻잎요리 깻잎페스토 레시피 깻잎 페스토 만들기\",\"url\":\"https://in.naver.com/cong1121/contents/internal/738206858304640\",\"image\":{\"url\":\"https://s.pstatic.net/dthumb.phinf/?src=%22http%3A%2F%2Fblogfiles.naver.net%2FMjAyNDA5MTJfMjEy%2FMDAxNzI2MTA5MTgwMTIw.kh9BNEtB-HBiOA7JqA8YHbZn697BCsmPKOlfGexTPv8g.0iAlm8IVkkyUT3yOV374h57hX6UvnlINfLEzagKJhY0g.JPEG%2FIMG_4332.JPG%22&type=nf308_200&service=navermain\"},\"source\":{\"url\":\"https://blog.naver.com/cong1121\",\"name\":\"러블리홍\",\"image\":{\"url\":\"https://s.pstatic.net/dthumb.phinf/?src=%22http%3A%2F%2Fblogpfthumb.phinf.naver.net%2FMjAyMDA5MDZfMTQz%2FMDAxNTk5MzM1MjcxOTE1.pjW490H-bkFrYkVcPvCymIajkuhOBE2mcOA0_MhDA0Qg.25Sz7MA5kYv9SC8YqdOYX9gPsMibzp-5h2XEeA-HZoIg.PNG.cong1121%2FprofileImage.png%22&type=nf40_40&service=navermain\"}},\"showLiveBadge\":false,\"_id\":\"6441ca92c499cc07f334c5ab\"},{\"@type\":\"MATERIAL-PC-FEED\",\"title\":\"백종원 옛날 떡꼬치 소스 만들기 평생 써 먹는 간식 레시피 떡볶이떡요리\",\"url\":\"https://in.naver.com/knitkitchen/contents/internal/750111601261792\",\"image\":{\"url\":\"https://s.pstatic.net/dthumb.phinf/?src=%22http%3A%2F%2Fblogfiles.naver.net%2FMjAyNDEwMTFfNjAg%2FMDAxNzI4NjU1MTA5MTQy.LxRbf7jv2p83KZ2osivrUjPXf1HFMpglWMJKQmMWh6Ig.dMIKYAJJmHKDJkTEo44gKdhokNgY6mtrQF1LEFclaiQg.JPEG%2F1.jpg%22&type=nf308_200&service=navermain\"},\"source\":{\"url\":\"https://blog.naver.com/rldhrl23\",\"name\":\"지혜로운사자\",\"image\":{\"url\":\"https://s.pstatic.net/dthumb.phinf/?src=%22http%3A%2F%2Fblogpfthumb.phinf.naver.net%2FMjAyMzA1MzBfMTgg%2FMDAxNjg1NDUyNzM2MTA3.5ohqOgnKtiUKwFbBjz_XcSY2aHuY1UT-u3Z6cV7igiUg.BpLjGWaz4Eee7HEmmZjemqY8GtwdmRnRXsmXzENhdwMg.JPEG.rldhrl23%2F%25EA%25B0%2590%25EC%2584%25B1%25EB%258D%2594%25ED%2595%259C%25ED%2598%2584%25EC%258B%25A4%25EC%25A7%2591%25EB%25B0%25A5%25EC%259D%25B4%25EC%2595%25BC%25EA%25B8%25B0%25ED%2594%2584%25EB%25A1%259C%25ED%2595%2584.jpg%2F%25EA%25B0%2590%25EC%2584%25B1%25EB%258D%2594%25ED%2595%259C%25ED%2598%2584%25EC%258B%25A4%25EC%25A7%2591%25EB%25B0%25A5%25EC%259D%25B4%25EC%2595%25BC%25EA%25B8%25B0%25ED%2594%2584%25EB%25A1%259C%25ED%2595%2584.jpg%22&type=nf40_40&service=navermain\"}},\"showLiveBadge\":false,\"_id\":\"6441ca92c499cc07f334c5ac\"},{\"@type\":\"MATERIAL-PC-FEED\",\"title\":\"우유로 바질 페스토 크림 파스타 만들기, 새우 바질 크림 파스타, 생크림 없이 바질 크림 파스타, 바질 페스토 요리\",\"url\":\"https://blog.naver.com/kisever1/223547959525\",\"image\":{\"url\":\"https://s.pstatic.net/dthumb.phinf/?src=%22http%3A%2F%2Fblogfiles.naver.net%2FMjAyNDA4MTRfNSAg%2FMDAxNzIzNjIzNTc2NDEx.Spl8P5_ZwXK0cyBin4dlVcrI8f6qHjRAoUx1v7C4DZcg.7aqZGDZ8Df0X7UAWsLDoe4PvXsXA23TqEyPSAG91iqAg.JPEG%2FIMG_5677.JPG%22&type=nf308_200&service=navermain\"},\"source\":{\"url\":\"https://blog.naver.com/kisever1\",\"name\":\"러블리핑크\",\"image\":{\"url\":\"https://s.pstatic.net/dthumb.phinf/?src=%22http%3A%2F%2Fblogpfthumb.phinf.naver.net%2FMjAyMzEyMjhfMjg2%2FMDAxNzAzNzQyOTE0NTUw.FpL07mmKwXOzID30EnVoP1AUwDMx7EXRmELqlnSaqUwg.qi6VzGdmh-8G4Uih49jtIpCxdbquy8R5B6jxAV6iN9Qg.PNG.kisever1%2FprofileImage.png%22&type=nf40_40&service=navermain\"}},\"showLiveBadge\":false,\"_id\":\"6441ca92c499cc07f334c5ad\"}],\"excludeInPaging\":false,\"positionForPaging\":0,\"realtime\":false,\"needCologger\":false,\"ad\":false,\"@type\":\"PC-FEED-BLOCK\",\"@code\":\"PC-FEED-RECIPE-INGREDIENTS-TAG\",\"@template\":\"TWO-COLUMNS\"},{\"@type\":\"PC-FEED-BLOCK\",\"materials\":[{\"@type\":\"MATERIAL-PC-FEED\",\"title\":\"연일 손님들로 북적이는 역대급 부산 맛집\",\"url\":\"https://m.post.naver.com/viewer/postView.naver?volumeNo=39651243&memberNo=31740578\",\"image\":{\"url\":\"https://s.pstatic.net/dthumb.phinf/?src=%22https%3A%2F%2Fs.pstatic.net%2Fstatic%2Fwww%2Fmobile%2Fedit%2F20241021_1095%2Fupload_172949496723786d8y.JPEG%22&type=nf365_240&service=navermain\"},\"source\":{\"name\":\"식신 주식회사\",\"service\":\"POST\",\"image\":{\"url\":\"https://s.pstatic.net/dthumb.phinf/?src=%22https%3A%2F%2Fpost-phinf.pstatic.net%2FMjAyMTA4MDJfNDYg%2FMDAxNjI3ODY0NDg1NjQ5.wRHb3PqAFZmWei7uML776BnuJz7PesDoW_o89k6vP7Qg.Lmb-y08o25JNiQwsh2CqxT2vDtsvy8D2NxtfhsTH94cg.PNG%2Fpost_7597151507507776359.png%3Ftype%3Df120_120%22&type=nf40_40&service=navermain\"}},\"showLiveBadge\":false,\"_id\":\"6441ca92c499cc07f334c5ae\"},{\"@type\":\"MATERIAL-PC-FEED\",\"title\":\"달큰하고 부드러운 맛, 지역별 다양한 불고기 7\",\"url\":\"https://m.post.naver.com/viewer/postView.naver?volumeNo=39652375&memberNo=30298297\",\"image\":{\"url\":\"https://s.pstatic.net/dthumb.phinf/?src=%22https%3A%2F%2Fs.pstatic.net%2Fstatic%2Fwww%2Fmobile%2Fedit%2F20241021_1095%2Fupload_1729494710719iZlLB.JPEG%22&type=nf365_240&service=navermain\"},\"source\":{\"name\":\"부자비즈\",\"service\":\"POST\",\"image\":{\"url\":\"https://s.pstatic.net/dthumb.phinf/?src=%22https%3A%2F%2Fpost-phinf.pstatic.net%2FMjAyMzA5MDVfNzEg%2FMDAxNjkzOTE1MDE5MTI0.DrI5eDXfzpNuR4jn2fNwpBtAXROaDUamFYb0qt8og-gg.S5vf3UiUR8q9iGuYAhj33szdshxgvrDjBfplbuJA_j4g.PNG%2Fpost_5798787807966001971.png%3Ftype%3Df120_120%22&type=nf40_40&service=navermain\"}},\"showLiveBadge\":false,\"_id\":\"6441ca92c499cc07f334c5af\"},{\"@type\":\"MATERIAL-PC-FEED\",\"title\":\"궁중의 축하주, 가을 국화를 가득 담은 우리 술\",\"url\":\"https://m.blog.naver.com/the_sool/223621406786\",\"image\":{\"url\":\"https://s.pstatic.net/dthumb.phinf/?src=%22https%3A%2F%2Fs.pstatic.net%2Fstatic%2Fwww%2Fmobile%2Fedit%2F20241017_1095%2Fupload_1729129108598U1NU2.JPEG%22&type=nf365_240&service=navermain\"},\"source\":{\"name\":\"더술닷컴\",\"service\":\"BLOG\",\"image\":{\"url\":\"https://s.pstatic.net/dthumb.phinf/?src=%22http%3A%2F%2Fblogpfthumb.phinf.naver.net%2FMjAyMjA4MjNfMTEg%2FMDAxNjYxMjM0NDgwMDgy.R3ThyjDImfing72oU8lt45nqmcC4tbyl234Ar0ZVsr0g.Otn9kxl8meySWciyq3G_XzKL2Wi5nsP8q4W_x1F2_hkg.PNG.the_sool%2F20220822_%25EB%258D%2594%25EC%2588%25A0_%25EB%25A1%259C%25EA%25B3%25A0bg%2528noncircle%2529.png%2F20220822_%2525EB%25258D%252594%2525EC%252588%2525A0_%2525EB%2525A1%25259C%2525EA%2525B3%2525A0bg%252528noncircle%252529.png%3Ftype%3Ds1%22&type=nf40_40&service=navermain\"}},\"showLiveBadge\":false,\"_id\":\"6441ca92c499cc07f334c5b0\"},{\"@type\":\"MATERIAL-PC-FEED\",\"title\":\"떡볶이를 맛있게 즐길 수 있는 신상 밀키트 제품\",\"url\":\"https://m.post.naver.com/viewer/postView.naver?volumeNo=39257016&memberNo=15460571\",\"image\":{\"url\":\"https://s.pstatic.net/dthumb.phinf/?src=%22https%3A%2F%2Fs.pstatic.net%2Fstatic%2Fwww%2Fmobile%2Fedit%2F20241017_1095%2Fupload_1729129123457EnECs.JPEG%22&type=nf365_240&service=navermain\"},\"source\":{\"name\":\"데일리\",\"service\":\"POST\",\"image\":{\"url\":\"https://s.pstatic.net/dthumb.phinf/?src=%22https%3A%2F%2Fpost-phinf.pstatic.net%2F20150415_89%2Fhu_daily_1429084534776Mda5b_JPEG%2Fhu_daily_5337224475319910301.jpg%3Ftype%3Df120_120%22&type=nf40_40&service=navermain\"}},\"showLiveBadge\":false,\"_id\":\"6441ca92c499cc07f334c5b1\"}],\"excludeInPaging\":false,\"positionForPaging\":0,\"realtime\":false,\"title\":\"푸드스토리\",\"needCologger\":false,\"ad\":false,\"@type\":\"PC-FEED-BLOCK\",\"@code\":\"PC-FEED-RECIPE-FOOD-STORY\",\"@template\":\"FOUR-COLUMNS\"}],\"materials\":null,\"excludeInPaging\":false,\"positionForPaging\":0,\"realtime\":false,\"_id\":null,\"@type\":\"BLOCK\",\"@code\":\"PC-FEED-RECIPE\",\"@template\":\"NONE\",\"@flowId\":null,\"@flowExecutionId\":null,\"@provider\":null,\"@lastModifiedAt\":null}],\"materials\":null,\"excludeInPaging\":false,\"positionForPaging\":0,\"realtime\":false,\"_id\":\"6441ca92a10d3006855f9acd\",\"@type\":\"BLOCK\",\"@code\":\"PC-FEED-WRAPPER\",\"@template\":\"PC-FEED-WRAPPER\",\"@flowId\":\"PC-FEED-WRAPPER\",\"@flowExecutionId\":\"3ddc2dc8-90fd-11ef-aa3e-f17a075b628a\",\"@provider\":\"lambda\",\"@lastModifiedAt\":[2024,10,23,5,11,21,909000000]}\n",
            "window[\"EAGER-DATA\"][\"CAS-MINICONTENT-PC-SPECIAL-LOGO\"] = {\"@type\":\"MINI-CONTENT-BLOCK\",\"blocks\":null,\"materials\":null,\"excludeInPaging\":false,\"positionForPaging\":0,\"realtime\":false,\"items\":[],\"_id\":\"6433d8e3a10d3006850274e8\",\"@type\":\"MINI-CONTENT-BLOCK\",\"@code\":\"CAS-MINICONTENT-PC-SPECIAL-LOGO\",\"@template\":\"NONE\",\"@flowId\":\"CAS-MINICONTENT\",\"@flowExecutionId\":\"010f9acb-90fd-11ef-9a27-43d7242ce4df\",\"@provider\":\"lambda\",\"@lastModifiedAt\":[2024,10,23,5,9,39,131000000]}\n",
            "window[\"EAGER-DATA\"][\"PC-MEDIA-WRAPPER\"] = {\"@type\":\"PC-MEDIA-CONTENTS-BLOCK\",\"blocks\":[{\"@type\":\"BLOCK\",\"blocks\":[{\"@type\":\"PC-NEWSSTAND-BLOCK\",\"blocks\":[{\"@type\":\"PC-NEWSSTAND-PRESS-BLOCK\",\"blocks\":null,\"materials\":null,\"excludeInPaging\":false,\"positionForPaging\":0,\"realtime\":false,\"pid\":\"907\",\"name\":\"경북매일신문\",\"logoLight\":{\"url\":\"https://s.pstatic.net/static/newsstand/2020/logo/light/0604/907.png\"},\"logoDark\":{\"url\":\"https://s.pstatic.net/static/newsstand/2020/logo/dark/0604/907.png\"},\"showThumbnailView\":true,\"showListView\":true,\"regDate\":\"20241023 14:00:14\",\"_id\":null,\"@type\":\"PC-NEWSSTAND-PRESS-BLOCK\",\"@code\":null,\"@template\":\"NONE\",\"@flowId\":null,\"@flowExecutionId\":null,\"@provider\":null,\"@lastModifiedAt\":null},{\"@type\":\"PC-NEWSSTAND-PRESS-BLOCK\",\"blocks\":null,\"materials\":null,\"excludeInPaging\":false,\"positionForPaging\":0,\"realtime\":false,\"pid\":\"908\",\"name\":\"국방일보\",\"logoLight\":{\"url\":\"https://s.pstatic.net/static/newsstand/2020/logo/light/0604/908.png\"},\"logoDark\":{\"url\":\"https://s.pstatic.net/static/newsstand/2020/logo/dark/0604/908.png\"},\"showThumbnailView\":true,\"showListView\":true,\"regDate\":\"20241022 17:44:32\",\"_id\":null,\"@type\":\"PC-NEWSSTAND-PRESS-BLOCK\",\"@code\":null,\"@template\":\"NONE\",\"@flowId\":null,\"@flowExecutionId\":null,\"@provider\":null,\"@lastModifiedAt\":null},{\"@type\":\"PC-NEWSSTAND-PRESS-BLOCK\",\"blocks\":null,\"materials\":null,\"excludeInPaging\":false,\"positionForPaging\":0,\"realtime\":false,\"pid\":\"909\",\"name\":\"기호일보\",\"logoLight\":{\"url\":\"https://s.pstatic.net/static/newsstand/2020/logo/light/0604/909.png\"},\"logoDark\":{\"url\":\"https://s.pstatic.net/static/newsstand/2020/logo/dark/0604/909.png\"},\"showThumbnailView\":true,\"showListView\":true,\"regDate\":\"20241023 11:13:16\",\"_id\":null,\"@type\":\"PC-NEWSSTAND-PRESS-BLOCK\",\"@code\":null,\"@template\":\"NONE\",\"@flowId\":null,\"@flowExecutionId\":null,\"@provider\":null,\"@lastModifiedAt\":null},{\"@type\":\"PC-NEWSSTAND-PRESS-BLOCK\",\"blocks\":null,\"materials\":null,\"excludeInPaging\":false,\"positionForPaging\":0,\"realtime\":false,\"pid\":\"353\",\"name\":\"중앙SUNDAY\",\"logoLight\":{\"url\":\"https://s.pstatic.net/static/newsstand/2020/logo/light/0604/353.png\"},\"logoDark\":{\"url\":\"https://s.pstatic.net/static/newsstand/2020/logo/dark/0604/353.png\"},\"showThumbnailView\":true,\"showListView\":true,\"regDate\":\"20241023 08:53:44\",\"_id\":null,\"@type\":\"PC-NEWSSTAND-PRESS-BLOCK\",\"@code\":null,\"@template\":\"NONE\",\"@flowId\":null,\"@flowExecutionId\":null,\"@provider\":null,\"@lastModifiedAt\":null},{\"@type\":\"PC-NEWSSTAND-PRESS-BLOCK\",\"blocks\":null,\"materials\":null,\"excludeInPaging\":false,\"positionForPaging\":0,\"realtime\":false,\"pid\":\"354\",\"name\":\"엘르\",\"logoLight\":{\"url\":\"https://s.pstatic.net/static/newsstand/2020/logo/light/0604/354.png\"},\"logoDark\":{\"url\":\"https://s.pstatic.net/static/newsstand/2020/logo/dark/0604/354.png\"},\"showThumbnailView\":true,\"showListView\":true,\"regDate\":\"20241023 14:05:22\",\"_id\":null,\"@type\":\"PC-NEWSSTAND-PRESS-BLOCK\",\"@code\":null,\"@template\":\"NONE\",\"@flowId\":null,\"@flowExecutionId\":null,\"@provider\":null,\"@lastModifiedAt\":null},{\"@type\":\"PC-NEWSSTAND-PRESS-BLOCK\",\"blocks\":null,\"materials\":null,\"excludeInPaging\":false,\"positionForPaging\":0,\"realtime\":false,\"pid\":\"355\",\"name\":\"사이언스타임즈\",\"logoLight\":{\"url\":\"https://s.pstatic.net/static/newsstand/2020/logo/light/0604/355.png\"},\"logoDark\":{\"url\":\"https://s.pstatic.net/static/newsstand/2020/logo/dark/0604/355.png\"},\"showThumbnailView\":true,\"showListView\":true,\"regDate\":\"20241022 12:23:29\",\"_id\":null,\"@type\":\"PC-NEWSSTAND-PRESS-BLOCK\",\"@code\":null,\"@template\":\"NONE\",\"@flowId\":null,\"@flowExecutionId\":null,\"@provider\":null,\"@lastModifiedAt\":null},{\"@type\":\"PC-NEWSSTAND-PRESS-BLOCK\",\"blocks\":null,\"materials\":null,\"excludeInPaging\":false,\"positionForPaging\":0,\"realtime\":false,\"pid\":\"356\",\"name\":\"게임메카\",\"logoLight\":{\"url\":\"https://s.pstatic.net/static/newsstand/2020/logo/light/0604/356.png\"},\"logoDark\":{\"url\":\"https://s.pstatic.net/static/newsstand/2020/logo/dark/0604/356.png\"},\"showThumbnailView\":true,\"showListView\":true,\"regDate\":\"20241023 11:25:45\",\"_id\":null,\"@type\":\"PC-NEWSSTAND-PRESS-BLOCK\",\"@code\":null,\"@template\":\"NONE\",\"@flowId\":null,\"@flowExecutionId\":null,\"@provider\":null,\"@lastModifiedAt\":null},{\"@type\":\"PC-NEWSSTAND-PRESS-BLOCK\",\"blocks\":null,\"materials\":null,\"excludeInPaging\":false,\"positionForPaging\":0,\"realtime\":false,\"pid\":\"477\",\"name\":\"스포티비뉴스\",\"logoLight\":{\"url\":\"https://s.pstatic.net/static/newsstand/up/2021/1130/nsd10159718.png\"},\"logoDark\":{\"url\":\"https://s.pstatic.net/static/newsstand/up/2021/1130/nsd101536636.png\"},\"showThumbnailView\":true,\"showListView\":true,\"regDate\":\"20241023 14:00:07\",\"_id\":null,\"@type\":\"PC-NEWSSTAND-PRESS-BLOCK\",\"@code\":null,\"@template\":\"NONE\",\"@flowId\":null,\"@flowExecutionId\":null,\"@provider\":null,\"@lastModifiedAt\":null},{\"@type\":\"PC-NEWSSTAND-PRESS-BLOCK\",\"blocks\":null,\"materials\":null,\"excludeInPaging\":false,\"positionForPaging\":0,\"realtime\":false,\"pid\":\"117\",\"name\":\"마이데일리\",\"logoLight\":{\"url\":\"https://s.pstatic.net/static/newsstand/2020/logo/light/0604/117.png\"},\"logoDark\":{\"url\":\"https://s.pstatic.net/static/newsstand/2020/logo/dark/0604/117.png\"},\"showThumbnailView\":true,\"showListView\":true,\"regDate\":\"20241023 13:27:06\",\"_id\":null,\"@type\":\"PC-NEWSSTAND-PRESS-BLOCK\",\"@code\":null,\"@template\":\"NONE\",\"@flowId\":null,\"@flowExecutionId\":null,\"@provider\":null,\"@lastModifiedAt\":null},{\"@type\":\"PC-NEWSSTAND-PRESS-BLOCK\",\"blocks\":null,\"materials\":null,\"excludeInPaging\":false,\"positionForPaging\":0,\"realtime\":false,\"pid\":\"910\",\"name\":\"넥스트데일리\",\"logoLight\":{\"url\":\"https://s.pstatic.net/static/newsstand/2020/logo/light/0604/910.png\"},\"logoDark\":{\"url\":\"https://s.pstatic.net/static/newsstand/2020/logo/dark/0604/910.png\"},\"showThumbnailView\":true,\"showListView\":true,\"regDate\":\"20241023 14:00:28\",\"_id\":null,\"@type\":\"PC-NEWSSTAND-PRESS-BLOCK\",\"@code\":null,\"@template\":\"NONE\",\"@flowId\":null,\"@flowExecutionId\":null,\"@provider\":null,\"@lastModifiedAt\":null},{\"@type\":\"PC-NEWSSTAND-PRESS-BLOCK\",\"blocks\":null,\"materials\":null,\"excludeInPaging\":false,\"positionForPaging\":0,\"realtime\":false,\"pid\":\"911\",\"name\":\"농민신문\",\"logoLight\":{\"url\":\"https://s.pstatic.net/static/newsstand/2020/logo/light/0604/911.png\"},\"logoDark\":{\"url\":\"https://s.pstatic.net/static/newsstand/2020/logo/dark/0604/911.png\"},\"showThumbnailView\":true,\"showListView\":true,\"regDate\":\"20241023 09:50:01\",\"_id\":null,\"@type\":\"PC-NEWSSTAND-PRESS-BLOCK\",\"@code\":null,\"@template\":\"NONE\",\"@flowId\":null,\"@flowExecutionId\":null,\"@provider\":null,\"@lastModifiedAt\":null},{\"@type\":\"PC-NEWSSTAND-PRESS-BLOCK\",\"blocks\":null,\"materials\":null,\"excludeInPaging\":false,\"positionForPaging\":0,\"realtime\":false,\"pid\":\"913\",\"name\":\"뉴스토마토\",\"logoLight\":{\"url\":\"https://s.pstatic.net/static/newsstand/2020/logo/light/0604/913.png\"},\"logoDark\":{\"url\":\"https://s.pstatic.net/static/newsstand/2020/logo/dark/0604/913.png\"},\"showThumbnailView\":true,\"showListView\":true,\"regDate\":\"20241023 13:55:32\",\"_id\":null,\"@type\":\"PC-NEWSSTAND-PRESS-BLOCK\",\"@code\":null,\"@template\":\"NONE\",\"@flowId\":null,\"@flowExecutionId\":null,\"@provider\":null,\"@lastModifiedAt\":null},{\"@type\":\"PC-NEWSSTAND-PRESS-BLOCK\",\"blocks\":null,\"materials\":null,\"excludeInPaging\":false,\"positionForPaging\":0,\"realtime\":false,\"pid\":\"914\",\"name\":\"뉴스핌\",\"logoLight\":{\"url\":\"https://s.pstatic.net/static/newsstand/2020/logo/light/0604/914.png\"},\"logoDark\":{\"url\":\"https://s.pstatic.net/static/newsstand/2020/logo/dark/0604/914.png\"},\"showThumbnailView\":true,\"showListView\":true,\"regDate\":\"20241023 14:01:28\",\"_id\":null,\"@type\":\"PC-NEWSSTAND-PRESS-BLOCK\",\"@code\":null,\"@template\":\"NONE\",\"@flowId\":null,\"@flowExecutionId\":null,\"@provider\":null,\"@lastModifiedAt\":null},{\"@type\":\"PC-NEWSSTAND-PRESS-BLOCK\",\"blocks\":null,\"materials\":null,\"excludeInPaging\":false,\"positionForPaging\":0,\"realtime\":false,\"pid\":\"915\",\"name\":\"르몽드 디플로마티크\",\"logoLight\":{\"url\":\"https://s.pstatic.net/static/newsstand/2020/logo/light/0604/915.png\"},\"logoDark\":{\"url\":\"https://s.pstatic.net/static/newsstand/2020/logo/dark/0604/915.png\"},\"showThumbnailView\":true,\"showListView\":true,\"regDate\":\"20241004 15:47:56\",\"_id\":null,\"@type\":\"PC-NEWSSTAND-PRESS-BLOCK\",\"@code\":null,\"@template\":\"NONE\",\"@flowId\":null,\"@flowExecutionId\":null,\"@provider\":null,\"@lastModifiedAt\":null},{\"@type\":\"PC-NEWSSTAND-PRESS-BLOCK\",\"blocks\":null,\"materials\":null,\"excludeInPaging\":false,\"positionForPaging\":0,\"realtime\":false,\"pid\":\"916\",\"name\":\"머니투데이방송\",\"logoLight\":{\"url\":\"https://s.pstatic.net/static/newsstand/up/2021/0420/nsd105139164.png\"},\"logoDark\":{\"url\":\"https://s.pstatic.net/static/newsstand/up/2021/0420/nsd104943516.png\"},\"showThumbnailView\":true,\"showListView\":true,\"regDate\":\"20241023 13:28:51\",\"_id\":null,\"@type\":\"PC-NEWSSTAND-PRESS-BLOCK\",\"@code\":null,\"@template\":\"NONE\",\"@flowId\":null,\"@flowExecutionId\":null,\"@provider\":null,\"@lastModifiedAt\":null},{\"@type\":\"PC-NEWSSTAND-PRESS-BLOCK\",\"blocks\":null,\"materials\":null,\"excludeInPaging\":false,\"positionForPaging\":0,\"realtime\":false,\"pid\":\"917\",\"name\":\"IT조선\",\"logoLight\":{\"url\":\"https://s.pstatic.net/static/newsstand/2020/logo/light/0604/917.png\"},\"logoDark\":{\"url\":\"https://s.pstatic.net/static/newsstand/2020/logo/dark/0604/917.png\"},\"showThumbnailView\":true,\"showListView\":true,\"regDate\":\"20241023 14:00:42\",\"_id\":null,\"@type\":\"PC-NEWSSTAND-PRESS-BLOCK\",\"@code\":null,\"@template\":\"NONE\",\"@flowId\":null,\"@flowExecutionId\":null,\"@provider\":null,\"@lastModifiedAt\":null},{\"@type\":\"PC-NEWSSTAND-PRESS-BLOCK\",\"blocks\":null,\"materials\":null,\"excludeInPaging\":false,\"positionForPaging\":0,\"realtime\":false,\"pid\":\"361\",\"name\":\"채널예스\",\"logoLight\":{\"url\":\"https://s.pstatic.net/static/newsstand/up/2023/0418/nsd124959421.png\"},\"logoDark\":{\"url\":\"https://s.pstatic.net/static/newsstand/up/2023/0418/nsd124945796.png\"},\"showThumbnailView\":true,\"showListView\":true,\"regDate\":\"20241023 14:00:53\",\"_id\":null,\"@type\":\"PC-NEWSSTAND-PRESS-BLOCK\",\"@code\":null,\"@template\":\"NONE\",\"@flowId\":null,\"@flowExecutionId\":null,\"@provider\":null,\"@lastModifiedAt\":null},{\"@type\":\"PC-NEWSSTAND-PRESS-BLOCK\",\"blocks\":null,\"materials\":null,\"excludeInPaging\":false,\"positionForPaging\":0,\"realtime\":false,\"pid\":\"120\",\"name\":\"EBN\",\"logoLight\":{\"url\":\"https://s.pstatic.net/static/newsstand/2020/logo/light/0604/120.png\"},\"logoDark\":{\"url\":\"https://s.pstatic.net/static/newsstand/2020/logo/dark/0604/120.png\"},\"showThumbnailView\":true,\"showListView\":true,\"regDate\":\"20241023 14:00:44\",\"_id\":null,\"@type\":\"PC-NEWSSTAND-PRESS-BLOCK\",\"@code\":null,\"@template\":\"NONE\",\"@flowId\":null,\"@flowExecutionId\":null,\"@provider\":null,\"@lastModifiedAt\":null},{\"@type\":\"PC-NEWSSTAND-PRESS-BLOCK\",\"blocks\":null,\"materials\":null,\"excludeInPaging\":false,\"positionForPaging\":0,\"realtime\":false,\"pid\":\"241\",\"name\":\"일간스포츠\",\"logoLight\":{\"url\":\"https://s.pstatic.net/static/newsstand/up/2023/0112/nsd92558162.png\"},\"logoDark\":{\"url\":\"https://s.pstatic.net/static/newsstand/2020/logo/dark/0604/241.png\"},\"showThumbnailView\":true,\"showListView\":true,\"regDate\":\"20241023 13:54:26\",\"_id\":null,\"@type\":\"PC-NEWSSTAND-PRESS-BLOCK\",\"@code\":null,\"@template\":\"NONE\",\"@flowId\":null,\"@flowExecutionId\":null,\"@provider\":null,\"@lastModifiedAt\":null},{\"@type\":\"PC-NEWSSTAND-PRESS-BLOCK\",\"blocks\":null,\"materials\":null,\"excludeInPaging\":false,\"positionForPaging\":0,\"realtime\":false,\"pid\":\"363\",\"name\":\"동아사이언스\",\"logoLight\":{\"url\":\"https://s.pstatic.net/static/newsstand/2020/logo/light/0604/363.png\"},\"logoDark\":{\"url\":\"https://s.pstatic.net/static/newsstand/2020/logo/dark/0604/363.png\"},\"showThumbnailView\":true,\"showListView\":true,\"regDate\":\"20241021 17:53:25\",\"_id\":null,\"@type\":\"PC-NEWSSTAND-PRESS-BLOCK\",\"@code\":null,\"@template\":\"NONE\",\"@flowId\":null,\"@flowExecutionId\":null,\"@provider\":null,\"@lastModifiedAt\":null},{\"@type\":\"PC-NEWSSTAND-PRESS-BLOCK\",\"blocks\":null,\"materials\":null,\"excludeInPaging\":false,\"positionForPaging\":0,\"realtime\":false,\"pid\":\"122\",\"name\":\"법률신문\",\"logoLight\":{\"url\":\"https://s.pstatic.net/static/newsstand/up/2022/1103/nsd124326426.png\"},\"logoDark\":{\"url\":\"https://s.pstatic.net/static/newsstand/up/2022/1103/nsd124320554.png\"},\"showThumbnailView\":true,\"showListView\":true,\"regDate\":\"20241023 11:42:10\",\"_id\":null,\"@type\":\"PC-NEWSSTAND-PRESS-BLOCK\",\"@code\":null,\"@template\":\"NONE\",\"@flowId\":null,\"@flowExecutionId\":null,\"@provider\":null,\"@lastModifiedAt\":null},{\"@type\":\"PC-NEWSSTAND-PRESS-BLOCK\",\"blocks\":null,\"materials\":null,\"excludeInPaging\":false,\"positionForPaging\":0,\"realtime\":false,\"pid\":\"243\",\"name\":\"이코노미스트\",\"logoLight\":{\"url\":\"https://s.pstatic.net/static/newsstand/2020/logo/light/0604/243.png\"},\"logoDark\":{\"url\":\"https://s.pstatic.net/static/newsstand/2020/logo/dark/0604/243.png\"},\"showThumbnailView\":true,\"showListView\":true,\"regDate\":\"20241023 13:38:24\",\"_id\":null,\"@type\":\"PC-NEWSSTAND-PRESS-BLOCK\",\"@code\":null,\"@template\":\"NONE\",\"@flowId\":null,\"@flowExecutionId\":null,\"@provider\":null,\"@lastModifiedAt\":null},{\"@type\":\"PC-NEWSSTAND-PRESS-BLOCK\",\"blocks\":null,\"materials\":null,\"excludeInPaging\":false,\"positionForPaging\":0,\"realtime\":false,\"pid\":\"364\",\"name\":\"디지털포스트(PC사랑)\",\"logoLight\":{\"url\":\"https://s.pstatic.net/static/newsstand/up/2024/1010/nsd153742606.png\"},\"logoDark\":{\"url\":\"https://s.pstatic.net/static/newsstand/up/2024/1010/nsd153735688.png\"},\"showThumbnailView\":true,\"showListView\":true,\"regDate\":\"20241023 14:00:44\",\"_id\":null,\"@type\":\"PC-NEWSSTAND-PRESS-BLOCK\",\"@code\":null,\"@template\":\"NONE\",\"@flowId\":null,\"@flowExecutionId\":null,\"@provider\":null,\"@lastModifiedAt\":null},{\"@type\":\"PC-NEWSSTAND-PRESS-BLOCK\",\"blocks\":null,\"materials\":null,\"excludeInPaging\":false,\"positionForPaging\":0,\"realtime\":false,\"pid\":\"002\",\"name\":\"프레시안\",\"logoLight\":{\"url\":\"https://s.pstatic.net/static/newsstand/2020/logo/light/0604/002.png\"},\"logoDark\":{\"url\":\"https://s.pstatic.net/static/newsstand/2020/logo/dark/0604/002.png\"},\"showThumbnailView\":true,\"showListView\":true,\"regDate\":\"20241023 13:02:40\",\"_id\":null,\"@type\":\"PC-NEWSSTAND-PRESS-BLOCK\",\"@code\":null,\"@template\":\"NONE\",\"@flowId\":null,\"@flowExecutionId\":null,\"@provider\":null,\"@lastModifiedAt\":null},{\"@type\":\"PC-NEWSSTAND-PRESS-BLOCK\",\"blocks\":null,\"materials\":null,\"excludeInPaging\":false,\"positionForPaging\":0,\"realtime\":false,\"pid\":\"123\",\"name\":\"조세일보\",\"logoLight\":{\"url\":\"https://s.pstatic.net/static/newsstand/2020/logo/light/0604/123.png\"},\"logoDark\":{\"url\":\"https://s.pstatic.net/static/newsstand/2020/logo/dark/0604/123.png\"},\"showThumbnailView\":true,\"showListView\":true,\"regDate\":\"20241023 13:16:37\",\"_id\":null,\"@type\":\"PC-NEWSSTAND-PRESS-BLOCK\",\"@code\":null,\"@template\":\"NONE\",\"@flowId\":null,\"@flowExecutionId\":null,\"@provider\":null,\"@lastModifiedAt\":null},{\"@type\":\"PC-NEWSSTAND-PRESS-BLOCK\",\"blocks\":null,\"materials\":null,\"excludeInPaging\":false,\"positionForPaging\":0,\"realtime\":false,\"pid\":\"003\",\"name\":\"뉴시스\",\"logoLight\":{\"url\":\"https://s.pstatic.net/static/newsstand/up/2024/0731/nsd1419103.png\"},\"logoDark\":{\"url\":\"https://s.pstatic.net/static/newsstand/up/2024/0731/nsd141932398.png\"},\"showThumbnailView\":true,\"showListView\":true,\"regDate\":\"20241023 13:52:01\",\"_id\":null,\"@type\":\"PC-NEWSSTAND-PRESS-BLOCK\",\"@code\":null,\"@template\":\"NONE\",\"@flowId\":null,\"@flowExecutionId\":null,\"@provider\":null,\"@lastModifiedAt\":null},{\"@type\":\"PC-NEWSSTAND-PRESS-BLOCK\",\"blocks\":null,\"materials\":null,\"excludeInPaging\":false,\"positionForPaging\":0,\"realtime\":false,\"pid\":\"366\",\"name\":\"조선비즈\",\"logoLight\":{\"url\":\"https://s.pstatic.net/static/newsstand/2020/logo/light/0604/366.png\"},\"logoDark\":{\"url\":\"https://s.pstatic.net/static/newsstand/2020/logo/dark/0604/366.png\"},\"showThumbnailView\":true,\"showListView\":true,\"regDate\":\"20241023 14:01:22\",\"_id\":null,\"@type\":\"PC-NEWSSTAND-PRESS-BLOCK\",\"@code\":null,\"@template\":\"NONE\",\"@flowId\":null,\"@flowExecutionId\":null,\"@provider\":null,\"@lastModifiedAt\":null},{\"@type\":\"PC-NEWSSTAND-PRESS-BLOCK\",\"blocks\":null,\"materials\":null,\"excludeInPaging\":false,\"positionForPaging\":0,\"realtime\":false,\"pid\":\"005\",\"name\":\"국민일보\",\"logoLight\":{\"url\":\"https://s.pstatic.net/static/newsstand/2020/logo/light/0604/005.png\"},\"logoDark\":{\"url\":\"https://s.pstatic.net/static/newsstand/2020/logo/dark/0604/005.png\"},\"showThumbnailView\":true,\"showListView\":true,\"regDate\":\"20241023 13:43:58\",\"_id\":null,\"@type\":\"PC-NEWSSTAND-PRESS-BLOCK\",\"@code\":null,\"@template\":\"NONE\",\"@flowId\":null,\"@flowExecutionId\":null,\"@provider\":null,\"@lastModifiedAt\":null},{\"@type\":\"PC-NEWSSTAND-PRESS-BLOCK\",\"blocks\":null,\"materials\":null,\"excludeInPaging\":false,\"positionForPaging\":0,\"realtime\":false,\"pid\":\"368\",\"name\":\"데일리안\",\"logoLight\":{\"url\":\"https://s.pstatic.net/static/newsstand/2020/logo/light/0604/368.png\"},\"logoDark\":{\"url\":\"https://s.pstatic.net/static/newsstand/2020/logo/dark/0604/368.png\"},\"showThumbnailView\":true,\"showListView\":true,\"regDate\":\"20241023 13:38:19\",\"_id\":null,\"@type\":\"PC-NEWSSTAND-PRESS-BLOCK\",\"@code\":null,\"@template\":\"NONE\",\"@flowId\":null,\"@flowExecutionId\":null,\"@provider\":null,\"@lastModifiedAt\":null},{\"@type\":\"PC-NEWSSTAND-PRESS-BLOCK\",\"blocks\":null,\"materials\":null,\"excludeInPaging\":false,\"positionForPaging\":0,\"realtime\":false,\"pid\":\"006\",\"name\":\"미디어오늘\",\"logoLight\":{\"url\":\"https://s.pstatic.net/static/newsstand/2020/logo/light/0604/006.png\"},\"logoDark\":{\"url\":\"https://s.pstatic.net/static/newsstand/2020/logo/dark/0604/006.png\"},\"showThumbnailView\":true,\"showListView\":true,\"regDate\":\"20241023 14:00:02\",\"_id\":null,\"@type\":\"PC-NEWSSTAND-PRESS-BLOCK\",\"@code\":null,\"@template\":\"NONE\",\"@flowId\":null,\"@flowExecutionId\":null,\"@provider\":null,\"@lastModifiedAt\":null},{\"@type\":\"PC-NEWSSTAND-PRESS-BLOCK\",\"blocks\":null,\"materials\":null,\"excludeInPaging\":false,\"positionForPaging\":0,\"realtime\":false,\"pid\":\"920\",\"name\":\"아시아투데이\",\"logoLight\":{\"url\":\"https://s.pstatic.net/static/newsstand/2020/logo/light/0604/920.png\"},\"logoDark\":{\"url\":\"https://s.pstatic.net/static/newsstand/2020/logo/dark/0604/920.png\"},\"showThumbnailView\":true,\"showListView\":true,\"regDate\":\"20241023 14:05:04\",\"_id\":null,\"@type\":\"PC-NEWSSTAND-PRESS-BLOCK\",\"@code\":null,\"@template\":\"NONE\",\"@flowId\":null,\"@flowExecutionId\":null,\"@provider\":null,\"@lastModifiedAt\":null},{\"@type\":\"PC-NEWSSTAND-PRESS-BLOCK\",\"blocks\":null,\"materials\":null,\"excludeInPaging\":false,\"positionForPaging\":0,\"realtime\":false,\"pid\":\"008\",\"name\":\"머니투데이\",\"logoLight\":{\"url\":\"https://s.pstatic.net/static/newsstand/2020/logo/light/0604/008.png\"},\"logoDark\":{\"url\":\"https://s.pstatic.net/static/newsstand/2020/logo/dark/0604/008.png\"},\"showThumbnailView\":true,\"showListView\":true,\"regDate\":\"20241023 13:50:07\",\"_id\":null,\"@type\":\"PC-NEWSSTAND-PRESS-BLOCK\",\"@code\":null,\"@template\":\"NONE\",\"@flowId\":null,\"@flowExecutionId\":null,\"@provider\":null,\"@lastModifiedAt\":null},{\"@type\":\"PC-NEWSSTAND-PRESS-BLOCK\",\"blocks\":null,\"materials\":null,\"excludeInPaging\":false,\"positionForPaging\":0,\"realtime\":false,\"pid\":\"921\",\"name\":\"아주경제\",\"logoLight\":{\"url\":\"https://s.pstatic.net/static/newsstand/up/2023/0731/nsd13387289.png\"},\"logoDark\":{\"url\":\"https://s.pstatic.net/static/newsstand/up/2023/0731/nsd133759965.png\"},\"showThumbnailView\":true,\"showListView\":true,\"regDate\":\"20241023 14:04:01\",\"_id\":null,\"@type\":\"PC-NEWSSTAND-PRESS-BLOCK\",\"@code\":null,\"@template\":\"NONE\",\"@flowId\":null,\"@flowExecutionId\":null,\"@provider\":null,\"@lastModifiedAt\":null},{\"@type\":\"PC-NEWSSTAND-PRESS-BLOCK\",\"blocks\":null,\"materials\":null,\"excludeInPaging\":false,\"positionForPaging\":0,\"realtime\":false,\"pid\":\"009\",\"name\":\"매일경제\",\"logoLight\":{\"url\":\"https://s.pstatic.net/static/newsstand/2020/logo/light/0604/009.png\"},\"logoDark\":{\"url\":\"https://s.pstatic.net/static/newsstand/2020/logo/dark/0604/009.png\"},\"showThumbnailView\":true,\"showListView\":true,\"regDate\":\"20241023 14:05:07\",\"_id\":null,\"@type\":\"PC-NEWSSTAND-PRESS-BLOCK\",\"@code\":null,\"@template\":\"NONE\",\"@flowId\":null,\"@flowExecutionId\":null,\"@provider\":null,\"@lastModifiedAt\":null},{\"@type\":\"PC-NEWSSTAND-PRESS-BLOCK\",\"blocks\":null,\"materials\":null,\"excludeInPaging\":false,\"positionForPaging\":0,\"realtime\":false,\"pid\":\"801\",\"name\":\"위키리크스한국\",\"logoLight\":{\"url\":\"https://s.pstatic.net/static/newsstand/2020/logo/light/0604/801.png\"},\"logoDark\":{\"url\":\"https://s.pstatic.net/static/newsstand/2020/logo/dark/0604/801.png\"},\"showThumbnailView\":true,\"showListView\":true,\"regDate\":\"20241023 13:50:09\",\"_id\":null,\"@type\":\"PC-NEWSSTAND-PRESS-BLOCK\",\"@code\":null,\"@template\":\"NONE\",\"@flowId\":null,\"@flowExecutionId\":null,\"@provider\":null,\"@lastModifiedAt\":null},{\"@type\":\"PC-NEWSSTAND-PRESS-BLOCK\",\"blocks\":null,\"materials\":null,\"excludeInPaging\":false,\"positionForPaging\":0,\"realtime\":false,\"pid\":\"922\",\"name\":\"이투데이\",\"logoLight\":{\"url\":\"https://s.pstatic.net/static/newsstand/2020/logo/light/0604/922.png\"},\"logoDark\":{\"url\":\"https://s.pstatic.net/static/newsstand/2020/logo/dark/0604/922.png\"},\"showThumbnailView\":true,\"showListView\":true,\"regDate\":\"20241023 13:53:14\",\"_id\":null,\"@type\":\"PC-NEWSSTAND-PRESS-BLOCK\",\"@code\":null,\"@template\":\"NONE\",\"@flowId\":null,\"@flowExecutionId\":null,\"@provider\":null,\"@lastModifiedAt\":null},{\"@type\":\"PC-NEWSSTAND-PRESS-BLOCK\",\"blocks\":null,\"materials\":null,\"excludeInPaging\":false,\"positionForPaging\":0,\"realtime\":false,\"pid\":\"802\",\"name\":\"스포츠Q\",\"logoLight\":{\"url\":\"https://s.pstatic.net/static/newsstand/2020/logo/light/0604/802.png\"},\"logoDark\":{\"url\":\"https://s.pstatic.net/static/newsstand/2020/logo/dark/0604/802.png\"},\"showThumbnailView\":true,\"showListView\":true,\"regDate\":\"20241023 13:50:10\",\"_id\":null,\"@type\":\"PC-NEWSSTAND-PRESS-BLOCK\",\"@code\":null,\"@template\":\"NONE\",\"@flowId\":null,\"@flowExecutionId\":null,\"@provider\":null,\"@lastModifiedAt\":null},{\"@type\":\"PC-NEWSSTAND-PRESS-BLOCK\",\"blocks\":null,\"materials\":null,\"excludeInPaging\":false,\"positionForPaging\":0,\"realtime\":false,\"pid\":\"923\",\"name\":\"인민망\",\"logoLight\":{\"url\":\"https://s.pstatic.net/static/newsstand/2020/logo/light/0604/923.png\"},\"logoDark\":{\"url\":\"https://s.pstatic.net/static/newsstand/2020/logo/dark/0604/923.png\"},\"showThumbnailView\":true,\"showListView\":true,\"regDate\":\"20241023 12:30:04\",\"_id\":null,\"@type\":\"PC-NEWSSTAND-PRESS-BLOCK\",\"@code\":null,\"@template\":\"NONE\",\"@flowId\":null,\"@flowExecutionId\":null,\"@provider\":null,\"@lastModifiedAt\":null},{\"@type\":\"PC-NEWSSTAND-PRESS-BLOCK\",\"blocks\":null,\"materials\":null,\"excludeInPaging\":false,\"positionForPaging\":0,\"realtime\":false,\"pid\":\"803\",\"name\":\"인더스트리뉴스\",\"logoLight\":{\"url\":\"https://s.pstatic.net/static/newsstand/up/2021/0907/nsd9423633.png\"},\"logoDark\":{\"url\":\"https://s.pstatic.net/static/newsstand/up/2021/0907/nsd94216114.png\"},\"showThumbnailView\":true,\"showListView\":true,\"regDate\":\"20241023 13:50:10\",\"_id\":null,\"@type\":\"PC-NEWSSTAND-PRESS-BLOCK\",\"@code\":null,\"@template\":\"NONE\",\"@flowId\":null,\"@flowExecutionId\":null,\"@provider\":null,\"@lastModifiedAt\":null},{\"@type\":\"PC-NEWSSTAND-PRESS-BLOCK\",\"blocks\":null,\"materials\":null,\"excludeInPaging\":false,\"positionForPaging\":0,\"realtime\":false,\"pid\":\"924\",\"name\":\"인벤\",\"logoLight\":{\"url\":\"https://s.pstatic.net/static/newsstand/2020/logo/light/0604/924.png\"},\"logoDark\":{\"url\":\"https://s.pstatic.net/static/newsstand/2020/logo/dark/0604/924.png\"},\"showThumbnailView\":true,\"showListView\":true,\"regDate\":\"20241023 10:55:10\",\"_id\":null,\"@type\":\"PC-NEWSSTAND-PRESS-BLOCK\",\"@code\":null,\"@template\":\"NONE\",\"@flowId\":null,\"@flowExecutionId\":null,\"@provider\":null,\"@lastModifiedAt\":null},{\"@type\":\"PC-NEWSSTAND-PRESS-BLOCK\",\"blocks\":null,\"materials\":null,\"excludeInPaging\":false,\"positionForPaging\":0,\"realtime\":false,\"pid\":\"804\",\"name\":\"데이터뉴스\",\"logoLight\":{\"url\":\"https://s.pstatic.net/static/newsstand/2020/logo/light/0604/804.png\"},\"logoDark\":{\"url\":\"https://s.pstatic.net/static/newsstand/2020/logo/dark/0604/804.png\"},\"showThumbnailView\":true,\"showListView\":true,\"regDate\":\"20241023 11:15:02\",\"_id\":null,\"@type\":\"PC-NEWSSTAND-PRESS-BLOCK\",\"@code\":null,\"@template\":\"NONE\",\"@flowId\":null,\"@flowExecutionId\":null,\"@provider\":null,\"@lastModifiedAt\":null},{\"@type\":\"PC-NEWSSTAND-PRESS-BLOCK\",\"blocks\":null,\"materials\":null,\"excludeInPaging\":false,\"positionForPaging\":0,\"realtime\":false,\"pid\":\"925\",\"name\":\"일요신문\",\"logoLight\":{\"url\":\"https://s.pstatic.net/static/newsstand/2020/logo/light/0604/925.png\"},\"logoDark\":{\"url\":\"https://s.pstatic.net/static/newsstand/2020/logo/dark/0604/925.png\"},\"showThumbnailView\":true,\"showListView\":true,\"regDate\":\"20241023 09:58:40\",\"_id\":null,\"@type\":\"PC-NEWSSTAND-PRESS-BLOCK\",\"@code\":null,\"@template\":\"NONE\",\"@flowId\":null,\"@flowExecutionId\":null,\"@provider\":null,\"@lastModifiedAt\":null},{\"@type\":\"PC-NEWSSTAND-PRESS-BLOCK\",\"blocks\":null,\"materials\":null,\"excludeInPaging\":false,\"positionForPaging\":0,\"realtime\":false,\"pid\":\"805\",\"name\":\"한경잡앤조이\",\"logoLight\":{\"url\":\"https://s.pstatic.net/static/newsstand/up/2020/0615/nsd10319824.png\"},\"logoDark\":{\"url\":\"https://s.pstatic.net/static/newsstand/up/2020/0615/nsd10311145.png\"},\"showThumbnailView\":true,\"showListView\":true,\"regDate\":\"20241023 11:38:07\",\"_id\":null,\"@type\":\"PC-NEWSSTAND-PRESS-BLOCK\",\"@code\":null,\"@template\":\"NONE\",\"@flowId\":null,\"@flowExecutionId\":null,\"@provider\":null,\"@lastModifiedAt\":null},{\"@type\":\"PC-NEWSSTAND-PRESS-BLOCK\",\"blocks\":null,\"materials\":null,\"excludeInPaging\":false,\"positionForPaging\":0,\"realtime\":false,\"pid\":\"926\",\"name\":\"중부일보\",\"logoLight\":{\"url\":\"https://s.pstatic.net/static/newsstand/up/2022/0704/nsd231551300.png\"},\"logoDark\":{\"url\":\"https://s.pstatic.net/static/newsstand/up/2022/0704/nsd231545458.png\"},\"showThumbnailView\":true,\"showListView\":true,\"regDate\":\"20241023 12:54:10\",\"_id\":null,\"@type\":\"PC-NEWSSTAND-PRESS-BLOCK\",\"@code\":null,\"@template\":\"NONE\",\"@flowId\":null,\"@flowExecutionId\":null,\"@provider\":null,\"@lastModifiedAt\":null},{\"@type\":\"PC-NEWSSTAND-PRESS-BLOCK\",\"blocks\":null,\"materials\":null,\"excludeInPaging\":false,\"positionForPaging\":0,\"realtime\":false,\"pid\":\"806\",\"name\":\"한경머니\",\"logoLight\":{\"url\":\"https://s.pstatic.net/static/newsstand/up/2024/0531/nsd115428801.png\"},\"logoDark\":{\"url\":\"https://s.pstatic.net/static/newsstand/up/2024/0531/nsd115449376.png\"},\"showThumbnailView\":true,\"showListView\":true,\"regDate\":\"20241023 09:37:43\",\"_id\":null,\"@type\":\"PC-NEWSSTAND-PRESS-BLOCK\",\"@code\":null,\"@template\":\"NONE\",\"@flowId\":null,\"@flowExecutionId\":null,\"@provider\":null,\"@lastModifiedAt\":null},{\"@type\":\"PC-NEWSSTAND-PRESS-BLOCK\",\"blocks\":null,\"materials\":null,\"excludeInPaging\":false,\"positionForPaging\":0,\"realtime\":false,\"pid\":\"927\",\"name\":\"충북일보\",\"logoLight\":{\"url\":\"https://s.pstatic.net/static/newsstand/2020/logo/light/0604/927.png\"},\"logoDark\":{\"url\":\"https://s.pstatic.net/static/newsstand/2020/logo/dark/0604/927.png\"},\"showThumbnailView\":true,\"showListView\":true,\"regDate\":\"20241022 18:22:38\",\"_id\":null,\"@type\":\"PC-NEWSSTAND-PRESS-BLOCK\",\"@code\":null,\"@template\":\"NONE\",\"@flowId\":null,\"@flowExecutionId\":null,\"@provider\":null,\"@lastModifiedAt\":null},{\"@type\":\"PC-NEWSSTAND-PRESS-BLOCK\",\"blocks\":null,\"materials\":null,\"excludeInPaging\":false,\"positionForPaging\":0,\"realtime\":false,\"pid\":\"807\",\"name\":\"인사이트코리아\",\"logoLight\":{\"url\":\"https://s.pstatic.net/static/newsstand/2020/logo/light/0604/807.png\"},\"logoDark\":{\"url\":\"https://s.pstatic.net/static/newsstand/2020/logo/dark/0604/807.png\"},\"showThumbnailView\":true,\"showListView\":true,\"regDate\":\"20241023 13:50:12\",\"_id\":null,\"@type\":\"PC-NEWSSTAND-PRESS-BLOCK\",\"@code\":null,\"@template\":\"NONE\",\"@flowId\":null,\"@flowExecutionId\":null,\"@provider\":null,\"@lastModifiedAt\":null},{\"@type\":\"PC-NEWSSTAND-PRESS-BLOCK\",\"blocks\":null,\"materials\":null,\"excludeInPaging\":false,\"positionForPaging\":0,\"realtime\":false,\"pid\":\"928\",\"name\":\"컴퓨터월드\",\"logoLight\":{\"url\":\"https://s.pstatic.net/static/newsstand/2020/logo/light/0604/928.png\"},\"logoDark\":{\"url\":\"https://s.pstatic.net/static/newsstand/2020/logo/dark/0604/928.png\"},\"showThumbnailView\":true,\"showListView\":true,\"regDate\":\"20241001 22:26:33\",\"_id\":null,\"@type\":\"PC-NEWSSTAND-PRESS-BLOCK\",\"@code\":null,\"@template\":\"NONE\",\"@flowId\":null,\"@flowExecutionId\":null,\"@provider\":null,\"@lastModifiedAt\":null},{\"@type\":\"PC-NEWSSTAND-PRESS-BLOCK\",\"blocks\":null,\"materials\":null,\"excludeInPaging\":false,\"positionForPaging\":0,\"realtime\":false,\"pid\":\"808\",\"name\":\"산업일보\",\"logoLight\":{\"url\":\"https://s.pstatic.net/static/newsstand/2020/logo/light/0604/808.png\"},\"logoDark\":{\"url\":\"https://s.pstatic.net/static/newsstand/2020/logo/dark/0604/808.png\"},\"showThumbnailView\":true,\"showListView\":true,\"regDate\":\"20241023 13:54:04\",\"_id\":null,\"@type\":\"PC-NEWSSTAND-PRESS-BLOCK\",\"@code\":null,\"@template\":\"NONE\",\"@flowId\":null,\"@flowExecutionId\":null,\"@provider\":null,\"@lastModifiedAt\":null},{\"@type\":\"PC-NEWSSTAND-PRESS-BLOCK\",\"blocks\":null,\"materials\":null,\"excludeInPaging\":false,\"positionForPaging\":0,\"realtime\":false,\"pid\":\"809\",\"name\":\"미디어펜\",\"logoLight\":{\"url\":\"https://s.pstatic.net/static/newsstand/2020/logo/light/0604/809.png\"},\"logoDark\":{\"url\":\"https://s.pstatic.net/static/newsstand/2020/logo/dark/0604/809.png\"},\"showThumbnailView\":true,\"showListView\":true,\"regDate\":\"20241023 13:51:36\",\"_id\":null,\"@type\":\"PC-NEWSSTAND-PRESS-BLOCK\",\"@code\":null,\"@template\":\"NONE\",\"@flowId\":null,\"@flowExecutionId\":null,\"@provider\":null,\"@lastModifiedAt\":null},{\"@type\":\"PC-NEWSSTAND-PRESS-BLOCK\",\"blocks\":null,\"materials\":null,\"excludeInPaging\":false,\"positionForPaging\":0,\"realtime\":false,\"pid\":\"011\",\"name\":\"서울경제\",\"logoLight\":{\"url\":\"https://s.pstatic.net/static/newsstand/2019/logo/011.png\"},\"logoDark\":{\"url\":\"https://s.pstatic.net/static/newsstand/2020/logo/dark/0604/011.png\"},\"showThumbnailView\":true,\"showListView\":true,\"regDate\":\"20241023 13:47:54\",\"_id\":null,\"@type\":\"PC-NEWSSTAND-PRESS-BLOCK\",\"@code\":null,\"@template\":\"NONE\",\"@flowId\":null,\"@flowExecutionId\":null,\"@provider\":null,\"@lastModifiedAt\":null},{\"@type\":\"PC-NEWSSTAND-PRESS-BLOCK\",\"blocks\":null,\"materials\":null,\"excludeInPaging\":false,\"positionForPaging\":0,\"realtime\":false,\"pid\":\"374\",\"name\":\"SBS Biz\",\"logoLight\":{\"url\":\"https://s.pstatic.net/static/newsstand/up/2020/1229/nsd165811867.png\"},\"logoDark\":{\"url\":\"https://s.pstatic.net/static/newsstand/up/2020/1229/nsd165811867.png\"},\"showThumbnailView\":true,\"showListView\":true,\"regDate\":\"20241023 13:43:09\",\"_id\":null,\"@type\":\"PC-NEWSSTAND-PRESS-BLOCK\",\"@code\":null,\"@template\":\"NONE\",\"@flowId\":null,\"@flowExecutionId\":null,\"@provider\":null,\"@lastModifiedAt\":null},{\"@type\":\"PC-NEWSSTAND-PRESS-BLOCK\",\"blocks\":null,\"materials\":null,\"excludeInPaging\":false,\"positionForPaging\":0,\"realtime\":false,\"pid\":\"013\",\"name\":\"연합인포맥스\",\"logoLight\":{\"url\":\"https://s.pstatic.net/static/newsstand/2020/logo/light/0604/013.png\"},\"logoDark\":{\"url\":\"https://s.pstatic.net/static/newsstand/2020/logo/dark/0604/013.png\"},\"showThumbnailView\":true,\"showListView\":true,\"regDate\":\"20241023 14:00:36\",\"_id\":null,\"@type\":\"PC-NEWSSTAND-PRESS-BLOCK\",\"@code\":null,\"@template\":\"NONE\",\"@flowId\":null,\"@flowExecutionId\":null,\"@provider\":null,\"@lastModifiedAt\":null},{\"@type\":\"PC-NEWSSTAND-PRESS-BLOCK\",\"blocks\":null,\"materials\":null,\"excludeInPaging\":false,\"positionForPaging\":0,\"realtime\":false,\"pid\":\"376\",\"name\":\"지지통신\",\"logoLight\":{\"url\":\"https://s.pstatic.net/static/newsstand/2020/logo/light/0604/376.png\"},\"logoDark\":{\"url\":\"https://s.pstatic.net/static/newsstand/2020/logo/dark/0604/376.png\"},\"showThumbnailView\":true,\"showListView\":true,\"regDate\":\"20241023 13:10:03\",\"_id\":null,\"@type\":\"PC-NEWSSTAND-PRESS-BLOCK\",\"@code\":null,\"@template\":\"NONE\",\"@flowId\":null,\"@flowExecutionId\":null,\"@provider\":null,\"@lastModifiedAt\":null},{\"@type\":\"PC-NEWSSTAND-PRESS-BLOCK\",\"blocks\":null,\"materials\":null,\"excludeInPaging\":false,\"positionForPaging\":0,\"realtime\":false,\"pid\":\"014\",\"name\":\"파이낸셜뉴스\",\"logoLight\":{\"url\":\"https://s.pstatic.net/static/newsstand/2020/logo/light/0604/014.png\"},\"logoDark\":{\"url\":\"https://s.pstatic.net/static/newsstand/2020/logo/dark/0604/014.png\"},\"showThumbnailView\":true,\"showListView\":true,\"regDate\":\"20241023 14:01:54\",\"_id\":null,\"@type\":\"PC-NEWSSTAND-PRESS-BLOCK\",\"@code\":null,\"@template\":\"NONE\",\"@flowId\":null,\"@flowExecutionId\":null,\"@provider\":null,\"@lastModifiedAt\":null},{\"@type\":\"PC-NEWSSTAND-PRESS-BLOCK\",\"blocks\":null,\"materials\":null,\"excludeInPaging\":false,\"positionForPaging\":0,\"realtime\":false,\"pid\":\"135\",\"name\":\"시사저널\",\"logoLight\":{\"url\":\"https://s.pstatic.net/static/newsstand/2020/logo/light/0604/135.png\"},\"logoDark\":{\"url\":\"https://s.pstatic.net/static/newsstand/2020/logo/dark/0604/135.png\"},\"showThumbnailView\":true,\"showListView\":true,\"regDate\":\"20241023 14:00:09\",\"_id\":null,\"@type\":\"PC-NEWSSTAND-PRESS-BLOCK\",\"@code\":null,\"@template\":\"NONE\",\"@flowId\":null,\"@flowExecutionId\":null,\"@provider\":null,\"@lastModifiedAt\":null},{\"@type\":\"PC-NEWSSTAND-PRESS-BLOCK\",\"blocks\":null,\"materials\":null,\"excludeInPaging\":false,\"positionForPaging\":0,\"realtime\":false,\"pid\":\"015\",\"name\":\"한국경제\",\"logoLight\":{\"url\":\"https://s.pstatic.net/static/newsstand/2020/logo/light/0604/015.png\"},\"logoDark\":{\"url\":\"https://s.pstatic.net/static/newsstand/2020/logo/dark/0604/015.png\"},\"showThumbnailView\":true,\"showListView\":true,\"regDate\":\"20241023 13:41:49\",\"_id\":null,\"@type\":\"PC-NEWSSTAND-PRESS-BLOCK\",\"@code\":null,\"@template\":\"NONE\",\"@flowId\":null,\"@flowExecutionId\":null,\"@provider\":null,\"@lastModifiedAt\":null},{\"@type\":\"PC-NEWSSTAND-PRESS-BLOCK\",\"blocks\":null,\"materials\":null,\"excludeInPaging\":false,\"positionForPaging\":0,\"realtime\":false,\"pid\":\"016\",\"name\":\"헤럴드경제\",\"logoLight\":{\"url\":\"https://s.pstatic.net/static/newsstand/2020/logo/light/0604/016.png\"},\"logoDark\":{\"url\":\"https://s.pstatic.net/static/newsstand/2020/logo/dark/0604/016.png\"},\"showThumbnailView\":true,\"showListView\":true,\"regDate\":\"20241023 13:43:11\",\"_id\":null,\"@type\":\"PC-NEWSSTAND-PRESS-BLOCK\",\"@code\":null,\"@template\":\"NONE\",\"@flowId\":null,\"@flowExecutionId\":null,\"@provider\":null,\"@lastModifiedAt\":null},{\"@type\":\"PC-NEWSSTAND-PRESS-BLOCK\",\"blocks\":null,\"materials\":null,\"excludeInPaging\":false,\"positionForPaging\":0,\"realtime\":false,\"pid\":\"138\",\"name\":\"디지털데일리\",\"logoLight\":{\"url\":\"https://s.pstatic.net/static/newsstand/2020/logo/light/0604/138.png\"},\"logoDark\":{\"url\":\"https://s.pstatic.net/static/newsstand/2020/logo/dark/0604/138.png\"},\"showThumbnailView\":true,\"showListView\":true,\"regDate\":\"20241020 22:44:15\",\"_id\":null,\"@type\":\"PC-NEWSSTAND-PRESS-BLOCK\",\"@code\":null,\"@template\":\"NONE\",\"@flowId\":null,\"@flowExecutionId\":null,\"@provider\":null,\"@lastModifiedAt\":null},{\"@type\":\"PC-NEWSSTAND-PRESS-BLOCK\",\"blocks\":null,\"materials\":null,\"excludeInPaging\":false,\"positionForPaging\":0,\"realtime\":false,\"pid\":\"930\",\"name\":\"뉴스타파\",\"logoLight\":{\"url\":\"https://s.pstatic.net/static/newsstand/2020/logo/light/0604/930.png\"},\"logoDark\":{\"url\":\"https://s.pstatic.net/static/newsstand/2020/logo/dark/0604/930.png\"},\"showThumbnailView\":true,\"showListView\":true,\"regDate\":\"20241023 14:01:47\",\"_id\":null,\"@type\":\"PC-NEWSSTAND-PRESS-BLOCK\",\"@code\":null,\"@template\":\"NONE\",\"@flowId\":null,\"@flowExecutionId\":null,\"@provider\":null,\"@lastModifiedAt\":null},{\"@type\":\"PC-NEWSSTAND-PRESS-BLOCK\",\"blocks\":null,\"materials\":null,\"excludeInPaging\":false,\"positionForPaging\":0,\"realtime\":false,\"pid\":\"018\",\"name\":\"이데일리\",\"logoLight\":{\"url\":\"https://s.pstatic.net/static/newsstand/2020/logo/light/0604/018.png\"},\"logoDark\":{\"url\":\"https://s.pstatic.net/static/newsstand/2020/logo/dark/0604/018.png\"},\"showThumbnailView\":true,\"showListView\":true,\"regDate\":\"20241023 13:19:49\",\"_id\":null,\"@type\":\"PC-NEWSSTAND-PRESS-BLOCK\",\"@code\":null,\"@template\":\"NONE\",\"@flowId\":null,\"@flowExecutionId\":null,\"@provider\":null,\"@lastModifiedAt\":null},{\"@type\":\"PC-NEWSSTAND-PRESS-BLOCK\",\"blocks\":null,\"materials\":null,\"excludeInPaging\":false,\"positionForPaging\":0,\"realtime\":false,\"pid\":\"139\",\"name\":\"스포탈코리아\",\"logoLight\":{\"url\":\"https://s.pstatic.net/static/newsstand/2020/logo/light/0604/139.png\"},\"logoDark\":{\"url\":\"https://s.pstatic.net/static/newsstand/2020/logo/dark/0604/139.png\"},\"showThumbnailView\":true,\"showListView\":true,\"regDate\":\"20241023 12:33:38\",\"_id\":null,\"@type\":\"PC-NEWSSTAND-PRESS-BLOCK\",\"@code\":null,\"@template\":\"NONE\",\"@flowId\":null,\"@flowExecutionId\":null,\"@provider\":null,\"@lastModifiedAt\":null},{\"@type\":\"PC-NEWSSTAND-PRESS-BLOCK\",\"blocks\":null,\"materials\":null,\"excludeInPaging\":false,\"positionForPaging\":0,\"realtime\":false,\"pid\":\"810\",\"name\":\"신아일보\",\"logoLight\":{\"url\":\"https://s.pstatic.net/static/newsstand/up/2021/0316/nsd103953129.png\"},\"logoDark\":{\"url\":\"https://s.pstatic.net/static/newsstand/up/2021/0316/nsd104012979.png\"},\"showThumbnailView\":true,\"showListView\":true,\"regDate\":\"20241023 13:50:11\",\"_id\":null,\"@type\":\"PC-NEWSSTAND-PRESS-BLOCK\",\"@code\":null,\"@template\":\"NONE\",\"@flowId\":null,\"@flowExecutionId\":null,\"@provider\":null,\"@lastModifiedAt\":null},{\"@type\":\"PC-NEWSSTAND-PRESS-BLOCK\",\"blocks\":null,\"materials\":null,\"excludeInPaging\":false,\"positionForPaging\":0,\"realtime\":false,\"pid\":\"811\",\"name\":\"한국농어촌방송\",\"logoLight\":{\"url\":\"https://s.pstatic.net/static/newsstand/up/2022/0315/nsd181452869.png\"},\"logoDark\":{\"url\":\"https://s.pstatic.net/static/newsstand/up/2022/0315/nsd18156958.png\"},\"showThumbnailView\":true,\"showListView\":true,\"regDate\":\"20241023 13:50:14\",\"_id\":null,\"@type\":\"PC-NEWSSTAND-PRESS-BLOCK\",\"@code\":null,\"@template\":\"NONE\",\"@flowId\":null,\"@flowExecutionId\":null,\"@provider\":null,\"@lastModifiedAt\":null},{\"@type\":\"PC-NEWSSTAND-PRESS-BLOCK\",\"blocks\":null,\"materials\":null,\"excludeInPaging\":false,\"positionForPaging\":0,\"realtime\":false,\"pid\":\"932\",\"name\":\"CEO스코어데일리\",\"logoLight\":{\"url\":\"https://s.pstatic.net/static/newsstand/2020/logo/light/0604/932.png\"},\"logoDark\":{\"url\":\"https://s.pstatic.net/static/newsstand/2020/logo/dark/0604/932.png\"},\"showThumbnailView\":true,\"showListView\":true,\"regDate\":\"20241023 08:51:07\",\"_id\":null,\"@type\":\"PC-NEWSSTAND-PRESS-BLOCK\",\"@code\":null,\"@template\":\"NONE\",\"@flowId\":null,\"@flowExecutionId\":null,\"@provider\":null,\"@lastModifiedAt\":null},{\"@type\":\"PC-NEWSSTAND-PRESS-BLOCK\",\"blocks\":null,\"materials\":null,\"excludeInPaging\":false,\"positionForPaging\":0,\"realtime\":false,\"pid\":\"812\",\"name\":\"딜사이트 경제TV\",\"logoLight\":{\"url\":\"https://s.pstatic.net/static/newsstand/up/2024/0701/nsd105216680.png\"},\"logoDark\":{\"url\":\"https://s.pstatic.net/static/newsstand/up/2024/0701/nsd10529721.png\"},\"showThumbnailView\":true,\"showListView\":true,\"regDate\":\"20241023 13:50:14\",\"_id\":null,\"@type\":\"PC-NEWSSTAND-PRESS-BLOCK\",\"@code\":null,\"@template\":\"NONE\",\"@flowId\":null,\"@flowExecutionId\":null,\"@provider\":null,\"@lastModifiedAt\":null},{\"@type\":\"PC-NEWSSTAND-PRESS-BLOCK\",\"blocks\":null,\"materials\":null,\"excludeInPaging\":false,\"positionForPaging\":0,\"realtime\":false,\"pid\":\"813\",\"name\":\"이코노믹리뷰\",\"logoLight\":{\"url\":\"https://s.pstatic.net/static/newsstand/up/2022/0418/nsd164755323.png\"},\"logoDark\":{\"url\":\"https://s.pstatic.net/static/newsstand/up/2022/0418/nsd164818946.png\"},\"showThumbnailView\":true,\"showListView\":true,\"regDate\":\"20241023 13:50:15\",\"_id\":null,\"@type\":\"PC-NEWSSTAND-PRESS-BLOCK\",\"@code\":null,\"@template\":\"NONE\",\"@flowId\":null,\"@flowExecutionId\":null,\"@provider\":null,\"@lastModifiedAt\":null},{\"@type\":\"PC-NEWSSTAND-PRESS-BLOCK\",\"blocks\":null,\"materials\":null,\"excludeInPaging\":false,\"positionForPaging\":0,\"realtime\":false,\"pid\":\"934\",\"name\":\"Arirang TV\",\"logoLight\":{\"url\":\"https://s.pstatic.net/static/newsstand/2020/logo/light/0604/934.png\"},\"logoDark\":{\"url\":\"https://s.pstatic.net/static/newsstand/2020/logo/dark/0604/934.png\"},\"showThumbnailView\":true,\"showListView\":true,\"regDate\":\"20241022 23:23:33\",\"_id\":null,\"@type\":\"PC-NEWSSTAND-PRESS-BLOCK\",\"@code\":null,\"@template\":\"NONE\",\"@flowId\":null,\"@flowExecutionId\":null,\"@provider\":null,\"@lastModifiedAt\":null},{\"@type\":\"PC-NEWSSTAND-PRESS-BLOCK\",\"blocks\":null,\"materials\":null,\"excludeInPaging\":false,\"positionForPaging\":0,\"realtime\":false,\"pid\":\"814\",\"name\":\"미주한국일보\",\"logoLight\":{\"url\":\"https://s.pstatic.net/static/newsstand/2020/logo/light/0604/814.png\"},\"logoDark\":{\"url\":\"https://s.pstatic.net/static/newsstand/2020/logo/dark/0604/814.png\"},\"showThumbnailView\":true,\"showListView\":true,\"regDate\":\"20241023 10:59:31\",\"_id\":null,\"@type\":\"PC-NEWSSTAND-PRESS-BLOCK\",\"@code\":null,\"@template\":\"NONE\",\"@flowId\":null,\"@flowExecutionId\":null,\"@provider\":null,\"@lastModifiedAt\":null},{\"@type\":\"PC-NEWSSTAND-PRESS-BLOCK\",\"blocks\":null,\"materials\":null,\"excludeInPaging\":false,\"positionForPaging\":0,\"realtime\":false,\"pid\":\"935\",\"name\":\"경상일보\",\"logoLight\":{\"url\":\"https://s.pstatic.net/static/newsstand/2020/logo/light/0604/935.png\"},\"logoDark\":{\"url\":\"https://s.pstatic.net/static/newsstand/2020/logo/dark/0604/935.png\"},\"showThumbnailView\":true,\"showListView\":true,\"regDate\":\"20241023 00:28:12\",\"_id\":null,\"@type\":\"PC-NEWSSTAND-PRESS-BLOCK\",\"@code\":null,\"@template\":\"NONE\",\"@flowId\":null,\"@flowExecutionId\":null,\"@provider\":null,\"@lastModifiedAt\":null},{\"@type\":\"PC-NEWSSTAND-PRESS-BLOCK\",\"blocks\":null,\"materials\":null,\"excludeInPaging\":false,\"positionForPaging\":0,\"realtime\":false,\"pid\":\"815\",\"name\":\"법률방송뉴스\",\"logoLight\":{\"url\":\"https://s.pstatic.net/static/newsstand/2020/logo/light/0604/815.png\"},\"logoDark\":{\"url\":\"https://s.pstatic.net/static/newsstand/2020/logo/dark/0604/815.png\"},\"showThumbnailView\":true,\"showListView\":true,\"regDate\":\"20241023 13:50:15\",\"_id\":null,\"@type\":\"PC-NEWSSTAND-PRESS-BLOCK\",\"@code\":null,\"@template\":\"NONE\",\"@flowId\":null,\"@flowExecutionId\":null,\"@provider\":null,\"@lastModifiedAt\":null},{\"@type\":\"PC-NEWSSTAND-PRESS-BLOCK\",\"blocks\":null,\"materials\":null,\"excludeInPaging\":false,\"positionForPaging\":0,\"realtime\":false,\"pid\":\"936\",\"name\":\"대구일보\",\"logoLight\":{\"url\":\"https://s.pstatic.net/static/newsstand/2020/logo/light/0604/936.png\"},\"logoDark\":{\"url\":\"https://s.pstatic.net/static/newsstand/2020/logo/dark/0604/936.png\"},\"showThumbnailView\":true,\"showListView\":true,\"regDate\":\"20241023 14:00:43\",\"_id\":null,\"@type\":\"PC-NEWSSTAND-PRESS-BLOCK\",\"@code\":null,\"@template\":\"NONE\",\"@flowId\":null,\"@flowExecutionId\":null,\"@provider\":null,\"@lastModifiedAt\":null},{\"@type\":\"PC-NEWSSTAND-PRESS-BLOCK\",\"blocks\":null,\"materials\":null,\"excludeInPaging\":false,\"positionForPaging\":0,\"realtime\":false,\"pid\":\"816\",\"name\":\"시사오늘\",\"logoLight\":{\"url\":\"https://s.pstatic.net/static/newsstand/2020/logo/light/0604/816.png\"},\"logoDark\":{\"url\":\"https://s.pstatic.net/static/newsstand/2020/logo/dark/0604/816.png\"},\"showThumbnailView\":true,\"showListView\":true,\"regDate\":\"20241023 13:50:16\",\"_id\":null,\"@type\":\"PC-NEWSSTAND-PRESS-BLOCK\",\"@code\":null,\"@template\":\"NONE\",\"@flowId\":null,\"@flowExecutionId\":null,\"@provider\":null,\"@lastModifiedAt\":null},{\"@type\":\"PC-NEWSSTAND-PRESS-BLOCK\",\"blocks\":null,\"materials\":null,\"excludeInPaging\":false,\"positionForPaging\":0,\"realtime\":false,\"pid\":\"937\",\"name\":\"전북도민일보\",\"logoLight\":{\"url\":\"https://s.pstatic.net/static/newsstand/2020/logo/light/0604/937.png\"},\"logoDark\":{\"url\":\"https://s.pstatic.net/static/newsstand/2020/logo/dark/0604/937.png\"},\"showThumbnailView\":true,\"showListView\":true,\"regDate\":\"20241022 20:06:31\",\"_id\":null,\"@type\":\"PC-NEWSSTAND-PRESS-BLOCK\",\"@code\":null,\"@template\":\"NONE\",\"@flowId\":null,\"@flowExecutionId\":null,\"@provider\":null,\"@lastModifiedAt\":null},{\"@type\":\"PC-NEWSSTAND-PRESS-BLOCK\",\"blocks\":null,\"materials\":null,\"excludeInPaging\":false,\"positionForPaging\":0,\"realtime\":false,\"pid\":\"817\",\"name\":\"미디어제주\",\"logoLight\":{\"url\":\"https://s.pstatic.net/static/newsstand/2020/logo/light/0604/817.png\"},\"logoDark\":{\"url\":\"https://s.pstatic.net/static/newsstand/2020/logo/dark/0604/817.png\"},\"showThumbnailView\":true,\"showListView\":true,\"regDate\":\"20241023 13:50:17\",\"_id\":null,\"@type\":\"PC-NEWSSTAND-PRESS-BLOCK\",\"@code\":null,\"@template\":\"NONE\",\"@flowId\":null,\"@flowExecutionId\":null,\"@provider\":null,\"@lastModifiedAt\":null},{\"@type\":\"PC-NEWSSTAND-PRESS-BLOCK\",\"blocks\":null,\"materials\":null,\"excludeInPaging\":false,\"positionForPaging\":0,\"realtime\":false,\"pid\":\"938\",\"name\":\"그린포스트코리아\",\"logoLight\":{\"url\":\"https://s.pstatic.net/static/newsstand/2020/logo/light/0604/938.png\"},\"logoDark\":{\"url\":\"https://s.pstatic.net/static/newsstand/2020/logo/dark/0604/938.png\"},\"showThumbnailView\":true,\"showListView\":true,\"regDate\":\"20241023 14:00:40\",\"_id\":null,\"@type\":\"PC-NEWSSTAND-PRESS-BLOCK\",\"@code\":null,\"@template\":\"NONE\",\"@flowId\":null,\"@flowExecutionId\":null,\"@provider\":null,\"@lastModifiedAt\":null},{\"@type\":\"PC-NEWSSTAND-PRESS-BLOCK\",\"blocks\":null,\"materials\":null,\"excludeInPaging\":false,\"positionForPaging\":0,\"realtime\":false,\"pid\":\"818\",\"name\":\"IT동아\",\"logoLight\":{\"url\":\"https://s.pstatic.net/static/newsstand/2020/logo/light/0604/818.png\"},\"logoDark\":{\"url\":\"https://s.pstatic.net/static/newsstand/2020/logo/dark/0604/818.png\"},\"showThumbnailView\":true,\"showListView\":true,\"regDate\":\"20241022 21:52:50\",\"_id\":null,\"@type\":\"PC-NEWSSTAND-PRESS-BLOCK\",\"@code\":null,\"@template\":\"NONE\",\"@flowId\":null,\"@flowExecutionId\":null,\"@provider\":null,\"@lastModifiedAt\":null},{\"@type\":\"PC-NEWSSTAND-PRESS-BLOCK\",\"blocks\":null,\"materials\":null,\"excludeInPaging\":false,\"positionForPaging\":0,\"realtime\":false,\"pid\":\"819\",\"name\":\"바이라인네트워크\",\"logoLight\":{\"url\":\"https://s.pstatic.net/static/newsstand/2020/logo/light/0604/819.png\"},\"logoDark\":{\"url\":\"https://s.pstatic.net/static/newsstand/2020/logo/dark/0604/819.png\"},\"showThumbnailView\":true,\"showListView\":true,\"regDate\":\"20241023 13:49:37\",\"_id\":null,\"@type\":\"PC-NEWSSTAND-PRESS-BLOCK\",\"@code\":null,\"@template\":\"NONE\",\"@flowId\":null,\"@flowExecutionId\":null,\"@provider\":null,\"@lastModifiedAt\":null},{\"@type\":\"PC-NEWSSTAND-PRESS-BLOCK\",\"blocks\":null,\"materials\":null,\"excludeInPaging\":false,\"positionForPaging\":0,\"realtime\":false,\"pid\":\"140\",\"name\":\"씨네21\",\"logoLight\":{\"url\":\"https://s.pstatic.net/static/newsstand/2020/logo/light/0604/140.png\"},\"logoDark\":{\"url\":\"https://s.pstatic.net/static/newsstand/2020/logo/dark/0604/140.png\"},\"showThumbnailView\":true,\"showListView\":true,\"regDate\":\"20241023 12:00:00\",\"_id\":null,\"@type\":\"PC-NEWSSTAND-PRESS-BLOCK\",\"@code\":null,\"@template\":\"NONE\",\"@flowId\":null,\"@flowExecutionId\":null,\"@provider\":null,\"@lastModifiedAt\":null},{\"@type\":\"PC-NEWSSTAND-PRESS-BLOCK\",\"blocks\":null,\"materials\":null,\"excludeInPaging\":false,\"positionForPaging\":0,\"realtime\":false,\"pid\":\"020\",\"name\":\"동아일보\",\"logoLight\":{\"url\":\"https://s.pstatic.net/static/newsstand/2020/logo/light/0604/020.png\"},\"logoDark\":{\"url\":\"https://s.pstatic.net/static/newsstand/2020/logo/dark/0604/020.png\"},\"showThumbnailView\":true,\"showListView\":true,\"regDate\":\"20241023 13:54:09\",\"_id\":null,\"@type\":\"PC-NEWSSTAND-PRESS-BLOCK\",\"@code\":null,\"@template\":\"NONE\",\"@flowId\":null,\"@flowExecutionId\":null,\"@provider\":null,\"@lastModifiedAt\":null},{\"@type\":\"PC-NEWSSTAND-PRESS-BLOCK\",\"blocks\":null,\"materials\":null,\"excludeInPaging\":false,\"positionForPaging\":0,\"realtime\":false,\"pid\":\"021\",\"name\":\"문화일보\",\"logoLight\":{\"url\":\"https://s.pstatic.net/static/newsstand/2020/logo/light/0604/021.png\"},\"logoDark\":{\"url\":\"https://s.pstatic.net/static/newsstand/2020/logo/dark/0604/021.png\"},\"showThumbnailView\":true,\"showListView\":true,\"regDate\":\"20241023 13:55:00\",\"_id\":null,\"@type\":\"PC-NEWSSTAND-PRESS-BLOCK\",\"@code\":null,\"@template\":\"NONE\",\"@flowId\":null,\"@flowExecutionId\":null,\"@provider\":null,\"@lastModifiedAt\":null},{\"@type\":\"PC-NEWSSTAND-PRESS-BLOCK\",\"blocks\":null,\"materials\":null,\"excludeInPaging\":false,\"positionForPaging\":0,\"realtime\":false,\"pid\":\"384\",\"name\":\"한국대학신문\",\"logoLight\":{\"url\":\"https://s.pstatic.net/static/newsstand/2020/logo/light/0604/384.png\"},\"logoDark\":{\"url\":\"https://s.pstatic.net/static/newsstand/2020/logo/dark/0604/384.png\"},\"showThumbnailView\":true,\"showListView\":true,\"regDate\":\"20241023 14:00:07\",\"_id\":null,\"@type\":\"PC-NEWSSTAND-PRESS-BLOCK\",\"@code\":null,\"@template\":\"NONE\",\"@flowId\":null,\"@flowExecutionId\":null,\"@provider\":null,\"@lastModifiedAt\":null},{\"@type\":\"PC-NEWSSTAND-PRESS-BLOCK\",\"blocks\":null,\"materials\":null,\"excludeInPaging\":false,\"positionForPaging\":0,\"realtime\":false,\"pid\":\"022\",\"name\":\"세계일보\",\"logoLight\":{\"url\":\"https://s.pstatic.net/static/newsstand/2020/logo/light/0604/022.png\"},\"logoDark\":{\"url\":\"https://s.pstatic.net/static/newsstand/2020/logo/dark/0604/022.png\"},\"showThumbnailView\":true,\"showListView\":true,\"regDate\":\"20241023 13:38:40\",\"_id\":null,\"@type\":\"PC-NEWSSTAND-PRESS-BLOCK\",\"@code\":null,\"@template\":\"NONE\",\"@flowId\":null,\"@flowExecutionId\":null,\"@provider\":null,\"@lastModifiedAt\":null},{\"@type\":\"PC-NEWSSTAND-PRESS-BLOCK\",\"blocks\":null,\"materials\":null,\"excludeInPaging\":false,\"positionForPaging\":0,\"realtime\":false,\"pid\":\"143\",\"name\":\"쿠키뉴스\",\"logoLight\":{\"url\":\"https://s.pstatic.net/static/newsstand/up/2024/0610/nsd18952420.png\"},\"logoDark\":{\"url\":\"https://s.pstatic.net/static/newsstand/up/2024/0610/nsd181018320.png\"},\"showThumbnailView\":true,\"showListView\":true,\"regDate\":\"20241023 12:23:18\",\"_id\":null,\"@type\":\"PC-NEWSSTAND-PRESS-BLOCK\",\"@code\":null,\"@template\":\"NONE\",\"@flowId\":null,\"@flowExecutionId\":null,\"@provider\":null,\"@lastModifiedAt\":null},{\"@type\":\"PC-NEWSSTAND-PRESS-BLOCK\",\"blocks\":null,\"materials\":null,\"excludeInPaging\":false,\"positionForPaging\":0,\"realtime\":false,\"pid\":\"385\",\"name\":\"영남일보\",\"logoLight\":{\"url\":\"https://s.pstatic.net/static/newsstand/2020/logo/light/0604/385.png\"},\"logoDark\":{\"url\":\"https://s.pstatic.net/static/newsstand/2020/logo/dark/0604/385.png\"},\"showThumbnailView\":true,\"showListView\":true,\"regDate\":\"20241023 14:00:09\",\"_id\":null,\"@type\":\"PC-NEWSSTAND-PRESS-BLOCK\",\"@code\":null,\"@template\":\"NONE\",\"@flowId\":null,\"@flowExecutionId\":null,\"@provider\":null,\"@lastModifiedAt\":null},{\"@type\":\"PC-NEWSSTAND-PRESS-BLOCK\",\"blocks\":null,\"materials\":null,\"excludeInPaging\":false,\"positionForPaging\":0,\"realtime\":false,\"pid\":\"023\",\"name\":\"조선일보\",\"logoLight\":{\"url\":\"https://s.pstatic.net/static/newsstand/up/2020/0903/nsd185255316.png\"},\"logoDark\":{\"url\":\"https://s.pstatic.net/static/newsstand/up/2020/0903/nsd185246724.png\"},\"showThumbnailView\":true,\"showListView\":true,\"regDate\":\"20241023 13:55:58\",\"_id\":null,\"@type\":\"PC-NEWSSTAND-PRESS-BLOCK\",\"@code\":null,\"@template\":\"NONE\",\"@flowId\":null,\"@flowExecutionId\":null,\"@provider\":null,\"@lastModifiedAt\":null},{\"@type\":\"PC-NEWSSTAND-PRESS-BLOCK\",\"blocks\":null,\"materials\":null,\"excludeInPaging\":false,\"positionForPaging\":0,\"realtime\":false,\"pid\":\"144\",\"name\":\"스포츠경향\",\"logoLight\":{\"url\":\"https://s.pstatic.net/static/newsstand/2020/logo/light/0604/144.png\"},\"logoDark\":{\"url\":\"https://s.pstatic.net/static/newsstand/2020/logo/dark/0604/144.png\"},\"showThumbnailView\":true,\"showListView\":true,\"regDate\":\"20241023 13:29:42\",\"_id\":null,\"@type\":\"PC-NEWSSTAND-PRESS-BLOCK\",\"@code\":null,\"@template\":\"NONE\",\"@flowId\":null,\"@flowExecutionId\":null,\"@provider\":null,\"@lastModifiedAt\":null},{\"@type\":\"PC-NEWSSTAND-PRESS-BLOCK\",\"blocks\":null,\"materials\":null,\"excludeInPaging\":false,\"positionForPaging\":0,\"realtime\":false,\"pid\":\"024\",\"name\":\"매경이코노미\",\"logoLight\":{\"url\":\"https://s.pstatic.net/static/newsstand/2020/logo/light/0604/024.png\"},\"logoDark\":{\"url\":\"https://s.pstatic.net/static/newsstand/2020/logo/dark/0604/024.png\"},\"showThumbnailView\":true,\"showListView\":true,\"regDate\":\"20241023 14:04:01\",\"_id\":null,\"@type\":\"PC-NEWSSTAND-PRESS-BLOCK\",\"@code\":null,\"@template\":\"NONE\",\"@flowId\":null,\"@flowExecutionId\":null,\"@provider\":null,\"@lastModifiedAt\":null},{\"@type\":\"PC-NEWSSTAND-PRESS-BLOCK\",\"blocks\":null,\"materials\":null,\"excludeInPaging\":false,\"positionForPaging\":0,\"realtime\":false,\"pid\":\"387\",\"name\":\"인천일보\",\"logoLight\":{\"url\":\"https://s.pstatic.net/static/newsstand/up/2022/0331/nsd155937506.png\"},\"logoDark\":{\"url\":\"https://s.pstatic.net/static/newsstand/up/2022/0331/nsd15594915.png\"},\"showThumbnailView\":true,\"showListView\":true,\"regDate\":\"20241023 14:00:03\",\"_id\":null,\"@type\":\"PC-NEWSSTAND-PRESS-BLOCK\",\"@code\":null,\"@template\":\"NONE\",\"@flowId\":null,\"@flowExecutionId\":null,\"@provider\":null,\"@lastModifiedAt\":null},{\"@type\":\"PC-NEWSSTAND-PRESS-BLOCK\",\"blocks\":null,\"materials\":null,\"excludeInPaging\":false,\"positionForPaging\":0,\"realtime\":false,\"pid\":\"025\",\"name\":\"중앙일보\",\"logoLight\":{\"url\":\"https://s.pstatic.net/static/newsstand/up/2021/0824/nsd115034872.png\"},\"logoDark\":{\"url\":\"https://s.pstatic.net/static/newsstand/up/2021/0823/nsd101834185.png\"},\"showThumbnailView\":true,\"showListView\":true,\"regDate\":\"20241023 13:54:28\",\"_id\":null,\"@type\":\"PC-NEWSSTAND-PRESS-BLOCK\",\"@code\":null,\"@template\":\"NONE\",\"@flowId\":null,\"@flowExecutionId\":null,\"@provider\":null,\"@lastModifiedAt\":null},{\"@type\":\"PC-NEWSSTAND-PRESS-BLOCK\",\"blocks\":null,\"materials\":null,\"excludeInPaging\":false,\"positionForPaging\":0,\"realtime\":false,\"pid\":\"388\",\"name\":\"전남일보\",\"logoLight\":{\"url\":\"https://s.pstatic.net/static/newsstand/2020/logo/light/0604/388.png\"},\"logoDark\":{\"url\":\"https://s.pstatic.net/static/newsstand/2020/logo/dark/0604/388.png\"},\"showThumbnailView\":true,\"showListView\":true,\"regDate\":\"20241023 14:05:02\",\"_id\":null,\"@type\":\"PC-NEWSSTAND-PRESS-BLOCK\",\"@code\":null,\"@template\":\"NONE\",\"@flowId\":null,\"@flowExecutionId\":null,\"@provider\":null,\"@lastModifiedAt\":null},{\"@type\":\"PC-NEWSSTAND-PRESS-BLOCK\",\"blocks\":null,\"materials\":null,\"excludeInPaging\":false,\"positionForPaging\":0,\"realtime\":false,\"pid\":\"389\",\"name\":\"제주도민일보\",\"logoLight\":{\"url\":\"https://s.pstatic.net/static/newsstand/2020/logo/light/0604/389.png\"},\"logoDark\":{\"url\":\"https://s.pstatic.net/static/newsstand/2020/logo/dark/0604/389.png\"},\"showThumbnailView\":true,\"showListView\":true,\"regDate\":\"20241023 14:00:25\",\"_id\":null,\"@type\":\"PC-NEWSSTAND-PRESS-BLOCK\",\"@code\":null,\"@template\":\"NONE\",\"@flowId\":null,\"@flowExecutionId\":null,\"@provider\":null,\"@lastModifiedAt\":null},{\"@type\":\"PC-NEWSSTAND-PRESS-BLOCK\",\"blocks\":null,\"materials\":null,\"excludeInPaging\":false,\"positionForPaging\":0,\"realtime\":false,\"pid\":\"940\",\"name\":\"스포츠투데이\",\"logoLight\":{\"url\":\"https://s.pstatic.net/static/newsstand/up/2022/0328/nsd223244325.png\"},\"logoDark\":{\"url\":\"https://s.pstatic.net/static/newsstand/up/2022/0328/nsd223257107.png\"},\"showThumbnailView\":true,\"showListView\":true,\"regDate\":\"20241023 13:50:01\",\"_id\":null,\"@type\":\"PC-NEWSSTAND-PRESS-BLOCK\",\"@code\":null,\"@template\":\"NONE\",\"@flowId\":null,\"@flowExecutionId\":null,\"@provider\":null,\"@lastModifiedAt\":null},{\"@type\":\"PC-NEWSSTAND-PRESS-BLOCK\",\"blocks\":null,\"materials\":null,\"excludeInPaging\":false,\"positionForPaging\":0,\"realtime\":false,\"pid\":\"028\",\"name\":\"한겨레\",\"logoLight\":{\"url\":\"https://s.pstatic.net/static/newsstand/up/2024/0219/nsd145828169.png\"},\"logoDark\":{\"url\":\"https://s.pstatic.net/static/newsstand/up/2024/0219/nsd14592425.png\"},\"showThumbnailView\":true,\"showListView\":true,\"regDate\":\"20241023 14:04:25\",\"_id\":null,\"@type\":\"PC-NEWSSTAND-PRESS-BLOCK\",\"@code\":null,\"@template\":\"NONE\",\"@flowId\":null,\"@flowExecutionId\":null,\"@provider\":null,\"@lastModifiedAt\":null},{\"@type\":\"PC-NEWSSTAND-PRESS-BLOCK\",\"blocks\":null,\"materials\":null,\"excludeInPaging\":false,\"positionForPaging\":0,\"realtime\":false,\"pid\":\"820\",\"name\":\"월간노동법률\",\"logoLight\":{\"url\":\"https://s.pstatic.net/static/newsstand/up/2022/0817/nsd14480190.png\"},\"logoDark\":{\"url\":\"https://s.pstatic.net/static/newsstand/up/2022/0817/nsd144754102.png\"},\"showThumbnailView\":true,\"showListView\":true,\"regDate\":\"20241022 17:57:05\",\"_id\":null,\"@type\":\"PC-NEWSSTAND-PRESS-BLOCK\",\"@code\":null,\"@template\":\"NONE\",\"@flowId\":null,\"@flowExecutionId\":null,\"@provider\":null,\"@lastModifiedAt\":null},{\"@type\":\"PC-NEWSSTAND-PRESS-BLOCK\",\"blocks\":null,\"materials\":null,\"excludeInPaging\":false,\"positionForPaging\":0,\"realtime\":false,\"pid\":\"941\",\"name\":\"초이스경제\",\"logoLight\":{\"url\":\"https://s.pstatic.net/static/newsstand/2020/logo/light/0604/941.png\"},\"logoDark\":{\"url\":\"https://s.pstatic.net/static/newsstand/2020/logo/dark/0604/941.png\"},\"showThumbnailView\":true,\"showListView\":true,\"regDate\":\"20241023 13:25:02\",\"_id\":null,\"@type\":\"PC-NEWSSTAND-PRESS-BLOCK\",\"@code\":null,\"@template\":\"NONE\",\"@flowId\":null,\"@flowExecutionId\":null,\"@provider\":null,\"@lastModifiedAt\":null},{\"@type\":\"PC-NEWSSTAND-PRESS-BLOCK\",\"blocks\":null,\"materials\":null,\"excludeInPaging\":false,\"positionForPaging\":0,\"realtime\":false,\"pid\":\"029\",\"name\":\"디지털타임스\",\"logoLight\":{\"url\":\"https://s.pstatic.net/static/newsstand/2020/logo/light/0604/029.png\"},\"logoDark\":{\"url\":\"https://s.pstatic.net/static/newsstand/2020/logo/dark/0604/029.png\"},\"showThumbnailView\":true,\"showListView\":true,\"regDate\":\"20241023 13:30:57\",\"_id\":null,\"@type\":\"PC-NEWSSTAND-PRESS-BLOCK\",\"@code\":null,\"@template\":\"NONE\",\"@flowId\":null,\"@flowExecutionId\":null,\"@provider\":null,\"@lastModifiedAt\":null},{\"@type\":\"PC-NEWSSTAND-PRESS-BLOCK\",\"blocks\":null,\"materials\":null,\"excludeInPaging\":false,\"positionForPaging\":0,\"realtime\":false,\"pid\":\"821\",\"name\":\"경남도민일보\",\"logoLight\":{\"url\":\"https://s.pstatic.net/static/newsstand/2020/logo/light/0604/821.png\"},\"logoDark\":{\"url\":\"https://s.pstatic.net/static/newsstand/2020/logo/dark/0604/821.png\"},\"showThumbnailView\":true,\"showListView\":true,\"regDate\":\"20241023 13:50:18\",\"_id\":null,\"@type\":\"PC-NEWSSTAND-PRESS-BLOCK\",\"@code\":null,\"@template\":\"NONE\",\"@flowId\":null,\"@flowExecutionId\":null,\"@provider\":null,\"@lastModifiedAt\":null},{\"@type\":\"PC-NEWSSTAND-PRESS-BLOCK\",\"blocks\":null,\"materials\":null,\"excludeInPaging\":false,\"positionForPaging\":0,\"realtime\":false,\"pid\":\"942\",\"name\":\"비즈니스포스트\",\"logoLight\":{\"url\":\"https://s.pstatic.net/static/newsstand/2020/logo/light/0604/942.png\"},\"logoDark\":{\"url\":\"https://s.pstatic.net/static/newsstand/2020/logo/dark/0604/942.png\"},\"showThumbnailView\":true,\"showListView\":true,\"regDate\":\"20241023 11:29:11\",\"_id\":null,\"@type\":\"PC-NEWSSTAND-PRESS-BLOCK\",\"@code\":null,\"@template\":\"NONE\",\"@flowId\":null,\"@flowExecutionId\":null,\"@provider\":null,\"@lastModifiedAt\":null},{\"@type\":\"PC-NEWSSTAND-PRESS-BLOCK\",\"blocks\":null,\"materials\":null,\"excludeInPaging\":false,\"positionForPaging\":0,\"realtime\":false,\"pid\":\"822\",\"name\":\"프라임경제\",\"logoLight\":{\"url\":\"https://s.pstatic.net/static/newsstand/up/2020/0730/nsd13728808.png\"},\"logoDark\":{\"url\":\"https://s.pstatic.net/static/newsstand/up/2020/0730/nsd13719939.png\"},\"showThumbnailView\":true,\"showListView\":true,\"regDate\":\"20241023 13:45:04\",\"_id\":null,\"@type\":\"PC-NEWSSTAND-PRESS-BLOCK\",\"@code\":null,\"@template\":\"NONE\",\"@flowId\":null,\"@flowExecutionId\":null,\"@provider\":null,\"@lastModifiedAt\":null},{\"@type\":\"PC-NEWSSTAND-PRESS-BLOCK\",\"blocks\":null,\"materials\":null,\"excludeInPaging\":false,\"positionForPaging\":0,\"realtime\":false,\"pid\":\"943\",\"name\":\"비즈워치\",\"logoLight\":{\"url\":\"https://s.pstatic.net/static/newsstand/up/2023/0213/nsd17943530.png\"},\"logoDark\":{\"url\":\"https://s.pstatic.net/static/newsstand/up/2023/0213/nsd17100999.png\"},\"showThumbnailView\":true,\"showListView\":true,\"regDate\":\"20241023 13:53:47\",\"_id\":null,\"@type\":\"PC-NEWSSTAND-PRESS-BLOCK\",\"@code\":null,\"@template\":\"NONE\",\"@flowId\":null,\"@flowExecutionId\":null,\"@provider\":null,\"@lastModifiedAt\":null},{\"@type\":\"PC-NEWSSTAND-PRESS-BLOCK\",\"blocks\":null,\"materials\":null,\"excludeInPaging\":false,\"positionForPaging\":0,\"realtime\":false,\"pid\":\"823\",\"name\":\"KPI뉴스\",\"logoLight\":{\"url\":\"https://s.pstatic.net/static/newsstand/up/2024/0329/nsd145553436.png\"},\"logoDark\":{\"url\":\"https://s.pstatic.net/static/newsstand/up/2024/0329/nsd14554610.png\"},\"showThumbnailView\":true,\"showListView\":true,\"regDate\":\"20241022 19:54:19\",\"_id\":null,\"@type\":\"PC-NEWSSTAND-PRESS-BLOCK\",\"@code\":null,\"@template\":\"NONE\",\"@flowId\":null,\"@flowExecutionId\":null,\"@provider\":null,\"@lastModifiedAt\":null},{\"@type\":\"PC-NEWSSTAND-PRESS-BLOCK\",\"blocks\":null,\"materials\":null,\"excludeInPaging\":false,\"positionForPaging\":0,\"realtime\":false,\"pid\":\"944\",\"name\":\"나우뉴스\",\"logoLight\":{\"url\":\"https://s.pstatic.net/static/newsstand/up/2022/0804/nsd1343054.png\"},\"logoDark\":{\"url\":\"https://s.pstatic.net/static/newsstand/up/2022/0804/nsd13457540.png\"},\"showThumbnailView\":true,\"showListView\":true,\"regDate\":\"20241023 10:09:43\",\"_id\":null,\"@type\":\"PC-NEWSSTAND-PRESS-BLOCK\",\"@code\":null,\"@template\":\"NONE\",\"@flowId\":null,\"@flowExecutionId\":null,\"@provider\":null,\"@lastModifiedAt\":null},{\"@type\":\"PC-NEWSSTAND-PRESS-BLOCK\",\"blocks\":null,\"materials\":null,\"excludeInPaging\":false,\"positionForPaging\":0,\"realtime\":false,\"pid\":\"824\",\"name\":\"서울파이낸스\",\"logoLight\":{\"url\":\"https://s.pstatic.net/static/newsstand/2020/logo/light/0604/824.png\"},\"logoDark\":{\"url\":\"https://s.pstatic.net/static/newsstand/2020/logo/dark/0604/824.png\"},\"showThumbnailView\":true,\"showListView\":true,\"regDate\":\"20241023 13:50:18\",\"_id\":null,\"@type\":\"PC-NEWSSTAND-PRESS-BLOCK\",\"@code\":null,\"@template\":\"NONE\",\"@flowId\":null,\"@flowExecutionId\":null,\"@provider\":null,\"@lastModifiedAt\":null},{\"@type\":\"PC-NEWSSTAND-PRESS-BLOCK\",\"blocks\":null,\"materials\":null,\"excludeInPaging\":false,\"positionForPaging\":0,\"realtime\":false,\"pid\":\"945\",\"name\":\"YTN사이언스\",\"logoLight\":{\"url\":\"https://s.pstatic.net/static/newsstand/up/2020/0922/nsd152336602.png\"},\"logoDark\":{\"url\":\"https://s.pstatic.net/static/newsstand/up/2020/0922/nsd152323211.png\"},\"showThumbnailView\":true,\"showListView\":true,\"regDate\":\"20241023 14:04:56\",\"_id\":null,\"@type\":\"PC-NEWSSTAND-PRESS-BLOCK\",\"@code\":null,\"@template\":\"NONE\",\"@flowId\":null,\"@flowExecutionId\":null,\"@provider\":null,\"@lastModifiedAt\":null},{\"@type\":\"PC-NEWSSTAND-PRESS-BLOCK\",\"blocks\":null,\"materials\":null,\"excludeInPaging\":false,\"positionForPaging\":0,\"realtime\":false,\"pid\":\"825\",\"name\":\"이로운넷\",\"logoLight\":{\"url\":\"https://s.pstatic.net/static/newsstand/2020/logo/light/0604/825.png\"},\"logoDark\":{\"url\":\"https://s.pstatic.net/static/newsstand/2020/logo/dark/0604/825.png\"},\"showThumbnailView\":true,\"showListView\":true,\"regDate\":\"20241023 13:50:20\",\"_id\":null,\"@type\":\"PC-NEWSSTAND-PRESS-BLOCK\",\"@code\":null,\"@template\":\"NONE\",\"@flowId\":null,\"@flowExecutionId\":null,\"@provider\":null,\"@lastModifiedAt\":null},{\"@type\":\"PC-NEWSSTAND-PRESS-BLOCK\",\"blocks\":null,\"materials\":null,\"excludeInPaging\":false,\"positionForPaging\":0,\"realtime\":false,\"pid\":\"946\",\"name\":\"YONHAPNEWS\",\"logoLight\":{\"url\":\"https://s.pstatic.net/static/newsstand/2020/logo/light/0604/946.png\"},\"logoDark\":{\"url\":\"https://s.pstatic.net/static/newsstand/2020/logo/dark/0604/946.png\"},\"showThumbnailView\":true,\"showListView\":true,\"regDate\":\"20241023 14:01:49\",\"_id\":null,\"@type\":\"PC-NEWSSTAND-PRESS-BLOCK\",\"@code\":null,\"@template\":\"NONE\",\"@flowId\":null,\"@flowExecutionId\":null,\"@provider\":null,\"@lastModifiedAt\":null},{\"@type\":\"PC-NEWSSTAND-PRESS-BLOCK\",\"blocks\":null,\"materials\":null,\"excludeInPaging\":false,\"positionForPaging\":0,\"realtime\":false,\"pid\":\"826\",\"name\":\"톱데일리\",\"logoLight\":{\"url\":\"https://s.pstatic.net/static/newsstand/up/2022/0817/nsd14491516.png\"},\"logoDark\":{\"url\":\"https://s.pstatic.net/static/newsstand/up/2022/0817/nsd14499446.png\"},\"showThumbnailView\":true,\"showListView\":true,\"regDate\":\"20241023 13:50:14\",\"_id\":null,\"@type\":\"PC-NEWSSTAND-PRESS-BLOCK\",\"@code\":null,\"@template\":\"NONE\",\"@flowId\":null,\"@flowExecutionId\":null,\"@provider\":null,\"@lastModifiedAt\":null},{\"@type\":\"PC-NEWSSTAND-PRESS-BLOCK\",\"blocks\":null,\"materials\":null,\"excludeInPaging\":false,\"positionForPaging\":0,\"realtime\":false,\"pid\":\"947\",\"name\":\"조이뉴스24\",\"logoLight\":{\"url\":\"https://s.pstatic.net/static/newsstand/2020/logo/light/0604/947.png\"},\"logoDark\":{\"url\":\"https://s.pstatic.net/static/newsstand/2020/logo/dark/0604/947.png\"},\"showThumbnailView\":true,\"showListView\":true,\"regDate\":\"20241023 13:55:37\",\"_id\":null,\"@type\":\"PC-NEWSSTAND-PRESS-BLOCK\",\"@code\":null,\"@template\":\"NONE\",\"@flowId\":null,\"@flowExecutionId\":null,\"@provider\":null,\"@lastModifiedAt\":null},{\"@type\":\"PC-NEWSSTAND-PRESS-BLOCK\",\"blocks\":null,\"materials\":null,\"excludeInPaging\":false,\"positionForPaging\":0,\"realtime\":false,\"pid\":\"827\",\"name\":\"베이비뉴스\",\"logoLight\":{\"url\":\"https://s.pstatic.net/static/newsstand/up/2021/0222/nsd13325188.png\"},\"logoDark\":{\"url\":\"https://s.pstatic.net/static/newsstand/up/2021/0222/nsd13338358.png\"},\"showThumbnailView\":true,\"showListView\":true,\"regDate\":\"20241023 13:50:24\",\"_id\":null,\"@type\":\"PC-NEWSSTAND-PRESS-BLOCK\",\"@code\":null,\"@template\":\"NONE\",\"@flowId\":null,\"@flowExecutionId\":null,\"@provider\":null,\"@lastModifiedAt\":null},{\"@type\":\"PC-NEWSSTAND-PRESS-BLOCK\",\"blocks\":null,\"materials\":null,\"excludeInPaging\":false,\"positionForPaging\":0,\"realtime\":false,\"pid\":\"948\",\"name\":\"한겨레21\",\"logoLight\":{\"url\":\"https://s.pstatic.net/static/newsstand/2020/logo/light/0604/948.png\"},\"logoDark\":{\"url\":\"https://s.pstatic.net/static/newsstand/2020/logo/dark/0604/948.png\"},\"showThumbnailView\":true,\"showListView\":true,\"regDate\":\"20241023 07:28:36\",\"_id\":null,\"@type\":\"PC-NEWSSTAND-PRESS-BLOCK\",\"@code\":null,\"@template\":\"NONE\",\"@flowId\":null,\"@flowExecutionId\":null,\"@provider\":null,\"@lastModifiedAt\":null},{\"@type\":\"PC-NEWSSTAND-PRESS-BLOCK\",\"blocks\":null,\"materials\":null,\"excludeInPaging\":false,\"positionForPaging\":0,\"realtime\":false,\"pid\":\"828\",\"name\":\"식품저널 foodnews\",\"logoLight\":{\"url\":\"https://s.pstatic.net/static/newsstand/up/2021/0211/nsd0427277.png\"},\"logoDark\":{\"url\":\"https://s.pstatic.net/static/newsstand/up/2021/0211/nsd0439284.png\"},\"showThumbnailView\":true,\"showListView\":true,\"regDate\":\"20241023 13:50:23\",\"_id\":null,\"@type\":\"PC-NEWSSTAND-PRESS-BLOCK\",\"@code\":null,\"@template\":\"NONE\",\"@flowId\":null,\"@flowExecutionId\":null,\"@provider\":null,\"@lastModifiedAt\":null},{\"@type\":\"PC-NEWSSTAND-PRESS-BLOCK\",\"blocks\":null,\"materials\":null,\"excludeInPaging\":false,\"positionForPaging\":0,\"realtime\":false,\"pid\":\"829\",\"name\":\"미디어스\",\"logoLight\":{\"url\":\"https://s.pstatic.net/static/newsstand/up/2021/0211/nsd01153196.png\"},\"logoDark\":{\"url\":\"https://s.pstatic.net/static/newsstand/up/2021/0211/nsd01153196.png\"},\"showThumbnailView\":true,\"showListView\":true,\"regDate\":\"20241023 13:50:35\",\"_id\":null,\"@type\":\"PC-NEWSSTAND-PRESS-BLOCK\",\"@code\":null,\"@template\":\"NONE\",\"@flowId\":null,\"@flowExecutionId\":null,\"@provider\":null,\"@lastModifiedAt\":null},{\"@type\":\"PC-NEWSSTAND-PRESS-BLOCK\",\"blocks\":null,\"materials\":null,\"excludeInPaging\":false,\"positionForPaging\":0,\"realtime\":false,\"pid\":\"391\",\"name\":\"충청일보\",\"logoLight\":{\"url\":\"https://s.pstatic.net/static/newsstand/2020/logo/light/0604/391.png\"},\"logoDark\":{\"url\":\"https://s.pstatic.net/static/newsstand/2020/logo/dark/0604/391.png\"},\"showThumbnailView\":true,\"showListView\":true,\"regDate\":\"20241022 20:16:52\",\"_id\":null,\"@type\":\"PC-NEWSSTAND-PRESS-BLOCK\",\"@code\":null,\"@template\":\"NONE\",\"@flowId\":null,\"@flowExecutionId\":null,\"@provider\":null,\"@lastModifiedAt\":null},{\"@type\":\"PC-NEWSSTAND-PRESS-BLOCK\",\"blocks\":null,\"materials\":null,\"excludeInPaging\":false,\"positionForPaging\":0,\"realtime\":false,\"pid\":\"030\",\"name\":\"전자신문\",\"logoLight\":{\"url\":\"https://s.pstatic.net/static/newsstand/2020/logo/light/0604/030.png\"},\"logoDark\":{\"url\":\"https://s.pstatic.net/static/newsstand/2020/logo/dark/0604/030.png\"},\"showThumbnailView\":true,\"showListView\":true,\"regDate\":\"20241023 14:00:18\",\"_id\":null,\"@type\":\"PC-NEWSSTAND-PRESS-BLOCK\",\"@code\":null,\"@template\":\"NONE\",\"@flowId\":null,\"@flowExecutionId\":null,\"@provider\":null,\"@lastModifiedAt\":null},{\"@type\":\"PC-NEWSSTAND-PRESS-BLOCK\",\"blocks\":null,\"materials\":null,\"excludeInPaging\":false,\"positionForPaging\":0,\"realtime\":false,\"pid\":\"031\",\"name\":\"아이뉴스24\",\"logoLight\":{\"url\":\"https://s.pstatic.net/static/newsstand/2020/logo/light/0604/031.png\"},\"logoDark\":{\"url\":\"https://s.pstatic.net/static/newsstand/2020/logo/dark/0604/031.png\"},\"showThumbnailView\":true,\"showListView\":true,\"regDate\":\"20241023 14:01:24\",\"_id\":null,\"@type\":\"PC-NEWSSTAND-PRESS-BLOCK\",\"@code\":null,\"@template\":\"NONE\",\"@flowId\":null,\"@flowExecutionId\":null,\"@provider\":null,\"@lastModifiedAt\":null},{\"@type\":\"PC-NEWSSTAND-PRESS-BLOCK\",\"blocks\":null,\"materials\":null,\"excludeInPaging\":false,\"positionForPaging\":0,\"realtime\":false,\"pid\":\"032\",\"name\":\"경향신문\",\"logoLight\":{\"url\":\"https://s.pstatic.net/static/newsstand/2020/logo/light/0604/032.png\"},\"logoDark\":{\"url\":\"https://s.pstatic.net/static/newsstand/2020/logo/dark/0604/032.png\"},\"showThumbnailView\":true,\"showListView\":true,\"regDate\":\"20241023 14:00:37\",\"_id\":null,\"@type\":\"PC-NEWSSTAND-PRESS-BLOCK\",\"@code\":null,\"@template\":\"NONE\",\"@flowId\":null,\"@flowExecutionId\":null,\"@provider\":null,\"@lastModifiedAt\":null},{\"@type\":\"PC-NEWSSTAND-PRESS-BLOCK\",\"blocks\":null,\"materials\":null,\"excludeInPaging\":false,\"positionForPaging\":0,\"realtime\":false,\"pid\":\"396\",\"name\":\"스포츠월드\",\"logoLight\":{\"url\":\"https://s.pstatic.net/static/newsstand/2020/logo/light/0604/396.png\"},\"logoDark\":{\"url\":\"https://s.pstatic.net/static/newsstand/2020/logo/dark/0604/396.png\"},\"showThumbnailView\":true,\"showListView\":true,\"regDate\":\"20241023 13:22:04\",\"_id\":null,\"@type\":\"PC-NEWSSTAND-PRESS-BLOCK\",\"@code\":null,\"@template\":\"NONE\",\"@flowId\":null,\"@flowExecutionId\":null,\"@provider\":null,\"@lastModifiedAt\":null},{\"@type\":\"PC-NEWSSTAND-PRESS-BLOCK\",\"blocks\":null,\"materials\":null,\"excludeInPaging\":false,\"positionForPaging\":0,\"realtime\":false,\"pid\":\"277\",\"name\":\"아시아경제\",\"logoLight\":{\"url\":\"https://s.pstatic.net/static/newsstand/2020/logo/light/0604/277.png\"},\"logoDark\":{\"url\":\"https://s.pstatic.net/static/newsstand/2020/logo/dark/0604/277.png\"},\"showThumbnailView\":true,\"showListView\":true,\"regDate\":\"20241023 13:50:08\",\"_id\":null,\"@type\":\"PC-NEWSSTAND-PRESS-BLOCK\",\"@code\":null,\"@template\":\"NONE\",\"@flowId\":null,\"@flowExecutionId\":null,\"@provider\":null,\"@lastModifiedAt\":null},{\"@type\":\"PC-NEWSSTAND-PRESS-BLOCK\",\"blocks\":null,\"materials\":null,\"excludeInPaging\":false,\"positionForPaging\":0,\"realtime\":false,\"pid\":\"950\",\"name\":\"월간중앙\",\"logoLight\":{\"url\":\"https://s.pstatic.net/static/newsstand/up/2024/1015/nsd144951657.png\"},\"logoDark\":{\"url\":\"https://s.pstatic.net/static/newsstand/up/2024/1015/nsd14509252.png\"},\"showThumbnailView\":true,\"showListView\":true,\"regDate\":\"20241023 14:00:45\",\"_id\":null,\"@type\":\"PC-NEWSSTAND-PRESS-BLOCK\",\"@code\":null,\"@template\":\"NONE\",\"@flowId\":null,\"@flowExecutionId\":null,\"@provider\":null,\"@lastModifiedAt\":null},{\"@type\":\"PC-NEWSSTAND-PRESS-BLOCK\",\"blocks\":null,\"materials\":null,\"excludeInPaging\":false,\"positionForPaging\":0,\"realtime\":false,\"pid\":\"038\",\"name\":\"한국일보\",\"logoLight\":{\"url\":\"https://s.pstatic.net/static/newsstand/2020/logo/light/0604/038.png\"},\"logoDark\":{\"url\":\"https://s.pstatic.net/static/newsstand/2020/logo/dark/0604/038.png\"},\"showThumbnailView\":true,\"showListView\":true,\"regDate\":\"20241023 14:00:10\",\"_id\":null,\"@type\":\"PC-NEWSSTAND-PRESS-BLOCK\",\"@code\":null,\"@template\":\"NONE\",\"@flowId\":null,\"@flowExecutionId\":null,\"@provider\":null,\"@lastModifiedAt\":null},{\"@type\":\"PC-NEWSSTAND-PRESS-BLOCK\",\"blocks\":null,\"materials\":null,\"excludeInPaging\":false,\"positionForPaging\":0,\"realtime\":false,\"pid\":\"830\",\"name\":\"게임동아\",\"logoLight\":{\"url\":\"https://s.pstatic.net/static/newsstand/up/2021/0211/nsd02321523.png\"},\"logoDark\":{\"url\":\"https://s.pstatic.net/static/newsstand/up/2021/0211/nsd02332888.png\"},\"showThumbnailView\":true,\"showListView\":true,\"regDate\":\"20241023 13:41:22\",\"_id\":null,\"@type\":\"PC-NEWSSTAND-PRESS-BLOCK\",\"@code\":null,\"@template\":\"NONE\",\"@flowId\":null,\"@flowExecutionId\":null,\"@provider\":null,\"@lastModifiedAt\":null},{\"@type\":\"PC-NEWSSTAND-PRESS-BLOCK\",\"blocks\":null,\"materials\":null,\"excludeInPaging\":false,\"positionForPaging\":0,\"realtime\":false,\"pid\":\"951\",\"name\":\"포브스코리아\",\"logoLight\":{\"url\":\"https://s.pstatic.net/static/newsstand/2020/logo/light/0604/951.png\"},\"logoDark\":{\"url\":\"https://s.pstatic.net/static/newsstand/2020/logo/dark/0604/951.png\"},\"showThumbnailView\":true,\"showListView\":true,\"regDate\":\"20241023 14:00:00\",\"_id\":null,\"@type\":\"PC-NEWSSTAND-PRESS-BLOCK\",\"@code\":null,\"@template\":\"NONE\",\"@flowId\":null,\"@flowExecutionId\":null,\"@provider\":null,\"@lastModifiedAt\":null},{\"@type\":\"PC-NEWSSTAND-PRESS-BLOCK\",\"blocks\":null,\"materials\":null,\"excludeInPaging\":false,\"positionForPaging\":0,\"realtime\":false,\"pid\":\"952\",\"name\":\"보안뉴스\",\"logoLight\":{\"url\":\"https://s.pstatic.net/static/newsstand/2020/logo/light/0604/952.png\"},\"logoDark\":{\"url\":\"https://s.pstatic.net/static/newsstand/2020/logo/dark/0604/952.png\"},\"showThumbnailView\":true,\"showListView\":true,\"regDate\":\"20241023 12:18:00\",\"_id\":null,\"@type\":\"PC-NEWSSTAND-PRESS-BLOCK\",\"@code\":null,\"@template\":\"NONE\",\"@flowId\":null,\"@flowExecutionId\":null,\"@provider\":null,\"@lastModifiedAt\":null},{\"@type\":\"PC-NEWSSTAND-PRESS-BLOCK\",\"blocks\":null,\"materials\":null,\"excludeInPaging\":false,\"positionForPaging\":0,\"realtime\":false,\"pid\":\"953\",\"name\":\"디지털투데이\",\"logoLight\":{\"url\":\"https://s.pstatic.net/static/newsstand/2020/logo/light/0604/953.png\"},\"logoDark\":{\"url\":\"https://s.pstatic.net/static/newsstand/2020/logo/dark/0604/953.png\"},\"showThumbnailView\":true,\"showListView\":true,\"regDate\":\"20241023 14:00:03\",\"_id\":null,\"@type\":\"PC-NEWSSTAND-PRESS-BLOCK\",\"@code\":null,\"@template\":\"NONE\",\"@flowId\":null,\"@flowExecutionId\":null,\"@provider\":null,\"@lastModifiedAt\":null},{\"@type\":\"PC-NEWSSTAND-PRESS-BLOCK\",\"blocks\":null,\"materials\":null,\"excludeInPaging\":false,\"positionForPaging\":0,\"realtime\":false,\"pid\":\"954\",\"name\":\"CNB뉴스\",\"logoLight\":{\"url\":\"https://s.pstatic.net/static/newsstand/2020/logo/light/0604/954.png\"},\"logoDark\":{\"url\":\"https://s.pstatic.net/static/newsstand/2020/logo/dark/0604/954.png\"},\"showThumbnailView\":true,\"showListView\":true,\"regDate\":\"20241023 11:45:02\",\"_id\":null,\"@type\":\"PC-NEWSSTAND-PRESS-BLOCK\",\"@code\":null,\"@template\":\"NONE\",\"@flowId\":null,\"@flowExecutionId\":null,\"@provider\":null,\"@lastModifiedAt\":null},{\"@type\":\"PC-NEWSSTAND-PRESS-BLOCK\",\"blocks\":null,\"materials\":null,\"excludeInPaging\":false,\"positionForPaging\":0,\"realtime\":false,\"pid\":\"955\",\"name\":\"독서신문\",\"logoLight\":{\"url\":\"https://s.pstatic.net/static/newsstand/2020/logo/light/0604/955.png\"},\"logoDark\":{\"url\":\"https://s.pstatic.net/static/newsstand/2020/logo/dark/0604/955.png\"},\"showThumbnailView\":true,\"showListView\":true,\"regDate\":\"20241023 14:00:06\",\"_id\":null,\"@type\":\"PC-NEWSSTAND-PRESS-BLOCK\",\"@code\":null,\"@template\":\"NONE\",\"@flowId\":null,\"@flowExecutionId\":null,\"@provider\":null,\"@lastModifiedAt\":null},{\"@type\":\"PC-NEWSSTAND-PRESS-BLOCK\",\"blocks\":null,\"materials\":null,\"excludeInPaging\":false,\"positionForPaging\":0,\"realtime\":false,\"pid\":\"956\",\"name\":\"철강금속신문\",\"logoLight\":{\"url\":\"https://s.pstatic.net/static/newsstand/2020/logo/light/0604/956.png\"},\"logoDark\":{\"url\":\"https://s.pstatic.net/static/newsstand/2020/logo/dark/0604/956.png\"},\"showThumbnailView\":true,\"showListView\":true,\"regDate\":\"20241023 14:00:04\",\"_id\":null,\"@type\":\"PC-NEWSSTAND-PRESS-BLOCK\",\"@code\":null,\"@template\":\"NONE\",\"@flowId\":null,\"@flowExecutionId\":null,\"@provider\":null,\"@lastModifiedAt\":null},{\"@type\":\"PC-NEWSSTAND-PRESS-BLOCK\",\"blocks\":null,\"materials\":null,\"excludeInPaging\":false,\"positionForPaging\":0,\"realtime\":false,\"pid\":\"957\",\"name\":\"시사위크\",\"logoLight\":{\"url\":\"https://s.pstatic.net/static/newsstand/2020/logo/light/0604/957.png\"},\"logoDark\":{\"url\":\"https://s.pstatic.net/static/newsstand/2020/logo/dark/0604/957.png\"},\"showThumbnailView\":true,\"showListView\":true,\"regDate\":\"20241022 18:18:11\",\"_id\":null,\"@type\":\"PC-NEWSSTAND-PRESS-BLOCK\",\"@code\":null,\"@template\":\"NONE\",\"@flowId\":null,\"@flowExecutionId\":null,\"@provider\":null,\"@lastModifiedAt\":null},{\"@type\":\"PC-NEWSSTAND-PRESS-BLOCK\",\"blocks\":null,\"materials\":null,\"excludeInPaging\":false,\"positionForPaging\":0,\"realtime\":false,\"pid\":\"958\",\"name\":\"베리타스알파\",\"logoLight\":{\"url\":\"https://s.pstatic.net/static/newsstand/up/2023/0826/nsd0145257.png\"},\"logoDark\":{\"url\":\"https://s.pstatic.net/static/newsstand/up/2023/0826/nsd0136682.png\"},\"showThumbnailView\":true,\"showListView\":true,\"regDate\":\"20241023 14:00:43\",\"_id\":null,\"@type\":\"PC-NEWSSTAND-PRESS-BLOCK\",\"@code\":null,\"@template\":\"NONE\",\"@flowId\":null,\"@flowExecutionId\":null,\"@provider\":null,\"@lastModifiedAt\":null},{\"@type\":\"PC-NEWSSTAND-PRESS-BLOCK\",\"blocks\":null,\"materials\":null,\"excludeInPaging\":false,\"positionForPaging\":0,\"realtime\":false,\"pid\":\"959\",\"name\":\"M이코노미뉴스\",\"logoLight\":{\"url\":\"https://s.pstatic.net/static/newsstand/up/2021/1221/nsd15292271.png\"},\"logoDark\":{\"url\":\"https://s.pstatic.net/static/newsstand/up/2021/1221/nsd171157172.png\"},\"showThumbnailView\":true,\"showListView\":true,\"regDate\":\"20241023 14:00:08\",\"_id\":null,\"@type\":\"PC-NEWSSTAND-PRESS-BLOCK\",\"@code\":null,\"@template\":\"NONE\",\"@flowId\":null,\"@flowExecutionId\":null,\"@provider\":null,\"@lastModifiedAt\":null},{\"@type\":\"PC-NEWSSTAND-PRESS-BLOCK\",\"blocks\":null,\"materials\":null,\"excludeInPaging\":false,\"positionForPaging\":0,\"realtime\":false,\"pid\":\"040\",\"name\":\"코리아타임스\",\"logoLight\":{\"url\":\"https://s.pstatic.net/static/newsstand/2020/logo/light/0604/040.png\"},\"logoDark\":{\"url\":\"https://s.pstatic.net/static/newsstand/2020/logo/dark/0604/040.png\"},\"showThumbnailView\":true,\"showListView\":true,\"regDate\":\"20241023 13:55:10\",\"_id\":null,\"@type\":\"PC-NEWSSTAND-PRESS-BLOCK\",\"@code\":null,\"@template\":\"NONE\",\"@flowId\":null,\"@flowExecutionId\":null,\"@provider\":null,\"@lastModifiedAt\":null},{\"@type\":\"PC-NEWSSTAND-PRESS-BLOCK\",\"blocks\":null,\"materials\":null,\"excludeInPaging\":false,\"positionForPaging\":0,\"realtime\":false,\"pid\":\"042\",\"name\":\"데일리한국\",\"logoLight\":{\"url\":\"https://s.pstatic.net/static/newsstand/2020/logo/light/0604/042.png\"},\"logoDark\":{\"url\":\"https://s.pstatic.net/static/newsstand/2020/logo/dark/0604/042.png\"},\"showThumbnailView\":true,\"showListView\":true,\"regDate\":\"20241023 14:00:30\",\"_id\":null,\"@type\":\"PC-NEWSSTAND-PRESS-BLOCK\",\"@code\":null,\"@template\":\"NONE\",\"@flowId\":null,\"@flowExecutionId\":null,\"@provider\":null,\"@lastModifiedAt\":null},{\"@type\":\"PC-NEWSSTAND-PRESS-BLOCK\",\"blocks\":null,\"materials\":null,\"excludeInPaging\":false,\"positionForPaging\":0,\"realtime\":false,\"pid\":\"044\",\"name\":\"코리아헤럴드\",\"logoLight\":{\"url\":\"https://s.pstatic.net/static/newsstand/2020/logo/light/0604/044.png\"},\"logoDark\":{\"url\":\"https://s.pstatic.net/static/newsstand/2020/logo/dark/0604/044.png\"},\"showThumbnailView\":true,\"showListView\":true,\"regDate\":\"20241022 19:17:46\",\"_id\":null,\"@type\":\"PC-NEWSSTAND-PRESS-BLOCK\",\"@code\":null,\"@template\":\"NONE\",\"@flowId\":null,\"@flowExecutionId\":null,\"@provider\":null,\"@lastModifiedAt\":null},{\"@type\":\"PC-NEWSSTAND-PRESS-BLOCK\",\"blocks\":null,\"materials\":null,\"excludeInPaging\":false,\"positionForPaging\":0,\"realtime\":false,\"pid\":\"047\",\"name\":\"오마이뉴스\",\"logoLight\":{\"url\":\"https://s.pstatic.net/static/newsstand/2020/logo/light/0604/047.png\"},\"logoDark\":{\"url\":\"https://s.pstatic.net/static/newsstand/2020/logo/dark/0604/047.png\"},\"showThumbnailView\":true,\"showListView\":true,\"regDate\":\"20241023 14:05:08\",\"_id\":null,\"@type\":\"PC-NEWSSTAND-PRESS-BLOCK\",\"@code\":null,\"@template\":\"NONE\",\"@flowId\":null,\"@flowExecutionId\":null,\"@provider\":null,\"@lastModifiedAt\":null},{\"@type\":\"PC-NEWSSTAND-PRESS-BLOCK\",\"blocks\":null,\"materials\":null,\"excludeInPaging\":false,\"positionForPaging\":0,\"realtime\":false,\"pid\":\"960\",\"name\":\"대한경제\",\"logoLight\":{\"url\":\"https://s.pstatic.net/static/newsstand/up/2022/1115/nsd153942530.png\"},\"logoDark\":{\"url\":\"https://s.pstatic.net/static/newsstand/up/2022/1115/nsd153934427.png\"},\"showThumbnailView\":true,\"showListView\":true,\"regDate\":\"20241023 14:00:28\",\"_id\":null,\"@type\":\"PC-NEWSSTAND-PRESS-BLOCK\",\"@code\":null,\"@template\":\"NONE\",\"@flowId\":null,\"@flowExecutionId\":null,\"@provider\":null,\"@lastModifiedAt\":null},{\"@type\":\"PC-NEWSSTAND-PRESS-BLOCK\",\"blocks\":null,\"materials\":null,\"excludeInPaging\":false,\"positionForPaging\":0,\"realtime\":false,\"pid\":\"961\",\"name\":\"메트로신문\",\"logoLight\":{\"url\":\"https://s.pstatic.net/static/newsstand/2020/logo/light/0604/961.png\"},\"logoDark\":{\"url\":\"https://s.pstatic.net/static/newsstand/2020/logo/dark/0604/961.png\"},\"showThumbnailView\":true,\"showListView\":true,\"regDate\":\"20241023 13:11:15\",\"_id\":null,\"@type\":\"PC-NEWSSTAND-PRESS-BLOCK\",\"@code\":null,\"@template\":\"NONE\",\"@flowId\":null,\"@flowExecutionId\":null,\"@provider\":null,\"@lastModifiedAt\":null},{\"@type\":\"PC-NEWSSTAND-PRESS-BLOCK\",\"blocks\":null,\"materials\":null,\"excludeInPaging\":false,\"positionForPaging\":0,\"realtime\":false,\"pid\":\"962\",\"name\":\"스포츠한국\",\"logoLight\":{\"url\":\"https://s.pstatic.net/static/newsstand/2020/logo/light/0604/962.png\"},\"logoDark\":{\"url\":\"https://s.pstatic.net/static/newsstand/2020/logo/dark/0604/962.png\"},\"showThumbnailView\":true,\"showListView\":true,\"regDate\":\"20241023 14:00:33\",\"_id\":null,\"@type\":\"PC-NEWSSTAND-PRESS-BLOCK\",\"@code\":null,\"@template\":\"NONE\",\"@flowId\":null,\"@flowExecutionId\":null,\"@provider\":null,\"@lastModifiedAt\":null},{\"@type\":\"PC-NEWSSTAND-PRESS-BLOCK\",\"blocks\":null,\"materials\":null,\"excludeInPaging\":false,\"positionForPaging\":0,\"realtime\":false,\"pid\":\"963\",\"name\":\"에너지경제\",\"logoLight\":{\"url\":\"https://s.pstatic.net/static/newsstand/2020/logo/light/0604/963.png\"},\"logoDark\":{\"url\":\"https://s.pstatic.net/static/newsstand/2020/logo/dark/0604/963.png\"},\"showThumbnailView\":true,\"showListView\":true,\"regDate\":\"20241023 14:00:02\",\"_id\":null,\"@type\":\"PC-NEWSSTAND-PRESS-BLOCK\",\"@code\":null,\"@template\":\"NONE\",\"@flowId\":null,\"@flowExecutionId\":null,\"@provider\":null,\"@lastModifiedAt\":null},{\"@type\":\"PC-NEWSSTAND-PRESS-BLOCK\",\"blocks\":null,\"materials\":null,\"excludeInPaging\":false,\"positionForPaging\":0,\"realtime\":false,\"pid\":\"964\",\"name\":\"이뉴스투데이\",\"logoLight\":{\"url\":\"https://s.pstatic.net/static/newsstand/2020/logo/light/0604/964.png\"},\"logoDark\":{\"url\":\"https://s.pstatic.net/static/newsstand/2020/logo/dark/0604/964.png\"},\"showThumbnailView\":true,\"showListView\":true,\"regDate\":\"20241023 14:00:22\",\"_id\":null,\"@type\":\"PC-NEWSSTAND-PRESS-BLOCK\",\"@code\":null,\"@template\":\"NONE\",\"@flowId\":null,\"@flowExecutionId\":null,\"@provider\":null,\"@lastModifiedAt\":null},{\"@type\":\"PC-NEWSSTAND-PRESS-BLOCK\",\"blocks\":null,\"materials\":null,\"excludeInPaging\":false,\"positionForPaging\":0,\"realtime\":false,\"pid\":\"965\",\"name\":\"전기신문\",\"logoLight\":{\"url\":\"https://s.pstatic.net/static/newsstand/2020/logo/light/0604/965.png\"},\"logoDark\":{\"url\":\"https://s.pstatic.net/static/newsstand/2020/logo/dark/0604/965.png\"},\"showThumbnailView\":true,\"showListView\":true,\"regDate\":\"20241023 14:00:30\",\"_id\":null,\"@type\":\"PC-NEWSSTAND-PRESS-BLOCK\",\"@code\":null,\"@template\":\"NONE\",\"@flowId\":null,\"@flowExecutionId\":null,\"@provider\":null,\"@lastModifiedAt\":null},{\"@type\":\"PC-NEWSSTAND-PRESS-BLOCK\",\"blocks\":null,\"materials\":null,\"excludeInPaging\":false,\"positionForPaging\":0,\"realtime\":false,\"pid\":\"966\",\"name\":\"정신의학신문\",\"logoLight\":{\"url\":\"https://s.pstatic.net/static/newsstand/2020/logo/light/0604/966.png\"},\"logoDark\":{\"url\":\"https://s.pstatic.net/static/newsstand/2020/logo/dark/0604/966.png\"},\"showThumbnailView\":true,\"showListView\":true,\"regDate\":\"20241023 14:00:27\",\"_id\":null,\"@type\":\"PC-NEWSSTAND-PRESS-BLOCK\",\"@code\":null,\"@template\":\"NONE\",\"@flowId\":null,\"@flowExecutionId\":null,\"@provider\":null,\"@lastModifiedAt\":null},{\"@type\":\"PC-NEWSSTAND-PRESS-BLOCK\",\"blocks\":null,\"materials\":null,\"excludeInPaging\":false,\"positionForPaging\":0,\"realtime\":false,\"pid\":\"967\",\"name\":\"코리아쉬핑가제트\",\"logoLight\":{\"url\":\"https://s.pstatic.net/static/newsstand/2020/logo/light/0604/967.png\"},\"logoDark\":{\"url\":\"https://s.pstatic.net/static/newsstand/2020/logo/dark/0604/967.png\"},\"showThumbnailView\":true,\"showListView\":true,\"regDate\":\"20241023 14:00:02\",\"_id\":null,\"@type\":\"PC-NEWSSTAND-PRESS-BLOCK\",\"@code\":null,\"@template\":\"NONE\",\"@flowId\":null,\"@flowExecutionId\":null,\"@provider\":null,\"@lastModifiedAt\":null},{\"@type\":\"PC-NEWSSTAND-PRESS-BLOCK\",\"blocks\":null,\"materials\":null,\"excludeInPaging\":false,\"positionForPaging\":0,\"realtime\":false,\"pid\":\"968\",\"name\":\"한국금융신문\",\"logoLight\":{\"url\":\"https://s.pstatic.net/static/newsstand/2020/logo/light/0604/968.png\"},\"logoDark\":{\"url\":\"https://s.pstatic.net/static/newsstand/2020/logo/dark/0604/968.png\"},\"showThumbnailView\":true,\"showListView\":true,\"regDate\":\"20241023 13:49:54\",\"_id\":null,\"@type\":\"PC-NEWSSTAND-PRESS-BLOCK\",\"@code\":null,\"@template\":\"NONE\",\"@flowId\":null,\"@flowExecutionId\":null,\"@provider\":null,\"@lastModifiedAt\":null},{\"@type\":\"PC-NEWSSTAND-PRESS-BLOCK\",\"blocks\":null,\"materials\":null,\"excludeInPaging\":false,\"positionForPaging\":0,\"realtime\":false,\"pid\":\"969\",\"name\":\"매일노동뉴스\",\"logoLight\":{\"url\":\"https://s.pstatic.net/static/newsstand/2020/logo/light/0604/969.png\"},\"logoDark\":{\"url\":\"https://s.pstatic.net/static/newsstand/2020/logo/dark/0604/969.png\"},\"showThumbnailView\":true,\"showListView\":true,\"regDate\":\"20241023 07:40:10\",\"_id\":null,\"@type\":\"PC-NEWSSTAND-PRESS-BLOCK\",\"@code\":null,\"@template\":\"NONE\",\"@flowId\":null,\"@flowExecutionId\":null,\"@provider\":null,\"@lastModifiedAt\":null},{\"@type\":\"PC-NEWSSTAND-PRESS-BLOCK\",\"blocks\":null,\"materials\":null,\"excludeInPaging\":false,\"positionForPaging\":0,\"realtime\":false,\"pid\":\"050\",\"name\":\"한경비즈니스\",\"logoLight\":{\"url\":\"https://s.pstatic.net/static/newsstand/up/2020/0928/nsd125033437.png\"},\"logoDark\":{\"url\":\"https://s.pstatic.net/static/newsstand/up/2020/0928/nsd125026855.png\"},\"showThumbnailView\":true,\"showListView\":true,\"regDate\":\"20241023 09:37:31\",\"_id\":null,\"@type\":\"PC-NEWSSTAND-PRESS-BLOCK\",\"@code\":null,\"@template\":\"NONE\",\"@flowId\":null,\"@flowExecutionId\":null,\"@provider\":null,\"@lastModifiedAt\":null},{\"@type\":\"PC-NEWSSTAND-PRESS-BLOCK\",\"blocks\":null,\"materials\":null,\"excludeInPaging\":false,\"positionForPaging\":0,\"realtime\":false,\"pid\":\"293\",\"name\":\"블로터\",\"logoLight\":{\"url\":\"https://s.pstatic.net/static/newsstand/2020/logo/light/0604/293.png\"},\"logoDark\":{\"url\":\"https://s.pstatic.net/static/newsstand/2020/logo/dark/0604/293.png\"},\"showThumbnailView\":true,\"showListView\":true,\"regDate\":\"20241023 14:00:40\",\"_id\":null,\"@type\":\"PC-NEWSSTAND-PRESS-BLOCK\",\"@code\":null,\"@template\":\"NONE\",\"@flowId\":null,\"@flowExecutionId\":null,\"@provider\":null,\"@lastModifiedAt\":null},{\"@type\":\"PC-NEWSSTAND-PRESS-BLOCK\",\"blocks\":null,\"materials\":null,\"excludeInPaging\":false,\"positionForPaging\":0,\"realtime\":false,\"pid\":\"052\",\"name\":\"YTN\",\"logoLight\":{\"url\":\"https://s.pstatic.net/static/newsstand/2020/logo/light/0604/052.png\"},\"logoDark\":{\"url\":\"https://s.pstatic.net/static/newsstand/2020/logo/dark/0604/052.png\"},\"showThumbnailView\":true,\"showListView\":true,\"regDate\":\"20241023 13:32:03\",\"_id\":null,\"@type\":\"PC-NEWSSTAND-PRESS-BLOCK\",\"@code\":null,\"@template\":\"NONE\",\"@flowId\":null,\"@flowExecutionId\":null,\"@provider\":null,\"@lastModifiedAt\":null},{\"@type\":\"PC-NEWSSTAND-PRESS-BLOCK\",\"blocks\":null,\"materials\":null,\"excludeInPaging\":false,\"positionForPaging\":0,\"realtime\":false,\"pid\":\"296\",\"name\":\"코메디닷컴\",\"logoLight\":{\"url\":\"https://s.pstatic.net/static/newsstand/2020/logo/light/0604/296.png\"},\"logoDark\":{\"url\":\"https://s.pstatic.net/static/newsstand/2020/logo/dark/0604/296.png\"},\"showThumbnailView\":true,\"showListView\":true,\"regDate\":\"20241023 13:19:46\",\"_id\":null,\"@type\":\"PC-NEWSSTAND-PRESS-BLOCK\",\"@code\":null,\"@template\":\"NONE\",\"@flowId\":null,\"@flowExecutionId\":null,\"@provider\":null,\"@lastModifiedAt\":null},{\"@type\":\"PC-NEWSSTAND-PRESS-BLOCK\",\"blocks\":null,\"materials\":null,\"excludeInPaging\":false,\"positionForPaging\":0,\"realtime\":false,\"pid\":\"055\",\"name\":\"SBS\",\"logoLight\":{\"url\":\"https://s.pstatic.net/static/newsstand/2020/logo/light/0604/055.png\"},\"logoDark\":{\"url\":\"https://s.pstatic.net/static/newsstand/2020/logo/dark/0604/055.png\"},\"showThumbnailView\":true,\"showListView\":true,\"regDate\":\"20241023 14:01:20\",\"_id\":null,\"@type\":\"PC-NEWSSTAND-PRESS-BLOCK\",\"@code\":null,\"@template\":\"NONE\",\"@flowId\":null,\"@flowExecutionId\":null,\"@provider\":null,\"@lastModifiedAt\":null},{\"@type\":\"PC-NEWSSTAND-PRESS-BLOCK\",\"blocks\":null,\"materials\":null,\"excludeInPaging\":false,\"positionForPaging\":0,\"realtime\":false,\"pid\":\"056\",\"name\":\"KBS\",\"logoLight\":{\"url\":\"https://s.pstatic.net/static/newsstand/2020/logo/light/0604/056.png\"},\"logoDark\":{\"url\":\"https://s.pstatic.net/static/newsstand/2020/logo/dark/0604/056.png\"},\"showThumbnailView\":true,\"showListView\":true,\"regDate\":\"20241023 14:04:10\",\"_id\":null,\"@type\":\"PC-NEWSSTAND-PRESS-BLOCK\",\"@code\":null,\"@template\":\"NONE\",\"@flowId\":null,\"@flowExecutionId\":null,\"@provider\":null,\"@lastModifiedAt\":null},{\"@type\":\"PC-NEWSSTAND-PRESS-BLOCK\",\"blocks\":null,\"materials\":null,\"excludeInPaging\":false,\"positionForPaging\":0,\"realtime\":false,\"pid\":\"057\",\"name\":\"MBN\",\"logoLight\":{\"url\":\"https://s.pstatic.net/static/newsstand/2020/logo/light/0604/057.png\"},\"logoDark\":{\"url\":\"https://s.pstatic.net/static/newsstand/2020/logo/dark/0604/057.png\"},\"showThumbnailView\":true,\"showListView\":true,\"regDate\":\"20241023 14:05:01\",\"_id\":null,\"@type\":\"PC-NEWSSTAND-PRESS-BLOCK\",\"@code\":null,\"@template\":\"NONE\",\"@flowId\":null,\"@flowExecutionId\":null,\"@provider\":null,\"@lastModifiedAt\":null},{\"@type\":\"PC-NEWSSTAND-PRESS-BLOCK\",\"blocks\":null,\"materials\":null,\"excludeInPaging\":false,\"positionForPaging\":0,\"realtime\":false,\"pid\":\"970\",\"name\":\"소비자가만드는신문\",\"logoLight\":{\"url\":\"https://s.pstatic.net/static/newsstand/2020/logo/light/0604/970.png\"},\"logoDark\":{\"url\":\"https://s.pstatic.net/static/newsstand/2020/logo/dark/0604/970.png\"},\"showThumbnailView\":true,\"showListView\":true,\"regDate\":\"20241023 09:24:06\",\"_id\":null,\"@type\":\"PC-NEWSSTAND-PRESS-BLOCK\",\"@code\":null,\"@template\":\"NONE\",\"@flowId\":null,\"@flowExecutionId\":null,\"@provider\":null,\"@lastModifiedAt\":null},{\"@type\":\"PC-NEWSSTAND-PRESS-BLOCK\",\"blocks\":null,\"materials\":null,\"excludeInPaging\":false,\"positionForPaging\":0,\"realtime\":false,\"pid\":\"971\",\"name\":\"일요시사\",\"logoLight\":{\"url\":\"https://s.pstatic.net/static/newsstand/2020/logo/light/0604/971.png\"},\"logoDark\":{\"url\":\"https://s.pstatic.net/static/newsstand/2020/logo/dark/0604/971.png\"},\"showThumbnailView\":true,\"showListView\":true,\"regDate\":\"20241023 13:50:02\",\"_id\":null,\"@type\":\"PC-NEWSSTAND-PRESS-BLOCK\",\"@code\":null,\"@template\":\"NONE\",\"@flowId\":null,\"@flowExecutionId\":null,\"@provider\":null,\"@lastModifiedAt\":null},{\"@type\":\"PC-NEWSSTAND-PRESS-BLOCK\",\"blocks\":null,\"materials\":null,\"excludeInPaging\":false,\"positionForPaging\":0,\"realtime\":false,\"pid\":\"972\",\"name\":\"PD저널\",\"logoLight\":{\"url\":\"https://s.pstatic.net/static/newsstand/2020/logo/light/0604/972.png\"},\"logoDark\":{\"url\":\"https://s.pstatic.net/static/newsstand/2020/logo/dark/0604/972.png\"},\"showThumbnailView\":true,\"showListView\":true,\"regDate\":\"20241021 18:35:39\",\"_id\":null,\"@type\":\"PC-NEWSSTAND-PRESS-BLOCK\",\"@code\":null,\"@template\":\"NONE\",\"@flowId\":null,\"@flowExecutionId\":null,\"@provider\":null,\"@lastModifiedAt\":null},{\"@type\":\"PC-NEWSSTAND-PRESS-BLOCK\",\"blocks\":null,\"materials\":null,\"excludeInPaging\":false,\"positionForPaging\":0,\"realtime\":false,\"pid\":\"973\",\"name\":\"비즈한국\",\"logoLight\":{\"url\":\"https://s.pstatic.net/static/newsstand/2020/logo/light/0604/973.png\"},\"logoDark\":{\"url\":\"https://s.pstatic.net/static/newsstand/2020/logo/dark/0604/973.png\"},\"showThumbnailView\":true,\"showListView\":true,\"regDate\":\"20241023 14:01:52\",\"_id\":null,\"@type\":\"PC-NEWSSTAND-PRESS-BLOCK\",\"@code\":null,\"@template\":\"NONE\",\"@flowId\":null,\"@flowExecutionId\":null,\"@provider\":null,\"@lastModifiedAt\":null},{\"@type\":\"PC-NEWSSTAND-PRESS-BLOCK\",\"blocks\":null,\"materials\":null,\"excludeInPaging\":false,\"positionForPaging\":0,\"realtime\":false,\"pid\":\"974\",\"name\":\"BBS NEWS\",\"logoLight\":{\"url\":\"https://s.pstatic.net/static/newsstand/2020/logo/light/0604/974.png\"},\"logoDark\":{\"url\":\"https://s.pstatic.net/static/newsstand/2020/logo/dark/0604/974.png\"},\"showThumbnailView\":true,\"showListView\":true,\"regDate\":\"20241019 17:56:46\",\"_id\":null,\"@type\":\"PC-NEWSSTAND-PRESS-BLOCK\",\"@code\":null,\"@template\":\"NONE\",\"@flowId\":null,\"@flowExecutionId\":null,\"@provider\":null,\"@lastModifiedAt\":null},{\"@type\":\"PC-NEWSSTAND-PRESS-BLOCK\",\"blocks\":null,\"materials\":null,\"excludeInPaging\":false,\"positionForPaging\":0,\"realtime\":false,\"pid\":\"975\",\"name\":\"시사저널이코노미\",\"logoLight\":{\"url\":\"https://s.pstatic.net/static/newsstand/2020/logo/light/0604/975.png\"},\"logoDark\":{\"url\":\"https://s.pstatic.net/static/newsstand/2020/logo/dark/0604/975.png\"},\"showThumbnailView\":true,\"showListView\":true,\"regDate\":\"20241023 14:00:09\",\"_id\":null,\"@type\":\"PC-NEWSSTAND-PRESS-BLOCK\",\"@code\":null,\"@template\":\"NONE\",\"@flowId\":null,\"@flowExecutionId\":null,\"@provider\":null,\"@lastModifiedAt\":null},{\"@type\":\"PC-NEWSSTAND-PRESS-BLOCK\",\"blocks\":null,\"materials\":null,\"excludeInPaging\":false,\"positionForPaging\":0,\"realtime\":false,\"pid\":\"976\",\"name\":\"무등일보\",\"logoLight\":{\"url\":\"https://s.pstatic.net/static/newsstand/2020/logo/light/0604/976.png\"},\"logoDark\":{\"url\":\"https://s.pstatic.net/static/newsstand/2020/logo/dark/0604/976.png\"},\"showThumbnailView\":true,\"showListView\":true,\"regDate\":\"20241023 14:00:10\",\"_id\":null,\"@type\":\"PC-NEWSSTAND-PRESS-BLOCK\",\"@code\":null,\"@template\":\"NONE\",\"@flowId\":null,\"@flowExecutionId\":null,\"@provider\":null,\"@lastModifiedAt\":null},{\"@type\":\"PC-NEWSSTAND-PRESS-BLOCK\",\"blocks\":null,\"materials\":null,\"excludeInPaging\":false,\"positionForPaging\":0,\"realtime\":false,\"pid\":\"977\",\"name\":\"헬로디디\",\"logoLight\":{\"url\":\"https://s.pstatic.net/static/newsstand/2020/logo/light/0604/977.png\"},\"logoDark\":{\"url\":\"https://s.pstatic.net/static/newsstand/2020/logo/dark/0604/977.png\"},\"showThumbnailView\":true,\"showListView\":true,\"regDate\":\"20241023 14:00:24\",\"_id\":null,\"@type\":\"PC-NEWSSTAND-PRESS-BLOCK\",\"@code\":null,\"@template\":\"NONE\",\"@flowId\":null,\"@flowExecutionId\":null,\"@provider\":null,\"@lastModifiedAt\":null},{\"@type\":\"PC-NEWSSTAND-PRESS-BLOCK\",\"blocks\":null,\"materials\":null,\"excludeInPaging\":false,\"positionForPaging\":0,\"realtime\":false,\"pid\":\"978\",\"name\":\"경북도민일보\",\"logoLight\":{\"url\":\"https://s.pstatic.net/static/newsstand/2020/logo/light/0604/978.png\"},\"logoDark\":{\"url\":\"https://s.pstatic.net/static/newsstand/2020/logo/dark/0604/978.png\"},\"showThumbnailView\":true,\"showListView\":true,\"regDate\":\"20241022 18:45:08\",\"_id\":null,\"@type\":\"PC-NEWSSTAND-PRESS-BLOCK\",\"@code\":null,\"@template\":\"NONE\",\"@flowId\":null,\"@flowExecutionId\":null,\"@provider\":null,\"@lastModifiedAt\":null},{\"@type\":\"PC-NEWSSTAND-PRESS-BLOCK\",\"blocks\":null,\"materials\":null,\"excludeInPaging\":false,\"positionForPaging\":0,\"realtime\":false,\"pid\":\"979\",\"name\":\"약사공론\",\"logoLight\":{\"url\":\"https://s.pstatic.net/static/newsstand/2020/logo/light/0604/979.png\"},\"logoDark\":{\"url\":\"https://s.pstatic.net/static/newsstand/2020/logo/dark/0604/979.png\"},\"showThumbnailView\":true,\"showListView\":true,\"regDate\":\"20241023 12:00:56\",\"_id\":null,\"@type\":\"PC-NEWSSTAND-PRESS-BLOCK\",\"@code\":null,\"@template\":\"NONE\",\"@flowId\":null,\"@flowExecutionId\":null,\"@provider\":null,\"@lastModifiedAt\":null},{\"@type\":\"PC-NEWSSTAND-PRESS-BLOCK\",\"blocks\":null,\"materials\":null,\"excludeInPaging\":false,\"positionForPaging\":0,\"realtime\":false,\"pid\":\"980\",\"name\":\"KBC광주방송\",\"logoLight\":{\"url\":\"https://s.pstatic.net/static/newsstand/2020/logo/light/0604/980.png\"},\"logoDark\":{\"url\":\"https://s.pstatic.net/static/newsstand/2020/logo/dark/0604/980.png\"},\"showThumbnailView\":true,\"showListView\":true,\"regDate\":\"20241023 13:46:33\",\"_id\":null,\"@type\":\"PC-NEWSSTAND-PRESS-BLOCK\",\"@code\":null,\"@template\":\"NONE\",\"@flowId\":null,\"@flowExecutionId\":null,\"@provider\":null,\"@lastModifiedAt\":null},{\"@type\":\"PC-NEWSSTAND-PRESS-BLOCK\",\"blocks\":null,\"materials\":null,\"excludeInPaging\":false,\"positionForPaging\":0,\"realtime\":false,\"pid\":\"981\",\"name\":\"TBS\",\"logoLight\":{\"url\":\"https://s.pstatic.net/static/newsstand/2020/logo/light/0604/981.png\"},\"logoDark\":{\"url\":\"https://s.pstatic.net/static/newsstand/2020/logo/dark/0604/981.png\"},\"showThumbnailView\":true,\"showListView\":true,\"regDate\":\"20241023 14:05:42\",\"_id\":null,\"@type\":\"PC-NEWSSTAND-PRESS-BLOCK\",\"@code\":null,\"@template\":\"NONE\",\"@flowId\":null,\"@flowExecutionId\":null,\"@provider\":null,\"@lastModifiedAt\":null},{\"@type\":\"PC-NEWSSTAND-PRESS-BLOCK\",\"blocks\":null,\"materials\":null,\"excludeInPaging\":false,\"positionForPaging\":0,\"realtime\":false,\"pid\":\"982\",\"name\":\"이코노미조선\",\"logoLight\":{\"url\":\"https://s.pstatic.net/static/newsstand/2020/logo/light/0604/982.png\"},\"logoDark\":{\"url\":\"https://s.pstatic.net/static/newsstand/2020/logo/dark/0604/982.png\"},\"showThumbnailView\":true,\"showListView\":true,\"regDate\":\"20241021 11:11:14\",\"_id\":null,\"@type\":\"PC-NEWSSTAND-PRESS-BLOCK\",\"@code\":null,\"@template\":\"NONE\",\"@flowId\":null,\"@flowExecutionId\":null,\"@provider\":null,\"@lastModifiedAt\":null},{\"@type\":\"PC-NEWSSTAND-PRESS-BLOCK\",\"blocks\":null,\"materials\":null,\"excludeInPaging\":false,\"positionForPaging\":0,\"realtime\":false,\"pid\":\"983\",\"name\":\"중부매일\",\"logoLight\":{\"url\":\"https://s.pstatic.net/static/newsstand/2020/logo/light/0604/983.png\"},\"logoDark\":{\"url\":\"https://s.pstatic.net/static/newsstand/2020/logo/dark/0604/983.png\"},\"showThumbnailView\":true,\"showListView\":true,\"regDate\":\"20241022 19:16:54\",\"_id\":null,\"@type\":\"PC-NEWSSTAND-PRESS-BLOCK\",\"@code\":null,\"@template\":\"NONE\",\"@flowId\":null,\"@flowExecutionId\":null,\"@provider\":null,\"@lastModifiedAt\":null},{\"@type\":\"PC-NEWSSTAND-PRESS-BLOCK\",\"blocks\":null,\"materials\":null,\"excludeInPaging\":false,\"positionForPaging\":0,\"realtime\":false,\"pid\":\"984\",\"name\":\"낚시춘추\",\"logoLight\":{\"url\":\"https://s.pstatic.net/static/newsstand/2020/logo/light/0604/984.png\"},\"logoDark\":{\"url\":\"https://s.pstatic.net/static/newsstand/2020/logo/dark/0604/984.png\"},\"showThumbnailView\":true,\"showListView\":true,\"regDate\":\"20241022 09:25:00\",\"_id\":null,\"@type\":\"PC-NEWSSTAND-PRESS-BLOCK\",\"@code\":null,\"@template\":\"NONE\",\"@flowId\":null,\"@flowExecutionId\":null,\"@provider\":null,\"@lastModifiedAt\":null},{\"@type\":\"PC-NEWSSTAND-PRESS-BLOCK\",\"blocks\":null,\"materials\":null,\"excludeInPaging\":false,\"positionForPaging\":0,\"realtime\":false,\"pid\":\"986\",\"name\":\"투데이신문\",\"logoLight\":{\"url\":\"https://s.pstatic.net/static/newsstand/up/2020/1019/nsd144531857.png\"},\"logoDark\":{\"url\":\"https://s.pstatic.net/static/newsstand/up/2020/1019/nsd144525568.png\"},\"showThumbnailView\":true,\"showListView\":true,\"regDate\":\"20241023 14:00:05\",\"_id\":null,\"@type\":\"PC-NEWSSTAND-PRESS-BLOCK\",\"@code\":null,\"@template\":\"NONE\",\"@flowId\":null,\"@flowExecutionId\":null,\"@provider\":null,\"@lastModifiedAt\":null},{\"@type\":\"PC-NEWSSTAND-PRESS-BLOCK\",\"blocks\":null,\"materials\":null,\"excludeInPaging\":false,\"positionForPaging\":0,\"realtime\":false,\"pid\":\"988\",\"name\":\"이웃집과학자\",\"logoLight\":{\"url\":\"https://s.pstatic.net/static/newsstand/2020/logo/light/0604/988.png\"},\"logoDark\":{\"url\":\"https://s.pstatic.net/static/newsstand/2020/logo/dark/0604/988.png\"},\"showThumbnailView\":true,\"showListView\":true,\"regDate\":\"20241017 01:57:59\",\"_id\":null,\"@type\":\"PC-NEWSSTAND-PRESS-BLOCK\",\"@code\":null,\"@template\":\"NONE\",\"@flowId\":null,\"@flowExecutionId\":null,\"@provider\":null,\"@lastModifiedAt\":null},{\"@type\":\"PC-NEWSSTAND-PRESS-BLOCK\",\"blocks\":null,\"materials\":null,\"excludeInPaging\":false,\"positionForPaging\":0,\"realtime\":false,\"pid\":\"989\",\"name\":\"TBC\",\"logoLight\":{\"url\":\"https://s.pstatic.net/static/newsstand/2020/logo/light/0604/989.png\"},\"logoDark\":{\"url\":\"https://s.pstatic.net/static/newsstand/2020/logo/dark/0604/989.png\"},\"showThumbnailView\":true,\"showListView\":true,\"regDate\":\"20241023 09:08:35\",\"_id\":null,\"@type\":\"PC-NEWSSTAND-PRESS-BLOCK\",\"@code\":null,\"@template\":\"NONE\",\"@flowId\":null,\"@flowExecutionId\":null,\"@provider\":null,\"@lastModifiedAt\":null},{\"@type\":\"PC-NEWSSTAND-PRESS-BLOCK\",\"blocks\":null,\"materials\":null,\"excludeInPaging\":false,\"positionForPaging\":0,\"realtime\":false,\"pid\":\"073\",\"name\":\"스포츠서울\",\"logoLight\":{\"url\":\"https://s.pstatic.net/static/newsstand/up/2020/0708/nsd94830278.png\"},\"logoDark\":{\"url\":\"https://s.pstatic.net/static/newsstand/up/2020/0708/nsd94820151.png\"},\"showThumbnailView\":true,\"showListView\":true,\"regDate\":\"20241023 14:05:09\",\"_id\":null,\"@type\":\"PC-NEWSSTAND-PRESS-BLOCK\",\"@code\":null,\"@template\":\"NONE\",\"@flowId\":null,\"@flowExecutionId\":null,\"@provider\":null,\"@lastModifiedAt\":null},{\"@type\":\"PC-NEWSSTAND-PRESS-BLOCK\",\"blocks\":null,\"materials\":null,\"excludeInPaging\":false,\"positionForPaging\":0,\"realtime\":false,\"pid\":\"075\",\"name\":\"맥스무비\",\"logoLight\":{\"url\":\"https://s.pstatic.net/static/newsstand/2020/logo/light/0604/075.png\"},\"logoDark\":{\"url\":\"https://s.pstatic.net/static/newsstand/2020/logo/dark/0604/075.png\"},\"showThumbnailView\":true,\"showListView\":true,\"regDate\":\"20241023 13:26:55\",\"_id\":null,\"@type\":\"PC-NEWSSTAND-PRESS-BLOCK\",\"@code\":null,\"@template\":\"NONE\",\"@flowId\":null,\"@flowExecutionId\":null,\"@provider\":null,\"@lastModifiedAt\":null},{\"@type\":\"PC-NEWSSTAND-PRESS-BLOCK\",\"blocks\":null,\"materials\":null,\"excludeInPaging\":false,\"positionForPaging\":0,\"realtime\":false,\"pid\":\"076\",\"name\":\"스포츠조선\",\"logoLight\":{\"url\":\"https://s.pstatic.net/static/newsstand/2020/logo/light/0604/076.png\"},\"logoDark\":{\"url\":\"https://s.pstatic.net/static/newsstand/2020/logo/dark/0604/076.png\"},\"showThumbnailView\":true,\"showListView\":true,\"regDate\":\"20241023 13:54:48\",\"_id\":null,\"@type\":\"PC-NEWSSTAND-PRESS-BLOCK\",\"@code\":null,\"@template\":\"NONE\",\"@flowId\":null,\"@flowExecutionId\":null,\"@provider\":null,\"@lastModifiedAt\":null},{\"@type\":\"PC-NEWSSTAND-PRESS-BLOCK\",\"blocks\":null,\"materials\":null,\"excludeInPaging\":false,\"positionForPaging\":0,\"realtime\":false,\"pid\":\"990\",\"name\":\"주간조선\",\"logoLight\":{\"url\":\"https://s.pstatic.net/static/newsstand/2020/logo/light/0604/990.png\"},\"logoDark\":{\"url\":\"https://s.pstatic.net/static/newsstand/2020/logo/dark/0604/990.png\"},\"showThumbnailView\":true,\"showListView\":true,\"regDate\":\"20241023 14:00:35\",\"_id\":null,\"@type\":\"PC-NEWSSTAND-PRESS-BLOCK\",\"@code\":null,\"@template\":\"NONE\",\"@flowId\":null,\"@flowExecutionId\":null,\"@provider\":null,\"@lastModifiedAt\":null},{\"@type\":\"PC-NEWSSTAND-PRESS-BLOCK\",\"blocks\":null,\"materials\":null,\"excludeInPaging\":false,\"positionForPaging\":0,\"realtime\":false,\"pid\":\"991\",\"name\":\"데일리NK\",\"logoLight\":{\"url\":\"https://s.pstatic.net/static/newsstand/2020/logo/light/0604/991.png\"},\"logoDark\":{\"url\":\"https://s.pstatic.net/static/newsstand/2020/logo/dark/0604/991.png\"},\"showThumbnailView\":true,\"showListView\":true,\"regDate\":\"20241023 04:45:47\",\"_id\":null,\"@type\":\"PC-NEWSSTAND-PRESS-BLOCK\",\"@code\":null,\"@template\":\"NONE\",\"@flowId\":null,\"@flowExecutionId\":null,\"@provider\":null,\"@lastModifiedAt\":null},{\"@type\":\"PC-NEWSSTAND-PRESS-BLOCK\",\"blocks\":null,\"materials\":null,\"excludeInPaging\":false,\"positionForPaging\":0,\"realtime\":false,\"pid\":\"079\",\"name\":\"노컷뉴스\",\"logoLight\":{\"url\":\"https://s.pstatic.net/static/newsstand/2020/logo/light/0604/079.png\"},\"logoDark\":{\"url\":\"https://s.pstatic.net/static/newsstand/2020/logo/dark/0604/079.png\"},\"showThumbnailView\":true,\"showListView\":true,\"regDate\":\"20241023 13:34:25\",\"_id\":null,\"@type\":\"PC-NEWSSTAND-PRESS-BLOCK\",\"@code\":null,\"@template\":\"NONE\",\"@flowId\":null,\"@flowExecutionId\":null,\"@provider\":null,\"@lastModifiedAt\":null},{\"@type\":\"PC-NEWSSTAND-PRESS-BLOCK\",\"blocks\":null,\"materials\":null,\"excludeInPaging\":false,\"positionForPaging\":0,\"realtime\":false,\"pid\":\"993\",\"name\":\"허프포스트코리아\",\"logoLight\":{\"url\":\"https://s.pstatic.net/static/newsstand/2020/logo/light/0604/993.png\"},\"logoDark\":{\"url\":\"https://s.pstatic.net/static/newsstand/2020/logo/dark/0604/993.png\"},\"showThumbnailView\":true,\"showListView\":true,\"regDate\":\"20241023 14:00:36\",\"_id\":null,\"@type\":\"PC-NEWSSTAND-PRESS-BLOCK\",\"@code\":null,\"@template\":\"NONE\",\"@flowId\":null,\"@flowExecutionId\":null,\"@provider\":null,\"@lastModifiedAt\":null},{\"@type\":\"PC-NEWSSTAND-PRESS-BLOCK\",\"blocks\":null,\"materials\":null,\"excludeInPaging\":false,\"positionForPaging\":0,\"realtime\":false,\"pid\":\"994\",\"name\":\"AI타임스\",\"logoLight\":{\"url\":\"https://s.pstatic.net/static/newsstand/up/2021/1112/nsd102040597.png\"},\"logoDark\":{\"url\":\"https://s.pstatic.net/static/newsstand/up/2021/1112/nsd102110770.png\"},\"showThumbnailView\":true,\"showListView\":true,\"regDate\":\"20241023 13:50:26\",\"_id\":null,\"@type\":\"PC-NEWSSTAND-PRESS-BLOCK\",\"@code\":null,\"@template\":\"NONE\",\"@flowId\":null,\"@flowExecutionId\":null,\"@provider\":null,\"@lastModifiedAt\":null},{\"@type\":\"PC-NEWSSTAND-PRESS-BLOCK\",\"blocks\":null,\"materials\":null,\"excludeInPaging\":false,\"positionForPaging\":0,\"realtime\":false,\"pid\":\"995\",\"name\":\"뉴스포스트\",\"logoLight\":{\"url\":\"https://s.pstatic.net/static/newsstand/up/2021/1112/nsd10248812.png\"},\"logoDark\":{\"url\":\"https://s.pstatic.net/static/newsstand/up/2021/1112/nsd102419893.png\"},\"showThumbnailView\":true,\"showListView\":true,\"regDate\":\"20241023 13:50:26\",\"_id\":null,\"@type\":\"PC-NEWSSTAND-PRESS-BLOCK\",\"@code\":null,\"@template\":\"NONE\",\"@flowId\":null,\"@flowExecutionId\":null,\"@provider\":null,\"@lastModifiedAt\":null},{\"@type\":\"PC-NEWSSTAND-PRESS-BLOCK\",\"blocks\":null,\"materials\":null,\"excludeInPaging\":false,\"positionForPaging\":0,\"realtime\":false,\"pid\":\"996\",\"name\":\"매경헬스\",\"logoLight\":{\"url\":\"https://s.pstatic.net/static/newsstand/up/2023/0330/nsd10125746.png\"},\"logoDark\":{\"url\":\"https://s.pstatic.net/static/newsstand/up/2023/0330/nsd10148542.png\"},\"showThumbnailView\":true,\"showListView\":true,\"regDate\":\"20241023 14:00:32\",\"_id\":null,\"@type\":\"PC-NEWSSTAND-PRESS-BLOCK\",\"@code\":null,\"@template\":\"NONE\",\"@flowId\":null,\"@flowExecutionId\":null,\"@provider\":null,\"@lastModifiedAt\":null},{\"@type\":\"PC-NEWSSTAND-PRESS-BLOCK\",\"blocks\":null,\"materials\":null,\"excludeInPaging\":false,\"positionForPaging\":0,\"realtime\":false,\"pid\":\"997\",\"name\":\"뉴스펭귄\",\"logoLight\":{\"url\":\"https://s.pstatic.net/static/newsstand/up/2022/0405/nsd15024245.png\"},\"logoDark\":{\"url\":\"https://s.pstatic.net/static/newsstand/up/2022/0405/nsd15014578.png\"},\"showThumbnailView\":true,\"showListView\":true,\"regDate\":\"20241023 13:50:34\",\"_id\":null,\"@type\":\"PC-NEWSSTAND-PRESS-BLOCK\",\"@code\":null,\"@template\":\"NONE\",\"@flowId\":null,\"@flowExecutionId\":null,\"@provider\":null,\"@lastModifiedAt\":null},{\"@type\":\"PC-NEWSSTAND-PRESS-BLOCK\",\"blocks\":null,\"materials\":null,\"excludeInPaging\":false,\"positionForPaging\":0,\"realtime\":false,\"pid\":\"998\",\"name\":\"뉴스앤조이\",\"logoLight\":{\"url\":\"https://s.pstatic.net/static/newsstand/up/2022/0328/nsd22503109.png\"},\"logoDark\":{\"url\":\"https://s.pstatic.net/static/newsstand/up/2022/0328/nsd22509287.png\"},\"showThumbnailView\":true,\"showListView\":true,\"regDate\":\"20241023 13:50:34\",\"_id\":null,\"@type\":\"PC-NEWSSTAND-PRESS-BLOCK\",\"@code\":null,\"@template\":\"NONE\",\"@flowId\":null,\"@flowExecutionId\":null,\"@provider\":null,\"@lastModifiedAt\":null},{\"@type\":\"PC-NEWSSTAND-PRESS-BLOCK\",\"blocks\":null,\"materials\":null,\"excludeInPaging\":false,\"positionForPaging\":0,\"realtime\":false,\"pid\":\"081\",\"name\":\"서울신문\",\"logoLight\":{\"url\":\"https://s.pstatic.net/static/newsstand/up/2022/0208/nsd16121208.png\"},\"logoDark\":{\"url\":\"https://s.pstatic.net/static/newsstand/up/2022/0208/nsd161212576.png\"},\"showThumbnailView\":true,\"showListView\":true,\"regDate\":\"20241023 13:45:19\",\"_id\":null,\"@type\":\"PC-NEWSSTAND-PRESS-BLOCK\",\"@code\":null,\"@template\":\"NONE\",\"@flowId\":null,\"@flowExecutionId\":null,\"@provider\":null,\"@lastModifiedAt\":null},{\"@type\":\"PC-NEWSSTAND-PRESS-BLOCK\",\"blocks\":null,\"materials\":null,\"excludeInPaging\":false,\"positionForPaging\":0,\"realtime\":false,\"pid\":\"082\",\"name\":\"부산일보\",\"logoLight\":{\"url\":\"https://s.pstatic.net/static/newsstand/up/2021/0322/nsd21527882.png\"},\"logoDark\":{\"url\":\"https://s.pstatic.net/static/newsstand/up/2021/0322/nsd215225866.png\"},\"showThumbnailView\":true,\"showListView\":true,\"regDate\":\"20241023 13:35:52\",\"_id\":null,\"@type\":\"PC-NEWSSTAND-PRESS-BLOCK\",\"@code\":null,\"@template\":\"NONE\",\"@flowId\":null,\"@flowExecutionId\":null,\"@provider\":null,\"@lastModifiedAt\":null},{\"@type\":\"PC-NEWSSTAND-PRESS-BLOCK\",\"blocks\":null,\"materials\":null,\"excludeInPaging\":false,\"positionForPaging\":0,\"realtime\":false,\"pid\":\"083\",\"name\":\"광주일보\",\"logoLight\":{\"url\":\"https://s.pstatic.net/static/newsstand/up/2023/0309/nsd195548501.png\"},\"logoDark\":{\"url\":\"https://s.pstatic.net/static/newsstand/up/2023/0309/nsd1956932.png\"},\"showThumbnailView\":true,\"showListView\":true,\"regDate\":\"20241023 14:00:01\",\"_id\":null,\"@type\":\"PC-NEWSSTAND-PRESS-BLOCK\",\"@code\":null,\"@template\":\"NONE\",\"@flowId\":null,\"@flowExecutionId\":null,\"@provider\":null,\"@lastModifiedAt\":null},{\"@type\":\"PC-NEWSSTAND-PRESS-BLOCK\",\"blocks\":null,\"materials\":null,\"excludeInPaging\":false,\"positionForPaging\":0,\"realtime\":false,\"pid\":\"087\",\"name\":\"강원일보\",\"logoLight\":{\"url\":\"https://s.pstatic.net/static/newsstand/2020/logo/light/0604/087.png\"},\"logoDark\":{\"url\":\"https://s.pstatic.net/static/newsstand/2020/logo/dark/0604/087.png\"},\"showThumbnailView\":true,\"showListView\":true,\"regDate\":\"20241023 13:46:59\",\"_id\":null,\"@type\":\"PC-NEWSSTAND-PRESS-BLOCK\",\"@code\":null,\"@template\":\"NONE\",\"@flowId\":null,\"@flowExecutionId\":null,\"@provider\":null,\"@lastModifiedAt\":null},{\"@type\":\"PC-NEWSSTAND-PRESS-BLOCK\",\"blocks\":null,\"materials\":null,\"excludeInPaging\":false,\"positionForPaging\":0,\"realtime\":false,\"pid\":\"088\",\"name\":\"매일신문\",\"logoLight\":{\"url\":\"https://s.pstatic.net/static/newsstand/2020/logo/light/0604/088.png\"},\"logoDark\":{\"url\":\"https://s.pstatic.net/static/newsstand/2020/logo/dark/0604/088.png\"},\"showThumbnailView\":true,\"showListView\":true,\"regDate\":\"20241023 13:20:39\",\"_id\":null,\"@type\":\"PC-NEWSSTAND-PRESS-BLOCK\",\"@code\":null,\"@template\":\"NONE\",\"@flowId\":null,\"@flowExecutionId\":null,\"@provider\":null,\"@lastModifiedAt\":null},{\"@type\":\"PC-NEWSSTAND-PRESS-BLOCK\",\"blocks\":null,\"materials\":null,\"excludeInPaging\":false,\"positionForPaging\":0,\"realtime\":false,\"pid\":\"089\",\"name\":\"대전일보\",\"logoLight\":{\"url\":\"https://s.pstatic.net/static/newsstand/2020/logo/light/0604/089.png\"},\"logoDark\":{\"url\":\"https://s.pstatic.net/static/newsstand/2020/logo/dark/0604/089.png\"},\"showThumbnailView\":true,\"showListView\":true,\"regDate\":\"20241023 14:00:02\",\"_id\":null,\"@type\":\"PC-NEWSSTAND-PRESS-BLOCK\",\"@code\":null,\"@template\":\"NONE\",\"@flowId\":null,\"@flowExecutionId\":null,\"@provider\":null,\"@lastModifiedAt\":null},{\"@type\":\"PC-NEWSSTAND-PRESS-BLOCK\",\"blocks\":null,\"materials\":null,\"excludeInPaging\":false,\"positionForPaging\":0,\"realtime\":false,\"pid\":\"529\",\"name\":\"스포츠춘추\",\"logoLight\":{\"url\":\"https://s.pstatic.net/static/newsstand/up/2022/0116/nsd19454239.png\"},\"logoDark\":{\"url\":\"https://s.pstatic.net/static/newsstand/up/2022/0116/nsd194523259.png\"},\"showThumbnailView\":true,\"showListView\":true,\"regDate\":\"20241023 14:00:29\",\"_id\":null,\"@type\":\"PC-NEWSSTAND-PRESS-BLOCK\",\"@code\":null,\"@template\":\"NONE\",\"@flowId\":null,\"@flowExecutionId\":null,\"@provider\":null,\"@lastModifiedAt\":null},{\"@type\":\"PC-NEWSSTAND-PRESS-BLOCK\",\"blocks\":null,\"materials\":null,\"excludeInPaging\":false,\"positionForPaging\":0,\"realtime\":false,\"pid\":\"092\",\"name\":\"지디넷코리아\",\"logoLight\":{\"url\":\"https://s.pstatic.net/static/newsstand/up/2022/0905/nsd131925414.png\"},\"logoDark\":{\"url\":\"https://s.pstatic.net/static/newsstand/up/2022/0905/nsd91639628.png\"},\"showThumbnailView\":true,\"showListView\":true,\"regDate\":\"20241023 14:02:28\",\"_id\":null,\"@type\":\"PC-NEWSSTAND-PRESS-BLOCK\",\"@code\":null,\"@template\":\"NONE\",\"@flowId\":null,\"@flowExecutionId\":null,\"@provider\":null,\"@lastModifiedAt\":null},{\"@type\":\"PC-NEWSSTAND-PRESS-BLOCK\",\"blocks\":null,\"materials\":null,\"excludeInPaging\":false,\"positionForPaging\":0,\"realtime\":false,\"pid\":\"094\",\"name\":\"월간 산\",\"logoLight\":{\"url\":\"https://s.pstatic.net/static/newsstand/2020/logo/light/0604/094.png\"},\"logoDark\":{\"url\":\"https://s.pstatic.net/static/newsstand/2020/logo/dark/0604/094.png\"},\"showThumbnailView\":true,\"showListView\":true,\"regDate\":\"20241023 13:50:37\",\"_id\":null,\"@type\":\"PC-NEWSSTAND-PRESS-BLOCK\",\"@code\":null,\"@template\":\"NONE\",\"@flowId\":null,\"@flowExecutionId\":null,\"@provider\":null,\"@lastModifiedAt\":null},{\"@type\":\"PC-NEWSSTAND-PRESS-BLOCK\",\"blocks\":null,\"materials\":null,\"excludeInPaging\":false,\"positionForPaging\":0,\"realtime\":false,\"pid\":\"410\",\"name\":\"MK스포츠\",\"logoLight\":{\"url\":\"https://s.pstatic.net/static/newsstand/2020/logo/light/0604/410.png\"},\"logoDark\":{\"url\":\"https://s.pstatic.net/static/newsstand/2020/logo/dark/0604/410.png\"},\"showThumbnailView\":true,\"showListView\":true,\"regDate\":\"20241023 14:04:01\",\"_id\":null,\"@type\":\"PC-NEWSSTAND-PRESS-BLOCK\",\"@code\":null,\"@template\":\"NONE\",\"@flowId\":null,\"@flowExecutionId\":null,\"@provider\":null,\"@lastModifiedAt\":null},{\"@type\":\"PC-NEWSSTAND-PRESS-BLOCK\",\"blocks\":null,\"materials\":null,\"excludeInPaging\":false,\"positionForPaging\":0,\"realtime\":false,\"pid\":\"536\",\"name\":\"더팩트\",\"logoLight\":{\"url\":\"https://s.pstatic.net/static/newsstand/2020/logo/light/0604/536.png\"},\"logoDark\":{\"url\":\"https://s.pstatic.net/static/newsstand/2020/logo/dark/0604/536.png\"},\"showThumbnailView\":true,\"showListView\":true,\"regDate\":\"20241023 11:18:45\",\"_id\":null,\"@type\":\"PC-NEWSSTAND-PRESS-BLOCK\",\"@code\":null,\"@template\":\"NONE\",\"@flowId\":null,\"@flowExecutionId\":null,\"@provider\":null,\"@lastModifiedAt\":null},{\"@type\":\"PC-NEWSSTAND-PRESS-BLOCK\",\"blocks\":null,\"materials\":null,\"excludeInPaging\":false,\"positionForPaging\":0,\"realtime\":false,\"pid\":\"416\",\"name\":\"SBS연예뉴스\",\"logoLight\":{\"url\":\"https://s.pstatic.net/static/newsstand/up/2020/1228/nsd1681569.png\"},\"logoDark\":{\"url\":\"https://s.pstatic.net/static/newsstand/up/2020/1228/nsd1688305.png\"},\"showThumbnailView\":true,\"showListView\":true,\"regDate\":\"20241023 14:01:47\",\"_id\":null,\"@type\":\"PC-NEWSSTAND-PRESS-BLOCK\",\"@code\":null,\"@template\":\"NONE\",\"@flowId\":null,\"@flowExecutionId\":null,\"@provider\":null,\"@lastModifiedAt\":null},{\"@type\":\"PC-NEWSSTAND-PRESS-BLOCK\",\"blocks\":null,\"materials\":null,\"excludeInPaging\":false,\"positionForPaging\":0,\"realtime\":false,\"pid\":\"417\",\"name\":\"머니S\",\"logoLight\":{\"url\":\"https://s.pstatic.net/static/newsstand/2020/logo/light/0604/417.png\"},\"logoDark\":{\"url\":\"https://s.pstatic.net/static/newsstand/2020/logo/dark/0604/417.png\"},\"showThumbnailView\":true,\"showListView\":true,\"regDate\":\"20241023 14:01:48\",\"_id\":null,\"@type\":\"PC-NEWSSTAND-PRESS-BLOCK\",\"@code\":null,\"@template\":\"NONE\",\"@flowId\":null,\"@flowExecutionId\":null,\"@provider\":null,\"@lastModifiedAt\":null},{\"@type\":\"PC-NEWSSTAND-PRESS-BLOCK\",\"blocks\":null,\"materials\":null,\"excludeInPaging\":false,\"positionForPaging\":0,\"realtime\":false,\"pid\":\"539\",\"name\":\"위키트리\",\"logoLight\":{\"url\":\"https://s.pstatic.net/static/newsstand/2020/logo/light/0604/539.png\"},\"logoDark\":{\"url\":\"https://s.pstatic.net/static/newsstand/2020/logo/dark/0604/539.png\"},\"showThumbnailView\":true,\"showListView\":true,\"regDate\":\"20241023 14:05:34\",\"_id\":null,\"@type\":\"PC-NEWSSTAND-PRESS-BLOCK\",\"@code\":null,\"@template\":\"NONE\",\"@flowId\":null,\"@flowExecutionId\":null,\"@provider\":null,\"@lastModifiedAt\":null},{\"@type\":\"PC-NEWSSTAND-PRESS-BLOCK\",\"blocks\":null,\"materials\":null,\"excludeInPaging\":false,\"positionForPaging\":0,\"realtime\":false,\"pid\":\"421\",\"name\":\"뉴스1\",\"logoLight\":{\"url\":\"https://s.pstatic.net/static/newsstand/up/2024/0229/nsd103734195.png\"},\"logoDark\":{\"url\":\"https://s.pstatic.net/static/newsstand/up/2024/0229/nsd10375418.png\"},\"showThumbnailView\":true,\"showListView\":true,\"regDate\":\"20241023 14:00:50\",\"_id\":null,\"@type\":\"PC-NEWSSTAND-PRESS-BLOCK\",\"@code\":null,\"@template\":\"NONE\",\"@flowId\":null,\"@flowExecutionId\":null,\"@provider\":null,\"@lastModifiedAt\":null},{\"@type\":\"PC-NEWSSTAND-PRESS-BLOCK\",\"blocks\":null,\"materials\":null,\"excludeInPaging\":false,\"positionForPaging\":0,\"realtime\":false,\"pid\":\"301\",\"name\":\"광주드림\",\"logoLight\":{\"url\":\"https://s.pstatic.net/static/newsstand/2020/logo/light/0604/301.png\"},\"logoDark\":{\"url\":\"https://s.pstatic.net/static/newsstand/2020/logo/dark/0604/301.png\"},\"showThumbnailView\":true,\"showListView\":true,\"regDate\":\"20241023 14:00:24\",\"_id\":null,\"@type\":\"PC-NEWSSTAND-PRESS-BLOCK\",\"@code\":null,\"@template\":\"NONE\",\"@flowId\":null,\"@flowExecutionId\":null,\"@provider\":null,\"@lastModifiedAt\":null},{\"@type\":\"PC-NEWSSTAND-PRESS-BLOCK\",\"blocks\":null,\"materials\":null,\"excludeInPaging\":false,\"positionForPaging\":0,\"realtime\":false,\"pid\":\"422\",\"name\":\"연합뉴스TV\",\"logoLight\":{\"url\":\"https://s.pstatic.net/static/newsstand/2020/logo/light/0604/422.png\"},\"logoDark\":{\"url\":\"https://s.pstatic.net/static/newsstand/2020/logo/dark/0604/422.png\"},\"showThumbnailView\":true,\"showListView\":true,\"regDate\":\"20241023 14:05:25\",\"_id\":null,\"@type\":\"PC-NEWSSTAND-PRESS-BLOCK\",\"@code\":null,\"@template\":\"NONE\",\"@flowId\":null,\"@flowExecutionId\":null,\"@provider\":null,\"@lastModifiedAt\":null},{\"@type\":\"PC-NEWSSTAND-PRESS-BLOCK\",\"blocks\":null,\"materials\":null,\"excludeInPaging\":false,\"positionForPaging\":0,\"realtime\":false,\"pid\":\"308\",\"name\":\"시사IN\",\"logoLight\":{\"url\":\"https://s.pstatic.net/static/newsstand/2020/logo/light/0604/308.png\"},\"logoDark\":{\"url\":\"https://s.pstatic.net/static/newsstand/2020/logo/dark/0604/308.png\"},\"showThumbnailView\":true,\"showListView\":true,\"regDate\":\"20241023 06:34:43\",\"_id\":null,\"@type\":\"PC-NEWSSTAND-PRESS-BLOCK\",\"@code\":null,\"@template\":\"NONE\",\"@flowId\":null,\"@flowExecutionId\":null,\"@provider\":null,\"@lastModifiedAt\":null},{\"@type\":\"PC-NEWSSTAND-PRESS-BLOCK\",\"blocks\":null,\"materials\":null,\"excludeInPaging\":false,\"positionForPaging\":0,\"realtime\":false,\"pid\":\"310\",\"name\":\"여성신문\",\"logoLight\":{\"url\":\"https://s.pstatic.net/static/newsstand/2020/logo/light/0604/310.png\"},\"logoDark\":{\"url\":\"https://s.pstatic.net/static/newsstand/2020/logo/dark/0604/310.png\"},\"showThumbnailView\":true,\"showListView\":true,\"regDate\":\"20241023 14:00:02\",\"_id\":null,\"@type\":\"PC-NEWSSTAND-PRESS-BLOCK\",\"@code\":null,\"@template\":\"NONE\",\"@flowId\":null,\"@flowExecutionId\":null,\"@provider\":null,\"@lastModifiedAt\":null},{\"@type\":\"PC-NEWSSTAND-PRESS-BLOCK\",\"blocks\":null,\"materials\":null,\"excludeInPaging\":false,\"positionForPaging\":0,\"realtime\":false,\"pid\":\"311\",\"name\":\"엑스포츠뉴스\",\"logoLight\":{\"url\":\"https://s.pstatic.net/static/newsstand/2020/logo/light/0604/311.png\"},\"logoDark\":{\"url\":\"https://s.pstatic.net/static/newsstand/2020/logo/dark/0604/311.png\"},\"showThumbnailView\":true,\"showListView\":true,\"regDate\":\"20241023 13:30:19\",\"_id\":null,\"@type\":\"PC-NEWSSTAND-PRESS-BLOCK\",\"@code\":null,\"@template\":\"NONE\",\"@flowId\":null,\"@flowExecutionId\":null,\"@provider\":null,\"@lastModifiedAt\":null},{\"@type\":\"PC-NEWSSTAND-PRESS-BLOCK\",\"blocks\":null,\"materials\":null,\"excludeInPaging\":false,\"positionForPaging\":0,\"realtime\":false,\"pid\":\"312\",\"name\":\"텐아시아\",\"logoLight\":{\"url\":\"https://s.pstatic.net/static/newsstand/2020/logo/light/0604/312.png\"},\"logoDark\":{\"url\":\"https://s.pstatic.net/static/newsstand/2020/logo/dark/0604/312.png\"},\"showThumbnailView\":true,\"showListView\":true,\"regDate\":\"20241023 08:56:49\",\"_id\":null,\"@type\":\"PC-NEWSSTAND-PRESS-BLOCK\",\"@code\":null,\"@template\":\"NONE\",\"@flowId\":null,\"@flowExecutionId\":null,\"@provider\":null,\"@lastModifiedAt\":null},{\"@type\":\"PC-NEWSSTAND-PRESS-BLOCK\",\"blocks\":null,\"materials\":null,\"excludeInPaging\":false,\"positionForPaging\":0,\"realtime\":false,\"pid\":\"314\",\"name\":\"스포츠동아\",\"logoLight\":{\"url\":\"https://s.pstatic.net/static/newsstand/2020/logo/light/0604/314.png\"},\"logoDark\":{\"url\":\"https://s.pstatic.net/static/newsstand/2020/logo/dark/0604/314.png\"},\"showThumbnailView\":true,\"showListView\":true,\"regDate\":\"20241023 14:03:38\",\"_id\":null,\"@type\":\"PC-NEWSSTAND-PRESS-BLOCK\",\"@code\":null,\"@template\":\"NONE\",\"@flowId\":null,\"@flowExecutionId\":null,\"@provider\":null,\"@lastModifiedAt\":null},{\"@type\":\"PC-NEWSSTAND-PRESS-BLOCK\",\"blocks\":null,\"materials\":null,\"excludeInPaging\":false,\"positionForPaging\":0,\"realtime\":false,\"pid\":\"681\",\"name\":\"이코노타임즈\",\"logoLight\":{\"url\":\"https://s.pstatic.net/static/newsstand/up/2022/0615/nsd7251644.png\"},\"logoDark\":{\"url\":\"https://s.pstatic.net/static/newsstand/up/2022/0615/nsd7244919.png\"},\"showThumbnailView\":true,\"showListView\":true,\"regDate\":\"20240929 13:10:54\",\"_id\":null,\"@type\":\"PC-NEWSSTAND-PRESS-BLOCK\",\"@code\":null,\"@template\":\"NONE\",\"@flowId\":null,\"@flowExecutionId\":null,\"@provider\":null,\"@lastModifiedAt\":null},{\"@type\":\"PC-NEWSSTAND-PRESS-BLOCK\",\"blocks\":null,\"materials\":null,\"excludeInPaging\":false,\"positionForPaging\":0,\"realtime\":false,\"pid\":\"440\",\"name\":\"티브이데일리\",\"logoLight\":{\"url\":\"https://s.pstatic.net/static/newsstand/2020/logo/light/0604/440.png\"},\"logoDark\":{\"url\":\"https://s.pstatic.net/static/newsstand/2020/logo/dark/0604/440.png\"},\"showThumbnailView\":true,\"showListView\":true,\"regDate\":\"20241023 06:50:01\",\"_id\":null,\"@type\":\"PC-NEWSSTAND-PRESS-BLOCK\",\"@code\":null,\"@template\":\"NONE\",\"@flowId\":null,\"@flowExecutionId\":null,\"@provider\":null,\"@lastModifiedAt\":null},{\"@type\":\"PC-NEWSSTAND-PRESS-BLOCK\",\"blocks\":null,\"materials\":null,\"excludeInPaging\":false,\"positionForPaging\":0,\"realtime\":false,\"pid\":\"682\",\"name\":\"여성경제신문\",\"logoLight\":{\"url\":\"https://s.pstatic.net/static/newsstand/up/2022/1018/nsd132851977.png\"},\"logoDark\":{\"url\":\"https://s.pstatic.net/static/newsstand/up/2022/1018/nsd132844419.png\"},\"showThumbnailView\":true,\"showListView\":true,\"regDate\":\"20241023 13:50:39\",\"_id\":null,\"@type\":\"PC-NEWSSTAND-PRESS-BLOCK\",\"@code\":null,\"@template\":\"NONE\",\"@flowId\":null,\"@flowExecutionId\":null,\"@provider\":null,\"@lastModifiedAt\":null},{\"@type\":\"PC-NEWSSTAND-PRESS-BLOCK\",\"blocks\":null,\"materials\":null,\"excludeInPaging\":false,\"positionForPaging\":0,\"realtime\":false,\"pid\":\"683\",\"name\":\"MS투데이\",\"logoLight\":{\"url\":\"https://s.pstatic.net/static/newsstand/up/2022/1017/nsd202940832.png\"},\"logoDark\":{\"url\":\"https://s.pstatic.net/static/newsstand/up/2022/1017/nsd202933363.png\"},\"showThumbnailView\":true,\"showListView\":true,\"regDate\":\"20241023 13:50:40\",\"_id\":null,\"@type\":\"PC-NEWSSTAND-PRESS-BLOCK\",\"@code\":null,\"@template\":\"NONE\",\"@flowId\":null,\"@flowExecutionId\":null,\"@provider\":null,\"@lastModifiedAt\":null},{\"@type\":\"PC-NEWSSTAND-PRESS-BLOCK\",\"blocks\":null,\"materials\":null,\"excludeInPaging\":false,\"positionForPaging\":0,\"realtime\":false,\"pid\":\"684\",\"name\":\"TJB대전방송\",\"logoLight\":{\"url\":\"https://s.pstatic.net/static/newsstand/up/2023/0103/nsd95227559.png\"},\"logoDark\":{\"url\":\"https://s.pstatic.net/static/newsstand/up/2023/0103/nsd9522095.png\"},\"showThumbnailView\":true,\"showListView\":true,\"regDate\":\"20241023 08:00:02\",\"_id\":null,\"@type\":\"PC-NEWSSTAND-PRESS-BLOCK\",\"@code\":null,\"@template\":\"NONE\",\"@flowId\":null,\"@flowExecutionId\":null,\"@provider\":null,\"@lastModifiedAt\":null},{\"@type\":\"PC-NEWSSTAND-PRESS-BLOCK\",\"blocks\":null,\"materials\":null,\"excludeInPaging\":false,\"positionForPaging\":0,\"realtime\":false,\"pid\":\"685\",\"name\":\"서울와이어\",\"logoLight\":{\"url\":\"https://s.pstatic.net/static/newsstand/up/2022/1024/nsd174430433.png\"},\"logoDark\":{\"url\":\"https://s.pstatic.net/static/newsstand/up/2022/1024/nsd174424325.png\"},\"showThumbnailView\":true,\"showListView\":true,\"regDate\":\"20241023 13:50:39\",\"_id\":null,\"@type\":\"PC-NEWSSTAND-PRESS-BLOCK\",\"@code\":null,\"@template\":\"NONE\",\"@flowId\":null,\"@flowExecutionId\":null,\"@provider\":null,\"@lastModifiedAt\":null},{\"@type\":\"PC-NEWSSTAND-PRESS-BLOCK\",\"blocks\":null,\"materials\":null,\"excludeInPaging\":false,\"positionForPaging\":0,\"realtime\":false,\"pid\":\"686\",\"name\":\"주간경향\",\"logoLight\":{\"url\":\"https://s.pstatic.net/static/newsstand/up/2022/1007/nsd161849944.png\"},\"logoDark\":{\"url\":\"https://s.pstatic.net/static/newsstand/up/2022/1007/nsd161842489.png\"},\"showThumbnailView\":true,\"showListView\":true,\"regDate\":\"20241023 06:29:12\",\"_id\":null,\"@type\":\"PC-NEWSSTAND-PRESS-BLOCK\",\"@code\":null,\"@template\":\"NONE\",\"@flowId\":null,\"@flowExecutionId\":null,\"@provider\":null,\"@lastModifiedAt\":null},{\"@type\":\"PC-NEWSSTAND-PRESS-BLOCK\",\"blocks\":null,\"materials\":null,\"excludeInPaging\":false,\"positionForPaging\":0,\"realtime\":false,\"pid\":\"687\",\"name\":\"뉴스클레임\",\"logoLight\":{\"url\":\"https://s.pstatic.net/static/newsstand/up/2022/1006/nsd205818702.png\"},\"logoDark\":{\"url\":\"https://s.pstatic.net/static/newsstand/up/2022/1006/nsd205810265.png\"},\"showThumbnailView\":true,\"showListView\":true,\"regDate\":\"20241023 13:50:38\",\"_id\":null,\"@type\":\"PC-NEWSSTAND-PRESS-BLOCK\",\"@code\":null,\"@template\":\"NONE\",\"@flowId\":null,\"@flowExecutionId\":null,\"@provider\":null,\"@lastModifiedAt\":null},{\"@type\":\"PC-NEWSSTAND-PRESS-BLOCK\",\"blocks\":null,\"materials\":null,\"excludeInPaging\":false,\"positionForPaging\":0,\"realtime\":false,\"pid\":\"688\",\"name\":\"경기신문\",\"logoLight\":{\"url\":\"https://s.pstatic.net/static/newsstand/up/2022/1017/nsd202616515.png\"},\"logoDark\":{\"url\":\"https://s.pstatic.net/static/newsstand/up/2022/1017/nsd20268714.png\"},\"showThumbnailView\":true,\"showListView\":true,\"regDate\":\"20241023 13:50:01\",\"_id\":null,\"@type\":\"PC-NEWSSTAND-PRESS-BLOCK\",\"@code\":null,\"@template\":\"NONE\",\"@flowId\":null,\"@flowExecutionId\":null,\"@provider\":null,\"@lastModifiedAt\":null},{\"@type\":\"PC-NEWSSTAND-PRESS-BLOCK\",\"blocks\":null,\"materials\":null,\"excludeInPaging\":false,\"positionForPaging\":0,\"realtime\":false,\"pid\":\"326\",\"name\":\"KBS World\",\"logoLight\":{\"url\":\"https://s.pstatic.net/static/newsstand/2020/logo/light/0604/326.png\"},\"logoDark\":{\"url\":\"https://s.pstatic.net/static/newsstand/2020/logo/dark/0604/326.png\"},\"showThumbnailView\":true,\"showListView\":true,\"regDate\":\"20241023 09:57:56\",\"_id\":null,\"@type\":\"PC-NEWSSTAND-PRESS-BLOCK\",\"@code\":null,\"@template\":\"NONE\",\"@flowId\":null,\"@flowExecutionId\":null,\"@provider\":null,\"@lastModifiedAt\":null},{\"@type\":\"PC-NEWSSTAND-PRESS-BLOCK\",\"blocks\":null,\"materials\":null,\"excludeInPaging\":false,\"positionForPaging\":0,\"realtime\":false,\"pid\":\"447\",\"name\":\"뉴스엔\",\"logoLight\":{\"url\":\"https://s.pstatic.net/static/newsstand/2020/logo/light/0604/447.png\"},\"logoDark\":{\"url\":\"https://s.pstatic.net/static/newsstand/2020/logo/dark/0604/447.png\"},\"showThumbnailView\":true,\"showListView\":true,\"regDate\":\"20241023 13:29:26\",\"_id\":null,\"@type\":\"PC-NEWSSTAND-PRESS-BLOCK\",\"@code\":null,\"@template\":\"NONE\",\"@flowId\":null,\"@flowExecutionId\":null,\"@provider\":null,\"@lastModifiedAt\":null},{\"@type\":\"PC-NEWSSTAND-PRESS-BLOCK\",\"blocks\":null,\"materials\":null,\"excludeInPaging\":false,\"positionForPaging\":0,\"realtime\":false,\"pid\":\"689\",\"name\":\"인천투데이\",\"logoLight\":{\"url\":\"https://s.pstatic.net/static/newsstand/up/2022/1107/nsd1054226.png\"},\"logoDark\":{\"url\":\"https://s.pstatic.net/static/newsstand/up/2022/1107/nsd105354391.png\"},\"showThumbnailView\":true,\"showListView\":true,\"regDate\":\"20241023 13:50:38\",\"_id\":null,\"@type\":\"PC-NEWSSTAND-PRESS-BLOCK\",\"@code\":null,\"@template\":\"NONE\",\"@flowId\":null,\"@flowExecutionId\":null,\"@provider\":null,\"@lastModifiedAt\":null},{\"@type\":\"PC-NEWSSTAND-PRESS-BLOCK\",\"blocks\":null,\"materials\":null,\"excludeInPaging\":false,\"positionForPaging\":0,\"realtime\":false,\"pid\":\"327\",\"name\":\"뉴데일리\",\"logoLight\":{\"url\":\"https://s.pstatic.net/static/newsstand/up/2024/0124/nsd95528325.png\"},\"logoDark\":{\"url\":\"https://s.pstatic.net/static/newsstand/up/2024/0124/nsd95520363.png\"},\"showThumbnailView\":true,\"showListView\":true,\"regDate\":\"20241023 14:00:11\",\"_id\":null,\"@type\":\"PC-NEWSSTAND-PRESS-BLOCK\",\"@code\":null,\"@template\":\"NONE\",\"@flowId\":null,\"@flowExecutionId\":null,\"@provider\":null,\"@lastModifiedAt\":null},{\"@type\":\"PC-NEWSSTAND-PRESS-BLOCK\",\"blocks\":null,\"materials\":null,\"excludeInPaging\":false,\"positionForPaging\":0,\"realtime\":false,\"pid\":\"328\",\"name\":\"에이블뉴스\",\"logoLight\":{\"url\":\"https://s.pstatic.net/static/newsstand/2020/logo/light/0604/328.png\"},\"logoDark\":{\"url\":\"https://s.pstatic.net/static/newsstand/2020/logo/dark/0604/328.png\"},\"showThumbnailView\":true,\"showListView\":true,\"regDate\":\"20241023 14:00:39\",\"_id\":null,\"@type\":\"PC-NEWSSTAND-PRESS-BLOCK\",\"@code\":null,\"@template\":\"NONE\",\"@flowId\":null,\"@flowExecutionId\":null,\"@provider\":null,\"@lastModifiedAt\":null},{\"@type\":\"PC-NEWSSTAND-PRESS-BLOCK\",\"blocks\":null,\"materials\":null,\"excludeInPaging\":false,\"positionForPaging\":0,\"realtime\":false,\"pid\":\"329\",\"name\":\"소년한국일보\",\"logoLight\":{\"url\":\"https://s.pstatic.net/static/newsstand/up/2021/0728/nsd1110888.png\"},\"logoDark\":{\"url\":\"https://s.pstatic.net/static/newsstand/up/2021/0728/nsd111059924.png\"},\"showThumbnailView\":true,\"showListView\":true,\"regDate\":\"20241023 14:00:27\",\"_id\":null,\"@type\":\"PC-NEWSSTAND-PRESS-BLOCK\",\"@code\":null,\"@template\":\"NONE\",\"@flowId\":null,\"@flowExecutionId\":null,\"@provider\":null,\"@lastModifiedAt\":null},{\"@type\":\"PC-NEWSSTAND-PRESS-BLOCK\",\"blocks\":null,\"materials\":null,\"excludeInPaging\":false,\"positionForPaging\":0,\"realtime\":false,\"pid\":\"690\",\"name\":\"정책브리핑\",\"logoLight\":{\"url\":\"https://s.pstatic.net/static/newsstand/up/2022/1116/nsd113848865.png\"},\"logoDark\":{\"url\":\"https://s.pstatic.net/static/newsstand/up/2022/1116/nsd113840778.png\"},\"showThumbnailView\":true,\"showListView\":true,\"regDate\":\"20241023 13:42:00\",\"_id\":null,\"@type\":\"PC-NEWSSTAND-PRESS-BLOCK\",\"@code\":null,\"@template\":\"NONE\",\"@flowId\":null,\"@flowExecutionId\":null,\"@provider\":null,\"@lastModifiedAt\":null},{\"@type\":\"PC-NEWSSTAND-PRESS-BLOCK\",\"blocks\":null,\"materials\":null,\"excludeInPaging\":false,\"positionForPaging\":0,\"realtime\":false,\"pid\":\"691\",\"name\":\"여성동아\",\"logoLight\":{\"url\":\"https://s.pstatic.net/static/newsstand/up/2023/0418/nsd124451202.png\"},\"logoDark\":{\"url\":\"https://s.pstatic.net/static/newsstand/up/2023/0418/nsd124439166.png\"},\"showThumbnailView\":true,\"showListView\":true,\"regDate\":\"20241023 10:04:18\",\"_id\":null,\"@type\":\"PC-NEWSSTAND-PRESS-BLOCK\",\"@code\":null,\"@template\":\"NONE\",\"@flowId\":null,\"@flowExecutionId\":null,\"@provider\":null,\"@lastModifiedAt\":null},{\"@type\":\"PC-NEWSSTAND-PRESS-BLOCK\",\"blocks\":null,\"materials\":null,\"excludeInPaging\":false,\"positionForPaging\":0,\"realtime\":false,\"pid\":\"330\",\"name\":\"중앙데일리\",\"logoLight\":{\"url\":\"https://s.pstatic.net/static/newsstand/2020/logo/light/0604/330.png\"},\"logoDark\":{\"url\":\"https://s.pstatic.net/static/newsstand/2020/logo/dark/0604/330.png\"},\"showThumbnailView\":true,\"showListView\":true,\"regDate\":\"20241023 14:01:52\",\"_id\":null,\"@type\":\"PC-NEWSSTAND-PRESS-BLOCK\",\"@code\":null,\"@template\":\"NONE\",\"@flowId\":null,\"@flowExecutionId\":null,\"@provider\":null,\"@lastModifiedAt\":null},{\"@type\":\"PC-NEWSSTAND-PRESS-BLOCK\",\"blocks\":null,\"materials\":null,\"excludeInPaging\":false,\"positionForPaging\":0,\"realtime\":false,\"pid\":\"331\",\"name\":\"충청투데이\",\"logoLight\":{\"url\":\"https://s.pstatic.net/static/newsstand/2020/logo/light/0604/331.png\"},\"logoDark\":{\"url\":\"https://s.pstatic.net/static/newsstand/2020/logo/dark/0604/331.png\"},\"showThumbnailView\":true,\"showListView\":true,\"regDate\":\"20241023 13:22:40\",\"_id\":null,\"@type\":\"PC-NEWSSTAND-PRESS-BLOCK\",\"@code\":null,\"@template\":\"NONE\",\"@flowId\":null,\"@flowExecutionId\":null,\"@provider\":null,\"@lastModifiedAt\":null},{\"@type\":\"PC-NEWSSTAND-PRESS-BLOCK\",\"blocks\":null,\"materials\":null,\"excludeInPaging\":false,\"positionForPaging\":0,\"realtime\":false,\"pid\":\"332\",\"name\":\"국제신문\",\"logoLight\":{\"url\":\"https://s.pstatic.net/static/newsstand/2020/logo/light/0604/332.png\"},\"logoDark\":{\"url\":\"https://s.pstatic.net/static/newsstand/2020/logo/dark/0604/332.png\"},\"showThumbnailView\":true,\"showListView\":true,\"regDate\":\"20241023 13:12:17\",\"_id\":null,\"@type\":\"PC-NEWSSTAND-PRESS-BLOCK\",\"@code\":null,\"@template\":\"NONE\",\"@flowId\":null,\"@flowExecutionId\":null,\"@provider\":null,\"@lastModifiedAt\":null},{\"@type\":\"PC-NEWSSTAND-PRESS-BLOCK\",\"blocks\":null,\"materials\":null,\"excludeInPaging\":false,\"positionForPaging\":0,\"realtime\":false,\"pid\":\"333\",\"name\":\"경남신문\",\"logoLight\":{\"url\":\"https://s.pstatic.net/static/newsstand/2020/logo/light/0604/333.png\"},\"logoDark\":{\"url\":\"https://s.pstatic.net/static/newsstand/2020/logo/dark/0604/333.png\"},\"showThumbnailView\":true,\"showListView\":true,\"regDate\":\"20241023 14:01:07\",\"_id\":null,\"@type\":\"PC-NEWSSTAND-PRESS-BLOCK\",\"@code\":null,\"@template\":\"NONE\",\"@flowId\":null,\"@flowExecutionId\":null,\"@provider\":null,\"@lastModifiedAt\":null},{\"@type\":\"PC-NEWSSTAND-PRESS-BLOCK\",\"blocks\":null,\"materials\":null,\"excludeInPaging\":false,\"positionForPaging\":0,\"realtime\":false,\"pid\":\"213\",\"name\":\"TV리포트\",\"logoLight\":{\"url\":\"https://s.pstatic.net/static/newsstand/up/2023/0714/nsd125517690.png\"},\"logoDark\":{\"url\":\"https://s.pstatic.net/static/newsstand/up/2023/0714/nsd125510155.png\"},\"showThumbnailView\":true,\"showListView\":true,\"regDate\":\"20241023 13:04:16\",\"_id\":null,\"@type\":\"PC-NEWSSTAND-PRESS-BLOCK\",\"@code\":null,\"@template\":\"NONE\",\"@flowId\":null,\"@flowExecutionId\":null,\"@provider\":null,\"@lastModifiedAt\":null},{\"@type\":\"PC-NEWSSTAND-PRESS-BLOCK\",\"blocks\":null,\"materials\":null,\"excludeInPaging\":false,\"positionForPaging\":0,\"realtime\":false,\"pid\":\"334\",\"name\":\"제주의소리\",\"logoLight\":{\"url\":\"https://s.pstatic.net/static/newsstand/2020/logo/light/0604/334.png\"},\"logoDark\":{\"url\":\"https://s.pstatic.net/static/newsstand/2020/logo/dark/0604/334.png\"},\"showThumbnailView\":true,\"showListView\":true,\"regDate\":\"20241023 13:36:05\",\"_id\":null,\"@type\":\"PC-NEWSSTAND-PRESS-BLOCK\",\"@code\":null,\"@template\":\"NONE\",\"@flowId\":null,\"@flowExecutionId\":null,\"@provider\":null,\"@lastModifiedAt\":null},{\"@type\":\"PC-NEWSSTAND-PRESS-BLOCK\",\"blocks\":null,\"materials\":null,\"excludeInPaging\":false,\"positionForPaging\":0,\"realtime\":false,\"pid\":\"214\",\"name\":\"MBC\",\"logoLight\":{\"url\":\"https://s.pstatic.net/static/newsstand/2020/logo/light/0604/214.png\"},\"logoDark\":{\"url\":\"https://s.pstatic.net/static/newsstand/2020/logo/dark/0604/214.png\"},\"showThumbnailView\":true,\"showListView\":true,\"regDate\":\"20241023 13:54:33\",\"_id\":null,\"@type\":\"PC-NEWSSTAND-PRESS-BLOCK\",\"@code\":null,\"@template\":\"NONE\",\"@flowId\":null,\"@flowExecutionId\":null,\"@provider\":null,\"@lastModifiedAt\":null},{\"@type\":\"PC-NEWSSTAND-PRESS-BLOCK\",\"blocks\":null,\"materials\":null,\"excludeInPaging\":false,\"positionForPaging\":0,\"realtime\":false,\"pid\":\"335\",\"name\":\"강원도민일보\",\"logoLight\":{\"url\":\"https://s.pstatic.net/static/newsstand/2020/logo/light/0604/335.png\"},\"logoDark\":{\"url\":\"https://s.pstatic.net/static/newsstand/2020/logo/dark/0604/335.png\"},\"showThumbnailView\":true,\"showListView\":true,\"regDate\":\"20241023 01:52:50\",\"_id\":null,\"@type\":\"PC-NEWSSTAND-PRESS-BLOCK\",\"@code\":null,\"@template\":\"NONE\",\"@flowId\":null,\"@flowExecutionId\":null,\"@provider\":null,\"@lastModifiedAt\":null},{\"@type\":\"PC-NEWSSTAND-PRESS-BLOCK\",\"blocks\":null,\"materials\":null,\"excludeInPaging\":false,\"positionForPaging\":0,\"realtime\":false,\"pid\":\"215\",\"name\":\"한국경제TV\",\"logoLight\":{\"url\":\"https://s.pstatic.net/static/newsstand/2020/logo/light/0604/215.png\"},\"logoDark\":{\"url\":\"https://s.pstatic.net/static/newsstand/2020/logo/dark/0604/215.png\"},\"showThumbnailView\":true,\"showListView\":true,\"regDate\":\"20241023 14:02:14\",\"_id\":null,\"@type\":\"PC-NEWSSTAND-PRESS-BLOCK\",\"@code\":null,\"@template\":\"NONE\",\"@flowId\":null,\"@flowExecutionId\":null,\"@provider\":null,\"@lastModifiedAt\":null},{\"@type\":\"PC-NEWSSTAND-PRESS-BLOCK\",\"blocks\":null,\"materials\":null,\"excludeInPaging\":false,\"positionForPaging\":0,\"realtime\":false,\"pid\":\"336\",\"name\":\"전북일보\",\"logoLight\":{\"url\":\"https://s.pstatic.net/static/newsstand/2020/logo/light/0604/336.png\"},\"logoDark\":{\"url\":\"https://s.pstatic.net/static/newsstand/2020/logo/dark/0604/336.png\"},\"showThumbnailView\":true,\"showListView\":true,\"regDate\":\"20241023 11:34:21\",\"_id\":null,\"@type\":\"PC-NEWSSTAND-PRESS-BLOCK\",\"@code\":null,\"@template\":\"NONE\",\"@flowId\":null,\"@flowExecutionId\":null,\"@provider\":null,\"@lastModifiedAt\":null},{\"@type\":\"PC-NEWSSTAND-PRESS-BLOCK\",\"blocks\":null,\"materials\":null,\"excludeInPaging\":false,\"positionForPaging\":0,\"realtime\":false,\"pid\":\"337\",\"name\":\"경북일보\",\"logoLight\":{\"url\":\"https://s.pstatic.net/static/newsstand/2020/logo/light/0604/337.png\"},\"logoDark\":{\"url\":\"https://s.pstatic.net/static/newsstand/2020/logo/dark/0604/337.png\"},\"showThumbnailView\":true,\"showListView\":true,\"regDate\":\"20241022 22:25:42\",\"_id\":null,\"@type\":\"PC-NEWSSTAND-PRESS-BLOCK\",\"@code\":null,\"@template\":\"NONE\",\"@flowId\":null,\"@flowExecutionId\":null,\"@provider\":null,\"@lastModifiedAt\":null},{\"@type\":\"PC-NEWSSTAND-PRESS-BLOCK\",\"blocks\":null,\"materials\":null,\"excludeInPaging\":false,\"positionForPaging\":0,\"realtime\":false,\"pid\":\"338\",\"name\":\"경인일보\",\"logoLight\":{\"url\":\"https://s.pstatic.net/static/newsstand/2020/logo/light/0604/338.png\"},\"logoDark\":{\"url\":\"https://s.pstatic.net/static/newsstand/2020/logo/dark/0604/338.png\"},\"showThumbnailView\":true,\"showListView\":true,\"regDate\":\"20241023 10:59:26\",\"_id\":null,\"@type\":\"PC-NEWSSTAND-PRESS-BLOCK\",\"@code\":null,\"@template\":\"NONE\",\"@flowId\":null,\"@flowExecutionId\":null,\"@provider\":null,\"@lastModifiedAt\":null},{\"@type\":\"PC-NEWSSTAND-PRESS-BLOCK\",\"blocks\":null,\"materials\":null,\"excludeInPaging\":false,\"positionForPaging\":0,\"realtime\":false,\"pid\":\"339\",\"name\":\"경기일보\",\"logoLight\":{\"url\":\"https://s.pstatic.net/static/newsstand/2020/logo/light/0604/339.png\"},\"logoDark\":{\"url\":\"https://s.pstatic.net/static/newsstand/2020/logo/dark/0604/339.png\"},\"showThumbnailView\":true,\"showListView\":true,\"regDate\":\"20241023 11:12:11\",\"_id\":null,\"@type\":\"PC-NEWSSTAND-PRESS-BLOCK\",\"@code\":null,\"@template\":\"NONE\",\"@flowId\":null,\"@flowExecutionId\":null,\"@provider\":null,\"@lastModifiedAt\":null},{\"@type\":\"PC-NEWSSTAND-PRESS-BLOCK\",\"blocks\":null,\"materials\":null,\"excludeInPaging\":false,\"positionForPaging\":0,\"realtime\":false,\"pid\":\"340\",\"name\":\"OBS\",\"logoLight\":{\"url\":\"https://s.pstatic.net/static/newsstand/2020/logo/light/0604/340.png\"},\"logoDark\":{\"url\":\"https://s.pstatic.net/static/newsstand/2020/logo/dark/0604/340.png\"},\"showThumbnailView\":true,\"showListView\":true,\"regDate\":\"20241023 11:49:50\",\"_id\":null,\"@type\":\"PC-NEWSSTAND-PRESS-BLOCK\",\"@code\":null,\"@template\":\"NONE\",\"@flowId\":null,\"@flowExecutionId\":null,\"@provider\":null,\"@lastModifiedAt\":null},{\"@type\":\"PC-NEWSSTAND-PRESS-BLOCK\",\"blocks\":null,\"materials\":null,\"excludeInPaging\":false,\"positionForPaging\":0,\"realtime\":false,\"pid\":\"344\",\"name\":\"EBS\",\"logoLight\":{\"url\":\"https://s.pstatic.net/static/newsstand/up/2020/0803/nsd20247547.png\"},\"logoDark\":{\"url\":\"https://s.pstatic.net/static/newsstand/up/2020/0803/nsd202358800.png\"},\"showThumbnailView\":true,\"showListView\":true,\"regDate\":\"20241023 13:58:42\",\"_id\":null,\"@type\":\"PC-NEWSSTAND-PRESS-BLOCK\",\"@code\":null,\"@template\":\"NONE\",\"@flowId\":null,\"@flowExecutionId\":null,\"@provider\":null,\"@lastModifiedAt\":null},{\"@type\":\"PC-NEWSSTAND-PRESS-BLOCK\",\"blocks\":null,\"materials\":null,\"excludeInPaging\":false,\"positionForPaging\":0,\"realtime\":false,\"pid\":\"345\",\"name\":\"디자인정글\",\"logoLight\":{\"url\":\"https://s.pstatic.net/static/newsstand/2020/logo/light/0604/345.png\"},\"logoDark\":{\"url\":\"https://s.pstatic.net/static/newsstand/2020/logo/dark/0604/345.png\"},\"showThumbnailView\":true,\"showListView\":true,\"regDate\":\"20241022 09:42:55\",\"_id\":null,\"@type\":\"PC-NEWSSTAND-PRESS-BLOCK\",\"@code\":null,\"@template\":\"NONE\",\"@flowId\":null,\"@flowExecutionId\":null,\"@provider\":null,\"@lastModifiedAt\":null},{\"@type\":\"PC-NEWSSTAND-PRESS-BLOCK\",\"blocks\":null,\"materials\":null,\"excludeInPaging\":false,\"positionForPaging\":0,\"realtime\":false,\"pid\":\"346\",\"name\":\"헬스조선\",\"logoLight\":{\"url\":\"https://s.pstatic.net/static/newsstand/2020/logo/light/0604/346.png\"},\"logoDark\":{\"url\":\"https://s.pstatic.net/static/newsstand/2020/logo/dark/0604/346.png\"},\"showThumbnailView\":true,\"showListView\":true,\"regDate\":\"20241023 14:01:03\",\"_id\":null,\"@type\":\"PC-NEWSSTAND-PRESS-BLOCK\",\"@code\":null,\"@template\":\"NONE\",\"@flowId\":null,\"@flowExecutionId\":null,\"@provider\":null,\"@lastModifiedAt\":null},{\"@type\":\"PC-NEWSSTAND-PRESS-BLOCK\",\"blocks\":null,\"materials\":null,\"excludeInPaging\":false,\"positionForPaging\":0,\"realtime\":false,\"pid\":\"108\",\"name\":\"스타뉴스\",\"logoLight\":{\"url\":\"https://s.pstatic.net/static/newsstand/2020/logo/light/0604/108.png\"},\"logoDark\":{\"url\":\"https://s.pstatic.net/static/newsstand/2020/logo/dark/0604/108.png\"},\"showThumbnailView\":true,\"showListView\":true,\"regDate\":\"20241023 14:05:06\",\"_id\":null,\"@type\":\"PC-NEWSSTAND-PRESS-BLOCK\",\"@code\":null,\"@template\":\"NONE\",\"@flowId\":null,\"@flowExecutionId\":null,\"@provider\":null,\"@lastModifiedAt\":null},{\"@type\":\"PC-NEWSSTAND-PRESS-BLOCK\",\"blocks\":null,\"materials\":null,\"excludeInPaging\":false,\"positionForPaging\":0,\"realtime\":false,\"pid\":\"109\",\"name\":\"OSEN\",\"logoLight\":{\"url\":\"https://s.pstatic.net/static/newsstand/up/2020/0610/nsd151458769.png\"},\"logoDark\":{\"url\":\"https://s.pstatic.net/static/newsstand/up/2020/0610/nsd151458769.png\"},\"showThumbnailView\":true,\"showListView\":true,\"regDate\":\"20241023 09:47:19\",\"_id\":null,\"@type\":\"PC-NEWSSTAND-PRESS-BLOCK\",\"@code\":null,\"@template\":\"NONE\",\"@flowId\":null,\"@flowExecutionId\":null,\"@provider\":null,\"@lastModifiedAt\":null},{\"@type\":\"PC-NEWSSTAND-PRESS-BLOCK\",\"blocks\":null,\"materials\":null,\"excludeInPaging\":false,\"positionForPaging\":0,\"realtime\":false,\"pid\":\"901\",\"name\":\"제민일보\",\"logoLight\":{\"url\":\"https://s.pstatic.net/static/newsstand/up/2020/1119/nsd213345745.png\"},\"logoDark\":{\"url\":\"https://s.pstatic.net/static/newsstand/up/2020/1119/nsd213339585.png\"},\"showThumbnailView\":true,\"showListView\":true,\"regDate\":\"20241022 19:52:46\",\"_id\":null,\"@type\":\"PC-NEWSSTAND-PRESS-BLOCK\",\"@code\":null,\"@template\":\"NONE\",\"@flowId\":null,\"@flowExecutionId\":null,\"@provider\":null,\"@lastModifiedAt\":null},{\"@type\":\"PC-NEWSSTAND-PRESS-BLOCK\",\"blocks\":null,\"materials\":null,\"excludeInPaging\":false,\"positionForPaging\":0,\"realtime\":false,\"pid\":\"902\",\"name\":\"TV조선\",\"logoLight\":{\"url\":\"https://s.pstatic.net/static/newsstand/2020/logo/light/0604/902.png\"},\"logoDark\":{\"url\":\"https://s.pstatic.net/static/newsstand/2020/logo/dark/0604/902.png\"},\"showThumbnailView\":true,\"showListView\":true,\"regDate\":\"20241023 13:16:43\",\"_id\":null,\"@type\":\"PC-NEWSSTAND-PRESS-BLOCK\",\"@code\":null,\"@template\":\"NONE\",\"@flowId\":null,\"@flowExecutionId\":null,\"@provider\":null,\"@lastModifiedAt\":null},{\"@type\":\"PC-NEWSSTAND-PRESS-BLOCK\",\"blocks\":null,\"materials\":null,\"excludeInPaging\":false,\"positionForPaging\":0,\"realtime\":false,\"pid\":\"903\",\"name\":\"채널A\",\"logoLight\":{\"url\":\"https://s.pstatic.net/static/newsstand/up/2024/0709/nsd114253503.png\"},\"logoDark\":{\"url\":\"https://s.pstatic.net/static/newsstand/up/2024/0709/nsd114315719.png\"},\"showThumbnailView\":true,\"showListView\":true,\"regDate\":\"20241023 13:47:35\",\"_id\":null,\"@type\":\"PC-NEWSSTAND-PRESS-BLOCK\",\"@code\":null,\"@template\":\"NONE\",\"@flowId\":null,\"@flowExecutionId\":null,\"@provider\":null,\"@lastModifiedAt\":null},{\"@type\":\"PC-NEWSSTAND-PRESS-BLOCK\",\"blocks\":null,\"materials\":null,\"excludeInPaging\":false,\"positionForPaging\":0,\"realtime\":false,\"pid\":\"904\",\"name\":\"JTBC\",\"logoLight\":{\"url\":\"https://s.pstatic.net/static/newsstand/2020/logo/light/0604/904.png\"},\"logoDark\":{\"url\":\"https://s.pstatic.net/static/newsstand/2020/logo/dark/0604/904.png\"},\"showThumbnailView\":true,\"showListView\":true,\"regDate\":\"20241023 14:00:07\",\"_id\":null,\"@type\":\"PC-NEWSSTAND-PRESS-BLOCK\",\"@code\":null,\"@template\":\"NONE\",\"@flowId\":null,\"@flowExecutionId\":null,\"@provider\":null,\"@lastModifiedAt\":null},{\"@type\":\"PC-NEWSSTAND-PRESS-BLOCK\",\"blocks\":null,\"materials\":null,\"excludeInPaging\":false,\"positionForPaging\":0,\"realtime\":false,\"pid\":\"905\",\"name\":\"더스쿠프\",\"logoLight\":{\"url\":\"https://s.pstatic.net/static/newsstand/up/2024/0304/nsd101630742.png\"},\"logoDark\":{\"url\":\"https://s.pstatic.net/static/newsstand/up/2024/0304/nsd101639503.png\"},\"showThumbnailView\":true,\"showListView\":true,\"regDate\":\"20241017 19:58:31\",\"_id\":null,\"@type\":\"PC-NEWSSTAND-PRESS-BLOCK\",\"@code\":null,\"@template\":\"NONE\",\"@flowId\":null,\"@flowExecutionId\":null,\"@provider\":null,\"@lastModifiedAt\":null},{\"@type\":\"PC-NEWSSTAND-PRESS-BLOCK\",\"blocks\":null,\"materials\":null,\"excludeInPaging\":false,\"positionForPaging\":0,\"realtime\":false,\"pid\":\"906\",\"name\":\"KNN\",\"logoLight\":{\"url\":\"https://s.pstatic.net/static/newsstand/2020/logo/light/0604/906.png\"},\"logoDark\":{\"url\":\"https://s.pstatic.net/static/newsstand/2020/logo/dark/0604/906.png\"},\"showThumbnailView\":true,\"showListView\":true,\"regDate\":\"20241023 14:02:20\",\"_id\":null,\"@type\":\"PC-NEWSSTAND-PRESS-BLOCK\",\"@code\":null,\"@template\":\"NONE\",\"@flowId\":null,\"@flowExecutionId\":null,\"@provider\":null,\"@lastModifiedAt\":null}],\"materials\":null,\"excludeInPaging\":false,\"positionForPaging\":0,\"realtime\":false,\"majorPidList\":[\"032\",\"005\",\"079\",\"327\",\"930\",\"003\",\"368\",\"020\",\"029\",\"117\",\"009\",\"008\",\"021\",\"006\",\"293\",\"011\",\"081\",\"022\",\"314\",\"073\",\"076\",\"139\",\"308\",\"277\",\"031\",\"422\",\"047\",\"018\",\"241\",\"030\",\"366\",\"023\",\"330\",\"025\",\"092\",\"376\",\"044\",\"014\",\"002\",\"028\",\"015\",\"215\",\"038\",\"016\",\"904\",\"056\",\"326\",\"214\",\"057\",\"109\",\"055\",\"052\"],\"minorPidList\":[\"944\",\"687\",\"913\",\"914\",\"960\",\"536\",\"804\",\"042\",\"812\",\"969\",\"417\",\"961\",\"809\",\"814\",\"942\",\"943\",\"973\",\"685\",\"824\",\"970\",\"816\",\"957\",\"975\",\"810\",\"920\",\"921\",\"963\",\"682\",\"013\",\"801\",\"539\",\"964\",\"825\",\"243\",\"922\",\"803\",\"923\",\"971\",\"925\",\"690\",\"123\",\"353\",\"941\",\"143\",\"826\",\"822\",\"968\",\"993\",\"974\",\"932\",\"954\",\"120\",\"823\",\"959\",\"972\",\"421\",\"916\",\"903\",\"934\",\"344\",\"980\",\"906\",\"340\",\"374\",\"989\",\"981\",\"684\",\"902\",\"945\",\"910\",\"138\",\"953\",\"952\",\"977\",\"994\",\"818\",\"917\",\"681\",\"040\",\"946\",\"830\",\"447\",\"108\",\"802\",\"144\",\"396\",\"529\",\"940\",\"962\",\"477\",\"311\",\"947\",\"312\",\"440\",\"410\",\"416\",\"213\",\"356\",\"908\",\"938\",\"984\",\"911\",\"998\",\"997\",\"995\",\"905\",\"991\",\"955\",\"363\",\"345\",\"364\",\"915\",\"024\",\"996\",\"075\",\"829\",\"819\",\"815\",\"122\",\"958\",\"827\",\"355\",\"808\",\"329\",\"135\",\"828\",\"140\",\"979\",\"328\",\"354\",\"691\",\"310\",\"094\",\"820\",\"950\",\"988\",\"982\",\"813\",\"924\",\"807\",\"965\",\"966\",\"686\",\"990\",\"361\",\"956\",\"928\",\"967\",\"296\",\"986\",\"951\",\"948\",\"806\",\"050\",\"805\",\"811\",\"384\",\"346\"],\"catePidList\":{\"ct7\":[\"356\",\"908\",\"938\",\"984\",\"911\",\"998\",\"997\",\"995\",\"905\",\"991\",\"955\",\"363\",\"345\",\"364\",\"915\",\"024\",\"996\",\"075\",\"829\",\"819\",\"815\",\"122\",\"958\",\"827\",\"355\",\"808\",\"329\",\"308\",\"135\",\"828\",\"140\",\"979\",\"328\",\"354\",\"691\",\"310\",\"094\",\"820\",\"950\",\"988\",\"982\",\"813\",\"924\",\"807\",\"965\",\"966\",\"686\",\"990\",\"361\",\"956\",\"928\",\"967\",\"296\",\"986\",\"951\",\"948\",\"806\",\"050\",\"805\",\"811\",\"384\",\"346\"],\"ct8\":[\"335\",\"087\",\"688\",\"339\",\"821\",\"333\",\"978\",\"907\",\"337\",\"935\",\"338\",\"301\",\"083\",\"332\",\"909\",\"936\",\"089\",\"088\",\"976\",\"817\",\"082\",\"385\",\"387\",\"689\",\"388\",\"937\",\"336\",\"901\",\"389\",\"334\",\"983\",\"926\",\"927\",\"391\",\"331\",\"683\"],\"ct5\":[\"681\",\"330\",\"040\",\"044\",\"326\",\"946\"],\"ct6\":[\"830\",\"447\",\"117\",\"108\",\"802\",\"144\",\"314\",\"073\",\"396\",\"076\",\"529\",\"940\",\"962\",\"139\",\"477\",\"311\",\"241\",\"947\",\"312\",\"440\",\"410\",\"109\",\"416\",\"213\"],\"ct3\":[\"421\",\"003\",\"916\",\"422\",\"376\",\"903\",\"215\",\"934\",\"344\",\"904\",\"980\",\"056\",\"906\",\"214\",\"057\",\"340\",\"055\",\"374\",\"989\",\"981\",\"684\",\"902\",\"052\",\"945\"],\"ct4\":[\"910\",\"138\",\"029\",\"953\",\"952\",\"293\",\"030\",\"092\",\"977\",\"994\",\"818\",\"917\"],\"ct2\":[\"032\",\"005\",\"944\",\"079\",\"327\",\"687\",\"930\",\"913\",\"914\",\"960\",\"536\",\"804\",\"368\",\"042\",\"020\",\"812\",\"009\",\"969\",\"417\",\"008\",\"961\",\"021\",\"006\",\"809\",\"814\",\"942\",\"943\",\"973\",\"011\",\"081\",\"685\",\"824\",\"022\",\"970\",\"816\",\"957\",\"975\",\"810\",\"277\",\"920\",\"031\",\"921\",\"963\",\"682\",\"013\",\"047\",\"801\",\"539\",\"964\",\"018\",\"825\",\"243\",\"922\",\"803\",\"923\",\"971\",\"925\",\"690\",\"366\",\"023\",\"123\",\"353\",\"025\",\"941\",\"143\",\"826\",\"014\",\"822\",\"002\",\"028\",\"015\",\"968\",\"038\",\"993\",\"016\",\"974\",\"932\",\"954\",\"120\",\"823\",\"959\",\"972\"]},\"targetLocalPidList\":[\"335\",\"087\",\"688\",\"339\",\"821\",\"333\",\"978\",\"907\",\"337\",\"935\",\"338\",\"301\",\"083\",\"332\",\"909\",\"936\",\"089\",\"088\",\"976\",\"817\",\"082\",\"385\",\"387\",\"689\",\"388\",\"937\",\"336\",\"901\",\"389\",\"334\",\"983\",\"926\",\"927\",\"391\",\"331\",\"683\"],\"subsPidList\":[],\"firstPressBlock\":null,\"rcode\":\"default\",\"rcode2\":\"default\",\"_id\":null,\"@type\":\"PC-NEWSSTAND-BLOCK\",\"@code\":\"PC-NEWSSTAND\",\"@template\":\"PC-NEWSSTAND\",\"@flowId\":null,\"@flowExecutionId\":null,\"@provider\":null,\"@lastModifiedAt\":null}],\"materials\":null,\"excludeInPaging\":false,\"positionForPaging\":0,\"realtime\":false,\"_id\":null,\"@type\":\"BLOCK\",\"@code\":\"PC-MEDIA-NEWSSTAND\",\"@template\":\"NONE\",\"@flowId\":null,\"@flowExecutionId\":null,\"@provider\":null,\"@lastModifiedAt\":null}],\"materials\":null,\"excludeInPaging\":false,\"positionForPaging\":0,\"realtime\":false,\"sportsLive\":false,\"_id\":\"643e68a5a10d3006855e268d\",\"@type\":\"PC-MEDIA-CONTENTS-BLOCK\",\"@code\":\"PC-MEDIA-WRAPPER\",\"@template\":\"PC-MEDIA-WRAPPER\",\"@flowId\":\"PC-MEDIA-WRAPPER\",\"@flowExecutionId\":\"4895b16c-90fd-11ef-8402-03cbdfdddb9e\",\"@provider\":\"lambda\",\"@lastModifiedAt\":[2024,10,23,5,11,43,600000000]}\n",
            "window[\"EAGER-DATA\"][\"PC-NEWSSTAND-YONHAP\"] = {\"@type\":\"BLOCK\",\"blocks\":[{\"@type\":\"BLOCK\",\"blocks\":null,\"materials\":[],\"excludeInPaging\":false,\"positionForPaging\":0,\"realtime\":false,\"_id\":null,\"@type\":\"BLOCK\",\"@code\":null,\"@template\":\"NONE\",\"@flowId\":null,\"@flowExecutionId\":null,\"@provider\":null,\"@lastModifiedAt\":null}],\"materials\":[{\"@type\":\"MATERIAL-PC-NEWS-ONELINE\",\"gdid\":null,\"title\":\"또 나온 파병 북한군 추정 영상…또렷이 들리는 \\\"힘들다야\\\"\",\"url\":\"https://news.naver.com/main/list.naver?mode=LPOD&mid=sec&sid1=001&sid2=140&oid=001&isYeonhapFlash=Y&aid=0015000254\",\"aid\":null,\"emergency\":false,\"notCompleted\":false,\"officeName\":\"연합뉴스\",\"officeId\":\"001\",\"officeHomeUrl\":null,\"officeWeight\":0,\"officeWeightRate\":0.0,\"_id\":\"643543b2caf3d87b7e0a0da6\"},{\"@type\":\"MATERIAL-PC-NEWS-ONELINE\",\"gdid\":null,\"title\":\"서울역·용산역 지하로…지상은 민간 매각해 고밀 개발·공원화\",\"url\":\"https://news.naver.com/main/list.naver?mode=LPOD&mid=sec&sid1=001&sid2=140&oid=001&isYeonhapFlash=Y&aid=0015001011\",\"aid\":null,\"emergency\":false,\"notCompleted\":false,\"officeName\":\"연합뉴스\",\"officeId\":\"001\",\"officeHomeUrl\":null,\"officeWeight\":0,\"officeWeightRate\":0.0,\"_id\":\"66fc29c66701b4032b074049\"},{\"@type\":\"MATERIAL-PC-NEWS-ONELINE\",\"gdid\":null,\"title\":\"의학회 여야의정 협의 참여에 다른단체도 숙고…일부 '긍정적'\",\"url\":\"https://news.naver.com/main/list.naver?mode=LPOD&mid=sec&sid1=001&sid2=140&oid=001&isYeonhapFlash=Y&aid=0015001003\",\"aid\":null,\"emergency\":false,\"notCompleted\":false,\"officeName\":\"연합뉴스\",\"officeId\":\"001\",\"officeHomeUrl\":null,\"officeWeight\":0,\"officeWeightRate\":0.0,\"_id\":\"66fc29c66701b4032b07404a\"},{\"@type\":\"MATERIAL-PC-NEWS-ONELINE\",\"gdid\":null,\"title\":\"복지장관 \\\"여야의정 협의체 통해 의료대란 연내 해소 노력\\\"\",\"url\":\"https://news.naver.com/main/list.naver?mode=LPOD&mid=sec&sid1=001&sid2=140&oid=001&isYeonhapFlash=Y&aid=0015000991\",\"aid\":null,\"emergency\":false,\"notCompleted\":false,\"officeName\":\"연합뉴스\",\"officeId\":\"001\",\"officeHomeUrl\":null,\"officeWeight\":0,\"officeWeightRate\":0.0,\"_id\":\"66fc29c66701b4032b07404b\"},{\"@type\":\"MATERIAL-PC-NEWS-ONELINE\",\"gdid\":null,\"title\":\"한동훈 \\\"11월 이재명 선고前 김여사 관련 국민 요구 해소해야\\\"\",\"url\":\"https://news.naver.com/main/list.naver?mode=LPOD&mid=sec&sid1=001&sid2=140&oid=001&isYeonhapFlash=Y&aid=0015000956\",\"aid\":null,\"emergency\":false,\"notCompleted\":false,\"officeName\":\"연합뉴스\",\"officeId\":\"001\",\"officeHomeUrl\":null,\"officeWeight\":0,\"officeWeightRate\":0.0,\"_id\":\"66fc29c66701b4032b07404c\"},{\"@type\":\"MATERIAL-PC-NEWS-ONELINE\",\"gdid\":null,\"title\":\"\\\"32억년전 초대형 운석 바다 풍덩…지구 생명체 영양분 퍼트려\\\"\",\"url\":\"https://news.naver.com/main/list.naver?mode=LPOD&mid=sec&sid1=001&sid2=140&oid=001&isYeonhapFlash=Y&aid=0015000954\",\"aid\":null,\"emergency\":false,\"notCompleted\":false,\"officeName\":\"연합뉴스\",\"officeId\":\"001\",\"officeHomeUrl\":null,\"officeWeight\":0,\"officeWeightRate\":0.0,\"_id\":\"66fc29c66701b4032b07404d\"},{\"@type\":\"MATERIAL-PC-NEWS-ONELINE\",\"gdid\":null,\"title\":\"8월 출생아 2만명, 두 달째 1천명대↑…\\\"결혼 증가 영향\\\"\",\"url\":\"https://news.naver.com/main/list.naver?mode=LPOD&mid=sec&sid1=001&sid2=140&oid=001&isYeonhapFlash=Y&aid=0015000942\",\"aid\":null,\"emergency\":false,\"notCompleted\":false,\"officeName\":\"연합뉴스\",\"officeId\":\"001\",\"officeHomeUrl\":null,\"officeWeight\":0,\"officeWeightRate\":0.0,\"_id\":\"66fc29c66701b4032b07404e\"},{\"@type\":\"MATERIAL-PC-NEWS-ONELINE\",\"gdid\":null,\"title\":\"인천공항, 혼잡방지 위해 연예인 등 유명인 별도 출입문 허용\",\"url\":\"https://news.naver.com/main/list.naver?mode=LPOD&mid=sec&sid1=001&sid2=140&oid=001&isYeonhapFlash=Y&aid=0015000924\",\"aid\":null,\"emergency\":false,\"notCompleted\":false,\"officeName\":\"연합뉴스\",\"officeId\":\"001\",\"officeHomeUrl\":null,\"officeWeight\":0,\"officeWeightRate\":0.0,\"_id\":\"66ffb636a615875687c00a8a\"},{\"@type\":\"MATERIAL-PC-NEWS-ONELINE\",\"gdid\":null,\"title\":\"'김여사 특검법' 재추진에…친한 \\\"이탈표 우려\\\" 친윤 \\\"단일대오\\\"\",\"url\":\"https://news.naver.com/main/list.naver?mode=LPOD&mid=sec&sid1=001&sid2=140&oid=001&isYeonhapFlash=Y&aid=0015000892\",\"aid\":null,\"emergency\":false,\"notCompleted\":false,\"officeName\":\"연합뉴스\",\"officeId\":\"001\",\"officeHomeUrl\":null,\"officeWeight\":0,\"officeWeightRate\":0.0,\"_id\":\"67161e8a01e5d250230c7250\"},{\"@type\":\"MATERIAL-PC-NEWS-ONELINE\",\"gdid\":null,\"title\":\"이상득 전 국회부의장 별세…6선 의원 지낸 與 원로\",\"url\":\"https://news.naver.com/main/list.naver?mode=LPOD&mid=sec&sid1=001&sid2=140&oid=001&isYeonhapFlash=Y&aid=0015000642\",\"aid\":null,\"emergency\":false,\"notCompleted\":false,\"officeName\":\"연합뉴스\",\"officeId\":\"001\",\"officeHomeUrl\":null,\"officeWeight\":0,\"officeWeightRate\":0.0,\"_id\":\"67173cf20dae05b66ea8a436\"}],\"excludeInPaging\":false,\"positionForPaging\":0,\"realtime\":false,\"_id\":\"643543b2a10d3006850fa263\",\"@type\":\"BLOCK\",\"@code\":\"PC-NEWSSTAND-YONHAP\",\"@template\":\"PC-NEWSSTAND-YONHAP\",\"@flowId\":\"PC-YONHAP\",\"@flowExecutionId\":\"00768eb8-90fd-11ef-aa3e-cf761098db10\",\"@provider\":\"lambda\",\"@lastModifiedAt\":[2024,10,23,5,9,38,287000000]}\n",
            "window[\"EAGER-DATA\"][\"CAS-MINICONTENT-PC-SEARCH-RIGHT\"] = {\"@type\":\"MINI-CONTENT-BLOCK\",\"blocks\":null,\"materials\":null,\"excludeInPaging\":false,\"positionForPaging\":0,\"realtime\":false,\"items\":[],\"_id\":\"6433d8a5a10d300685012682\",\"@type\":\"MINI-CONTENT-BLOCK\",\"@code\":\"CAS-MINICONTENT-PC-SEARCH-RIGHT\",\"@template\":\"NONE\",\"@flowId\":\"CAS-MINICONTENT\",\"@flowExecutionId\":\"ffdc98a5-90fc-11ef-aa3e-f9c1492d1465\",\"@provider\":\"lambda\",\"@lastModifiedAt\":[2024,10,23,5,9,37,133000000]}\n",
            "window[\"EAGER-DATA\"][\"PC-HEADLINE-AD\"] = {\"@type\":\"PC-HEADLINE-AD-BLOCK\",\"blocks\":null,\"materials\":null,\"excludeInPaging\":false,\"positionForPaging\":0,\"realtime\":false,\"adResponse\":{\"type\":\"N401\",\"adlineId\":\"2949247\",\"vimp100p0s\":\"https://siape.veta.naver.com/fxview?eu=EU10044129&calp=-&oj=ZJlEFeSBKmJXowR%2BgEfWLY2STjRjwypw0vFHPse7OZo&ac=9033088&src=7300486&evtcd=V900&x_ti=1585&tb=&oid=&sid1=&sid2=&rk=1f5Sb5VSEMvANoao-i23-Q&eltts=yRtwMU8%2BoUMmR5c1m5iF4Q%3D%3D&brs=Y&&eid=V900\",\"assets\":{\"hl_web_img\":{\"url\":\"https://ssl.pstatic.net/melona/libs/1511/1511455/b2d0e995442b68eba7e7_20241014165912200.png\",\"alt\":\"[광고]카누 돌체구스토 호환캡슐 커피 1잔 400원대 이벤트!\",\"w\":488,\"h\":216},\"hl_web_img_dark\":{\"url\":\"https://ssl.pstatic.net/melona/libs/1511/1511455/45a69fa9dc25e2625844_20241014165915296.png\",\"alt\":\"[광고]카누 돌체구스토 호환캡슐 커피 1잔 400원대 이벤트!\",\"w\":488,\"h\":216},\"hl_link\":{\"url\":\"https://siape.veta.naver.com/fxclick?eu=EU10044129&calp=-&oj=ZJlEFeSBKmJXowR%2BgEfWLY2STjRjwypw0vFHPse7OZo&ac=9033088&src=7300486&br=4608481&evtcd=P901&x_ti=1585&tb=&oid=&sid1=&sid2=&rk=1f5Sb5VSEMvANoao-i23-Q&eltts=yRtwMU8%2BoUMmR5c1m5iF4Q%3D%3D&lu=&brs=Y&&tr=ndp&elu=9D0429E3B37861E6BA3BD1A79F977B36B6C9427427E2AD986DBB9CDCEF72419B167F32432D3DA60E92490524DE2CA4037724BAA3972616EDA925140800E331E6F22640EFF289A3FC1760DF89CFE48D58\",\"clicktracking\":\"https://ssl.pstatic.net/tveta/libs/1by1.gif\"},\"bb_web_img\":{\"url\":\"https://ssl.pstatic.net/melona/libs/1511/1511455/1884ac7e41fd56c54d44_20241014165945736.jpg\",\"alt\":\"카누 호환캡슐\",\"w\":80,\"h\":80},\"bb_web_img_dark\":{\"url\":\"https://ssl.pstatic.net/melona/libs/1511/1511455/1884ac7e41fd56c54d44_20241014165945736.jpg\",\"alt\":\"카누 호환캡슐\",\"w\":80,\"h\":80},\"bb_link\":{\"url\":\"https://siape.veta.naver.com/fxclick?eu=EU10044129&calp=-&oj=ZJlEFeSBKmJXowR%2BgEfWLY2STjRjwypw0vFHPse7OZo&ac=9033088&src=7300488&br=4608482&evtcd=BUBBLE_CLK_1&x_ti=1585&tb=&oid=&sid1=&sid2=&rk=1f5Sb5VSEMvANoao-i23-Q&eltts=yRtwMU8%2BoUMmR5c1m5iF4Q%3D%3D&lu=&brs=Y&&tr=ndp&elu=9D0429E3B37861E6BA3BD1A79F977B36B6C9427427E2AD986DBB9CDCEF72419B167F32432D3DA60E92490524DE2CA4037724BAA3972616EDA925140800E331E6F22640EFF289A3FC1760DF89CFE48D58\",\"clicktracking\":\"https://ssl.pstatic.net/tveta/libs/1by1.gif\"},\"bb_web_text\":\"카누 호환캡슐\"}},\"_id\":null,\"@type\":null,\"@code\":\"PC-HEADLINE-AD\",\"@template\":\"PC-HEADLINE-AD\",\"@flowId\":null,\"@flowExecutionId\":null,\"@provider\":null,\"@lastModifiedAt\":null}\n",
            "window[\"EAGER-DATA\"][\"CAS-MINICONTENT-PC-MEDIA-TAB-EVENT\"] = {\"@type\":\"MINI-CONTENT-BLOCK\",\"blocks\":null,\"materials\":null,\"excludeInPaging\":false,\"positionForPaging\":0,\"realtime\":false,\"items\":[],\"_id\":\"643687e1a10d300685630556\",\"@type\":\"MINI-CONTENT-BLOCK\",\"@code\":\"CAS-MINICONTENT-PC-MEDIA-TAB-EVENT\",\"@template\":\"NONE\",\"@flowId\":\"CAS-MINICONTENT\",\"@flowExecutionId\":\"07bff14a-90fd-11ef-9a27-43dcd74e71f1\",\"@provider\":\"lambda\",\"@lastModifiedAt\":[2024,10,23,5,9,50,442000000]}\n",
            "window[\"EAGER-DATA\"][\"CAS-MINICONTENT-PC-MID-BANNER\"] = {\"@type\":\"MINI-CONTENT-BLOCK\",\"blocks\":null,\"materials\":null,\"excludeInPaging\":false,\"positionForPaging\":0,\"realtime\":false,\"items\":[],\"_id\":\"648ae476a10d300685fbab10\",\"@type\":\"MINI-CONTENT-BLOCK\",\"@code\":\"CAS-MINICONTENT-PC-MID-BANNER\",\"@template\":\"NONE\",\"@flowId\":\"CAS-MINICONTENT\",\"@flowExecutionId\":\"fc732f2c-90fc-11ef-9a27-f7626721713c\",\"@provider\":\"lambda\",\"@lastModifiedAt\":[2024,10,23,5,9,31,369000000]}\n",
            "window[\"EAGER-DATA\"][\"CAS-MINICONTENT-PC-TAB-META\"] = {\"@type\":\"MINI-CONTENT-BLOCK\",\"blocks\":null,\"materials\":null,\"excludeInPaging\":false,\"positionForPaging\":0,\"realtime\":false,\"items\":[{\"content\":{\"area\":\"FEED\",\"tabList\":[{\"clickCode\":\"tct.mynr\",\"name\":\"추천・구독\",\"id\":\"PC-FEED-RECOMMEND\",\"contingencyEnabled\":true,\"enabled\":true,\"useFeedCasEditTemplate\":false,\"weight\":1},{\"clickCode\":\"tct.wtn\",\"name\":\"자동차\",\"id\":\"PC-FEED-CARGAME\",\"contingencyEnabled\":true,\"enabled\":true,\"useFeedCasEditTemplate\":true,\"weight\":1},{\"clickCode\":\"tct.wtn\",\"name\":\"웹툰\",\"id\":\"PC-FEED-WEBTOON\",\"contingencyEnabled\":true,\"enabled\":true,\"useFeedCasEditTemplate\":true,\"weight\":1},{\"clickCode\":\"tct.bty\",\"name\":\"패션뷰티\",\"id\":\"PC-FEED-BEAUTY\",\"contingencyEnabled\":true,\"enabled\":true,\"useFeedCasEditTemplate\":false,\"weight\":1},{\"clickCode\":\"tct.fod\",\"name\":\"레시피\",\"id\":\"PC-FEED-RECIPE\",\"contingencyEnabled\":true,\"enabled\":true,\"useFeedCasEditTemplate\":true,\"weight\":1},{\"clickCode\":\"tct.lif\",\"name\":\"리빙\",\"id\":\"PC-FEED-LIVINGHOME\",\"contingencyEnabled\":true,\"enabled\":true,\"useFeedCasEditTemplate\":true,\"weight\":1},{\"clickCode\":\"tct.bok\",\"name\":\"책방\",\"id\":\"PC-FEED-CULTURE\",\"contingencyEnabled\":true,\"enabled\":true,\"useFeedCasEditTemplate\":true,\"weight\":1},{\"clickCode\":\"tct.lec\",\"name\":\"지식+\",\"id\":\"PC-FEED-LECTURE\",\"contingencyEnabled\":true,\"enabled\":true,\"useFeedCasEditTemplate\":true,\"weight\":1},{\"clickCode\":\"tct.health\",\"name\":\"건강\",\"id\":\"PC-FEED-HEALTH\",\"contingencyEnabled\":true,\"enabled\":true,\"useFeedCasEditTemplate\":false,\"weight\":1},{\"clickCode\":\"tct.gameapp\",\"name\":\"게임\",\"id\":\"PC-FEED-GAMEAPP\",\"contingencyEnabled\":true,\"enabled\":true,\"useFeedCasEditTemplate\":false,\"weight\":1}],\"@type\":\"BLOCK-PC-TAB-META\"},\"exposure\":true,\"@miniContentId\":\"643e64d370a065058f369bac\",\"@miniContentCode\":\"PC-TAB-META\",\"@startAt\":\"2023-04-10 00:00\",\"@endAt\":\"2030-05-30 23:59\",\"@createdAt\":\"2023-04-18T18:37:23.412\",\"@updatedAt\":\"2023-11-08T11:34:03.902\"},{\"content\":{\"area\":\"MEDIA\",\"tabList\":[{\"clickCode\":\"nst.nsd\",\"name\":\"뉴스스탠드\",\"id\":\"PC-MEDIA-NEWSSTAND\",\"contingencyEnabled\":true,\"enabled\":true,\"useFeedCasEditTemplate\":false,\"weight\":1},{\"clickCode\":\"nst.nch\",\"name\":\"언론사편집\",\"id\":\"PC-MEDIA-NEWS\",\"contingencyEnabled\":true,\"enabled\":true,\"useFeedCasEditTemplate\":false,\"weight\":1},{\"clickCode\":\"nst.ent\",\"name\":\"엔터\",\"id\":\"PC-MEDIA-ENTER\",\"contingencyEnabled\":true,\"enabled\":true,\"useFeedCasEditTemplate\":false,\"weight\":1},{\"clickCode\":\"nst.spo\",\"name\":\"스포츠\",\"id\":\"PC-MEDIA-SPORTS\",\"contingencyEnabled\":true,\"enabled\":true,\"useFeedCasEditTemplate\":false,\"weight\":1},{\"clickCode\":\"nst.fin\",\"name\":\"경제\",\"id\":\"PC-MEDIA-ECONOMIC\",\"contingencyEnabled\":true,\"enabled\":true,\"useFeedCasEditTemplate\":false,\"weight\":1},{\"clickCode\":\"nst.shpt\",\"name\":\"쇼핑투데이\",\"id\":\"PC-MEDIA-SHOPPING-TODAY\",\"contingencyEnabled\":true,\"enabled\":true,\"useFeedCasEditTemplate\":false,\"weight\":1}],\"@type\":\"BLOCK-PC-TAB-META\"},\"exposure\":true,\"@miniContentId\":\"643e642c8793487c84743a38\",\"@miniContentCode\":\"PC-TAB-META\",\"@startAt\":\"2023-04-11 00:00\",\"@endAt\":\"2030-05-31 23:59\",\"@createdAt\":\"2023-04-18T18:34:36.648\",\"@updatedAt\":\"2024-04-18T16:13:27.109\"}],\"_id\":\"643e6299a10d3006853cc04c\",\"@type\":\"MINI-CONTENT-BLOCK\",\"@code\":\"CAS-MINICONTENT-PC-TAB-META\",\"@template\":\"NONE\",\"@flowId\":\"CAS-MINICONTENT\",\"@flowExecutionId\":\"096b57bd-90fd-11ef-8402-97ce8a8f2359\",\"@provider\":\"lambda\",\"@lastModifiedAt\":[2024,10,23,5,9,53,177000000]}\n",
            "</script> <script defer=\"defer\" src=\"https://pm.pstatic.net/resources/js/polyfill.a163af38.js?o=www\" crossorigin=\"anonymous\"></script><script defer=\"defer\" src=\"https://pm.pstatic.net/resources/js/preload.33507660.js?o=www\" crossorigin=\"anonymous\"></script><script defer=\"defer\" src=\"https://pm.pstatic.net/resources/js/search.ab2d8d96.js?o=www\" crossorigin=\"anonymous\"></script><script defer=\"defer\" src=\"https://pm.pstatic.net/resources/js/main.a8bbc3f8.js?o=www\" crossorigin=\"anonymous\"></script><link href=\"https://pm.pstatic.net/resources/css/main.f402c8a5.css\" rel=\"stylesheet\"></head> <body> <div id=\"u_skip\"> <a href=\"#topAsideButton\"><span>상단영역 바로가기</span></a> <a href=\"#shortcutArea\"><span>서비스 메뉴 바로가기</span></a> <a href=\"#newsstand\"><span>새소식 블록 바로가기</span></a> <a href=\"#shopping\"><span>쇼핑 블록 바로가기</span></a> <a href=\"#feed\"><span>관심사 블록 바로가기</span></a> <a href=\"#account\"><span>MY 영역 바로가기</span></a> <a href=\"#widgetboard\"><span>위젯 보드 바로가기</span></a> <a href=\"#viewSetting\"><span>보기 설정 바로가기</span></a> </div>   <script type=\"text/plain\" id=\"ad-timeboard-response\" data-gfp-banner-size=\"1444x150\" data-gfp-banner-type=\"full\">{\"payload\":{\"requestId\":\"6c704dc129f44891a0fa8343e9a61d31\",\"head\":{\"version\":\"0.0.1\",\"description\":\"Naver SSP Waterfall List\"},\"eventTracking\":{\"ackImpressions\":[{\"url\":\"https://tivan.naver.com/sc2/1/\"}],\"activeViewImpressions\":[{\"url\":\"https://tivan.naver.com/sc2/2/\"}],\"clicks\":[{\"url\":\"https://tivan.naver.com/sc2/3/\"}],\"completions\":[{\"url\":\"https://tivan.naver.com/sc2/4/\"}],\"attached\":[{\"url\":\"https://tivan.naver.com/sc2/10/\"}],\"renderedImpressions\":[{\"url\":\"https://tivan.naver.com/sc2/11/\"}],\"viewableImpressions\":[{\"url\":\"https://tivan.naver.com/sc2/12/\"}],\"loadErrors\":[{\"url\":\"https://tivan.naver.com/sc2/91/\"}],\"startErrors\":[{\"url\":\"https://tivan.naver.com/sc2/92/\"}],\"lazyRenderMediaFailed\":[{\"url\":\"https://tivan.naver.com/sc2/93/\"}],\"mute\":[{\"url\":\"https://tivan.naver.com/sc2/5/\"}],\"close\":[{\"url\":\"https://tivan.naver.com/sc2/6/\"}]},\"adUnit\":\"p_main_timeboard_v1\",\"randomNumber\":11,\"adDivId\":\"ad_timeboard\",\"advertiserDomains\":[\"www.kia.com\"],\"adDuplicationKeys\":[\"URL:https://www.kia.com\"],\"ads\":[{\"encrypted\":\"wafgOnIhl4SbCw5qBl8uDaFEI_BU_-qZZhy97cF9yEIl-pr17ww3L3hfui1_VBxUEAUWJ1sed3vAgseJRjK1CcMjd44-3FDHfo_zy68bi-Vd81aRhCdquL2NlZEozftq-qYZWOGl5yXGmOD-tGrUOrslV4JKaKi38uB_IwMf8qiE4o9w3ZntEXylSBFsQfl2Y9BKrM5xHYPVlOgZErBMF6CSCZNaQT3e7WuakFoq5MdQBQMwG2EsJj8dchiIbDfv8FAw3oJpD609H6InWswVVh9G3mTPCkMzG7yharuom5ohmEACLHs_FpnsCr3pqezfDAEux9mIY42BzXamPxGOf7R3KXc7aE27cD5-r1mZU4gqWwYUJNBS8KmmaiSuTYQAXF1GEWL4KdyRKIa_HXKdfy457QFlmUAaWA6BdqX9Q11Bin6Ger235kfa4Yt3RmTJ3xS9-UwuN3gSYoKVoFWvw-iHKcRA5_9A7BovhyvRCZD1bdfCez1WLyR6camJrQi_k1OCoS4ItdiKputDU4uEw8XgvNxFsnO9p9MpTQGE6VYzu-CNj8HmaH6vtZchKtlYG7OIEPYLQdS2Oay_aRBrsaQB60EIUjV9ZeyVPizlPoaG2gKsqxUAVXa2xBSl_LEbNREw5CFwE03NobkJA2l9_lizq1ZGhYaoNtgAbd-Dz3XC1edHfkAsLv36y8ItlJ7u0MBo_bTfGqFB2EP1FhUwSg==\",\"connectionType\":\"S2S\",\"adProviderType\":\"IN_NAVER\",\"adProviderName\":\"NDP_SF\",\"layoutType\":\"FLUID\",\"creativeType\":\"BANNER\",\"renderType\":\"SF\",\"eventTracking\":{\"ackImpressions\":[{\"url\":\"https://siape.veta.naver.com/openrtb/nurl?eu=EU10043567\\u0026calp=-\\u0026oj=cQgn6aire5NMQBN9eG4iSEdk8rEhKsGMZn0Fvkb9lLLb21jP5wQxxrt%2FfyQDaAuK5sz8TOCxud%2BNkk40Y8MqcFu4PCndlczaCVZZyBhmNh9Um6krydHIR8ZUV3E600t9QGg3q%2Bjskg8Ds2%2FsKIsqnpH4IYR7C5ZCEFwetYPeoFYojZvrGYoqB9S%2B0EyEH%2F3kUXy6CyeKBmzL2C%2BZ8XKEzQ\\u0026ac=9032591\\u0026src=7299033\\u0026evtcd=BID_WIN\\u0026x_ti=1500\\u0026rk=RdZzLkTvoZOdxE31Jx8AxQ\\u0026eltts=yRtwMU8%2BoUMmR5c1m5iF4Q%3D%3D\\u0026brs=Y\\u0026\"}],\"attached\":[],\"activeViewImpressions\":[],\"renderedImpressions\":[],\"viewableImpressions\":[],\"clicks\":[],\"vimp1px\":[],\"vimp100\":[],\"vimp100p\":[],\"admute\":[],\"advmute\":[],\"like\":[],\"unlike\":[],\"close\":[],\"bounce\":[]},\"adInfo\":{\"placeId\":\"6436232db28a76002ea3f30c\",\"adomain\":[\"www.kia.com\"],\"cid\":\"1509895\",\"crid\":\"2679997\",\"exp\":86400,\"adm\":\"%3Cscript%20type%3D%22text%2Fjavascript%22%20src%3D%22https%3A%2F%2Fssl.pstatic.net%2Fmelona%2Flibs%2Fassets%2Fjs%2Fpc%2Fmain%2Fmin%2Fpc.veta.core.min.js%3F20240228%22%3E%3C%2Fscript%3E%0D%0A%3Cscript%20type%3D%22text%2Fjavascript%22%20src%3D%22https%3A%2F%2Fssl.pstatic.net%2Fmelona%2Flibs%2Fglad%2Fbridge%2Fgfp-bridge.js%22%3E%3C%2Fscript%3E%0D%0A%3Cscript%20src%3D%22https%3A%2F%2Fssl.pstatic.net%2Fmelona%2Flibs%2Fassets%2Fjs%2Fpc%2Fmain%2Fmin%2Ftimeboard_premium_v202212.min.js%3F20230525%22%3E%3C%2Fscript%3E%0D%0A%3Clink%20href%3D%22https%3A%2F%2Fssl.pstatic.net%2Fmelona%2Flibs%2Fassets%2Fcss%2Fpc%2Fmain%2Fmin%2Ftimeboard_premium_v202212.min.css%3F20230524%22%20rel%3D%22stylesheet%22%3E%0D%0A%3Cstyle%3E%0D%0A%09%40media%20%28max-width%3A%201000px%29%20%7B%0D%0A%09%09%2F%2A%20%EC%82%AC%EC%9D%B4%EC%A6%88%20%EC%A1%B0%EC%A0%95%EC%9D%80%20976px%20%EB%98%90%EB%8A%94%201480px%20%EC%9D%B4%EC%83%81%EC%9D%B8%20%EA%B2%BD%EC%9A%B0%EB%A7%8C%20%EC%A1%B4%EC%9E%AC.%20%EA%B7%B8%EB%9E%98%EC%84%9C%20%EA%B7%B8%20%EC%82%AC%EC%9D%B4%EA%B0%92%201000px%EB%A1%9C%20%EC%A7%80%EC%A0%95.%20%EC%B0%B8%EA%B3%A0%3A%20976px%EC%9C%BC%EB%A1%9C%20%EC%A7%80%EC%A0%95%ED%95%98%EB%A9%B4%20%EC%97%A3%EC%A7%80%EC%97%90%EC%84%9C%20%EC%9D%B8%EC%8B%9D%EB%90%98%EC%A7%80%20%EC%95%8A%EC%9D%8C%20%2A%2F%0D%0A%09%09.adouter%20%7B%0D%0A%09%09%09margin-left%3A%20-152px%3B%0D%0A%09%09%7D%0D%0A%09%7D%0D%0A%09.ad-dimm%20%7B%0D%0A%09%09opacity%3A%200%3B%0D%0A%09%7D%0D%0A%09.ad-fade-in%20%7B%0D%0A%09%09transition%3A%20opacity%200.25s%3B%0D%0A%09%09opacity%3A%201%3B%0D%0A%09%7D%0D%0A%3C%2Fstyle%3E%0D%0A%3Cdiv%20class%3D%22adouter%20ad-dimm%22%3E%0D%0A%09%3Cdiv%20class%3D%22ad%22%3E%0D%0A%09%09%3Cdiv%20class%3D%22adWrap%22%3E%0D%0A%09%09%09%3Cdiv%20class%3D%22defaultBanner%22%3E%0D%0A%09%09%09%09%3Cimg%20class%3D%22bannerImage%22%20%2F%3E%0D%0A%09%09%09%3C%2Fdiv%3E%0D%0A%09%09%09%3Cdiv%20class%3D%22mainBannerShadow%22%3E%0D%0A%09%09%09%3C%2Fdiv%3E%0D%0A%09%09%09%3Cdiv%20class%3D%22mainBannerWrap%22%3E%0D%0A%09%09%09%09%3Cimg%20class%3D%22mainBanner%22%20%2F%3E%0D%0A%09%09%09%09%3Cvideo%20muted%20playsinline%20class%3D%22introVideo%22%3E%0D%0A%09%09%09%09%09%3Csource%20type%3D%22video%2Fmp4%22%3E%0D%0A%09%09%09%09%3C%2Fvideo%3E%0D%0A%09%09%09%09%3Cimg%20class%3D%22introCover%22%20%2F%3E%0D%0A%09%09%09%09%3Cdiv%20class%3D%22introDim%22%3E%3C%2Fdiv%3E%0D%0A%09%09%09%09%3Cimg%20class%3D%22logoImage%22%20%2F%3E%0D%0A%09%09%09%3C%2Fdiv%3E%0D%0A%09%09%09%3Cdiv%20class%3D%22mainBannerStrock%22%3E%0D%0A%09%09%09%3C%2Fdiv%3E%0D%0A%09%09%09%3Cdiv%20class%3D%22moveObjectWrap%22%3E%0D%0A%09%09%09%09%3Cdiv%20class%3D%22moveObject%22%3E%0D%0A%09%09%09%09%09%3Cdiv%20class%3D%22moveShadow%22%3E%0D%0A%09%09%09%09%09%09%3Cdiv%20class%3D%22moveShadowColor%22%3E%3C%2Fdiv%3E%0D%0A%09%09%09%09%09%3C%2Fdiv%3E%0D%0A%09%09%09%09%09%3Cimg%20class%3D%22moveImage%22%20%2F%3E%0D%0A%09%09%09%09%3C%2Fdiv%3E%0D%0A%09%09%09%3C%2Fdiv%3E%0D%0A%09%09%09%3Cdiv%20class%3D%22playIconWrap%22%3E%0D%0A%09%09%09%09%3Cdiv%20class%3D%22playIcon%22%3E%0D%0A%09%09%09%09%09%3Cimg%20class%3D%22playIconImg%22%20%2F%3E%0D%0A%09%09%09%09%09%3Cdiv%20class%3D%22light%22%3E%3C%2Fdiv%3E%0D%0A%09%09%09%09%09%3Cdiv%20class%3D%22playTexts%22%3E%0D%0A%09%09%09%09%09%09%3Cdiv%20class%3D%22map%22%3E%3C%2Fdiv%3E%0D%0A%09%09%09%09%09%09%3Cdiv%20class%3D%22map%22%3E%3C%2Fdiv%3E%0D%0A%09%09%09%09%09%09%3Cdiv%20class%3D%22map%22%3E%3C%2Fdiv%3E%0D%0A%09%09%09%09%09%09%3Cdiv%20class%3D%22map%22%3E%3C%2Fdiv%3E%0D%0A%09%09%09%09%09%09%3Cdiv%20class%3D%22map%22%3E%3C%2Fdiv%3E%0D%0A%09%09%09%09%09%3C%2Fdiv%3E%0D%0A%09%09%09%09%3C%2Fdiv%3E%0D%0A%09%09%09%09%3Cdiv%20class%3D%22playIconReadyCircleWrap%22%3E%0D%0A%09%09%09%09%09%3Csvg%20viewBox%3D%220%200%2036%2036%22%20class%3D%22playIconReadyCircle%22%3E%0D%0A%09%09%09%09%09%09%3Cpath%20class%3D%22circle%22%20stroke-dasharray%3D%220%2C%20100%22%20d%3D%22M18%202.0845%20a%2015.9155%2015.9155%200%200%201%200%2031.831%20a%2015.9155%2015.9155%200%200%201%200%20-31.831%22%20%2F%3E%0D%0A%09%09%09%09%09%3C%2Fsvg%3E%0D%0A%09%09%09%09%3C%2Fdiv%3E%0D%0A%09%09%09%3C%2Fdiv%3E%0D%0A%09%09%09%3Cimg%20class%3D%22messageBox%22%20%2F%3E%0D%0A%09%09%09%3Cdiv%20class%3D%22interaction%22%3E%0D%0A%09%09%09%09%3Ca%20class%3D%22sideA%22%20href%3D%22https%3A%2F%2Fsiape.veta.naver.com%2Ffxclick%3Feu%3DEU10043567%26calp%3D-%26oj%3DcQgn6aire5NMQBN9eG4iSEdk8rEhKsGMZn0Fvkb9lLLb21jP5wQxxrt%252FfyQDaAuK5sz8TOCxud%252BNkk40Y8MqcFu4PCndlczaCVZZyBhmNh9Um6krydHIR8ZUV3E600t9QGg3q%252Bjskg8Ds2%252FsKIsqnpH4IYR7C5ZCEFwetYPeoFYojZvrGYoqB9S%252B0EyEH%252F3kUXy6CyeKBmzL2C%252BZ8XKEzQ%26ac%3D9032591%26src%3D7299033%26br%3D4607863%26evtcd%3DP901%26x_ti%3D1500%26tb%3D%26oid%3D%26sid1%3D%26sid2%3D%26rk%3DRdZzLkTvoZOdxE31Jx8AxQ%26eltts%3DyRtwMU8%252BoUMmR5c1m5iF4Q%253D%253D%26lu%3D%26brs%3DY%26%26elu%3D98F249DF19D6F59CD73175E05EECB3BA0166CF1A6F2CC1770A4B89377F1732CAA3B4AD83C80CD69C92FA826B94B9960248452BF3A4AD985ABC7A3BCB2A64E70AFD72F9E7F4CF259DCB560A18BE79F5D4D7BA146678A6A933AD9CC6D088FBBA8E54E7D27E44AE0AFEB9D1ADECCFD32D4A19854B43A37F278BC67905F5BC7DD34B9EA43D42B6B2B35F3F9225C83EAE8CA1F88A7FFF0AF51049D8DFF8AB841C1B62%22%20target%3D%22_blank%22%20tabindex%3D%2220%22%3E%0D%0A%09%09%09%09%09%3Cspan%20class%3D%22blind%22%3E%5B%EA%B4%91%EA%B3%A0%5D%ED%95%98%EC%9D%B4%EB%B8%8C%EB%A6%AC%EB%93%9C%2C%20%EC%A0%84%EA%B8%B0%EC%B0%A8%2C%20%ED%94%8C%EB%9F%AC%EA%B7%B8%EC%9D%B8%20%ED%95%98%EC%9D%B4%EB%B8%8C%EB%A6%AC%EB%93%9C%3C%2Fspan%3E%0D%0A%09%09%09%09%3C%2Fa%3E%0D%0A%09%09%09%09%3Ca%20class%3D%22sideB%22%20href%3D%22%23%22%20tabindex%3D%2230%22%3E%0D%0A%09%09%09%09%09%3Cdiv%20class%3D%22inBox%22%20%3E%3C%2Fdiv%3E%0D%0A%09%09%09%09%09%3Cspan%20class%3D%22blind%22%3E%EA%B4%91%EA%B3%A0%20%EB%8F%99%EC%98%81%EC%83%81%20%EB%B3%B4%EA%B8%B0%3C%2Fspan%3E%0D%0A%09%09%09%09%3C%2Fa%3E%0D%0A%09%09%09%3C%2Fdiv%3E%0D%0A%09%09%3C%2Fdiv%3E%0D%0A%09%3C%2Fdiv%3E%0D%0A%09%3Cdiv%20class%3D%22videoWrap%22%3E%0D%0A%09%09%3Cdiv%20class%3D%22videoGroup%22%20style%3D%22display%3A%20none%22%3E%0D%0A%09%09%09%3Cdiv%20class%3D%22fullVideoWrap%22%3E%0D%0A%09%09%09%09%3Cimg%20class%3D%22videoCover%22%20%2F%3E%0D%0A%09%09%09%09%3Cvideo%20playsinline%20muted%20class%3D%22fullVideo%22%3E%0D%0A%09%09%09%09%09%3Csource%20type%3D%22video%2Fmp4%22%3E%0D%0A%09%09%09%09%3C%2Fvideo%3E%0D%0A%09%09%09%3C%2Fdiv%3E%0D%0A%09%09%09%3Cdiv%20class%3D%22fullVideoUI%22%3E%0D%0A%09%09%09%09%3Cbutton%20type%3D%22button%22%20class%3D%22btn_play_big%22%3E%0D%0A%09%09%09%09%09%3Cspan%20class%3D%22blind%22%3E%EB%B9%84%EB%94%94%EC%98%A4%20%EC%9E%AC%EC%83%9D%3C%2Fspan%3E%0D%0A%09%09%09%09%3C%2Fbutton%3E%0D%0A%09%09%09%09%3Ca%20class%3D%22btn_landing%22%20href%3D%22https%3A%2F%2Fsiape.veta.naver.com%2Ffxclick%3Feu%3DEU10043567%26calp%3D-%26oj%3DcQgn6aire5NMQBN9eG4iSEdk8rEhKsGMZn0Fvkb9lLLb21jP5wQxxrt%252FfyQDaAuK5sz8TOCxud%252BNkk40Y8MqcFu4PCndlczaCVZZyBhmNh9Um6krydHIR8ZUV3E600t9QGg3q%252Bjskg8Ds2%252FsKIsqnpH4IYR7C5ZCEFwetYPeoFYojZvrGYoqB9S%252B0EyEH%252F3kUXy6CyeKBmzL2C%252BZ8XKEzQ%26ac%3D9032591%26src%3D7299033%26br%3D4607864%26evtcd%3DC1034%26x_ti%3D1500%26tb%3D%26oid%3D%26sid1%3D%26sid2%3D%26rk%3DRdZzLkTvoZOdxE31Jx8AxQ%26eltts%3DyRtwMU8%252BoUMmR5c1m5iF4Q%253D%253D%26lu%3D%26brs%3DY%26%26elu%3D98F249DF19D6F59CD73175E05EECB3BA0166CF1A6F2CC1770A4B89377F1732CAA3B4AD83C80CD69C92FA826B94B9960248452BF3A4AD985ABC7A3BCB2A64E70AFD72F9E7F4CF259DCB560A18BE79F5D4D7BA146678A6A933AD9CC6D088FBBA8E54E7D27E44AE0AFEB9D1ADECCFD32D4A19854B43A37F278BC67905F5BC7DD34B9EA43D42B6B2B35F3F9225C83EAE8CA1F88A7FFF0AF51049D8DFF8AB841C1B62%22%20target%3D%22_blank%22%20tabindex%3D%2231%22%3E%0D%0A%09%09%09%09%09%3Cspan%20class%3D%22blind%22%3E%5B%EA%B4%91%EA%B3%A0%5D%ED%95%98%EC%9D%B4%EB%B8%8C%EB%A6%AC%EB%93%9C%2C%20%EC%A0%84%EA%B8%B0%EC%B0%A8%2C%20%ED%94%8C%EB%9F%AC%EA%B7%B8%EC%9D%B8%20%ED%95%98%EC%9D%B4%EB%B8%8C%EB%A6%AC%EB%93%9C%3C%2Fspan%3E%0D%0A%09%09%09%09%3C%2Fa%3E%0D%0A%09%09%09%09%3Cdiv%20class%3D%22controller%22%3E%0D%0A%09%09%09%09%09%3Cdiv%20class%3D%22prograss%22%3E%0D%0A%09%09%09%09%09%09%3Cdiv%20class%3D%22bg_bar%22%3E%3C%2Fdiv%3E%0D%0A%09%09%09%09%09%09%3Cdiv%20class%3D%22loaded_bar%22%3E%3C%2Fdiv%3E%0D%0A%09%09%09%09%09%09%3Cdiv%20class%3D%22played_bar%22%3E%3C%2Fdiv%3E%0D%0A%09%09%09%09%09%09%3Cbutton%20class%3D%22btn_handle%22%3E%0D%0A%09%09%09%09%09%09%09%3Cspan%20class%3D%22blind%22%3E%EB%B9%84%EB%94%94%EC%98%A4%20%EC%9C%84%EC%B9%98%20%EC%A1%B0%EC%A0%95%3C%2Fspan%3E%0D%0A%09%09%09%09%09%09%3C%2Fbutton%3E%0D%0A%09%09%09%09%09%3C%2Fdiv%3E%0D%0A%09%09%09%09%09%3Cdiv%20class%3D%22controll_btns%22%3E%0D%0A%09%09%09%09%09%09%3Cbutton%20class%3D%22btn_play%20pause%22%3E%0D%0A%09%09%09%09%09%09%09%3Cspan%20class%3D%22blind%22%3E%EB%B9%84%EB%94%94%EC%98%A4%20%EC%9E%AC%EC%83%9D%20%EC%9D%BC%EC%8B%9C%EC%A0%95%EC%A7%80%3C%2Fspan%3E%0D%0A%09%09%09%09%09%09%3C%2Fbutton%3E%0D%0A%09%09%09%09%09%09%3Cdiv%20class%3D%22time%22%3E%0D%0A%09%09%09%09%09%09%09%3Cspan%20class%3D%22current_time%22%3E00%3A00%3C%2Fspan%3E%0D%0A%09%09%09%09%09%09%09%3Cspan%20class%3D%22total_time%22%3E00%3A00%3C%2Fspan%3E%0D%0A%09%09%09%09%09%09%3C%2Fdiv%3E%0D%0A%09%09%09%09%09%09%3Cdiv%20class%3D%22volume%22%20draggable%3D%22false%22%3E%0D%0A%09%09%09%09%09%09%09%3Cbutton%20class%3D%22btn_volume%20mute%22%3E%0D%0A%09%09%09%09%09%09%09%09%3Cspan%20class%3D%22blind%22%3E%EB%B3%BC%EB%A5%A8%20%ED%99%9C%EC%84%B1%20%EB%B9%84%ED%99%9C%EC%84%B1%3C%2Fspan%3E%0D%0A%09%09%09%09%09%09%09%3C%2Fbutton%3E%0D%0A%09%09%09%09%09%09%09%3Cbutton%20class%3D%22volume_bar%22%20role%3D%22slider%22%20aria-label%3D%22%EB%B3%BC%EB%A5%A8%22%20aria-valuemin%3D%220%22%20aria-valuenow%3D%220%22%20aria-valuemax%3D%22100%22%20aria-valuetext%3D%220%20%ED%8D%BC%EC%84%BC%ED%8A%B8%22%3E%0D%0A%09%09%09%09%09%09%09%09%09%3Cspan%20class%3D%22blind%22%3E%EB%B3%BC%EB%A5%A8%20%EC%A1%B0%EC%A0%95%3C%2Fspan%3E%0D%0A%09%09%09%09%09%09%09%09%3Cdiv%20class%3D%22level_bar%22%3E%0D%0A%09%09%09%09%09%09%09%09%3C%2Fdiv%3E%0D%0A%09%09%09%09%09%09%09%3C%2Fbutton%3E%0D%0A%09%09%09%09%09%09%3C%2Fdiv%3E%0D%0A%09%09%09%09%09%09%3Cdiv%20class%3D%22quality%22%3E%0D%0A%09%09%09%09%09%09%09%3Cspan%20class%3D%22icon_hd%22%3E%0D%0A%09%09%09%09%09%09%09%09%3Cspan%20class%3D%22blind%22%3EHD%20%ED%91%9C%EC%8B%9C%3C%2Fspan%3E%0D%0A%09%09%09%09%09%09%09%3C%2Fspan%3E%0D%0A%09%09%09%09%09%09%3C%2Fdiv%3E%0D%0A%09%09%09%09%09%3C%2Fdiv%3E%0D%0A%09%09%09%09%3C%2Fdiv%3E%0D%0A%09%09%09%09%3Cbutton%20class%3D%22btn_close%22%3E%0D%0A%09%09%09%09%09%3Cspan%20class%3D%22blind%22%3E%EB%8B%AB%EA%B8%B0%3C%2Fspan%3E%0D%0A%09%09%09%09%3C%2Fbutton%3E%0D%0A%09%09%09%3C%2Fdiv%3E%0D%0A%09%09%3C%2Fdiv%3E%0D%0A%09%3C%2Fdiv%3E%0D%0A%3C%2Fdiv%3E%0D%0A%0D%0A%0D%0A%3Cscript%3E%0D%0A%09%2F%2F%20%EB%B3%B8%20%ED%85%9C%ED%94%8C%EB%A6%BF%EC%9D%80%20iframe%EC%9A%A9%20%ED%85%9C%ED%94%8C%EB%A6%BF%EC%9C%BC%EB%A1%9C%20%EB%A7%8C%EB%93%A4%EC%96%B4%EC%A1%8C%EC%8A%B5%EB%8B%88%EB%8B%A4.%0D%0A%0D%0A%09%2F%2F------------------------------%0D%0A%09%2F%2F%20%EC%B9%98%ED%99%98%20%EB%B3%80%EC%88%98%20%EC%98%81%EC%97%AD%20-%20%EC%8B%9C%EC%9E%91%0D%0A%09%2F%2F------------------------------%0D%0A%0D%0A%09%2F%2F%20%EA%B3%A0%EC%A0%95%20%EC%86%8C%EC%9E%AC%20prefix%0D%0A%09var%20static_src_host%20%3D%20%22https%3A%2F%2Fssl.pstatic.net%2Fmelona%2Flibs%22%3B%0D%0A%09var%20static_src_path%20%3D%20%22%2Fres%2Fwww%2Ftimeboard%2Fpremium%2F%22%3B%2F%2F%20ad.creative%EC%97%90%20%ED%8C%8C%EC%9D%BC%20%EC%9C%84%EC%B9%98%EC%8B%9C%ED%82%A4%EA%B3%A0%20%ED%95%B4%EB%8B%B9%20path%EB%A5%BC%20%EB%84%A3%EC%96%B4%EC%A4%8C%0D%0A%09var%20static_source%20%3D%20%7B%0D%0A%09%09messageImagePath%3A%20static_src_host%20%2B%20static_src_path%20%2B%20%22icn-affordance-play-balloon-w%402x.png%22%2C%0D%0A%09%09messageImageDarkPath%3A%20static_src_host%20%2B%20static_src_path%20%2B%20%22icn-affordance-play-balloon-b%402x.png%22%2C%0D%0A%09%7D%3B%0D%0A%0D%0A%09%2F%2F%20%EA%B4%91%EA%B3%A0%20%EC%86%8C%EC%9E%AC%20%EC%B9%98%ED%99%98%20%EB%B3%80%EC%88%98.%20%27https%3A%2F%2Fssl.pstatic.net%2Ftveta%2Flibs%2F1by1.gif%27%20%ED%98%95%EC%8B%9D%EC%9D%98%20xml%EA%B3%BC%20%EB%A7%A4%EC%B9%AD%20%EA%B0%92%0D%0A%09var%20ad_source%20%3D%20%7B%0D%0A%09%09bannerImagePath%3A%20%22https%3A%2F%2Fssl.pstatic.net%2Fmelona%2Flibs%2F1509%2F1509895%2F6863d4715aeb4841d53e_20241011161114758_1.png%22%2C%2F%2F%EA%B8%B0%EB%B3%B8%20%EC%9D%B4%EB%AF%B8%EC%A7%80%0D%0A%09%09bannerImageDarkPath%3A%20%22https%3A%2F%2Fssl.pstatic.net%2Fmelona%2Flibs%2F1509%2F1509895%2F9ef17c5e36ed27ffe7d1_20241011161121105_1.png%22%2C%2F%2F%EA%B8%B0%EB%B3%B8%EC%9D%B4%EB%AF%B8%EC%A7%80%28%EB%8B%A4%ED%81%AC%EB%AA%A8%EB%93%9C%EC%9A%A9%29%0D%0A%09%09mainBannerPath%3A%20%22https%3A%2F%2Fssl.pstatic.net%2Fmelona%2Flibs%2F1509%2F1509895%2F9902f4944db62952328a_20241011161133134_1.jpg%22%2C%2F%2F%EC%99%80%EC%9D%B4%EB%93%9C%EC%BB%A4%EB%B2%84%EC%9D%B4%EB%AF%B8%EC%A7%80%0D%0A%09%09moveObjectPath%3A%20%22https%3A%2F%2Fssl.pstatic.net%2Fmelona%2Flibs%2F1509%2F1509895%2F8385267429efe89e37cd_20241011161140362_1.png%22%2C%2F%2F%EB%88%84%EB%81%BC%ED%98%95%20%EC%98%A4%EB%B8%8C%EC%A0%9D%ED%8A%B8%0D%0A%09%09logoImagePath%3A%20%22https%3A%2F%2Fssl.pstatic.net%2Fmelona%2Flibs%2F1509%2F1509895%2F6128e4fb4a21b95c1cf3_20241011161149770_1.png%22%2C%2F%2F%EB%88%84%EB%81%BC%ED%98%95%20%EB%A1%9C%EA%B3%A0%20%EC%9D%B4%EB%AF%B8%EC%A7%80%0D%0A%09%09introVideoPath%3A%20%22https%3A%2F%2Ftvetamovie.pstatic.net%2Flibs%2F1509%2F1509895%2F7630bb2ac9a059be2e52_20241011161156620.mp4-pBASE-v-10-f236309-20241011161301556_1.mp4%22%2C%2F%2F%ED%99%95%EC%9E%A5%20%EC%A0%84%20%EC%98%81%EC%83%81%283%EC%B4%88%29%0D%0A%09%09fullVideoPath%3A%20%22https%3A%2F%2Ftvetamovie.pstatic.net%2Flibs%2F1509%2F1509895%2F6ec66d91e14109b3562b_20241011161209404.mp4-pHIGH-v-10-f236310-20241011161301776_1.mp4%22%2C%2F%2F%ED%99%95%EC%9E%A5%20%ED%9B%84%20%EC%98%81%EC%83%81%0D%0A%09%09videoCoverPath%3A%20%22https%3A%2F%2Fssl.pstatic.net%2Fmelona%2Flibs%2F1509%2F1509895%2Fe12fa0baca26f0c7170a_20241014093742146.jpg%22%2C%2F%2F%ED%99%95%EC%9E%A5%20%ED%9B%84%20%EC%A0%95%EC%A7%80%EC%BB%B7%20%EC%9D%B4%EB%AF%B8%EC%A7%80%0D%0A%0D%0A%09%09videoDimColor%3A%20%22rgba%28255%2C%20255%2C%20255%2C%200.9%29%22%2C%0D%0A%09%09videoDimDarkColor%3A%20%22rgba%2822%2C%2023%2C%2024%2C%200.9%29%22%2C%0D%0A%0D%0A%09%09maskBorderColor%3A%20%221px%20solid%20rgba%280%2C0%2C0%2C0.08%29%22%2C%0D%0A%09%09maskBorderDarkColor%3A%20%221px%20solid%20rgb%2868%2069%2070%29%22%2C%0D%0A%09%7D%3B%0D%0A%0D%0A%09%2F%2F------------------------------%0D%0A%09%2F%2F%20%EC%B9%98%ED%99%98%20%EB%B3%80%EC%88%98%20%EC%98%81%EC%97%AD%20-%20%EB%81%9D%0D%0A%09%2F%2F------------------------------%0D%0A%0D%0A%3C%2Fscript%3E%0D%0A%3Cscript%3E%0D%0A%0D%0A%09var%20gladBridge%20%3D%20window.gladBridge%3B%0D%0A%0D%0A%09%2F%2F------------------------------%0D%0A%09%2F%2F%20%EB%A1%9C%EA%B7%B8%20%EA%B4%80%EB%A0%A8%20%EC%BD%94%EB%93%9C%0D%0A%09%2F%2F------------------------------%0D%0A%0D%0A%09var%20logger%20%3D%20naver_corp_da.Util%20%3F%20new%20naver_corp_da.Util%28%29%20%3A%20new%20NBP_CORP.Nimp%28%29%3B%0D%0A%09logger%20%3D%20logger.log%3B%0D%0A%0D%0A%09%2F%2F%20fixme%3A%20%ED%85%8C%EC%8A%A4%ED%8A%B8%20%EC%BD%94%EB%93%9C.%20%EB%8D%B0%EB%AA%A8%20%ED%8E%98%EC%9D%B4%EC%A7%80%EC%9A%A9%20%EC%BD%94%EB%93%9C%0D%0A%09if%20%28window.location.href.indexOf%28%22%2Fsrc%2F%22%29%20%3E%20-1%29%20%7B%0D%0A%09%09logger%20%3D%20function%20%28url%29%20%7B%0D%0A%09%09%09console.log%28url%29%3B%0D%0A%09%09%7D%3B%0D%0A%0D%0A%09%09gladBridge%20%3D%20window.parent.gladBridge%3B%0D%0A%09%7D%0D%0A%0D%0A%09%2F%2F------------------------------%0D%0A%09%2F%2F%20%EB%A1%9C%EA%B7%B8%20URL%20%EC%A0%95%EB%B3%B4%0D%0A%09%2F%2F------------------------------%0D%0A%0D%0A%09var%20CLICK_LOG_URL%20%3D%20%7B%0D%0A%09%09%2F%2F%20%EC%B0%B8%EA%B3%A0%3A%20fxclick%EC%97%90%EB%8A%94%20eid%EA%B0%80%20%ED%95%84%EC%9A%94%ED%95%98%EC%A7%80%20%EC%95%8A%EC%8A%B5%EB%8B%88%EB%8B%A4.%20fxclick%EC%97%90%EC%84%9C%20t%3Di%20%EB%8A%94%20%EB%9E%9C%EB%94%A9%20%EC%97%86%EC%9D%B4%20%EB%A1%9C%EA%B7%B8%EB%A7%8C%20%EC%A0%81%EC%9A%A9%ED%95%A0%20%EB%95%8C%20%EC%98%B5%EC%85%98%EC%9E%85%EB%8B%88%EB%8B%A4.%0D%0A%09%09BANNER%3A%20%22https%3A%2F%2Fssl.pstatic.net%2Ftveta%2Flibs%2F1by1.gif%22%2C%0D%0A%09%09BANNER_EXPENDS%3A%20%22https%3A%2F%2Fssl.pstatic.net%2Ftveta%2Flibs%2F1by1.gif%22%2C%0D%0A%09%09OPENED_VIDEO%3A%20%22https%3A%2F%2Fsiape.veta.naver.com%2Ffxclick%3Feu%3DEU10043567%26calp%3D-%26oj%3DcQgn6aire5NMQBN9eG4iSEdk8rEhKsGMZn0Fvkb9lLLb21jP5wQxxrt%252FfyQDaAuK5sz8TOCxud%252BNkk40Y8MqcFu4PCndlczaCVZZyBhmNh9Um6krydHIR8ZUV3E600t9QGg3q%252Bjskg8Ds2%252FsKIsqnpH4IYR7C5ZCEFwetYPeoFYojZvrGYoqB9S%252B0EyEH%252F3kUXy6CyeKBmzL2C%252BZ8XKEzQ%26ac%3D9032591%26src%3D7299033%26br%3D4607865%26evtcd%3DC1052%26x_ti%3D1500%26tb%3D%26oid%3D%26sid1%3D%26sid2%3D%26rk%3DRdZzLkTvoZOdxE31Jx8AxQ%26eltts%3DyRtwMU8%252BoUMmR5c1m5iF4Q%253D%253D%26lu%3D%26brs%3DY%26%26t%3Di%26elu%3DE2BA0B3C65856031F471EBA9E91328D0B98452F178D98F20AFAB71CBE6C6E12F8192A83A4C55A560E4B91978222676E9%22%2C%0D%0A%09%09PLAY%3A%20%22https%3A%2F%2Fsiape.veta.naver.com%2Ffxclick%3Feu%3DEU10043567%26calp%3D-%26oj%3DcQgn6aire5NMQBN9eG4iSEdk8rEhKsGMZn0Fvkb9lLLb21jP5wQxxrt%252FfyQDaAuK5sz8TOCxud%252BNkk40Y8MqcFu4PCndlczaCVZZyBhmNh9Um6krydHIR8ZUV3E600t9QGg3q%252Bjskg8Ds2%252FsKIsqnpH4IYR7C5ZCEFwetYPeoFYojZvrGYoqB9S%252B0EyEH%252F3kUXy6CyeKBmzL2C%252BZ8XKEzQ%26ac%3D9032591%26src%3D7299033%26br%3D4607866%26evtcd%3DC1055%26x_ti%3D1500%26tb%3D%26oid%3D%26sid1%3D%26sid2%3D%26rk%3DRdZzLkTvoZOdxE31Jx8AxQ%26eltts%3DyRtwMU8%252BoUMmR5c1m5iF4Q%253D%253D%26lu%3D%26brs%3DY%26%26t%3Di%26elu%3DE2BA0B3C65856031F471EBA9E91328D0B98452F178D98F20AFAB71CBE6C6E12F8192A83A4C55A560E4B91978222676E9%22%2C%0D%0A%09%09PAUSE%3A%20%22https%3A%2F%2Fsiape.veta.naver.com%2Ffxclick%3Feu%3DEU10043567%26calp%3D-%26oj%3DcQgn6aire5NMQBN9eG4iSEdk8rEhKsGMZn0Fvkb9lLLb21jP5wQxxrt%252FfyQDaAuK5sz8TOCxud%252BNkk40Y8MqcFu4PCndlczaCVZZyBhmNh9Um6krydHIR8ZUV3E600t9QGg3q%252Bjskg8Ds2%252FsKIsqnpH4IYR7C5ZCEFwetYPeoFYojZvrGYoqB9S%252B0EyEH%252F3kUXy6CyeKBmzL2C%252BZ8XKEzQ%26ac%3D9032591%26src%3D7299033%26br%3D4607867%26evtcd%3DC1057%26x_ti%3D1500%26tb%3D%26oid%3D%26sid1%3D%26sid2%3D%26rk%3DRdZzLkTvoZOdxE31Jx8AxQ%26eltts%3DyRtwMU8%252BoUMmR5c1m5iF4Q%253D%253D%26lu%3D%26brs%3DY%26%26t%3Di%26elu%3DE2BA0B3C65856031F471EBA9E91328D0B98452F178D98F20AFAB71CBE6C6E12F8192A83A4C55A560E4B91978222676E9%22%2C%0D%0A%09%09SOUND_ON%3A%20%22https%3A%2F%2Fsiape.veta.naver.com%2Ffxclick%3Feu%3DEU10043567%26calp%3D-%26oj%3DcQgn6aire5NMQBN9eG4iSEdk8rEhKsGMZn0Fvkb9lLLb21jP5wQxxrt%252FfyQDaAuK5sz8TOCxud%252BNkk40Y8MqcFu4PCndlczaCVZZyBhmNh9Um6krydHIR8ZUV3E600t9QGg3q%252Bjskg8Ds2%252FsKIsqnpH4IYR7C5ZCEFwetYPeoFYojZvrGYoqB9S%252B0EyEH%252F3kUXy6CyeKBmzL2C%252BZ8XKEzQ%26ac%3D9032591%26src%3D7299033%26br%3D4607868%26evtcd%3DC1058%26x_ti%3D1500%26tb%3D%26oid%3D%26sid1%3D%26sid2%3D%26rk%3DRdZzLkTvoZOdxE31Jx8AxQ%26eltts%3DyRtwMU8%252BoUMmR5c1m5iF4Q%253D%253D%26lu%3D%26brs%3DY%26%26t%3Di%26elu%3DE2BA0B3C65856031F471EBA9E91328D0B98452F178D98F20AFAB71CBE6C6E12F8192A83A4C55A560E4B91978222676E9%22%2C%0D%0A%09%09SOUND_OFF%3A%20%22https%3A%2F%2Fsiape.veta.naver.com%2Ffxclick%3Feu%3DEU10043567%26calp%3D-%26oj%3DcQgn6aire5NMQBN9eG4iSEdk8rEhKsGMZn0Fvkb9lLLb21jP5wQxxrt%252FfyQDaAuK5sz8TOCxud%252BNkk40Y8MqcFu4PCndlczaCVZZyBhmNh9Um6krydHIR8ZUV3E600t9QGg3q%252Bjskg8Ds2%252FsKIsqnpH4IYR7C5ZCEFwetYPeoFYojZvrGYoqB9S%252B0EyEH%252F3kUXy6CyeKBmzL2C%252BZ8XKEzQ%26ac%3D9032591%26src%3D7299033%26br%3D4607869%26evtcd%3DC1059%26x_ti%3D1500%26tb%3D%26oid%3D%26sid1%3D%26sid2%3D%26rk%3DRdZzLkTvoZOdxE31Jx8AxQ%26eltts%3DyRtwMU8%252BoUMmR5c1m5iF4Q%253D%253D%26lu%3D%26brs%3DY%26%26t%3Di%26elu%3DE2BA0B3C65856031F471EBA9E91328D0B98452F178D98F20AFAB71CBE6C6E12F8192A83A4C55A560E4B91978222676E9%22%2C%0D%0A%09%09CLOSE%3A%20%22https%3A%2F%2Fsiape.veta.naver.com%2Ffxclick%3Feu%3DEU10043567%26calp%3D-%26oj%3DcQgn6aire5NMQBN9eG4iSEdk8rEhKsGMZn0Fvkb9lLLb21jP5wQxxrt%252FfyQDaAuK5sz8TOCxud%252BNkk40Y8MqcFu4PCndlczaCVZZyBhmNh9Um6krydHIR8ZUV3E600t9QGg3q%252Bjskg8Ds2%252FsKIsqnpH4IYR7C5ZCEFwetYPeoFYojZvrGYoqB9S%252B0EyEH%252F3kUXy6CyeKBmzL2C%252BZ8XKEzQ%26ac%3D9032591%26src%3D7299033%26br%3D4607870%26evtcd%3DCLOSE_BTN%26x_ti%3D1500%26tb%3D%26oid%3D%26sid1%3D%26sid2%3D%26rk%3DRdZzLkTvoZOdxE31Jx8AxQ%26eltts%3DyRtwMU8%252BoUMmR5c1m5iF4Q%253D%253D%26lu%3D%26brs%3DY%26%26t%3Di%26elu%3DE2BA0B3C65856031F471EBA9E91328D0B98452F178D98F20AFAB71CBE6C6E12F8192A83A4C55A560E4B91978222676E9%22%0D%0A%09%7D%3B%0D%0A%0D%0A%09var%20VIEW_LOG_URL%20%3D%20%7B%0D%0A%09%09VALID_VIEW%3A%20getViewLogUrl%28%5B%22eu%3DEU10043567%26calp%3D-%26oj%3DcQgn6aire5NMQBN9eG4iSEdk8rEhKsGMZn0Fvkb9lLLb21jP5wQxxrt%252FfyQDaAuK5sz8TOCxud%252BNkk40Y8MqcFu4PCndlczaCVZZyBhmNh9Um6krydHIR8ZUV3E600t9QGg3q%252Bjskg8Ds2%252FsKIsqnpH4IYR7C5ZCEFwetYPeoFYojZvrGYoqB9S%252B0EyEH%252F3kUXy6CyeKBmzL2C%252BZ8XKEzQ%26ac%3D9032591%26src%3D7299033%26evtcd%3DV900%26x_ti%3D1500%26tb%3D%26oid%3D%26sid1%3D%26sid2%3D%26rk%3DRdZzLkTvoZOdxE31Jx8AxQ%26eltts%3DyRtwMU8%252BoUMmR5c1m5iF4Q%253D%253D%26brs%3DY%26%22%2C%20%22eid%3DV900%22%5D%29%2C%0D%0A%09%09INIT_VIEW%3A%20getViewLogUrl%28%5B%22eu%3DEU10043567%26calp%3D-%26oj%3DcQgn6aire5NMQBN9eG4iSEdk8rEhKsGMZn0Fvkb9lLLb21jP5wQxxrt%252FfyQDaAuK5sz8TOCxud%252BNkk40Y8MqcFu4PCndlczaCVZZyBhmNh9Um6krydHIR8ZUV3E600t9QGg3q%252Bjskg8Ds2%252FsKIsqnpH4IYR7C5ZCEFwetYPeoFYojZvrGYoqB9S%252B0EyEH%252F3kUXy6CyeKBmzL2C%252BZ8XKEzQ%26ac%3D9032591%26src%3D7299046%26evtcd%3DV602%26x_ti%3D1500%26tb%3D%26oid%3D%26sid1%3D%26sid2%3D%26rk%3DRdZzLkTvoZOdxE31Jx8AxQ%26eltts%3DyRtwMU8%252BoUMmR5c1m5iF4Q%253D%253D%26brs%3DY%26%22%2C%20%22eid%3DV810%22%5D%29%2C%0D%0A%09%09SECONDS_10%3A%20getViewLogUrl%28%5B%22eu%3DEU10043567%26calp%3D-%26oj%3DcQgn6aire5NMQBN9eG4iSEdk8rEhKsGMZn0Fvkb9lLLb21jP5wQxxrt%252FfyQDaAuK5sz8TOCxud%252BNkk40Y8MqcFu4PCndlczaCVZZyBhmNh9Um6krydHIR8ZUV3E600t9QGg3q%252Bjskg8Ds2%252FsKIsqnpH4IYR7C5ZCEFwetYPeoFYojZvrGYoqB9S%252B0EyEH%252F3kUXy6CyeKBmzL2C%252BZ8XKEzQ%26ac%3D9032591%26src%3D7299041%26evtcd%3DP225%26x_ti%3D1500%26tb%3D%26oid%3D%26sid1%3D%26sid2%3D%26rk%3DRdZzLkTvoZOdxE31Jx8AxQ%26eltts%3DyRtwMU8%252BoUMmR5c1m5iF4Q%253D%253D%26brs%3DY%26%22%2C%20%22eid%3DP225%22%5D%29%2C%0D%0A%09%09PROGRESS_25%3A%20getViewLogUrl%28%5B%22eu%3DEU10043567%26calp%3D-%26oj%3DcQgn6aire5NMQBN9eG4iSEdk8rEhKsGMZn0Fvkb9lLLb21jP5wQxxrt%252FfyQDaAuK5sz8TOCxud%252BNkk40Y8MqcFu4PCndlczaCVZZyBhmNh9Um6krydHIR8ZUV3E600t9QGg3q%252Bjskg8Ds2%252FsKIsqnpH4IYR7C5ZCEFwetYPeoFYojZvrGYoqB9S%252B0EyEH%252F3kUXy6CyeKBmzL2C%252BZ8XKEzQ%26ac%3D9032591%26src%3D7299042%26evtcd%3DP201%26x_ti%3D1500%26tb%3D%26oid%3D%26sid1%3D%26sid2%3D%26rk%3DRdZzLkTvoZOdxE31Jx8AxQ%26eltts%3DyRtwMU8%252BoUMmR5c1m5iF4Q%253D%253D%26brs%3DY%26%22%2C%20%22eid%3DP201%22%5D%29%2C%0D%0A%09%09PROGRESS_50%3A%20getViewLogUrl%28%5B%22eu%3DEU10043567%26calp%3D-%26oj%3DcQgn6aire5NMQBN9eG4iSEdk8rEhKsGMZn0Fvkb9lLLb21jP5wQxxrt%252FfyQDaAuK5sz8TOCxud%252BNkk40Y8MqcFu4PCndlczaCVZZyBhmNh9Um6krydHIR8ZUV3E600t9QGg3q%252Bjskg8Ds2%252FsKIsqnpH4IYR7C5ZCEFwetYPeoFYojZvrGYoqB9S%252B0EyEH%252F3kUXy6CyeKBmzL2C%252BZ8XKEzQ%26ac%3D9032591%26src%3D7299043%26evtcd%3DP202%26x_ti%3D1500%26tb%3D%26oid%3D%26sid1%3D%26sid2%3D%26rk%3DRdZzLkTvoZOdxE31Jx8AxQ%26eltts%3DyRtwMU8%252BoUMmR5c1m5iF4Q%253D%253D%26brs%3DY%26%22%2C%20%22eid%3DP202%22%5D%29%2C%0D%0A%09%09PROGRESS_75%3A%20getViewLogUrl%28%5B%22eu%3DEU10043567%26calp%3D-%26oj%3DcQgn6aire5NMQBN9eG4iSEdk8rEhKsGMZn0Fvkb9lLLb21jP5wQxxrt%252FfyQDaAuK5sz8TOCxud%252BNkk40Y8MqcFu4PCndlczaCVZZyBhmNh9Um6krydHIR8ZUV3E600t9QGg3q%252Bjskg8Ds2%252FsKIsqnpH4IYR7C5ZCEFwetYPeoFYojZvrGYoqB9S%252B0EyEH%252F3kUXy6CyeKBmzL2C%252BZ8XKEzQ%26ac%3D9032591%26src%3D7299044%26evtcd%3DP203%26x_ti%3D1500%26tb%3D%26oid%3D%26sid1%3D%26sid2%3D%26rk%3DRdZzLkTvoZOdxE31Jx8AxQ%26eltts%3DyRtwMU8%252BoUMmR5c1m5iF4Q%253D%253D%26brs%3DY%26%22%2C%20%22eid%3DP203%22%5D%29%2C%0D%0A%09%09PROGRESS_100%3A%20getViewLogUrl%28%5B%22eu%3DEU10043567%26calp%3D-%26oj%3DcQgn6aire5NMQBN9eG4iSEdk8rEhKsGMZn0Fvkb9lLLb21jP5wQxxrt%252FfyQDaAuK5sz8TOCxud%252BNkk40Y8MqcFu4PCndlczaCVZZyBhmNh9Um6krydHIR8ZUV3E600t9QGg3q%252Bjskg8Ds2%252FsKIsqnpH4IYR7C5ZCEFwetYPeoFYojZvrGYoqB9S%252B0EyEH%252F3kUXy6CyeKBmzL2C%252BZ8XKEzQ%26ac%3D9032591%26src%3D7299045%26evtcd%3DP204%26x_ti%3D1500%26tb%3D%26oid%3D%26sid1%3D%26sid2%3D%26rk%3DRdZzLkTvoZOdxE31Jx8AxQ%26eltts%3DyRtwMU8%252BoUMmR5c1m5iF4Q%253D%253D%26brs%3DY%26%22%2C%20%22eid%3DP204%22%5D%29%0D%0A%09%7D%3B%0D%0A%0D%0A%09var%20isSeconds_10%20%3D%20false%3B%0D%0A%09var%20isProgress_25%20%3D%20false%3B%0D%0A%09var%20isProgress_50%20%3D%20false%3B%0D%0A%09var%20isProgress_75%20%3D%20false%3B%0D%0A%09var%20isProgress_100%20%3D%20false%3B%0D%0A%0D%0A%09var%20resetVideoViewLog%20%3D%20function%28%29%20%7B%0D%0A%09%09isSeconds_10%20%3D%20false%3B%0D%0A%09%09isProgress_25%20%3D%20false%3B%0D%0A%09%09isProgress_50%20%3D%20false%3B%0D%0A%09%09isProgress_75%20%3D%20false%3B%0D%0A%09%09isProgress_100%20%3D%20false%3B%0D%0A%09%7D%3B%0D%0A%0D%0A%09%2F%2F------------------------------%0D%0A%09%2F%2F%20%EC%9D%91%EB%8B%B5%EB%85%B8%EC%B6%9C%20%EB%A1%9C%EA%B7%B8%0D%0A%09%2F%2F------------------------------%0D%0A%0D%0A%09logger%28VIEW_LOG_URL.INIT_VIEW%29%3B%0D%0A%0D%0A%09%2F%2F------------------------------%0D%0A%09%2F%2F%20%EB%A1%9C%EA%B7%B8%20%ED%95%B8%EB%93%A4%EB%9F%AC%20%ED%95%A8%EC%88%98%0D%0A%09%2F%2F------------------------------%0D%0A%0D%0A%09var%20onProgressVideoLog%20%3D%20function%20%28currentTime%2C%20duration%29%20%7B%0D%0A%09%09if%20%28currentTime%20%3C%201%29%20%7B%0D%0A%09%09%09%2F%2F%20%EC%B2%98%EC%9D%8C%EB%B6%80%ED%84%B0%20%EB%8B%A4%EC%8B%9C%20%EB%B3%BC%20%EA%B2%BD%EC%9A%B0%20%EB%8F%99%EC%98%81%EC%83%81%20%EB%A1%9C%EA%B7%B8%20%EC%B4%88%EA%B8%B0%ED%99%94%0D%0A%09%09%09resetVideoViewLog%28%29%3B%0D%0A%09%09%7D%20else%20%7B%0D%0A%09%09%09var%20progress%20%3D%20currentTime%20%2F%20duration%3B%0D%0A%0D%0A%09%09%09%2F%2F%20%EB%8F%99%EC%98%81%EC%83%81%2010%EC%B4%88%20%EC%A7%80%EC%A0%90%EC%9D%84%20%EC%8B%9C%EC%B2%AD%ED%96%88%EB%8A%94%EC%A7%80%20%EC%97%AC%EB%B6%80%0D%0A%09%09%09if%20%28%21isSeconds_10%20%26%26%20currentTime%20%3E%3D%2010%20%26%26%20currentTime%20%3C%2011%29%20%7B%0D%0A%09%09%09%09isSeconds_10%20%3D%20true%3B%0D%0A%09%09%09%09logger%28VIEW_LOG_URL.SECONDS_10%29%3B%0D%0A%09%09%09%7D%0D%0A%0D%0A%09%09%09%2F%2F%20%EB%8F%99%EC%98%81%EC%83%81%2025%25%2C%2050%25%2C%2075%25%2C%20100%25%20%EC%A7%80%EC%A0%90%EC%9D%84%20%EC%8B%9C%EC%B2%AD%ED%96%88%EB%8A%94%EC%A7%80%20%EC%97%AC%EB%B6%80%20%EC%B2%B4%ED%81%AC%0D%0A%09%09%09if%20%28%21isProgress_100%20%26%26%20progress%20%3D%3D%201%29%20%7B%0D%0A%09%09%09%09isProgress_100%20%3D%20true%3B%0D%0A%09%09%09%09logger%28VIEW_LOG_URL.PROGRESS_100%29%3B%0D%0A%09%09%09%7D%20else%20if%20%28%21isProgress_75%20%26%26%20progress%20%3E%3D%200.75%20%26%26%20progress%20%3C%200.80%29%20%7B%0D%0A%09%09%09%09isProgress_75%20%3D%20true%3B%0D%0A%09%09%09%09logger%28VIEW_LOG_URL.PROGRESS_75%29%3B%0D%0A%09%09%09%7D%20else%20if%20%28%21isProgress_50%20%26%26%20progress%20%3E%3D%200.50%20%26%26%20progress%20%3C%200.55%29%20%7B%0D%0A%09%09%09%09isProgress_50%20%3D%20true%3B%0D%0A%09%09%09%09logger%28VIEW_LOG_URL.PROGRESS_50%29%3B%0D%0A%09%09%09%7D%20else%20if%20%28%21isProgress_25%20%26%26%20progress%20%3E%3D%200.25%20%26%26%20progress%20%3C%200.30%29%20%7B%0D%0A%09%09%09%09isProgress_25%20%3D%20true%3B%0D%0A%09%09%09%09logger%28VIEW_LOG_URL.PROGRESS_25%29%3B%0D%0A%09%09%09%7D%0D%0A%09%09%7D%0D%0A%09%7D%3B%0D%0A%0D%0A%09%2F%2F------------------------------%0D%0A%09%2F%2F%20%EB%A1%9C%EA%B7%B8%20URL%20%EC%83%9D%EC%84%B1%20%ED%95%A8%EC%88%98%0D%0A%09%2F%2F------------------------------%0D%0A%0D%0A%09function%20getClickLogUrl%28querys%29%20%7B%0D%0A%09%09var%20url%20%3D%20%22https%3A%2F%2Fsiape.veta.naver.com%2Ffxclick%3Ft%3Di%26%22%20%2B%20querys.join%28%22%26%22%29%3B%0D%0A%09%09return%20url%3B%0D%0A%09%7D%0D%0A%0D%0A%09function%20getViewLogUrl%28querys%29%20%7B%0D%0A%09%09var%20url%20%3D%20%22https%3A%2F%2Fsiape.veta.naver.com%2Ffxview%3F%22%20%2B%20querys.join%28%22%26%22%29%3B%0D%0A%09%09return%20url%3B%0D%0A%09%7D%0D%0A%3C%2Fscript%3E%0D%0A%3Cscript%3E%0D%0A%0D%0A%09var%20isIE%20%3D%20navigator.appName%20%3D%3D%20%22Netscape%22%20%26%26%20navigator.userAgent.search%28%22Trident%22%29%20%21%3D%20-1%20%7C%7C%20navigator.userAgent.indexOf%28%22MSIE%22%29%20%21%3D%20-1%3B%0D%0A%09var%20freqCnt%20%3D%20%22-1%22%3B%0D%0A%09var%20isSkipIntro%20%3D%20isIE%20%7C%7C%20parseInt%28freqCnt%29%20%3E%202%3B%0D%0A%0D%0A%09var%20naver_corp_da%20%3D%20window.naver_corp_da%20%7C%7C%20%7B%7D%3B%0D%0A%0D%0A%09var%20bridgeInterface%20%3D%20gladBridge.createSdkBridge%28%29%3B%0D%0A%0D%0A%09var%20adouter%20%3D%20document.querySelector%28%22.adouter%22%29%3B%0D%0A%09var%20sideA%20%3D%20document.querySelector%28%22.adouter%20.ad%20.adWrap%20.interaction%20.sideA%22%29%3B%0D%0A%0D%0A%09var%20adOptions%20%3D%20%7B%0D%0A%09%09expandedMinWidth%3A%201340%2C%0D%0A%09%09defaultWidth%3A%20976%2C%0D%0A%09%09defaultHeight%3A%20130%2C%0D%0A%0D%0A%09%09messageImagePath%3A%20static_source.messageImagePath%2C%0D%0A%09%09messageImageDarkPath%3A%20static_source.messageImageDarkPath%2C%0D%0A%0D%0A%09%09mainBannerPath%3A%20ad_source.mainBannerPath%2C%0D%0A%09%09moveObjectPath%3A%20ad_source.moveObjectPath%2C%0D%0A%09%09logoImagePath%3A%20ad_source.logoImagePath%2C%0D%0A%0D%0A%09%09videoCoverPath%3A%20ad_source.videoCoverPath%2C%0D%0A%09%09introVideoPath%3A%20ad_source.introVideoPath%2C%0D%0A%09%09fullVideoPath%3A%20ad_source.fullVideoPath%2C%0D%0A%0D%0A%09%09bannerImagePath%3A%20ad_source.bannerImagePath%2C%0D%0A%09%09bannerImageDarkPath%3A%20ad_source.bannerImageDarkPath%2C%0D%0A%0D%0A%09%09videoDimColor%3A%20ad_source.videoDimColor%2C%0D%0A%09%09videoDimDarkColor%3A%20ad_source.videoDimDarkColor%2C%0D%0A%0D%0A%09%09maskBorderColor%3A%20ad_source.maskBorderColor%2C%0D%0A%09%09maskBorderDarkColor%3A%20ad_source.maskBorderDarkColor%2C%0D%0A%0D%0A%09%09onEventHandler%3A%20onEventHandler%2C%0D%0A%09%09onProgressVideoLog%3A%20onProgressVideoLog%2C%0D%0A%09%09isSkipIntro%3A%20isSkipIntro%2C%0D%0A%09%09isIE%3A%20isIE%0D%0A%09%7D%3B%0D%0A%0D%0A%09if%20%28isSkipIntro%29%20%7B%0D%0A%09%09bridgeInterface.resize%28adOptions.defaultWidth%2C%20adOptions.defaultHeight%29%3B%0D%0A%09%7D%20else%20%7B%0D%0A%09%09bridgeInterface.resize%28adOptions.expandedMinWidth%2C%20adOptions.defaultHeight%29%3B%0D%0A%09%7D%0D%0A%0D%0A%09function%20onEventHandler%28type%29%20%7B%0D%0A%09%09%2F%2F%20console.log%28%22%5BonEventHandler%5D%22%2C%20type%29%3B%0D%0A%09%09var%20logUrl%20%3D%20CLICK_LOG_URL%5Btype%5D%3B%0D%0A%09%09if%20%28logUrl%29%20%7B%0D%0A%09%09%09logger%28logUrl%29%3B%0D%0A%09%09%7D%0D%0A%0D%0A%09%09if%20%28type%20%3D%3D%20%22OPENED_VIDEO%22%29%20%7B%0D%0A%09%09%09sideA.href%20%3D%20%22https%3A%2F%2Fsiape.veta.naver.com%2Ffxclick%3Feu%3DEU10043567%26calp%3D-%26oj%3DcQgn6aire5NMQBN9eG4iSEdk8rEhKsGMZn0Fvkb9lLLb21jP5wQxxrt%252FfyQDaAuK5sz8TOCxud%252BNkk40Y8MqcFu4PCndlczaCVZZyBhmNh9Um6krydHIR8ZUV3E600t9QGg3q%252Bjskg8Ds2%252FsKIsqnpH4IYR7C5ZCEFwetYPeoFYojZvrGYoqB9S%252B0EyEH%252F3kUXy6CyeKBmzL2C%252BZ8XKEzQ%26ac%3D9032591%26src%3D7299033%26br%3D4607864%26evtcd%3DC1034%26x_ti%3D1500%26tb%3D%26oid%3D%26sid1%3D%26sid2%3D%26rk%3DRdZzLkTvoZOdxE31Jx8AxQ%26eltts%3DyRtwMU8%252BoUMmR5c1m5iF4Q%253D%253D%26lu%3D%26brs%3DY%26%26elu%3D98F249DF19D6F59CD73175E05EECB3BA0166CF1A6F2CC1770A4B89377F1732CAA3B4AD83C80CD69C92FA826B94B9960248452BF3A4AD985ABC7A3BCB2A64E70AFD72F9E7F4CF259DCB560A18BE79F5D4D7BA146678A6A933AD9CC6D088FBBA8E54E7D27E44AE0AFEB9D1ADECCFD32D4A19854B43A37F278BC67905F5BC7DD34B9EA43D42B6B2B35F3F9225C83EAE8CA1F88A7FFF0AF51049D8DFF8AB841C1B62%22%3B%0D%0A%09%09%7D%20else%20if%20%28type%20%3D%3D%20%22CLOSE%22%29%20%7B%0D%0A%09%09%09sideA.href%20%3D%20%22https%3A%2F%2Fsiape.veta.naver.com%2Ffxclick%3Feu%3DEU10043567%26calp%3D-%26oj%3DcQgn6aire5NMQBN9eG4iSEdk8rEhKsGMZn0Fvkb9lLLb21jP5wQxxrt%252FfyQDaAuK5sz8TOCxud%252BNkk40Y8MqcFu4PCndlczaCVZZyBhmNh9Um6krydHIR8ZUV3E600t9QGg3q%252Bjskg8Ds2%252FsKIsqnpH4IYR7C5ZCEFwetYPeoFYojZvrGYoqB9S%252B0EyEH%252F3kUXy6CyeKBmzL2C%252BZ8XKEzQ%26ac%3D9032591%26src%3D7299033%26br%3D4607863%26evtcd%3DP901%26x_ti%3D1500%26tb%3D%26oid%3D%26sid1%3D%26sid2%3D%26rk%3DRdZzLkTvoZOdxE31Jx8AxQ%26eltts%3DyRtwMU8%252BoUMmR5c1m5iF4Q%253D%253D%26lu%3D%26brs%3DY%26%26elu%3D98F249DF19D6F59CD73175E05EECB3BA0166CF1A6F2CC1770A4B89377F1732CAA3B4AD83C80CD69C92FA826B94B9960248452BF3A4AD985ABC7A3BCB2A64E70AFD72F9E7F4CF259DCB560A18BE79F5D4D7BA146678A6A933AD9CC6D088FBBA8E54E7D27E44AE0AFEB9D1ADECCFD32D4A19854B43A37F278BC67905F5BC7DD34B9EA43D42B6B2B35F3F9225C83EAE8CA1F88A7FFF0AF51049D8DFF8AB841C1B62%22%3B%0D%0A%09%09%7D%20%20else%20if%20%28type%20%3D%3D%20%22INTRO_MOTION_COMPLATE%22%29%20%7B%0D%0A%09%09%09bridgeInterface.resize%28adOptions.defaultWidth%2C%20adOptions.defaultHeight%29%3B%0D%0A%09%09%7D%0D%0A%09%7D%0D%0A%0D%0A%09var%20adModule%20%3D%20new%20naver_corp_da.adTimeboardPrimiumModule%28bridgeInterface%2C%20adOptions%29%3B%0D%0A%0D%0A%09var%20eventList%20%3D%20%7B%7D%3B%0D%0A%09eventList%5BgladBridge.EVENT.READY%5D%20%3D%20onReady%3B%0D%0A%09eventList%5BgladBridge.EVENT.HOSTMETA_CHANGED%5D%20%3D%20onHostmetaChange%3B%0D%0A%09eventList%5BgladBridge.EVENT.POSITION_UPDATED%5D%20%3D%20onPositionUpdate%3B%0D%0A%09eventList%5BgladBridge.EVENT.VIEWABLED%5D%20%3D%20onViewabled%3B%0D%0A%09bridgeInterface.setEventListeners%28eventList%29%3B%0D%0A%0D%0A%09function%20onReady%28evtData%29%20%7B%0D%0A%09%09%2F%2F%20console.log%28%22%5Bbridge.EVENT%5D%20onReady%22%29%3B%0D%0A%09%09adouter.classList.add%28%22ad-fade-in%22%29%3B%0D%0A%09%7D%0D%0A%0D%0A%09%2F%2A%2A%0D%0A%09%2A%20window%20dark%20%EB%AA%A8%EB%93%9C%20%EB%B3%80%EA%B2%BD%20%EC%9D%B4%EB%B2%A4%ED%8A%B8%20%ED%95%B8%EB%93%A4%EB%9F%AC%0D%0A%09%2A%2F%0D%0A%09function%20onHostmetaChange%28evtData%29%20%7B%0D%0A%09%09%2F%2F%20console.log%28%22%5Bbridge.EVENT%5D%20onHostmetaChange%22%29%3B%0D%0A%09%09if%20%28evtData.theme%29%20%7B%0D%0A%09%09%09var%20isDark%20%3D%20evtData.theme%20%21%3D%3D%20%22light%22%3B%0D%0A%09%09%09adModule.modeStyle%28isDark%29%3B%0D%0A%09%09%7D%0D%0A%09%7D%0D%0A%0D%0A%09%2F%2A%2A%0D%0A%09%2A%20window%20resize%20%EC%9D%B4%EB%B2%A4%ED%8A%B8%20%ED%95%B8%EB%93%A4%EB%9F%AC%0D%0A%09%2A%2F%0D%0A%09function%20onPositionUpdate%28evtData%29%20%7B%0D%0A%09%09var%20parInfo%20%3D%20evtData.parInfo%3B%0D%0A%09%09adModule.onResize%28parInfo%29%3B%0D%0A%09%7D%0D%0A%0D%0A%09%2F%2A%2A%0D%0A%09%2A%20%EA%B4%91%EA%B3%A0%20%EC%9C%A0%ED%9A%A8%EB%85%B8%EC%B6%9C%20%EB%A1%9C%EA%B7%B8%0D%0A%09%2A%2F%0D%0A%09function%20onViewabled%28%29%20%7B%0D%0A%09%09%2F%2F%20console.log%28%22%5Bbridge.EVENT%5D%20onViewabled%22%29%3B%0D%0A%09%09logger%28VIEW_LOG_URL.VALID_VIEW%29%3B%0D%0A%09%7D%0D%0A%3C%2Fscript%3E\",\"encoded\":1,\"responseSize\":{\"height\":150,\"width\":1444,\"force\":0},\"template\":\"%3C%21doctype%20html%3E%3Chtml%3E%3Chead%3E%3Cmeta%20name%3D%22viewport%22%20content%3D%22width%3Ddevice-width%2C%20user-scalable%3Dno%22%2F%3E%3Cstyle%20data-gfp-role%3D%22adMarkLegacyStyle%22%3E%5Bdata-gfp-role%3D%22adMarkLegacy%22%5D%20%7Bdisplay%3A%20none%3B%7D%3C%2Fstyle%3E%3Cscript%3Ewindow.gladBridge%20%3D%20%7BRUNTIME%3A%20%22InApp%22%7D%3B%3C%2Fscript%3E%3C%2Fhead%3E%3Cbody%20style%3D%22margin%3A%200%3B%20padding%3A%200%22%3E%7B%7Badm%7D%7D%3Cscript%20src%3D%22https%3A%2F%2Fssl.pstatic.net%2Ftveta%2Flibs%2Fglad_admute%2Fprod%2Fglad-admute.js%22%3E%3C%2Fscript%3E%3Cscript%3Econst%20adMuteOptions%20%3D%20%7BmuteUrl%3A%20%22%25%25MUTE_URL%25%25%22%2C%20privacyUrl%3A%20%22%25%25PRIV_URL%25%25%22%2C%20creativeType%3A%20%22BANNER%22%2C%20runtimeType%3A%20%22InApp%22%7D%3B%20if%28adMuteOptions.muteUrl%20%7C%7C%20adMuteOptions.privacyUrl%29%20%7B%20window.gladAdMute.checkAdMarkLegacyStyle%28adMuteOptions%29%3B%20const%20adMuteController%20%3D%20window.gladAdMute.createAdMuteController%28adMuteOptions%29%3B%20adMuteController.render%28%29%3B%20%7D%3C%2Fscript%3E%3C%2Fbody%3E%3C%2Fhtml%3E\"}},{\"encrypted\":\"4SyvLPUkF_GCX8JJR2TALKwCQ0fi7M9pgxkkG-ZibH2CVnw374Rcm5UTVvgLStnQEDP-Px9MERf24hrgOFkS826vdw6kVDtHbnGIIVnC4SOsGBBjyfFpuuFAjGL69qC9gCnEIygIRr8GnLFQAf-_6oa2ZyAYVi8oYQJGa5NaGCdctgvR6KgtcjLOr1q5HPVk0GnnHXJjFe6u4g5CeEjQ2e_NKFQa4j26lPmwnH0Ee0UoV_SD4hkvBBUmCkgzNS3vtUWKzxDxGOGplgjbIoOdpuanzkI53q73iN2lvqpBqfqKS87EnHzGYcJ-K9bUrLCFsFSwtwhqcbbLqG4sbCzMwI7L-xs8znyx1cPdAvdJQwCfsc0tcn-GlfqLi5v1xMToaLLfs_cSIoOVlY6J0psSbzDX8i9XeLztBEex98ToJLfsuvfwvEa0foHWwf5RNJMGIQTc8o6_98qGe0kfOJxZ1g==\",\"connectionType\":\"S2S\",\"adProviderName\":\"GFP\",\"layoutType\":\"FLUID\",\"creativeType\":\"BANNER\",\"renderType\":\"EMPTY\",\"eventTracking\":{\"ackImpressions\":[{\"url\":\"https://siape.veta.naver.com/openrtb/nbackimp?eu=EU10043567\\u0026oj=cQgn6aire5NMQBN9eG4iSEdk8rEhKsGMZn0Fvkb9lLLb21jP5wQxxrt%2FfyQDaAuK5sz8TOCxud%2BNkk40Y8MqcFu4PCndlczaCVZZyBhmNh9Um6krydHIR8ZUV3E600t9QGg3q%2Bjskg8Ds2%2FsKIsqnpH4IYR7C5ZCEFwetYPeoFYojZvrGYoqB9S%2B0EyEH%2F3kUXy6CyeKBmzL2C%2BZ8XKEzQ\\u0026evtcd=BID_LOSE\\u0026rk=RdZzLkTvoZOdxE31Jx8AxQ\\u0026eltts=yRtwMU8%2BoUMmR5c1m5iF4Q%3D%3D\\u0026calp=-\\u0026ac=9032591\\u0026src=7299033\\u0026x_ti=1500\\u0026brs=Y\"}],\"attached\":[],\"activeViewImpressions\":[{\"url\":\"https://siape.veta.naver.com/openrtb/nbimp?oj=cQgn6aire5NMQBN9eG4iSEdk8rEhKsGMZn0Fvkb9lLLb21jP5wQxxrt%2FfyQDaAuK5sz8TOCxud%2BNkk40Y8MqcFu4PCndlczaCVZZyBhmNh9Um6krydHIR8ZUV3E600t9QGg3q%2Bjskg8Ds2%2FsKIsqnpH4IYR7C5ZCEFwetYPeoFYojZvrGYoqB9S%2B0EyEH%2F3kUXy6CyeKBmzL2C%2BZ8XKEzQ\\u0026rk=RdZzLkTvoZOdxE31Jx8AxQ\\u0026eltts=yRtwMU8%2BoUMmR5c1m5iF4Q%3D%3D\"}],\"renderedImpressions\":[],\"viewableImpressions\":[{\"url\":\"https://siape.veta.naver.com/openrtb/nbimp?oj=cQgn6aire5NMQBN9eG4iSEdk8rEhKsGMZn0Fvkb9lLLb21jP5wQxxrt%2FfyQDaAuK5sz8TOCxud%2BNkk40Y8MqcFu4PCndlczaCVZZyBhmNh9Um6krydHIR8ZUV3E600t9QGg3q%2Bjskg8Ds2%2FsKIsqnpH4IYR7C5ZCEFwetYPeoFYojZvrGYoqB9S%2B0EyEH%2F3kUXy6CyeKBmzL2C%2BZ8XKEzQ\\u0026rk=RdZzLkTvoZOdxE31Jx8AxQ\\u0026eltts=yRtwMU8%2BoUMmR5c1m5iF4Q%3D%3D\"}],\"clicks\":[],\"vimp1px\":[],\"vimp100\":[],\"vimp100p\":[],\"admute\":[],\"advmute\":[],\"like\":[],\"unlike\":[],\"close\":[],\"bounce\":[]},\"adInfo\":{\"responseSize\":{\"height\":0,\"width\":0}}}],\"config\":{\"imp\":{\"ratio\":100,\"ms\":0}}},\"additionalInfo\":{\"adCount\":1,\"adDuplicate\":{\"advertiserDomains\":[\"www.kia.com\"],\"adDuplicationKeys\":[\"URL:https://www.kia.com\"]},\"adSize\":{\"h\":150,\"w\":1444}}}\n",
            "</script> <div id=\"wrap\"> <div id=\"header\" role=\"banner\"> <div id=\"topSearchWrap\" class=\"header_inner\"> <div id=\"special-logo\" class=\"search_special_bg\"></div> <div id=\"timeboard-ex\" class=\"ad_area\" style=\"min-width:1340px\"> </div> <div id=\"search_area\" class=\"search_area\" style=\"border-color:#fff\"> <div class=\"search_group\"> <div id=\"search\" class=\"search_group_inner\"> <h1 id=\"special-input-logo\" class=\"search_logo\"></h1> <form id=\"sform\" name=\"search\" role=\"search\" action=\"https://search.naver.com/search.naver\" method=\"get\"> <fieldset> <legend class=\"blind\">검색</legend> <input type=\"hidden\" name=\"where\" value=\"nexearch\"/> <input type=\"hidden\" id=\"sm\" name=\"sm\" value=\"top_hty\"/> <input type=\"hidden\" id=\"fbm\" name=\"fbm\" value=\"0\"/> <input type=\"hidden\" id=\"acr\" name=\"acr\" value=\"\" disabled=\"disabled\"/> <input type=\"hidden\" id=\"acq\" name=\"acq\" value=\"\" disabled=\"disabled\"/> <input type=\"hidden\" id=\"qdt\" name=\"qdt\" value=\"\" disabled=\"disabled\"/> <input type=\"hidden\" id=\"ie\" name=\"ie\" value=\"utf8\"/> <input type=\"hidden\" id=\"acir\" name=\"acir\" value=\"\" disabled=\"disabled\"/> <input type=\"hidden\" id=\"os\" name=\"os\" value=\"\" disabled=\"disabled\"/> <input type=\"hidden\" id=\"bid\" name=\"bid\" value=\"\" disabled=\"disabled\"/> <input type=\"hidden\" id=\"pkid\" name=\"pkid\" value=\"\" disabled=\"disabled\"/> <input type=\"hidden\" id=\"eid\" name=\"eid\" value=\"\" disabled=\"disabled\"/> <input type=\"hidden\" id=\"mra\" name=\"mra\" value=\"\" disabled=\"disabled\"/> <div class=\"search_input_box\"> <input id=\"query\" name=\"query\" type=\"search\" title=\"검색어를 입력해 주세요.\" placeholder=\"검색어를 입력해 주세요.\" maxlength=\"255\" autocomplete=\"off\" class=\"search_input\" data-atcmp-element/> </div> <button type=\"submit\" class=\"btn_search\" onclick='window.ntm.push({event:\"nclick\",el:this,click_area:\"sch.action\"})'> <span class=\"ico_btn_search_svg\"> <svg id=\"search-btn\" viewBox=\"0 0 50 50\" xmlns=\"http://www.w3.org/2000/svg\"> <path d=\"M22.13.5c11.378 0 20.632 9.256 20.632 20.63 0 4.699-1.566 9.155-4.439 12.782l10.164 10.165a2.41 2.41 0 0 1-1.706 4.115 2.412 2.412 0 0 1-1.706-.705L33.31 35.719a2.41 2.41 0 0 1 0-3.41 15.71 15.71 0 0 0 4.628-11.178c0-8.718-7.09-15.808-15.807-15.808-8.718 0-15.808 7.09-15.808 15.808 0 7.15 4.817 13.43 11.714 15.273a2.41 2.41 0 0 1 1.705 2.954 2.41 2.41 0 0 1-2.95 1.705C7.788 38.658 1.5 30.46 1.5 21.131 1.5 9.756 10.756.5 22.13.5zm4.716 34.746a3.483 3.483 0 1 1 0 6.966 3.483 3.483 0 0 1 0-6.966z\"/> </svg> </span> <span class=\"blind\">검색</span> </button> </fieldset> </form> <div class=\"search_box\"> <button id=\"ke_kbd_btn\" type=\"button\" class=\"btn_keyboard\" aria-pressed=\"false\"> <span class=\"keybord_text\"> <span class=\"blind\">입력도구</span> </span> </button> <div id=\"_nx_kbd\" style=\"display:none\"></div> <button id=\"nautocomplete\" type=\"button\" class=\"btn_arrow\" data-atcmp-element> <span class=\"blind\">자동완성/최근검색어펼치기</span> </button> </div> <div class=\"layer_atcmp\" id=\"autoFrame\" style=\"display:none\"></div> </div> </div> </div> <div id=\"search-right-first\"></div> <div id=\"search-right-second\"></div> <div id=\"shortcutArea\" class=\"shortcut_area\" role=\"navigation\" aria-label=\"주요 서비스\"></div> <div id=\"topAsideArea\" class=\"menu_area\"></div> <div id=\"topPayArea\" class=\"pay_area\"></div> <div id=\"topTalkArea\" class=\"talk_area\"></div> <div id=\"topNotiArea\" class=\"notify_area\"></div> <div id=\"topShoppingArea\" class=\"shopping_area\"></div> </div> </div> <div id=\"container\" role=\"main\"> <div id=\"root\"></div> </div> <div id=\"footer\" role=\"contentinfo\"></div> </div>      <script> window['EAGER-DATA'] = window['EAGER-DATA'] || {};\n",
            "        window['EAGER-DATA']['GV'] = {\n",
            "            svt: '20241023141224',  }; </script> <script>!function(){function t(t){var e=document.getElementById(\"search_area\"),n=document.getElementById(\"search-btn\");if(!t)return e&&e.removeAttribute(\"style\"),void(n&&n.setAttribute(\"style\",\"fill: #03c75a\"));e&&e.setAttribute(\"style\",\"border-color: \"+t),n&&n.setAttribute(\"class\",\"ico_btn_search type_color\"),n&&n.setAttribute(\"style\",\"fill: \"+t)}var e=window[\"EAGER-DATA\"][\"CAS-MINICONTENT-PC-SPECIAL-LOGO\"];if(!e||!e.items||e.items.length>0==!1)return void t();var n=Math.floor(Math.random()*e.items.length),i=e.items[n];e.items=[i],t(i&&i.content&&i.content.input&&i.content.input.color);const l=document.getElementById(\"search\");l&&l.classList.add(\"type_special_logo_full\"),window.addEventListener(\"header-sticky-state-change\",(function(){var t;(t=document.getElementById(\"header\"))&&t.classList.contains(\"ani_fixed\")?l&&l.classList.remove(\"type_special_logo_full\"):l&&l.classList.add(\"type_special_logo_full\")}));var o=i&&i.content&&i.content.input&&i.content.input.placeholder;if(o){var s=document.getElementById(\"query\");s&&o&&s.setAttribute(\"title\",o),s&&o&&s.setAttribute(\"placeholder\",o)}}()</script> </body> </html> \n"
          ]
        }
      ]
    },
    {
      "cell_type": "code",
      "source": [
        "import requests\n",
        "response = requests.get('https://jsonplaceholder.typicode.com/posts')"
      ],
      "metadata": {
        "id": "niousTerxg-1"
      },
      "execution_count": null,
      "outputs": []
    },
    {
      "cell_type": "code",
      "source": [
        "def api(msg):\n",
        "  return \"something\""
      ],
      "metadata": {
        "id": "CDO5AP681V1Z"
      },
      "execution_count": null,
      "outputs": []
    },
    {
      "cell_type": "code",
      "source": [
        "print(response.text)"
      ],
      "metadata": {
        "colab": {
          "base_uri": "https://localhost:8080/"
        },
        "collapsed": true,
        "id": "hpFvoapvx80l",
        "outputId": "1b48a636-9711-4edc-f3e6-70d8ab4f6db8"
      },
      "execution_count": null,
      "outputs": [
        {
          "output_type": "stream",
          "name": "stdout",
          "text": [
            "[\n",
            "  {\n",
            "    \"userId\": 1,\n",
            "    \"id\": 1,\n",
            "    \"title\": \"sunt aut facere repellat provident occaecati excepturi optio reprehenderit\",\n",
            "    \"body\": \"quia et suscipit\\nsuscipit recusandae consequuntur expedita et cum\\nreprehenderit molestiae ut ut quas totam\\nnostrum rerum est autem sunt rem eveniet architecto\"\n",
            "  },\n",
            "  {\n",
            "    \"userId\": 1,\n",
            "    \"id\": 2,\n",
            "    \"title\": \"qui est esse\",\n",
            "    \"body\": \"est rerum tempore vitae\\nsequi sint nihil reprehenderit dolor beatae ea dolores neque\\nfugiat blanditiis voluptate porro vel nihil molestiae ut reiciendis\\nqui aperiam non debitis possimus qui neque nisi nulla\"\n",
            "  },\n",
            "  {\n",
            "    \"userId\": 1,\n",
            "    \"id\": 3,\n",
            "    \"title\": \"ea molestias quasi exercitationem repellat qui ipsa sit aut\",\n",
            "    \"body\": \"et iusto sed quo iure\\nvoluptatem occaecati omnis eligendi aut ad\\nvoluptatem doloribus vel accusantium quis pariatur\\nmolestiae porro eius odio et labore et velit aut\"\n",
            "  },\n",
            "  {\n",
            "    \"userId\": 1,\n",
            "    \"id\": 4,\n",
            "    \"title\": \"eum et est occaecati\",\n",
            "    \"body\": \"ullam et saepe reiciendis voluptatem adipisci\\nsit amet autem assumenda provident rerum culpa\\nquis hic commodi nesciunt rem tenetur doloremque ipsam iure\\nquis sunt voluptatem rerum illo velit\"\n",
            "  },\n",
            "  {\n",
            "    \"userId\": 1,\n",
            "    \"id\": 5,\n",
            "    \"title\": \"nesciunt quas odio\",\n",
            "    \"body\": \"repudiandae veniam quaerat sunt sed\\nalias aut fugiat sit autem sed est\\nvoluptatem omnis possimus esse voluptatibus quis\\nest aut tenetur dolor neque\"\n",
            "  },\n",
            "  {\n",
            "    \"userId\": 1,\n",
            "    \"id\": 6,\n",
            "    \"title\": \"dolorem eum magni eos aperiam quia\",\n",
            "    \"body\": \"ut aspernatur corporis harum nihil quis provident sequi\\nmollitia nobis aliquid molestiae\\nperspiciatis et ea nemo ab reprehenderit accusantium quas\\nvoluptate dolores velit et doloremque molestiae\"\n",
            "  },\n",
            "  {\n",
            "    \"userId\": 1,\n",
            "    \"id\": 7,\n",
            "    \"title\": \"magnam facilis autem\",\n",
            "    \"body\": \"dolore placeat quibusdam ea quo vitae\\nmagni quis enim qui quis quo nemo aut saepe\\nquidem repellat excepturi ut quia\\nsunt ut sequi eos ea sed quas\"\n",
            "  },\n",
            "  {\n",
            "    \"userId\": 1,\n",
            "    \"id\": 8,\n",
            "    \"title\": \"dolorem dolore est ipsam\",\n",
            "    \"body\": \"dignissimos aperiam dolorem qui eum\\nfacilis quibusdam animi sint suscipit qui sint possimus cum\\nquaerat magni maiores excepturi\\nipsam ut commodi dolor voluptatum modi aut vitae\"\n",
            "  },\n",
            "  {\n",
            "    \"userId\": 1,\n",
            "    \"id\": 9,\n",
            "    \"title\": \"nesciunt iure omnis dolorem tempora et accusantium\",\n",
            "    \"body\": \"consectetur animi nesciunt iure dolore\\nenim quia ad\\nveniam autem ut quam aut nobis\\net est aut quod aut provident voluptas autem voluptas\"\n",
            "  },\n",
            "  {\n",
            "    \"userId\": 1,\n",
            "    \"id\": 10,\n",
            "    \"title\": \"optio molestias id quia eum\",\n",
            "    \"body\": \"quo et expedita modi cum officia vel magni\\ndoloribus qui repudiandae\\nvero nisi sit\\nquos veniam quod sed accusamus veritatis error\"\n",
            "  },\n",
            "  {\n",
            "    \"userId\": 2,\n",
            "    \"id\": 11,\n",
            "    \"title\": \"et ea vero quia laudantium autem\",\n",
            "    \"body\": \"delectus reiciendis molestiae occaecati non minima eveniet qui voluptatibus\\naccusamus in eum beatae sit\\nvel qui neque voluptates ut commodi qui incidunt\\nut animi commodi\"\n",
            "  },\n",
            "  {\n",
            "    \"userId\": 2,\n",
            "    \"id\": 12,\n",
            "    \"title\": \"in quibusdam tempore odit est dolorem\",\n",
            "    \"body\": \"itaque id aut magnam\\npraesentium quia et ea odit et ea voluptas et\\nsapiente quia nihil amet occaecati quia id voluptatem\\nincidunt ea est distinctio odio\"\n",
            "  },\n",
            "  {\n",
            "    \"userId\": 2,\n",
            "    \"id\": 13,\n",
            "    \"title\": \"dolorum ut in voluptas mollitia et saepe quo animi\",\n",
            "    \"body\": \"aut dicta possimus sint mollitia voluptas commodi quo doloremque\\niste corrupti reiciendis voluptatem eius rerum\\nsit cumque quod eligendi laborum minima\\nperferendis recusandae assumenda consectetur porro architecto ipsum ipsam\"\n",
            "  },\n",
            "  {\n",
            "    \"userId\": 2,\n",
            "    \"id\": 14,\n",
            "    \"title\": \"voluptatem eligendi optio\",\n",
            "    \"body\": \"fuga et accusamus dolorum perferendis illo voluptas\\nnon doloremque neque facere\\nad qui dolorum molestiae beatae\\nsed aut voluptas totam sit illum\"\n",
            "  },\n",
            "  {\n",
            "    \"userId\": 2,\n",
            "    \"id\": 15,\n",
            "    \"title\": \"eveniet quod temporibus\",\n",
            "    \"body\": \"reprehenderit quos placeat\\nvelit minima officia dolores impedit repudiandae molestiae nam\\nvoluptas recusandae quis delectus\\nofficiis harum fugiat vitae\"\n",
            "  },\n",
            "  {\n",
            "    \"userId\": 2,\n",
            "    \"id\": 16,\n",
            "    \"title\": \"sint suscipit perspiciatis velit dolorum rerum ipsa laboriosam odio\",\n",
            "    \"body\": \"suscipit nam nisi quo aperiam aut\\nasperiores eos fugit maiores voluptatibus quia\\nvoluptatem quis ullam qui in alias quia est\\nconsequatur magni mollitia accusamus ea nisi voluptate dicta\"\n",
            "  },\n",
            "  {\n",
            "    \"userId\": 2,\n",
            "    \"id\": 17,\n",
            "    \"title\": \"fugit voluptas sed molestias voluptatem provident\",\n",
            "    \"body\": \"eos voluptas et aut odit natus earum\\naspernatur fuga molestiae ullam\\ndeserunt ratione qui eos\\nqui nihil ratione nemo velit ut aut id quo\"\n",
            "  },\n",
            "  {\n",
            "    \"userId\": 2,\n",
            "    \"id\": 18,\n",
            "    \"title\": \"voluptate et itaque vero tempora molestiae\",\n",
            "    \"body\": \"eveniet quo quis\\nlaborum totam consequatur non dolor\\nut et est repudiandae\\nest voluptatem vel debitis et magnam\"\n",
            "  },\n",
            "  {\n",
            "    \"userId\": 2,\n",
            "    \"id\": 19,\n",
            "    \"title\": \"adipisci placeat illum aut reiciendis qui\",\n",
            "    \"body\": \"illum quis cupiditate provident sit magnam\\nea sed aut omnis\\nveniam maiores ullam consequatur atque\\nadipisci quo iste expedita sit quos voluptas\"\n",
            "  },\n",
            "  {\n",
            "    \"userId\": 2,\n",
            "    \"id\": 20,\n",
            "    \"title\": \"doloribus ad provident suscipit at\",\n",
            "    \"body\": \"qui consequuntur ducimus possimus quisquam amet similique\\nsuscipit porro ipsam amet\\neos veritatis officiis exercitationem vel fugit aut necessitatibus totam\\nomnis rerum consequatur expedita quidem cumque explicabo\"\n",
            "  },\n",
            "  {\n",
            "    \"userId\": 3,\n",
            "    \"id\": 21,\n",
            "    \"title\": \"asperiores ea ipsam voluptatibus modi minima quia sint\",\n",
            "    \"body\": \"repellat aliquid praesentium dolorem quo\\nsed totam minus non itaque\\nnihil labore molestiae sunt dolor eveniet hic recusandae veniam\\ntempora et tenetur expedita sunt\"\n",
            "  },\n",
            "  {\n",
            "    \"userId\": 3,\n",
            "    \"id\": 22,\n",
            "    \"title\": \"dolor sint quo a velit explicabo quia nam\",\n",
            "    \"body\": \"eos qui et ipsum ipsam suscipit aut\\nsed omnis non odio\\nexpedita earum mollitia molestiae aut atque rem suscipit\\nnam impedit esse\"\n",
            "  },\n",
            "  {\n",
            "    \"userId\": 3,\n",
            "    \"id\": 23,\n",
            "    \"title\": \"maxime id vitae nihil numquam\",\n",
            "    \"body\": \"veritatis unde neque eligendi\\nquae quod architecto quo neque vitae\\nest illo sit tempora doloremque fugit quod\\net et vel beatae sequi ullam sed tenetur perspiciatis\"\n",
            "  },\n",
            "  {\n",
            "    \"userId\": 3,\n",
            "    \"id\": 24,\n",
            "    \"title\": \"autem hic labore sunt dolores incidunt\",\n",
            "    \"body\": \"enim et ex nulla\\nomnis voluptas quia qui\\nvoluptatem consequatur numquam aliquam sunt\\ntotam recusandae id dignissimos aut sed asperiores deserunt\"\n",
            "  },\n",
            "  {\n",
            "    \"userId\": 3,\n",
            "    \"id\": 25,\n",
            "    \"title\": \"rem alias distinctio quo quis\",\n",
            "    \"body\": \"ullam consequatur ut\\nomnis quis sit vel consequuntur\\nipsa eligendi ipsum molestiae et omnis error nostrum\\nmolestiae illo tempore quia et distinctio\"\n",
            "  },\n",
            "  {\n",
            "    \"userId\": 3,\n",
            "    \"id\": 26,\n",
            "    \"title\": \"est et quae odit qui non\",\n",
            "    \"body\": \"similique esse doloribus nihil accusamus\\nomnis dolorem fuga consequuntur reprehenderit fugit recusandae temporibus\\nperspiciatis cum ut laudantium\\nomnis aut molestiae vel vero\"\n",
            "  },\n",
            "  {\n",
            "    \"userId\": 3,\n",
            "    \"id\": 27,\n",
            "    \"title\": \"quasi id et eos tenetur aut quo autem\",\n",
            "    \"body\": \"eum sed dolores ipsam sint possimus debitis occaecati\\ndebitis qui qui et\\nut placeat enim earum aut odit facilis\\nconsequatur suscipit necessitatibus rerum sed inventore temporibus consequatur\"\n",
            "  },\n",
            "  {\n",
            "    \"userId\": 3,\n",
            "    \"id\": 28,\n",
            "    \"title\": \"delectus ullam et corporis nulla voluptas sequi\",\n",
            "    \"body\": \"non et quaerat ex quae ad maiores\\nmaiores recusandae totam aut blanditiis mollitia quas illo\\nut voluptatibus voluptatem\\nsimilique nostrum eum\"\n",
            "  },\n",
            "  {\n",
            "    \"userId\": 3,\n",
            "    \"id\": 29,\n",
            "    \"title\": \"iusto eius quod necessitatibus culpa ea\",\n",
            "    \"body\": \"odit magnam ut saepe sed non qui\\ntempora atque nihil\\naccusamus illum doloribus illo dolor\\neligendi repudiandae odit magni similique sed cum maiores\"\n",
            "  },\n",
            "  {\n",
            "    \"userId\": 3,\n",
            "    \"id\": 30,\n",
            "    \"title\": \"a quo magni similique perferendis\",\n",
            "    \"body\": \"alias dolor cumque\\nimpedit blanditiis non eveniet odio maxime\\nblanditiis amet eius quis tempora quia autem rem\\na provident perspiciatis quia\"\n",
            "  },\n",
            "  {\n",
            "    \"userId\": 4,\n",
            "    \"id\": 31,\n",
            "    \"title\": \"ullam ut quidem id aut vel consequuntur\",\n",
            "    \"body\": \"debitis eius sed quibusdam non quis consectetur vitae\\nimpedit ut qui consequatur sed aut in\\nquidem sit nostrum et maiores adipisci atque\\nquaerat voluptatem adipisci repudiandae\"\n",
            "  },\n",
            "  {\n",
            "    \"userId\": 4,\n",
            "    \"id\": 32,\n",
            "    \"title\": \"doloremque illum aliquid sunt\",\n",
            "    \"body\": \"deserunt eos nobis asperiores et hic\\nest debitis repellat molestiae optio\\nnihil ratione ut eos beatae quibusdam distinctio maiores\\nearum voluptates et aut adipisci ea maiores voluptas maxime\"\n",
            "  },\n",
            "  {\n",
            "    \"userId\": 4,\n",
            "    \"id\": 33,\n",
            "    \"title\": \"qui explicabo molestiae dolorem\",\n",
            "    \"body\": \"rerum ut et numquam laborum odit est sit\\nid qui sint in\\nquasi tenetur tempore aperiam et quaerat qui in\\nrerum officiis sequi cumque quod\"\n",
            "  },\n",
            "  {\n",
            "    \"userId\": 4,\n",
            "    \"id\": 34,\n",
            "    \"title\": \"magnam ut rerum iure\",\n",
            "    \"body\": \"ea velit perferendis earum ut voluptatem voluptate itaque iusto\\ntotam pariatur in\\nnemo voluptatem voluptatem autem magni tempora minima in\\nest distinctio qui assumenda accusamus dignissimos officia nesciunt nobis\"\n",
            "  },\n",
            "  {\n",
            "    \"userId\": 4,\n",
            "    \"id\": 35,\n",
            "    \"title\": \"id nihil consequatur molestias animi provident\",\n",
            "    \"body\": \"nisi error delectus possimus ut eligendi vitae\\nplaceat eos harum cupiditate facilis reprehenderit voluptatem beatae\\nmodi ducimus quo illum voluptas eligendi\\net nobis quia fugit\"\n",
            "  },\n",
            "  {\n",
            "    \"userId\": 4,\n",
            "    \"id\": 36,\n",
            "    \"title\": \"fuga nam accusamus voluptas reiciendis itaque\",\n",
            "    \"body\": \"ad mollitia et omnis minus architecto odit\\nvoluptas doloremque maxime aut non ipsa qui alias veniam\\nblanditiis culpa aut quia nihil cumque facere et occaecati\\nqui aspernatur quia eaque ut aperiam inventore\"\n",
            "  },\n",
            "  {\n",
            "    \"userId\": 4,\n",
            "    \"id\": 37,\n",
            "    \"title\": \"provident vel ut sit ratione est\",\n",
            "    \"body\": \"debitis et eaque non officia sed nesciunt pariatur vel\\nvoluptatem iste vero et ea\\nnumquam aut expedita ipsum nulla in\\nvoluptates omnis consequatur aut enim officiis in quam qui\"\n",
            "  },\n",
            "  {\n",
            "    \"userId\": 4,\n",
            "    \"id\": 38,\n",
            "    \"title\": \"explicabo et eos deleniti nostrum ab id repellendus\",\n",
            "    \"body\": \"animi esse sit aut sit nesciunt assumenda eum voluptas\\nquia voluptatibus provident quia necessitatibus ea\\nrerum repudiandae quia voluptatem delectus fugit aut id quia\\nratione optio eos iusto veniam iure\"\n",
            "  },\n",
            "  {\n",
            "    \"userId\": 4,\n",
            "    \"id\": 39,\n",
            "    \"title\": \"eos dolorem iste accusantium est eaque quam\",\n",
            "    \"body\": \"corporis rerum ducimus vel eum accusantium\\nmaxime aspernatur a porro possimus iste omnis\\nest in deleniti asperiores fuga aut\\nvoluptas sapiente vel dolore minus voluptatem incidunt ex\"\n",
            "  },\n",
            "  {\n",
            "    \"userId\": 4,\n",
            "    \"id\": 40,\n",
            "    \"title\": \"enim quo cumque\",\n",
            "    \"body\": \"ut voluptatum aliquid illo tenetur nemo sequi quo facilis\\nipsum rem optio mollitia quas\\nvoluptatem eum voluptas qui\\nunde omnis voluptatem iure quasi maxime voluptas nam\"\n",
            "  },\n",
            "  {\n",
            "    \"userId\": 5,\n",
            "    \"id\": 41,\n",
            "    \"title\": \"non est facere\",\n",
            "    \"body\": \"molestias id nostrum\\nexcepturi molestiae dolore omnis repellendus quaerat saepe\\nconsectetur iste quaerat tenetur asperiores accusamus ex ut\\nnam quidem est ducimus sunt debitis saepe\"\n",
            "  },\n",
            "  {\n",
            "    \"userId\": 5,\n",
            "    \"id\": 42,\n",
            "    \"title\": \"commodi ullam sint et excepturi error explicabo praesentium voluptas\",\n",
            "    \"body\": \"odio fugit voluptatum ducimus earum autem est incidunt voluptatem\\nodit reiciendis aliquam sunt sequi nulla dolorem\\nnon facere repellendus voluptates quia\\nratione harum vitae ut\"\n",
            "  },\n",
            "  {\n",
            "    \"userId\": 5,\n",
            "    \"id\": 43,\n",
            "    \"title\": \"eligendi iste nostrum consequuntur adipisci praesentium sit beatae perferendis\",\n",
            "    \"body\": \"similique fugit est\\nillum et dolorum harum et voluptate eaque quidem\\nexercitationem quos nam commodi possimus cum odio nihil nulla\\ndolorum exercitationem magnam ex et a et distinctio debitis\"\n",
            "  },\n",
            "  {\n",
            "    \"userId\": 5,\n",
            "    \"id\": 44,\n",
            "    \"title\": \"optio dolor molestias sit\",\n",
            "    \"body\": \"temporibus est consectetur dolore\\net libero debitis vel velit laboriosam quia\\nipsum quibusdam qui itaque fuga rem aut\\nea et iure quam sed maxime ut distinctio quae\"\n",
            "  },\n",
            "  {\n",
            "    \"userId\": 5,\n",
            "    \"id\": 45,\n",
            "    \"title\": \"ut numquam possimus omnis eius suscipit laudantium iure\",\n",
            "    \"body\": \"est natus reiciendis nihil possimus aut provident\\nex et dolor\\nrepellat pariatur est\\nnobis rerum repellendus dolorem autem\"\n",
            "  },\n",
            "  {\n",
            "    \"userId\": 5,\n",
            "    \"id\": 46,\n",
            "    \"title\": \"aut quo modi neque nostrum ducimus\",\n",
            "    \"body\": \"voluptatem quisquam iste\\nvoluptatibus natus officiis facilis dolorem\\nquis quas ipsam\\nvel et voluptatum in aliquid\"\n",
            "  },\n",
            "  {\n",
            "    \"userId\": 5,\n",
            "    \"id\": 47,\n",
            "    \"title\": \"quibusdam cumque rem aut deserunt\",\n",
            "    \"body\": \"voluptatem assumenda ut qui ut cupiditate aut impedit veniam\\noccaecati nemo illum voluptatem laudantium\\nmolestiae beatae rerum ea iure soluta nostrum\\neligendi et voluptate\"\n",
            "  },\n",
            "  {\n",
            "    \"userId\": 5,\n",
            "    \"id\": 48,\n",
            "    \"title\": \"ut voluptatem illum ea doloribus itaque eos\",\n",
            "    \"body\": \"voluptates quo voluptatem facilis iure occaecati\\nvel assumenda rerum officia et\\nillum perspiciatis ab deleniti\\nlaudantium repellat ad ut et autem reprehenderit\"\n",
            "  },\n",
            "  {\n",
            "    \"userId\": 5,\n",
            "    \"id\": 49,\n",
            "    \"title\": \"laborum non sunt aut ut assumenda perspiciatis voluptas\",\n",
            "    \"body\": \"inventore ab sint\\nnatus fugit id nulla sequi architecto nihil quaerat\\neos tenetur in in eum veritatis non\\nquibusdam officiis aspernatur cumque aut commodi aut\"\n",
            "  },\n",
            "  {\n",
            "    \"userId\": 5,\n",
            "    \"id\": 50,\n",
            "    \"title\": \"repellendus qui recusandae incidunt voluptates tenetur qui omnis exercitationem\",\n",
            "    \"body\": \"error suscipit maxime adipisci consequuntur recusandae\\nvoluptas eligendi et est et voluptates\\nquia distinctio ab amet quaerat molestiae et vitae\\nadipisci impedit sequi nesciunt quis consectetur\"\n",
            "  },\n",
            "  {\n",
            "    \"userId\": 6,\n",
            "    \"id\": 51,\n",
            "    \"title\": \"soluta aliquam aperiam consequatur illo quis voluptas\",\n",
            "    \"body\": \"sunt dolores aut doloribus\\ndolore doloribus voluptates tempora et\\ndoloremque et quo\\ncum asperiores sit consectetur dolorem\"\n",
            "  },\n",
            "  {\n",
            "    \"userId\": 6,\n",
            "    \"id\": 52,\n",
            "    \"title\": \"qui enim et consequuntur quia animi quis voluptate quibusdam\",\n",
            "    \"body\": \"iusto est quibusdam fuga quas quaerat molestias\\na enim ut sit accusamus enim\\ntemporibus iusto accusantium provident architecto\\nsoluta esse reprehenderit qui laborum\"\n",
            "  },\n",
            "  {\n",
            "    \"userId\": 6,\n",
            "    \"id\": 53,\n",
            "    \"title\": \"ut quo aut ducimus alias\",\n",
            "    \"body\": \"minima harum praesentium eum rerum illo dolore\\nquasi exercitationem rerum nam\\nporro quis neque quo\\nconsequatur minus dolor quidem veritatis sunt non explicabo similique\"\n",
            "  },\n",
            "  {\n",
            "    \"userId\": 6,\n",
            "    \"id\": 54,\n",
            "    \"title\": \"sit asperiores ipsam eveniet odio non quia\",\n",
            "    \"body\": \"totam corporis dignissimos\\nvitae dolorem ut occaecati accusamus\\nex velit deserunt\\net exercitationem vero incidunt corrupti mollitia\"\n",
            "  },\n",
            "  {\n",
            "    \"userId\": 6,\n",
            "    \"id\": 55,\n",
            "    \"title\": \"sit vel voluptatem et non libero\",\n",
            "    \"body\": \"debitis excepturi ea perferendis harum libero optio\\neos accusamus cum fuga ut sapiente repudiandae\\net ut incidunt omnis molestiae\\nnihil ut eum odit\"\n",
            "  },\n",
            "  {\n",
            "    \"userId\": 6,\n",
            "    \"id\": 56,\n",
            "    \"title\": \"qui et at rerum necessitatibus\",\n",
            "    \"body\": \"aut est omnis dolores\\nneque rerum quod ea rerum velit pariatur beatae excepturi\\net provident voluptas corrupti\\ncorporis harum reprehenderit dolores eligendi\"\n",
            "  },\n",
            "  {\n",
            "    \"userId\": 6,\n",
            "    \"id\": 57,\n",
            "    \"title\": \"sed ab est est\",\n",
            "    \"body\": \"at pariatur consequuntur earum quidem\\nquo est laudantium soluta voluptatem\\nqui ullam et est\\net cum voluptas voluptatum repellat est\"\n",
            "  },\n",
            "  {\n",
            "    \"userId\": 6,\n",
            "    \"id\": 58,\n",
            "    \"title\": \"voluptatum itaque dolores nisi et quasi\",\n",
            "    \"body\": \"veniam voluptatum quae adipisci id\\net id quia eos ad et dolorem\\naliquam quo nisi sunt eos impedit error\\nad similique veniam\"\n",
            "  },\n",
            "  {\n",
            "    \"userId\": 6,\n",
            "    \"id\": 59,\n",
            "    \"title\": \"qui commodi dolor at maiores et quis id accusantium\",\n",
            "    \"body\": \"perspiciatis et quam ea autem temporibus non voluptatibus qui\\nbeatae a earum officia nesciunt dolores suscipit voluptas et\\nanimi doloribus cum rerum quas et magni\\net hic ut ut commodi expedita sunt\"\n",
            "  },\n",
            "  {\n",
            "    \"userId\": 6,\n",
            "    \"id\": 60,\n",
            "    \"title\": \"consequatur placeat omnis quisquam quia reprehenderit fugit veritatis facere\",\n",
            "    \"body\": \"asperiores sunt ab assumenda cumque modi velit\\nqui esse omnis\\nvoluptate et fuga perferendis voluptas\\nillo ratione amet aut et omnis\"\n",
            "  },\n",
            "  {\n",
            "    \"userId\": 7,\n",
            "    \"id\": 61,\n",
            "    \"title\": \"voluptatem doloribus consectetur est ut ducimus\",\n",
            "    \"body\": \"ab nemo optio odio\\ndelectus tenetur corporis similique nobis repellendus rerum omnis facilis\\nvero blanditiis debitis in nesciunt doloribus dicta dolores\\nmagnam minus velit\"\n",
            "  },\n",
            "  {\n",
            "    \"userId\": 7,\n",
            "    \"id\": 62,\n",
            "    \"title\": \"beatae enim quia vel\",\n",
            "    \"body\": \"enim aspernatur illo distinctio quae praesentium\\nbeatae alias amet delectus qui voluptate distinctio\\nodit sint accusantium autem omnis\\nquo molestiae omnis ea eveniet optio\"\n",
            "  },\n",
            "  {\n",
            "    \"userId\": 7,\n",
            "    \"id\": 63,\n",
            "    \"title\": \"voluptas blanditiis repellendus animi ducimus error sapiente et suscipit\",\n",
            "    \"body\": \"enim adipisci aspernatur nemo\\nnumquam omnis facere dolorem dolor ex quis temporibus incidunt\\nab delectus culpa quo reprehenderit blanditiis asperiores\\naccusantium ut quam in voluptatibus voluptas ipsam dicta\"\n",
            "  },\n",
            "  {\n",
            "    \"userId\": 7,\n",
            "    \"id\": 64,\n",
            "    \"title\": \"et fugit quas eum in in aperiam quod\",\n",
            "    \"body\": \"id velit blanditiis\\neum ea voluptatem\\nmolestiae sint occaecati est eos perspiciatis\\nincidunt a error provident eaque aut aut qui\"\n",
            "  },\n",
            "  {\n",
            "    \"userId\": 7,\n",
            "    \"id\": 65,\n",
            "    \"title\": \"consequatur id enim sunt et et\",\n",
            "    \"body\": \"voluptatibus ex esse\\nsint explicabo est aliquid cumque adipisci fuga repellat labore\\nmolestiae corrupti ex saepe at asperiores et perferendis\\nnatus id esse incidunt pariatur\"\n",
            "  },\n",
            "  {\n",
            "    \"userId\": 7,\n",
            "    \"id\": 66,\n",
            "    \"title\": \"repudiandae ea animi iusto\",\n",
            "    \"body\": \"officia veritatis tenetur vero qui itaque\\nsint non ratione\\nsed et ut asperiores iusto eos molestiae nostrum\\nveritatis quibusdam et nemo iusto saepe\"\n",
            "  },\n",
            "  {\n",
            "    \"userId\": 7,\n",
            "    \"id\": 67,\n",
            "    \"title\": \"aliquid eos sed fuga est maxime repellendus\",\n",
            "    \"body\": \"reprehenderit id nostrum\\nvoluptas doloremque pariatur sint et accusantium quia quod aspernatur\\net fugiat amet\\nnon sapiente et consequatur necessitatibus molestiae\"\n",
            "  },\n",
            "  {\n",
            "    \"userId\": 7,\n",
            "    \"id\": 68,\n",
            "    \"title\": \"odio quis facere architecto reiciendis optio\",\n",
            "    \"body\": \"magnam molestiae perferendis quisquam\\nqui cum reiciendis\\nquaerat animi amet hic inventore\\nea quia deleniti quidem saepe porro velit\"\n",
            "  },\n",
            "  {\n",
            "    \"userId\": 7,\n",
            "    \"id\": 69,\n",
            "    \"title\": \"fugiat quod pariatur odit minima\",\n",
            "    \"body\": \"officiis error culpa consequatur modi asperiores et\\ndolorum assumenda voluptas et vel qui aut vel rerum\\nvoluptatum quisquam perspiciatis quia rerum consequatur totam quas\\nsequi commodi repudiandae asperiores et saepe a\"\n",
            "  },\n",
            "  {\n",
            "    \"userId\": 7,\n",
            "    \"id\": 70,\n",
            "    \"title\": \"voluptatem laborum magni\",\n",
            "    \"body\": \"sunt repellendus quae\\nest asperiores aut deleniti esse accusamus repellendus quia aut\\nquia dolorem unde\\neum tempora esse dolore\"\n",
            "  },\n",
            "  {\n",
            "    \"userId\": 8,\n",
            "    \"id\": 71,\n",
            "    \"title\": \"et iusto veniam et illum aut fuga\",\n",
            "    \"body\": \"occaecati a doloribus\\niste saepe consectetur placeat eum voluptate dolorem et\\nqui quo quia voluptas\\nrerum ut id enim velit est perferendis\"\n",
            "  },\n",
            "  {\n",
            "    \"userId\": 8,\n",
            "    \"id\": 72,\n",
            "    \"title\": \"sint hic doloribus consequatur eos non id\",\n",
            "    \"body\": \"quam occaecati qui deleniti consectetur\\nconsequatur aut facere quas exercitationem aliquam hic voluptas\\nneque id sunt ut aut accusamus\\nsunt consectetur expedita inventore velit\"\n",
            "  },\n",
            "  {\n",
            "    \"userId\": 8,\n",
            "    \"id\": 73,\n",
            "    \"title\": \"consequuntur deleniti eos quia temporibus ab aliquid at\",\n",
            "    \"body\": \"voluptatem cumque tenetur consequatur expedita ipsum nemo quia explicabo\\naut eum minima consequatur\\ntempore cumque quae est et\\net in consequuntur voluptatem voluptates aut\"\n",
            "  },\n",
            "  {\n",
            "    \"userId\": 8,\n",
            "    \"id\": 74,\n",
            "    \"title\": \"enim unde ratione doloribus quas enim ut sit sapiente\",\n",
            "    \"body\": \"odit qui et et necessitatibus sint veniam\\nmollitia amet doloremque molestiae commodi similique magnam et quam\\nblanditiis est itaque\\nquo et tenetur ratione occaecati molestiae tempora\"\n",
            "  },\n",
            "  {\n",
            "    \"userId\": 8,\n",
            "    \"id\": 75,\n",
            "    \"title\": \"dignissimos eum dolor ut enim et delectus in\",\n",
            "    \"body\": \"commodi non non omnis et voluptas sit\\nautem aut nobis magnam et sapiente voluptatem\\net laborum repellat qui delectus facilis temporibus\\nrerum amet et nemo voluptate expedita adipisci error dolorem\"\n",
            "  },\n",
            "  {\n",
            "    \"userId\": 8,\n",
            "    \"id\": 76,\n",
            "    \"title\": \"doloremque officiis ad et non perferendis\",\n",
            "    \"body\": \"ut animi facere\\ntotam iusto tempore\\nmolestiae eum aut et dolorem aperiam\\nquaerat recusandae totam odio\"\n",
            "  },\n",
            "  {\n",
            "    \"userId\": 8,\n",
            "    \"id\": 77,\n",
            "    \"title\": \"necessitatibus quasi exercitationem odio\",\n",
            "    \"body\": \"modi ut in nulla repudiandae dolorum nostrum eos\\naut consequatur omnis\\nut incidunt est omnis iste et quam\\nvoluptates sapiente aliquam asperiores nobis amet corrupti repudiandae provident\"\n",
            "  },\n",
            "  {\n",
            "    \"userId\": 8,\n",
            "    \"id\": 78,\n",
            "    \"title\": \"quam voluptatibus rerum veritatis\",\n",
            "    \"body\": \"nobis facilis odit tempore cupiditate quia\\nassumenda doloribus rerum qui ea\\nillum et qui totam\\naut veniam repellendus\"\n",
            "  },\n",
            "  {\n",
            "    \"userId\": 8,\n",
            "    \"id\": 79,\n",
            "    \"title\": \"pariatur consequatur quia magnam autem omnis non amet\",\n",
            "    \"body\": \"libero accusantium et et facere incidunt sit dolorem\\nnon excepturi qui quia sed laudantium\\nquisquam molestiae ducimus est\\nofficiis esse molestiae iste et quos\"\n",
            "  },\n",
            "  {\n",
            "    \"userId\": 8,\n",
            "    \"id\": 80,\n",
            "    \"title\": \"labore in ex et explicabo corporis aut quas\",\n",
            "    \"body\": \"ex quod dolorem ea eum iure qui provident amet\\nquia qui facere excepturi et repudiandae\\nasperiores molestias provident\\nminus incidunt vero fugit rerum sint sunt excepturi provident\"\n",
            "  },\n",
            "  {\n",
            "    \"userId\": 9,\n",
            "    \"id\": 81,\n",
            "    \"title\": \"tempora rem veritatis voluptas quo dolores vero\",\n",
            "    \"body\": \"facere qui nesciunt est voluptatum voluptatem nisi\\nsequi eligendi necessitatibus ea at rerum itaque\\nharum non ratione velit laboriosam quis consequuntur\\nex officiis minima doloremque voluptas ut aut\"\n",
            "  },\n",
            "  {\n",
            "    \"userId\": 9,\n",
            "    \"id\": 82,\n",
            "    \"title\": \"laudantium voluptate suscipit sunt enim enim\",\n",
            "    \"body\": \"ut libero sit aut totam inventore sunt\\nporro sint qui sunt molestiae\\nconsequatur cupiditate qui iste ducimus adipisci\\ndolor enim assumenda soluta laboriosam amet iste delectus hic\"\n",
            "  },\n",
            "  {\n",
            "    \"userId\": 9,\n",
            "    \"id\": 83,\n",
            "    \"title\": \"odit et voluptates doloribus alias odio et\",\n",
            "    \"body\": \"est molestiae facilis quis tempora numquam nihil qui\\nvoluptate sapiente consequatur est qui\\nnecessitatibus autem aut ipsa aperiam modi dolore numquam\\nreprehenderit eius rem quibusdam\"\n",
            "  },\n",
            "  {\n",
            "    \"userId\": 9,\n",
            "    \"id\": 84,\n",
            "    \"title\": \"optio ipsam molestias necessitatibus occaecati facilis veritatis dolores aut\",\n",
            "    \"body\": \"sint molestiae magni a et quos\\neaque et quasi\\nut rerum debitis similique veniam\\nrecusandae dignissimos dolor incidunt consequatur odio\"\n",
            "  },\n",
            "  {\n",
            "    \"userId\": 9,\n",
            "    \"id\": 85,\n",
            "    \"title\": \"dolore veritatis porro provident adipisci blanditiis et sunt\",\n",
            "    \"body\": \"similique sed nisi voluptas iusto omnis\\nmollitia et quo\\nassumenda suscipit officia magnam sint sed tempora\\nenim provident pariatur praesentium atque animi amet ratione\"\n",
            "  },\n",
            "  {\n",
            "    \"userId\": 9,\n",
            "    \"id\": 86,\n",
            "    \"title\": \"placeat quia et porro iste\",\n",
            "    \"body\": \"quasi excepturi consequatur iste autem temporibus sed molestiae beatae\\net quaerat et esse ut\\nvoluptatem occaecati et vel explicabo autem\\nasperiores pariatur deserunt optio\"\n",
            "  },\n",
            "  {\n",
            "    \"userId\": 9,\n",
            "    \"id\": 87,\n",
            "    \"title\": \"nostrum quis quasi placeat\",\n",
            "    \"body\": \"eos et molestiae\\nnesciunt ut a\\ndolores perspiciatis repellendus repellat aliquid\\nmagnam sint rem ipsum est\"\n",
            "  },\n",
            "  {\n",
            "    \"userId\": 9,\n",
            "    \"id\": 88,\n",
            "    \"title\": \"sapiente omnis fugit eos\",\n",
            "    \"body\": \"consequatur omnis est praesentium\\nducimus non iste\\nneque hic deserunt\\nvoluptatibus veniam cum et rerum sed\"\n",
            "  },\n",
            "  {\n",
            "    \"userId\": 9,\n",
            "    \"id\": 89,\n",
            "    \"title\": \"sint soluta et vel magnam aut ut sed qui\",\n",
            "    \"body\": \"repellat aut aperiam totam temporibus autem et\\narchitecto magnam ut\\nconsequatur qui cupiditate rerum quia soluta dignissimos nihil iure\\ntempore quas est\"\n",
            "  },\n",
            "  {\n",
            "    \"userId\": 9,\n",
            "    \"id\": 90,\n",
            "    \"title\": \"ad iusto omnis odit dolor voluptatibus\",\n",
            "    \"body\": \"minus omnis soluta quia\\nqui sed adipisci voluptates illum ipsam voluptatem\\neligendi officia ut in\\neos soluta similique molestias praesentium blanditiis\"\n",
            "  },\n",
            "  {\n",
            "    \"userId\": 10,\n",
            "    \"id\": 91,\n",
            "    \"title\": \"aut amet sed\",\n",
            "    \"body\": \"libero voluptate eveniet aperiam sed\\nsunt placeat suscipit molestias\\nsimilique fugit nam natus\\nexpedita consequatur consequatur dolores quia eos et placeat\"\n",
            "  },\n",
            "  {\n",
            "    \"userId\": 10,\n",
            "    \"id\": 92,\n",
            "    \"title\": \"ratione ex tenetur perferendis\",\n",
            "    \"body\": \"aut et excepturi dicta laudantium sint rerum nihil\\nlaudantium et at\\na neque minima officia et similique libero et\\ncommodi voluptate qui\"\n",
            "  },\n",
            "  {\n",
            "    \"userId\": 10,\n",
            "    \"id\": 93,\n",
            "    \"title\": \"beatae soluta recusandae\",\n",
            "    \"body\": \"dolorem quibusdam ducimus consequuntur dicta aut quo laboriosam\\nvoluptatem quis enim recusandae ut sed sunt\\nnostrum est odit totam\\nsit error sed sunt eveniet provident qui nulla\"\n",
            "  },\n",
            "  {\n",
            "    \"userId\": 10,\n",
            "    \"id\": 94,\n",
            "    \"title\": \"qui qui voluptates illo iste minima\",\n",
            "    \"body\": \"aspernatur expedita soluta quo ab ut similique\\nexpedita dolores amet\\nsed temporibus distinctio magnam saepe deleniti\\nomnis facilis nam ipsum natus sint similique omnis\"\n",
            "  },\n",
            "  {\n",
            "    \"userId\": 10,\n",
            "    \"id\": 95,\n",
            "    \"title\": \"id minus libero illum nam ad officiis\",\n",
            "    \"body\": \"earum voluptatem facere provident blanditiis velit laboriosam\\npariatur accusamus odio saepe\\ncumque dolor qui a dicta ab doloribus consequatur omnis\\ncorporis cupiditate eaque assumenda ad nesciunt\"\n",
            "  },\n",
            "  {\n",
            "    \"userId\": 10,\n",
            "    \"id\": 96,\n",
            "    \"title\": \"quaerat velit veniam amet cupiditate aut numquam ut sequi\",\n",
            "    \"body\": \"in non odio excepturi sint eum\\nlabore voluptates vitae quia qui et\\ninventore itaque rerum\\nveniam non exercitationem delectus aut\"\n",
            "  },\n",
            "  {\n",
            "    \"userId\": 10,\n",
            "    \"id\": 97,\n",
            "    \"title\": \"quas fugiat ut perspiciatis vero provident\",\n",
            "    \"body\": \"eum non blanditiis soluta porro quibusdam voluptas\\nvel voluptatem qui placeat dolores qui velit aut\\nvel inventore aut cumque culpa explicabo aliquid at\\nperspiciatis est et voluptatem dignissimos dolor itaque sit nam\"\n",
            "  },\n",
            "  {\n",
            "    \"userId\": 10,\n",
            "    \"id\": 98,\n",
            "    \"title\": \"laboriosam dolor voluptates\",\n",
            "    \"body\": \"doloremque ex facilis sit sint culpa\\nsoluta assumenda eligendi non ut eius\\nsequi ducimus vel quasi\\nveritatis est dolores\"\n",
            "  },\n",
            "  {\n",
            "    \"userId\": 10,\n",
            "    \"id\": 99,\n",
            "    \"title\": \"temporibus sit alias delectus eligendi possimus magni\",\n",
            "    \"body\": \"quo deleniti praesentium dicta non quod\\naut est molestias\\nmolestias et officia quis nihil\\nitaque dolorem quia\"\n",
            "  },\n",
            "  {\n",
            "    \"userId\": 10,\n",
            "    \"id\": 100,\n",
            "    \"title\": \"at nam consequatur ea labore ea harum\",\n",
            "    \"body\": \"cupiditate quo est a modi nesciunt soluta\\nipsa voluptas error itaque dicta in\\nautem qui minus magnam et distinctio eum\\naccusamus ratione error aut\"\n",
            "  }\n",
            "]\n"
          ]
        }
      ]
    },
    {
      "cell_type": "code",
      "source": [
        "output = response.json()"
      ],
      "metadata": {
        "id": "X9UT6iRTzyr-"
      },
      "execution_count": null,
      "outputs": []
    },
    {
      "cell_type": "code",
      "source": [
        "len(output)"
      ],
      "metadata": {
        "colab": {
          "base_uri": "https://localhost:8080/"
        },
        "id": "2gcsG1260Fvy",
        "outputId": "c93b7dcc-4dce-4b96-8a02-fbc4d3118b64"
      },
      "execution_count": null,
      "outputs": [
        {
          "output_type": "execute_result",
          "data": {
            "text/plain": [
              "100"
            ]
          },
          "metadata": {},
          "execution_count": 225
        }
      ]
    },
    {
      "cell_type": "code",
      "source": [
        "output[0],type(output[0])"
      ],
      "metadata": {
        "colab": {
          "base_uri": "https://localhost:8080/"
        },
        "id": "QLWmetew0KPX",
        "outputId": "a24b6196-42a7-4387-c281-9ebd4caa433b"
      },
      "execution_count": null,
      "outputs": [
        {
          "output_type": "execute_result",
          "data": {
            "text/plain": [
              "({'userId': 1,\n",
              "  'id': 1,\n",
              "  'title': 'sunt aut facere repellat provident occaecati excepturi optio reprehenderit',\n",
              "  'body': 'quia et suscipit\\nsuscipit recusandae consequuntur expedita et cum\\nreprehenderit molestiae ut ut quas totam\\nnostrum rerum est autem sunt rem eveniet architecto'},\n",
              " dict)"
            ]
          },
          "metadata": {},
          "execution_count": 227
        }
      ]
    },
    {
      "cell_type": "code",
      "source": [
        "output[0]['userId']"
      ],
      "metadata": {
        "colab": {
          "base_uri": "https://localhost:8080/"
        },
        "id": "oetwnP110Oe7",
        "outputId": "35cb68df-4244-4057-df18-cdc03cc2785e"
      },
      "execution_count": null,
      "outputs": [
        {
          "output_type": "execute_result",
          "data": {
            "text/plain": [
              "1"
            ]
          },
          "metadata": {},
          "execution_count": 228
        }
      ]
    },
    {
      "cell_type": "markdown",
      "source": [
        "lotto api 실습"
      ],
      "metadata": {
        "id": "VexkRycr18PA"
      }
    },
    {
      "cell_type": "code",
      "source": [
        "url = \"https://www.dhlottery.co.kr/common.do?method=getLottoNumber&drwNo=500\""
      ],
      "metadata": {
        "id": "I6fNGVLP14OY"
      },
      "execution_count": null,
      "outputs": []
    },
    {
      "cell_type": "code",
      "source": [
        "response = requests.get(url)"
      ],
      "metadata": {
        "id": "glniwXa_16Z9"
      },
      "execution_count": null,
      "outputs": []
    },
    {
      "cell_type": "code",
      "source": [
        "response.json()"
      ],
      "metadata": {
        "colab": {
          "base_uri": "https://localhost:8080/"
        },
        "id": "Dti1z4Ub2W-n",
        "outputId": "093957e0-be34-4dd1-92e7-bb94c1f914dd"
      },
      "execution_count": null,
      "outputs": [
        {
          "output_type": "execute_result",
          "data": {
            "text/plain": [
              "{'totSellamnt': 54012267000,\n",
              " 'returnValue': 'success',\n",
              " 'drwNoDate': '2012-06-30',\n",
              " 'firstWinamnt': 1351072375,\n",
              " 'drwtNo6': 34,\n",
              " 'drwtNo4': 20,\n",
              " 'firstPrzwnerCo': 9,\n",
              " 'drwtNo5': 24,\n",
              " 'bnusNo': 41,\n",
              " 'firstAccumamnt': 12159651375,\n",
              " 'drwNo': 500,\n",
              " 'drwtNo2': 4,\n",
              " 'drwtNo3': 12,\n",
              " 'drwtNo1': 3}"
            ]
          },
          "metadata": {},
          "execution_count": 240
        }
      ]
    },
    {
      "cell_type": "markdown",
      "source": [
        "- 이 데이터는 어떤 정보를 가지고 있나?\n",
        "- 다른 회차를 가져오려면 어떻게 해야 될까?(구조 분석)"
      ],
      "metadata": {
        "id": "uP5RrCZs2qlS"
      }
    },
    {
      "cell_type": "markdown",
      "source": [
        "미션 : 로또 클래스를 만들기\n",
        "- **1회차부터 최근 회차까지 정보를 가져오는 기능**\n",
        "- 시작을 함께 하고 싶으신 분은 커피챗으로 와주세요!\n",
        "------------------------------------------------\n",
        "- 2시 50분까지 개발해서 되신 분은 공유해 주세요!"
      ],
      "metadata": {
        "id": "EBOvxtsg3Rud"
      }
    },
    {
      "cell_type": "markdown",
      "source": [
        "아래 내용은 차차 해보겠습니다\n",
        "- 가져온 데이터를 csv로 저장하는 기능\n",
        "- 회차 정보를 입력하면 당첨번호를 알려주는 기능"
      ],
      "metadata": {
        "id": "sTCK9rV_31Pv"
      }
    },
    {
      "cell_type": "code",
      "source": [
        "import requests\n",
        "def getData(drwNo):\n",
        "  url = f\"https://www.dhlottery.co.kr/common.do?method=getLottoNumber&drwNo={drwNo}\"\n",
        "  response = requests.get(url)\n",
        "  return response.json()"
      ],
      "metadata": {
        "id": "Ivn3cziy326K"
      },
      "execution_count": null,
      "outputs": []
    },
    {
      "cell_type": "code",
      "source": [
        "drwNo=1141\n",
        "dataList = []\n",
        "while True:\n",
        "  data = getData(drwNo)\n",
        "  if data['returnValue'] == 'fail':break\n",
        "  dataList.append(data)\n",
        "  drwNo+=1"
      ],
      "metadata": {
        "id": "S8dIcWuD97SV"
      },
      "execution_count": null,
      "outputs": []
    },
    {
      "cell_type": "code",
      "source": [
        "import requests\n",
        "class Lotto:\n",
        "  def __init__(self):\n",
        "    self.dataList = []\n",
        "\n",
        "  def get_all_datas(self):\n",
        "    drwNo=1141 # Debug용 변수 설정\n",
        "    while True:\n",
        "      data = getData(drwNo)\n",
        "      if data['returnValue'] == 'fail':break\n",
        "      self.dataList.append(data)\n",
        "      drwNo+=1\n",
        "\n",
        "  def getData(self, drwNo):\n",
        "    url = f\"https://www.dhlottery.co.kr/common.do?method=getLottoNumber&drwNo={drwNo}\"\n",
        "    response = requests.get(url)\n",
        "    return response.json()\n"
      ],
      "metadata": {
        "id": "K4zlD67XASow"
      },
      "execution_count": null,
      "outputs": []
    },
    {
      "cell_type": "code",
      "source": [
        "lotto = Lotto()"
      ],
      "metadata": {
        "id": "BZ5raJ9WB8np"
      },
      "execution_count": null,
      "outputs": []
    },
    {
      "cell_type": "code",
      "source": [
        "lotto.get_all_datas()"
      ],
      "metadata": {
        "colab": {
          "base_uri": "https://localhost:8080/",
          "height": 270
        },
        "id": "lTI2zhDZCBRl",
        "outputId": "d7f8c990-99b0-496d-bb3e-b335ad4c335e"
      },
      "execution_count": null,
      "outputs": [
        {
          "output_type": "error",
          "ename": "NameError",
          "evalue": "name 'getData' is not defined",
          "traceback": [
            "\u001b[0;31m---------------------------------------------------------------------------\u001b[0m",
            "\u001b[0;31mNameError\u001b[0m                                 Traceback (most recent call last)",
            "\u001b[0;32m<ipython-input-3-256de6f2bb63>\u001b[0m in \u001b[0;36m<cell line: 1>\u001b[0;34m()\u001b[0m\n\u001b[0;32m----> 1\u001b[0;31m \u001b[0mlotto\u001b[0m\u001b[0;34m.\u001b[0m\u001b[0mget_all_datas\u001b[0m\u001b[0;34m(\u001b[0m\u001b[0;34m)\u001b[0m\u001b[0;34m\u001b[0m\u001b[0;34m\u001b[0m\u001b[0m\n\u001b[0m",
            "\u001b[0;32m<ipython-input-1-0aa7ac64e3d6>\u001b[0m in \u001b[0;36mget_all_datas\u001b[0;34m(self)\u001b[0m\n\u001b[1;32m      7\u001b[0m     \u001b[0mdrwNo\u001b[0m\u001b[0;34m=\u001b[0m\u001b[0;36m1141\u001b[0m \u001b[0;31m# Debug용 변수 설정\u001b[0m\u001b[0;34m\u001b[0m\u001b[0;34m\u001b[0m\u001b[0m\n\u001b[1;32m      8\u001b[0m     \u001b[0;32mwhile\u001b[0m \u001b[0;32mTrue\u001b[0m\u001b[0;34m:\u001b[0m\u001b[0;34m\u001b[0m\u001b[0;34m\u001b[0m\u001b[0m\n\u001b[0;32m----> 9\u001b[0;31m       \u001b[0mdata\u001b[0m \u001b[0;34m=\u001b[0m \u001b[0mgetData\u001b[0m\u001b[0;34m(\u001b[0m\u001b[0mdrwNo\u001b[0m\u001b[0;34m)\u001b[0m\u001b[0;34m\u001b[0m\u001b[0;34m\u001b[0m\u001b[0m\n\u001b[0m\u001b[1;32m     10\u001b[0m       \u001b[0;32mif\u001b[0m \u001b[0mdata\u001b[0m\u001b[0;34m[\u001b[0m\u001b[0;34m'returnValue'\u001b[0m\u001b[0;34m]\u001b[0m \u001b[0;34m==\u001b[0m \u001b[0;34m'fail'\u001b[0m\u001b[0;34m:\u001b[0m\u001b[0;32mbreak\u001b[0m\u001b[0;34m\u001b[0m\u001b[0;34m\u001b[0m\u001b[0m\n\u001b[1;32m     11\u001b[0m       \u001b[0mself\u001b[0m\u001b[0;34m.\u001b[0m\u001b[0mdataList\u001b[0m\u001b[0;34m.\u001b[0m\u001b[0mappend\u001b[0m\u001b[0;34m(\u001b[0m\u001b[0mdata\u001b[0m\u001b[0;34m)\u001b[0m\u001b[0;34m\u001b[0m\u001b[0;34m\u001b[0m\u001b[0m\n",
            "\u001b[0;31mNameError\u001b[0m: name 'getData' is not defined"
          ]
        }
      ]
    },
    {
      "cell_type": "code",
      "source": [
        "lotto.dataList"
      ],
      "metadata": {
        "colab": {
          "base_uri": "https://localhost:8080/"
        },
        "id": "Jd2epLLFCFB7",
        "outputId": "0be44364-0db9-4696-c4ce-fb657826ace5"
      },
      "execution_count": null,
      "outputs": [
        {
          "output_type": "execute_result",
          "data": {
            "text/plain": [
              "[{'totSellamnt': 115803173000,\n",
              "  'returnValue': 'success',\n",
              "  'drwNoDate': '2024-10-12',\n",
              "  'firstWinamnt': 2457758285,\n",
              "  'drwtNo6': 35,\n",
              "  'drwtNo4': 21,\n",
              "  'firstPrzwnerCo': 11,\n",
              "  'drwtNo5': 26,\n",
              "  'bnusNo': 20,\n",
              "  'firstAccumamnt': 27035341135,\n",
              "  'drwNo': 1141,\n",
              "  'drwtNo2': 11,\n",
              "  'drwtNo3': 12,\n",
              "  'drwtNo1': 7},\n",
              " {'totSellamnt': 114254355000,\n",
              "  'returnValue': 'success',\n",
              "  'drwNoDate': '2024-10-19',\n",
              "  'firstWinamnt': 3117517709,\n",
              "  'drwtNo6': 41,\n",
              "  'drwtNo4': 30,\n",
              "  'firstPrzwnerCo': 9,\n",
              "  'drwtNo5': 37,\n",
              "  'bnusNo': 22,\n",
              "  'firstAccumamnt': 28057659381,\n",
              "  'drwNo': 1142,\n",
              "  'drwtNo2': 8,\n",
              "  'drwtNo3': 28,\n",
              "  'drwtNo1': 2}]"
            ]
          },
          "metadata": {},
          "execution_count": 7
        }
      ]
    },
    {
      "cell_type": "markdown",
      "source": [
        "# 내일 과제\n",
        "- 자신만의 로또 클래스 만들기\n",
        " - 여러 기능 추가\n",
        " - 1~2시까지 개발 마무리 시간\n",
        " - 2시부터 같이 살펴보기"
      ],
      "metadata": {
        "id": "jjrpXHQ3EoIc"
      }
    },
    {
      "cell_type": "markdown",
      "source": [
        "math"
      ],
      "metadata": {
        "id": "hXyLLmJLFCQa"
      }
    },
    {
      "cell_type": "code",
      "source": [
        "import math\n",
        "print(math.ceil(2.3))  # 올림\n",
        "print(math.floor(2.7)) # 내림\n",
        "print(math.trunc(2.7)) # 소수점 이하 버림\n",
        "print(round(2.7))      # 가장 가까운 정수로 반올림"
      ],
      "metadata": {
        "colab": {
          "base_uri": "https://localhost:8080/"
        },
        "id": "2kNSNEUJExnP",
        "outputId": "186b760a-5a65-4bcd-d4ce-2f0840804fc5"
      },
      "execution_count": null,
      "outputs": [
        {
          "output_type": "stream",
          "name": "stdout",
          "text": [
            "3\n",
            "2\n",
            "2\n",
            "3\n"
          ]
        }
      ]
    },
    {
      "cell_type": "code",
      "source": [
        "import math\n",
        "print(math.exp(1))   # e^1\n",
        "print(math.log(2.71828)) # 기본적으로 자연로그\n",
        "print(math.log10(100))  # 밑이 10인 로그\n",
        "print(math.pow(2, 3))   # 2의 3승"
      ],
      "metadata": {
        "colab": {
          "base_uri": "https://localhost:8080/"
        },
        "id": "rI1eL7DWFSMq",
        "outputId": "694828e1-848b-47b9-fa95-9d8c1e3acb03"
      },
      "execution_count": null,
      "outputs": [
        {
          "output_type": "stream",
          "name": "stdout",
          "text": [
            "2.718281828459045\n",
            "0.999999327347282\n",
            "2.0\n",
            "8.0\n"
          ]
        }
      ]
    },
    {
      "cell_type": "code",
      "source": [
        "import math\n",
        "print(math.sin(math.pi/2))\n",
        "print(math.cos(0))\n",
        "print(math.tan(math.pi/4))"
      ],
      "metadata": {
        "colab": {
          "base_uri": "https://localhost:8080/"
        },
        "id": "APPDdSn8F_mF",
        "outputId": "a7d601d5-4ac6-41d2-95a2-5ad395dd2259"
      },
      "execution_count": null,
      "outputs": [
        {
          "output_type": "stream",
          "name": "stdout",
          "text": [
            "1.0\n",
            "1.0\n",
            "0.9999999999999999\n"
          ]
        }
      ]
    },
    {
      "cell_type": "code",
      "source": [
        "import math\n",
        "print(math.sinh(0))\n",
        "print(math.cosh(0))\n",
        "print(math.tanh(1))"
      ],
      "metadata": {
        "colab": {
          "base_uri": "https://localhost:8080/"
        },
        "id": "8-CkNfOUGA9a",
        "outputId": "62d731f4-fd90-438b-d563-58b3b6369174"
      },
      "execution_count": null,
      "outputs": [
        {
          "output_type": "stream",
          "name": "stdout",
          "text": [
            "0.0\n",
            "1.0\n",
            "0.7615941559557649\n"
          ]
        }
      ]
    },
    {
      "cell_type": "code",
      "source": [
        "import math\n",
        "print(math.pi)\n",
        "print(math.e)"
      ],
      "metadata": {
        "colab": {
          "base_uri": "https://localhost:8080/"
        },
        "id": "TdcwTESYGQKo",
        "outputId": "f860baa9-c350-4f78-cd54-859c28e7b9c7"
      },
      "execution_count": null,
      "outputs": [
        {
          "output_type": "stream",
          "name": "stdout",
          "text": [
            "3.141592653589793\n",
            "2.718281828459045\n"
          ]
        }
      ]
    },
    {
      "cell_type": "code",
      "source": [
        "import math\n",
        "print(math.factorial(5))  # 5!\n",
        "print(math.gcd(36, 60))   # 최대공약수\n",
        "print(math.sqrt(16))      # 제곱근"
      ],
      "metadata": {
        "colab": {
          "base_uri": "https://localhost:8080/"
        },
        "id": "TE8ptiZ9GSIA",
        "outputId": "908182d1-3510-4461-fdcb-4ffd15760ebd"
      },
      "execution_count": null,
      "outputs": [
        {
          "output_type": "stream",
          "name": "stdout",
          "text": [
            "120\n",
            "12\n",
            "4.0\n"
          ]
        }
      ]
    },
    {
      "cell_type": "markdown",
      "source": [
        "collections"
      ],
      "metadata": {
        "id": "wef7G021Gujl"
      }
    },
    {
      "cell_type": "code",
      "source": [
        "from collections import Counter\n",
        "colors = ['blue', 'blue', 'red', 'red', 'yellow']\n",
        "count = Counter(colors)\n",
        "print(count)  # 각 요소의 개수를 세어줍니다."
      ],
      "metadata": {
        "colab": {
          "base_uri": "https://localhost:8080/"
        },
        "id": "V7cTCRLJGvmO",
        "outputId": "04b0df63-60db-46eb-ca1b-310ab4a90122"
      },
      "execution_count": null,
      "outputs": [
        {
          "output_type": "stream",
          "name": "stdout",
          "text": [
            "Counter({'blue': 2, 'red': 2, 'yellow': 1})\n"
          ]
        }
      ]
    },
    {
      "cell_type": "code",
      "source": [
        "from collections import Counter\n",
        "\n",
        "text = \"파이썬 Counter 예제입니다. Counter는 텍스트에서 단어의 빈도를 분석하는 데 유용합니다.\"\n",
        "\n",
        "# Counter 객체 생성\n",
        "counter = Counter(text.split())\n",
        "\n",
        "# 단어 빈도 출력\n",
        "for word, count in counter.most_common():\n",
        "    print(f\"{word}: {count}\")"
      ],
      "metadata": {
        "colab": {
          "base_uri": "https://localhost:8080/"
        },
        "id": "DTeosOsOG9bh",
        "outputId": "fcde8550-2f44-491b-c634-ecd46cfb4020"
      },
      "execution_count": null,
      "outputs": [
        {
          "output_type": "stream",
          "name": "stdout",
          "text": [
            "파이썬: 1\n",
            "Counter: 1\n",
            "예제입니다.: 1\n",
            "Counter는: 1\n",
            "텍스트에서: 1\n",
            "단어의: 1\n",
            "빈도를: 1\n",
            "분석하는: 1\n",
            "데: 1\n",
            "유용합니다.: 1\n"
          ]
        }
      ]
    },
    {
      "cell_type": "code",
      "source": [
        "text = \"파이썬 Counter 예제입니다.\"\n",
        "\n",
        "# Counter 객체 생성\n",
        "counter = Counter(text)\n",
        "\n",
        "# 문자 빈도 출력\n",
        "for char, count in counter.most_common():\n",
        "    print(f\"{char}: {count}\")"
      ],
      "metadata": {
        "colab": {
          "base_uri": "https://localhost:8080/"
        },
        "id": "fSGCQl-fHIwT",
        "outputId": "450dadeb-9ad6-47fc-dd34-dff70cdbe882"
      },
      "execution_count": null,
      "outputs": [
        {
          "output_type": "stream",
          "name": "stdout",
          "text": [
            " : 2\n",
            "파: 1\n",
            "이: 1\n",
            "썬: 1\n",
            "C: 1\n",
            "o: 1\n",
            "u: 1\n",
            "n: 1\n",
            "t: 1\n",
            "e: 1\n",
            "r: 1\n",
            "예: 1\n",
            "제: 1\n",
            "입: 1\n",
            "니: 1\n",
            "다: 1\n",
            ".: 1\n"
          ]
        }
      ]
    },
    {
      "cell_type": "code",
      "source": [
        "from collections import defaultdict\n",
        "d = defaultdict(int)\n"
      ],
      "metadata": {
        "id": "v7rlommGHg2E"
      },
      "execution_count": null,
      "outputs": []
    },
    {
      "cell_type": "code",
      "source": [
        "d[\"lion\"]"
      ],
      "metadata": {
        "colab": {
          "base_uri": "https://localhost:8080/"
        },
        "id": "4naN4dWAHj5F",
        "outputId": "803d1c08-7f8e-400a-edb9-8753f0f7d5b0"
      },
      "execution_count": null,
      "outputs": [
        {
          "output_type": "execute_result",
          "data": {
            "text/plain": [
              "0"
            ]
          },
          "metadata": {},
          "execution_count": 18
        }
      ]
    },
    {
      "cell_type": "code",
      "source": [
        "d"
      ],
      "metadata": {
        "colab": {
          "base_uri": "https://localhost:8080/"
        },
        "id": "U7n1R5nzHtAv",
        "outputId": "0905d84c-35e6-44cb-91fa-93b4ca8a1c39"
      },
      "execution_count": null,
      "outputs": [
        {
          "output_type": "execute_result",
          "data": {
            "text/plain": [
              "defaultdict(int, {'lion': 0})"
            ]
          },
          "metadata": {},
          "execution_count": 19
        }
      ]
    },
    {
      "cell_type": "code",
      "source": [
        "d['a'] += 1\n",
        "print(d['a'])  # 존재하지 않는 키 'a'에 대해 int()를 호출하여 0을 반환한 후 1을 더합니다."
      ],
      "metadata": {
        "colab": {
          "base_uri": "https://localhost:8080/"
        },
        "id": "Qf3QxE17HioV",
        "outputId": "1d36e787-0275-4399-a3c9-25caa4e3a2cd"
      },
      "execution_count": null,
      "outputs": [
        {
          "output_type": "stream",
          "name": "stdout",
          "text": [
            "1\n"
          ]
        }
      ]
    },
    {
      "cell_type": "code",
      "source": [
        "from collections import defaultdict\n",
        "\n",
        "# 기본값 설정\n",
        "d = defaultdict(list)"
      ],
      "metadata": {
        "id": "AfRv4w_sH1Lm"
      },
      "execution_count": null,
      "outputs": []
    },
    {
      "cell_type": "code",
      "source": [
        "d"
      ],
      "metadata": {
        "colab": {
          "base_uri": "https://localhost:8080/"
        },
        "id": "lMCYs1D8H4FI",
        "outputId": "2f4ea964-5345-41a0-d6f4-f05003e4f50a"
      },
      "execution_count": null,
      "outputs": [
        {
          "output_type": "execute_result",
          "data": {
            "text/plain": [
              "defaultdict(list, {})"
            ]
          },
          "metadata": {},
          "execution_count": 22
        }
      ]
    },
    {
      "cell_type": "code",
      "source": [
        "d['lion']"
      ],
      "metadata": {
        "colab": {
          "base_uri": "https://localhost:8080/"
        },
        "id": "PcLUb_NwH8QV",
        "outputId": "46141d84-3767-48ec-9023-b7a2726911fc"
      },
      "execution_count": null,
      "outputs": [
        {
          "output_type": "execute_result",
          "data": {
            "text/plain": [
              "[]"
            ]
          },
          "metadata": {},
          "execution_count": 23
        }
      ]
    },
    {
      "cell_type": "code",
      "source": [
        "d"
      ],
      "metadata": {
        "colab": {
          "base_uri": "https://localhost:8080/"
        },
        "id": "6QV76ZtAH_Qj",
        "outputId": "fe464e33-3190-4d09-8a4b-0080aeb149e6"
      },
      "execution_count": null,
      "outputs": [
        {
          "output_type": "execute_result",
          "data": {
            "text/plain": [
              "defaultdict(list, {'lion': []})"
            ]
          },
          "metadata": {},
          "execution_count": 24
        }
      ]
    },
    {
      "cell_type": "code",
      "source": [
        "# 값 추가\n",
        "d['key1'].append('value1')\n",
        "d['key2'].append('value2')\n",
        "\n",
        "# 값 출력\n",
        "print(d['key1'])\n",
        "print(d['key2'])"
      ],
      "metadata": {
        "colab": {
          "base_uri": "https://localhost:8080/"
        },
        "id": "nSM1udL_H3J3",
        "outputId": "64d4598f-e01c-466c-d290-2b5c93363058"
      },
      "execution_count": null,
      "outputs": [
        {
          "output_type": "stream",
          "name": "stdout",
          "text": [
            "['value1']\n",
            "['value2']\n"
          ]
        }
      ]
    },
    {
      "cell_type": "code",
      "source": [
        "dd = {}"
      ],
      "metadata": {
        "id": "wV6wukUHIEFC"
      },
      "execution_count": null,
      "outputs": []
    },
    {
      "cell_type": "code",
      "source": [
        "if \"tiger\" in dd:\n",
        "  dd[\"tiger\"].append(\"value\")\n",
        "else:\n",
        "  dd[\"tiger\"] = []"
      ],
      "metadata": {
        "colab": {
          "base_uri": "https://localhost:8080/",
          "height": 145
        },
        "id": "JJWFxLPrIGkj",
        "outputId": "7f297721-3a53-49cb-f500-223265e588a1"
      },
      "execution_count": null,
      "outputs": [
        {
          "output_type": "error",
          "ename": "KeyError",
          "evalue": "'tiger'",
          "traceback": [
            "\u001b[0;31m---------------------------------------------------------------------------\u001b[0m",
            "\u001b[0;31mKeyError\u001b[0m                                  Traceback (most recent call last)",
            "\u001b[0;32m<ipython-input-29-c327295a1b49>\u001b[0m in \u001b[0;36m<cell line: 1>\u001b[0;34m()\u001b[0m\n\u001b[0;32m----> 1\u001b[0;31m \u001b[0mdd\u001b[0m\u001b[0;34m[\u001b[0m\u001b[0;34m\"tiger\"\u001b[0m\u001b[0;34m]\u001b[0m\u001b[0;34m\u001b[0m\u001b[0;34m\u001b[0m\u001b[0m\n\u001b[0m",
            "\u001b[0;31mKeyError\u001b[0m: 'tiger'"
          ]
        }
      ]
    },
    {
      "cell_type": "code",
      "source": [
        "from collections import defaultdict\n",
        "\n",
        "# 텍스트 분석\n",
        "text = \"파이썬 defaultdict 예제입니다. defaultdict는 딕셔너리에서 키가 없는 경우 기본값을 제공합니다.\"\n",
        "\n",
        "# 단어 빈도 분석\n",
        "word_counts = defaultdict(int)\n",
        "for word in text.split():\n",
        "    word_counts[word] += 1\n",
        "\n",
        "# 결과 출력\n",
        "for word, count in word_counts.items():\n",
        "    print(f\"{word}: {count}\")"
      ],
      "metadata": {
        "colab": {
          "base_uri": "https://localhost:8080/"
        },
        "id": "OiIW-RxCIszz",
        "outputId": "62202015-9bcd-4b40-e909-0f605c52fd4f"
      },
      "execution_count": null,
      "outputs": [
        {
          "output_type": "stream",
          "name": "stdout",
          "text": [
            "파이썬: 1\n",
            "defaultdict: 1\n",
            "예제입니다.: 1\n",
            "defaultdict는: 1\n",
            "딕셔너리에서: 1\n",
            "키가: 1\n",
            "없는: 1\n",
            "경우: 1\n",
            "기본값을: 1\n",
            "제공합니다.: 1\n"
          ]
        }
      ]
    }
  ]
}