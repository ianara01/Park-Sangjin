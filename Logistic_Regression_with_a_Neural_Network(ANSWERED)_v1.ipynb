{
  "nbformat": 4,
  "nbformat_minor": 0,
  "metadata": {
    "coursera": {
      "course_slug": "neural-networks-deep-learning",
      "graded_item_id": "XaIWT",
      "launcher_item_id": "zAgPl"
    },
    "kernelspec": {
      "name": "python3",
      "display_name": "Python 3"
    },
    "language_info": {
      "codemirror_mode": {
        "name": "ipython",
        "version": 3
      },
      "file_extension": ".py",
      "mimetype": "text/x-python",
      "name": "python",
      "nbconvert_exporter": "python",
      "pygments_lexer": "ipython3",
      "version": "3.7.0"
    },
    "colab": {
      "provenance": [],
      "include_colab_link": true
    }
  },
  "cells": [
    {
      "cell_type": "markdown",
      "metadata": {
        "id": "view-in-github",
        "colab_type": "text"
      },
      "source": [
        "<a href=\"https://colab.research.google.com/github/ianara01/Park-Sangjin/blob/master/Logistic_Regression_with_a_Neural_Network(ANSWERED)_v1.ipynb\" target=\"_parent\"><img src=\"https://colab.research.google.com/assets/colab-badge.svg\" alt=\"Open In Colab\"/></a>"
      ]
    },
    {
      "cell_type": "markdown",
      "metadata": {
        "id": "D3CznHOjzUCn"
      },
      "source": [
        "# Logistic Regression with a Neural Network\n",
        "\n"
      ]
    },
    {
      "cell_type": "markdown",
      "metadata": {
        "id": "RnIIYiJazUCo"
      },
      "source": [
        "## 1 - Packages ##\n",
        "\n",
        "Let's import the packages that you will need.\n",
        "- [numpy](www.numpy.org) is the fundamental package for scientific computing with Python.\n",
        "- [h5py](http://www.h5py.org) is a common package to interact with a dataset that is stored on an H5 file.\n",
        "- [matplotlib](http://matplotlib.org) is a famous library to plot graphs in Python.\n",
        "- [PIL](http://www.pythonware.com/products/pil/) and [scipy](https://www.scipy.org/) are used here to test your model with your own picture at the end.\n"
      ]
    },
    {
      "cell_type": "code",
      "metadata": {
        "id": "W2MjeS1k1YYA",
        "colab": {
          "base_uri": "https://localhost:8080/"
        },
        "outputId": "583b80e0-6a62-454b-ff6e-9d9194c19f64"
      },
      "source": [
        "from google.colab import drive\n",
        "drive.mount('/content/drive')"
      ],
      "execution_count": 1,
      "outputs": [
        {
          "output_type": "stream",
          "name": "stdout",
          "text": [
            "Mounted at /content/drive\n"
          ]
        }
      ]
    },
    {
      "cell_type": "code",
      "metadata": {
        "id": "E4Mrukje1lUQ",
        "colab": {
          "base_uri": "https://localhost:8080/",
          "height": 35
        },
        "outputId": "1aebad04-c9b6-403f-b192-6d7043b6fef9"
      },
      "source": [
        "import os\n",
        "\n",
        "os.chdir('/content/drive/MyDrive/Colab Notebooks/ML_class/2023_summer/2_logistic regression')\n",
        "%pwd"
      ],
      "execution_count": null,
      "outputs": [
        {
          "output_type": "execute_result",
          "data": {
            "text/plain": [
              "'/content/drive/MyDrive/Colab Notebooks/ML_class/2023_summer/2_logistic regression'"
            ],
            "application/vnd.google.colaboratory.intrinsic+json": {
              "type": "string"
            }
          },
          "metadata": {},
          "execution_count": 2
        }
      ]
    },
    {
      "cell_type": "code",
      "metadata": {
        "id": "_lX_azyizUCp"
      },
      "source": [
        "import numpy as np\n",
        "import matplotlib.pyplot as plt\n",
        "from lr_utils import load_dataset_iris\n",
        "\n",
        "%matplotlib inline"
      ],
      "execution_count": null,
      "outputs": []
    },
    {
      "cell_type": "markdown",
      "metadata": {
        "collapsed": true,
        "id": "k-ZNIMC6zUCu"
      },
      "source": [
        "## 2 - Overview of the Problem set ##\n",
        "\n",
        "Your dataset contains:\n",
        "    - a training set with four features (X: sepal length, sepal width, petal length, petal width) and labels (Y: Iris Virginica or not)\n",
        "    - a test set with four features and labels\n",
        "\n",
        "Load the data by running the following cell.\n",
        "\n",
        "*The original dataset is located at https://archive.ics.uci.edu/ml/datasets/iris"
      ]
    },
    {
      "cell_type": "code",
      "metadata": {
        "id": "U5jYLjU3zUCv",
        "colab": {
          "base_uri": "https://localhost:8080/"
        },
        "outputId": "c3e87e36-f76f-45ba-f364-77f7fe5eed64"
      },
      "source": [
        "train_set_x_orig, train_set_y_orig, test_set_x_orig, test_set_y_orig = load_dataset_iris()\n",
        "\n",
        "print(train_set_x_orig.shape, train_set_y_orig.shape, test_set_x_orig.shape, test_set_y_orig.shape )\n",
        "print(\"X[0]:\"+str(train_set_x_orig[0])+\"   Y[0]:\"+str(train_set_y_orig[0]))\n",
        "print(np.amax(train_set_x_orig), np.amin(train_set_x_orig))\n"
      ],
      "execution_count": null,
      "outputs": [
        {
          "output_type": "stream",
          "name": "stdout",
          "text": [
            "(100, 4) (100, 1) (50, 4) (50, 1)\n",
            "X[0]:[6.  2.7 5.1 1.6]   Y[0]:[0]\n",
            "7.9 0.1\n"
          ]
        }
      ]
    },
    {
      "cell_type": "markdown",
      "metadata": {
        "id": "NxG3iWkdzUC0"
      },
      "source": [
        "**Exercise:** Find the values for:\n",
        "    - m_train (number of training examples)\n",
        "    - m_test (number of test examples)\n",
        "    - num_px (number of features)\n",
        "Remember that you can refer to the shape of `train_set_x_orig`."
      ]
    },
    {
      "cell_type": "code",
      "metadata": {
        "scrolled": true,
        "id": "1lItxSPhzUC1",
        "colab": {
          "base_uri": "https://localhost:8080/"
        },
        "outputId": "7300e06c-3d02-45f9-b396-822aa4fc9493"
      },
      "source": [
        "### START CODE HERE ### (≈ 3 lines of code)\n",
        "m_train = train_set_x_orig.shape[0]\n",
        "m_test = test_set_x_orig.shape[0]\n",
        "num_px = train_set_x_orig.shape[1]\n",
        "### END CODE HERE ###\n",
        "\n",
        "print (\"Number of training examples: m_train = \" + str(m_train))\n",
        "print (\"Number of testing examples: m_test = \" + str(m_test))\n",
        "print (\"Number of features: num_px = \" + str(num_px))\n",
        "print (\"train_set_x shape: \" + str(train_set_x_orig.shape))\n",
        "print (\"train_set_y shape: \" + str(train_set_y_orig.shape))\n",
        "print (\"test_set_x shape: \" + str(test_set_x_orig.shape))\n",
        "print (\"test_set_y shape: \" + str(test_set_y_orig.shape))"
      ],
      "execution_count": null,
      "outputs": [
        {
          "output_type": "stream",
          "name": "stdout",
          "text": [
            "Number of training examples: m_train = 100\n",
            "Number of testing examples: m_test = 50\n",
            "Number of features: num_px = 4\n",
            "train_set_x shape: (100, 4)\n",
            "train_set_y shape: (100, 1)\n",
            "test_set_x shape: (50, 4)\n",
            "test_set_y shape: (50, 1)\n"
          ]
        }
      ]
    },
    {
      "cell_type": "markdown",
      "metadata": {
        "id": "yVI70dljzUC5"
      },
      "source": [
        "**Expected Output for m_train, m_test and num_px**:\n",
        "<table style=\"width:15%\">\n",
        "  <tr>\n",
        "    <td>**m_train**</td>\n",
        "    <td> 100 </td>\n",
        "  </tr>\n",
        "  \n",
        "  <tr>\n",
        "    <td>**m_test**</td>\n",
        "    <td> 50 </td>\n",
        "  </tr>\n",
        "  \n",
        "  <tr>\n",
        "    <td>**num_px**</td>\n",
        "    <td> 4 </td>\n",
        "  </tr>\n",
        "  \n",
        "</table>\n"
      ]
    },
    {
      "cell_type": "markdown",
      "metadata": {
        "id": "E4ywyqktzUC6"
      },
      "source": [
        "**Exercise:** Reshape the training and test data sets for convenience.\n",
        "- X for training : (m_train, num_px) $\\rightarrow$  (num_px,m_train)\n",
        "- Y for training: (m_train, 1) $\\rightarrow$ (1, m_train)\n",
        "- X for testing : (m_test, num_px) $\\rightarrow$  (num_px,m_test)\n",
        "- Y for testing: (m_test, 1) $\\rightarrow$ (1, m_test)\n",
        "\n",
        "Remember that X.T is the transpose of X."
      ]
    },
    {
      "cell_type": "code",
      "metadata": {
        "id": "rG0td65KzUC7",
        "colab": {
          "base_uri": "https://localhost:8080/"
        },
        "outputId": "a3bb09d2-3a84-40b3-c077-e31a1907f622"
      },
      "source": [
        "# Reshape the training and test examples\n",
        "\n",
        "### START CODE HERE ### (≈ 4 lines of code)\n",
        "train_set_x = train_set_x_orig.T\n",
        "train_set_y = train_set_y_orig.T\n",
        "test_set_x = test_set_x_orig.T\n",
        "test_set_y = test_set_y_orig.T\n",
        "### END CODE HERE ###\n",
        "\n",
        "print (\"train_set_x shape: \" + str(train_set_x.shape))\n",
        "print (\"train_set_y shape: \" + str(train_set_y.shape))\n",
        "print (\"test_set_x shape: \" + str(test_set_x.shape))\n",
        "print (\"test_set_y shape: \" + str(test_set_y.shape))\n",
        "print (\"sanity check after reshaping: \" + str(train_set_x[:,0]))"
      ],
      "execution_count": null,
      "outputs": [
        {
          "output_type": "stream",
          "name": "stdout",
          "text": [
            "train_set_x shape: (4, 100)\n",
            "train_set_y shape: (1, 100)\n",
            "test_set_x shape: (4, 50)\n",
            "test_set_y shape: (1, 50)\n",
            "sanity check after reshaping: [6.  2.7 5.1 1.6]\n"
          ]
        }
      ]
    },
    {
      "cell_type": "markdown",
      "metadata": {
        "id": "Ya5NIDQnzUC_"
      },
      "source": [
        "**Expected Output**:\n",
        "\n",
        "<table style=\"width:35%\">\n",
        "  <tr>\n",
        "    <td>**train_set_x shape**</td>\n",
        "    <td> (4, 100)</td>\n",
        "  </tr>\n",
        "  <tr>\n",
        "    <td>**train_set_y shape**</td>\n",
        "    <td>(1, 100)</td>\n",
        "  </tr>\n",
        "  <tr>\n",
        "    <td>**test_set_x shape**</td>\n",
        "    <td>(4, 50)</td>\n",
        "  </tr>\n",
        "  <tr>\n",
        "    <td>**test_set_y shape**</td>\n",
        "    <td>(1, 50)</td>\n",
        "  </tr>\n",
        "  <tr>\n",
        "  <td>**sanity check after reshaping**</td>\n",
        "  <td>[5.9 3.  4.2 1.5]</td>\n",
        "  </tr>\n",
        "</table>"
      ]
    },
    {
      "cell_type": "markdown",
      "metadata": {
        "id": "X0qqloB0zUDA"
      },
      "source": [
        "**Exercise**\n",
        "One common preprocessing step in machine learning is to center and standardize your dataset, meaning that you substract the mean of the whole numpy array from each example, and then divide each example by the standard deviation of the whole numpy array. It is extremely important for each feature to have a similar range such that our gradients don't explode. You will see that more in detail later in the lectures.\n",
        "\n",
        "Let's standardize our dataset.\n",
        "\n",
        "Use the following functions: np.mean(), np.std(), np.array.reshape() or np.reshape()"
      ]
    },
    {
      "cell_type": "code",
      "metadata": {
        "id": "eVfo3iKCzUDB",
        "colab": {
          "base_uri": "https://localhost:8080/"
        },
        "outputId": "31f1bbc7-8803-4ee6-b378-6e99aa47e361"
      },
      "source": [
        "# Compute the mean and the std for each feature\n",
        "### START CODE HERE ### (≈ 2 lines of code)\n",
        "feature_mean = np.mean(train_set_x, axis=1)\n",
        "feature_std = np.std(train_set_x, axis=1)\n",
        "###END CODE HERE###\n",
        "\n",
        "print('feature_mean.shape:', feature_mean.shape)\n",
        "print('feature_std.shape:', feature_std.shape)\n",
        "\n",
        "# Reshape the 1-D vectors to 2-D column matrices\n",
        "### START CODE HERE ### (≈ 2 lines of code)\n",
        "feature_mean = feature_mean.reshape(feature_mean.shape[0],1)\n",
        "feature_std = feature_std.reshape(feature_std.shape[0],1)\n",
        "###END CODE HERE###\n",
        "\n",
        "# Standardize train_set_x and test_set_x\n",
        "# Recall broadcast\n",
        "### START CODE HERE ### (≈ 2 lines of code)\n",
        "train_set_xx = (train_set_x - feature_mean)/feature_std\n",
        "test_set_xx = (test_set_x - feature_mean)/feature_std\n",
        "###END CODE HERE###\n",
        "\n",
        "print(\"train_set_xx shape:\" + str(train_set_xx.shape))\n",
        "print(\"test_set_xx shape:\" + str(test_set_xx.shape))\n",
        "print(\"train_set_xx mean:\" + str(np.mean(train_set_xx, axis=1)))\n",
        "print(\"train_set_xx std:\" + str(np.std(train_set_xx, axis=1)))\n"
      ],
      "execution_count": null,
      "outputs": [
        {
          "output_type": "stream",
          "name": "stdout",
          "text": [
            "feature_mean.shape: (4,)\n",
            "feature_std.shape: (4,)\n",
            "train_set_xx shape:(4, 100)\n",
            "test_set_xx shape:(4, 50)\n",
            "train_set_xx mean:[-1.01640918e-15  1.55181423e-15  2.30371278e-17 -3.43058915e-16]\n",
            "train_set_xx std:[1. 1. 1. 1.]\n"
          ]
        }
      ]
    },
    {
      "cell_type": "markdown",
      "metadata": {
        "id": "57q_c0odzUDE"
      },
      "source": [
        "**Expected Output**:\n",
        "\n",
        "<table style=\"width:80%\">\n",
        "  <tr>\n",
        "    <td>**train_set_xx shape**</td>\n",
        "    <td> (4, 100)</td>\n",
        "  </tr>\n",
        "  <tr>\n",
        "    <td>**test_set_xx shape shape**</td>\n",
        "    <td>(4, 50)</td>\n",
        "  </tr>\n",
        "  <tr>\n",
        "    <td>**train_set_xx mean**</td>\n",
        "    <td>[ 6.17284002e-16  2.23598917e-15 -2.75335310e-16 -2.59792188e-16]</td>\n",
        "  </tr>\n",
        "  <tr>\n",
        "    <td>**train_set_xx std**</td>\n",
        "    <td>[ 1.  1.  1.  1.]</td>\n",
        "  </tr>\n",
        "</table>"
      ]
    },
    {
      "cell_type": "markdown",
      "metadata": {
        "id": "s5Tct_nOzUDF"
      },
      "source": [
        "## 3 - Building algorithm ##\n",
        "\n",
        "\n",
        "**Mathematical expression of the algorithm**:\n",
        "\n",
        "For one example $x^{(i)}$:\n",
        "$$z^{(i)} = w^T x^{(i)} + b \\tag{1}$$\n",
        "$$\\hat{y}^{(i)} = a^{(i)} = sigmoid(z^{(i)})\\tag{2}$$\n",
        "$$ \\mathcal{L}(a^{(i)}, y^{(i)}) =  - y^{(i)}  \\log(a^{(i)}) - (1-y^{(i)} )  \\log(1-a^{(i)})\\tag{3}$$\n",
        "\n",
        "The cost is then computed by summing over all training examples:\n",
        "$$ J = \\frac{1}{m} \\sum_{i=1}^m \\mathcal{L}(a^{(i)}, y^{(i)})\\tag{6}$$\n",
        "\n"
      ]
    },
    {
      "cell_type": "markdown",
      "metadata": {
        "id": "76yUR4gizUDF"
      },
      "source": [
        "\n",
        "\n",
        "The main steps for building a Neural Network are:\n",
        "1. Define the model structure (such as number of input features)\n",
        "2. Initialize the model's parameters\n",
        "3. Loop:\n",
        "    - Calculate current loss (forward propagation)\n",
        "    - Calculate current gradient (backward propagation)\n",
        "    - Update parameters (gradient descent)\n",
        "\n",
        "You often build 1-3 separately and integrate them into one function we call `model()`.\n",
        "\n",
        "### 3.1 - Helper functions\n",
        "\n",
        "**Exercise**: Using your code from \"Python Basics\", implement `sigmoid()`. As you've seen in the figure above, you need to compute $sigmoid( w^T x + b) = \\frac{1}{1 + e^{-(w^T x + b)}}$ to make predictions. Use np.exp()."
      ]
    },
    {
      "cell_type": "code",
      "metadata": {
        "id": "QmwjxHkJzUDG"
      },
      "source": [
        "def sigmoid(z):\n",
        "    \"\"\"\n",
        "    Compute the sigmoid of z\n",
        "\n",
        "    Arguments:\n",
        "    z -- A scalar or numpy array of any size.\n",
        "\n",
        "    Return:\n",
        "    s -- sigmoid(z)\n",
        "    \"\"\"\n",
        "\n",
        "    ### START CODE HERE ### (≈ 1 line of code)\n",
        "    s = 1.0/(1.0+np.exp(-z))\n",
        "    ### END CODE HERE ###\n",
        "\n",
        "    return s"
      ],
      "execution_count": null,
      "outputs": []
    },
    {
      "cell_type": "code",
      "metadata": {
        "scrolled": true,
        "id": "cOXXl2cgzUDI",
        "colab": {
          "base_uri": "https://localhost:8080/"
        },
        "outputId": "7f22bd77-39c6-4176-ea44-e95cc5e20d57"
      },
      "source": [
        "print (\"sigmoid([0, 2]) = \" + str(sigmoid(np.array([0,2]))))"
      ],
      "execution_count": null,
      "outputs": [
        {
          "output_type": "stream",
          "name": "stdout",
          "text": [
            "sigmoid([0, 2]) = [0.5        0.88079708]\n"
          ]
        }
      ]
    },
    {
      "cell_type": "markdown",
      "metadata": {
        "id": "xeUzw0dXzUDM"
      },
      "source": [
        "**Expected Output**:\n",
        "\n",
        "<table>\n",
        "  <tr>\n",
        "    <td>**sigmoid([0, 2])**</td>\n",
        "    <td> [ 0.5         0.88079708]</td>\n",
        "  </tr>\n",
        "</table>"
      ]
    },
    {
      "cell_type": "markdown",
      "metadata": {
        "id": "0BfOQigMzUDM"
      },
      "source": [
        "### 3.2 - Initializing parameters\n",
        "\n",
        "**Exercise:** Implement parameter initialization in the cell below. You have to initialize w as a vector of zeros.\n",
        "Use np.zeros()."
      ]
    },
    {
      "cell_type": "code",
      "metadata": {
        "id": "dxghAUA9zUDN"
      },
      "source": [
        "def initialize_with_zeros(dim):\n",
        "    \"\"\"\n",
        "    This function creates a vector of zeros of shape (dim, 1) for w and initializes b to 0.\n",
        "\n",
        "    Argument:\n",
        "    dim -- size of the w vector we want (or number of parameters in this case)\n",
        "\n",
        "    Returns:\n",
        "    w -- initialized vector of shape (dim, 1)\n",
        "    b -- initialized scalar (corresponds to the bias)\n",
        "    \"\"\"\n",
        "\n",
        "    ### START CODE HERE ### (≈ 1 line of code)\n",
        "    w = np.zeros((dim,1))\n",
        "    b = 0.0\n",
        "    ### END CODE HERE ###\n",
        "\n",
        "    assert(w.shape == (dim,1))\n",
        "    assert(isinstance(b, float) or isinstance(b, int))\n",
        "\n",
        "    return w, b"
      ],
      "execution_count": null,
      "outputs": []
    },
    {
      "cell_type": "code",
      "metadata": {
        "id": "JKBw29QjzUDR",
        "colab": {
          "base_uri": "https://localhost:8080/"
        },
        "outputId": "7c3609b7-f2df-4b45-85cb-c65f82d1f6ee"
      },
      "source": [
        "dim = 2\n",
        "w, b = initialize_with_zeros(dim)\n",
        "print (\"w = \" + str(w))\n",
        "print (\"b = \" + str(b))"
      ],
      "execution_count": null,
      "outputs": [
        {
          "output_type": "stream",
          "name": "stdout",
          "text": [
            "w = [[0.]\n",
            " [0.]]\n",
            "b = 0.0\n"
          ]
        }
      ]
    },
    {
      "cell_type": "markdown",
      "metadata": {
        "id": "k7l6EXkkzUDX"
      },
      "source": [
        "**Expected Output**:\n",
        "\n",
        "\n",
        "<table style=\"width:15%\">\n",
        "    <tr>\n",
        "        <td>  ** w **  </td>\n",
        "        <td> [[ 0.]\n",
        " [ 0.]] </td>\n",
        "    </tr>\n",
        "    <tr>\n",
        "        <td>  ** b **  </td>\n",
        "        <td> 0 </td>\n",
        "    </tr>\n",
        "</table>\n"
      ]
    },
    {
      "cell_type": "markdown",
      "metadata": {
        "id": "9aZJzc9RzUDY"
      },
      "source": [
        "### 3.3 - Forward and Backward propagation\n",
        "\n",
        "**Exercise:** Implement a function `propagate()` that computes the cost function and its gradient.\n",
        "\n",
        "**Hints**:\n",
        "\n",
        "Forward Propagation:\n",
        "- You get X\n",
        "- You compute $A = \\sigma(w^T X + b) = (a^{(0)}, a^{(1)}, ..., a^{(m-1)}, a^{(m)})$\n",
        "- You calculate the cost function: $J = -\\frac{1}{m}\\sum_{i=1}^{m}y^{(i)}\\log(a^{(i)})+(1-y^{(i)})\\log(1-a^{(i)})$\n",
        "\n",
        "Here are the two formulas you will be using:\n",
        "\n",
        "$$ \\frac{\\partial J}{\\partial w} = \\frac{1}{m}X(A-Y)^T\\tag{7}$$\n",
        "$$ \\frac{\\partial J}{\\partial b} = \\frac{1}{m} \\sum_{i=1}^m (a^{(i)}-y^{(i)})\\tag{8}$$\n",
        "\n",
        "Use np.dot(), np.log(), np.exp(), np.sum()."
      ]
    },
    {
      "cell_type": "code",
      "metadata": {
        "id": "DYYGRt8_zUDZ"
      },
      "source": [
        "def propagate(w, b, X, Y):\n",
        "    \"\"\"\n",
        "    Implement the cost function and its gradient for the propagation explained above\n",
        "\n",
        "    Arguments:\n",
        "    w -- weights, a numpy array of size (num_px, 1)\n",
        "    b -- bias, a scalar\n",
        "    X -- data of size (num_px, number of examples)\n",
        "    Y -- true \"label\" vector (containing 0 if non-victorica, 1 if victorica) of size (1, number of examples)\n",
        "\n",
        "    Return:\n",
        "    cost -- negative log-likelihood cost for logistic regression\n",
        "    dw -- gradient of the loss with respect to w, thus same shape as w\n",
        "    db -- gradient of the loss with respect to b, thus same shape as b\n",
        "\n",
        "    Tips:\n",
        "    - Write your code step by step for the propagation. np.log(), np.dot()\n",
        "    \"\"\"\n",
        "\n",
        "    m = X.shape[1]\n",
        "\n",
        "    # FORWARD PROPAGATION (FROM X TO COST)\n",
        "    ### START CODE HERE ### (≈ 2 lines of code)\n",
        "#    A = sigmoid( np.dot(w.T,X)+b )      # compute activation\n",
        "    A = sigmoid( np.dot(w.T,X)+b )      # compute activation\n",
        "#    cost = -(np.dot(np.log(A),Y.T) + np.dot(np.log(1.0-A),1.0-Y.T))/m                                # compute cost\n",
        "    cost = np.sum(-Y*np.log(A) - (1.0-Y)*np.log(1.0-A))/m                                # compute cost\n",
        "#    cost_check = -Y*np.log(A) - (1.0-Y)*np.log(1.0-A)/m                                # compute cost\n",
        "    ### END CODE HERE ###\n",
        "\n",
        "    # BACKWARD PROPAGATION (TO FIND GRAD)\n",
        "    ### START CODE HERE ### (≈ 2 lines of code)\n",
        "    dw = np.dot(X,(A-Y).T)/m\n",
        "    db = np.sum(A-Y)/m\n",
        "    ### END CODE HERE ###\n",
        "\n",
        "    assert(dw.shape == w.shape)\n",
        "    assert(db.dtype == float)\n",
        "    cost = np.squeeze(cost)\n",
        "    assert(cost.shape == ())\n",
        "\n",
        "    grads = {\"dw\": dw,\n",
        "             \"db\": db}\n",
        "\n",
        "    return grads, cost"
      ],
      "execution_count": null,
      "outputs": []
    },
    {
      "cell_type": "code",
      "metadata": {
        "id": "y_kElVanzUDc",
        "colab": {
          "base_uri": "https://localhost:8080/"
        },
        "outputId": "ce5828f7-620c-4c32-b712-8f682548ae18"
      },
      "source": [
        "w, b, X, Y = np.array([[1.],[2.]]), 2., np.array([[1.,2.,-1.],[3.,4.,-3.2]]), np.array([[1,0,1]])\n",
        "grads, cost = propagate(w, b, X, Y)\n",
        "print (\"dw = \" + str(grads[\"dw\"]))\n",
        "print (\"db = \" + str(grads[\"db\"]))\n",
        "print (\"cost = \" + str(cost))"
      ],
      "execution_count": null,
      "outputs": [
        {
          "output_type": "stream",
          "name": "stdout",
          "text": [
            "dw = [[0.99845601]\n",
            " [2.39507239]]\n",
            "db = 0.001455578136784208\n",
            "cost = 5.801545319394553\n"
          ]
        }
      ]
    },
    {
      "cell_type": "markdown",
      "metadata": {
        "id": "RbxrNMJfzUDf"
      },
      "source": [
        "**Expected Output**:\n",
        "\n",
        "<table style=\"width:50%\">\n",
        "    <tr>\n",
        "        <td>  ** dw **  </td>\n",
        "      <td> [[ 0.99845601]\n",
        "     [ 2.39507239]]</td>\n",
        "    </tr>\n",
        "    <tr>\n",
        "        <td>  ** db **  </td>\n",
        "        <td> 0.00145557813678 </td>\n",
        "    </tr>\n",
        "    <tr>\n",
        "        <td>  ** cost **  </td>\n",
        "        <td> 5.801545319394553 </td>\n",
        "    </tr>\n",
        "\n",
        "</table>"
      ]
    },
    {
      "cell_type": "markdown",
      "metadata": {
        "id": "xK8_ZLy5zUDf"
      },
      "source": [
        "### 3.4 - Optimization\n",
        "\n",
        "You want to update the parameters using gradient descent.\n",
        "\n",
        "**Exercise:** Write down the optimization function to learn $w$ and $b$ by minimizing the cost function $J$. For a parameter $\\theta$, the update rule is $ \\theta = \\theta - \\alpha \\text{ } d\\theta$, where $\\alpha$ is the learning rate."
      ]
    },
    {
      "cell_type": "code",
      "metadata": {
        "id": "SB9-1GfQzUDg"
      },
      "source": [
        "def optimize(w, b, X, Y, num_iterations, learning_rate, print_cost = False):\n",
        "    \"\"\"\n",
        "    This function optimizes w and b by running a gradient descent algorithm\n",
        "\n",
        "    Arguments:\n",
        "    w -- weights, a numpy array of size (num_px, 1)\n",
        "    b -- bias, a scalar\n",
        "    X -- data of shape (num_px, number of examples)\n",
        "    Y -- true \"label\" vector (containing 0 if non-cat, 1 if cat), of shape (1, number of examples)\n",
        "    num_iterations -- number of iterations of the optimization loop\n",
        "    learning_rate -- learning rate of the gradient descent update rule\n",
        "    print_cost -- True to print the loss every 100 steps\n",
        "\n",
        "    Returns:\n",
        "    params -- dictionary containing the weights w and bias b\n",
        "    grads -- dictionary containing the gradients of the weights and bias with respect to the cost function\n",
        "    costs -- list of all the costs computed during the optimization, this will be used to plot the learning curve.\n",
        "\n",
        "    Tips:\n",
        "    You basically need to write down two steps and iterate through them:\n",
        "        1) Calculate the cost and the gradient for the current parameters. Use propagate().\n",
        "        2) Update the parameters using gradient descent rule for w and b.\n",
        "    \"\"\"\n",
        "\n",
        "    costs = []\n",
        "\n",
        "    for i in range(num_iterations):\n",
        "\n",
        "\n",
        "        # Cost and gradient calculation (≈ 1-4 lines of code)\n",
        "        ### START CODE HERE ###\n",
        "        grads, cost = propagate(w, b, X, Y)\n",
        "        ### END CODE HERE ###\n",
        "\n",
        "        # Retrieve derivatives from grads\n",
        "        dw = grads[\"dw\"]\n",
        "        db = grads[\"db\"]\n",
        "\n",
        "        # update rule (≈ 2 lines of code)\n",
        "        ### START CODE HERE ###\n",
        "        w = w - learning_rate * dw\n",
        "        b = b - learning_rate * db\n",
        "        ### END CODE HERE ###\n",
        "\n",
        "        # Record the costs\n",
        "        if i % 100 == 0:\n",
        "            costs.append(cost)\n",
        "\n",
        "        # Print the cost every 100 training examples\n",
        "        if print_cost and i % 100 == 0:\n",
        "            print (\"Cost after iteration %i: %f\" %(i, cost))\n",
        "\n",
        "    params = {\"w\": w,\n",
        "              \"b\": b}\n",
        "\n",
        "    grads = {\"dw\": dw,\n",
        "             \"db\": db}\n",
        "\n",
        "    return params, grads, costs"
      ],
      "execution_count": null,
      "outputs": []
    },
    {
      "cell_type": "code",
      "metadata": {
        "id": "-ynppbY4zUDi",
        "colab": {
          "base_uri": "https://localhost:8080/"
        },
        "outputId": "6534cba9-e3ce-4647-dfbe-26b8a8a41188"
      },
      "source": [
        "params, grads, costs = optimize(w, b, X, Y, num_iterations= 100, learning_rate = 0.009, print_cost = False)\n",
        "\n",
        "print (\"w = \" + str(params[\"w\"]))\n",
        "print (\"b = \" + str(params[\"b\"]))\n",
        "print (\"dw = \" + str(grads[\"dw\"]))\n",
        "print (\"db = \" + str(grads[\"db\"]))"
      ],
      "execution_count": null,
      "outputs": [
        {
          "output_type": "stream",
          "name": "stdout",
          "text": [
            "w = [[0.19033591]\n",
            " [0.12259159]]\n",
            "b = 1.9253598300845747\n",
            "dw = [[0.67752042]\n",
            " [1.41625495]]\n",
            "db = 0.21919450454067657\n"
          ]
        }
      ]
    },
    {
      "cell_type": "markdown",
      "metadata": {
        "id": "oVh1r0XhzUDk"
      },
      "source": [
        "**Expected Output**:\n",
        "\n",
        "<table style=\"width:40%\">\n",
        "    <tr>\n",
        "       <td> **w** </td>\n",
        "       <td>[[ 0.19033591] [ 0.12259159]] </td>\n",
        "    </tr>\n",
        "    <tr>\n",
        "       <td> **b** </td>\n",
        "       <td> 1.92535983008 </td>\n",
        "    </tr>\n",
        "    <tr>\n",
        "       <td> **dw** </td>\n",
        "       <td> [[ 0.67752042] [ 1.41625495]] </td>\n",
        "    </tr>\n",
        "    <tr>\n",
        "       <td> **db** </td>\n",
        "       <td> 0.219194504541 </td>\n",
        "    </tr>\n",
        "\n",
        "</table>"
      ]
    },
    {
      "cell_type": "markdown",
      "metadata": {
        "id": "7DkYmFrVzUDl"
      },
      "source": [
        "**Exercise:** The previous function will output the learned w and b. We are able to use w and b to predict the labels for a dataset X. Implement the `predict()` function. There is two steps to computing predictions:\n",
        "\n",
        "1. Calculate $\\hat{Y} = A = \\sigma(w^T X + b)$\n",
        "\n",
        "2. Convert the entries of a into 0 (if activation <= 0.5) or 1 (if activation > 0.5), stores the predictions in a vector `Y_prediction`. If you wish, you can use an `if`/`else` statement in a `for` loop (though there is also a way to vectorize this).\n",
        "\n",
        "Use np.exp(), np.dot()."
      ]
    },
    {
      "cell_type": "code",
      "metadata": {
        "id": "r-RTnjwezUDl"
      },
      "source": [
        "def predict(w, b, X):\n",
        "    '''\n",
        "    Predict whether the label is 0 or 1 using learned logistic regression parameters (w, b)\n",
        "\n",
        "    Arguments:\n",
        "    w -- weights, a numpy array of size (num_px, 1)\n",
        "    b -- bias, a scalar\n",
        "    X -- data of size (num_px, number of examples)\n",
        "\n",
        "    Returns:\n",
        "    Y_prediction -- a numpy array (vector) containing all predictions (0/1) for the examples in X\n",
        "    '''\n",
        "\n",
        "    m = X.shape[1]\n",
        "    Y_prediction = np.zeros((1,m))\n",
        "    w = w.reshape(X.shape[0], 1)\n",
        "\n",
        "    # Compute vector \"A\" predicting the probabilities of a cat being present in the picture\n",
        "    ### START CODE HERE ### (≈ 1 line of code)\n",
        "    A = 1.0/(1.0+np.exp(-(np.dot(w.T,X)+b)))\n",
        "    ### END CODE HERE ###\n",
        "\n",
        "#    for i in range(A.shape[1]):\n",
        "\n",
        "        # Convert probabilities A[0,i] to actual predictions p[0,i]\n",
        "        ### START CODE HERE ### (≈ 4 lines of code)\n",
        "#        if A[0][i]>0.5:\n",
        "#            Y_prediction[0][i]=1\n",
        "#        else:\n",
        "#            Y_prediction[0][i]=0\n",
        "    Y_prediction = (A>0.5).astype(np.float64)\n",
        "#    print(\"y_pred.dtype\", y_pred.dtype)\n",
        "        ### END CODE HERE ###\n",
        "\n",
        "    assert(Y_prediction.shape == (1, m))\n",
        "\n",
        "    return Y_prediction"
      ],
      "execution_count": null,
      "outputs": []
    },
    {
      "cell_type": "code",
      "metadata": {
        "id": "UqbuFY7JzUDo",
        "colab": {
          "base_uri": "https://localhost:8080/"
        },
        "outputId": "d54b4c26-a863-4ec1-a34d-c0a40e76511b"
      },
      "source": [
        "w = np.array([[0.1124579],[0.23106775]])\n",
        "b = -0.3\n",
        "X = np.array([[1.,-1.1,-3.2],[1.2,2.,0.1]])\n",
        "print (\"predictions = \" + str(predict(w, b, X)))"
      ],
      "execution_count": null,
      "outputs": [
        {
          "output_type": "stream",
          "name": "stdout",
          "text": [
            "predictions = [[1. 1. 0.]]\n"
          ]
        }
      ]
    },
    {
      "cell_type": "markdown",
      "metadata": {
        "id": "DsdLzMmnzUDs"
      },
      "source": [
        "**Expected Output**:\n",
        "\n",
        "<table style=\"width:30%\">\n",
        "    <tr>\n",
        "         <td>\n",
        "             **predictions**\n",
        "         </td>\n",
        "          <td>\n",
        "            [[ 1.  1.  0.]]\n",
        "         </td>  \n",
        "   </tr>\n",
        "\n",
        "</table>\n"
      ]
    },
    {
      "cell_type": "markdown",
      "metadata": {
        "id": "v7m36O1HzUDt"
      },
      "source": [
        "## 4 - Merge all functions into a model ##\n",
        "\n",
        "**Exercise:** Implement the model function. Use the following notation:\n",
        "    - Y_prediction for your predictions on the test set\n",
        "    - Y_prediction_train for your predictions on the train set\n",
        "    - w, costs, grads for the outputs of optimize()"
      ]
    },
    {
      "cell_type": "code",
      "metadata": {
        "id": "pC447US0zUDt"
      },
      "source": [
        "def model(X_train, Y_train, X_test, Y_test, num_iterations = 2000, learning_rate = 0.5, print_cost = False):\n",
        "    \"\"\"\n",
        "    Builds the logistic regression model by calling the function you've implemented previously\n",
        "\n",
        "    Arguments:\n",
        "    X_train -- training set represented by a numpy array of shape (num_px, m_train)\n",
        "    Y_train -- training labels represented by a numpy array (vector) of shape (1, m_train)\n",
        "    X_test -- test set represented by a numpy array of shape (num_px, m_test)\n",
        "    Y_test -- test labels represented by a numpy array (vector) of shape (1, m_test)\n",
        "    num_iterations -- hyperparameter representing the number of iterations to optimize the parameters\n",
        "    learning_rate -- hyperparameter representing the learning rate used in the update rule of optimize()\n",
        "    print_cost -- Set to true to print the cost every 100 iterations\n",
        "\n",
        "    Returns:\n",
        "    d -- dictionary containing information about the model.\n",
        "    \"\"\"\n",
        "\n",
        "    ### START CODE HERE ###\n",
        "\n",
        "    # initialize parameters with zeros (≈ 1 line of code)\n",
        "    w, b = initialize_with_zeros( X_train.shape[0] )\n",
        "\n",
        "    # Gradient descent (≈ 1 line of code)\n",
        "    parameters, grads, costs = optimize( w, b, X_train, Y_train, num_iterations, learning_rate, print_cost )\n",
        "\n",
        "    # Retrieve parameters w and b from dictionary \"parameters\"\n",
        "    w = parameters[\"w\"]\n",
        "    b = parameters[\"b\"]\n",
        "\n",
        "    # Predict test/train set examples (≈ 2 lines of code)\n",
        "    Y_prediction_test = predict(w, b, X_test)\n",
        "    Y_prediction_train = predict(w, b, X_train)\n",
        "    ### END CODE HERE ###\n",
        "\n",
        "    Y_train = Y_train.astype(np.float64)\n",
        "    Y_test = Y_test.astype(np.float64)\n",
        "\n",
        "    # Print train/test Errors\n",
        "    print(\"train accuracy: {} %\".format(100 - np.mean(np.abs(Y_prediction_train - Y_train)) * 100))\n",
        "    print(\"test accuracy: {} %\".format(100 - np.mean(np.abs(Y_prediction_test - Y_test)) * 100))\n",
        "\n",
        "\n",
        "    d = {\"costs\": costs,\n",
        "         \"Y_prediction_test\": Y_prediction_test,\n",
        "         \"Y_prediction_train\" : Y_prediction_train,\n",
        "         \"w\" : w,\n",
        "         \"b\" : b,\n",
        "         \"learning_rate\" : learning_rate,\n",
        "         \"num_iterations\": num_iterations}\n",
        "\n",
        "    return d"
      ],
      "execution_count": null,
      "outputs": []
    },
    {
      "cell_type": "markdown",
      "metadata": {
        "id": "VLoekZKbzUDv"
      },
      "source": [
        "Run the following cell to train your model."
      ]
    },
    {
      "cell_type": "code",
      "metadata": {
        "id": "IpMSA9MuzUDw",
        "colab": {
          "base_uri": "https://localhost:8080/"
        },
        "outputId": "de30d7bd-e048-4d0f-dd6b-1d7dc460c4ad"
      },
      "source": [
        "d = model(train_set_x, train_set_y, test_set_x, test_set_y, num_iterations = 2000, learning_rate = 0.005, print_cost = True)"
      ],
      "execution_count": null,
      "outputs": [
        {
          "output_type": "stream",
          "name": "stdout",
          "text": [
            "Cost after iteration 0: 0.693147\n",
            "Cost after iteration 100: 0.536610\n",
            "Cost after iteration 200: 0.474021\n",
            "Cost after iteration 300: 0.432138\n",
            "Cost after iteration 400: 0.402312\n",
            "Cost after iteration 500: 0.379914\n",
            "Cost after iteration 600: 0.362351\n",
            "Cost after iteration 700: 0.348092\n",
            "Cost after iteration 800: 0.336185\n",
            "Cost after iteration 900: 0.326013\n",
            "Cost after iteration 1000: 0.317160\n",
            "Cost after iteration 1100: 0.309337\n",
            "Cost after iteration 1200: 0.302335\n",
            "Cost after iteration 1300: 0.296000\n",
            "Cost after iteration 1400: 0.290217\n",
            "Cost after iteration 1500: 0.284896\n",
            "Cost after iteration 1600: 0.279968\n",
            "Cost after iteration 1700: 0.275378\n",
            "Cost after iteration 1800: 0.271082\n",
            "Cost after iteration 1900: 0.267043\n",
            "train accuracy: 96.0 %\n",
            "test accuracy: 96.0 %\n"
          ]
        }
      ]
    },
    {
      "cell_type": "markdown",
      "metadata": {
        "id": "EDopSeFozUDz"
      },
      "source": [
        "**Expected Output**:\n",
        "\n",
        "<table style=\"width:40%\">\n",
        "    <tr>\n",
        "        <td> **Cost after iteration 0 **  </td>\n",
        "        <td> 0.693147 </td>\n",
        "    </tr>\n",
        "      <tr>\n",
        "        <td> <center> $\\vdots$ </center> </td>\n",
        "        <td> <center> $\\vdots$ </center> </td>\n",
        "    </tr>  \n",
        "    <tr>\n",
        "        <td> **Train Accuracy**  </td>\n",
        "        <td> 97.0 % </td>\n",
        "    </tr>\n",
        "    <tr>\n",
        "        <td>**Test Accuracy** </td>\n",
        "        <td> 96.0 % </td>\n",
        "    </tr>\n",
        "</table>\n",
        "\n",
        "\n"
      ]
    },
    {
      "cell_type": "markdown",
      "metadata": {
        "id": "bpqqlq5RzUDz"
      },
      "source": [
        "Let's also plot the cost function and the gradients."
      ]
    },
    {
      "cell_type": "code",
      "metadata": {
        "id": "XklJ39jOzUD0",
        "colab": {
          "base_uri": "https://localhost:8080/",
          "height": 472
        },
        "outputId": "8ed2662f-0b82-4824-dfa1-2cff06edb0ad"
      },
      "source": [
        "# Plot learning curve (with costs)\n",
        "costs = np.squeeze(d['costs'])\n",
        "plt.plot(costs)\n",
        "plt.ylabel('cost')\n",
        "plt.xlabel('iterations (per hundreds)')\n",
        "plt.title(\"Learning rate =\" + str(d[\"learning_rate\"]))\n",
        "plt.show()"
      ],
      "execution_count": null,
      "outputs": [
        {
          "output_type": "display_data",
          "data": {
            "text/plain": [
              "<Figure size 640x480 with 1 Axes>"
            ],
            "image/png": "[encoded data removed]"
          },
          "metadata": {}
        }
      ]
    },
    {
      "cell_type": "markdown",
      "metadata": {
        "id": "6XYNIoRdzUD3"
      },
      "source": [
        "## 5 - Further analysis (optional) ##\n",
        "\n",
        "Let's analyze it further, and examine possible choices for the learning rate $\\alpha$."
      ]
    },
    {
      "cell_type": "markdown",
      "metadata": {
        "id": "a0oJv-9czUD4"
      },
      "source": [
        "#### Choice of learning rate ####\n",
        "\n",
        "**Reminder**:\n",
        "In order for Gradient Descent to work you must choose the learning rate wisely. The learning rate $\\alpha$  determines how rapidly we update the parameters. If the learning rate is too large we may \"overshoot\" the optimal value. Similarly, if it is too small we will need too many iterations to converge to the best values. That's why it is crucial to use a well-tuned learning rate.\n",
        "\n",
        "Let's compare the learning curve of our model with several choices of learning rates."
      ]
    },
    {
      "cell_type": "code",
      "metadata": {
        "id": "WnrwfeoczUD4",
        "colab": {
          "base_uri": "https://localhost:8080/",
          "height": 755
        },
        "outputId": "20389a1d-1fbc-41eb-9f06-7d6e1ba7b7b9"
      },
      "source": [
        "learning_rates = [0.01, 0.001, 0.0001]\n",
        "models = {}\n",
        "for i in learning_rates:\n",
        "    print (\"learning rate is: \" + str(i))\n",
        "    models[str(i)] = model(train_set_x, train_set_y, test_set_x, test_set_y, num_iterations = 1500, learning_rate = i, print_cost = False)\n",
        "    print ('\\n' + \"-------------------------------------------------------\" + '\\n')\n",
        "\n",
        "for i in learning_rates:\n",
        "    plt.plot(np.squeeze(models[str(i)][\"costs\"]), label= str(models[str(i)][\"learning_rate\"]))\n",
        "\n",
        "plt.ylabel('cost')\n",
        "plt.xlabel('iterations')\n",
        "\n",
        "legend = plt.legend(loc='upper center', shadow=True)\n",
        "frame = legend.get_frame()\n",
        "frame.set_facecolor('0.90')\n",
        "plt.show()"
      ],
      "execution_count": null,
      "outputs": [
        {
          "output_type": "stream",
          "name": "stdout",
          "text": [
            "learning rate is: 0.01\n",
            "train accuracy: 99.0 %\n",
            "test accuracy: 98.0 %\n",
            "\n",
            "-------------------------------------------------------\n",
            "\n",
            "learning rate is: 0.001\n",
            "train accuracy: 76.0 %\n",
            "test accuracy: 54.0 %\n",
            "\n",
            "-------------------------------------------------------\n",
            "\n",
            "learning rate is: 0.0001\n",
            "train accuracy: 73.0 %\n",
            "test accuracy: 54.0 %\n",
            "\n",
            "-------------------------------------------------------\n",
            "\n"
          ]
        },
        {
          "output_type": "display_data",
          "data": {
            "text/plain": [
              "<Figure size 640x480 with 1 Axes>"
            ],
            "image/png": "[encoded data removed]"
          },
          "metadata": {}
        }
      ]
    },
    {
      "cell_type": "markdown",
      "metadata": {
        "id": "h7h8wnjrzUD7"
      },
      "source": [
        "**Interpretation**:\n",
        "- Different learning rates give different costs and thus different predictions results.\n",
        "- If the learning rate is too large (0.01), the cost may oscillate up and down. It may even diverge (though in this example, using 0.01 still eventually ends up at a good value for the cost).\n",
        "- A lower cost doesn't mean a better model. You have to check if there is possibly overfitting. It happens when the training accuracy is a lot higher than the test accuracy.\n",
        "- In deep learning, we usually recommend that you:\n",
        "    - Choose the learning rate that better minimizes the cost function.\n",
        "    - If your model overfits, use other techniques to reduce overfitting. (We'll talk about this in later videos.)\n"
      ]
    },
    {
      "cell_type": "markdown",
      "metadata": {
        "id": "KSYtm6qzzUD8"
      },
      "source": [
        "<font color='blue'>\n",
        "**What to remember from this assignment:**\n",
        "1. Preprocessing the dataset is important.\n",
        "2. You implemented each function separately: initialize(), propagate(), optimize(). Then you built a model().\n",
        "3. Tuning the learning rate (which is an example of a \"hyperparameter\") can make a big difference to the algorithm. You will see more examples of this later in this course!"
      ]
    },
    {
      "cell_type": "markdown",
      "metadata": {
        "id": "eRaKp3e3zUD9"
      },
      "source": [
        "Bibliography:\n",
        "- http://www.wildml.com/2015/09/implementing-a-neural-network-from-scratch/\n",
        "- https://stats.stackexchange.com/questions/211436/why-do-we-normalize-images-by-subtracting-the-datasets-image-mean-and-not-the-c"
      ]
    }
  ]
}