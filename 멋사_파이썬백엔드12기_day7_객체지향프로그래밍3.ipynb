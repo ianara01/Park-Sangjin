{
  "nbformat": 4,
  "nbformat_minor": 0,
  "metadata": {
    "colab": {
      "provenance": [],
      "include_colab_link": true
    },
    "kernelspec": {
      "name": "python3",
      "display_name": "Python 3"
    },
    "language_info": {
      "name": "python"
    }
  },
  "cells": [
    {
      "cell_type": "markdown",
      "metadata": {
        "id": "view-in-github",
        "colab_type": "text"
      },
      "source": [
        "<a href=\"https://colab.research.google.com/github/ianara01/Park-Sangjin/blob/master/%EB%A9%8B%EC%82%AC_%ED%8C%8C%EC%9D%B4%EC%8D%AC%EB%B0%B1%EC%97%94%EB%93%9C12%EA%B8%B0_day7_%EA%B0%9D%EC%B2%B4%EC%A7%80%ED%96%A5%ED%94%84%EB%A1%9C%EA%B7%B8%EB%9E%98%EB%B0%8D3.ipynb\" target=\"_parent\"><img src=\"https://colab.research.google.com/assets/colab-badge.svg\" alt=\"Open In Colab\"/></a>"
      ]
    },
    {
      "cell_type": "markdown",
      "source": [
        "# Class가 왜 필요한가"
      ],
      "metadata": {
        "id": "KuGu9OR1Dykb"
      }
    },
    {
      "cell_type": "code",
      "execution_count": null,
      "metadata": {
        "id": "KmA9uZz36_hL"
      },
      "outputs": [],
      "source": [
        "# 멋사 개발자\n",
        "# 이름\n",
        "dev_name=\"lion\"\n",
        "# 파이썬 개발을 한다\n",
        "def python_dev():\n",
        "  print(\"파이썬 개발을 한다\")\n",
        "# 클라우드를 다룬다\n",
        "def cloud_dev():\n",
        "  print(\"클라우드를 다룬다\")\n",
        "# 원하는 기업\n",
        "# DB에 CRUD를 한다\n",
        "# 기술스택\n",
        "# 도커를 이용해서 배포를 한다..."
      ]
    },
    {
      "cell_type": "markdown",
      "source": [
        "멋사 개발자\n",
        "- 이름\n",
        "- 원하는 기업\n",
        "- 기술스택\n",
        "\n",
        "- 파이썬 개발을 한다\n",
        "- 클라우드를 다룬다"
      ],
      "metadata": {
        "id": "zZNmSxf4FGff"
      }
    },
    {
      "cell_type": "code",
      "source": [
        "# class의 이름은 파스칼 케이스\n",
        "class LionDev:\n",
        "  def __init__(self):\n",
        "    self.name=\"스티브 잡스\"\n",
        "    self.my_company=\"Apple\"\n",
        "    self.skills = [\"Python\"]\n",
        "\n",
        "  def python_dev(self):\n",
        "    print(\"파이썬 개발을 한다!\")\n",
        "\n",
        "  def cloud_dev(self):\n",
        "      print(\"클라우드를 다룬다!!\")\n",
        "      print(\"AWS로 배포를 했어요!!\")\n",
        "\n",
        "  def study_regularly(self, subject):\n",
        "    self.skills.append(subject)\n"
      ],
      "metadata": {
        "id": "Vk45qeykFWxE"
      },
      "execution_count": null,
      "outputs": []
    },
    {
      "cell_type": "code",
      "source": [
        "lionDev1 = LionDev()"
      ],
      "metadata": {
        "id": "pKINKwMIJqW9"
      },
      "execution_count": null,
      "outputs": []
    },
    {
      "cell_type": "code",
      "source": [
        "lionDev1.skills"
      ],
      "metadata": {
        "colab": {
          "base_uri": "https://localhost:8080/"
        },
        "id": "AoZm0rtnJziv",
        "outputId": "ae4ba52c-04b0-46b2-e30e-83ed038e5c15"
      },
      "execution_count": null,
      "outputs": [
        {
          "output_type": "execute_result",
          "data": {
            "text/plain": [
              "['Python', 'Class', '함수', 'GitAction']"
            ]
          },
          "metadata": {},
          "execution_count": 56
        }
      ]
    },
    {
      "cell_type": "code",
      "source": [
        "lionDev1.study_regularly(\"GitAction\")"
      ],
      "metadata": {
        "id": "Vdeet1XERQfJ"
      },
      "execution_count": null,
      "outputs": []
    },
    {
      "cell_type": "code",
      "source": [
        "my_skills = []\n",
        "def study_hard(skill):\n",
        "  my_skills.append(skill)\n",
        "  print(\"나는 \",my_skills,\"를 할 수 있어!\")"
      ],
      "metadata": {
        "id": "WURqdkvAPKIe"
      },
      "execution_count": null,
      "outputs": []
    },
    {
      "cell_type": "code",
      "source": [
        "study_hard(\"Django\")"
      ],
      "metadata": {
        "colab": {
          "base_uri": "https://localhost:8080/"
        },
        "id": "eWvI5Oq7PaRq",
        "outputId": "9ebb8d9f-5bdd-441b-c538-5f8abc223867"
      },
      "execution_count": null,
      "outputs": [
        {
          "output_type": "stream",
          "name": "stdout",
          "text": [
            "나는  ['python', 'Django'] 를 할 수 있어!\n"
          ]
        }
      ]
    },
    {
      "cell_type": "code",
      "source": [
        "x=\"hello\"\n",
        "y=\"world\"\n",
        "x"
      ],
      "metadata": {
        "colab": {
          "base_uri": "https://localhost:8080/",
          "height": 35
        },
        "id": "Wlthtxd6QCfx",
        "outputId": "188b273b-172f-49ba-9887-8b4a61613a45"
      },
      "execution_count": null,
      "outputs": [
        {
          "output_type": "execute_result",
          "data": {
            "text/plain": [
              "'hello'"
            ],
            "application/vnd.google.colaboratory.intrinsic+json": {
              "type": "string"
            }
          },
          "metadata": {},
          "execution_count": 47
        }
      ]
    },
    {
      "cell_type": "code",
      "source": [
        "class LionDev:\n",
        "  def __init__(self, name, company, skills=[]):\n",
        "    self.name=name\n",
        "    self.company=company\n",
        "    self.skills=skills\n",
        "  def study_regularly(self, subject):\n",
        "    self.skills.append(subject)"
      ],
      "metadata": {
        "id": "Njnuda6JQXrW"
      },
      "execution_count": null,
      "outputs": []
    },
    {
      "cell_type": "code",
      "source": [
        "instance = LionDev(name=\"lion\", company='OpenAI')\n",
        "instance1 = LionDev(name=\"tiger\", company='Google')"
      ],
      "metadata": {
        "id": "zBerkXScR3xh"
      },
      "execution_count": null,
      "outputs": []
    },
    {
      "cell_type": "code",
      "source": [
        "instance.study_regularly(\"python\")\n",
        "instance.skills"
      ],
      "metadata": {
        "colab": {
          "base_uri": "https://localhost:8080/"
        },
        "id": "s0OOXbO9b8y4",
        "outputId": "9e9948fa-e490-47a1-ceda-a7da71d5dd23"
      },
      "execution_count": null,
      "outputs": [
        {
          "output_type": "execute_result",
          "data": {
            "text/plain": [
              "['python']"
            ]
          },
          "metadata": {},
          "execution_count": 106
        }
      ]
    },
    {
      "cell_type": "code",
      "source": [
        "instance1.study_regularly(\"ai\")\n",
        "instance1.skills"
      ],
      "metadata": {
        "colab": {
          "base_uri": "https://localhost:8080/"
        },
        "id": "DM9H1b6-be7v",
        "outputId": "f8d3d4cb-038e-48c8-cf7c-be45a9296a68"
      },
      "execution_count": null,
      "outputs": [
        {
          "output_type": "execute_result",
          "data": {
            "text/plain": [
              "['python', 'ai']"
            ]
          },
          "metadata": {},
          "execution_count": 107
        }
      ]
    },
    {
      "cell_type": "markdown",
      "source": [
        "위에서 만든 LionDev 클래스를 업그레이드 해봅시다.\n",
        "- 11:10까지 해보고 디스코드에 체크해 주세요\n",
        "- 원하는 기업, 기술 스택을 생성할때 세팅할수 있도록 변경해 봅니다."
      ],
      "metadata": {
        "id": "kucDKOkVScVg"
      }
    },
    {
      "cell_type": "code",
      "source": [
        "임종한.name"
      ],
      "metadata": {
        "colab": {
          "base_uri": "https://localhost:8080/",
          "height": 35
        },
        "id": "jIXzd0pBR_eu",
        "outputId": "489b35cc-4f48-4f97-a60e-ef414d1cb426"
      },
      "execution_count": null,
      "outputs": [
        {
          "output_type": "execute_result",
          "data": {
            "text/plain": [
              "'임종한'"
            ],
            "application/vnd.google.colaboratory.intrinsic+json": {
              "type": "string"
            }
          },
          "metadata": {},
          "execution_count": 67
        }
      ]
    },
    {
      "cell_type": "markdown",
      "source": [
        "함수"
      ],
      "metadata": {
        "id": "GpA36sMoZGBC"
      }
    },
    {
      "cell_type": "code",
      "source": [
        "def have_lunch():\n",
        "  print(\"밥을 먹습니다\")"
      ],
      "metadata": {
        "id": "ZcaiZJNZZTq-"
      },
      "execution_count": null,
      "outputs": []
    },
    {
      "cell_type": "code",
      "source": [
        "have_lunch()"
      ],
      "metadata": {
        "colab": {
          "base_uri": "https://localhost:8080/"
        },
        "id": "dynece0LZjaD",
        "outputId": "b38a13de-dceb-469f-82db-82313921ee3b"
      },
      "execution_count": null,
      "outputs": [
        {
          "output_type": "stream",
          "name": "stdout",
          "text": [
            "밥을 먹습니다\n"
          ]
        }
      ]
    },
    {
      "cell_type": "code",
      "source": [
        "def have_lunch(menu=\"밥\"):\n",
        "  print(f\"{menu}을 먹고 디저트도 먹습니다.\")"
      ],
      "metadata": {
        "id": "GBZTg1EvZaRS"
      },
      "execution_count": null,
      "outputs": []
    },
    {
      "cell_type": "code",
      "source": [
        "have_lunch()"
      ],
      "metadata": {
        "colab": {
          "base_uri": "https://localhost:8080/"
        },
        "id": "ZkTHJJepZl03",
        "outputId": "6a18b433-bea2-4d9a-e211-08fe8002a3e7"
      },
      "execution_count": null,
      "outputs": [
        {
          "output_type": "stream",
          "name": "stdout",
          "text": [
            "밥을 먹고 디저트도 먹습니다.\n"
          ]
        }
      ]
    },
    {
      "cell_type": "markdown",
      "source": [
        "class에서 list와 같은 구조형 변수 또는 참조가 필요한 대상으로 초기화 할때 주의할 점"
      ],
      "metadata": {
        "id": "DsMPvx8LeDjj"
      }
    },
    {
      "cell_type": "code",
      "source": [
        "# 잘못된 예\n",
        "# []가 각 인스턴스마다 공유를 해서 논리적 오류가 발생합니다.\n",
        "class LionDev:\n",
        "  def __init__(self, name, company, skills=[]):\n",
        "    self.name=name\n",
        "    self.company=company\n",
        "    self.skills=skills\n",
        "  def study_regularly(self, subject):\n",
        "    self.skills.append(subject)"
      ],
      "metadata": {
        "id": "gOzpU7yNeJg-"
      },
      "execution_count": null,
      "outputs": []
    },
    {
      "cell_type": "code",
      "source": [
        "# 권장하는 예\n",
        "class LionDev:\n",
        "  def __init__(self, name, company, skills=None):\n",
        "    self.name=name\n",
        "    self.company=company\n",
        "    self.skills= skills if skills is not None else []\n",
        "  def study_regularly(self, subject):\n",
        "    self.skills.append(subject)"
      ],
      "metadata": {
        "id": "UYo0MTaSeWWK"
      },
      "execution_count": null,
      "outputs": []
    },
    {
      "cell_type": "code",
      "source": [
        "lion1 = LionDev(\"lion\", \"우아한 형제\")\n",
        "lion2 = LionDev(\"tiger\", \"네이버\")"
      ],
      "metadata": {
        "id": "hhlIik12e0gi"
      },
      "execution_count": null,
      "outputs": []
    },
    {
      "cell_type": "code",
      "source": [
        "lion1.study_regularly(\"파이썬\")\n",
        "lion1.skills"
      ],
      "metadata": {
        "colab": {
          "base_uri": "https://localhost:8080/"
        },
        "id": "W64GULOKfCRv",
        "outputId": "9d7ea96f-49c1-4e96-c935-ba971831429f"
      },
      "execution_count": null,
      "outputs": [
        {
          "output_type": "execute_result",
          "data": {
            "text/plain": [
              "['파이썬']"
            ]
          },
          "metadata": {},
          "execution_count": 110
        }
      ]
    },
    {
      "cell_type": "code",
      "source": [
        "lion2.study_regularly(\"AI\")\n",
        "lion2.skills"
      ],
      "metadata": {
        "colab": {
          "base_uri": "https://localhost:8080/"
        },
        "id": "UKzYV22MfHTI",
        "outputId": "a8cc5698-c235-4851-c318-8aea95611233"
      },
      "execution_count": null,
      "outputs": [
        {
          "output_type": "execute_result",
          "data": {
            "text/plain": [
              "['AI']"
            ]
          },
          "metadata": {},
          "execution_count": 111
        }
      ]
    },
    {
      "cell_type": "markdown",
      "source": [
        "은행계좌 클래스\n",
        "- 초기화 : 소유자(owner), 잔고(balance) 변수 생성\n",
        "- 메서드(함수)(입금 deposit, amount 인자) : 입금되면 잔고가 올라가도록 만들기\n",
        "- 메서드(함수)(출금 withdraw, amount 인자) : 반대"
      ],
      "metadata": {
        "id": "jk_tWwHLfq9m"
      }
    },
    {
      "cell_type": "code",
      "source": [
        "class BankAcc:\n",
        "  def __init__(self, owner, balance=0):\n",
        "    self.owner = owner\n",
        "    self.balance = balance\n",
        "  def deposit(self, amount):\n",
        "    # self.balance = self.balance + amount\n",
        "    self.balance += amount\n",
        "    # x = x+1\n",
        "    # x +=1\n",
        "    print(f\"{self.owner} 고객님, 고객님의 잔고는 {self.balance}입니다.\")\n",
        "  def withdraw(self,amount ):\n",
        "    self.balance = self.balance - amount\n",
        "    print(f\"{self.owner} 고객님, 고객님의 잔고는 {self.balance}입니다.\")\n"
      ],
      "metadata": {
        "id": "btyyZyh3gMk4"
      },
      "execution_count": null,
      "outputs": []
    },
    {
      "cell_type": "code",
      "source": [
        "account1 = BankAcc(\"Lion\")"
      ],
      "metadata": {
        "id": "23E1Xe1Dhqej"
      },
      "execution_count": null,
      "outputs": []
    },
    {
      "cell_type": "code",
      "source": [
        "account1.balance"
      ],
      "metadata": {
        "colab": {
          "base_uri": "https://localhost:8080/"
        },
        "id": "q0CGHqGbh03L",
        "outputId": "d86a88ca-2331-4cdf-f2f8-0ce487e4a3c1"
      },
      "execution_count": null,
      "outputs": [
        {
          "output_type": "execute_result",
          "data": {
            "text/plain": [
              "0"
            ]
          },
          "metadata": {},
          "execution_count": 123
        }
      ]
    },
    {
      "cell_type": "code",
      "source": [
        "account1.deposit(5000000)"
      ],
      "metadata": {
        "colab": {
          "base_uri": "https://localhost:8080/"
        },
        "id": "0UGDcSC30OWa",
        "outputId": "445b28f7-9e7b-4e74-98f3-f128f4fc3735"
      },
      "execution_count": null,
      "outputs": [
        {
          "output_type": "stream",
          "name": "stdout",
          "text": [
            "Lion 고객님, 고객님의 잔고는 5000000입니다.\n"
          ]
        }
      ]
    },
    {
      "cell_type": "code",
      "source": [
        "account1.withdraw(4000000)"
      ],
      "metadata": {
        "colab": {
          "base_uri": "https://localhost:8080/"
        },
        "id": "Jmp-npeQ0VhJ",
        "outputId": "32cabe0c-a4bc-412c-b35f-d0cc859747e9"
      },
      "execution_count": null,
      "outputs": [
        {
          "output_type": "stream",
          "name": "stdout",
          "text": [
            "Lion 고객님, 고객님의 잔고는 1000000입니다.\n"
          ]
        }
      ]
    },
    {
      "cell_type": "code",
      "source": [
        "# 기존 : 고객이름, 잔고, 입금, 출금\n",
        "# 추가 : 잔고확인, 신용등급, 대출기능"
      ],
      "metadata": {
        "id": "OVh0UIGb1CLx"
      },
      "execution_count": null,
      "outputs": []
    },
    {
      "cell_type": "code",
      "source": [
        "class BankAccAdv:\n",
        "  def __init__(self, owner, balance=0, grade=2):\n",
        "    self.owner = owner\n",
        "    self.balance = balance\n",
        "    self.grade = grade # 1(우수), 2(보통)-디폴트, 3(주의)등급\n",
        "  def deposit(self, amount):\n",
        "    # self.balance = self.balance + amount\n",
        "    self.balance += amount\n",
        "    # x = x+1\n",
        "    # x +=1\n",
        "    print(f\"{self.owner} 고객님, 고객님의 잔고는 {self.balance}입니다.\")\n",
        "  def withdraw(self,amount ):\n",
        "    self.balance = self.balance - amount\n",
        "    print(f\"{self.owner} 고객님, 고객님의 잔고는 {self.balance}입니다.\") # 있는 금액만큼만 출금되도록 설정\n",
        "  def show_balance(self):\n",
        "    print(\"{}원 있습니다!\".format(self.balance))\n",
        "  def grade_cal(self):\n",
        "    # 잔고 기준으로 100만원 넘게 있으면 1, 0원 밑으로 있으면 3등급\n",
        "    # 잔고를 100만원과 비교\n",
        "    if self.balance > 1000000: self.grade=1\n",
        "    elif self.balance<0:self.grade=3\n",
        "    else: self.grade=2\n",
        "  def loan(self, amount):\n",
        "    # 신용등급이 2등급 이상이면 해주고\n",
        "    # 3등급 이면 안된다고 하기\n",
        "    # self.grade 신용등급 업데이트 하고\n",
        "    # 그 다음에 신용등급을 확인해서 처리\n",
        "    self.grade_cal()\n",
        "    if self.grade<=2:\n",
        "      self.balance-=amount\n",
        "      print(f\"{self.owner} 고객님, 고객님의 잔고는 {self.balance}입니다.\") #\n",
        "    else:\n",
        "      print(f\"{self.owner} 고객님은 대출이 안됩니다.\") #\n"
      ],
      "metadata": {
        "id": "VWODDi3p1f_N"
      },
      "execution_count": null,
      "outputs": []
    },
    {
      "cell_type": "code",
      "source": [
        "acc = BankAccAdv(\"lion\")"
      ],
      "metadata": {
        "id": "D6Sd0-yh2N4H"
      },
      "execution_count": null,
      "outputs": []
    },
    {
      "cell_type": "code",
      "source": [
        "acc.deposit(1500000)"
      ],
      "metadata": {
        "colab": {
          "base_uri": "https://localhost:8080/"
        },
        "id": "q2SufCKP2T7a",
        "outputId": "fa6e0256-7c55-4357-d780-ccc66bcc5b56"
      },
      "execution_count": null,
      "outputs": [
        {
          "output_type": "stream",
          "name": "stdout",
          "text": [
            "lion 고객님, 고객님의 잔고는 1500000입니다.\n"
          ]
        }
      ]
    },
    {
      "cell_type": "code",
      "source": [
        "acc.show_balance()"
      ],
      "metadata": {
        "colab": {
          "base_uri": "https://localhost:8080/"
        },
        "id": "k3dMrSTd57yk",
        "outputId": "7ac5c664-6c88-47c4-cd5d-10f0f0a4f08c"
      },
      "execution_count": null,
      "outputs": [
        {
          "output_type": "stream",
          "name": "stdout",
          "text": [
            "1500000원 있습니다!\n"
          ]
        }
      ]
    },
    {
      "cell_type": "code",
      "source": [
        "acc.loan(1000000)"
      ],
      "metadata": {
        "colab": {
          "base_uri": "https://localhost:8080/"
        },
        "id": "Qk1KzltE5_uR",
        "outputId": "050bd7c8-2a27-447b-aa81-2bc3bb10dc93"
      },
      "execution_count": null,
      "outputs": [
        {
          "output_type": "stream",
          "name": "stdout",
          "text": [
            "lion 고객님은 대출이 안됩니다.\n"
          ]
        }
      ]
    },
    {
      "cell_type": "code",
      "source": [
        "acc.withdraw(5000000)"
      ],
      "metadata": {
        "colab": {
          "base_uri": "https://localhost:8080/"
        },
        "id": "Yh50kmC84Ofr",
        "outputId": "099fc5e3-0901-4d77-805f-ef805ad8d85f"
      },
      "execution_count": null,
      "outputs": [
        {
          "output_type": "stream",
          "name": "stdout",
          "text": [
            "lion 고객님, 고객님의 잔고는 -3350000입니다.\n"
          ]
        }
      ]
    },
    {
      "cell_type": "code",
      "source": [
        "acc.grade_cal()"
      ],
      "metadata": {
        "id": "5Jff7xdR37mI"
      },
      "execution_count": null,
      "outputs": []
    },
    {
      "cell_type": "code",
      "source": [
        "acc.grade"
      ],
      "metadata": {
        "colab": {
          "base_uri": "https://localhost:8080/"
        },
        "id": "xxm-WuZs4K6r",
        "outputId": "e2a651de-e3f6-4d35-d030-a8881487fcbb"
      },
      "execution_count": null,
      "outputs": [
        {
          "output_type": "execute_result",
          "data": {
            "text/plain": [
              "3"
            ]
          },
          "metadata": {},
          "execution_count": 141
        }
      ]
    },
    {
      "cell_type": "code",
      "source": [
        "class 붕어빵:\n",
        "  def __init__(self, 속):\n",
        "    self.속 = 속"
      ],
      "metadata": {
        "id": "BHH8kyR56mZR"
      },
      "execution_count": null,
      "outputs": []
    },
    {
      "cell_type": "code",
      "source": [
        "우리동네붕어빵 = 붕어빵(\"슈크림\")"
      ],
      "metadata": {
        "id": "88c2w-hZ6sXh"
      },
      "execution_count": null,
      "outputs": []
    },
    {
      "cell_type": "code",
      "source": [
        "우리동네붕어빵.속"
      ],
      "metadata": {
        "colab": {
          "base_uri": "https://localhost:8080/",
          "height": 35
        },
        "id": "uc-Ybqpe6wW_",
        "outputId": "34c80636-6ecf-4576-f816-a2e9c8ee6d98"
      },
      "execution_count": null,
      "outputs": [
        {
          "output_type": "execute_result",
          "data": {
            "text/plain": [
              "'슈크림'"
            ],
            "application/vnd.google.colaboratory.intrinsic+json": {
              "type": "string"
            }
          },
          "metadata": {},
          "execution_count": 156
        }
      ]
    },
    {
      "cell_type": "markdown",
      "source": [
        "# 키오스크 작성 코드를\n",
        "- 2시 50분까지 진행\n",
        "- 같이 살펴보는 시간은 3시부터 하겠습니다.\n",
        "- hanslab.org:8088로 접속해서\n",
        "- workspace 폴더에 자신의 이름으로 된 폴더를 만들고\n",
        "- 코드를 옮겨주세요\n",
        "- 중심 코드의 상단에 주석으로 개발한 코드에 대한 설명을 코멘트를 남겨 주세요"
      ],
      "metadata": {
        "id": "kG6evDMd89zX"
      }
    },
    {
      "cell_type": "markdown",
      "source": [
        "# 회고시간\n",
        "- 팀장님 뽑으시면 알려주세요\n",
        "- 변수, 자료형, 조건문, 반복문, 함수, 파일처리, 예외처리, 클래스에 대한 보완 설명 등이 필요한 영역이 있는지 체크해 주세요!"
      ],
      "metadata": {
        "id": "EvyR8d9GaJFz"
      }
    },
    {
      "cell_type": "code",
      "source": [],
      "metadata": {
        "id": "dLdwK-iY9E4q"
      },
      "execution_count": null,
      "outputs": []
    }
  ]
}