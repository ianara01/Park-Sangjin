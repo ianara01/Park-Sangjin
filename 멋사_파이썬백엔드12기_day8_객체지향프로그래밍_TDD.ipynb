{
  "nbformat": 4,
  "nbformat_minor": 0,
  "metadata": {
    "colab": {
      "provenance": [],
      "include_colab_link": true
    },
    "kernelspec": {
      "name": "python3",
      "display_name": "Python 3"
    },
    "language_info": {
      "name": "python"
    }
  },
  "cells": [
    {
      "cell_type": "markdown",
      "metadata": {
        "id": "view-in-github",
        "colab_type": "text"
      },
      "source": [
        "<a href=\"https://colab.research.google.com/github/ianara01/Park-Sangjin/blob/master/%EB%A9%8B%EC%82%AC_%ED%8C%8C%EC%9D%B4%EC%8D%AC%EB%B0%B1%EC%97%94%EB%93%9C12%EA%B8%B0_day8_%EA%B0%9D%EC%B2%B4%EC%A7%80%ED%96%A5%ED%94%84%EB%A1%9C%EA%B7%B8%EB%9E%98%EB%B0%8D_TDD.ipynb\" target=\"_parent\"><img src=\"https://colab.research.google.com/assets/colab-badge.svg\" alt=\"Open In Colab\"/></a>"
      ]
    },
    {
      "cell_type": "markdown",
      "source": [
        "체크 포인트\n",
        "- 나는 함수를 작성할 수 있나?\n",
        "- 나는 클래스를 사용할 수 있나?\n",
        "- 모듈, 패키지를 구성했나?\n",
        "- 파이썬 파일 실행할 때, if __name__==\"__main__\" 사용했나?\n",
        "- 디버그를 사용했나?\n",
        "- ....."
      ],
      "metadata": {
        "id": "n-jGy7HwdwNl"
      }
    },
    {
      "cell_type": "markdown",
      "source": [
        "# 상속"
      ],
      "metadata": {
        "id": "NF6Cs-QEhR2G"
      }
    },
    {
      "cell_type": "code",
      "execution_count": null,
      "metadata": {
        "id": "_PEInaa9XTRS"
      },
      "outputs": [],
      "source": [
        "class Animal:\n",
        "    def __init__(self, name):\n",
        "        self.name = name\n",
        "\n",
        "    def speak(self):\n",
        "        raise NotImplementedError(\"Subclass must implement abstract method\") # 실질적으로 구현할때 직접 만들어!"
      ]
    },
    {
      "cell_type": "code",
      "source": [
        "\n",
        "class Dog(Animal):\n",
        "    # def speak(self):\n",
        "    #     return f\"{self.name} 는 왈왈!\"\n",
        "    pass"
      ],
      "metadata": {
        "id": "zMc7VysThZ-I"
      },
      "execution_count": null,
      "outputs": []
    },
    {
      "cell_type": "code",
      "source": [
        "dog = Dog(\"강아지\")"
      ],
      "metadata": {
        "id": "kvBOHXjMiiro"
      },
      "execution_count": null,
      "outputs": []
    },
    {
      "cell_type": "code",
      "source": [
        "dog.speak()"
      ],
      "metadata": {
        "colab": {
          "base_uri": "https://localhost:8080/",
          "height": 234
        },
        "id": "Yhs3EMBvi2A2",
        "outputId": "34885c33-4d28-49fb-d48e-9e345fa1df73"
      },
      "execution_count": null,
      "outputs": [
        {
          "output_type": "error",
          "ename": "RuntimeError",
          "evalue": "No active exception to reraise",
          "traceback": [
            "\u001b[0;31m---------------------------------------------------------------------------\u001b[0m",
            "\u001b[0;31mRuntimeError\u001b[0m                              Traceback (most recent call last)",
            "\u001b[0;32m<ipython-input-22-35a36b50d121>\u001b[0m in \u001b[0;36m<cell line: 1>\u001b[0;34m()\u001b[0m\n\u001b[0;32m----> 1\u001b[0;31m \u001b[0mdog\u001b[0m\u001b[0;34m.\u001b[0m\u001b[0mspeak\u001b[0m\u001b[0;34m(\u001b[0m\u001b[0;34m)\u001b[0m\u001b[0;34m\u001b[0m\u001b[0;34m\u001b[0m\u001b[0m\n\u001b[0m",
            "\u001b[0;32m<ipython-input-19-7b64e2ef889f>\u001b[0m in \u001b[0;36mspeak\u001b[0;34m(self)\u001b[0m\n\u001b[1;32m      4\u001b[0m \u001b[0;34m\u001b[0m\u001b[0m\n\u001b[1;32m      5\u001b[0m     \u001b[0;32mdef\u001b[0m \u001b[0mspeak\u001b[0m\u001b[0;34m(\u001b[0m\u001b[0mself\u001b[0m\u001b[0;34m)\u001b[0m\u001b[0;34m:\u001b[0m\u001b[0;34m\u001b[0m\u001b[0;34m\u001b[0m\u001b[0m\n\u001b[0;32m----> 6\u001b[0;31m         \u001b[0;32mraise\u001b[0m \u001b[0;31m# NotImplementedError(\"Subclass must implement abstract method\") # 실질적으로 구현할때 직접 만들어!\u001b[0m\u001b[0;34m\u001b[0m\u001b[0;34m\u001b[0m\u001b[0m\n\u001b[0m",
            "\u001b[0;31mRuntimeError\u001b[0m: No active exception to reraise"
          ]
        }
      ]
    },
    {
      "cell_type": "markdown",
      "source": [
        "상속 예제 - 재벌집 막내아들"
      ],
      "metadata": {
        "id": "7bH-EUeimXjI"
      }
    },
    {
      "cell_type": "code",
      "source": [
        "class 회장:\n",
        "  def __init__(self, name):\n",
        "    self.company = \"SKT\"\n",
        "    self.name = name\n",
        "    self.money = 1000000000\n",
        "  def earn_money(self):\n",
        "    raise NotImplementedError(\"네가 사업 아이템을 만들지 않으면, 내 자식이 아니다!!\")\n",
        "  def spend_money(self,item, amount):\n",
        "    print(f\"{self.name}가 {item}에 {amount}를 썼습니다.\")\n",
        "    self.money -= amount"
      ],
      "metadata": {
        "id": "s4i4YtJ0mONQ"
      },
      "execution_count": null,
      "outputs": []
    },
    {
      "cell_type": "code",
      "source": [
        "이성민 = 회장(\"SK회장\")"
      ],
      "metadata": {
        "id": "g-XptGX5oyhj"
      },
      "execution_count": null,
      "outputs": []
    },
    {
      "cell_type": "code",
      "source": [
        "이성민.spend_money(\"초밥\", 50000)"
      ],
      "metadata": {
        "colab": {
          "base_uri": "https://localhost:8080/"
        },
        "id": "6LHpJjhbo39h",
        "outputId": "f2a75b3b-c014-4d2e-d7d7-cd17b83a5e8e"
      },
      "execution_count": null,
      "outputs": [
        {
          "output_type": "stream",
          "name": "stdout",
          "text": [
            "SK회장가 초밥에 50000를 썼습니다.\n"
          ]
        }
      ]
    },
    {
      "cell_type": "code",
      "source": [
        "이성민.money"
      ],
      "metadata": {
        "colab": {
          "base_uri": "https://localhost:8080/"
        },
        "id": "3T8Yqv7No9DM",
        "outputId": "dd2c5132-8873-4248-c12a-41b8e9347b27"
      },
      "execution_count": null,
      "outputs": [
        {
          "output_type": "execute_result",
          "data": {
            "text/plain": [
              "999950000"
            ]
          },
          "metadata": {},
          "execution_count": 62
        }
      ]
    },
    {
      "cell_type": "code",
      "source": [
        "class 손자(회장):\n",
        "  def __init__(self, name, 인맥):\n",
        "     super().__init__(name)\n",
        "     self.인맥 = 인맥\n",
        "  def earn_money(self):\n",
        "     print(\"반도체 사업 진행\")\n",
        "  def 연애사업():\n",
        "    print(\"데이트를 한다.\")"
      ],
      "metadata": {
        "id": "xvHmcqwCpCs2"
      },
      "execution_count": null,
      "outputs": []
    },
    {
      "cell_type": "code",
      "source": [
        "송준기 = 손자(\"도주이\")"
      ],
      "metadata": {
        "id": "ZlPF0t4FpG_g"
      },
      "execution_count": null,
      "outputs": []
    },
    {
      "cell_type": "code",
      "source": [
        "송준기.company"
      ],
      "metadata": {
        "colab": {
          "base_uri": "https://localhost:8080/",
          "height": 35
        },
        "id": "d8rQxsMTpLOk",
        "outputId": "14ef2151-08da-4ba7-e46c-ff1710016e9c"
      },
      "execution_count": null,
      "outputs": [
        {
          "output_type": "execute_result",
          "data": {
            "text/plain": [
              "'순양'"
            ],
            "application/vnd.google.colaboratory.intrinsic+json": {
              "type": "string"
            }
          },
          "metadata": {},
          "execution_count": 56
        }
      ]
    },
    {
      "cell_type": "code",
      "source": [
        "송준기.spend_money(\"Airbnb\", 5000000)"
      ],
      "metadata": {
        "colab": {
          "base_uri": "https://localhost:8080/"
        },
        "id": "H5-5wJBapNsQ",
        "outputId": "dc3f484e-d375-4011-dfc5-b97f5e9173a6"
      },
      "execution_count": null,
      "outputs": [
        {
          "output_type": "stream",
          "name": "stdout",
          "text": [
            "도주이가 Airbnb에 5000000를 썼습니다.\n"
          ]
        }
      ]
    },
    {
      "cell_type": "code",
      "source": [
        "송준기.earn_money()"
      ],
      "metadata": {
        "colab": {
          "base_uri": "https://localhost:8080/"
        },
        "id": "j-JXbC6spWrZ",
        "outputId": "eb1a7ffb-4320-4cca-e93a-55a3243737c4"
      },
      "execution_count": null,
      "outputs": [
        {
          "output_type": "stream",
          "name": "stdout",
          "text": [
            "반도체 사업 진행\n"
          ]
        }
      ]
    },
    {
      "cell_type": "code",
      "source": [
        "class Base1:\n",
        "    def __init__(self):\n",
        "        print(\"Base1의 __init__ 실행\")\n",
        "        super().__init__()\n",
        "    def hello(self):\n",
        "      print(\"Base1 hello\")\n",
        "\n",
        "class Base2:\n",
        "    def __init__(self):\n",
        "        print(\"Base2의 __init__ 실행\")\n",
        "        super().__init__()\n",
        "    def hello(self):\n",
        "      print(\"Base2 hello\")\n",
        "\n",
        "class Child(Base1, Base2):\n",
        "    def __init__(self):\n",
        "        print(\"Child의 __init__ 실행\")\n",
        "        super().__init__()\n",
        "\n",
        "child = Child()\n",
        "# 부모 클래스에서 super().__init__() 호출 안했을때\n",
        "# Child의 __init__ 실행\n",
        "# Base1의 __init__ 실행\n",
        "# 부모 클래스에서 super().__init__() 호출 했을때\n",
        "# Child의 __init__ 실행\n",
        "# Base1의 __init__ 실행\n",
        "# Base2의 __init__ 실행"
      ],
      "metadata": {
        "colab": {
          "base_uri": "https://localhost:8080/"
        },
        "id": "8nNCoCZrpjff",
        "outputId": "ca387622-b922-4426-fb31-a1c3cda84675"
      },
      "execution_count": null,
      "outputs": [
        {
          "output_type": "stream",
          "name": "stdout",
          "text": [
            "Child의 __init__ 실행\n",
            "Base1의 __init__ 실행\n",
            "Base2의 __init__ 실행\n"
          ]
        }
      ]
    },
    {
      "cell_type": "code",
      "source": [
        "child.hello()"
      ],
      "metadata": {
        "colab": {
          "base_uri": "https://localhost:8080/"
        },
        "id": "vvQn9_7hsHWY",
        "outputId": "243ce266-2574-492e-eb8f-57238b8ccd6c"
      },
      "execution_count": null,
      "outputs": [
        {
          "output_type": "stream",
          "name": "stdout",
          "text": [
            "Base1 hello\n"
          ]
        }
      ]
    },
    {
      "cell_type": "markdown",
      "source": [
        "### 문제 1: **직사각형 클래스**\n",
        "\n",
        "- 직사각형의 가로와 세로 길이를 속성으로 가지는 `Rectangle` 클래스를 만드세요.\n",
        "- 이 클래스에는 두 가지 메서드를 작성하세요:\n",
        "    - `area()`: 직사각형의 면적을 반환하는 메서드.\n",
        "    - `perimeter()`: 직사각형의 둘레를 반환하는 메서드."
      ],
      "metadata": {
        "id": "JchfBPZ1tX-j"
      }
    },
    {
      "cell_type": "code",
      "source": [
        "# 주석\n",
        "class Rectangle:\n",
        "  def __init__(self, width, height):\n",
        "     self.width = width\n",
        "     self.height = height\n",
        "  def area(self):\n",
        "    return self.width*self.height\n",
        "  def perimeter(self):\n",
        "    return 2*(self.width+self.height)"
      ],
      "metadata": {
        "id": "KY0Kyg3LtYlk"
      },
      "execution_count": null,
      "outputs": []
    },
    {
      "cell_type": "code",
      "source": [
        "rec = Rectangle(10,11)"
      ],
      "metadata": {
        "id": "VEWjcvext5PI"
      },
      "execution_count": null,
      "outputs": []
    },
    {
      "cell_type": "code",
      "source": [
        "rec.perimeter()"
      ],
      "metadata": {
        "colab": {
          "base_uri": "https://localhost:8080/"
        },
        "id": "0rnbSMdIt_FO",
        "outputId": "d1e608e9-c396-4575-e06c-26fa3c88a9ff"
      },
      "execution_count": null,
      "outputs": [
        {
          "output_type": "execute_result",
          "data": {
            "text/plain": [
              "42"
            ]
          },
          "metadata": {},
          "execution_count": 79
        }
      ]
    },
    {
      "cell_type": "markdown",
      "source": [
        "# class 연습문제 풀기\n",
        "- 11:10 까지\n",
        "- 디스코드에 완료여부 체크해 주세요"
      ],
      "metadata": {
        "id": "TLv1DcknuiKx"
      }
    },
    {
      "cell_type": "markdown",
      "source": [
        "클래스\n",
        "- 클래스 만드는 방법\n",
        "- init 함수\n",
        "- 클래스에서 변수를 정의하는 방법\n",
        "- 클래스에서 함수(메서드)를 정의하는 방법\n",
        "- 클래스를 인스턴스(객체)로 만드는 방법\n",
        "- 클래스에서 변수를 확인하는 방법\n",
        "- 클래스에서 메서드를 사용하는 방법"
      ],
      "metadata": {
        "id": "Eh54Xcd615g8"
      }
    },
    {
      "cell_type": "code",
      "source": [
        "# class를 만드는 방법 - class 키워드를 사용한다\n",
        "class 이름:\n",
        "  pass"
      ],
      "metadata": {
        "id": "SOIg6Gfaupzz"
      },
      "execution_count": null,
      "outputs": []
    },
    {
      "cell_type": "code",
      "source": [
        "# init 함수 - 인스턴스 생성시에 호출되는 함수. 기본적인 인스턴스의 초기화(변수 세팅 등)\n",
        "# self를 주의하자\n",
        "class A:\n",
        "  def __init__(self):\n",
        "    pass"
      ],
      "metadata": {
        "id": "1QBMKZZa2Qsi"
      },
      "execution_count": null,
      "outputs": []
    },
    {
      "cell_type": "code",
      "source": [
        "# 클래스를 인스턴스(객체)로 만드는 방법\n",
        "# class는 설계도(자동차등의 설계도), 인스턴스 객체(실제 자동차)는 현실에 구현된 실체\n",
        "a = A()"
      ],
      "metadata": {
        "id": "PWWgVr3Z2n8m"
      },
      "execution_count": null,
      "outputs": []
    },
    {
      "cell_type": "code",
      "source": [
        "a"
      ],
      "metadata": {
        "colab": {
          "base_uri": "https://localhost:8080/"
        },
        "id": "tEMhPX9k3FXX",
        "outputId": "277d3c06-1b09-48c4-9614-8a839598dfa7"
      },
      "execution_count": null,
      "outputs": [
        {
          "output_type": "execute_result",
          "data": {
            "text/plain": [
              "<__main__.A at 0x7fbaf2829030>"
            ]
          },
          "metadata": {},
          "execution_count": 86
        }
      ]
    },
    {
      "cell_type": "code",
      "source": [
        "# 현실 예시\n",
        "class 개발자:\n",
        "  def __init__(self):\n",
        "    print(\"파이썬을 익힌다\")\n",
        "    print(\"기업에 취직한다\")\n",
        "    print(\"프로젝트에 참여한다\")"
      ],
      "metadata": {
        "id": "7kH5z3g33SUA"
      },
      "execution_count": null,
      "outputs": []
    },
    {
      "cell_type": "code",
      "source": [
        "dev1 = 개발자()"
      ],
      "metadata": {
        "colab": {
          "base_uri": "https://localhost:8080/"
        },
        "id": "bC8o5neJ3ugu",
        "outputId": "22b3ab35-012a-4555-e7b9-d3be3f4f814c"
      },
      "execution_count": null,
      "outputs": [
        {
          "output_type": "stream",
          "name": "stdout",
          "text": [
            "파이썬을 익힌다\n",
            "기업에 취직한다\n",
            "프로젝트에 참여한다\n"
          ]
        }
      ]
    },
    {
      "cell_type": "code",
      "source": [
        "# 클래스를 안쓰고 변수를 정의하는 방법\n",
        "x = 1\n",
        "print(x)"
      ],
      "metadata": {
        "colab": {
          "base_uri": "https://localhost:8080/"
        },
        "id": "mdREmQrk327l",
        "outputId": "b1883b88-dc19-466c-ff23-03c479e1d228"
      },
      "execution_count": null,
      "outputs": [
        {
          "output_type": "stream",
          "name": "stdout",
          "text": [
            "1\n"
          ]
        }
      ]
    },
    {
      "cell_type": "code",
      "source": [
        "x=\"hello\"\n",
        "y = x\n",
        "y"
      ],
      "metadata": {
        "colab": {
          "base_uri": "https://localhost:8080/",
          "height": 35
        },
        "id": "Yh9DjX6q4QGA",
        "outputId": "90b84009-675e-4c15-fb28-0ba8fec8b5bf"
      },
      "execution_count": null,
      "outputs": [
        {
          "output_type": "execute_result",
          "data": {
            "text/plain": [
              "'hello'"
            ],
            "application/vnd.google.colaboratory.intrinsic+json": {
              "type": "string"
            }
          },
          "metadata": {},
          "execution_count": 93
        }
      ]
    },
    {
      "cell_type": "code",
      "source": [
        "def demo(x):\n",
        "  project_name = x\n",
        "  print(f\"{project_name}을 진행한다\")"
      ],
      "metadata": {
        "id": "OssTvjK54S8P"
      },
      "execution_count": null,
      "outputs": []
    },
    {
      "cell_type": "code",
      "source": [
        "demo(\"스마트팜 프로젝트\")"
      ],
      "metadata": {
        "colab": {
          "base_uri": "https://localhost:8080/"
        },
        "id": "AzxoK3jy4fix",
        "outputId": "1b36e6e2-2b57-400f-8929-3ec0b47fef01"
      },
      "execution_count": null,
      "outputs": [
        {
          "output_type": "stream",
          "name": "stdout",
          "text": [
            "스마트팜 프로젝트을 진행한다\n"
          ]
        }
      ]
    },
    {
      "cell_type": "markdown",
      "source": [
        "### 문제 2: **학생 관리 시스템**\n",
        "\n",
        "- `Student` 클래스를 작성하세요. 이 클래스는 학생의 이름과 성적을 속성으로 가집니다.\n",
        "- 성적은 리스트 형태로 저장되며, `add_grade()` 메서드를 통해 성적을 추가할 수 있습니다.\n",
        "- `average()` 메서드를 통해 평균 성적을 계산하고 반환하는 기능을 구현하세요."
      ],
      "metadata": {
        "id": "W_njLGLh5ghd"
      }
    },
    {
      "cell_type": "code",
      "source": [
        "# 생성할 때(init함수가 호출될 때) 학생 이름과 성적을 바로 받을건가? yes\n",
        "class Student:\n",
        "  def __init__(self, name, score):\n",
        "    self.name = name\n",
        "    self.score = score"
      ],
      "metadata": {
        "id": "6wREbT1X4iY5"
      },
      "execution_count": null,
      "outputs": []
    },
    {
      "cell_type": "code",
      "source": [
        "s1 = Student(\"도준이\", 100)"
      ],
      "metadata": {
        "id": "AP-xZN3R5nTq"
      },
      "execution_count": null,
      "outputs": []
    },
    {
      "cell_type": "code",
      "source": [
        "s1.score"
      ],
      "metadata": {
        "colab": {
          "base_uri": "https://localhost:8080/"
        },
        "id": "YhIM5GM46NyN",
        "outputId": "ddf9e86c-0e67-4dbe-9d65-9166db882d56"
      },
      "execution_count": null,
      "outputs": [
        {
          "output_type": "execute_result",
          "data": {
            "text/plain": [
              "100"
            ]
          },
          "metadata": {},
          "execution_count": 106
        }
      ]
    },
    {
      "cell_type": "code",
      "source": [
        "# 생성할 때(init함수가 호출될 때) 학생 이름과 성적을 바로 받을건가? no -> 미리 설정\n",
        "class Student:\n",
        "  def __init__(self):\n",
        "    self.name = \"도준이\"\n",
        "    self.score = 100"
      ],
      "metadata": {
        "id": "HDGglWnu6c-c"
      },
      "execution_count": null,
      "outputs": []
    },
    {
      "cell_type": "code",
      "source": [
        "s2 = Student()"
      ],
      "metadata": {
        "id": "a8ian8xV6kKr"
      },
      "execution_count": null,
      "outputs": []
    },
    {
      "cell_type": "code",
      "source": [
        "s2.name, s2.score"
      ],
      "metadata": {
        "colab": {
          "base_uri": "https://localhost:8080/"
        },
        "id": "RFy1j_aE6oU3",
        "outputId": "ff7fe253-b661-4c21-b1a8-083369ff19e2"
      },
      "execution_count": null,
      "outputs": [
        {
          "output_type": "execute_result",
          "data": {
            "text/plain": [
              "('도준이', 100)"
            ]
          },
          "metadata": {},
          "execution_count": 109
        }
      ]
    },
    {
      "cell_type": "code",
      "source": [
        "s2.name = \"lion\""
      ],
      "metadata": {
        "id": "AitNcZKJ6tnD"
      },
      "execution_count": null,
      "outputs": []
    },
    {
      "cell_type": "code",
      "source": [
        "s2.name"
      ],
      "metadata": {
        "colab": {
          "base_uri": "https://localhost:8080/",
          "height": 35
        },
        "id": "NuTUYso06xwJ",
        "outputId": "286db029-932b-4f50-ca4f-65edb2736c7b"
      },
      "execution_count": null,
      "outputs": [
        {
          "output_type": "execute_result",
          "data": {
            "text/plain": [
              "'lion'"
            ],
            "application/vnd.google.colaboratory.intrinsic+json": {
              "type": "string"
            }
          },
          "metadata": {},
          "execution_count": 111
        }
      ]
    },
    {
      "cell_type": "markdown",
      "source": [
        "- Student 클래스를 작성하세요. 이 클래스는 학생의 이름과 성적을 속성으로 가집니다.\n",
        "- 성적은 리스트 형태로 저장되며, add_grade() 메서드를 통해 성적을 추가할 수 있습니다.\n",
        "- average() 메서드를 통해 평균 성적을 계산하고 반환하는 기능을 구현하세요."
      ],
      "metadata": {
        "id": "LMNLResT6-op"
      }
    },
    {
      "cell_type": "code",
      "source": [
        "class Student:\n",
        "  def __init__(self, name, score=None):\n",
        "    self.name = name\n",
        "    # 초기값이 들어오면 score로 전달하고, 아니면 리스트로 초기화한다\n",
        "    \"\"\"\n",
        "    if score is not None:\n",
        "      self.score = score\n",
        "    else:\n",
        "      self.score = []\n",
        "    \"\"\"\n",
        "    # 한줄로 만들면\n",
        "    self.score = score if score is not None else []\n",
        "  def add_grade(self, new_score): # 새로운 점수를 받아야 겠네\n",
        "    # 이전의 점수 리스트에 추가해야 겠네\n",
        "    self.score.append(new_score)\n",
        "    # return\n",
        "\n",
        "  # 점수의 평균을 구해야 되네\n",
        "  # 뭐가 필요하지???\n",
        "  def average(self):\n",
        "    avg = sum(self.score)/len(self.score)\n",
        "    return avg"
      ],
      "metadata": {
        "id": "mzoKCvMM7Ax6"
      },
      "execution_count": null,
      "outputs": []
    },
    {
      "cell_type": "code",
      "source": [
        "s3 = Student(\"tiger\")"
      ],
      "metadata": {
        "id": "R7Qmyk8G8vor"
      },
      "execution_count": null,
      "outputs": []
    },
    {
      "cell_type": "code",
      "source": [
        "s3.add_grade(45)\n",
        "s3.add_grade(61)\n",
        "s3.add_grade(78)"
      ],
      "metadata": {
        "id": "2-PMH5k68_Wu"
      },
      "execution_count": null,
      "outputs": []
    },
    {
      "cell_type": "code",
      "source": [
        "s3.average()"
      ],
      "metadata": {
        "colab": {
          "base_uri": "https://localhost:8080/"
        },
        "id": "7YTZE_kR9EJ2",
        "outputId": "0054f3c7-5d56-43b3-c739-8c009173d7fd"
      },
      "execution_count": null,
      "outputs": [
        {
          "output_type": "execute_result",
          "data": {
            "text/plain": [
              "61.333333333333336"
            ]
          },
          "metadata": {},
          "execution_count": 126
        }
      ]
    },
    {
      "cell_type": "code",
      "source": [
        "a = [1,2,3,4,5]\n",
        "sum(a)/len(a)"
      ],
      "metadata": {
        "colab": {
          "base_uri": "https://localhost:8080/"
        },
        "id": "5AFzzOZv-EBb",
        "outputId": "8d8ada00-3e94-4918-8cac-fcf5af05adc4"
      },
      "execution_count": null,
      "outputs": [
        {
          "output_type": "execute_result",
          "data": {
            "text/plain": [
              "3.0"
            ]
          },
          "metadata": {},
          "execution_count": 122
        }
      ]
    },
    {
      "cell_type": "markdown",
      "source": [
        "# 프렌차이즈"
      ],
      "metadata": {
        "id": "xnTbZW4DSA7_"
      }
    },
    {
      "cell_type": "code",
      "source": [
        "# 프렌차이즈 대표\n",
        "# 설정 구상 - 지역, 구분(직영, 대형, 소형).....\n",
        "# 이런 설정을 기본값을 줘서 할 건지, 아니면 고객이 사업한다고 하면 그때 세팅할 건지..."
      ],
      "metadata": {
        "id": "uzL6YmSNSHnT"
      },
      "execution_count": null,
      "outputs": []
    },
    {
      "cell_type": "code",
      "source": [
        "class 가맹점1:\n",
        "  def __init__(self):\n",
        "    self.region=\"서울\"\n",
        "    self.division=\"직영\""
      ],
      "metadata": {
        "id": "pHhARaf6-K0M"
      },
      "execution_count": null,
      "outputs": []
    },
    {
      "cell_type": "code",
      "source": [
        "a = 가맹점1()"
      ],
      "metadata": {
        "id": "UjJbHsVcTXHQ"
      },
      "execution_count": null,
      "outputs": []
    },
    {
      "cell_type": "code",
      "source": [
        "a.region"
      ],
      "metadata": {
        "colab": {
          "base_uri": "https://localhost:8080/",
          "height": 35
        },
        "id": "b796ybrQTav3",
        "outputId": "a9d1e09d-e18c-478b-b71a-adde5dac4aae"
      },
      "execution_count": null,
      "outputs": [
        {
          "output_type": "execute_result",
          "data": {
            "text/plain": [
              "'서울'"
            ],
            "application/vnd.google.colaboratory.intrinsic+json": {
              "type": "string"
            }
          },
          "metadata": {},
          "execution_count": 132
        }
      ]
    },
    {
      "cell_type": "code",
      "source": [
        "a.division"
      ],
      "metadata": {
        "colab": {
          "base_uri": "https://localhost:8080/",
          "height": 35
        },
        "id": "YVB2nfXTTh1V",
        "outputId": "577d081d-ad0c-419a-961d-1cc7bc47f8ea"
      },
      "execution_count": null,
      "outputs": [
        {
          "output_type": "execute_result",
          "data": {
            "text/plain": [
              "'직영'"
            ],
            "application/vnd.google.colaboratory.intrinsic+json": {
              "type": "string"
            }
          },
          "metadata": {},
          "execution_count": 133
        }
      ]
    },
    {
      "cell_type": "code",
      "source": [
        "class 가맹점2: # 가맹점 접수 받을때 지역과 구분을 넣어야 돼\n",
        "  def __init__(self,region, division ):\n",
        "    self.region=region\n",
        "    self.division=division\n",
        "\n",
        "  def 장사하기(self):\n",
        "    print(\"장사가 잘 된다\")\n",
        "\n",
        "  def 고객판매(self, guest): # 어떤 고객에게 판매한다\n",
        "    print(f\"{guest}에게 판매를 한다\")"
      ],
      "metadata": {
        "id": "i-sScBmwTmbC"
      },
      "execution_count": null,
      "outputs": []
    },
    {
      "cell_type": "code",
      "source": [
        "b = 가맹점2(region=\"제주도\", division=\"대형\")"
      ],
      "metadata": {
        "id": "JKSYh4CPT7HX"
      },
      "execution_count": null,
      "outputs": []
    },
    {
      "cell_type": "code",
      "source": [
        "b.고객판매(\"일론머스크\")"
      ],
      "metadata": {
        "colab": {
          "base_uri": "https://localhost:8080/"
        },
        "id": "aD8rAbcKUH9l",
        "outputId": "a8e8ebc0-a939-47cd-a2cd-218162ffd001"
      },
      "execution_count": null,
      "outputs": [
        {
          "output_type": "stream",
          "name": "stdout",
          "text": [
            "일론머스크에게 판매를 한다\n"
          ]
        }
      ]
    },
    {
      "cell_type": "code",
      "source": [
        "# class 멋사벡엔드개발자 (부모)\n",
        "# class 신입개발자 <- 멋사백엔드개발자가 신입개발자로 되는거 (자식)"
      ],
      "metadata": {
        "id": "KCD9gCklY4UO"
      },
      "execution_count": null,
      "outputs": []
    },
    {
      "cell_type": "code",
      "source": [
        "class 멋사백엔드개발자:\n",
        "  def __init__(self, name, skills = None):\n",
        "    self.name = name\n",
        "    self.skills = skills\n",
        "    self.협업 = True\n",
        "  def study(self, skill):\n",
        "    self.skills.append(skill)"
      ],
      "metadata": {
        "id": "-2orqx2iZK-d"
      },
      "execution_count": null,
      "outputs": []
    },
    {
      "cell_type": "code",
      "source": [
        "lion = 멋사백엔드개발자(name = \"lion\", skills = []) # 처음 배우는 훈련생\n",
        "tiger = 멋사백엔드개발자(name=\"tiger\", skills = [\"linux\", \"JAVA\", \"html\", \"C\"]) # 경력 2년차 훈련생"
      ],
      "metadata": {
        "id": "TDlKKJJLZl_Q"
      },
      "execution_count": null,
      "outputs": []
    },
    {
      "cell_type": "code",
      "source": [
        "lion.study(\"python\")"
      ],
      "metadata": {
        "id": "WgEvYFsIaP3r"
      },
      "execution_count": null,
      "outputs": []
    },
    {
      "cell_type": "code",
      "source": [
        "lion.skills"
      ],
      "metadata": {
        "colab": {
          "base_uri": "https://localhost:8080/"
        },
        "id": "ESanQHSBaSXJ",
        "outputId": "617bcabc-8fc7-41f7-d7d4-8b30a3d130d3"
      },
      "execution_count": null,
      "outputs": [
        {
          "output_type": "execute_result",
          "data": {
            "text/plain": [
              "['상속', 'python']"
            ]
          },
          "metadata": {},
          "execution_count": 151
        }
      ]
    },
    {
      "cell_type": "code",
      "source": [
        "class naver신입개발자(멋사백엔드개발자):\n",
        "  def 검색엔진개발(self):\n",
        "    print(\"네이버는 검색이야\")\n",
        "class kakao신입개발자(멋사백엔드개발자):\n",
        "  def 카카오톡개발(self):\n",
        "    print(\"카톡 개발 담당합니다.\")"
      ],
      "metadata": {
        "id": "UhCL73mGaZkF"
      },
      "execution_count": null,
      "outputs": []
    },
    {
      "cell_type": "code",
      "source": [
        "naver1 = naver신입개발자(name = \"lion\", skills = [\"python\",\"django\",\"cloud\"])\n",
        "naver2 = kakao신입개발자(name = \"tiger\", skills = [\"python\",\"django\",\"cloud\"])"
      ],
      "metadata": {
        "id": "o-Vqwn1eakGb"
      },
      "execution_count": null,
      "outputs": []
    },
    {
      "cell_type": "code",
      "source": [
        "naver1.study(\"비즈니스\")"
      ],
      "metadata": {
        "id": "qTO7udOmazie"
      },
      "execution_count": null,
      "outputs": []
    },
    {
      "cell_type": "code",
      "source": [
        "naver1.skills"
      ],
      "metadata": {
        "colab": {
          "base_uri": "https://localhost:8080/"
        },
        "id": "u0sfo8BFa1YA",
        "outputId": "f14a3703-4132-45cd-f612-62b3e5439aaa"
      },
      "execution_count": null,
      "outputs": [
        {
          "output_type": "execute_result",
          "data": {
            "text/plain": [
              "['python', 'django', 'cloud', '비즈니스']"
            ]
          },
          "metadata": {},
          "execution_count": 161
        }
      ]
    },
    {
      "cell_type": "markdown",
      "source": [
        "static method"
      ],
      "metadata": {
        "id": "kegA38wfbudt"
      }
    },
    {
      "cell_type": "code",
      "source": [
        "class Math:\n",
        "    def add(x, y):\n",
        "        return x + y\n",
        "    def multiply(x, y):\n",
        "        return x * y"
      ],
      "metadata": {
        "id": "YtK3QHZibxbc"
      },
      "execution_count": null,
      "outputs": []
    },
    {
      "cell_type": "code",
      "source": [
        "print(Math.add(5, 7))  # 12\n",
        "print(Math.multiply(3, 4))  # 12"
      ],
      "metadata": {
        "colab": {
          "base_uri": "https://localhost:8080/"
        },
        "id": "_MWR8hZmfyzg",
        "outputId": "f4697b30-94da-4106-8f9c-a0866677e4fc"
      },
      "execution_count": null,
      "outputs": [
        {
          "output_type": "stream",
          "name": "stdout",
          "text": [
            "12\n",
            "12\n"
          ]
        }
      ]
    },
    {
      "cell_type": "code",
      "source": [
        "class MathOperations:\n",
        "    pi = 3.14\n",
        "\n",
        "    @staticmethod\n",
        "    def add(x, y):\n",
        "        return x + y\n",
        "\n",
        "    @classmethod\n",
        "    def circle_area(cls, radius):\n",
        "        return cls.pi * radius ** 2\n",
        "\n",
        "# 사용 예\n",
        "print(MathOperations.add(5, 3))  # 출력: 8\n",
        "print(MathOperations.circle_area(5))  # 출력: 78.5\n"
      ],
      "metadata": {
        "colab": {
          "base_uri": "https://localhost:8080/"
        },
        "id": "d20vlkUTgOl-",
        "outputId": "e4baf2ae-d19c-4410-ace7-2acf3c7a0ae9"
      },
      "execution_count": null,
      "outputs": [
        {
          "output_type": "stream",
          "name": "stdout",
          "text": [
            "8\n",
            "78.5\n"
          ]
        }
      ]
    },
    {
      "cell_type": "code",
      "source": [
        "class Temperature:\n",
        "    def __init__(self, celsius):\n",
        "        self._celsius = celsius\n",
        "\n",
        "    @property\n",
        "    def celsius(self):\n",
        "        return self._celsius\n",
        "\n",
        "    @celsius.setter\n",
        "    def celsius(self, value):\n",
        "        if value < -273.15:\n",
        "            raise ValueError(\"Temperature below -273.15 is not possible\")\n",
        "        self._celsius = value\n",
        "\n",
        "# 사용자는 직접 _celsius에 접근할 수 없으며,\n",
        "# 프로퍼티를 통해 검증된 데이터만 설정할 수 있습니다.\n",
        "temp = Temperature(25)\n",
        "# temp.celsius = -300  # ValueError 발생"
      ],
      "metadata": {
        "id": "cAMjBDKjiGy8"
      },
      "execution_count": null,
      "outputs": []
    },
    {
      "cell_type": "code",
      "source": [
        "# 인스턴스의 변수 불러오는 형태 a.변수명\n",
        "# 인스턴스에서 메서드를 호출하는 형태 a.메서드명()\n",
        "temp.celsius=-200"
      ],
      "metadata": {
        "id": "KZoMZMuMiYvP"
      },
      "execution_count": null,
      "outputs": []
    },
    {
      "cell_type": "code",
      "source": [
        "temp._celsius"
      ],
      "metadata": {
        "colab": {
          "base_uri": "https://localhost:8080/"
        },
        "id": "dzFRbWQSjnKy",
        "outputId": "8eada26f-583b-4e18-d962-de25387e64af"
      },
      "execution_count": null,
      "outputs": [
        {
          "output_type": "execute_result",
          "data": {
            "text/plain": [
              "123"
            ]
          },
          "metadata": {},
          "execution_count": 31
        }
      ]
    },
    {
      "cell_type": "markdown",
      "source": [
        "매직 메서드"
      ],
      "metadata": {
        "id": "15FYbEv1kx8M"
      }
    },
    {
      "cell_type": "code",
      "source": [
        "class A:\n",
        "  def __init__(self) -> None:\n",
        "     self.name = \"도준이\"\n",
        "  def __str__(self):\n",
        "    return self.name+\"는 재벌집막내아들이다\"\n",
        "  def __repr__(self):\n",
        "    return \"world\""
      ],
      "metadata": {
        "id": "ebMoNmdvkp7Q"
      },
      "execution_count": null,
      "outputs": []
    },
    {
      "cell_type": "code",
      "source": [
        "a = A()"
      ],
      "metadata": {
        "id": "vnqMqEE6kvzx"
      },
      "execution_count": null,
      "outputs": []
    },
    {
      "cell_type": "code",
      "source": [
        "print(a)"
      ],
      "metadata": {
        "colab": {
          "base_uri": "https://localhost:8080/"
        },
        "id": "ElVW0xB5kw_l",
        "outputId": "b402f060-3b16-4bac-a57d-56b0b8ca283c"
      },
      "execution_count": null,
      "outputs": [
        {
          "output_type": "stream",
          "name": "stdout",
          "text": [
            "도준이는 재벌집막내아들이다\n"
          ]
        }
      ]
    },
    {
      "cell_type": "code",
      "source": [
        "print(a)"
      ],
      "metadata": {
        "colab": {
          "base_uri": "https://localhost:8080/"
        },
        "id": "6kqwkcgHk2sQ",
        "outputId": "d8d4e723-df11-4c7b-ac33-6e9409afba8e"
      },
      "execution_count": null,
      "outputs": [
        {
          "output_type": "stream",
          "name": "stdout",
          "text": [
            "hello\n"
          ]
        }
      ]
    },
    {
      "cell_type": "code",
      "source": [
        "class NewInt:\n",
        "  def __init__(self, num):\n",
        "    self.num = num\n",
        "  def __add__(self, other):\n",
        "    return self.num + other.num*2\n",
        "  def __str__(self):\n",
        "    return str(self.num*1000)"
      ],
      "metadata": {
        "id": "BnvsT05-lvIM"
      },
      "execution_count": null,
      "outputs": []
    },
    {
      "cell_type": "code",
      "source": [
        "a = NewInt(1)\n",
        "b = NewInt(2)"
      ],
      "metadata": {
        "id": "59V0P8cPnD9M"
      },
      "execution_count": null,
      "outputs": []
    },
    {
      "cell_type": "code",
      "source": [
        "a.num, b.num"
      ],
      "metadata": {
        "colab": {
          "base_uri": "https://localhost:8080/"
        },
        "id": "9wAyLzvVnH94",
        "outputId": "fa49f89a-72bf-4b1f-a8d9-2a720ac0972d"
      },
      "execution_count": null,
      "outputs": [
        {
          "output_type": "execute_result",
          "data": {
            "text/plain": [
              "(1, 2)"
            ]
          },
          "metadata": {},
          "execution_count": 58
        }
      ]
    },
    {
      "cell_type": "code",
      "source": [
        "print(a)"
      ],
      "metadata": {
        "colab": {
          "base_uri": "https://localhost:8080/"
        },
        "id": "OtA1XeobnKZK",
        "outputId": "c30c208a-02ca-4995-d9f4-121389eddf9b"
      },
      "execution_count": null,
      "outputs": [
        {
          "output_type": "stream",
          "name": "stdout",
          "text": [
            "1000\n"
          ]
        }
      ]
    },
    {
      "cell_type": "code",
      "source": [
        "import unittest\n",
        "import pytest"
      ],
      "metadata": {
        "id": "dPbwtkhUnLSX"
      },
      "execution_count": null,
      "outputs": []
    },
    {
      "cell_type": "markdown",
      "source": [
        "## TestCode\n",
        "- pytest 어떻게 설치하나 : pip install pytest\n",
        "- 어떻게 테스트 코드를 작성하나 : ....\n",
        "- 어떻게 테스트를 수행하나 : 터미널에 pytest"
      ],
      "metadata": {
        "id": "voUhMz5K0Yp7"
      }
    },
    {
      "cell_type": "code",
      "source": [],
      "metadata": {
        "id": "lnIxrR3t0kMV"
      },
      "execution_count": null,
      "outputs": []
    }
  ]
}